{
 "cells": [
  {
   "cell_type": "markdown",
   "metadata": {},
   "source": [
    "#  Определение выгодного тарифа для телеком компании"
   ]
  },
  {
   "cell_type": "markdown",
   "metadata": {},
   "source": [
    "На основе данных клиентов оператора сотовой связи проанализировать поведение клиентов и поиск оптимального тарифа "
   ]
  },
  {
   "cell_type": "code",
   "execution_count": 1,
   "metadata": {},
   "outputs": [],
   "source": [
    "import pandas as pd\n",
    "import numpy as np\n",
    "from scipy import stats as st\n",
    "import matplotlib.pyplot as plt\n",
    "from datetime import datetime"
   ]
  },
  {
   "cell_type": "markdown",
   "metadata": {},
   "source": [
    "## Загрузка данных"
   ]
  },
  {
   "cell_type": "markdown",
   "metadata": {},
   "source": [
    "### Таблица users (информация о пользователях):\n",
    "- user_id — уникальный идентификатор пользователя\n",
    "- first_name — имя пользователя\n",
    "- last_name — фамилия пользователя\n",
    "- age — возраст пользователя (годы)\n",
    "- reg_date — дата подключения тарифа (день, месяц, год)\n",
    "- churn_date — дата прекращения пользования тарифом (если значение пропущено, то тариф ещё действовал на момент выгрузки данных)\n",
    "- city — город проживания пользователя\n",
    "- tarif — название тарифного плана"
   ]
  },
  {
   "cell_type": "code",
   "execution_count": 2,
   "metadata": {},
   "outputs": [],
   "source": [
    "users_df = pd.read_csv('/datasets/users.csv')"
   ]
  },
  {
   "cell_type": "markdown",
   "metadata": {},
   "source": [
    "### Таблица calls (информация о звонках):\n",
    "- id — уникальный номер звонка\n",
    "- call_date — дата звонка\n",
    "- duration — длительность звонка в минутах\n",
    "- user_id — идентификатор пользователя, сделавшего звонок"
   ]
  },
  {
   "cell_type": "code",
   "execution_count": 3,
   "metadata": {},
   "outputs": [],
   "source": [
    "calls_df = pd.read_csv('/datasets/calls.csv')"
   ]
  },
  {
   "cell_type": "markdown",
   "metadata": {},
   "source": [
    "### Таблица messages (информация о сообщениях):\n",
    "- id — уникальный номер сообщения\n",
    "- message_date — дата сообщения\n",
    "- user_id — идентификатор пользователя, отправившего сообщение"
   ]
  },
  {
   "cell_type": "code",
   "execution_count": 4,
   "metadata": {},
   "outputs": [],
   "source": [
    "messages_df = pd.read_csv('/datasets/messages.csv')"
   ]
  },
  {
   "cell_type": "markdown",
   "metadata": {},
   "source": [
    "### Таблица internet (информация об интернет-сессиях):\n",
    "- id — уникальный номер сессии\n",
    "- mb_used — объём потраченного за сессию интернет-трафика (в мегабайтах)\n",
    "- session_date — дата интернет-сессии\n",
    "- user_id — идентификатор пользователя"
   ]
  },
  {
   "cell_type": "code",
   "execution_count": 5,
   "metadata": {},
   "outputs": [],
   "source": [
    "internet_df = pd.read_csv('/datasets/internet.csv')"
   ]
  },
  {
   "cell_type": "markdown",
   "metadata": {},
   "source": [
    "### Таблица tariffs (информация о тарифах):\n",
    "- tariff_name — название тарифа\n",
    "- rub_monthly_fee — ежемесячная абонентская плата в рублях\n",
    "- minutes_included — количество минут разговора в месяц, включённых в абонентскую плату\n",
    "- messages_included — количество сообщений в месяц, включённых в абонентскую плату\n",
    "- mb_per_month_included — объём интернет-трафика, включённого в абонентскую плату (в мегабайтах)\n",
    "- rub_per_minute — стоимость минуты разговора сверх тарифного пакета (например, если в тарифе 100 минут разговора в месяц, то со 101 минуты будет взиматься плата)\n",
    "- rub_per_message — стоимость отправки сообщения сверх тарифного пакета\n",
    "- rub_per_gb — стоимость дополнительного гигабайта интернет-трафика сверх тарифного пакета (1 гигабайт = 1024 мегабайта)"
   ]
  },
  {
   "cell_type": "code",
   "execution_count": 6,
   "metadata": {},
   "outputs": [],
   "source": [
    "tariffs_df = pd.read_csv('/datasets/tariffs.csv')"
   ]
  },
  {
   "cell_type": "markdown",
   "metadata": {},
   "source": [
    "## Подготовка данных"
   ]
  },
  {
   "cell_type": "markdown",
   "metadata": {},
   "source": [
    "### Общий анализ типов данных и пропусков"
   ]
  },
  {
   "cell_type": "markdown",
   "metadata": {},
   "source": [
    "#### Пользователи"
   ]
  },
  {
   "cell_type": "code",
   "execution_count": 7,
   "metadata": {},
   "outputs": [
    {
     "name": "stdout",
     "output_type": "stream",
     "text": [
      "<class 'pandas.core.frame.DataFrame'>\n",
      "RangeIndex: 500 entries, 0 to 499\n",
      "Data columns (total 8 columns):\n",
      "user_id       500 non-null int64\n",
      "age           500 non-null int64\n",
      "churn_date    38 non-null object\n",
      "city          500 non-null object\n",
      "first_name    500 non-null object\n",
      "last_name     500 non-null object\n",
      "reg_date      500 non-null object\n",
      "tariff        500 non-null object\n",
      "dtypes: int64(2), object(6)\n",
      "memory usage: 31.4+ KB\n"
     ]
    }
   ],
   "source": [
    "users_df.info()"
   ]
  },
  {
   "cell_type": "code",
   "execution_count": 8,
   "metadata": {},
   "outputs": [
    {
     "data": {
      "text/plain": [
       "array([1000, 1001, 1002, 1003, 1004, 1005, 1006, 1007, 1008, 1009])"
      ]
     },
     "execution_count": 8,
     "metadata": {},
     "output_type": "execute_result"
    }
   ],
   "source": [
    "users_df['user_id'].unique()[:10]"
   ]
  },
  {
   "cell_type": "code",
   "execution_count": 9,
   "metadata": {
    "scrolled": true
   },
   "outputs": [
    {
     "data": {
      "text/plain": [
       "array([52, 41, 59, 23, 68, 67, 21, 65, 63, 24, 26, 44, 38, 36, 64, 58, 73,\n",
       "       71, 61, 72, 42, 56, 32, 62, 20, 51, 28, 66, 31, 37, 47, 40, 69, 48,\n",
       "       33, 39, 43, 46, 45, 55, 53, 34, 49, 25, 18, 70, 50, 19, 54, 60, 29,\n",
       "       27, 74, 22, 30, 75, 57, 35])"
      ]
     },
     "execution_count": 9,
     "metadata": {},
     "output_type": "execute_result"
    }
   ],
   "source": [
    "users_df['age'].unique()"
   ]
  },
  {
   "cell_type": "code",
   "execution_count": 10,
   "metadata": {},
   "outputs": [
    {
     "data": {
      "text/plain": [
       "array([nan, '2018-10-05', '2018-12-18', '2018-11-21', '2018-10-03',\n",
       "       '2018-10-14', '2018-12-09', '2018-12-11', '2018-12-26',\n",
       "       '2018-08-31'], dtype=object)"
      ]
     },
     "execution_count": 10,
     "metadata": {},
     "output_type": "execute_result"
    }
   ],
   "source": [
    "users_df['churn_date'].unique()[:10]"
   ]
  },
  {
   "cell_type": "code",
   "execution_count": 11,
   "metadata": {},
   "outputs": [
    {
     "data": {
      "text/plain": [
       "array(['Краснодар', 'Москва', 'Стерлитамак', 'Новокузнецк',\n",
       "       'Набережные Челны', 'Ульяновск', 'Челябинск', 'Пермь', 'Тюмень',\n",
       "       'Самара', 'Санкт-Петербург', 'Иваново', 'Чебоксары', 'Омск', 'Уфа',\n",
       "       'Томск', 'Чита', 'Мурманск', 'Петрозаводск', 'Тверь',\n",
       "       'Екатеринбург', 'Махачкала', 'Вологда', 'Череповец', 'Ярославль',\n",
       "       'Сочи', 'Хабаровск', 'Ставрополь', 'Рязань', 'Улан-Удэ', 'Тула',\n",
       "       'Саратов', 'Ростов-на-Дону', 'Казань', 'Иркутск', 'Курск',\n",
       "       'Калуга', 'Якутск', 'Астрахань', 'Химки', 'Владикавказ',\n",
       "       'Волгоград', 'Саранск', 'Ижевск', 'Новосибирск', 'Брянск',\n",
       "       'Тольятти', 'Нижний Тагил', 'Орёл', 'Белгород', 'Воронеж',\n",
       "       'Волжский', 'Курган', 'Барнаул', 'Красноярск', 'Архангельск',\n",
       "       'Липецк', 'Кемерово', 'Киров', 'Сургут', 'Пенза', 'Магнитогорск',\n",
       "       'Нижний Новгород', 'Кострома', 'Владивосток', 'Тамбов', 'Балашиха',\n",
       "       'Севастополь', 'Калининград', 'Оренбург', 'Смоленск',\n",
       "       'Нижневартовск', 'Владимир', 'Новороссийск', 'Грозный', 'Подольск'],\n",
       "      dtype=object)"
      ]
     },
     "execution_count": 11,
     "metadata": {},
     "output_type": "execute_result"
    }
   ],
   "source": [
    "users_df['city'].unique()"
   ]
  },
  {
   "cell_type": "code",
   "execution_count": 12,
   "metadata": {},
   "outputs": [
    {
     "data": {
      "text/plain": [
       "array(['2018-05-25', '2018-11-01', '2018-06-17', '2018-08-17',\n",
       "       '2018-05-14', '2018-01-25', '2018-02-26', '2018-04-19',\n",
       "       '2018-12-19', '2018-03-22'], dtype=object)"
      ]
     },
     "execution_count": 12,
     "metadata": {},
     "output_type": "execute_result"
    }
   ],
   "source": [
    "users_df['reg_date'].unique()[:10]"
   ]
  },
  {
   "cell_type": "code",
   "execution_count": 13,
   "metadata": {
    "scrolled": true
   },
   "outputs": [
    {
     "data": {
      "text/plain": [
       "array(['ultra', 'smart'], dtype=object)"
      ]
     },
     "execution_count": 13,
     "metadata": {},
     "output_type": "execute_result"
    }
   ],
   "source": [
    "users_df['tariff'].unique()"
   ]
  },
  {
   "cell_type": "markdown",
   "metadata": {},
   "source": [
    "***Вывод***\n",
    "- Поля reg_date и  churn_date нужно преобразовать к типу datetime для удобства работы"
   ]
  },
  {
   "cell_type": "markdown",
   "metadata": {},
   "source": [
    "#### Звонки"
   ]
  },
  {
   "cell_type": "code",
   "execution_count": 14,
   "metadata": {
    "scrolled": false
   },
   "outputs": [
    {
     "name": "stdout",
     "output_type": "stream",
     "text": [
      "<class 'pandas.core.frame.DataFrame'>\n",
      "RangeIndex: 202607 entries, 0 to 202606\n",
      "Data columns (total 4 columns):\n",
      "id           202607 non-null object\n",
      "call_date    202607 non-null object\n",
      "duration     202607 non-null float64\n",
      "user_id      202607 non-null int64\n",
      "dtypes: float64(1), int64(1), object(2)\n",
      "memory usage: 6.2+ MB\n"
     ]
    }
   ],
   "source": [
    "calls_df.info()"
   ]
  },
  {
   "cell_type": "code",
   "execution_count": 15,
   "metadata": {},
   "outputs": [
    {
     "data": {
      "text/plain": [
       "array([1000, 1001, 1002, 1003, 1004, 1005, 1006, 1007, 1008, 1009])"
      ]
     },
     "execution_count": 15,
     "metadata": {},
     "output_type": "execute_result"
    }
   ],
   "source": [
    "calls_df['user_id'].unique()[:10]"
   ]
  },
  {
   "cell_type": "code",
   "execution_count": 16,
   "metadata": {
    "scrolled": true
   },
   "outputs": [
    {
     "data": {
      "text/plain": [
       "array(['2018-07-25', '2018-08-17', '2018-06-11', '2018-09-21',\n",
       "       '2018-12-15', '2018-11-02', '2018-10-18', '2018-08-22',\n",
       "       '2018-09-15', '2018-08-15'], dtype=object)"
      ]
     },
     "execution_count": 16,
     "metadata": {},
     "output_type": "execute_result"
    }
   ],
   "source": [
    "calls_df['call_date'].unique()[:10]"
   ]
  },
  {
   "cell_type": "code",
   "execution_count": 17,
   "metadata": {},
   "outputs": [
    {
     "data": {
      "text/plain": [
       "count    202607.000000\n",
       "mean          6.755887\n",
       "std           5.843365\n",
       "min           0.000000\n",
       "25%           1.300000\n",
       "50%           6.000000\n",
       "75%          10.700000\n",
       "max          38.000000\n",
       "Name: duration, dtype: float64"
      ]
     },
     "execution_count": 17,
     "metadata": {},
     "output_type": "execute_result"
    }
   ],
   "source": [
    "calls_df['duration'].describe()"
   ]
  },
  {
   "cell_type": "markdown",
   "metadata": {},
   "source": [
    "***Вывод***\n",
    "- Нулевые длительности звонков не являются ошибкой\n",
    "- Нужно преобразование call_date к datetime "
   ]
  },
  {
   "cell_type": "markdown",
   "metadata": {},
   "source": [
    "#### Сообщения"
   ]
  },
  {
   "cell_type": "code",
   "execution_count": 18,
   "metadata": {},
   "outputs": [
    {
     "name": "stdout",
     "output_type": "stream",
     "text": [
      "<class 'pandas.core.frame.DataFrame'>\n",
      "RangeIndex: 123036 entries, 0 to 123035\n",
      "Data columns (total 3 columns):\n",
      "id              123036 non-null object\n",
      "message_date    123036 non-null object\n",
      "user_id         123036 non-null int64\n",
      "dtypes: int64(1), object(2)\n",
      "memory usage: 2.8+ MB\n"
     ]
    }
   ],
   "source": [
    "messages_df.info()"
   ]
  },
  {
   "cell_type": "code",
   "execution_count": 19,
   "metadata": {
    "scrolled": true
   },
   "outputs": [
    {
     "data": {
      "text/plain": [
       "array(['2018-06-27', '2018-10-08', '2018-08-04', '2018-06-16',\n",
       "       '2018-12-05', '2018-06-20', '2018-11-19', '2018-10-29',\n",
       "       '2018-06-25', '2018-12-18'], dtype=object)"
      ]
     },
     "execution_count": 19,
     "metadata": {},
     "output_type": "execute_result"
    }
   ],
   "source": [
    "messages_df['message_date'].unique()[:10]"
   ]
  },
  {
   "cell_type": "markdown",
   "metadata": {},
   "source": [
    "***Вывод***\n",
    "- Нужно преобразование message_date к datetime\n",
    "- Нужно удалить пустые строки"
   ]
  },
  {
   "cell_type": "markdown",
   "metadata": {},
   "source": [
    "#### Интернет-трафик"
   ]
  },
  {
   "cell_type": "code",
   "execution_count": 20,
   "metadata": {
    "scrolled": false
   },
   "outputs": [
    {
     "name": "stdout",
     "output_type": "stream",
     "text": [
      "<class 'pandas.core.frame.DataFrame'>\n",
      "RangeIndex: 149396 entries, 0 to 149395\n",
      "Data columns (total 5 columns):\n",
      "Unnamed: 0      149396 non-null int64\n",
      "id              149396 non-null object\n",
      "mb_used         149396 non-null float64\n",
      "session_date    149396 non-null object\n",
      "user_id         149396 non-null int64\n",
      "dtypes: float64(1), int64(2), object(2)\n",
      "memory usage: 5.7+ MB\n"
     ]
    }
   ],
   "source": [
    "internet_df.info()"
   ]
  },
  {
   "cell_type": "code",
   "execution_count": 21,
   "metadata": {},
   "outputs": [
    {
     "data": {
      "text/plain": [
       "array([     0,      1,      2, ..., 149393, 149394, 149395])"
      ]
     },
     "execution_count": 21,
     "metadata": {},
     "output_type": "execute_result"
    }
   ],
   "source": [
    "internet_df['Unnamed: 0'].unique()"
   ]
  },
  {
   "cell_type": "code",
   "execution_count": 22,
   "metadata": {
    "scrolled": true
   },
   "outputs": [
    {
     "data": {
      "text/plain": [
       "0.00      19598\n",
       "197.56        9\n",
       "447.30        9\n",
       "335.91        9\n",
       "108.95        8\n",
       "          ...  \n",
       "72.49         1\n",
       "846.22        1\n",
       "429.17        1\n",
       "899.03        1\n",
       "483.87        1\n",
       "Name: mb_used, Length: 70003, dtype: int64"
      ]
     },
     "execution_count": 22,
     "metadata": {},
     "output_type": "execute_result"
    }
   ],
   "source": [
    "internet_df['mb_used'].value_counts()"
   ]
  },
  {
   "cell_type": "code",
   "execution_count": 23,
   "metadata": {
    "scrolled": true
   },
   "outputs": [
    {
     "data": {
      "text/plain": [
       "array(['2018-11-25', '2018-09-07', '2018-06-25', '2018-08-22',\n",
       "       '2018-09-24', '2018-10-02', '2018-07-11', '2018-10-08',\n",
       "       '2018-09-03', '2018-09-27'], dtype=object)"
      ]
     },
     "execution_count": 23,
     "metadata": {},
     "output_type": "execute_result"
    }
   ],
   "source": [
    "internet_df['session_date'].unique()[:10]"
   ]
  },
  {
   "cell_type": "markdown",
   "metadata": {},
   "source": [
    "***Вывод***\n",
    "- Нужно преобразование session_date к datetime\n",
    "- Много нулей в объеме трафика mb_used. Нулевой трафик можно удалить\n",
    "- Колонка Unnamed: 0, судя по всему, является предыдущим индексом. Ее можно удалить."
   ]
  },
  {
   "cell_type": "markdown",
   "metadata": {},
   "source": [
    "#### Тарифы"
   ]
  },
  {
   "cell_type": "code",
   "execution_count": 24,
   "metadata": {},
   "outputs": [
    {
     "name": "stdout",
     "output_type": "stream",
     "text": [
      "<class 'pandas.core.frame.DataFrame'>\n",
      "RangeIndex: 2 entries, 0 to 1\n",
      "Data columns (total 8 columns):\n",
      "messages_included        2 non-null int64\n",
      "mb_per_month_included    2 non-null int64\n",
      "minutes_included         2 non-null int64\n",
      "rub_monthly_fee          2 non-null int64\n",
      "rub_per_gb               2 non-null int64\n",
      "rub_per_message          2 non-null int64\n",
      "rub_per_minute           2 non-null int64\n",
      "tariff_name              2 non-null object\n",
      "dtypes: int64(7), object(1)\n",
      "memory usage: 256.0+ bytes\n"
     ]
    }
   ],
   "source": [
    "tariffs_df.info()"
   ]
  },
  {
   "cell_type": "code",
   "execution_count": 25,
   "metadata": {
    "scrolled": true
   },
   "outputs": [
    {
     "data": {
      "text/html": [
       "<div>\n",
       "<style scoped>\n",
       "    .dataframe tbody tr th:only-of-type {\n",
       "        vertical-align: middle;\n",
       "    }\n",
       "\n",
       "    .dataframe tbody tr th {\n",
       "        vertical-align: top;\n",
       "    }\n",
       "\n",
       "    .dataframe thead th {\n",
       "        text-align: right;\n",
       "    }\n",
       "</style>\n",
       "<table border=\"1\" class=\"dataframe\">\n",
       "  <thead>\n",
       "    <tr style=\"text-align: right;\">\n",
       "      <th></th>\n",
       "      <th>messages_included</th>\n",
       "      <th>mb_per_month_included</th>\n",
       "      <th>minutes_included</th>\n",
       "      <th>rub_monthly_fee</th>\n",
       "      <th>rub_per_gb</th>\n",
       "      <th>rub_per_message</th>\n",
       "      <th>rub_per_minute</th>\n",
       "      <th>tariff_name</th>\n",
       "    </tr>\n",
       "  </thead>\n",
       "  <tbody>\n",
       "    <tr>\n",
       "      <td>0</td>\n",
       "      <td>50</td>\n",
       "      <td>15360</td>\n",
       "      <td>500</td>\n",
       "      <td>550</td>\n",
       "      <td>200</td>\n",
       "      <td>3</td>\n",
       "      <td>3</td>\n",
       "      <td>smart</td>\n",
       "    </tr>\n",
       "    <tr>\n",
       "      <td>1</td>\n",
       "      <td>1000</td>\n",
       "      <td>30720</td>\n",
       "      <td>3000</td>\n",
       "      <td>1950</td>\n",
       "      <td>150</td>\n",
       "      <td>1</td>\n",
       "      <td>1</td>\n",
       "      <td>ultra</td>\n",
       "    </tr>\n",
       "  </tbody>\n",
       "</table>\n",
       "</div>"
      ],
      "text/plain": [
       "   messages_included  mb_per_month_included  minutes_included  \\\n",
       "0                 50                  15360               500   \n",
       "1               1000                  30720              3000   \n",
       "\n",
       "   rub_monthly_fee  rub_per_gb  rub_per_message  rub_per_minute tariff_name  \n",
       "0              550         200                3               3       smart  \n",
       "1             1950         150                1               1       ultra  "
      ]
     },
     "execution_count": 25,
     "metadata": {},
     "output_type": "execute_result"
    }
   ],
   "source": [
    "tariffs_df"
   ]
  },
  {
   "cell_type": "markdown",
   "metadata": {},
   "source": [
    "***Вывод***\n",
    "- Преобразований не требуется"
   ]
  },
  {
   "cell_type": "markdown",
   "metadata": {},
   "source": [
    "### Приведение к нужным типам и исправление данных "
   ]
  },
  {
   "cell_type": "code",
   "execution_count": 26,
   "metadata": {},
   "outputs": [],
   "source": [
    "# Пользователи: Поля ref_date и churn_date нужно преобразовать к типу datetime для удобства работы\n",
    "users_df['reg_date'] = pd.to_datetime(users_df['reg_date'])\n",
    "users_df['churn_date'] = pd.to_datetime(users_df['churn_date'])"
   ]
  },
  {
   "cell_type": "code",
   "execution_count": 27,
   "metadata": {},
   "outputs": [],
   "source": [
    "# Пользователи:churn_date для пустых значений заполняем 31 декабря 2018 года (максимальной датой)\n",
    "users_df['churn_date'] = users_df['churn_date'].fillna(users_df['churn_date'].max())"
   ]
  },
  {
   "cell_type": "code",
   "execution_count": 28,
   "metadata": {},
   "outputs": [],
   "source": [
    "# Звонки: Нужно преобразование call_date к datetime\n",
    "calls_df['call_date'] = pd.to_datetime(calls_df['call_date'])"
   ]
  },
  {
   "cell_type": "code",
   "execution_count": 29,
   "metadata": {},
   "outputs": [],
   "source": [
    "# Сообщения: Нужно преобразование message_date к datetime\n",
    "messages_df['message_date'] = pd.to_datetime(messages_df['message_date'])"
   ]
  },
  {
   "cell_type": "code",
   "execution_count": 30,
   "metadata": {},
   "outputs": [],
   "source": [
    "# Интернет трафик: Нужно преобразование session_date к datetime\n",
    "internet_df['session_date'] = pd.to_datetime(internet_df['session_date'])"
   ]
  },
  {
   "cell_type": "code",
   "execution_count": 31,
   "metadata": {},
   "outputs": [],
   "source": [
    "# Интернет трафик: Много нулей в объеме трафика. Нулевой трафик можно удалить\n",
    "internet_df = internet_df.query('mb_used > 0')"
   ]
  },
  {
   "cell_type": "code",
   "execution_count": 32,
   "metadata": {},
   "outputs": [],
   "source": [
    "# Интернет трафик: Колонка Unnamed: 0, судя по всему, является предыдущим индексом. Ее можно удалить\n",
    "internet_df = internet_df.drop(columns=['Unnamed: 0'])"
   ]
  },
  {
   "cell_type": "markdown",
   "metadata": {},
   "source": [
    "### Дополнительные вычисления"
   ]
  },
  {
   "cell_type": "markdown",
   "metadata": {},
   "source": [
    "#### Количество сделанных звонков и израсходованных минут разговора по месяцам;\n"
   ]
  },
  {
   "cell_type": "code",
   "execution_count": 33,
   "metadata": {},
   "outputs": [],
   "source": [
    "# Вычисляем год и месяц\n",
    "calls_df['call_year'] = calls_df['call_date'].dt.year\n",
    "calls_df['call_month'] = calls_df['call_date'].dt.month"
   ]
  },
  {
   "cell_type": "code",
   "execution_count": 34,
   "metadata": {},
   "outputs": [],
   "source": [
    "# Укругляем вверх до целых значений\n",
    "calls_df['duration'] = calls_df['duration'].apply('ceil')"
   ]
  },
  {
   "cell_type": "code",
   "execution_count": 35,
   "metadata": {},
   "outputs": [
    {
     "data": {
      "text/html": [
       "<div>\n",
       "<style scoped>\n",
       "    .dataframe tbody tr th:only-of-type {\n",
       "        vertical-align: middle;\n",
       "    }\n",
       "\n",
       "    .dataframe tbody tr th {\n",
       "        vertical-align: top;\n",
       "    }\n",
       "\n",
       "    .dataframe thead th {\n",
       "        text-align: right;\n",
       "    }\n",
       "</style>\n",
       "<table border=\"1\" class=\"dataframe\">\n",
       "  <thead>\n",
       "    <tr style=\"text-align: right;\">\n",
       "      <th></th>\n",
       "      <th></th>\n",
       "      <th>calls_count</th>\n",
       "      <th>calls_min</th>\n",
       "    </tr>\n",
       "    <tr>\n",
       "      <th>user_id</th>\n",
       "      <th>month</th>\n",
       "      <th></th>\n",
       "      <th></th>\n",
       "    </tr>\n",
       "  </thead>\n",
       "  <tbody>\n",
       "    <tr>\n",
       "      <td rowspan=\"5\" valign=\"top\">1000</td>\n",
       "      <td>5</td>\n",
       "      <td>22</td>\n",
       "      <td>159.0</td>\n",
       "    </tr>\n",
       "    <tr>\n",
       "      <td>6</td>\n",
       "      <td>43</td>\n",
       "      <td>172.0</td>\n",
       "    </tr>\n",
       "    <tr>\n",
       "      <td>7</td>\n",
       "      <td>47</td>\n",
       "      <td>340.0</td>\n",
       "    </tr>\n",
       "    <tr>\n",
       "      <td>8</td>\n",
       "      <td>52</td>\n",
       "      <td>408.0</td>\n",
       "    </tr>\n",
       "    <tr>\n",
       "      <td>9</td>\n",
       "      <td>58</td>\n",
       "      <td>466.0</td>\n",
       "    </tr>\n",
       "  </tbody>\n",
       "</table>\n",
       "</div>"
      ],
      "text/plain": [
       "               calls_count  calls_min\n",
       "user_id month                        \n",
       "1000    5               22      159.0\n",
       "        6               43      172.0\n",
       "        7               47      340.0\n",
       "        8               52      408.0\n",
       "        9               58      466.0"
      ]
     },
     "execution_count": 35,
     "metadata": {},
     "output_type": "execute_result"
    }
   ],
   "source": [
    "user_month_calls = calls_df.groupby(['user_id', 'call_month'])['duration'].agg(['count', 'sum'])\n",
    "user_month_calls.index.set_names(['user_id', 'month'], inplace=True)\n",
    "user_month_calls.rename(columns={'count': 'calls_count', 'sum': 'calls_min'}, inplace=True)\n",
    "user_month_calls.head()"
   ]
  },
  {
   "cell_type": "markdown",
   "metadata": {},
   "source": [
    "#### Количество отправленных сообщений по месяцам;\n"
   ]
  },
  {
   "cell_type": "code",
   "execution_count": 36,
   "metadata": {},
   "outputs": [],
   "source": [
    "# Вычисляем год и месяц\n",
    "messages_df['message_year'] = messages_df['message_date'].dt.year\n",
    "messages_df['message_month'] = messages_df['message_date'].dt.month"
   ]
  },
  {
   "cell_type": "code",
   "execution_count": 37,
   "metadata": {
    "scrolled": true
   },
   "outputs": [
    {
     "data": {
      "text/html": [
       "<div>\n",
       "<style scoped>\n",
       "    .dataframe tbody tr th:only-of-type {\n",
       "        vertical-align: middle;\n",
       "    }\n",
       "\n",
       "    .dataframe tbody tr th {\n",
       "        vertical-align: top;\n",
       "    }\n",
       "\n",
       "    .dataframe thead th {\n",
       "        text-align: right;\n",
       "    }\n",
       "</style>\n",
       "<table border=\"1\" class=\"dataframe\">\n",
       "  <thead>\n",
       "    <tr style=\"text-align: right;\">\n",
       "      <th></th>\n",
       "      <th></th>\n",
       "      <th>message_count</th>\n",
       "    </tr>\n",
       "    <tr>\n",
       "      <th>user_id</th>\n",
       "      <th>month</th>\n",
       "      <th></th>\n",
       "    </tr>\n",
       "  </thead>\n",
       "  <tbody>\n",
       "    <tr>\n",
       "      <td rowspan=\"5\" valign=\"top\">1000</td>\n",
       "      <td>5</td>\n",
       "      <td>22</td>\n",
       "    </tr>\n",
       "    <tr>\n",
       "      <td>6</td>\n",
       "      <td>60</td>\n",
       "    </tr>\n",
       "    <tr>\n",
       "      <td>7</td>\n",
       "      <td>75</td>\n",
       "    </tr>\n",
       "    <tr>\n",
       "      <td>8</td>\n",
       "      <td>81</td>\n",
       "    </tr>\n",
       "    <tr>\n",
       "      <td>9</td>\n",
       "      <td>57</td>\n",
       "    </tr>\n",
       "  </tbody>\n",
       "</table>\n",
       "</div>"
      ],
      "text/plain": [
       "               message_count\n",
       "user_id month               \n",
       "1000    5                 22\n",
       "        6                 60\n",
       "        7                 75\n",
       "        8                 81\n",
       "        9                 57"
      ]
     },
     "execution_count": 37,
     "metadata": {},
     "output_type": "execute_result"
    }
   ],
   "source": [
    "user_month_messages = messages_df.groupby(['user_id', 'message_month'])['id'].agg(['count'])\n",
    "user_month_messages.index.set_names(['user_id', 'month'], inplace=True)\n",
    "user_month_messages.rename(columns={'count': 'message_count'}, inplace=True)\n",
    "user_month_messages.head()"
   ]
  },
  {
   "cell_type": "markdown",
   "metadata": {},
   "source": [
    "#### Объем израсходованного интернет-трафика по месяцам;\n"
   ]
  },
  {
   "cell_type": "code",
   "execution_count": 38,
   "metadata": {},
   "outputs": [],
   "source": [
    "# Вычисляем год и месяц\n",
    "internet_df['session_year'] = internet_df['session_date'].dt.year\n",
    "internet_df['session_month'] = internet_df['session_date'].dt.month"
   ]
  },
  {
   "cell_type": "code",
   "execution_count": 39,
   "metadata": {},
   "outputs": [
    {
     "data": {
      "text/html": [
       "<div>\n",
       "<style scoped>\n",
       "    .dataframe tbody tr th:only-of-type {\n",
       "        vertical-align: middle;\n",
       "    }\n",
       "\n",
       "    .dataframe tbody tr th {\n",
       "        vertical-align: top;\n",
       "    }\n",
       "\n",
       "    .dataframe thead th {\n",
       "        text-align: right;\n",
       "    }\n",
       "</style>\n",
       "<table border=\"1\" class=\"dataframe\">\n",
       "  <thead>\n",
       "    <tr style=\"text-align: right;\">\n",
       "      <th></th>\n",
       "      <th></th>\n",
       "      <th>internet_mb</th>\n",
       "    </tr>\n",
       "    <tr>\n",
       "      <th>user_id</th>\n",
       "      <th>month</th>\n",
       "      <th></th>\n",
       "    </tr>\n",
       "  </thead>\n",
       "  <tbody>\n",
       "    <tr>\n",
       "      <td rowspan=\"5\" valign=\"top\">1000</td>\n",
       "      <td>5</td>\n",
       "      <td>2253.49</td>\n",
       "    </tr>\n",
       "    <tr>\n",
       "      <td>6</td>\n",
       "      <td>23233.77</td>\n",
       "    </tr>\n",
       "    <tr>\n",
       "      <td>7</td>\n",
       "      <td>14003.64</td>\n",
       "    </tr>\n",
       "    <tr>\n",
       "      <td>8</td>\n",
       "      <td>14055.93</td>\n",
       "    </tr>\n",
       "    <tr>\n",
       "      <td>9</td>\n",
       "      <td>14568.91</td>\n",
       "    </tr>\n",
       "  </tbody>\n",
       "</table>\n",
       "</div>"
      ],
      "text/plain": [
       "               internet_mb\n",
       "user_id month             \n",
       "1000    5          2253.49\n",
       "        6         23233.77\n",
       "        7         14003.64\n",
       "        8         14055.93\n",
       "        9         14568.91"
      ]
     },
     "execution_count": 39,
     "metadata": {},
     "output_type": "execute_result"
    }
   ],
   "source": [
    "user_month_internet = internet_df.groupby(['user_id', 'session_month'])['mb_used'].agg(['sum'])\n",
    "user_month_internet.index.set_names(['user_id', 'month'], inplace=True)\n",
    "user_month_internet.rename(columns={'sum': 'internet_mb'}, inplace=True)\n",
    "user_month_internet.head()"
   ]
  },
  {
   "cell_type": "markdown",
   "metadata": {},
   "source": [
    "#### Помесячную выручку с каждого пользователя\n",
    "(вычтите бесплатный лимит из суммарного количества звонков, сообщений и интернет-трафика; остаток умножьте на значение из тарифного плана; прибавьте абонентскую плату, соответствующую тарифному плану)."
   ]
  },
  {
   "cell_type": "code",
   "execution_count": 40,
   "metadata": {},
   "outputs": [
    {
     "data": {
      "text/plain": [
       "3216"
      ]
     },
     "execution_count": 40,
     "metadata": {},
     "output_type": "execute_result"
    }
   ],
   "source": [
    "# Рассчитываем активный период пользования пользователя по месяцам\n",
    "users_df['reg_year'] = users_df['reg_date'].dt.year\n",
    "users_df['reg_month'] = users_df['reg_date'].dt.month\n",
    "users_df['churn_year'] = users_df['churn_date'].dt.month\n",
    "users_df['churn_month'] = users_df['churn_date'].dt.month\n",
    "\n",
    "users_tariff_month = pd.DataFrame([ (user_id, month, tariff)\n",
    "                for (user_id, start_month, end_month, tariff), _ in users_df.groupby(['user_id', 'reg_month', 'churn_month', 'tariff'])\n",
    "                for month in range(int(start_month), int(end_month)+1)\n",
    "                    ], columns=['user_id', 'month', 'tariff_name'] )\n",
    "# Добавляем информацию о тарифе  \n",
    "users_tariff_month = users_tariff_month.merge(tariffs_df, on='tariff_name')\n",
    "len(users_tariff_month)"
   ]
  },
  {
   "cell_type": "code",
   "execution_count": 41,
   "metadata": {
    "scrolled": false
   },
   "outputs": [
    {
     "data": {
      "text/plain": [
       "3214"
      ]
     },
     "execution_count": 41,
     "metadata": {},
     "output_type": "execute_result"
    }
   ],
   "source": [
    "# Объединяем данные по месяцу и пользователю\n",
    "user_month_stat = (\n",
    "    user_month_calls.join([user_month_messages, user_month_internet], how='outer')\n",
    "                    .reset_index()\n",
    "                    .merge(users_tariff_month, on=('user_id', 'month'))\n",
    ")\n",
    "\n",
    "len(user_month_stat)"
   ]
  },
  {
   "cell_type": "code",
   "execution_count": 42,
   "metadata": {},
   "outputs": [],
   "source": [
    "# Заполняем 0 пропуски\n",
    "user_month_stat = user_month_stat.fillna(0)"
   ]
  },
  {
   "cell_type": "code",
   "execution_count": 43,
   "metadata": {},
   "outputs": [],
   "source": [
    "# Рассчитываем количество дополнительных минут к оплате (за рамками пакета)\n",
    "user_month_stat['extra_min'] = (user_month_stat['calls_min'] - user_month_stat['minutes_included']).apply(np.ceil)\n",
    "# Если пакет не превышен - присваиваем 0 минут\n",
    "user_month_stat.loc[user_month_stat['extra_min'] < 0, 'extra_min'] = 0"
   ]
  },
  {
   "cell_type": "code",
   "execution_count": 44,
   "metadata": {},
   "outputs": [],
   "source": [
    "# Рассчитываем количество дополнительных ГБ\n",
    "user_month_stat['extra_mb'] = (user_month_stat['internet_mb'] - user_month_stat['mb_per_month_included']).apply(np.ceil)\n",
    "# Если пакет не превышен - присваиваем 0 минут\n",
    "user_month_stat.loc[user_month_stat['extra_mb'] < 0, 'extra_mb'] = 0\n",
    "# Переводим в Гб и округляем до большего\n",
    "user_month_stat['extra_gb'] = (user_month_stat['extra_mb']/1000).apply(np.ceil)"
   ]
  },
  {
   "cell_type": "code",
   "execution_count": 45,
   "metadata": {},
   "outputs": [],
   "source": [
    "# Рассчитываем количество дополнительных сообщений\n",
    "user_month_stat['extra_messages'] = (user_month_stat['message_count'] - user_month_stat['messages_included']).apply(np.ceil)\n",
    "# Если пакет не превышен - присваиваем 0 минут\n",
    "user_month_stat.loc[user_month_stat['extra_messages'] < 0, 'extra_messages'] = 0"
   ]
  },
  {
   "cell_type": "code",
   "execution_count": 46,
   "metadata": {},
   "outputs": [],
   "source": [
    "# Рассчитываем доход\n",
    "user_month_stat['profit'] = (\n",
    "                user_month_stat['rub_monthly_fee']   + \n",
    "                user_month_stat['extra_min']*user_month_stat['rub_per_minute'] + \n",
    "                user_month_stat['extra_gb']*user_month_stat['rub_per_gb'] + \n",
    "                user_month_stat['extra_messages']*user_month_stat['rub_per_message']\n",
    "    )"
   ]
  },
  {
   "cell_type": "code",
   "execution_count": 47,
   "metadata": {
    "scrolled": true
   },
   "outputs": [
    {
     "data": {
      "text/plain": [
       "<matplotlib.axes._subplots.AxesSubplot at 0x7f0a7d7422d0>"
      ]
     },
     "execution_count": 47,
     "metadata": {},
     "output_type": "execute_result"
    },
    {
     "data": {
      "image/png": "[encoded data removed]",
      "text/plain": [
       "<Figure size 432x288 with 1 Axes>"
      ]
     },
     "metadata": {
      "needs_background": "light"
     },
     "output_type": "display_data"
    }
   ],
   "source": [
    "user_month_stat['profit'].hist()"
   ]
  },
  {
   "cell_type": "markdown",
   "metadata": {},
   "source": [
    "### EDA (анализ)"
   ]
  },
  {
   "cell_type": "markdown",
   "metadata": {},
   "source": [
    "#### Определяем среднее количество минут по тарифам в месяц"
   ]
  },
  {
   "cell_type": "code",
   "execution_count": 48,
   "metadata": {
    "scrolled": false
   },
   "outputs": [
    {
     "data": {
      "text/plain": [
       "array([<matplotlib.axes._subplots.AxesSubplot object at 0x7f0a7d7c2790>],\n",
       "      dtype=object)"
      ]
     },
     "execution_count": 48,
     "metadata": {},
     "output_type": "execute_result"
    },
    {
     "data": {
      "image/png": "[encoded data removed]",
      "text/plain": [
       "<Figure size 432x288 with 1 Axes>"
      ]
     },
     "metadata": {
      "needs_background": "light"
     },
     "output_type": "display_data"
    }
   ],
   "source": [
    "( \n",
    "    user_month_stat.groupby('tariff_name')[['calls_min']]\n",
    "                    .mean()\n",
    "                    .plot(kind='bar', subplots=True, title='Среднее количество минут по тарифам')\n",
    ")"
   ]
  },
  {
   "cell_type": "markdown",
   "metadata": {},
   "source": [
    "#### Определяем среднее количество сообщений по тарифам\n"
   ]
  },
  {
   "cell_type": "code",
   "execution_count": 49,
   "metadata": {
    "scrolled": false
   },
   "outputs": [
    {
     "data": {
      "text/plain": [
       "array([<matplotlib.axes._subplots.AxesSubplot object at 0x7f0a7d84b3d0>],\n",
       "      dtype=object)"
      ]
     },
     "execution_count": 49,
     "metadata": {},
     "output_type": "execute_result"
    },
    {
     "data": {
      "image/png": "[encoded data removed]",
      "text/plain": [
       "<Figure size 432x288 with 1 Axes>"
      ]
     },
     "metadata": {
      "needs_background": "light"
     },
     "output_type": "display_data"
    }
   ],
   "source": [
    "( \n",
    "    user_month_stat.groupby('tariff_name')['message_count']\n",
    "                    .mean()\n",
    "                    .plot(kind='bar', subplots=True, title='Среднее количество сообщений по тарифам')\n",
    ")"
   ]
  },
  {
   "cell_type": "markdown",
   "metadata": {},
   "source": [
    "#### Определяем среднее интернет трафикам Мб по тарифам"
   ]
  },
  {
   "cell_type": "code",
   "execution_count": 50,
   "metadata": {
    "scrolled": false
   },
   "outputs": [
    {
     "data": {
      "text/plain": [
       "array([<matplotlib.axes._subplots.AxesSubplot object at 0x7f0a7d84bdd0>],\n",
       "      dtype=object)"
      ]
     },
     "execution_count": 50,
     "metadata": {},
     "output_type": "execute_result"
    },
    {
     "data": {
      "image/png": "[encoded data removed]",
      "text/plain": [
       "<Figure size 432x288 with 1 Axes>"
      ]
     },
     "metadata": {
      "needs_background": "light"
     },
     "output_type": "display_data"
    }
   ],
   "source": [
    "( \n",
    "    user_month_stat.groupby('tariff_name')[['message_count']]\n",
    "                    .mean()\n",
    "                    .plot(kind='bar', subplots=True, title='Среднее количество МБ по тарифам')\n",
    ")"
   ]
  },
  {
   "cell_type": "markdown",
   "metadata": {},
   "source": [
    "#### Определяем стандартное отклонение и дисперсию"
   ]
  },
  {
   "cell_type": "code",
   "execution_count": 51,
   "metadata": {},
   "outputs": [
    {
     "data": {
      "text/html": [
       "<div>\n",
       "<style scoped>\n",
       "    .dataframe tbody tr th:only-of-type {\n",
       "        vertical-align: middle;\n",
       "    }\n",
       "\n",
       "    .dataframe tbody tr th {\n",
       "        vertical-align: top;\n",
       "    }\n",
       "\n",
       "    .dataframe thead th {\n",
       "        text-align: right;\n",
       "    }\n",
       "</style>\n",
       "<table border=\"1\" class=\"dataframe\">\n",
       "  <thead>\n",
       "    <tr style=\"text-align: right;\">\n",
       "      <th></th>\n",
       "      <th>calls_count</th>\n",
       "      <th>calls_min</th>\n",
       "      <th>message_count</th>\n",
       "      <th>internet_mb</th>\n",
       "      <th>profit</th>\n",
       "    </tr>\n",
       "    <tr>\n",
       "      <th>tariff_name</th>\n",
       "      <th></th>\n",
       "      <th></th>\n",
       "      <th></th>\n",
       "      <th></th>\n",
       "      <th></th>\n",
       "    </tr>\n",
       "  </thead>\n",
       "  <tbody>\n",
       "    <tr>\n",
       "      <td>smart</td>\n",
       "      <td>25.939858</td>\n",
       "      <td>190.313730</td>\n",
       "      <td>28.227876</td>\n",
       "      <td>5870.476681</td>\n",
       "      <td>833.394632</td>\n",
       "    </tr>\n",
       "    <tr>\n",
       "      <td>ultra</td>\n",
       "      <td>43.916853</td>\n",
       "      <td>317.606098</td>\n",
       "      <td>47.804457</td>\n",
       "      <td>10087.170752</td>\n",
       "      <td>384.684107</td>\n",
       "    </tr>\n",
       "  </tbody>\n",
       "</table>\n",
       "</div>"
      ],
      "text/plain": [
       "             calls_count   calls_min  message_count   internet_mb      profit\n",
       "tariff_name                                                                  \n",
       "smart          25.939858  190.313730      28.227876   5870.476681  833.394632\n",
       "ultra          43.916853  317.606098      47.804457  10087.170752  384.684107"
      ]
     },
     "execution_count": 51,
     "metadata": {},
     "output_type": "execute_result"
    }
   ],
   "source": [
    "user_month_stat.groupby('tariff_name')[['calls_count', 'calls_min', 'message_count', 'internet_mb', 'profit']].std()"
   ]
  },
  {
   "cell_type": "code",
   "execution_count": 52,
   "metadata": {},
   "outputs": [
    {
     "data": {
      "text/html": [
       "<div>\n",
       "<style scoped>\n",
       "    .dataframe tbody tr th:only-of-type {\n",
       "        vertical-align: middle;\n",
       "    }\n",
       "\n",
       "    .dataframe tbody tr th {\n",
       "        vertical-align: top;\n",
       "    }\n",
       "\n",
       "    .dataframe thead th {\n",
       "        text-align: right;\n",
       "    }\n",
       "</style>\n",
       "<table border=\"1\" class=\"dataframe\">\n",
       "  <thead>\n",
       "    <tr style=\"text-align: right;\">\n",
       "      <th></th>\n",
       "      <th>calls_count</th>\n",
       "      <th>calls_min</th>\n",
       "      <th>message_count</th>\n",
       "      <th>internet_mb</th>\n",
       "      <th>profit</th>\n",
       "    </tr>\n",
       "    <tr>\n",
       "      <th>tariff_name</th>\n",
       "      <th></th>\n",
       "      <th></th>\n",
       "      <th></th>\n",
       "      <th></th>\n",
       "      <th></th>\n",
       "    </tr>\n",
       "  </thead>\n",
       "  <tbody>\n",
       "    <tr>\n",
       "      <td>smart</td>\n",
       "      <td>672.876243</td>\n",
       "      <td>36219.315784</td>\n",
       "      <td>796.812958</td>\n",
       "      <td>3.446250e+07</td>\n",
       "      <td>694546.611891</td>\n",
       "    </tr>\n",
       "    <tr>\n",
       "      <td>ultra</td>\n",
       "      <td>1928.689990</td>\n",
       "      <td>100873.633397</td>\n",
       "      <td>2285.266143</td>\n",
       "      <td>1.017510e+08</td>\n",
       "      <td>147981.862078</td>\n",
       "    </tr>\n",
       "  </tbody>\n",
       "</table>\n",
       "</div>"
      ],
      "text/plain": [
       "             calls_count      calls_min  message_count   internet_mb  \\\n",
       "tariff_name                                                            \n",
       "smart         672.876243   36219.315784     796.812958  3.446250e+07   \n",
       "ultra        1928.689990  100873.633397    2285.266143  1.017510e+08   \n",
       "\n",
       "                    profit  \n",
       "tariff_name                 \n",
       "smart        694546.611891  \n",
       "ultra        147981.862078  "
      ]
     },
     "execution_count": 52,
     "metadata": {},
     "output_type": "execute_result"
    }
   ],
   "source": [
    "### Определяем дисперсию\n",
    "user_month_stat.groupby('tariff_name')[['calls_count', 'calls_min', 'message_count', 'internet_mb', 'profit']].var()"
   ]
  },
  {
   "cell_type": "markdown",
   "metadata": {},
   "source": [
    "#### Строим гистограммы"
   ]
  },
  {
   "cell_type": "code",
   "execution_count": 53,
   "metadata": {},
   "outputs": [
    {
     "data": {
      "text/plain": [
       "tariff_name\n",
       "smart    AxesSubplot(0.125,0.125;0.775x0.755)\n",
       "ultra    AxesSubplot(0.125,0.125;0.775x0.755)\n",
       "Name: calls_min, dtype: object"
      ]
     },
     "execution_count": 53,
     "metadata": {},
     "output_type": "execute_result"
    },
    {
     "data": {
      "image/png": "[encoded data removed]",
      "text/plain": [
       "<Figure size 432x288 with 1 Axes>"
      ]
     },
     "metadata": {
      "needs_background": "light"
     },
     "output_type": "display_data"
    }
   ],
   "source": [
    "# Количество минут\n",
    "user_month_stat.groupby('tariff_name')['calls_min'].hist(bins=10)"
   ]
  },
  {
   "cell_type": "code",
   "execution_count": 54,
   "metadata": {
    "scrolled": true
   },
   "outputs": [
    {
     "data": {
      "text/plain": [
       "tariff_name\n",
       "smart    AxesSubplot(0.125,0.125;0.775x0.755)\n",
       "ultra    AxesSubplot(0.125,0.125;0.775x0.755)\n",
       "Name: message_count, dtype: object"
      ]
     },
     "execution_count": 54,
     "metadata": {},
     "output_type": "execute_result"
    },
    {
     "data": {
      "image/png": "[encoded data removed]",
      "text/plain": [
       "<Figure size 432x288 with 1 Axes>"
      ]
     },
     "metadata": {
      "needs_background": "light"
     },
     "output_type": "display_data"
    }
   ],
   "source": [
    "# Количество сообщений\n",
    "user_month_stat.groupby('tariff_name')['message_count'].hist(bins=10)"
   ]
  },
  {
   "cell_type": "code",
   "execution_count": 55,
   "metadata": {
    "scrolled": false
   },
   "outputs": [
    {
     "data": {
      "text/plain": [
       "tariff_name\n",
       "smart    AxesSubplot(0.125,0.125;0.775x0.755)\n",
       "ultra    AxesSubplot(0.125,0.125;0.775x0.755)\n",
       "Name: internet_mb, dtype: object"
      ]
     },
     "execution_count": 55,
     "metadata": {},
     "output_type": "execute_result"
    },
    {
     "data": {
      "image/png": "[encoded data removed]",
      "text/plain": [
       "<Figure size 432x288 with 1 Axes>"
      ]
     },
     "metadata": {
      "needs_background": "light"
     },
     "output_type": "display_data"
    }
   ],
   "source": [
    "# Количество интернет-трафика\n",
    "user_month_stat.groupby('tariff_name')['internet_mb'].hist(bins=10)"
   ]
  },
  {
   "cell_type": "markdown",
   "metadata": {},
   "source": [
    "#### Вывод\n",
    "- Трафик, количество потраченных минут и отправленных сообщений распределены по нормальному закону\n",
    "- В среднем, пользователи тарифа ultra потребряют больше трафика, звонов и сообщений\n",
    "- Большинство пользователей тарифов смарт укладываются в свои лимиты количества минут звонков и сообщений. Пользователи тарифов ультра не используют полностью свои лимиты\n",
    "- Интернет трафика пользователям тарифам смарт в большинстве своем не хватает. Трафика пользователям тарифа ультра в большинстве своем хватает"
   ]
  },
  {
   "cell_type": "markdown",
   "metadata": {},
   "source": [
    "### Проверка гипотез"
   ]
  },
  {
   "cell_type": "markdown",
   "metadata": {},
   "source": [
    "####  Cредняя выручка пользователей тарифов «Ультра» и «Смарт» различаются;"
   ]
  },
  {
   "cell_type": "code",
   "execution_count": 56,
   "metadata": {},
   "outputs": [],
   "source": [
    "# Выделяем данные по тарифам\n",
    "smart_tariff_profit = user_month_stat.query('tariff_name == \"smart\"')['profit']\n",
    "ultra_tariff_profit = user_month_stat.query('tariff_name == \"ultra\"')['profit']"
   ]
  },
  {
   "cell_type": "code",
   "execution_count": 57,
   "metadata": {
    "scrolled": false
   },
   "outputs": [
    {
     "name": "stdout",
     "output_type": "stream",
     "text": [
      "p-значение: 1.553031575858775e-151\n",
      "Отвергаем нулевую гипотезу\n"
     ]
    }
   ],
   "source": [
    "# Нулевая гипотеза: средняя выручка пользоватлей обоих тарифов совпадает\n",
    "# Альтернативная гипотеза: средняя выручка обоих тарифов не совпадает (больше или меньше) - двухсторонняя\n",
    "\n",
    "# Критический уровень статистической значимости\n",
    "alpha = .05\n",
    "\n",
    "results = st.ttest_ind(\n",
    "    smart_tariff_profit, \n",
    "    ultra_tariff_profit)\n",
    "\n",
    "print('p-значение:', results.pvalue)\n",
    " \n",
    "if results.pvalue < alpha:\n",
    "    print(\"Отвергаем нулевую гипотезу\")\n",
    "else:\n",
    "    print(\"Не получилось отвергнуть нулевую гипотезу\") \n"
   ]
  },
  {
   "cell_type": "code",
   "execution_count": 58,
   "metadata": {},
   "outputs": [
    {
     "data": {
      "text/plain": [
       "<BarContainer object of 2 artists>"
      ]
     },
     "execution_count": 58,
     "metadata": {},
     "output_type": "execute_result"
    },
    {
     "data": {
      "image/png": "[encoded data removed]",
      "text/plain": [
       "<Figure size 432x288 with 1 Axes>"
      ]
     },
     "metadata": {
      "needs_background": "light"
     },
     "output_type": "display_data"
    }
   ],
   "source": [
    "# Средняя выручка по тарифам\n",
    "x = ['smart', 'ultra']\n",
    "y = [smart_tariff_profit.mean(), ultra_tariff_profit.mean()]\n",
    "\n",
    "plt.bar(x, y)"
   ]
  },
  {
   "cell_type": "code",
   "execution_count": 59,
   "metadata": {},
   "outputs": [
    {
     "data": {
      "text/plain": [
       "<BarContainer object of 2 artists>"
      ]
     },
     "execution_count": 59,
     "metadata": {},
     "output_type": "execute_result"
    },
    {
     "data": {
      "image/png": "[encoded data removed]",
      "text/plain": [
       "<Figure size 432x288 with 1 Axes>"
      ]
     },
     "metadata": {
      "needs_background": "light"
     },
     "output_type": "display_data"
    }
   ],
   "source": [
    "# Суммарная выручка по тарифам\n",
    "x = ['smart', 'ultra']\n",
    "y = [smart_tariff_profit.sum(), ultra_tariff_profit.sum()]\n",
    "\n",
    "plt.bar(x, y)"
   ]
  },
  {
   "cell_type": "markdown",
   "metadata": {},
   "source": [
    "#### Cредняя выручка пользователей из Москвы отличается от выручки пользователей из других регионов.\n"
   ]
  },
  {
   "cell_type": "code",
   "execution_count": 60,
   "metadata": {},
   "outputs": [],
   "source": [
    "# Выделяе пользователей Москвы\n",
    "moscow_user_ids = users_df.query('city == \"Москва\"')['user_id']\n",
    "\n",
    "# Выделяем данные пользователей Москвы\n",
    "user_month_moscow = user_month_stat.query('user_id in @moscow_user_ids')\n",
    "# Выделяем данные пользователей Других регионов\n",
    "user_month_other = user_month_stat.query('user_id not in @moscow_user_ids')"
   ]
  },
  {
   "cell_type": "code",
   "execution_count": 61,
   "metadata": {},
   "outputs": [
    {
     "name": "stdout",
     "output_type": "stream",
     "text": [
      "p-значение: 0.5924817760011163\n",
      "Не получилось отвергнуть нулевую гипотезу\n"
     ]
    }
   ],
   "source": [
    "# Нулевая гипотеза: средняя выручка пользоватлей Москвы совпадает с другими регионами\n",
    "# Альтернативная гипотеза:  средняя выручка пользоватлей Москвы не совпадает с другими регионами - двухсторонняя\n",
    "\n",
    "# Критический уровень статистической значимости\n",
    "alpha = .05\n",
    "\n",
    "results = st.ttest_ind(\n",
    "    user_month_moscow['profit'], \n",
    "    user_month_other['profit'])\n",
    "\n",
    "print('p-значение:', results.pvalue)\n",
    " \n",
    "if results.pvalue < alpha /2:\n",
    "    print(\"Отвергаем нулевую гипотезу\")\n",
    "else:\n",
    "    print(\"Не получилось отвергнуть нулевую гипотезу\") \n"
   ]
  },
  {
   "cell_type": "code",
   "execution_count": 62,
   "metadata": {},
   "outputs": [
    {
     "data": {
      "text/plain": [
       "<BarContainer object of 2 artists>"
      ]
     },
     "execution_count": 62,
     "metadata": {},
     "output_type": "execute_result"
    },
    {
     "data": {
      "image/png": "[encoded data removed]",
      "text/plain": [
       "<Figure size 432x288 with 1 Axes>"
      ]
     },
     "metadata": {
      "needs_background": "light"
     },
     "output_type": "display_data"
    }
   ],
   "source": [
    "# Средняя выручка по регионам и Москве\n",
    "x = ['Москва', 'Другие регионы']\n",
    "y = [user_month_moscow['profit'].mean(), user_month_other['profit'].mean()]\n",
    "\n",
    "plt.bar(x, y)"
   ]
  },
  {
   "cell_type": "code",
   "execution_count": 63,
   "metadata": {},
   "outputs": [
    {
     "data": {
      "text/plain": [
       "<BarContainer object of 2 artists>"
      ]
     },
     "execution_count": 63,
     "metadata": {},
     "output_type": "execute_result"
    },
    {
     "data": {
      "image/png": "[encoded data removed]",
      "text/plain": [
       "<Figure size 432x288 with 1 Axes>"
      ]
     },
     "metadata": {
      "needs_background": "light"
     },
     "output_type": "display_data"
    }
   ],
   "source": [
    "# Суммарная выручка по регионам и Моксве\n",
    "x = ['Москва', 'Другие регионы']\n",
    "y = [user_month_moscow['profit'].sum(), user_month_other['profit'].sum()]\n",
    "\n",
    "plt.bar(x, y)"
   ]
  },
  {
   "cell_type": "markdown",
   "metadata": {},
   "source": [
    "### Вывод"
   ]
  },
  {
   "cell_type": "markdown",
   "metadata": {},
   "source": [
    "- Пользователи более дорого тарифа ultra расходуют большее количество минут, смс и ГБ, по сравнению с пользователями более дешевого тарифа smart\n",
    "- Средняя выручка по тарифам ultra и smart отличаются\n",
    "- Средняя выручка тарифа utlra более чем в два раза выше тарифа smart\n",
    "- При этом, суммарная выручка от тарифа smart от всех клиентов превышает выручку от клиентов, которые пользуются тарифом ultra\n",
    "(smart более популярный тариф)\n",
    "- Средняя выручка по Москве и регионам отличается\n",
    "- В Москве средняя выручка на одного пользователя больше\n",
    "- При этом, суммарная выручка от других регионов в 2,5 раза превышает выручку по Москве\n"
   ]
  },
  {
   "cell_type": "markdown",
   "metadata": {},
   "source": [
    "**Более выгодным можно признать тариф ultra, т.к. средняя выручка на одного пользователя более чем в два раза больше тарифа smart и добавление новых пользователей к этому тарифу благоприятно с т.з. финансового результата**"
   ]
  }
 ],
 "metadata": {
  "ExecuteTimeLog": [
   {
    "duration": 562,
    "start_time": "2022-02-05T04:28:53.491Z"
   },
   {
    "duration": 2,
    "start_time": "2022-02-05T04:28:54.143Z"
   },
   {
    "duration": 2,
    "start_time": "2022-02-05T04:30:10.717Z"
   },
   {
    "duration": 402,
    "start_time": "2022-02-05T04:32:24.388Z"
   },
   {
    "duration": 39,
    "start_time": "2022-02-05T04:34:39.298Z"
   },
   {
    "duration": 141,
    "start_time": "2022-02-05T04:35:38.479Z"
   },
   {
    "duration": 117,
    "start_time": "2022-02-05T04:36:35.081Z"
   },
   {
    "duration": 86,
    "start_time": "2022-02-05T04:37:00.478Z"
   },
   {
    "duration": 138,
    "start_time": "2022-02-05T04:37:39.450Z"
   },
   {
    "duration": 112,
    "start_time": "2022-02-05T04:38:24.033Z"
   },
   {
    "duration": 18,
    "start_time": "2022-02-05T04:39:34.025Z"
   },
   {
    "duration": 3,
    "start_time": "2022-02-05T04:42:17.161Z"
   },
   {
    "duration": 3,
    "start_time": "2022-02-05T04:43:13.450Z"
   },
   {
    "duration": 378,
    "start_time": "2022-02-05T04:43:31.651Z"
   },
   {
    "duration": 20,
    "start_time": "2022-02-05T04:43:41.696Z"
   },
   {
    "duration": 7,
    "start_time": "2022-02-05T04:43:52.375Z"
   },
   {
    "duration": 19,
    "start_time": "2022-02-05T04:45:02.866Z"
   },
   {
    "duration": 13,
    "start_time": "2022-02-05T04:45:47.820Z"
   },
   {
    "duration": 16,
    "start_time": "2022-02-05T04:46:30.554Z"
   },
   {
    "duration": 6,
    "start_time": "2022-02-05T04:47:06.945Z"
   },
   {
    "duration": 2,
    "start_time": "2022-02-05T04:47:32.186Z"
   },
   {
    "duration": 310,
    "start_time": "2022-02-05T04:48:33.694Z"
   },
   {
    "duration": 324,
    "start_time": "2022-02-05T04:48:53.619Z"
   },
   {
    "duration": 7,
    "start_time": "2022-02-05T04:49:06.130Z"
   },
   {
    "duration": 311,
    "start_time": "2022-02-05T04:49:39.032Z"
   },
   {
    "duration": 6,
    "start_time": "2022-02-05T04:50:00.384Z"
   },
   {
    "duration": 7,
    "start_time": "2022-02-05T04:50:18.492Z"
   },
   {
    "duration": 215,
    "start_time": "2022-02-05T04:50:58.137Z"
   },
   {
    "duration": 2,
    "start_time": "2022-02-05T04:52:04.182Z"
   },
   {
    "duration": 49,
    "start_time": "2022-02-05T04:52:27.258Z"
   },
   {
    "duration": 13,
    "start_time": "2022-02-05T04:53:54.716Z"
   },
   {
    "duration": 2,
    "start_time": "2022-02-05T04:54:08.962Z"
   },
   {
    "duration": 3,
    "start_time": "2022-02-05T04:54:24.987Z"
   },
   {
    "duration": 4,
    "start_time": "2022-02-05T04:54:53.785Z"
   },
   {
    "duration": 319,
    "start_time": "2022-02-05T04:55:27.062Z"
   },
   {
    "duration": 322,
    "start_time": "2022-02-05T04:55:33.860Z"
   },
   {
    "duration": 6,
    "start_time": "2022-02-05T04:55:36.460Z"
   },
   {
    "duration": 4,
    "start_time": "2022-02-05T04:56:08.079Z"
   },
   {
    "duration": 4,
    "start_time": "2022-02-05T04:56:36.307Z"
   },
   {
    "duration": 112,
    "start_time": "2022-02-05T04:57:09.434Z"
   },
   {
    "duration": 4,
    "start_time": "2022-02-05T04:57:13.877Z"
   },
   {
    "duration": 5,
    "start_time": "2022-02-05T04:57:25.138Z"
   },
   {
    "duration": 4,
    "start_time": "2022-02-05T04:57:36.012Z"
   },
   {
    "duration": 318,
    "start_time": "2022-02-05T04:58:16.913Z"
   },
   {
    "duration": 7543,
    "start_time": "2022-02-05T04:58:21.761Z"
   },
   {
    "duration": 6,
    "start_time": "2022-02-05T04:58:34.399Z"
   },
   {
    "duration": 5,
    "start_time": "2022-02-05T04:59:00.958Z"
   },
   {
    "duration": 10,
    "start_time": "2022-02-05T05:21:43.459Z"
   },
   {
    "duration": 297,
    "start_time": "2022-02-05T05:22:04.337Z"
   },
   {
    "duration": 296,
    "start_time": "2022-02-05T05:22:07.656Z"
   },
   {
    "duration": 15,
    "start_time": "2022-02-05T05:22:12.671Z"
   },
   {
    "duration": 104,
    "start_time": "2022-02-05T05:23:17.973Z"
   },
   {
    "duration": 7,
    "start_time": "2022-02-05T05:24:08.936Z"
   },
   {
    "duration": 10,
    "start_time": "2022-02-05T05:25:38.971Z"
   },
   {
    "duration": 8,
    "start_time": "2022-02-05T05:26:02.064Z"
   },
   {
    "duration": 8,
    "start_time": "2022-02-05T05:26:07.909Z"
   },
   {
    "duration": 9,
    "start_time": "2022-02-05T05:26:36.726Z"
   },
   {
    "duration": 310,
    "start_time": "2022-02-05T05:26:41.495Z"
   },
   {
    "duration": 13,
    "start_time": "2022-02-05T05:26:44.546Z"
   },
   {
    "duration": 13,
    "start_time": "2022-02-05T05:26:58.052Z"
   },
   {
    "duration": 9,
    "start_time": "2022-02-05T05:27:32.906Z"
   },
   {
    "duration": 8,
    "start_time": "2022-02-05T05:27:45.356Z"
   },
   {
    "duration": 8,
    "start_time": "2022-02-05T05:33:12.897Z"
   },
   {
    "duration": 2,
    "start_time": "2022-02-05T05:35:29.267Z"
   },
   {
    "duration": 8027,
    "start_time": "2022-02-05T05:37:04.887Z"
   },
   {
    "duration": 4,
    "start_time": "2022-02-05T05:37:48.242Z"
   },
   {
    "duration": 5,
    "start_time": "2022-02-05T05:38:06.320Z"
   },
   {
    "duration": 6,
    "start_time": "2022-02-05T05:38:08.529Z"
   },
   {
    "duration": 2,
    "start_time": "2022-02-05T05:38:37.180Z"
   },
   {
    "duration": 2,
    "start_time": "2022-02-05T05:38:39.566Z"
   },
   {
    "duration": 27,
    "start_time": "2022-02-05T05:39:06.824Z"
   },
   {
    "duration": 2,
    "start_time": "2022-02-05T05:39:31.099Z"
   },
   {
    "duration": 17,
    "start_time": "2022-02-05T05:39:55.529Z"
   },
   {
    "duration": 6,
    "start_time": "2022-02-05T05:40:25.624Z"
   },
   {
    "duration": 6,
    "start_time": "2022-02-05T05:40:27.722Z"
   },
   {
    "duration": 22,
    "start_time": "2022-02-05T05:42:11.472Z"
   },
   {
    "duration": 15,
    "start_time": "2022-02-05T05:42:57.338Z"
   },
   {
    "duration": 8,
    "start_time": "2022-02-05T05:43:23.047Z"
   },
   {
    "duration": 11,
    "start_time": "2022-02-05T05:43:30.642Z"
   },
   {
    "duration": 319,
    "start_time": "2022-02-05T05:49:46.927Z"
   },
   {
    "duration": 3,
    "start_time": "2022-02-05T05:49:52.008Z"
   },
   {
    "duration": 41,
    "start_time": "2022-02-05T05:49:52.070Z"
   },
   {
    "duration": 140,
    "start_time": "2022-02-05T05:49:52.113Z"
   },
   {
    "duration": 85,
    "start_time": "2022-02-05T05:49:52.256Z"
   },
   {
    "duration": 116,
    "start_time": "2022-02-05T05:49:52.343Z"
   },
   {
    "duration": 17,
    "start_time": "2022-02-05T05:49:52.461Z"
   },
   {
    "duration": 9,
    "start_time": "2022-02-05T05:49:52.480Z"
   },
   {
    "duration": 4,
    "start_time": "2022-02-05T05:49:52.491Z"
   },
   {
    "duration": 5,
    "start_time": "2022-02-05T05:49:52.497Z"
   },
   {
    "duration": 4,
    "start_time": "2022-02-05T05:49:52.505Z"
   },
   {
    "duration": 4,
    "start_time": "2022-02-05T05:49:52.512Z"
   },
   {
    "duration": 6,
    "start_time": "2022-02-05T05:49:52.518Z"
   },
   {
    "duration": 54,
    "start_time": "2022-02-05T05:49:52.525Z"
   },
   {
    "duration": 11,
    "start_time": "2022-02-05T05:49:52.581Z"
   },
   {
    "duration": 15,
    "start_time": "2022-02-05T05:49:52.594Z"
   },
   {
    "duration": 14,
    "start_time": "2022-02-05T05:49:52.610Z"
   },
   {
    "duration": 9,
    "start_time": "2022-02-05T05:49:52.626Z"
   },
   {
    "duration": 47,
    "start_time": "2022-02-05T05:49:52.636Z"
   },
   {
    "duration": 7,
    "start_time": "2022-02-05T05:49:52.685Z"
   },
   {
    "duration": 14,
    "start_time": "2022-02-05T05:49:52.694Z"
   },
   {
    "duration": 9,
    "start_time": "2022-02-05T05:49:52.710Z"
   },
   {
    "duration": 6,
    "start_time": "2022-02-05T05:49:52.721Z"
   },
   {
    "duration": 47,
    "start_time": "2022-02-05T05:49:52.729Z"
   },
   {
    "duration": 7,
    "start_time": "2022-02-05T05:49:52.778Z"
   },
   {
    "duration": 26,
    "start_time": "2022-02-05T05:49:52.787Z"
   },
   {
    "duration": 16,
    "start_time": "2022-02-05T05:49:52.815Z"
   },
   {
    "duration": 40,
    "start_time": "2022-02-05T05:49:52.832Z"
   },
   {
    "duration": 12,
    "start_time": "2022-02-05T05:49:52.874Z"
   },
   {
    "duration": 7,
    "start_time": "2022-02-05T05:49:52.887Z"
   },
   {
    "duration": 7,
    "start_time": "2022-02-05T05:52:59.933Z"
   },
   {
    "duration": 2,
    "start_time": "2022-02-05T05:55:24.985Z"
   },
   {
    "duration": 3,
    "start_time": "2022-02-05T05:55:27.945Z"
   },
   {
    "duration": 21,
    "start_time": "2022-02-05T05:56:14.599Z"
   },
   {
    "duration": 40,
    "start_time": "2022-02-05T05:56:30.206Z"
   },
   {
    "duration": 420,
    "start_time": "2022-02-05T05:58:40.340Z"
   },
   {
    "duration": 368,
    "start_time": "2022-02-05T05:58:42.081Z"
   },
   {
    "duration": 369,
    "start_time": "2022-02-05T05:58:48.863Z"
   },
   {
    "duration": 354,
    "start_time": "2022-02-05T05:59:25.570Z"
   },
   {
    "duration": 367,
    "start_time": "2022-02-05T05:59:34.478Z"
   },
   {
    "duration": 809,
    "start_time": "2022-02-05T06:03:34.289Z"
   },
   {
    "duration": 730,
    "start_time": "2022-02-05T06:04:07.197Z"
   },
   {
    "duration": 721,
    "start_time": "2022-02-05T06:05:26.868Z"
   },
   {
    "duration": 25,
    "start_time": "2022-02-05T06:11:06.257Z"
   },
   {
    "duration": 353,
    "start_time": "2022-02-05T06:11:47.470Z"
   },
   {
    "duration": 33,
    "start_time": "2022-02-05T06:12:26.804Z"
   },
   {
    "duration": 5,
    "start_time": "2022-02-05T06:13:50.480Z"
   },
   {
    "duration": 5,
    "start_time": "2022-02-05T06:13:59.313Z"
   },
   {
    "duration": 5,
    "start_time": "2022-02-05T06:14:35.356Z"
   },
   {
    "duration": 53,
    "start_time": "2022-02-05T06:14:57.329Z"
   },
   {
    "duration": 324,
    "start_time": "2022-02-05T06:17:13.684Z"
   },
   {
    "duration": 11,
    "start_time": "2022-02-05T06:17:19.987Z"
   },
   {
    "duration": 15,
    "start_time": "2022-02-05T06:17:24.150Z"
   },
   {
    "duration": 24,
    "start_time": "2022-02-05T06:19:13.745Z"
   },
   {
    "duration": 18,
    "start_time": "2022-02-05T06:21:55.974Z"
   },
   {
    "duration": 325,
    "start_time": "2022-02-05T06:22:17.262Z"
   },
   {
    "duration": 19,
    "start_time": "2022-02-05T06:22:59.980Z"
   },
   {
    "duration": 18,
    "start_time": "2022-02-05T06:23:20.739Z"
   },
   {
    "duration": 16,
    "start_time": "2022-02-05T06:24:05.914Z"
   },
   {
    "duration": 17,
    "start_time": "2022-02-05T06:25:06.286Z"
   },
   {
    "duration": 16,
    "start_time": "2022-02-05T06:25:12.450Z"
   },
   {
    "duration": 349,
    "start_time": "2022-02-05T06:26:44.243Z"
   },
   {
    "duration": 18,
    "start_time": "2022-02-05T06:26:51.672Z"
   },
   {
    "duration": 18,
    "start_time": "2022-02-05T06:26:58.633Z"
   },
   {
    "duration": 19,
    "start_time": "2022-02-05T06:27:12.113Z"
   },
   {
    "duration": 2,
    "start_time": "2022-02-05T06:27:46.720Z"
   },
   {
    "duration": 17,
    "start_time": "2022-02-05T06:30:09.948Z"
   },
   {
    "duration": 100,
    "start_time": "2022-02-05T06:30:27.948Z"
   },
   {
    "duration": 130,
    "start_time": "2022-02-05T06:30:32.096Z"
   },
   {
    "duration": 17,
    "start_time": "2022-02-05T06:30:35.700Z"
   },
   {
    "duration": 15,
    "start_time": "2022-02-05T06:31:01.945Z"
   },
   {
    "duration": 14,
    "start_time": "2022-02-05T06:31:15.372Z"
   },
   {
    "duration": 18,
    "start_time": "2022-02-05T06:31:20.650Z"
   },
   {
    "duration": 2,
    "start_time": "2022-02-05T06:32:00.469Z"
   },
   {
    "duration": 26,
    "start_time": "2022-02-05T06:33:01.846Z"
   },
   {
    "duration": 457,
    "start_time": "2022-02-05T06:33:54.289Z"
   },
   {
    "duration": 321,
    "start_time": "2022-02-05T06:34:02.866Z"
   },
   {
    "duration": 21,
    "start_time": "2022-02-05T06:34:14.919Z"
   },
   {
    "duration": 360,
    "start_time": "2022-02-05T06:34:29.304Z"
   },
   {
    "duration": 19,
    "start_time": "2022-02-05T06:34:37.156Z"
   },
   {
    "duration": 16,
    "start_time": "2022-02-05T06:35:12.510Z"
   },
   {
    "duration": 3,
    "start_time": "2022-02-05T06:37:01.762Z"
   },
   {
    "duration": 59,
    "start_time": "2022-02-05T06:43:19.194Z"
   },
   {
    "duration": 20,
    "start_time": "2022-02-05T06:43:29.196Z"
   },
   {
    "duration": 29,
    "start_time": "2022-02-05T06:43:35.073Z"
   },
   {
    "duration": 27,
    "start_time": "2022-02-05T06:43:57.676Z"
   },
   {
    "duration": 3,
    "start_time": "2022-02-05T06:47:51.615Z"
   },
   {
    "duration": 381,
    "start_time": "2022-02-05T13:16:17.677Z"
   },
   {
    "duration": 706,
    "start_time": "2022-02-05T13:16:23.958Z"
   },
   {
    "duration": 48,
    "start_time": "2022-02-05T13:16:24.667Z"
   },
   {
    "duration": 192,
    "start_time": "2022-02-05T13:16:24.719Z"
   },
   {
    "duration": 116,
    "start_time": "2022-02-05T13:16:24.914Z"
   },
   {
    "duration": 167,
    "start_time": "2022-02-05T13:16:25.033Z"
   },
   {
    "duration": 18,
    "start_time": "2022-02-05T13:16:25.202Z"
   },
   {
    "duration": 12,
    "start_time": "2022-02-05T13:16:25.224Z"
   },
   {
    "duration": 16,
    "start_time": "2022-02-05T13:16:25.239Z"
   },
   {
    "duration": 5,
    "start_time": "2022-02-05T13:16:25.259Z"
   },
   {
    "duration": 6,
    "start_time": "2022-02-05T13:16:25.267Z"
   },
   {
    "duration": 7,
    "start_time": "2022-02-05T13:16:25.323Z"
   },
   {
    "duration": 6,
    "start_time": "2022-02-05T13:16:25.333Z"
   },
   {
    "duration": 6,
    "start_time": "2022-02-05T13:16:25.342Z"
   },
   {
    "duration": 79,
    "start_time": "2022-02-05T13:16:25.351Z"
   },
   {
    "duration": 7,
    "start_time": "2022-02-05T13:16:25.432Z"
   },
   {
    "duration": 18,
    "start_time": "2022-02-05T13:16:25.441Z"
   },
   {
    "duration": 21,
    "start_time": "2022-02-05T13:16:25.462Z"
   },
   {
    "duration": 21,
    "start_time": "2022-02-05T13:16:25.524Z"
   },
   {
    "duration": 14,
    "start_time": "2022-02-05T13:16:25.548Z"
   },
   {
    "duration": 60,
    "start_time": "2022-02-05T13:16:25.565Z"
   },
   {
    "duration": 16,
    "start_time": "2022-02-05T13:16:25.628Z"
   },
   {
    "duration": 23,
    "start_time": "2022-02-05T13:16:25.647Z"
   },
   {
    "duration": 52,
    "start_time": "2022-02-05T13:16:25.674Z"
   },
   {
    "duration": 9,
    "start_time": "2022-02-05T13:16:25.728Z"
   },
   {
    "duration": 16,
    "start_time": "2022-02-05T13:16:25.740Z"
   },
   {
    "duration": 10,
    "start_time": "2022-02-05T13:16:25.759Z"
   },
   {
    "duration": 89,
    "start_time": "2022-02-05T13:16:25.776Z"
   },
   {
    "duration": 29,
    "start_time": "2022-02-05T13:16:25.868Z"
   },
   {
    "duration": 57,
    "start_time": "2022-02-05T13:16:25.900Z"
   },
   {
    "duration": 26,
    "start_time": "2022-02-05T13:16:25.960Z"
   },
   {
    "duration": 33,
    "start_time": "2022-02-05T13:16:25.989Z"
   },
   {
    "duration": 56,
    "start_time": "2022-02-05T13:16:26.025Z"
   },
   {
    "duration": 56,
    "start_time": "2022-02-05T13:16:26.083Z"
   },
   {
    "duration": 3,
    "start_time": "2022-02-05T13:16:26.142Z"
   },
   {
    "duration": 38,
    "start_time": "2022-02-05T13:16:26.147Z"
   },
   {
    "duration": 56,
    "start_time": "2022-02-05T13:16:26.188Z"
   },
   {
    "duration": 39,
    "start_time": "2022-02-05T13:16:26.246Z"
   },
   {
    "duration": 54,
    "start_time": "2022-02-05T13:16:26.288Z"
   },
   {
    "duration": 506,
    "start_time": "2022-02-05T13:16:26.344Z"
   },
   {
    "duration": -279,
    "start_time": "2022-02-05T13:16:27.132Z"
   },
   {
    "duration": -282,
    "start_time": "2022-02-05T13:16:27.137Z"
   },
   {
    "duration": 44,
    "start_time": "2022-02-05T13:16:35.732Z"
   },
   {
    "duration": 6,
    "start_time": "2022-02-05T13:16:39.122Z"
   },
   {
    "duration": 5,
    "start_time": "2022-02-05T13:17:08.172Z"
   },
   {
    "duration": 105,
    "start_time": "2022-02-05T13:17:34.819Z"
   },
   {
    "duration": 56,
    "start_time": "2022-02-05T13:18:18.058Z"
   },
   {
    "duration": 5,
    "start_time": "2022-02-05T13:18:20.875Z"
   },
   {
    "duration": 109,
    "start_time": "2022-02-05T13:20:25.220Z"
   },
   {
    "duration": 378,
    "start_time": "2022-02-05T13:20:34.631Z"
   },
   {
    "duration": 476,
    "start_time": "2022-02-05T13:20:51.266Z"
   },
   {
    "duration": 70,
    "start_time": "2022-02-05T13:21:08.953Z"
   },
   {
    "duration": 3,
    "start_time": "2022-02-05T13:21:44.537Z"
   },
   {
    "duration": 32,
    "start_time": "2022-02-05T13:21:44.543Z"
   },
   {
    "duration": 201,
    "start_time": "2022-02-05T13:21:44.579Z"
   },
   {
    "duration": 113,
    "start_time": "2022-02-05T13:21:44.783Z"
   },
   {
    "duration": 178,
    "start_time": "2022-02-05T13:21:44.898Z"
   },
   {
    "duration": 17,
    "start_time": "2022-02-05T13:21:45.079Z"
   },
   {
    "duration": 14,
    "start_time": "2022-02-05T13:21:45.099Z"
   },
   {
    "duration": 18,
    "start_time": "2022-02-05T13:21:45.116Z"
   },
   {
    "duration": 12,
    "start_time": "2022-02-05T13:21:45.138Z"
   },
   {
    "duration": 15,
    "start_time": "2022-02-05T13:21:45.153Z"
   },
   {
    "duration": 22,
    "start_time": "2022-02-05T13:21:45.171Z"
   },
   {
    "duration": 8,
    "start_time": "2022-02-05T13:21:45.195Z"
   },
   {
    "duration": 8,
    "start_time": "2022-02-05T13:21:45.206Z"
   },
   {
    "duration": 32,
    "start_time": "2022-02-05T13:21:45.217Z"
   },
   {
    "duration": 6,
    "start_time": "2022-02-05T13:21:45.252Z"
   },
   {
    "duration": 67,
    "start_time": "2022-02-05T13:21:45.260Z"
   },
   {
    "duration": 27,
    "start_time": "2022-02-05T13:21:45.329Z"
   },
   {
    "duration": 68,
    "start_time": "2022-02-05T13:21:45.359Z"
   },
   {
    "duration": 11,
    "start_time": "2022-02-05T13:21:45.430Z"
   },
   {
    "duration": 25,
    "start_time": "2022-02-05T13:21:45.443Z"
   },
   {
    "duration": 14,
    "start_time": "2022-02-05T13:21:45.471Z"
   },
   {
    "duration": 60,
    "start_time": "2022-02-05T13:21:45.488Z"
   },
   {
    "duration": 16,
    "start_time": "2022-02-05T13:21:45.551Z"
   },
   {
    "duration": 12,
    "start_time": "2022-02-05T13:21:45.570Z"
   },
   {
    "duration": 12,
    "start_time": "2022-02-05T13:21:45.624Z"
   },
   {
    "duration": 13,
    "start_time": "2022-02-05T13:21:45.638Z"
   },
   {
    "duration": 40,
    "start_time": "2022-02-05T13:21:45.656Z"
   },
   {
    "duration": 27,
    "start_time": "2022-02-05T13:21:45.723Z"
   },
   {
    "duration": 29,
    "start_time": "2022-02-05T13:21:45.753Z"
   },
   {
    "duration": 40,
    "start_time": "2022-02-05T13:21:45.785Z"
   },
   {
    "duration": 10,
    "start_time": "2022-02-05T13:21:45.828Z"
   },
   {
    "duration": 59,
    "start_time": "2022-02-05T13:21:45.841Z"
   },
   {
    "duration": 50,
    "start_time": "2022-02-05T13:21:45.903Z"
   },
   {
    "duration": 3,
    "start_time": "2022-02-05T13:21:45.956Z"
   },
   {
    "duration": 64,
    "start_time": "2022-02-05T13:21:45.962Z"
   },
   {
    "duration": 30,
    "start_time": "2022-02-05T13:21:46.028Z"
   },
   {
    "duration": 39,
    "start_time": "2022-02-05T13:21:46.061Z"
   },
   {
    "duration": 34,
    "start_time": "2022-02-05T13:21:46.124Z"
   },
   {
    "duration": 140,
    "start_time": "2022-02-05T13:21:46.162Z"
   },
   {
    "duration": 6,
    "start_time": "2022-02-05T13:21:46.305Z"
   },
   {
    "duration": 4,
    "start_time": "2022-02-05T13:21:46.324Z"
   },
   {
    "duration": 42,
    "start_time": "2022-02-05T13:23:22.959Z"
   },
   {
    "duration": 83,
    "start_time": "2022-02-05T13:23:29.935Z"
   },
   {
    "duration": 82,
    "start_time": "2022-02-05T13:23:58.363Z"
   },
   {
    "duration": 322,
    "start_time": "2022-02-05T13:24:07.653Z"
   },
   {
    "duration": 434,
    "start_time": "2022-02-05T13:24:21.936Z"
   },
   {
    "duration": 69,
    "start_time": "2022-02-05T13:24:38.242Z"
   },
   {
    "duration": 399,
    "start_time": "2022-02-05T13:25:21.327Z"
   },
   {
    "duration": 54,
    "start_time": "2022-02-05T13:26:53.605Z"
   },
   {
    "duration": 529,
    "start_time": "2022-02-05T13:27:20.079Z"
   },
   {
    "duration": 52,
    "start_time": "2022-02-05T13:27:25.259Z"
   },
   {
    "duration": 330,
    "start_time": "2022-02-05T13:27:40.854Z"
   },
   {
    "duration": 349,
    "start_time": "2022-02-05T13:27:44.080Z"
   },
   {
    "duration": 387,
    "start_time": "2022-02-05T13:27:49.129Z"
   },
   {
    "duration": 58,
    "start_time": "2022-02-05T13:27:53.584Z"
   },
   {
    "duration": 379,
    "start_time": "2022-02-05T13:28:54.285Z"
   },
   {
    "duration": 58,
    "start_time": "2022-02-05T13:29:07.853Z"
   },
   {
    "duration": 56,
    "start_time": "2022-02-05T13:29:15.132Z"
   },
   {
    "duration": 64,
    "start_time": "2022-02-05T13:29:23.979Z"
   },
   {
    "duration": 115,
    "start_time": "2022-02-05T13:29:38.193Z"
   },
   {
    "duration": 114,
    "start_time": "2022-02-05T13:30:13.689Z"
   },
   {
    "duration": 112,
    "start_time": "2022-02-05T13:30:25.413Z"
   },
   {
    "duration": 6,
    "start_time": "2022-02-05T13:30:29.842Z"
   },
   {
    "duration": 89,
    "start_time": "2022-02-05T13:31:46.508Z"
   },
   {
    "duration": 334,
    "start_time": "2022-02-05T13:35:57.562Z"
   },
   {
    "duration": 344,
    "start_time": "2022-02-05T13:36:01.528Z"
   },
   {
    "duration": 310,
    "start_time": "2022-02-05T13:36:11.271Z"
   },
   {
    "duration": 19,
    "start_time": "2022-02-05T13:36:24.751Z"
   },
   {
    "duration": 38,
    "start_time": "2022-02-05T13:36:41.919Z"
   },
   {
    "duration": 369,
    "start_time": "2022-02-05T13:39:03.133Z"
   },
   {
    "duration": 361,
    "start_time": "2022-02-05T13:39:46.462Z"
   },
   {
    "duration": 475,
    "start_time": "2022-02-05T13:39:53.823Z"
   },
   {
    "duration": 12,
    "start_time": "2022-02-05T13:40:14.517Z"
   },
   {
    "duration": 39,
    "start_time": "2022-02-05T13:40:21.782Z"
   },
   {
    "duration": 263,
    "start_time": "2022-02-05T13:41:12.676Z"
   },
   {
    "duration": 49,
    "start_time": "2022-02-05T13:42:07.283Z"
   },
   {
    "duration": 343,
    "start_time": "2022-02-05T14:06:12.723Z"
   },
   {
    "duration": 325,
    "start_time": "2022-02-05T14:06:16.017Z"
   },
   {
    "duration": 28,
    "start_time": "2022-02-05T14:07:56.725Z"
   },
   {
    "duration": 38,
    "start_time": "2022-02-05T14:08:00.997Z"
   },
   {
    "duration": 92,
    "start_time": "2022-02-05T14:09:50.706Z"
   },
   {
    "duration": 511,
    "start_time": "2022-02-05T14:09:56.215Z"
   },
   {
    "duration": 575,
    "start_time": "2022-02-05T14:10:03.632Z"
   },
   {
    "duration": 34,
    "start_time": "2022-02-05T14:10:20.296Z"
   },
   {
    "duration": 62,
    "start_time": "2022-02-05T14:10:50.003Z"
   },
   {
    "duration": 58,
    "start_time": "2022-02-05T14:11:13.457Z"
   },
   {
    "duration": 62,
    "start_time": "2022-02-05T14:11:18.460Z"
   },
   {
    "duration": 34,
    "start_time": "2022-02-05T14:11:38.585Z"
   },
   {
    "duration": 34,
    "start_time": "2022-02-05T14:15:45.316Z"
   },
   {
    "duration": 33,
    "start_time": "2022-02-05T14:15:50.476Z"
   },
   {
    "duration": 34,
    "start_time": "2022-02-05T14:16:43.763Z"
   },
   {
    "duration": 378,
    "start_time": "2022-02-05T14:17:15.916Z"
   },
   {
    "duration": 321,
    "start_time": "2022-02-05T14:17:39.529Z"
   },
   {
    "duration": 341,
    "start_time": "2022-02-05T14:17:47.545Z"
   },
   {
    "duration": 311,
    "start_time": "2022-02-05T14:18:56.296Z"
   },
   {
    "duration": 29,
    "start_time": "2022-02-05T14:19:16.924Z"
   },
   {
    "duration": 38,
    "start_time": "2022-02-05T14:19:20.043Z"
   },
   {
    "duration": 32,
    "start_time": "2022-02-05T14:19:41.015Z"
   },
   {
    "duration": 49,
    "start_time": "2022-02-05T14:19:45.229Z"
   },
   {
    "duration": 42,
    "start_time": "2022-02-05T14:20:06.107Z"
   },
   {
    "duration": 122,
    "start_time": "2022-02-05T14:20:52.113Z"
   },
   {
    "duration": 63,
    "start_time": "2022-02-05T14:21:31.108Z"
   },
   {
    "duration": 6,
    "start_time": "2022-02-05T18:03:27.611Z"
   },
   {
    "duration": 32,
    "start_time": "2022-02-05T18:03:50.487Z"
   },
   {
    "duration": 23,
    "start_time": "2022-02-05T18:04:09.587Z"
   },
   {
    "duration": 26,
    "start_time": "2022-02-05T18:07:46.844Z"
   },
   {
    "duration": 383,
    "start_time": "2022-02-05T18:08:19.068Z"
   },
   {
    "duration": 25,
    "start_time": "2022-02-05T18:08:51.298Z"
   },
   {
    "duration": 288,
    "start_time": "2022-02-05T18:09:13.789Z"
   },
   {
    "duration": 3,
    "start_time": "2022-02-05T18:10:17.416Z"
   },
   {
    "duration": 4,
    "start_time": "2022-02-05T18:10:20.185Z"
   },
   {
    "duration": 25,
    "start_time": "2022-02-05T18:10:24.997Z"
   },
   {
    "duration": 302,
    "start_time": "2022-02-05T18:11:15.075Z"
   },
   {
    "duration": 9,
    "start_time": "2022-02-05T18:11:32.137Z"
   },
   {
    "duration": 37,
    "start_time": "2022-02-05T18:11:35.198Z"
   },
   {
    "duration": 8,
    "start_time": "2022-02-05T18:12:09.224Z"
   },
   {
    "duration": 36,
    "start_time": "2022-02-05T18:12:11.260Z"
   },
   {
    "duration": 38,
    "start_time": "2022-02-05T18:12:49.491Z"
   },
   {
    "duration": 9,
    "start_time": "2022-02-05T18:13:40.014Z"
   },
   {
    "duration": 12,
    "start_time": "2022-02-05T18:15:01.977Z"
   },
   {
    "duration": 45,
    "start_time": "2022-02-05T18:15:04.561Z"
   },
   {
    "duration": 10,
    "start_time": "2022-02-05T18:16:19.204Z"
   },
   {
    "duration": 33,
    "start_time": "2022-02-05T18:16:21.789Z"
   },
   {
    "duration": 9,
    "start_time": "2022-02-05T18:17:55.863Z"
   },
   {
    "duration": 33,
    "start_time": "2022-02-05T18:17:57.704Z"
   },
   {
    "duration": 101,
    "start_time": "2022-02-05T18:21:14.869Z"
   },
   {
    "duration": 7,
    "start_time": "2022-02-05T18:21:51.923Z"
   },
   {
    "duration": 7,
    "start_time": "2022-02-05T18:21:57.802Z"
   },
   {
    "duration": 105,
    "start_time": "2022-02-05T18:22:02.737Z"
   },
   {
    "duration": 8,
    "start_time": "2022-02-05T18:22:05.255Z"
   },
   {
    "duration": 24,
    "start_time": "2022-02-05T18:23:17.376Z"
   },
   {
    "duration": 7,
    "start_time": "2022-02-05T18:23:31.135Z"
   },
   {
    "duration": 416,
    "start_time": "2022-02-05T18:23:33.542Z"
   },
   {
    "duration": 4,
    "start_time": "2022-02-05T18:25:34.014Z"
   },
   {
    "duration": 87,
    "start_time": "2022-02-05T18:27:57.726Z"
   },
   {
    "duration": 29,
    "start_time": "2022-02-05T18:28:56.205Z"
   },
   {
    "duration": 17,
    "start_time": "2022-02-05T18:29:35.800Z"
   },
   {
    "duration": 301,
    "start_time": "2022-02-05T18:29:41.863Z"
   },
   {
    "duration": 309,
    "start_time": "2022-02-05T18:30:49.726Z"
   },
   {
    "duration": 286,
    "start_time": "2022-02-05T18:31:04.354Z"
   },
   {
    "duration": 14,
    "start_time": "2022-02-05T18:31:07.321Z"
   },
   {
    "duration": 540,
    "start_time": "2022-02-05T18:31:18.764Z"
   },
   {
    "duration": 298,
    "start_time": "2022-02-05T18:31:21.715Z"
   },
   {
    "duration": 192,
    "start_time": "2022-02-05T18:31:45.207Z"
   },
   {
    "duration": 135,
    "start_time": "2022-02-05T18:32:24.240Z"
   },
   {
    "duration": 148,
    "start_time": "2022-02-05T18:33:04.806Z"
   },
   {
    "duration": 146,
    "start_time": "2022-02-05T18:33:35.304Z"
   },
   {
    "duration": 143,
    "start_time": "2022-02-05T18:33:41.395Z"
   },
   {
    "duration": 239,
    "start_time": "2022-02-05T18:34:48.588Z"
   },
   {
    "duration": 375,
    "start_time": "2022-02-05T18:34:54.703Z"
   },
   {
    "duration": 3,
    "start_time": "2022-02-05T18:38:33.023Z"
   },
   {
    "duration": 402,
    "start_time": "2022-02-05T18:38:54.402Z"
   },
   {
    "duration": 318,
    "start_time": "2022-02-05T18:39:00.980Z"
   },
   {
    "duration": 110,
    "start_time": "2022-02-05T18:39:15.341Z"
   },
   {
    "duration": 346,
    "start_time": "2022-02-05T18:39:20.972Z"
   },
   {
    "duration": 316,
    "start_time": "2022-02-05T18:39:31.463Z"
   },
   {
    "duration": 3,
    "start_time": "2022-02-05T18:39:55.543Z"
   },
   {
    "duration": 296,
    "start_time": "2022-02-05T18:40:28.034Z"
   },
   {
    "duration": 308,
    "start_time": "2022-02-05T18:40:33.196Z"
   },
   {
    "duration": 540,
    "start_time": "2022-02-05T18:45:08.746Z"
   },
   {
    "duration": 270,
    "start_time": "2022-02-05T18:45:36.094Z"
   },
   {
    "duration": 19,
    "start_time": "2022-02-05T18:46:58.801Z"
   },
   {
    "duration": 16,
    "start_time": "2022-02-05T18:47:50.642Z"
   },
   {
    "duration": 4,
    "start_time": "2022-02-05T18:49:09.321Z"
   },
   {
    "duration": 18,
    "start_time": "2022-02-05T18:49:16.373Z"
   },
   {
    "duration": 10,
    "start_time": "2022-02-05T18:49:48.823Z"
   },
   {
    "duration": 12,
    "start_time": "2022-02-05T18:50:13.376Z"
   },
   {
    "duration": 9,
    "start_time": "2022-02-05T18:50:21.244Z"
   },
   {
    "duration": 3,
    "start_time": "2022-02-05T18:50:33.224Z"
   },
   {
    "duration": 334,
    "start_time": "2022-02-05T18:50:54.880Z"
   },
   {
    "duration": 639,
    "start_time": "2022-02-05T18:51:47.253Z"
   },
   {
    "duration": 277,
    "start_time": "2022-02-05T18:51:53.539Z"
   },
   {
    "duration": 291,
    "start_time": "2022-02-05T18:52:23.501Z"
   },
   {
    "duration": 547,
    "start_time": "2022-02-05T18:52:37.455Z"
   },
   {
    "duration": 442,
    "start_time": "2022-02-05T18:52:43.994Z"
   },
   {
    "duration": 357,
    "start_time": "2022-02-05T18:52:54.043Z"
   },
   {
    "duration": 286,
    "start_time": "2022-02-05T18:52:58.874Z"
   },
   {
    "duration": 293,
    "start_time": "2022-02-05T18:53:45.747Z"
   },
   {
    "duration": 275,
    "start_time": "2022-02-05T18:53:57.298Z"
   },
   {
    "duration": 369,
    "start_time": "2022-02-05T18:54:11.568Z"
   },
   {
    "duration": 392,
    "start_time": "2022-02-05T18:55:07.731Z"
   },
   {
    "duration": 299,
    "start_time": "2022-02-05T18:55:20.297Z"
   },
   {
    "duration": 279,
    "start_time": "2022-02-05T18:56:16.352Z"
   },
   {
    "duration": 294,
    "start_time": "2022-02-05T18:56:29.235Z"
   },
   {
    "duration": 320,
    "start_time": "2022-02-05T18:56:46.073Z"
   },
   {
    "duration": 398,
    "start_time": "2022-02-05T18:56:53.379Z"
   },
   {
    "duration": 320,
    "start_time": "2022-02-05T18:57:08.675Z"
   },
   {
    "duration": 358,
    "start_time": "2022-02-05T18:57:13.075Z"
   },
   {
    "duration": 308,
    "start_time": "2022-02-05T18:57:22.702Z"
   },
   {
    "duration": 295,
    "start_time": "2022-02-05T18:57:30.496Z"
   },
   {
    "duration": 321,
    "start_time": "2022-02-05T18:57:34.620Z"
   },
   {
    "duration": 286,
    "start_time": "2022-02-05T18:57:40.354Z"
   },
   {
    "duration": 3,
    "start_time": "2022-02-05T18:59:19.757Z"
   },
   {
    "duration": 3,
    "start_time": "2022-02-05T19:01:06.905Z"
   },
   {
    "duration": 4,
    "start_time": "2022-02-05T19:13:40.081Z"
   },
   {
    "duration": 644,
    "start_time": "2022-02-05T19:18:27.782Z"
   },
   {
    "duration": 510,
    "start_time": "2022-02-05T19:18:52.515Z"
   },
   {
    "duration": 287,
    "start_time": "2022-02-05T19:19:03.747Z"
   },
   {
    "duration": 656,
    "start_time": "2022-02-05T19:19:14.858Z"
   },
   {
    "duration": 283,
    "start_time": "2022-02-05T19:19:43.890Z"
   },
   {
    "duration": 4,
    "start_time": "2022-02-05T19:21:29.993Z"
   },
   {
    "duration": 517,
    "start_time": "2022-02-05T19:22:12.117Z"
   },
   {
    "duration": 809,
    "start_time": "2022-02-05T19:23:42.640Z"
   },
   {
    "duration": 885,
    "start_time": "2022-02-05T19:23:52.733Z"
   },
   {
    "duration": 798,
    "start_time": "2022-02-05T19:26:58.806Z"
   },
   {
    "duration": 304,
    "start_time": "2022-02-05T19:27:04.896Z"
   },
   {
    "duration": 596,
    "start_time": "2022-02-05T19:35:08.214Z"
   },
   {
    "duration": 586,
    "start_time": "2022-02-05T19:36:00.549Z"
   },
   {
    "duration": 285,
    "start_time": "2022-02-05T19:36:09.325Z"
   },
   {
    "duration": 278,
    "start_time": "2022-02-05T19:42:17.001Z"
   },
   {
    "duration": 295,
    "start_time": "2022-02-05T19:44:25.007Z"
   },
   {
    "duration": 387,
    "start_time": "2022-02-05T19:44:48.115Z"
   },
   {
    "duration": 327,
    "start_time": "2022-02-05T19:45:04.212Z"
   },
   {
    "duration": 9183,
    "start_time": "2022-02-05T19:45:59.569Z"
   },
   {
    "duration": 417,
    "start_time": "2022-02-05T19:46:27.285Z"
   },
   {
    "duration": 549,
    "start_time": "2022-02-05T19:46:38.844Z"
   },
   {
    "duration": 282,
    "start_time": "2022-02-05T19:46:43.033Z"
   },
   {
    "duration": 291,
    "start_time": "2022-02-05T19:46:47.454Z"
   },
   {
    "duration": 546,
    "start_time": "2022-02-05T19:47:04.705Z"
   },
   {
    "duration": 640,
    "start_time": "2022-02-05T19:55:04.992Z"
   },
   {
    "duration": 272,
    "start_time": "2022-02-05T19:55:19.751Z"
   },
   {
    "duration": 1077,
    "start_time": "2022-02-06T07:20:17.714Z"
   },
   {
    "duration": 32,
    "start_time": "2022-02-06T07:20:18.793Z"
   },
   {
    "duration": 170,
    "start_time": "2022-02-06T07:20:18.827Z"
   },
   {
    "duration": 104,
    "start_time": "2022-02-06T07:20:18.999Z"
   },
   {
    "duration": 142,
    "start_time": "2022-02-06T07:20:19.105Z"
   },
   {
    "duration": 19,
    "start_time": "2022-02-06T07:20:19.249Z"
   },
   {
    "duration": 11,
    "start_time": "2022-02-06T07:20:19.270Z"
   },
   {
    "duration": 11,
    "start_time": "2022-02-06T07:20:19.283Z"
   },
   {
    "duration": 9,
    "start_time": "2022-02-06T07:20:19.298Z"
   },
   {
    "duration": 8,
    "start_time": "2022-02-06T07:20:19.310Z"
   },
   {
    "duration": 10,
    "start_time": "2022-02-06T07:20:19.320Z"
   },
   {
    "duration": 5,
    "start_time": "2022-02-06T07:20:19.332Z"
   },
   {
    "duration": 8,
    "start_time": "2022-02-06T07:20:19.338Z"
   },
   {
    "duration": 27,
    "start_time": "2022-02-06T07:20:19.348Z"
   },
   {
    "duration": 29,
    "start_time": "2022-02-06T07:20:19.378Z"
   },
   {
    "duration": 15,
    "start_time": "2022-02-06T07:20:19.409Z"
   },
   {
    "duration": 20,
    "start_time": "2022-02-06T07:20:19.425Z"
   },
   {
    "duration": 17,
    "start_time": "2022-02-06T07:20:19.447Z"
   },
   {
    "duration": 44,
    "start_time": "2022-02-06T07:20:19.466Z"
   },
   {
    "duration": 19,
    "start_time": "2022-02-06T07:20:19.512Z"
   },
   {
    "duration": 11,
    "start_time": "2022-02-06T07:20:19.533Z"
   },
   {
    "duration": 18,
    "start_time": "2022-02-06T07:20:19.546Z"
   },
   {
    "duration": 42,
    "start_time": "2022-02-06T07:20:19.566Z"
   },
   {
    "duration": 6,
    "start_time": "2022-02-06T07:20:19.611Z"
   },
   {
    "duration": 13,
    "start_time": "2022-02-06T07:20:19.619Z"
   },
   {
    "duration": 8,
    "start_time": "2022-02-06T07:20:19.634Z"
   },
   {
    "duration": 61,
    "start_time": "2022-02-06T07:20:19.646Z"
   },
   {
    "duration": 21,
    "start_time": "2022-02-06T07:20:19.710Z"
   },
   {
    "duration": 26,
    "start_time": "2022-02-06T07:20:19.733Z"
   },
   {
    "duration": 20,
    "start_time": "2022-02-06T07:20:19.760Z"
   },
   {
    "duration": 29,
    "start_time": "2022-02-06T07:20:19.782Z"
   },
   {
    "duration": 55,
    "start_time": "2022-02-06T07:20:19.813Z"
   },
   {
    "duration": 42,
    "start_time": "2022-02-06T07:20:19.870Z"
   },
   {
    "duration": 2,
    "start_time": "2022-02-06T07:20:19.914Z"
   },
   {
    "duration": 35,
    "start_time": "2022-02-06T07:20:19.918Z"
   },
   {
    "duration": 35,
    "start_time": "2022-02-06T07:20:19.955Z"
   },
   {
    "duration": 32,
    "start_time": "2022-02-06T07:20:20.008Z"
   },
   {
    "duration": 28,
    "start_time": "2022-02-06T07:20:20.042Z"
   },
   {
    "duration": 53,
    "start_time": "2022-02-06T07:20:20.072Z"
   },
   {
    "duration": 44,
    "start_time": "2022-02-06T07:20:20.127Z"
   },
   {
    "duration": 8,
    "start_time": "2022-02-06T07:20:20.173Z"
   },
   {
    "duration": 28,
    "start_time": "2022-02-06T07:20:20.182Z"
   },
   {
    "duration": 8,
    "start_time": "2022-02-06T07:20:20.212Z"
   },
   {
    "duration": 8,
    "start_time": "2022-02-06T07:20:20.222Z"
   },
   {
    "duration": 219,
    "start_time": "2022-02-06T07:20:20.232Z"
   },
   {
    "duration": 177,
    "start_time": "2022-02-06T07:20:20.453Z"
   },
   {
    "duration": 167,
    "start_time": "2022-02-06T07:20:20.632Z"
   },
   {
    "duration": 180,
    "start_time": "2022-02-06T07:20:20.801Z"
   },
   {
    "duration": 7,
    "start_time": "2022-02-06T07:20:20.983Z"
   },
   {
    "duration": 7,
    "start_time": "2022-02-06T07:20:21.008Z"
   },
   {
    "duration": 206,
    "start_time": "2022-02-06T07:20:21.017Z"
   },
   {
    "duration": 2,
    "start_time": "2022-02-06T07:20:21.225Z"
   },
   {
    "duration": 205,
    "start_time": "2022-02-06T07:20:21.229Z"
   },
   {
    "duration": 220,
    "start_time": "2022-02-06T07:20:21.436Z"
   },
   {
    "duration": 4,
    "start_time": "2022-02-06T07:20:21.658Z"
   },
   {
    "duration": 504,
    "start_time": "2022-02-06T07:21:04.229Z"
   },
   {
    "duration": 179,
    "start_time": "2022-02-06T07:21:12.846Z"
   },
   {
    "duration": 225,
    "start_time": "2022-02-06T07:21:45.995Z"
   },
   {
    "duration": 153,
    "start_time": "2022-02-06T07:21:59.270Z"
   },
   {
    "duration": 366,
    "start_time": "2022-02-06T07:22:03.064Z"
   },
   {
    "duration": 382,
    "start_time": "2022-02-06T07:24:02.339Z"
   },
   {
    "duration": 634,
    "start_time": "2022-02-06T07:24:45.325Z"
   },
   {
    "duration": 370,
    "start_time": "2022-02-06T07:24:57.561Z"
   },
   {
    "duration": 25,
    "start_time": "2022-02-06T07:36:22.712Z"
   },
   {
    "duration": 23,
    "start_time": "2022-02-06T07:36:23.188Z"
   },
   {
    "duration": 7,
    "start_time": "2022-02-06T07:36:57.552Z"
   },
   {
    "duration": 6,
    "start_time": "2022-02-06T07:37:03.251Z"
   },
   {
    "duration": 11,
    "start_time": "2022-02-06T07:38:19.525Z"
   },
   {
    "duration": 11,
    "start_time": "2022-02-06T07:39:44.100Z"
   },
   {
    "duration": 1286,
    "start_time": "2022-02-06T07:40:04.595Z"
   },
   {
    "duration": 12,
    "start_time": "2022-02-06T07:40:43.331Z"
   },
   {
    "duration": 12,
    "start_time": "2022-02-06T07:41:00.952Z"
   },
   {
    "duration": 267,
    "start_time": "2022-02-06T07:41:16.937Z"
   },
   {
    "duration": 10,
    "start_time": "2022-02-06T07:41:29.094Z"
   },
   {
    "duration": 10,
    "start_time": "2022-02-06T07:42:04.062Z"
   },
   {
    "duration": 11,
    "start_time": "2022-02-06T07:42:12.165Z"
   },
   {
    "duration": 11,
    "start_time": "2022-02-06T07:42:59.717Z"
   },
   {
    "duration": 10,
    "start_time": "2022-02-06T07:43:27.200Z"
   },
   {
    "duration": 11,
    "start_time": "2022-02-06T07:43:32.231Z"
   },
   {
    "duration": 295,
    "start_time": "2022-02-06T07:44:11.277Z"
   },
   {
    "duration": 13,
    "start_time": "2022-02-06T07:44:19.488Z"
   },
   {
    "duration": 199,
    "start_time": "2022-02-06T07:44:46.328Z"
   },
   {
    "duration": 11,
    "start_time": "2022-02-06T07:45:18.412Z"
   },
   {
    "duration": 24,
    "start_time": "2022-02-06T07:45:35.196Z"
   },
   {
    "duration": 7,
    "start_time": "2022-02-06T07:45:46.584Z"
   },
   {
    "duration": 30,
    "start_time": "2022-02-06T07:45:52.883Z"
   },
   {
    "duration": 3,
    "start_time": "2022-02-06T07:47:55.658Z"
   },
   {
    "duration": 112,
    "start_time": "2022-02-06T07:48:00.646Z"
   },
   {
    "duration": 3,
    "start_time": "2022-02-06T07:48:23.363Z"
   },
   {
    "duration": 34,
    "start_time": "2022-02-06T07:48:23.370Z"
   },
   {
    "duration": 201,
    "start_time": "2022-02-06T07:48:23.406Z"
   },
   {
    "duration": 96,
    "start_time": "2022-02-06T07:48:23.610Z"
   },
   {
    "duration": 135,
    "start_time": "2022-02-06T07:48:23.708Z"
   },
   {
    "duration": 18,
    "start_time": "2022-02-06T07:48:23.846Z"
   },
   {
    "duration": 12,
    "start_time": "2022-02-06T07:48:23.866Z"
   },
   {
    "duration": 11,
    "start_time": "2022-02-06T07:48:23.880Z"
   },
   {
    "duration": 17,
    "start_time": "2022-02-06T07:48:23.895Z"
   },
   {
    "duration": 11,
    "start_time": "2022-02-06T07:48:23.915Z"
   },
   {
    "duration": 8,
    "start_time": "2022-02-06T07:48:23.928Z"
   },
   {
    "duration": 16,
    "start_time": "2022-02-06T07:48:23.938Z"
   },
   {
    "duration": 9,
    "start_time": "2022-02-06T07:48:23.956Z"
   },
   {
    "duration": 30,
    "start_time": "2022-02-06T07:48:23.967Z"
   },
   {
    "duration": 7,
    "start_time": "2022-02-06T07:48:24.008Z"
   },
   {
    "duration": 16,
    "start_time": "2022-02-06T07:48:24.018Z"
   },
   {
    "duration": 19,
    "start_time": "2022-02-06T07:48:24.037Z"
   },
   {
    "duration": 18,
    "start_time": "2022-02-06T07:48:24.058Z"
   },
   {
    "duration": 9,
    "start_time": "2022-02-06T07:48:24.108Z"
   },
   {
    "duration": 25,
    "start_time": "2022-02-06T07:48:24.119Z"
   },
   {
    "duration": 8,
    "start_time": "2022-02-06T07:48:24.146Z"
   },
   {
    "duration": 16,
    "start_time": "2022-02-06T07:48:24.156Z"
   },
   {
    "duration": 39,
    "start_time": "2022-02-06T07:48:24.174Z"
   },
   {
    "duration": 9,
    "start_time": "2022-02-06T07:48:24.218Z"
   },
   {
    "duration": 15,
    "start_time": "2022-02-06T07:48:24.229Z"
   },
   {
    "duration": 11,
    "start_time": "2022-02-06T07:48:24.246Z"
   },
   {
    "duration": 48,
    "start_time": "2022-02-06T07:48:24.259Z"
   },
   {
    "duration": 19,
    "start_time": "2022-02-06T07:48:24.309Z"
   },
   {
    "duration": 22,
    "start_time": "2022-02-06T07:48:24.330Z"
   },
   {
    "duration": 13,
    "start_time": "2022-02-06T07:48:24.354Z"
   },
   {
    "duration": 9,
    "start_time": "2022-02-06T07:48:24.368Z"
   },
   {
    "duration": 67,
    "start_time": "2022-02-06T07:48:24.379Z"
   },
   {
    "duration": 28,
    "start_time": "2022-02-06T07:48:24.448Z"
   },
   {
    "duration": 2,
    "start_time": "2022-02-06T07:48:24.478Z"
   },
   {
    "duration": 53,
    "start_time": "2022-02-06T07:48:24.482Z"
   },
   {
    "duration": 23,
    "start_time": "2022-02-06T07:48:24.537Z"
   },
   {
    "duration": 51,
    "start_time": "2022-02-06T07:48:24.562Z"
   },
   {
    "duration": 24,
    "start_time": "2022-02-06T07:48:24.615Z"
   },
   {
    "duration": 126,
    "start_time": "2022-02-06T07:48:24.641Z"
   },
   {
    "duration": 53,
    "start_time": "2022-02-06T07:48:24.768Z"
   },
   {
    "duration": 7,
    "start_time": "2022-02-06T07:48:24.823Z"
   },
   {
    "duration": 11,
    "start_time": "2022-02-06T07:48:24.832Z"
   },
   {
    "duration": 10,
    "start_time": "2022-02-06T07:48:24.845Z"
   },
   {
    "duration": 8,
    "start_time": "2022-02-06T07:48:24.856Z"
   },
   {
    "duration": 215,
    "start_time": "2022-02-06T07:48:24.865Z"
   },
   {
    "duration": 185,
    "start_time": "2022-02-06T07:48:25.082Z"
   },
   {
    "duration": 157,
    "start_time": "2022-02-06T07:48:25.269Z"
   },
   {
    "duration": 168,
    "start_time": "2022-02-06T07:48:25.427Z"
   },
   {
    "duration": 13,
    "start_time": "2022-02-06T07:48:25.597Z"
   },
   {
    "duration": 9,
    "start_time": "2022-02-06T07:48:25.612Z"
   },
   {
    "duration": 361,
    "start_time": "2022-02-06T07:48:25.623Z"
   },
   {
    "duration": 209,
    "start_time": "2022-02-06T07:48:25.986Z"
   },
   {
    "duration": 192,
    "start_time": "2022-02-06T07:48:26.197Z"
   },
   {
    "duration": 193,
    "start_time": "2022-02-06T07:48:26.391Z"
   },
   {
    "duration": 27,
    "start_time": "2022-02-06T07:48:26.586Z"
   },
   {
    "duration": 12,
    "start_time": "2022-02-06T07:48:26.615Z"
   },
   {
    "duration": 17,
    "start_time": "2022-02-06T07:49:37.440Z"
   },
   {
    "duration": 11,
    "start_time": "2022-02-06T07:49:52.203Z"
   },
   {
    "duration": 18,
    "start_time": "2022-02-06T07:49:55.500Z"
   },
   {
    "duration": 10,
    "start_time": "2022-02-06T07:49:58.822Z"
   },
   {
    "duration": 22,
    "start_time": "2022-02-06T07:50:00.441Z"
   },
   {
    "duration": 24,
    "start_time": "2022-02-06T07:51:49.366Z"
   },
   {
    "duration": 4,
    "start_time": "2022-02-06T07:51:56.605Z"
   },
   {
    "duration": 52,
    "start_time": "2022-02-06T07:51:56.611Z"
   },
   {
    "duration": 204,
    "start_time": "2022-02-06T07:51:56.666Z"
   },
   {
    "duration": 114,
    "start_time": "2022-02-06T07:51:56.873Z"
   },
   {
    "duration": 141,
    "start_time": "2022-02-06T07:51:56.989Z"
   },
   {
    "duration": 19,
    "start_time": "2022-02-06T07:51:57.132Z"
   },
   {
    "duration": 10,
    "start_time": "2022-02-06T07:51:57.154Z"
   },
   {
    "duration": 22,
    "start_time": "2022-02-06T07:51:57.167Z"
   },
   {
    "duration": 13,
    "start_time": "2022-02-06T07:51:57.192Z"
   },
   {
    "duration": 13,
    "start_time": "2022-02-06T07:51:57.207Z"
   },
   {
    "duration": 14,
    "start_time": "2022-02-06T07:51:57.222Z"
   },
   {
    "duration": 11,
    "start_time": "2022-02-06T07:51:57.238Z"
   },
   {
    "duration": 13,
    "start_time": "2022-02-06T07:51:57.251Z"
   },
   {
    "duration": 32,
    "start_time": "2022-02-06T07:51:57.266Z"
   },
   {
    "duration": 12,
    "start_time": "2022-02-06T07:51:57.301Z"
   },
   {
    "duration": 27,
    "start_time": "2022-02-06T07:51:57.314Z"
   },
   {
    "duration": 19,
    "start_time": "2022-02-06T07:51:57.344Z"
   },
   {
    "duration": 18,
    "start_time": "2022-02-06T07:51:57.365Z"
   },
   {
    "duration": 9,
    "start_time": "2022-02-06T07:51:57.408Z"
   },
   {
    "duration": 22,
    "start_time": "2022-02-06T07:51:57.420Z"
   },
   {
    "duration": 7,
    "start_time": "2022-02-06T07:51:57.444Z"
   },
   {
    "duration": 21,
    "start_time": "2022-02-06T07:51:57.454Z"
   },
   {
    "duration": 36,
    "start_time": "2022-02-06T07:51:57.477Z"
   },
   {
    "duration": 15,
    "start_time": "2022-02-06T07:51:57.515Z"
   },
   {
    "duration": 22,
    "start_time": "2022-02-06T07:51:57.531Z"
   },
   {
    "duration": 19,
    "start_time": "2022-02-06T07:51:57.555Z"
   },
   {
    "duration": 40,
    "start_time": "2022-02-06T07:51:57.576Z"
   },
   {
    "duration": 20,
    "start_time": "2022-02-06T07:51:57.618Z"
   },
   {
    "duration": 24,
    "start_time": "2022-02-06T07:51:57.640Z"
   },
   {
    "duration": 14,
    "start_time": "2022-02-06T07:51:57.666Z"
   },
   {
    "duration": 32,
    "start_time": "2022-02-06T07:51:57.682Z"
   },
   {
    "duration": 52,
    "start_time": "2022-02-06T07:51:57.715Z"
   },
   {
    "duration": 41,
    "start_time": "2022-02-06T07:51:57.769Z"
   },
   {
    "duration": 2,
    "start_time": "2022-02-06T07:51:57.812Z"
   },
   {
    "duration": 34,
    "start_time": "2022-02-06T07:51:57.816Z"
   },
   {
    "duration": 24,
    "start_time": "2022-02-06T07:51:57.851Z"
   },
   {
    "duration": 51,
    "start_time": "2022-02-06T07:51:57.877Z"
   },
   {
    "duration": 25,
    "start_time": "2022-02-06T07:51:57.930Z"
   },
   {
    "duration": 120,
    "start_time": "2022-02-06T07:51:57.957Z"
   },
   {
    "duration": 145,
    "start_time": "2022-02-06T07:51:58.079Z"
   },
   {
    "duration": 13,
    "start_time": "2022-02-06T07:51:58.226Z"
   },
   {
    "duration": 9,
    "start_time": "2022-02-06T07:51:58.241Z"
   },
   {
    "duration": 11,
    "start_time": "2022-02-06T07:51:58.252Z"
   },
   {
    "duration": 12,
    "start_time": "2022-02-06T07:51:58.264Z"
   },
   {
    "duration": 8,
    "start_time": "2022-02-06T07:51:58.277Z"
   },
   {
    "duration": 207,
    "start_time": "2022-02-06T07:51:58.308Z"
   },
   {
    "duration": 180,
    "start_time": "2022-02-06T07:51:58.517Z"
   },
   {
    "duration": 158,
    "start_time": "2022-02-06T07:51:58.699Z"
   },
   {
    "duration": 179,
    "start_time": "2022-02-06T07:51:58.859Z"
   },
   {
    "duration": 7,
    "start_time": "2022-02-06T07:51:59.040Z"
   },
   {
    "duration": 15,
    "start_time": "2022-02-06T07:51:59.049Z"
   },
   {
    "duration": 359,
    "start_time": "2022-02-06T07:51:59.066Z"
   },
   {
    "duration": 219,
    "start_time": "2022-02-06T07:51:59.426Z"
   },
   {
    "duration": 199,
    "start_time": "2022-02-06T07:51:59.647Z"
   },
   {
    "duration": 200,
    "start_time": "2022-02-06T07:51:59.852Z"
   },
   {
    "duration": 18,
    "start_time": "2022-02-06T07:52:00.054Z"
   },
   {
    "duration": 17,
    "start_time": "2022-02-06T07:52:00.074Z"
   },
   {
    "duration": 16,
    "start_time": "2022-02-06T07:52:05.531Z"
   },
   {
    "duration": 13,
    "start_time": "2022-02-06T07:52:32.600Z"
   },
   {
    "duration": 16,
    "start_time": "2022-02-06T07:52:37.880Z"
   },
   {
    "duration": 25,
    "start_time": "2022-02-06T07:53:36.102Z"
   },
   {
    "duration": 16,
    "start_time": "2022-02-06T07:53:39.125Z"
   },
   {
    "duration": 20,
    "start_time": "2022-02-06T07:53:58.103Z"
   },
   {
    "duration": 27,
    "start_time": "2022-02-06T07:54:54.169Z"
   },
   {
    "duration": 83,
    "start_time": "2022-02-06T07:55:08.061Z"
   },
   {
    "duration": 23,
    "start_time": "2022-02-06T07:55:11.543Z"
   },
   {
    "duration": 16,
    "start_time": "2022-02-06T07:55:14.241Z"
   },
   {
    "duration": 2464,
    "start_time": "2022-02-06T07:55:57.221Z"
   },
   {
    "duration": 17,
    "start_time": "2022-02-06T07:55:59.948Z"
   },
   {
    "duration": 2494,
    "start_time": "2022-02-06T07:56:18.403Z"
   },
   {
    "duration": 3,
    "start_time": "2022-02-06T07:56:31.657Z"
   },
   {
    "duration": 43,
    "start_time": "2022-02-06T07:56:31.663Z"
   },
   {
    "duration": 182,
    "start_time": "2022-02-06T07:56:31.708Z"
   },
   {
    "duration": 93,
    "start_time": "2022-02-06T07:56:31.892Z"
   },
   {
    "duration": 161,
    "start_time": "2022-02-06T07:56:31.988Z"
   },
   {
    "duration": 21,
    "start_time": "2022-02-06T07:56:32.151Z"
   },
   {
    "duration": 21,
    "start_time": "2022-02-06T07:56:32.175Z"
   },
   {
    "duration": 10,
    "start_time": "2022-02-06T07:56:32.199Z"
   },
   {
    "duration": 9,
    "start_time": "2022-02-06T07:56:32.211Z"
   },
   {
    "duration": 15,
    "start_time": "2022-02-06T07:56:32.222Z"
   },
   {
    "duration": 20,
    "start_time": "2022-02-06T07:56:32.239Z"
   },
   {
    "duration": 14,
    "start_time": "2022-02-06T07:56:32.261Z"
   },
   {
    "duration": 9,
    "start_time": "2022-02-06T07:56:32.277Z"
   },
   {
    "duration": 32,
    "start_time": "2022-02-06T07:56:32.288Z"
   },
   {
    "duration": 8,
    "start_time": "2022-02-06T07:56:32.323Z"
   },
   {
    "duration": 18,
    "start_time": "2022-02-06T07:56:32.333Z"
   },
   {
    "duration": 23,
    "start_time": "2022-02-06T07:56:32.353Z"
   },
   {
    "duration": 42,
    "start_time": "2022-02-06T07:56:32.378Z"
   },
   {
    "duration": 13,
    "start_time": "2022-02-06T07:56:32.424Z"
   },
   {
    "duration": 23,
    "start_time": "2022-02-06T07:56:32.440Z"
   },
   {
    "duration": 8,
    "start_time": "2022-02-06T07:56:32.466Z"
   },
   {
    "duration": 44,
    "start_time": "2022-02-06T07:56:32.476Z"
   },
   {
    "duration": 10,
    "start_time": "2022-02-06T07:56:32.522Z"
   },
   {
    "duration": 8,
    "start_time": "2022-02-06T07:56:32.534Z"
   },
   {
    "duration": 18,
    "start_time": "2022-02-06T07:56:32.544Z"
   },
   {
    "duration": 21,
    "start_time": "2022-02-06T07:56:32.564Z"
   },
   {
    "duration": 48,
    "start_time": "2022-02-06T07:56:32.587Z"
   },
   {
    "duration": 21,
    "start_time": "2022-02-06T07:56:32.637Z"
   },
   {
    "duration": 26,
    "start_time": "2022-02-06T07:56:32.660Z"
   },
   {
    "duration": 14,
    "start_time": "2022-02-06T07:56:32.708Z"
   },
   {
    "duration": 10,
    "start_time": "2022-02-06T07:56:32.724Z"
   },
   {
    "duration": 50,
    "start_time": "2022-02-06T07:56:32.737Z"
   },
   {
    "duration": 45,
    "start_time": "2022-02-06T07:56:32.788Z"
   },
   {
    "duration": 2,
    "start_time": "2022-02-06T07:56:32.836Z"
   },
   {
    "duration": 43,
    "start_time": "2022-02-06T07:56:32.841Z"
   },
   {
    "duration": 2595,
    "start_time": "2022-02-06T07:56:32.886Z"
   },
   {
    "duration": -927,
    "start_time": "2022-02-06T07:56:36.411Z"
   },
   {
    "duration": -939,
    "start_time": "2022-02-06T07:56:36.424Z"
   },
   {
    "duration": -948,
    "start_time": "2022-02-06T07:56:36.435Z"
   },
   {
    "duration": -958,
    "start_time": "2022-02-06T07:56:36.446Z"
   },
   {
    "duration": -968,
    "start_time": "2022-02-06T07:56:36.458Z"
   },
   {
    "duration": -976,
    "start_time": "2022-02-06T07:56:36.467Z"
   },
   {
    "duration": -982,
    "start_time": "2022-02-06T07:56:36.475Z"
   },
   {
    "duration": -996,
    "start_time": "2022-02-06T07:56:36.490Z"
   },
   {
    "duration": -1002,
    "start_time": "2022-02-06T07:56:36.498Z"
   },
   {
    "duration": -1010,
    "start_time": "2022-02-06T07:56:36.507Z"
   },
   {
    "duration": -1015,
    "start_time": "2022-02-06T07:56:36.514Z"
   },
   {
    "duration": -1022,
    "start_time": "2022-02-06T07:56:36.522Z"
   },
   {
    "duration": -1027,
    "start_time": "2022-02-06T07:56:36.529Z"
   },
   {
    "duration": -1033,
    "start_time": "2022-02-06T07:56:36.536Z"
   },
   {
    "duration": -1040,
    "start_time": "2022-02-06T07:56:36.545Z"
   },
   {
    "duration": -1046,
    "start_time": "2022-02-06T07:56:36.552Z"
   },
   {
    "duration": -1050,
    "start_time": "2022-02-06T07:56:36.558Z"
   },
   {
    "duration": -1056,
    "start_time": "2022-02-06T07:56:36.566Z"
   },
   {
    "duration": -1061,
    "start_time": "2022-02-06T07:56:36.572Z"
   },
   {
    "duration": -1065,
    "start_time": "2022-02-06T07:56:36.578Z"
   },
   {
    "duration": -1070,
    "start_time": "2022-02-06T07:56:36.584Z"
   },
   {
    "duration": -1085,
    "start_time": "2022-02-06T07:56:36.601Z"
   },
   {
    "duration": 29,
    "start_time": "2022-02-06T07:56:47.052Z"
   },
   {
    "duration": 32,
    "start_time": "2022-02-06T07:57:01.735Z"
   },
   {
    "duration": 33,
    "start_time": "2022-02-06T07:58:21.088Z"
   },
   {
    "duration": 28,
    "start_time": "2022-02-06T07:59:26.985Z"
   },
   {
    "duration": 52,
    "start_time": "2022-02-06T07:59:36.920Z"
   },
   {
    "duration": 28,
    "start_time": "2022-02-06T07:59:55.544Z"
   },
   {
    "duration": 18,
    "start_time": "2022-02-06T08:00:37.153Z"
   },
   {
    "duration": 13,
    "start_time": "2022-02-06T08:00:50.208Z"
   },
   {
    "duration": 32,
    "start_time": "2022-02-06T08:01:05.380Z"
   },
   {
    "duration": 26,
    "start_time": "2022-02-06T08:01:23.294Z"
   },
   {
    "duration": 12,
    "start_time": "2022-02-06T08:01:34.906Z"
   },
   {
    "duration": 13,
    "start_time": "2022-02-06T08:01:41.870Z"
   },
   {
    "duration": 4,
    "start_time": "2022-02-06T08:01:58.254Z"
   },
   {
    "duration": 12,
    "start_time": "2022-02-06T08:02:40.540Z"
   },
   {
    "duration": 7,
    "start_time": "2022-02-06T08:03:01.483Z"
   },
   {
    "duration": 6,
    "start_time": "2022-02-06T08:04:50.228Z"
   },
   {
    "duration": 9,
    "start_time": "2022-02-06T08:04:55.665Z"
   },
   {
    "duration": 8,
    "start_time": "2022-02-06T08:04:58.683Z"
   },
   {
    "duration": 8,
    "start_time": "2022-02-06T08:05:01.237Z"
   },
   {
    "duration": 9,
    "start_time": "2022-02-06T08:05:03.668Z"
   },
   {
    "duration": 9,
    "start_time": "2022-02-06T08:05:06.275Z"
   },
   {
    "duration": 10,
    "start_time": "2022-02-06T08:05:09.870Z"
   },
   {
    "duration": 12,
    "start_time": "2022-02-06T08:05:54.643Z"
   },
   {
    "duration": 8,
    "start_time": "2022-02-06T08:05:57.837Z"
   },
   {
    "duration": 8,
    "start_time": "2022-02-06T08:06:00.443Z"
   },
   {
    "duration": 8,
    "start_time": "2022-02-06T08:06:03.365Z"
   },
   {
    "duration": 8,
    "start_time": "2022-02-06T08:06:06.150Z"
   },
   {
    "duration": 8,
    "start_time": "2022-02-06T08:06:09.080Z"
   },
   {
    "duration": 7,
    "start_time": "2022-02-06T08:06:12.533Z"
   },
   {
    "duration": 13,
    "start_time": "2022-02-06T08:06:15.129Z"
   },
   {
    "duration": 26,
    "start_time": "2022-02-06T08:06:27.188Z"
   },
   {
    "duration": 3,
    "start_time": "2022-02-06T08:06:33.879Z"
   },
   {
    "duration": 46,
    "start_time": "2022-02-06T08:06:33.885Z"
   },
   {
    "duration": 179,
    "start_time": "2022-02-06T08:06:33.933Z"
   },
   {
    "duration": 86,
    "start_time": "2022-02-06T08:06:34.115Z"
   },
   {
    "duration": 140,
    "start_time": "2022-02-06T08:06:34.203Z"
   },
   {
    "duration": 18,
    "start_time": "2022-02-06T08:06:34.345Z"
   },
   {
    "duration": 18,
    "start_time": "2022-02-06T08:06:34.365Z"
   },
   {
    "duration": 23,
    "start_time": "2022-02-06T08:06:34.385Z"
   },
   {
    "duration": 24,
    "start_time": "2022-02-06T08:06:34.410Z"
   },
   {
    "duration": 11,
    "start_time": "2022-02-06T08:06:34.436Z"
   },
   {
    "duration": 16,
    "start_time": "2022-02-06T08:06:34.449Z"
   },
   {
    "duration": 15,
    "start_time": "2022-02-06T08:06:34.467Z"
   },
   {
    "duration": 10,
    "start_time": "2022-02-06T08:06:34.484Z"
   },
   {
    "duration": 26,
    "start_time": "2022-02-06T08:06:34.496Z"
   },
   {
    "duration": 5,
    "start_time": "2022-02-06T08:06:34.524Z"
   },
   {
    "duration": 15,
    "start_time": "2022-02-06T08:06:34.530Z"
   },
   {
    "duration": 18,
    "start_time": "2022-02-06T08:06:34.547Z"
   },
   {
    "duration": 40,
    "start_time": "2022-02-06T08:06:34.567Z"
   },
   {
    "duration": 9,
    "start_time": "2022-02-06T08:06:34.612Z"
   },
   {
    "duration": 36,
    "start_time": "2022-02-06T08:06:34.624Z"
   },
   {
    "duration": 9,
    "start_time": "2022-02-06T08:06:34.662Z"
   },
   {
    "duration": 40,
    "start_time": "2022-02-06T08:06:34.673Z"
   },
   {
    "duration": 10,
    "start_time": "2022-02-06T08:06:34.715Z"
   },
   {
    "duration": 11,
    "start_time": "2022-02-06T08:06:34.726Z"
   },
   {
    "duration": 15,
    "start_time": "2022-02-06T08:06:34.739Z"
   },
   {
    "duration": 12,
    "start_time": "2022-02-06T08:06:34.757Z"
   },
   {
    "duration": 50,
    "start_time": "2022-02-06T08:06:34.771Z"
   },
   {
    "duration": 20,
    "start_time": "2022-02-06T08:06:34.823Z"
   },
   {
    "duration": 23,
    "start_time": "2022-02-06T08:06:34.845Z"
   },
   {
    "duration": 13,
    "start_time": "2022-02-06T08:06:34.870Z"
   },
   {
    "duration": 29,
    "start_time": "2022-02-06T08:06:34.885Z"
   },
   {
    "duration": 50,
    "start_time": "2022-02-06T08:06:34.916Z"
   },
   {
    "duration": 41,
    "start_time": "2022-02-06T08:06:34.968Z"
   },
   {
    "duration": 2,
    "start_time": "2022-02-06T08:06:35.012Z"
   },
   {
    "duration": 38,
    "start_time": "2022-02-06T08:06:35.016Z"
   },
   {
    "duration": 25,
    "start_time": "2022-02-06T08:06:35.056Z"
   },
   {
    "duration": 33,
    "start_time": "2022-02-06T08:06:35.083Z"
   },
   {
    "duration": 32,
    "start_time": "2022-02-06T08:06:35.118Z"
   },
   {
    "duration": 25,
    "start_time": "2022-02-06T08:06:35.152Z"
   },
   {
    "duration": 141,
    "start_time": "2022-02-06T08:06:35.179Z"
   },
   {
    "duration": 47,
    "start_time": "2022-02-06T08:06:35.322Z"
   },
   {
    "duration": 15,
    "start_time": "2022-02-06T08:06:35.370Z"
   },
   {
    "duration": 26,
    "start_time": "2022-02-06T08:06:35.387Z"
   },
   {
    "duration": 14,
    "start_time": "2022-02-06T08:06:35.414Z"
   },
   {
    "duration": 17,
    "start_time": "2022-02-06T08:06:35.430Z"
   },
   {
    "duration": 13,
    "start_time": "2022-02-06T08:06:35.449Z"
   },
   {
    "duration": 218,
    "start_time": "2022-02-06T08:06:35.464Z"
   },
   {
    "duration": 306,
    "start_time": "2022-02-06T08:06:35.684Z"
   },
   {
    "duration": 179,
    "start_time": "2022-02-06T08:06:35.992Z"
   },
   {
    "duration": 190,
    "start_time": "2022-02-06T08:06:36.173Z"
   },
   {
    "duration": 8,
    "start_time": "2022-02-06T08:06:36.365Z"
   },
   {
    "duration": 22,
    "start_time": "2022-02-06T08:06:36.374Z"
   },
   {
    "duration": 394,
    "start_time": "2022-02-06T08:06:36.398Z"
   },
   {
    "duration": 224,
    "start_time": "2022-02-06T08:06:36.794Z"
   },
   {
    "duration": 217,
    "start_time": "2022-02-06T08:06:37.023Z"
   },
   {
    "duration": 223,
    "start_time": "2022-02-06T08:06:37.243Z"
   },
   {
    "duration": 18,
    "start_time": "2022-02-06T08:06:37.468Z"
   },
   {
    "duration": 25,
    "start_time": "2022-02-06T08:06:37.488Z"
   },
   {
    "duration": 6,
    "start_time": "2022-02-06T08:06:49.353Z"
   },
   {
    "duration": 253,
    "start_time": "2022-02-06T08:07:03.677Z"
   },
   {
    "duration": 251,
    "start_time": "2022-02-06T08:07:17.021Z"
   },
   {
    "duration": 6,
    "start_time": "2022-02-06T08:07:29.139Z"
   },
   {
    "duration": 268,
    "start_time": "2022-02-06T08:07:35.788Z"
   },
   {
    "duration": 5,
    "start_time": "2022-02-06T08:07:39.074Z"
   },
   {
    "duration": 5,
    "start_time": "2022-02-06T08:08:24.718Z"
   },
   {
    "duration": 6,
    "start_time": "2022-02-06T08:08:30.523Z"
   },
   {
    "duration": 18,
    "start_time": "2022-02-06T08:09:26.083Z"
   },
   {
    "duration": 37,
    "start_time": "2022-02-06T08:09:32.760Z"
   },
   {
    "duration": 13,
    "start_time": "2022-02-06T08:09:42.803Z"
   },
   {
    "duration": 8,
    "start_time": "2022-02-06T08:09:45.676Z"
   },
   {
    "duration": 8,
    "start_time": "2022-02-06T08:09:48.219Z"
   },
   {
    "duration": 10,
    "start_time": "2022-02-06T08:09:50.964Z"
   },
   {
    "duration": 8,
    "start_time": "2022-02-06T08:09:55.498Z"
   },
   {
    "duration": 4,
    "start_time": "2022-02-06T08:11:24.052Z"
   },
   {
    "duration": 4,
    "start_time": "2022-02-06T08:11:27.117Z"
   },
   {
    "duration": 32,
    "start_time": "2022-02-06T08:11:27.125Z"
   },
   {
    "duration": 188,
    "start_time": "2022-02-06T08:11:27.159Z"
   },
   {
    "duration": 89,
    "start_time": "2022-02-06T08:11:27.349Z"
   },
   {
    "duration": 132,
    "start_time": "2022-02-06T08:11:27.441Z"
   },
   {
    "duration": 18,
    "start_time": "2022-02-06T08:11:27.575Z"
   },
   {
    "duration": 14,
    "start_time": "2022-02-06T08:11:27.595Z"
   },
   {
    "duration": 8,
    "start_time": "2022-02-06T08:11:27.611Z"
   },
   {
    "duration": 8,
    "start_time": "2022-02-06T08:11:27.622Z"
   },
   {
    "duration": 16,
    "start_time": "2022-02-06T08:11:27.632Z"
   },
   {
    "duration": 21,
    "start_time": "2022-02-06T08:11:27.650Z"
   },
   {
    "duration": 11,
    "start_time": "2022-02-06T08:11:27.673Z"
   },
   {
    "duration": 13,
    "start_time": "2022-02-06T08:11:27.686Z"
   },
   {
    "duration": 35,
    "start_time": "2022-02-06T08:11:27.701Z"
   },
   {
    "duration": 6,
    "start_time": "2022-02-06T08:11:27.739Z"
   },
   {
    "duration": 17,
    "start_time": "2022-02-06T08:11:27.747Z"
   },
   {
    "duration": 47,
    "start_time": "2022-02-06T08:11:27.766Z"
   },
   {
    "duration": 18,
    "start_time": "2022-02-06T08:11:27.816Z"
   },
   {
    "duration": 13,
    "start_time": "2022-02-06T08:11:27.837Z"
   },
   {
    "duration": 22,
    "start_time": "2022-02-06T08:11:27.852Z"
   },
   {
    "duration": 32,
    "start_time": "2022-02-06T08:11:27.876Z"
   },
   {
    "duration": 24,
    "start_time": "2022-02-06T08:11:27.910Z"
   },
   {
    "duration": 12,
    "start_time": "2022-02-06T08:11:27.936Z"
   },
   {
    "duration": 17,
    "start_time": "2022-02-06T08:11:27.952Z"
   },
   {
    "duration": 15,
    "start_time": "2022-02-06T08:11:27.971Z"
   },
   {
    "duration": 25,
    "start_time": "2022-02-06T08:11:27.988Z"
   },
   {
    "duration": 38,
    "start_time": "2022-02-06T08:11:28.015Z"
   },
   {
    "duration": 22,
    "start_time": "2022-02-06T08:11:28.055Z"
   },
   {
    "duration": 43,
    "start_time": "2022-02-06T08:11:28.080Z"
   },
   {
    "duration": 15,
    "start_time": "2022-02-06T08:11:28.125Z"
   },
   {
    "duration": 10,
    "start_time": "2022-02-06T08:11:28.142Z"
   },
   {
    "duration": 64,
    "start_time": "2022-02-06T08:11:28.154Z"
   },
   {
    "duration": 27,
    "start_time": "2022-02-06T08:11:28.220Z"
   },
   {
    "duration": 2,
    "start_time": "2022-02-06T08:11:28.249Z"
   },
   {
    "duration": 54,
    "start_time": "2022-02-06T08:11:28.253Z"
   },
   {
    "duration": 23,
    "start_time": "2022-02-06T08:11:28.309Z"
   },
   {
    "duration": 15,
    "start_time": "2022-02-06T08:11:28.334Z"
   },
   {
    "duration": 34,
    "start_time": "2022-02-06T08:11:28.351Z"
   },
   {
    "duration": 40,
    "start_time": "2022-02-06T08:11:28.387Z"
   },
   {
    "duration": 119,
    "start_time": "2022-02-06T08:11:28.429Z"
   },
   {
    "duration": 56,
    "start_time": "2022-02-06T08:11:28.550Z"
   },
   {
    "duration": 15,
    "start_time": "2022-02-06T08:11:28.609Z"
   },
   {
    "duration": 8,
    "start_time": "2022-02-06T08:11:28.626Z"
   },
   {
    "duration": 16,
    "start_time": "2022-02-06T08:11:28.636Z"
   },
   {
    "duration": 10,
    "start_time": "2022-02-06T08:11:28.654Z"
   },
   {
    "duration": 7,
    "start_time": "2022-02-06T08:11:28.666Z"
   },
   {
    "duration": 236,
    "start_time": "2022-02-06T08:11:28.675Z"
   },
   {
    "duration": 197,
    "start_time": "2022-02-06T08:11:28.913Z"
   },
   {
    "duration": 160,
    "start_time": "2022-02-06T08:11:29.112Z"
   },
   {
    "duration": 180,
    "start_time": "2022-02-06T08:11:29.274Z"
   },
   {
    "duration": 8,
    "start_time": "2022-02-06T08:11:29.456Z"
   },
   {
    "duration": 11,
    "start_time": "2022-02-06T08:11:29.465Z"
   },
   {
    "duration": 371,
    "start_time": "2022-02-06T08:11:29.478Z"
   },
   {
    "duration": 224,
    "start_time": "2022-02-06T08:11:29.851Z"
   },
   {
    "duration": 336,
    "start_time": "2022-02-06T08:11:30.077Z"
   },
   {
    "duration": 211,
    "start_time": "2022-02-06T08:11:30.415Z"
   },
   {
    "duration": 4,
    "start_time": "2022-02-06T08:11:30.628Z"
   },
   {
    "duration": 26,
    "start_time": "2022-02-06T08:11:30.634Z"
   },
   {
    "duration": 23,
    "start_time": "2022-02-06T08:11:30.662Z"
   },
   {
    "duration": 3,
    "start_time": "2022-02-06T08:12:21.094Z"
   },
   {
    "duration": 30,
    "start_time": "2022-02-06T08:12:21.103Z"
   },
   {
    "duration": 198,
    "start_time": "2022-02-06T08:12:21.134Z"
   },
   {
    "duration": 109,
    "start_time": "2022-02-06T08:12:21.334Z"
   },
   {
    "duration": 136,
    "start_time": "2022-02-06T08:12:21.445Z"
   },
   {
    "duration": 18,
    "start_time": "2022-02-06T08:12:21.583Z"
   },
   {
    "duration": 10,
    "start_time": "2022-02-06T08:12:21.603Z"
   },
   {
    "duration": 22,
    "start_time": "2022-02-06T08:12:21.615Z"
   },
   {
    "duration": 19,
    "start_time": "2022-02-06T08:12:21.640Z"
   },
   {
    "duration": 16,
    "start_time": "2022-02-06T08:12:21.661Z"
   },
   {
    "duration": 22,
    "start_time": "2022-02-06T08:12:21.679Z"
   },
   {
    "duration": 16,
    "start_time": "2022-02-06T08:12:21.703Z"
   },
   {
    "duration": 12,
    "start_time": "2022-02-06T08:12:21.721Z"
   },
   {
    "duration": 28,
    "start_time": "2022-02-06T08:12:21.735Z"
   },
   {
    "duration": 6,
    "start_time": "2022-02-06T08:12:21.765Z"
   },
   {
    "duration": 21,
    "start_time": "2022-02-06T08:12:21.773Z"
   },
   {
    "duration": 26,
    "start_time": "2022-02-06T08:12:21.796Z"
   },
   {
    "duration": 16,
    "start_time": "2022-02-06T08:12:21.824Z"
   },
   {
    "duration": 18,
    "start_time": "2022-02-06T08:12:21.842Z"
   },
   {
    "duration": 29,
    "start_time": "2022-02-06T08:12:21.862Z"
   },
   {
    "duration": 17,
    "start_time": "2022-02-06T08:12:21.893Z"
   },
   {
    "duration": 33,
    "start_time": "2022-02-06T08:12:21.911Z"
   },
   {
    "duration": 16,
    "start_time": "2022-02-06T08:12:21.945Z"
   },
   {
    "duration": 23,
    "start_time": "2022-02-06T08:12:21.965Z"
   },
   {
    "duration": 23,
    "start_time": "2022-02-06T08:12:21.991Z"
   },
   {
    "duration": 19,
    "start_time": "2022-02-06T08:12:22.016Z"
   },
   {
    "duration": 58,
    "start_time": "2022-02-06T08:12:22.037Z"
   },
   {
    "duration": 20,
    "start_time": "2022-02-06T08:12:22.097Z"
   },
   {
    "duration": 24,
    "start_time": "2022-02-06T08:12:22.119Z"
   },
   {
    "duration": 17,
    "start_time": "2022-02-06T08:12:22.145Z"
   },
   {
    "duration": 10,
    "start_time": "2022-02-06T08:12:22.164Z"
   },
   {
    "duration": 65,
    "start_time": "2022-02-06T08:12:22.176Z"
   },
   {
    "duration": 28,
    "start_time": "2022-02-06T08:12:22.243Z"
   },
   {
    "duration": 3,
    "start_time": "2022-02-06T08:12:22.274Z"
   },
   {
    "duration": 51,
    "start_time": "2022-02-06T08:12:22.279Z"
   },
   {
    "duration": 26,
    "start_time": "2022-02-06T08:12:22.332Z"
   },
   {
    "duration": 52,
    "start_time": "2022-02-06T08:12:22.361Z"
   },
   {
    "duration": 25,
    "start_time": "2022-02-06T08:12:22.415Z"
   },
   {
    "duration": 123,
    "start_time": "2022-02-06T08:12:22.442Z"
   },
   {
    "duration": 55,
    "start_time": "2022-02-06T08:12:22.567Z"
   },
   {
    "duration": 7,
    "start_time": "2022-02-06T08:12:22.624Z"
   },
   {
    "duration": 20,
    "start_time": "2022-02-06T08:12:22.633Z"
   },
   {
    "duration": 18,
    "start_time": "2022-02-06T08:12:22.655Z"
   },
   {
    "duration": 15,
    "start_time": "2022-02-06T08:12:22.675Z"
   },
   {
    "duration": 200,
    "start_time": "2022-02-06T08:12:22.692Z"
   },
   {
    "duration": 178,
    "start_time": "2022-02-06T08:12:22.894Z"
   },
   {
    "duration": 171,
    "start_time": "2022-02-06T08:12:23.075Z"
   },
   {
    "duration": 173,
    "start_time": "2022-02-06T08:12:23.248Z"
   },
   {
    "duration": 6,
    "start_time": "2022-02-06T08:12:23.423Z"
   },
   {
    "duration": 18,
    "start_time": "2022-02-06T08:12:23.431Z"
   },
   {
    "duration": 383,
    "start_time": "2022-02-06T08:12:23.451Z"
   },
   {
    "duration": 210,
    "start_time": "2022-02-06T08:12:23.836Z"
   },
   {
    "duration": 209,
    "start_time": "2022-02-06T08:12:24.048Z"
   },
   {
    "duration": 198,
    "start_time": "2022-02-06T08:12:24.259Z"
   },
   {
    "duration": 12,
    "start_time": "2022-02-06T08:12:24.458Z"
   },
   {
    "duration": 33,
    "start_time": "2022-02-06T08:12:24.472Z"
   },
   {
    "duration": 36,
    "start_time": "2022-02-06T08:13:40.750Z"
   },
   {
    "duration": 32,
    "start_time": "2022-02-06T08:13:47.761Z"
   },
   {
    "duration": 17,
    "start_time": "2022-02-06T08:13:57.602Z"
   },
   {
    "duration": 4,
    "start_time": "2022-02-06T08:15:32.283Z"
   },
   {
    "duration": 10,
    "start_time": "2022-02-06T08:15:51.816Z"
   },
   {
    "duration": 3,
    "start_time": "2022-02-06T08:16:01.495Z"
   },
   {
    "duration": 41,
    "start_time": "2022-02-06T08:16:01.503Z"
   },
   {
    "duration": 209,
    "start_time": "2022-02-06T08:16:01.547Z"
   },
   {
    "duration": 96,
    "start_time": "2022-02-06T08:16:01.758Z"
   },
   {
    "duration": 142,
    "start_time": "2022-02-06T08:16:01.857Z"
   },
   {
    "duration": 18,
    "start_time": "2022-02-06T08:16:02.001Z"
   },
   {
    "duration": 25,
    "start_time": "2022-02-06T08:16:02.021Z"
   },
   {
    "duration": 32,
    "start_time": "2022-02-06T08:16:02.048Z"
   },
   {
    "duration": 19,
    "start_time": "2022-02-06T08:16:02.084Z"
   },
   {
    "duration": 16,
    "start_time": "2022-02-06T08:16:02.106Z"
   },
   {
    "duration": 26,
    "start_time": "2022-02-06T08:16:02.124Z"
   },
   {
    "duration": 36,
    "start_time": "2022-02-06T08:16:02.152Z"
   },
   {
    "duration": 10,
    "start_time": "2022-02-06T08:16:02.190Z"
   },
   {
    "duration": 30,
    "start_time": "2022-02-06T08:16:02.202Z"
   },
   {
    "duration": 6,
    "start_time": "2022-02-06T08:16:02.234Z"
   },
   {
    "duration": 15,
    "start_time": "2022-02-06T08:16:02.241Z"
   },
   {
    "duration": 28,
    "start_time": "2022-02-06T08:16:02.258Z"
   },
   {
    "duration": 17,
    "start_time": "2022-02-06T08:16:02.308Z"
   },
   {
    "duration": 16,
    "start_time": "2022-02-06T08:16:02.327Z"
   },
   {
    "duration": 30,
    "start_time": "2022-02-06T08:16:02.345Z"
   },
   {
    "duration": 8,
    "start_time": "2022-02-06T08:16:02.377Z"
   },
   {
    "duration": 37,
    "start_time": "2022-02-06T08:16:02.387Z"
   },
   {
    "duration": 11,
    "start_time": "2022-02-06T08:16:02.426Z"
   },
   {
    "duration": 11,
    "start_time": "2022-02-06T08:16:02.441Z"
   },
   {
    "duration": 21,
    "start_time": "2022-02-06T08:16:02.455Z"
   },
   {
    "duration": 23,
    "start_time": "2022-02-06T08:16:02.477Z"
   },
   {
    "duration": 46,
    "start_time": "2022-02-06T08:16:02.507Z"
   },
   {
    "duration": 22,
    "start_time": "2022-02-06T08:16:02.555Z"
   },
   {
    "duration": 33,
    "start_time": "2022-02-06T08:16:02.579Z"
   },
   {
    "duration": 14,
    "start_time": "2022-02-06T08:16:02.614Z"
   },
   {
    "duration": 10,
    "start_time": "2022-02-06T08:16:02.631Z"
   },
   {
    "duration": 67,
    "start_time": "2022-02-06T08:16:02.643Z"
   },
   {
    "duration": 31,
    "start_time": "2022-02-06T08:16:02.713Z"
   },
   {
    "duration": 2,
    "start_time": "2022-02-06T08:16:02.746Z"
   },
   {
    "duration": 47,
    "start_time": "2022-02-06T08:16:02.750Z"
   },
   {
    "duration": 30,
    "start_time": "2022-02-06T08:16:02.799Z"
   },
   {
    "duration": 32,
    "start_time": "2022-02-06T08:16:02.831Z"
   },
   {
    "duration": 47,
    "start_time": "2022-02-06T08:16:02.865Z"
   },
   {
    "duration": 124,
    "start_time": "2022-02-06T08:16:02.913Z"
   },
   {
    "duration": 49,
    "start_time": "2022-02-06T08:16:03.039Z"
   },
   {
    "duration": 18,
    "start_time": "2022-02-06T08:16:03.090Z"
   },
   {
    "duration": 19,
    "start_time": "2022-02-06T08:16:03.110Z"
   },
   {
    "duration": 12,
    "start_time": "2022-02-06T08:16:03.131Z"
   },
   {
    "duration": 20,
    "start_time": "2022-02-06T08:16:03.145Z"
   },
   {
    "duration": 12,
    "start_time": "2022-02-06T08:16:03.167Z"
   },
   {
    "duration": 232,
    "start_time": "2022-02-06T08:16:03.181Z"
   },
   {
    "duration": 203,
    "start_time": "2022-02-06T08:16:03.416Z"
   },
   {
    "duration": 190,
    "start_time": "2022-02-06T08:16:03.622Z"
   },
   {
    "duration": 201,
    "start_time": "2022-02-06T08:16:03.814Z"
   },
   {
    "duration": 7,
    "start_time": "2022-02-06T08:16:04.018Z"
   },
   {
    "duration": 9,
    "start_time": "2022-02-06T08:16:04.027Z"
   },
   {
    "duration": 574,
    "start_time": "2022-02-06T08:16:04.038Z"
   },
   {
    "duration": 201,
    "start_time": "2022-02-06T08:16:04.614Z"
   },
   {
    "duration": 216,
    "start_time": "2022-02-06T08:16:04.817Z"
   },
   {
    "duration": 244,
    "start_time": "2022-02-06T08:16:05.034Z"
   },
   {
    "duration": 10,
    "start_time": "2022-02-06T08:16:05.280Z"
   },
   {
    "duration": 23,
    "start_time": "2022-02-06T08:16:05.292Z"
   },
   {
    "duration": 16,
    "start_time": "2022-02-06T08:16:05.318Z"
   },
   {
    "duration": 86,
    "start_time": "2022-02-06T08:18:43.213Z"
   },
   {
    "duration": 79,
    "start_time": "2022-02-06T08:18:48.524Z"
   },
   {
    "duration": 6,
    "start_time": "2022-02-06T08:18:50.873Z"
   },
   {
    "duration": 23,
    "start_time": "2022-02-06T08:18:54.334Z"
   },
   {
    "duration": 6,
    "start_time": "2022-02-06T08:19:12.483Z"
   },
   {
    "duration": 5,
    "start_time": "2022-02-06T08:19:17.234Z"
   },
   {
    "duration": 10,
    "start_time": "2022-02-06T08:20:24.301Z"
   },
   {
    "duration": 18,
    "start_time": "2022-02-06T08:20:30.754Z"
   },
   {
    "duration": 428,
    "start_time": "2022-02-06T08:21:29.138Z"
   },
   {
    "duration": 6,
    "start_time": "2022-02-06T08:21:48.093Z"
   },
   {
    "duration": 4,
    "start_time": "2022-02-06T08:23:37.477Z"
   },
   {
    "duration": 33,
    "start_time": "2022-02-06T08:23:37.484Z"
   },
   {
    "duration": 192,
    "start_time": "2022-02-06T08:23:37.520Z"
   },
   {
    "duration": 98,
    "start_time": "2022-02-06T08:23:37.714Z"
   },
   {
    "duration": 139,
    "start_time": "2022-02-06T08:23:37.814Z"
   },
   {
    "duration": 17,
    "start_time": "2022-02-06T08:23:37.955Z"
   },
   {
    "duration": 13,
    "start_time": "2022-02-06T08:23:37.974Z"
   },
   {
    "duration": 5,
    "start_time": "2022-02-06T08:23:37.989Z"
   },
   {
    "duration": 6,
    "start_time": "2022-02-06T08:23:37.997Z"
   },
   {
    "duration": 5,
    "start_time": "2022-02-06T08:23:38.008Z"
   },
   {
    "duration": 7,
    "start_time": "2022-02-06T08:23:38.015Z"
   },
   {
    "duration": 8,
    "start_time": "2022-02-06T08:23:38.025Z"
   },
   {
    "duration": 10,
    "start_time": "2022-02-06T08:23:38.036Z"
   },
   {
    "duration": 36,
    "start_time": "2022-02-06T08:23:38.048Z"
   },
   {
    "duration": 21,
    "start_time": "2022-02-06T08:23:38.086Z"
   },
   {
    "duration": 13,
    "start_time": "2022-02-06T08:23:38.110Z"
   },
   {
    "duration": 19,
    "start_time": "2022-02-06T08:23:38.125Z"
   },
   {
    "duration": 19,
    "start_time": "2022-02-06T08:23:38.147Z"
   },
   {
    "duration": 48,
    "start_time": "2022-02-06T08:23:38.168Z"
   },
   {
    "duration": 23,
    "start_time": "2022-02-06T08:23:38.218Z"
   },
   {
    "duration": 8,
    "start_time": "2022-02-06T08:23:38.243Z"
   },
   {
    "duration": 18,
    "start_time": "2022-02-06T08:23:38.252Z"
   },
   {
    "duration": 43,
    "start_time": "2022-02-06T08:23:38.271Z"
   },
   {
    "duration": 7,
    "start_time": "2022-02-06T08:23:38.318Z"
   },
   {
    "duration": 11,
    "start_time": "2022-02-06T08:23:38.327Z"
   },
   {
    "duration": 12,
    "start_time": "2022-02-06T08:23:38.340Z"
   },
   {
    "duration": 61,
    "start_time": "2022-02-06T08:23:38.354Z"
   },
   {
    "duration": 21,
    "start_time": "2022-02-06T08:23:38.417Z"
   },
   {
    "duration": 25,
    "start_time": "2022-02-06T08:23:38.440Z"
   },
   {
    "duration": 14,
    "start_time": "2022-02-06T08:23:38.467Z"
   },
   {
    "duration": 30,
    "start_time": "2022-02-06T08:23:38.483Z"
   },
   {
    "duration": 51,
    "start_time": "2022-02-06T08:23:38.515Z"
   },
   {
    "duration": 41,
    "start_time": "2022-02-06T08:23:38.568Z"
   },
   {
    "duration": 3,
    "start_time": "2022-02-06T08:23:38.611Z"
   },
   {
    "duration": 35,
    "start_time": "2022-02-06T08:23:38.615Z"
   },
   {
    "duration": 25,
    "start_time": "2022-02-06T08:23:38.652Z"
   },
   {
    "duration": 50,
    "start_time": "2022-02-06T08:23:38.679Z"
   },
   {
    "duration": 23,
    "start_time": "2022-02-06T08:23:38.731Z"
   },
   {
    "duration": 120,
    "start_time": "2022-02-06T08:23:38.756Z"
   },
   {
    "duration": 60,
    "start_time": "2022-02-06T08:23:38.878Z"
   },
   {
    "duration": 4,
    "start_time": "2022-02-06T08:23:38.939Z"
   },
   {
    "duration": 13,
    "start_time": "2022-02-06T08:23:38.945Z"
   },
   {
    "duration": 11,
    "start_time": "2022-02-06T08:23:38.960Z"
   },
   {
    "duration": 10,
    "start_time": "2022-02-06T08:23:38.973Z"
   },
   {
    "duration": 23,
    "start_time": "2022-02-06T08:23:38.985Z"
   },
   {
    "duration": 204,
    "start_time": "2022-02-06T08:23:39.010Z"
   },
   {
    "duration": 199,
    "start_time": "2022-02-06T08:23:39.216Z"
   },
   {
    "duration": 171,
    "start_time": "2022-02-06T08:23:39.417Z"
   },
   {
    "duration": 190,
    "start_time": "2022-02-06T08:23:39.590Z"
   },
   {
    "duration": 7,
    "start_time": "2022-02-06T08:23:39.782Z"
   },
   {
    "duration": 22,
    "start_time": "2022-02-06T08:23:39.791Z"
   },
   {
    "duration": 367,
    "start_time": "2022-02-06T08:23:39.814Z"
   },
   {
    "duration": 213,
    "start_time": "2022-02-06T08:23:40.183Z"
   },
   {
    "duration": 222,
    "start_time": "2022-02-06T08:23:40.399Z"
   },
   {
    "duration": 214,
    "start_time": "2022-02-06T08:23:40.623Z"
   },
   {
    "duration": 8,
    "start_time": "2022-02-06T08:23:40.839Z"
   },
   {
    "duration": 10,
    "start_time": "2022-02-06T08:23:40.849Z"
   },
   {
    "duration": 17,
    "start_time": "2022-02-06T08:23:40.860Z"
   },
   {
    "duration": 10,
    "start_time": "2022-02-06T08:23:40.878Z"
   },
   {
    "duration": 2,
    "start_time": "2022-02-06T08:24:57.965Z"
   },
   {
    "duration": 4,
    "start_time": "2022-02-06T08:27:15.117Z"
   },
   {
    "duration": 35,
    "start_time": "2022-02-06T08:27:15.123Z"
   },
   {
    "duration": 189,
    "start_time": "2022-02-06T08:27:15.161Z"
   },
   {
    "duration": 97,
    "start_time": "2022-02-06T08:27:15.352Z"
   },
   {
    "duration": 143,
    "start_time": "2022-02-06T08:27:15.451Z"
   },
   {
    "duration": 19,
    "start_time": "2022-02-06T08:27:15.595Z"
   },
   {
    "duration": 18,
    "start_time": "2022-02-06T08:27:15.615Z"
   },
   {
    "duration": 11,
    "start_time": "2022-02-06T08:27:15.636Z"
   },
   {
    "duration": 11,
    "start_time": "2022-02-06T08:27:15.650Z"
   },
   {
    "duration": 9,
    "start_time": "2022-02-06T08:27:15.663Z"
   },
   {
    "duration": 7,
    "start_time": "2022-02-06T08:27:15.674Z"
   },
   {
    "duration": 8,
    "start_time": "2022-02-06T08:27:15.682Z"
   },
   {
    "duration": 18,
    "start_time": "2022-02-06T08:27:15.692Z"
   },
   {
    "duration": 30,
    "start_time": "2022-02-06T08:27:15.712Z"
   },
   {
    "duration": 6,
    "start_time": "2022-02-06T08:27:15.744Z"
   },
   {
    "duration": 14,
    "start_time": "2022-02-06T08:27:15.751Z"
   },
   {
    "duration": 46,
    "start_time": "2022-02-06T08:27:15.767Z"
   },
   {
    "duration": 16,
    "start_time": "2022-02-06T08:27:15.815Z"
   },
   {
    "duration": 10,
    "start_time": "2022-02-06T08:27:15.833Z"
   },
   {
    "duration": 21,
    "start_time": "2022-02-06T08:27:15.845Z"
   },
   {
    "duration": 39,
    "start_time": "2022-02-06T08:27:15.868Z"
   },
   {
    "duration": 16,
    "start_time": "2022-02-06T08:27:15.910Z"
   },
   {
    "duration": 11,
    "start_time": "2022-02-06T08:27:15.931Z"
   },
   {
    "duration": 8,
    "start_time": "2022-02-06T08:27:15.946Z"
   },
   {
    "duration": 19,
    "start_time": "2022-02-06T08:27:15.956Z"
   },
   {
    "duration": 31,
    "start_time": "2022-02-06T08:27:15.977Z"
   },
   {
    "duration": 37,
    "start_time": "2022-02-06T08:27:16.010Z"
   },
   {
    "duration": 21,
    "start_time": "2022-02-06T08:27:16.049Z"
   },
   {
    "duration": 44,
    "start_time": "2022-02-06T08:27:16.073Z"
   },
   {
    "duration": 15,
    "start_time": "2022-02-06T08:27:16.119Z"
   },
   {
    "duration": 9,
    "start_time": "2022-02-06T08:27:16.136Z"
   },
   {
    "duration": 65,
    "start_time": "2022-02-06T08:27:16.147Z"
   },
   {
    "duration": 27,
    "start_time": "2022-02-06T08:27:16.214Z"
   },
   {
    "duration": 2,
    "start_time": "2022-02-06T08:27:16.243Z"
   },
   {
    "duration": 35,
    "start_time": "2022-02-06T08:27:16.247Z"
   },
   {
    "duration": 42,
    "start_time": "2022-02-06T08:27:16.284Z"
   },
   {
    "duration": 31,
    "start_time": "2022-02-06T08:27:16.328Z"
   },
   {
    "duration": 24,
    "start_time": "2022-02-06T08:27:16.361Z"
   },
   {
    "duration": 138,
    "start_time": "2022-02-06T08:27:16.386Z"
   },
   {
    "duration": 46,
    "start_time": "2022-02-06T08:27:16.526Z"
   },
   {
    "duration": 5,
    "start_time": "2022-02-06T08:27:16.574Z"
   },
   {
    "duration": 28,
    "start_time": "2022-02-06T08:27:16.580Z"
   },
   {
    "duration": 21,
    "start_time": "2022-02-06T08:27:16.610Z"
   },
   {
    "duration": 17,
    "start_time": "2022-02-06T08:27:16.633Z"
   },
   {
    "duration": 20,
    "start_time": "2022-02-06T08:27:16.652Z"
   },
   {
    "duration": 217,
    "start_time": "2022-02-06T08:27:16.674Z"
   },
   {
    "duration": 198,
    "start_time": "2022-02-06T08:27:16.893Z"
   },
   {
    "duration": 186,
    "start_time": "2022-02-06T08:27:17.095Z"
   },
   {
    "duration": 198,
    "start_time": "2022-02-06T08:27:17.283Z"
   },
   {
    "duration": 7,
    "start_time": "2022-02-06T08:27:17.483Z"
   },
   {
    "duration": 19,
    "start_time": "2022-02-06T08:27:17.492Z"
   },
   {
    "duration": 564,
    "start_time": "2022-02-06T08:27:17.513Z"
   },
   {
    "duration": 208,
    "start_time": "2022-02-06T08:27:18.079Z"
   },
   {
    "duration": 218,
    "start_time": "2022-02-06T08:27:18.289Z"
   },
   {
    "duration": 201,
    "start_time": "2022-02-06T08:27:18.509Z"
   },
   {
    "duration": 9,
    "start_time": "2022-02-06T08:27:18.713Z"
   },
   {
    "duration": 14,
    "start_time": "2022-02-06T08:27:18.724Z"
   },
   {
    "duration": 19,
    "start_time": "2022-02-06T08:27:18.740Z"
   },
   {
    "duration": 14,
    "start_time": "2022-02-06T08:27:18.761Z"
   },
   {
    "duration": 4,
    "start_time": "2022-02-06T08:28:50.091Z"
   },
   {
    "duration": 136,
    "start_time": "2022-02-06T08:29:04.115Z"
   },
   {
    "duration": 427,
    "start_time": "2022-02-06T08:29:21.159Z"
   },
   {
    "duration": 140,
    "start_time": "2022-02-06T08:29:29.462Z"
   },
   {
    "duration": 134,
    "start_time": "2022-02-06T08:29:35.753Z"
   },
   {
    "duration": 135,
    "start_time": "2022-02-06T08:30:22.749Z"
   },
   {
    "duration": 131,
    "start_time": "2022-02-06T08:32:02.843Z"
   },
   {
    "duration": 131,
    "start_time": "2022-02-06T08:32:25.589Z"
   },
   {
    "duration": 610,
    "start_time": "2022-02-06T08:35:25.892Z"
   },
   {
    "duration": 789,
    "start_time": "2022-02-06T08:35:46.904Z"
   },
   {
    "duration": 555,
    "start_time": "2022-02-06T08:37:01.807Z"
   },
   {
    "duration": 474,
    "start_time": "2022-02-06T08:37:12.525Z"
   },
   {
    "duration": 444,
    "start_time": "2022-02-06T08:37:24.909Z"
   },
   {
    "duration": 439,
    "start_time": "2022-02-06T08:37:34.092Z"
   },
   {
    "duration": 199,
    "start_time": "2022-02-06T08:37:38.410Z"
   },
   {
    "duration": 421,
    "start_time": "2022-02-06T08:37:48.397Z"
   },
   {
    "duration": 427,
    "start_time": "2022-02-06T08:39:11.839Z"
   },
   {
    "duration": 424,
    "start_time": "2022-02-06T08:39:20.391Z"
   },
   {
    "duration": 234,
    "start_time": "2022-02-06T08:40:00.391Z"
   },
   {
    "duration": 438,
    "start_time": "2022-02-06T08:40:06.616Z"
   },
   {
    "duration": 437,
    "start_time": "2022-02-06T08:40:46.891Z"
   },
   {
    "duration": 460,
    "start_time": "2022-02-06T08:40:54.662Z"
   },
   {
    "duration": 577,
    "start_time": "2022-02-06T08:41:35.858Z"
   },
   {
    "duration": 437,
    "start_time": "2022-02-06T08:41:44.436Z"
   },
   {
    "duration": 720,
    "start_time": "2022-02-06T08:42:06.216Z"
   },
   {
    "duration": 431,
    "start_time": "2022-02-06T08:43:13.267Z"
   },
   {
    "duration": 645,
    "start_time": "2022-02-06T08:43:28.052Z"
   },
   {
    "duration": 593,
    "start_time": "2022-02-06T08:43:39.199Z"
   },
   {
    "duration": 422,
    "start_time": "2022-02-06T08:43:48.608Z"
   },
   {
    "duration": 459,
    "start_time": "2022-02-06T08:44:43.987Z"
   },
   {
    "duration": 169,
    "start_time": "2022-02-06T08:44:54.753Z"
   },
   {
    "duration": 425,
    "start_time": "2022-02-06T08:45:28.929Z"
   },
   {
    "duration": 485,
    "start_time": "2022-02-06T08:45:44.985Z"
   },
   {
    "duration": 207,
    "start_time": "2022-02-06T08:46:00.341Z"
   },
   {
    "duration": 441,
    "start_time": "2022-02-06T08:46:09.967Z"
   },
   {
    "duration": 419,
    "start_time": "2022-02-06T08:46:28.137Z"
   },
   {
    "duration": 446,
    "start_time": "2022-02-06T08:46:53.570Z"
   },
   {
    "duration": 179,
    "start_time": "2022-02-06T08:46:57.956Z"
   },
   {
    "duration": 436,
    "start_time": "2022-02-06T08:47:02.853Z"
   },
   {
    "duration": 430,
    "start_time": "2022-02-06T08:49:01.299Z"
   },
   {
    "duration": 180,
    "start_time": "2022-02-06T08:49:11.836Z"
   },
   {
    "duration": 446,
    "start_time": "2022-02-06T08:49:39.701Z"
   },
   {
    "duration": 519,
    "start_time": "2022-02-06T08:49:50.915Z"
   },
   {
    "duration": 503,
    "start_time": "2022-02-06T08:50:09.471Z"
   },
   {
    "duration": 191,
    "start_time": "2022-02-06T08:50:13.221Z"
   },
   {
    "duration": 202,
    "start_time": "2022-02-06T08:50:31.934Z"
   },
   {
    "duration": 182,
    "start_time": "2022-02-06T08:51:06.503Z"
   },
   {
    "duration": 175,
    "start_time": "2022-02-06T08:51:14.342Z"
   },
   {
    "duration": 188,
    "start_time": "2022-02-06T08:51:40.574Z"
   },
   {
    "duration": 199,
    "start_time": "2022-02-06T08:51:46.001Z"
   },
   {
    "duration": 188,
    "start_time": "2022-02-06T08:51:51.968Z"
   },
   {
    "duration": 175,
    "start_time": "2022-02-06T08:52:15.322Z"
   },
   {
    "duration": 191,
    "start_time": "2022-02-06T08:52:25.266Z"
   },
   {
    "duration": 171,
    "start_time": "2022-02-06T08:52:41.647Z"
   },
   {
    "duration": 175,
    "start_time": "2022-02-06T08:52:48.200Z"
   },
   {
    "duration": 177,
    "start_time": "2022-02-06T08:53:01.041Z"
   },
   {
    "duration": 3,
    "start_time": "2022-02-06T08:54:50.840Z"
   },
   {
    "duration": 34,
    "start_time": "2022-02-06T08:54:50.845Z"
   },
   {
    "duration": 227,
    "start_time": "2022-02-06T08:54:50.882Z"
   },
   {
    "duration": 147,
    "start_time": "2022-02-06T08:54:51.111Z"
   },
   {
    "duration": 211,
    "start_time": "2022-02-06T08:54:51.261Z"
   },
   {
    "duration": 20,
    "start_time": "2022-02-06T08:54:51.474Z"
   },
   {
    "duration": 20,
    "start_time": "2022-02-06T08:54:51.498Z"
   },
   {
    "duration": 17,
    "start_time": "2022-02-06T08:54:51.521Z"
   },
   {
    "duration": 15,
    "start_time": "2022-02-06T08:54:51.541Z"
   },
   {
    "duration": 8,
    "start_time": "2022-02-06T08:54:51.558Z"
   },
   {
    "duration": 12,
    "start_time": "2022-02-06T08:54:51.569Z"
   },
   {
    "duration": 10,
    "start_time": "2022-02-06T08:54:51.584Z"
   },
   {
    "duration": 330,
    "start_time": "2022-02-06T08:54:51.609Z"
   },
   {
    "duration": 29,
    "start_time": "2022-02-06T08:54:51.942Z"
   },
   {
    "duration": 7,
    "start_time": "2022-02-06T08:54:51.973Z"
   },
   {
    "duration": 33,
    "start_time": "2022-02-06T08:54:51.982Z"
   },
   {
    "duration": 19,
    "start_time": "2022-02-06T08:54:52.017Z"
   },
   {
    "duration": 18,
    "start_time": "2022-02-06T08:54:52.039Z"
   },
   {
    "duration": 24,
    "start_time": "2022-02-06T08:54:52.062Z"
   },
   {
    "duration": 23,
    "start_time": "2022-02-06T08:54:52.107Z"
   },
   {
    "duration": 16,
    "start_time": "2022-02-06T08:54:52.133Z"
   },
   {
    "duration": 20,
    "start_time": "2022-02-06T08:54:52.152Z"
   },
   {
    "duration": 36,
    "start_time": "2022-02-06T08:54:52.175Z"
   },
   {
    "duration": 9,
    "start_time": "2022-02-06T08:54:52.213Z"
   },
   {
    "duration": 20,
    "start_time": "2022-02-06T08:54:52.224Z"
   },
   {
    "duration": 9,
    "start_time": "2022-02-06T08:54:52.246Z"
   },
   {
    "duration": 62,
    "start_time": "2022-02-06T08:54:52.257Z"
   },
   {
    "duration": 25,
    "start_time": "2022-02-06T08:54:52.321Z"
   },
   {
    "duration": 25,
    "start_time": "2022-02-06T08:54:52.349Z"
   },
   {
    "duration": 38,
    "start_time": "2022-02-06T08:54:52.377Z"
   },
   {
    "duration": 10,
    "start_time": "2022-02-06T08:54:52.417Z"
   },
   {
    "duration": 60,
    "start_time": "2022-02-06T08:54:52.430Z"
   },
   {
    "duration": 37,
    "start_time": "2022-02-06T08:54:52.493Z"
   },
   {
    "duration": 2,
    "start_time": "2022-02-06T08:54:52.532Z"
   },
   {
    "duration": 47,
    "start_time": "2022-02-06T08:54:52.536Z"
   },
   {
    "duration": 36,
    "start_time": "2022-02-06T08:54:52.585Z"
   },
   {
    "duration": 32,
    "start_time": "2022-02-06T08:54:52.623Z"
   },
   {
    "duration": 26,
    "start_time": "2022-02-06T08:54:52.657Z"
   },
   {
    "duration": 146,
    "start_time": "2022-02-06T08:54:52.685Z"
   },
   {
    "duration": 50,
    "start_time": "2022-02-06T08:54:52.833Z"
   },
   {
    "duration": 4,
    "start_time": "2022-02-06T08:54:52.885Z"
   },
   {
    "duration": 36,
    "start_time": "2022-02-06T08:54:52.908Z"
   },
   {
    "duration": 35,
    "start_time": "2022-02-06T08:54:52.946Z"
   },
   {
    "duration": 15,
    "start_time": "2022-02-06T08:54:52.984Z"
   },
   {
    "duration": 12,
    "start_time": "2022-02-06T08:54:53.002Z"
   },
   {
    "duration": 217,
    "start_time": "2022-02-06T08:54:53.017Z"
   },
   {
    "duration": 191,
    "start_time": "2022-02-06T08:54:53.236Z"
   },
   {
    "duration": 174,
    "start_time": "2022-02-06T08:54:53.428Z"
   },
   {
    "duration": 185,
    "start_time": "2022-02-06T08:54:53.607Z"
   },
   {
    "duration": 15,
    "start_time": "2022-02-06T08:54:53.794Z"
   },
   {
    "duration": 7,
    "start_time": "2022-02-06T08:54:53.810Z"
   },
   {
    "duration": 225,
    "start_time": "2022-02-06T08:54:53.819Z"
   },
   {
    "duration": 222,
    "start_time": "2022-02-06T08:54:54.046Z"
   },
   {
    "duration": 191,
    "start_time": "2022-02-06T08:54:54.270Z"
   },
   {
    "duration": 9,
    "start_time": "2022-02-06T08:54:54.467Z"
   },
   {
    "duration": 13,
    "start_time": "2022-02-06T08:54:54.479Z"
   },
   {
    "duration": 149,
    "start_time": "2022-02-06T08:54:54.507Z"
   },
   {
    "duration": 152,
    "start_time": "2022-02-06T08:54:54.658Z"
   },
   {
    "duration": 11,
    "start_time": "2022-02-06T08:54:54.812Z"
   },
   {
    "duration": 12,
    "start_time": "2022-02-06T08:54:54.825Z"
   },
   {
    "duration": 170,
    "start_time": "2022-02-06T08:54:54.839Z"
   },
   {
    "duration": 149,
    "start_time": "2022-02-06T08:54:55.012Z"
   },
   {
    "duration": 1328,
    "start_time": "2022-02-12T18:20:29.820Z"
   },
   {
    "duration": 28,
    "start_time": "2022-02-12T18:20:31.149Z"
   },
   {
    "duration": 133,
    "start_time": "2022-02-12T18:20:31.181Z"
   },
   {
    "duration": 79,
    "start_time": "2022-02-12T18:20:31.316Z"
   },
   {
    "duration": 118,
    "start_time": "2022-02-12T18:20:31.397Z"
   },
   {
    "duration": 16,
    "start_time": "2022-02-12T18:20:31.517Z"
   },
   {
    "duration": 7,
    "start_time": "2022-02-12T18:20:31.535Z"
   },
   {
    "duration": 5,
    "start_time": "2022-02-12T18:20:31.544Z"
   },
   {
    "duration": 4,
    "start_time": "2022-02-12T18:20:31.551Z"
   },
   {
    "duration": 4,
    "start_time": "2022-02-12T18:20:31.557Z"
   },
   {
    "duration": 5,
    "start_time": "2022-02-12T18:20:31.563Z"
   },
   {
    "duration": 9,
    "start_time": "2022-02-12T18:20:31.569Z"
   },
   {
    "duration": 10,
    "start_time": "2022-02-12T18:20:31.579Z"
   },
   {
    "duration": 37,
    "start_time": "2022-02-12T18:20:31.590Z"
   },
   {
    "duration": 4,
    "start_time": "2022-02-12T18:20:31.629Z"
   },
   {
    "duration": 11,
    "start_time": "2022-02-12T18:20:31.635Z"
   },
   {
    "duration": 17,
    "start_time": "2022-02-12T18:20:31.648Z"
   },
   {
    "duration": 12,
    "start_time": "2022-02-12T18:20:31.667Z"
   },
   {
    "duration": 7,
    "start_time": "2022-02-12T18:20:31.680Z"
   },
   {
    "duration": 43,
    "start_time": "2022-02-12T18:20:31.689Z"
   },
   {
    "duration": 9,
    "start_time": "2022-02-12T18:20:31.734Z"
   },
   {
    "duration": 15,
    "start_time": "2022-02-12T18:20:31.746Z"
   },
   {
    "duration": 8,
    "start_time": "2022-02-12T18:20:31.763Z"
   },
   {
    "duration": 5,
    "start_time": "2022-02-12T18:20:31.773Z"
   },
   {
    "duration": 9,
    "start_time": "2022-02-12T18:20:31.779Z"
   },
   {
    "duration": 5,
    "start_time": "2022-02-12T18:20:31.790Z"
   },
   {
    "duration": 29,
    "start_time": "2022-02-12T18:20:31.827Z"
   },
   {
    "duration": 16,
    "start_time": "2022-02-12T18:20:31.858Z"
   },
   {
    "duration": 20,
    "start_time": "2022-02-12T18:20:31.875Z"
   },
   {
    "duration": 32,
    "start_time": "2022-02-12T18:20:31.897Z"
   },
   {
    "duration": 6,
    "start_time": "2022-02-12T18:20:31.930Z"
   },
   {
    "duration": 42,
    "start_time": "2022-02-12T18:20:31.938Z"
   },
   {
    "duration": 26,
    "start_time": "2022-02-12T18:20:31.981Z"
   },
   {
    "duration": 2,
    "start_time": "2022-02-12T18:20:32.008Z"
   },
   {
    "duration": 28,
    "start_time": "2022-02-12T18:20:32.027Z"
   },
   {
    "duration": 25,
    "start_time": "2022-02-12T18:20:32.056Z"
   },
   {
    "duration": 25,
    "start_time": "2022-02-12T18:20:32.082Z"
   },
   {
    "duration": 21,
    "start_time": "2022-02-12T18:20:32.127Z"
   },
   {
    "duration": 100,
    "start_time": "2022-02-12T18:20:32.149Z"
   },
   {
    "duration": 34,
    "start_time": "2022-02-12T18:20:32.250Z"
   },
   {
    "duration": 4,
    "start_time": "2022-02-12T18:20:32.286Z"
   },
   {
    "duration": 7,
    "start_time": "2022-02-12T18:20:32.292Z"
   },
   {
    "duration": 6,
    "start_time": "2022-02-12T18:20:32.301Z"
   },
   {
    "duration": 6,
    "start_time": "2022-02-12T18:20:32.327Z"
   },
   {
    "duration": 9,
    "start_time": "2022-02-12T18:20:32.334Z"
   },
   {
    "duration": 163,
    "start_time": "2022-02-12T18:20:32.345Z"
   },
   {
    "duration": 159,
    "start_time": "2022-02-12T18:20:32.510Z"
   },
   {
    "duration": 139,
    "start_time": "2022-02-12T18:20:32.671Z"
   },
   {
    "duration": 165,
    "start_time": "2022-02-12T18:20:32.811Z"
   },
   {
    "duration": 7,
    "start_time": "2022-02-12T18:20:32.977Z"
   },
   {
    "duration": 8,
    "start_time": "2022-02-12T18:20:32.985Z"
   },
   {
    "duration": 177,
    "start_time": "2022-02-12T18:20:32.994Z"
   },
   {
    "duration": 215,
    "start_time": "2022-02-12T18:20:33.172Z"
   },
   {
    "duration": 165,
    "start_time": "2022-02-12T18:20:33.388Z"
   },
   {
    "duration": 6,
    "start_time": "2022-02-12T18:20:33.554Z"
   },
   {
    "duration": 7,
    "start_time": "2022-02-12T18:20:33.561Z"
   },
   {
    "duration": 162,
    "start_time": "2022-02-12T18:20:33.570Z"
   },
   {
    "duration": 140,
    "start_time": "2022-02-12T18:20:33.734Z"
   },
   {
    "duration": 11,
    "start_time": "2022-02-12T18:20:33.876Z"
   },
   {
    "duration": 22,
    "start_time": "2022-02-12T18:20:33.888Z"
   },
   {
    "duration": 131,
    "start_time": "2022-02-12T18:20:33.912Z"
   },
   {
    "duration": 125,
    "start_time": "2022-02-12T18:20:34.056Z"
   },
   {
    "duration": 26,
    "start_time": "2022-02-12T18:24:23.799Z"
   },
   {
    "duration": 4,
    "start_time": "2022-02-12T18:24:42.163Z"
   },
   {
    "duration": 40,
    "start_time": "2022-02-12T18:25:11.942Z"
   },
   {
    "duration": 27,
    "start_time": "2022-02-12T18:25:27.830Z"
   },
   {
    "duration": 23,
    "start_time": "2022-02-12T18:25:51.501Z"
   },
   {
    "duration": 14,
    "start_time": "2022-02-12T18:25:57.376Z"
   },
   {
    "duration": 14,
    "start_time": "2022-02-12T18:26:37.032Z"
   },
   {
    "duration": 4,
    "start_time": "2022-02-12T18:26:39.979Z"
   },
   {
    "duration": 62,
    "start_time": "2022-02-13T13:01:54.680Z"
   },
   {
    "duration": 1012,
    "start_time": "2022-02-13T13:03:09.377Z"
   },
   {
    "duration": 42,
    "start_time": "2022-02-13T13:03:10.391Z"
   },
   {
    "duration": 137,
    "start_time": "2022-02-13T13:03:10.435Z"
   },
   {
    "duration": 85,
    "start_time": "2022-02-13T13:03:10.574Z"
   },
   {
    "duration": 121,
    "start_time": "2022-02-13T13:03:10.661Z"
   },
   {
    "duration": 10,
    "start_time": "2022-02-13T13:03:10.784Z"
   },
   {
    "duration": 9,
    "start_time": "2022-02-13T13:03:10.795Z"
   },
   {
    "duration": 11,
    "start_time": "2022-02-13T13:03:10.806Z"
   },
   {
    "duration": 4,
    "start_time": "2022-02-13T13:03:10.820Z"
   },
   {
    "duration": 6,
    "start_time": "2022-02-13T13:03:10.827Z"
   },
   {
    "duration": 4,
    "start_time": "2022-02-13T13:03:10.834Z"
   },
   {
    "duration": 6,
    "start_time": "2022-02-13T13:03:10.839Z"
   },
   {
    "duration": 9,
    "start_time": "2022-02-13T13:03:10.846Z"
   },
   {
    "duration": 57,
    "start_time": "2022-02-13T13:03:10.856Z"
   },
   {
    "duration": 5,
    "start_time": "2022-02-13T13:03:10.914Z"
   },
   {
    "duration": 12,
    "start_time": "2022-02-13T13:03:10.921Z"
   },
   {
    "duration": 16,
    "start_time": "2022-02-13T13:03:10.935Z"
   },
   {
    "duration": 14,
    "start_time": "2022-02-13T13:03:10.952Z"
   },
   {
    "duration": 8,
    "start_time": "2022-02-13T13:03:10.968Z"
   },
   {
    "duration": 49,
    "start_time": "2022-02-13T13:03:10.978Z"
   },
   {
    "duration": 11,
    "start_time": "2022-02-13T13:03:11.029Z"
   },
   {
    "duration": 15,
    "start_time": "2022-02-13T13:03:11.041Z"
   },
   {
    "duration": 9,
    "start_time": "2022-02-13T13:03:11.058Z"
   },
   {
    "duration": 5,
    "start_time": "2022-02-13T13:03:11.069Z"
   },
   {
    "duration": 43,
    "start_time": "2022-02-13T13:03:11.076Z"
   },
   {
    "duration": 8,
    "start_time": "2022-02-13T13:03:11.120Z"
   },
   {
    "duration": 31,
    "start_time": "2022-02-13T13:03:11.131Z"
   },
   {
    "duration": 18,
    "start_time": "2022-02-13T13:03:11.164Z"
   },
   {
    "duration": 46,
    "start_time": "2022-02-13T13:03:11.184Z"
   },
   {
    "duration": 14,
    "start_time": "2022-02-13T13:03:11.232Z"
   },
   {
    "duration": 7,
    "start_time": "2022-02-13T13:03:11.248Z"
   },
   {
    "duration": 73,
    "start_time": "2022-02-13T13:03:11.256Z"
   },
   {
    "duration": 7,
    "start_time": "2022-02-13T13:03:11.331Z"
   },
   {
    "duration": 32,
    "start_time": "2022-02-13T13:03:11.341Z"
   },
   {
    "duration": 2,
    "start_time": "2022-02-13T13:03:11.375Z"
   },
   {
    "duration": 50,
    "start_time": "2022-02-13T13:03:11.379Z"
   },
   {
    "duration": 31,
    "start_time": "2022-02-13T13:03:11.430Z"
   },
   {
    "duration": 49,
    "start_time": "2022-02-13T13:03:11.463Z"
   },
   {
    "duration": 26,
    "start_time": "2022-02-13T13:03:11.514Z"
   },
   {
    "duration": 114,
    "start_time": "2022-02-13T13:03:11.542Z"
   },
   {
    "duration": 41,
    "start_time": "2022-02-13T13:03:11.657Z"
   },
   {
    "duration": 14,
    "start_time": "2022-02-13T13:03:11.700Z"
   },
   {
    "duration": 7,
    "start_time": "2022-02-13T13:03:11.715Z"
   },
   {
    "duration": 8,
    "start_time": "2022-02-13T13:03:11.724Z"
   },
   {
    "duration": 9,
    "start_time": "2022-02-13T13:03:11.733Z"
   },
   {
    "duration": 7,
    "start_time": "2022-02-13T13:03:11.743Z"
   },
   {
    "duration": 213,
    "start_time": "2022-02-13T13:03:11.752Z"
   },
   {
    "duration": 191,
    "start_time": "2022-02-13T13:03:11.967Z"
   },
   {
    "duration": 171,
    "start_time": "2022-02-13T13:03:12.160Z"
   },
   {
    "duration": 192,
    "start_time": "2022-02-13T13:03:12.332Z"
   },
   {
    "duration": 8,
    "start_time": "2022-02-13T13:03:12.526Z"
   },
   {
    "duration": 8,
    "start_time": "2022-02-13T13:03:12.536Z"
   },
   {
    "duration": 194,
    "start_time": "2022-02-13T13:03:12.546Z"
   },
   {
    "duration": 260,
    "start_time": "2022-02-13T13:03:12.742Z"
   },
   {
    "duration": 197,
    "start_time": "2022-02-13T13:03:13.004Z"
   },
   {
    "duration": 12,
    "start_time": "2022-02-13T13:03:13.203Z"
   },
   {
    "duration": 7,
    "start_time": "2022-02-13T13:03:13.217Z"
   },
   {
    "duration": 158,
    "start_time": "2022-02-13T13:03:13.226Z"
   },
   {
    "duration": 142,
    "start_time": "2022-02-13T13:03:13.385Z"
   },
   {
    "duration": 9,
    "start_time": "2022-02-13T13:03:13.528Z"
   },
   {
    "duration": 8,
    "start_time": "2022-02-13T13:03:13.538Z"
   },
   {
    "duration": 157,
    "start_time": "2022-02-13T13:03:13.548Z"
   },
   {
    "duration": 150,
    "start_time": "2022-02-13T13:03:13.707Z"
   },
   {
    "duration": 6,
    "start_time": "2022-02-13T13:03:30.044Z"
   },
   {
    "duration": 6,
    "start_time": "2022-02-13T13:03:34.764Z"
   },
   {
    "duration": 2,
    "start_time": "2022-02-13T13:03:37.940Z"
   },
   {
    "duration": 31,
    "start_time": "2022-02-13T13:03:37.945Z"
   },
   {
    "duration": 156,
    "start_time": "2022-02-13T13:03:37.978Z"
   },
   {
    "duration": 81,
    "start_time": "2022-02-13T13:03:38.136Z"
   },
   {
    "duration": 112,
    "start_time": "2022-02-13T13:03:38.219Z"
   },
   {
    "duration": 10,
    "start_time": "2022-02-13T13:03:38.333Z"
   },
   {
    "duration": 8,
    "start_time": "2022-02-13T13:03:38.345Z"
   },
   {
    "duration": 4,
    "start_time": "2022-02-13T13:03:38.355Z"
   },
   {
    "duration": 3,
    "start_time": "2022-02-13T13:03:38.361Z"
   },
   {
    "duration": 4,
    "start_time": "2022-02-13T13:03:38.366Z"
   },
   {
    "duration": 4,
    "start_time": "2022-02-13T13:03:38.371Z"
   },
   {
    "duration": 36,
    "start_time": "2022-02-13T13:03:38.377Z"
   },
   {
    "duration": 4,
    "start_time": "2022-02-13T13:03:38.414Z"
   },
   {
    "duration": 30,
    "start_time": "2022-02-13T13:03:38.420Z"
   },
   {
    "duration": 4,
    "start_time": "2022-02-13T13:03:38.452Z"
   },
   {
    "duration": 13,
    "start_time": "2022-02-13T13:03:38.458Z"
   },
   {
    "duration": 16,
    "start_time": "2022-02-13T13:03:38.473Z"
   },
   {
    "duration": 34,
    "start_time": "2022-02-13T13:03:38.491Z"
   },
   {
    "duration": 8,
    "start_time": "2022-02-13T13:03:38.526Z"
   },
   {
    "duration": 16,
    "start_time": "2022-02-13T13:03:38.536Z"
   },
   {
    "duration": 6,
    "start_time": "2022-02-13T13:03:38.554Z"
   },
   {
    "duration": 14,
    "start_time": "2022-02-13T13:03:38.561Z"
   },
   {
    "duration": 42,
    "start_time": "2022-02-13T13:03:38.578Z"
   },
   {
    "duration": 7,
    "start_time": "2022-02-13T13:03:38.622Z"
   },
   {
    "duration": 8,
    "start_time": "2022-02-13T13:03:38.631Z"
   },
   {
    "duration": 6,
    "start_time": "2022-02-13T13:03:38.641Z"
   },
   {
    "duration": 28,
    "start_time": "2022-02-13T13:03:38.648Z"
   },
   {
    "duration": 52,
    "start_time": "2022-02-13T13:03:38.677Z"
   },
   {
    "duration": 22,
    "start_time": "2022-02-13T13:03:38.731Z"
   },
   {
    "duration": 11,
    "start_time": "2022-02-13T13:03:38.754Z"
   },
   {
    "duration": 6,
    "start_time": "2022-02-13T13:03:38.767Z"
   },
   {
    "duration": 71,
    "start_time": "2022-02-13T13:03:38.775Z"
   },
   {
    "duration": 7,
    "start_time": "2022-02-13T13:03:38.851Z"
   },
   {
    "duration": 5,
    "start_time": "2022-02-13T13:03:38.860Z"
   },
   {
    "duration": 8,
    "start_time": "2022-02-13T13:03:38.867Z"
   },
   {
    "duration": 46,
    "start_time": "2022-02-13T13:03:38.877Z"
   },
   {
    "duration": 2,
    "start_time": "2022-02-13T13:03:38.925Z"
   },
   {
    "duration": 33,
    "start_time": "2022-02-13T13:03:38.929Z"
   },
   {
    "duration": 21,
    "start_time": "2022-02-13T13:03:38.963Z"
   },
   {
    "duration": 49,
    "start_time": "2022-02-13T13:03:38.986Z"
   },
   {
    "duration": 20,
    "start_time": "2022-02-13T13:03:39.037Z"
   },
   {
    "duration": 121,
    "start_time": "2022-02-13T13:03:39.059Z"
   },
   {
    "duration": 50,
    "start_time": "2022-02-13T13:03:39.181Z"
   },
   {
    "duration": 3,
    "start_time": "2022-02-13T13:03:39.233Z"
   },
   {
    "duration": 18,
    "start_time": "2022-02-13T13:03:39.238Z"
   },
   {
    "duration": 7,
    "start_time": "2022-02-13T13:03:39.258Z"
   },
   {
    "duration": 10,
    "start_time": "2022-02-13T13:03:39.266Z"
   },
   {
    "duration": 6,
    "start_time": "2022-02-13T13:03:39.277Z"
   },
   {
    "duration": 201,
    "start_time": "2022-02-13T13:03:39.284Z"
   },
   {
    "duration": 176,
    "start_time": "2022-02-13T13:03:39.486Z"
   },
   {
    "duration": 166,
    "start_time": "2022-02-13T13:03:39.664Z"
   },
   {
    "duration": 222,
    "start_time": "2022-02-13T13:03:39.831Z"
   },
   {
    "duration": 6,
    "start_time": "2022-02-13T13:03:40.054Z"
   },
   {
    "duration": 9,
    "start_time": "2022-02-13T13:03:40.061Z"
   },
   {
    "duration": 192,
    "start_time": "2022-02-13T13:03:40.071Z"
   },
   {
    "duration": 198,
    "start_time": "2022-02-13T13:03:40.264Z"
   },
   {
    "duration": 187,
    "start_time": "2022-02-13T13:03:40.463Z"
   },
   {
    "duration": 6,
    "start_time": "2022-02-13T13:03:40.652Z"
   },
   {
    "duration": 6,
    "start_time": "2022-02-13T13:03:40.660Z"
   },
   {
    "duration": 147,
    "start_time": "2022-02-13T13:03:40.668Z"
   },
   {
    "duration": 132,
    "start_time": "2022-02-13T13:03:40.817Z"
   },
   {
    "duration": 8,
    "start_time": "2022-02-13T13:03:40.951Z"
   },
   {
    "duration": 9,
    "start_time": "2022-02-13T13:03:40.961Z"
   },
   {
    "duration": 136,
    "start_time": "2022-02-13T13:03:40.971Z"
   },
   {
    "duration": 132,
    "start_time": "2022-02-13T13:03:41.112Z"
   },
   {
    "duration": 62,
    "start_time": "2022-02-13T13:05:01.475Z"
   },
   {
    "duration": 9,
    "start_time": "2022-02-13T13:05:14.857Z"
   },
   {
    "duration": 17,
    "start_time": "2022-02-13T13:05:16.920Z"
   },
   {
    "duration": 3,
    "start_time": "2022-02-13T13:05:32.563Z"
   },
   {
    "duration": 4,
    "start_time": "2022-02-13T13:06:33.112Z"
   },
   {
    "duration": 94,
    "start_time": "2022-02-13T13:07:09.921Z"
   },
   {
    "duration": 117,
    "start_time": "2022-02-13T13:07:53.423Z"
   },
   {
    "duration": 88,
    "start_time": "2022-02-13T13:08:22.482Z"
   },
   {
    "duration": 113,
    "start_time": "2022-02-13T13:08:26.989Z"
   },
   {
    "duration": 117,
    "start_time": "2022-02-13T13:08:42.117Z"
   },
   {
    "duration": 116,
    "start_time": "2022-02-13T13:09:28.580Z"
   },
   {
    "duration": 88,
    "start_time": "2022-02-13T13:09:40.462Z"
   },
   {
    "duration": 60,
    "start_time": "2022-02-13T13:10:06.171Z"
   },
   {
    "duration": 76,
    "start_time": "2022-02-13T13:10:18.735Z"
   },
   {
    "duration": 286,
    "start_time": "2022-02-13T13:10:26.044Z"
   },
   {
    "duration": 89,
    "start_time": "2022-02-13T13:10:37.925Z"
   },
   {
    "duration": 1390,
    "start_time": "2022-02-13T13:10:41.809Z"
   },
   {
    "duration": 87,
    "start_time": "2022-02-13T13:10:48.857Z"
   },
   {
    "duration": 380,
    "start_time": "2022-02-13T13:13:20.392Z"
   },
   {
    "duration": 84,
    "start_time": "2022-02-13T13:13:33.448Z"
   },
   {
    "duration": 58,
    "start_time": "2022-02-13T13:13:36.648Z"
   },
   {
    "duration": 373,
    "start_time": "2022-02-13T13:13:40.010Z"
   },
   {
    "duration": 5,
    "start_time": "2022-02-13T13:15:00.392Z"
   },
   {
    "duration": 4,
    "start_time": "2022-02-13T13:15:10.026Z"
   },
   {
    "duration": 210,
    "start_time": "2022-02-13T13:15:55.302Z"
   },
   {
    "duration": 4,
    "start_time": "2022-02-13T13:17:48.084Z"
   },
   {
    "duration": 4,
    "start_time": "2022-02-13T13:17:55.659Z"
   },
   {
    "duration": 5,
    "start_time": "2022-02-13T13:18:02.594Z"
   },
   {
    "duration": 227,
    "start_time": "2022-02-13T13:20:58.822Z"
   },
   {
    "duration": 3,
    "start_time": "2022-02-13T13:22:01.915Z"
   },
   {
    "duration": 3,
    "start_time": "2022-02-13T13:22:45.967Z"
   },
   {
    "duration": 46,
    "start_time": "2022-02-13T13:22:45.972Z"
   },
   {
    "duration": 140,
    "start_time": "2022-02-13T13:22:46.020Z"
   },
   {
    "duration": 87,
    "start_time": "2022-02-13T13:22:46.162Z"
   },
   {
    "duration": 111,
    "start_time": "2022-02-13T13:22:46.251Z"
   },
   {
    "duration": 10,
    "start_time": "2022-02-13T13:22:46.364Z"
   },
   {
    "duration": 8,
    "start_time": "2022-02-13T13:22:46.376Z"
   },
   {
    "duration": 5,
    "start_time": "2022-02-13T13:22:46.385Z"
   },
   {
    "duration": 19,
    "start_time": "2022-02-13T13:22:46.393Z"
   },
   {
    "duration": 4,
    "start_time": "2022-02-13T13:22:46.414Z"
   },
   {
    "duration": 5,
    "start_time": "2022-02-13T13:22:46.419Z"
   },
   {
    "duration": 6,
    "start_time": "2022-02-13T13:22:46.425Z"
   },
   {
    "duration": 4,
    "start_time": "2022-02-13T13:22:46.432Z"
   },
   {
    "duration": 21,
    "start_time": "2022-02-13T13:22:46.438Z"
   },
   {
    "duration": 4,
    "start_time": "2022-02-13T13:22:46.461Z"
   },
   {
    "duration": 10,
    "start_time": "2022-02-13T13:22:46.467Z"
   },
   {
    "duration": 15,
    "start_time": "2022-02-13T13:22:46.513Z"
   },
   {
    "duration": 16,
    "start_time": "2022-02-13T13:22:46.529Z"
   },
   {
    "duration": 8,
    "start_time": "2022-02-13T13:22:46.546Z"
   },
   {
    "duration": 16,
    "start_time": "2022-02-13T13:22:46.556Z"
   },
   {
    "duration": 39,
    "start_time": "2022-02-13T13:22:46.574Z"
   },
   {
    "duration": 16,
    "start_time": "2022-02-13T13:22:46.615Z"
   },
   {
    "duration": 10,
    "start_time": "2022-02-13T13:22:46.632Z"
   },
   {
    "duration": 7,
    "start_time": "2022-02-13T13:22:46.644Z"
   },
   {
    "duration": 9,
    "start_time": "2022-02-13T13:22:46.653Z"
   },
   {
    "duration": 7,
    "start_time": "2022-02-13T13:22:46.663Z"
   },
   {
    "duration": 41,
    "start_time": "2022-02-13T13:22:46.675Z"
   },
   {
    "duration": 39,
    "start_time": "2022-02-13T13:22:46.718Z"
   },
   {
    "duration": 19,
    "start_time": "2022-02-13T13:22:46.758Z"
   },
   {
    "duration": 37,
    "start_time": "2022-02-13T13:22:46.779Z"
   },
   {
    "duration": 12,
    "start_time": "2022-02-13T13:22:46.818Z"
   },
   {
    "duration": 7,
    "start_time": "2022-02-13T13:22:46.832Z"
   },
   {
    "duration": 48,
    "start_time": "2022-02-13T13:22:46.841Z"
   },
   {
    "duration": 4,
    "start_time": "2022-02-13T13:22:46.891Z"
   },
   {
    "duration": 41,
    "start_time": "2022-02-13T13:22:46.897Z"
   },
   {
    "duration": 28,
    "start_time": "2022-02-13T13:22:46.940Z"
   },
   {
    "duration": 46,
    "start_time": "2022-02-13T13:22:46.970Z"
   },
   {
    "duration": 28,
    "start_time": "2022-02-13T13:22:47.018Z"
   },
   {
    "duration": 23,
    "start_time": "2022-02-13T13:22:47.048Z"
   },
   {
    "duration": 125,
    "start_time": "2022-02-13T13:22:47.072Z"
   },
   {
    "duration": 15,
    "start_time": "2022-02-13T13:22:47.199Z"
   },
   {
    "duration": 6,
    "start_time": "2022-02-13T13:22:47.215Z"
   },
   {
    "duration": 5,
    "start_time": "2022-02-13T13:22:47.223Z"
   },
   {
    "duration": 5,
    "start_time": "2022-02-13T13:22:47.230Z"
   },
   {
    "duration": 224,
    "start_time": "2022-02-13T13:22:47.236Z"
   },
   {
    "duration": 136,
    "start_time": "2022-02-13T13:22:47.462Z"
   },
   {
    "duration": 3,
    "start_time": "2022-02-13T13:22:47.600Z"
   },
   {
    "duration": 11,
    "start_time": "2022-02-13T13:22:47.605Z"
   },
   {
    "duration": 10,
    "start_time": "2022-02-13T13:22:47.618Z"
   },
   {
    "duration": 7,
    "start_time": "2022-02-13T13:22:47.630Z"
   },
   {
    "duration": 6,
    "start_time": "2022-02-13T13:22:47.638Z"
   },
   {
    "duration": 212,
    "start_time": "2022-02-13T13:22:47.646Z"
   },
   {
    "duration": 183,
    "start_time": "2022-02-13T13:22:47.860Z"
   },
   {
    "duration": 167,
    "start_time": "2022-02-13T13:22:48.045Z"
   },
   {
    "duration": 175,
    "start_time": "2022-02-13T13:22:48.213Z"
   },
   {
    "duration": 6,
    "start_time": "2022-02-13T13:22:48.390Z"
   },
   {
    "duration": 16,
    "start_time": "2022-02-13T13:22:48.398Z"
   },
   {
    "duration": 198,
    "start_time": "2022-02-13T13:22:48.416Z"
   },
   {
    "duration": 200,
    "start_time": "2022-02-13T13:22:48.615Z"
   },
   {
    "duration": 197,
    "start_time": "2022-02-13T13:22:48.817Z"
   },
   {
    "duration": 7,
    "start_time": "2022-02-13T13:22:49.016Z"
   },
   {
    "duration": 6,
    "start_time": "2022-02-13T13:22:49.025Z"
   },
   {
    "duration": 151,
    "start_time": "2022-02-13T13:22:49.032Z"
   },
   {
    "duration": 135,
    "start_time": "2022-02-13T13:22:49.185Z"
   },
   {
    "duration": 9,
    "start_time": "2022-02-13T13:22:49.321Z"
   },
   {
    "duration": 8,
    "start_time": "2022-02-13T13:22:49.331Z"
   },
   {
    "duration": 145,
    "start_time": "2022-02-13T13:22:49.340Z"
   },
   {
    "duration": 150,
    "start_time": "2022-02-13T13:22:49.486Z"
   },
   {
    "duration": 3,
    "start_time": "2022-02-13T13:23:12.169Z"
   },
   {
    "duration": 34,
    "start_time": "2022-02-13T13:23:12.174Z"
   },
   {
    "duration": 154,
    "start_time": "2022-02-13T13:23:12.211Z"
   },
   {
    "duration": 89,
    "start_time": "2022-02-13T13:23:12.367Z"
   },
   {
    "duration": 118,
    "start_time": "2022-02-13T13:23:12.458Z"
   },
   {
    "duration": 10,
    "start_time": "2022-02-13T13:23:12.577Z"
   },
   {
    "duration": 8,
    "start_time": "2022-02-13T13:23:12.589Z"
   },
   {
    "duration": 12,
    "start_time": "2022-02-13T13:23:12.600Z"
   },
   {
    "duration": 6,
    "start_time": "2022-02-13T13:23:12.614Z"
   },
   {
    "duration": 6,
    "start_time": "2022-02-13T13:23:12.621Z"
   },
   {
    "duration": 9,
    "start_time": "2022-02-13T13:23:12.629Z"
   },
   {
    "duration": 5,
    "start_time": "2022-02-13T13:23:12.639Z"
   },
   {
    "duration": 4,
    "start_time": "2022-02-13T13:23:12.646Z"
   },
   {
    "duration": 22,
    "start_time": "2022-02-13T13:23:12.652Z"
   },
   {
    "duration": 37,
    "start_time": "2022-02-13T13:23:12.676Z"
   },
   {
    "duration": 10,
    "start_time": "2022-02-13T13:23:12.715Z"
   },
   {
    "duration": 15,
    "start_time": "2022-02-13T13:23:12.727Z"
   },
   {
    "duration": 15,
    "start_time": "2022-02-13T13:23:12.744Z"
   },
   {
    "duration": 8,
    "start_time": "2022-02-13T13:23:12.761Z"
   },
   {
    "duration": 50,
    "start_time": "2022-02-13T13:23:12.771Z"
   },
   {
    "duration": 7,
    "start_time": "2022-02-13T13:23:12.823Z"
   },
   {
    "duration": 15,
    "start_time": "2022-02-13T13:23:12.832Z"
   },
   {
    "duration": 8,
    "start_time": "2022-02-13T13:23:12.851Z"
   },
   {
    "duration": 6,
    "start_time": "2022-02-13T13:23:12.862Z"
   },
   {
    "duration": 43,
    "start_time": "2022-02-13T13:23:12.870Z"
   },
   {
    "duration": 7,
    "start_time": "2022-02-13T13:23:12.915Z"
   },
   {
    "duration": 5,
    "start_time": "2022-02-13T13:23:12.924Z"
   },
   {
    "duration": 28,
    "start_time": "2022-02-13T13:23:12.930Z"
   },
   {
    "duration": 18,
    "start_time": "2022-02-13T13:23:12.960Z"
   },
   {
    "duration": 42,
    "start_time": "2022-02-13T13:23:12.980Z"
   },
   {
    "duration": 12,
    "start_time": "2022-02-13T13:23:13.023Z"
   },
   {
    "duration": 8,
    "start_time": "2022-02-13T13:23:13.036Z"
   },
   {
    "duration": 45,
    "start_time": "2022-02-13T13:23:13.045Z"
   },
   {
    "duration": 23,
    "start_time": "2022-02-13T13:23:13.091Z"
   },
   {
    "duration": 24,
    "start_time": "2022-02-13T13:23:13.116Z"
   },
   {
    "duration": 28,
    "start_time": "2022-02-13T13:23:13.142Z"
   },
   {
    "duration": 45,
    "start_time": "2022-02-13T13:23:13.171Z"
   },
   {
    "duration": 30,
    "start_time": "2022-02-13T13:23:13.218Z"
   },
   {
    "duration": 23,
    "start_time": "2022-02-13T13:23:13.249Z"
   },
   {
    "duration": 121,
    "start_time": "2022-02-13T13:23:13.273Z"
   },
   {
    "duration": 4,
    "start_time": "2022-02-13T13:23:13.395Z"
   },
   {
    "duration": 14,
    "start_time": "2022-02-13T13:23:13.401Z"
   },
   {
    "duration": 5,
    "start_time": "2022-02-13T13:23:13.417Z"
   },
   {
    "duration": 6,
    "start_time": "2022-02-13T13:23:13.423Z"
   },
   {
    "duration": 228,
    "start_time": "2022-02-13T13:23:13.430Z"
   },
   {
    "duration": 65,
    "start_time": "2022-02-13T13:23:13.660Z"
   },
   {
    "duration": 5,
    "start_time": "2022-02-13T13:23:13.727Z"
   },
   {
    "duration": 7,
    "start_time": "2022-02-13T13:23:13.734Z"
   },
   {
    "duration": 10,
    "start_time": "2022-02-13T13:23:13.743Z"
   },
   {
    "duration": 11,
    "start_time": "2022-02-13T13:23:13.755Z"
   },
   {
    "duration": 6,
    "start_time": "2022-02-13T13:23:13.768Z"
   },
   {
    "duration": 224,
    "start_time": "2022-02-13T13:23:13.775Z"
   },
   {
    "duration": 188,
    "start_time": "2022-02-13T13:23:14.000Z"
   },
   {
    "duration": 166,
    "start_time": "2022-02-13T13:23:14.191Z"
   },
   {
    "duration": 270,
    "start_time": "2022-02-13T13:23:14.359Z"
   },
   {
    "duration": 8,
    "start_time": "2022-02-13T13:23:14.630Z"
   },
   {
    "duration": 7,
    "start_time": "2022-02-13T13:23:14.639Z"
   },
   {
    "duration": 201,
    "start_time": "2022-02-13T13:23:14.648Z"
   },
   {
    "duration": 216,
    "start_time": "2022-02-13T13:23:14.850Z"
   },
   {
    "duration": 196,
    "start_time": "2022-02-13T13:23:15.068Z"
   },
   {
    "duration": 6,
    "start_time": "2022-02-13T13:23:15.266Z"
   },
   {
    "duration": 7,
    "start_time": "2022-02-13T13:23:15.274Z"
   },
   {
    "duration": 159,
    "start_time": "2022-02-13T13:23:15.282Z"
   },
   {
    "duration": 143,
    "start_time": "2022-02-13T13:23:15.442Z"
   },
   {
    "duration": 10,
    "start_time": "2022-02-13T13:23:15.587Z"
   },
   {
    "duration": 16,
    "start_time": "2022-02-13T13:23:15.599Z"
   },
   {
    "duration": 151,
    "start_time": "2022-02-13T13:23:15.617Z"
   },
   {
    "duration": 153,
    "start_time": "2022-02-13T13:23:15.774Z"
   },
   {
    "duration": 3,
    "start_time": "2022-02-13T13:23:30.146Z"
   },
   {
    "duration": 49,
    "start_time": "2022-02-13T13:23:30.151Z"
   },
   {
    "duration": 131,
    "start_time": "2022-02-13T13:23:30.202Z"
   },
   {
    "duration": 73,
    "start_time": "2022-02-13T13:23:30.335Z"
   },
   {
    "duration": 110,
    "start_time": "2022-02-13T13:23:30.413Z"
   },
   {
    "duration": 11,
    "start_time": "2022-02-13T13:23:30.525Z"
   },
   {
    "duration": 11,
    "start_time": "2022-02-13T13:23:30.537Z"
   },
   {
    "duration": 10,
    "start_time": "2022-02-13T13:23:30.550Z"
   },
   {
    "duration": 17,
    "start_time": "2022-02-13T13:23:30.563Z"
   },
   {
    "duration": 14,
    "start_time": "2022-02-13T13:23:30.582Z"
   },
   {
    "duration": 16,
    "start_time": "2022-02-13T13:23:30.597Z"
   },
   {
    "duration": 24,
    "start_time": "2022-02-13T13:23:30.615Z"
   },
   {
    "duration": 10,
    "start_time": "2022-02-13T13:23:30.641Z"
   },
   {
    "duration": 38,
    "start_time": "2022-02-13T13:23:30.653Z"
   },
   {
    "duration": 5,
    "start_time": "2022-02-13T13:23:30.693Z"
   },
   {
    "duration": 18,
    "start_time": "2022-02-13T13:23:30.699Z"
   },
   {
    "duration": 16,
    "start_time": "2022-02-13T13:23:30.719Z"
   },
   {
    "duration": 15,
    "start_time": "2022-02-13T13:23:30.736Z"
   },
   {
    "duration": 11,
    "start_time": "2022-02-13T13:23:30.752Z"
   },
   {
    "duration": 19,
    "start_time": "2022-02-13T13:23:30.764Z"
   },
   {
    "duration": 7,
    "start_time": "2022-02-13T13:23:30.812Z"
   },
   {
    "duration": 14,
    "start_time": "2022-02-13T13:23:30.821Z"
   },
   {
    "duration": 9,
    "start_time": "2022-02-13T13:23:30.836Z"
   },
   {
    "duration": 6,
    "start_time": "2022-02-13T13:23:30.847Z"
   },
   {
    "duration": 18,
    "start_time": "2022-02-13T13:23:30.854Z"
   },
   {
    "duration": 7,
    "start_time": "2022-02-13T13:23:30.873Z"
   },
   {
    "duration": 29,
    "start_time": "2022-02-13T13:23:30.885Z"
   },
   {
    "duration": 33,
    "start_time": "2022-02-13T13:23:30.917Z"
   },
   {
    "duration": 17,
    "start_time": "2022-02-13T13:23:30.952Z"
   },
   {
    "duration": 22,
    "start_time": "2022-02-13T13:23:30.971Z"
   },
   {
    "duration": 12,
    "start_time": "2022-02-13T13:23:31.012Z"
   },
   {
    "duration": 10,
    "start_time": "2022-02-13T13:23:31.026Z"
   },
   {
    "duration": 48,
    "start_time": "2022-02-13T13:23:31.037Z"
   },
   {
    "duration": 4,
    "start_time": "2022-02-13T13:23:31.086Z"
   },
   {
    "duration": 38,
    "start_time": "2022-02-13T13:23:31.091Z"
   },
   {
    "duration": 28,
    "start_time": "2022-02-13T13:23:31.130Z"
   },
   {
    "duration": 22,
    "start_time": "2022-02-13T13:23:31.159Z"
   },
   {
    "duration": 49,
    "start_time": "2022-02-13T13:23:31.182Z"
   },
   {
    "duration": 20,
    "start_time": "2022-02-13T13:23:31.233Z"
   },
   {
    "duration": 117,
    "start_time": "2022-02-13T13:23:31.255Z"
   },
   {
    "duration": 3,
    "start_time": "2022-02-13T13:23:31.374Z"
   },
   {
    "duration": 6,
    "start_time": "2022-02-13T13:23:31.379Z"
   },
   {
    "duration": 5,
    "start_time": "2022-02-13T13:23:31.387Z"
   },
   {
    "duration": 4,
    "start_time": "2022-02-13T13:23:31.413Z"
   },
   {
    "duration": 222,
    "start_time": "2022-02-13T13:23:31.419Z"
   },
   {
    "duration": 43,
    "start_time": "2022-02-13T13:23:31.643Z"
   },
   {
    "duration": 4,
    "start_time": "2022-02-13T13:23:31.687Z"
   },
   {
    "duration": 27,
    "start_time": "2022-02-13T13:23:31.692Z"
   },
   {
    "duration": 10,
    "start_time": "2022-02-13T13:23:31.721Z"
   },
   {
    "duration": 6,
    "start_time": "2022-02-13T13:23:31.733Z"
   },
   {
    "duration": 6,
    "start_time": "2022-02-13T13:23:31.740Z"
   },
   {
    "duration": 194,
    "start_time": "2022-02-13T13:23:31.747Z"
   },
   {
    "duration": 180,
    "start_time": "2022-02-13T13:23:31.943Z"
   },
   {
    "duration": 159,
    "start_time": "2022-02-13T13:23:32.125Z"
   },
   {
    "duration": 172,
    "start_time": "2022-02-13T13:23:32.286Z"
   },
   {
    "duration": 7,
    "start_time": "2022-02-13T13:23:32.460Z"
   },
   {
    "duration": 6,
    "start_time": "2022-02-13T13:23:32.468Z"
   },
   {
    "duration": 238,
    "start_time": "2022-02-13T13:23:32.476Z"
   },
   {
    "duration": 192,
    "start_time": "2022-02-13T13:23:32.715Z"
   },
   {
    "duration": 216,
    "start_time": "2022-02-13T13:23:32.913Z"
   },
   {
    "duration": 8,
    "start_time": "2022-02-13T13:23:33.130Z"
   },
   {
    "duration": 5,
    "start_time": "2022-02-13T13:23:33.139Z"
   },
   {
    "duration": 154,
    "start_time": "2022-02-13T13:23:33.146Z"
   },
   {
    "duration": 136,
    "start_time": "2022-02-13T13:23:33.302Z"
   },
   {
    "duration": 9,
    "start_time": "2022-02-13T13:23:33.440Z"
   },
   {
    "duration": 11,
    "start_time": "2022-02-13T13:23:33.451Z"
   },
   {
    "duration": 272,
    "start_time": "2022-02-13T13:23:33.464Z"
   },
   {
    "duration": 143,
    "start_time": "2022-02-13T13:23:33.738Z"
   },
   {
    "duration": 96,
    "start_time": "2022-02-13T13:24:36.746Z"
   },
   {
    "duration": 67,
    "start_time": "2022-02-13T13:25:14.135Z"
   },
   {
    "duration": 65,
    "start_time": "2022-02-13T13:26:39.659Z"
   },
   {
    "duration": 32,
    "start_time": "2022-02-13T13:30:20.514Z"
   },
   {
    "duration": 4,
    "start_time": "2022-02-13T13:30:29.372Z"
   },
   {
    "duration": 22,
    "start_time": "2022-02-13T13:30:29.378Z"
   },
   {
    "duration": 145,
    "start_time": "2022-02-13T13:30:29.403Z"
   },
   {
    "duration": 75,
    "start_time": "2022-02-13T13:30:29.550Z"
   },
   {
    "duration": 118,
    "start_time": "2022-02-13T13:30:29.627Z"
   },
   {
    "duration": 10,
    "start_time": "2022-02-13T13:30:29.747Z"
   },
   {
    "duration": 11,
    "start_time": "2022-02-13T13:30:29.759Z"
   },
   {
    "duration": 6,
    "start_time": "2022-02-13T13:30:29.772Z"
   },
   {
    "duration": 4,
    "start_time": "2022-02-13T13:30:29.781Z"
   },
   {
    "duration": 7,
    "start_time": "2022-02-13T13:30:29.787Z"
   },
   {
    "duration": 22,
    "start_time": "2022-02-13T13:30:29.796Z"
   },
   {
    "duration": 8,
    "start_time": "2022-02-13T13:30:29.825Z"
   },
   {
    "duration": 6,
    "start_time": "2022-02-13T13:30:29.834Z"
   },
   {
    "duration": 26,
    "start_time": "2022-02-13T13:30:29.841Z"
   },
   {
    "duration": 4,
    "start_time": "2022-02-13T13:30:29.869Z"
   },
   {
    "duration": 16,
    "start_time": "2022-02-13T13:30:29.875Z"
   },
   {
    "duration": 31,
    "start_time": "2022-02-13T13:30:29.893Z"
   },
   {
    "duration": 14,
    "start_time": "2022-02-13T13:30:29.926Z"
   },
   {
    "duration": 10,
    "start_time": "2022-02-13T13:30:29.942Z"
   },
   {
    "duration": 18,
    "start_time": "2022-02-13T13:30:29.953Z"
   },
   {
    "duration": 8,
    "start_time": "2022-02-13T13:30:29.973Z"
   },
   {
    "duration": 16,
    "start_time": "2022-02-13T13:30:30.013Z"
   },
   {
    "duration": 9,
    "start_time": "2022-02-13T13:30:30.031Z"
   },
   {
    "duration": 10,
    "start_time": "2022-02-13T13:30:30.042Z"
   },
   {
    "duration": 16,
    "start_time": "2022-02-13T13:30:30.053Z"
   },
   {
    "duration": 12,
    "start_time": "2022-02-13T13:30:30.071Z"
   },
   {
    "duration": 25,
    "start_time": "2022-02-13T13:30:30.087Z"
   },
   {
    "duration": 31,
    "start_time": "2022-02-13T13:30:30.115Z"
   },
   {
    "duration": 18,
    "start_time": "2022-02-13T13:30:30.147Z"
   },
   {
    "duration": 22,
    "start_time": "2022-02-13T13:30:30.167Z"
   },
   {
    "duration": 28,
    "start_time": "2022-02-13T13:30:30.191Z"
   },
   {
    "duration": 16,
    "start_time": "2022-02-13T13:30:30.221Z"
   },
   {
    "duration": 58,
    "start_time": "2022-02-13T13:30:30.238Z"
   },
   {
    "duration": 4,
    "start_time": "2022-02-13T13:30:30.298Z"
   },
   {
    "duration": 32,
    "start_time": "2022-02-13T13:30:30.303Z"
   },
   {
    "duration": 27,
    "start_time": "2022-02-13T13:30:30.337Z"
   },
   {
    "duration": 21,
    "start_time": "2022-02-13T13:30:30.366Z"
   },
   {
    "duration": 45,
    "start_time": "2022-02-13T13:30:30.388Z"
   },
   {
    "duration": 24,
    "start_time": "2022-02-13T13:30:30.435Z"
   },
   {
    "duration": 118,
    "start_time": "2022-02-13T13:30:30.461Z"
   },
   {
    "duration": 38,
    "start_time": "2022-02-13T13:30:30.581Z"
   },
   {
    "duration": 4,
    "start_time": "2022-02-13T13:30:30.621Z"
   },
   {
    "duration": 29,
    "start_time": "2022-02-13T13:30:30.627Z"
   },
   {
    "duration": 13,
    "start_time": "2022-02-13T13:30:30.657Z"
   },
   {
    "duration": 22,
    "start_time": "2022-02-13T13:30:30.671Z"
   },
   {
    "duration": 14,
    "start_time": "2022-02-13T13:30:30.694Z"
   },
   {
    "duration": 191,
    "start_time": "2022-02-13T13:30:30.710Z"
   },
   {
    "duration": 167,
    "start_time": "2022-02-13T13:30:30.903Z"
   },
   {
    "duration": 157,
    "start_time": "2022-02-13T13:30:31.072Z"
   },
   {
    "duration": 170,
    "start_time": "2022-02-13T13:30:31.231Z"
   },
   {
    "duration": 10,
    "start_time": "2022-02-13T13:30:31.403Z"
   },
   {
    "duration": 6,
    "start_time": "2022-02-13T13:30:31.415Z"
   },
   {
    "duration": 220,
    "start_time": "2022-02-13T13:30:31.422Z"
   },
   {
    "duration": 179,
    "start_time": "2022-02-13T13:30:31.644Z"
   },
   {
    "duration": 201,
    "start_time": "2022-02-13T13:30:31.825Z"
   },
   {
    "duration": 7,
    "start_time": "2022-02-13T13:30:32.028Z"
   },
   {
    "duration": 6,
    "start_time": "2022-02-13T13:30:32.037Z"
   },
   {
    "duration": 153,
    "start_time": "2022-02-13T13:30:32.044Z"
   },
   {
    "duration": 128,
    "start_time": "2022-02-13T13:30:32.199Z"
   },
   {
    "duration": 9,
    "start_time": "2022-02-13T13:30:32.328Z"
   },
   {
    "duration": 7,
    "start_time": "2022-02-13T13:30:32.339Z"
   },
   {
    "duration": 150,
    "start_time": "2022-02-13T13:30:32.347Z"
   },
   {
    "duration": 149,
    "start_time": "2022-02-13T13:30:32.498Z"
   },
   {
    "duration": 65,
    "start_time": "2022-02-13T13:31:04.764Z"
   },
   {
    "duration": 1000,
    "start_time": "2022-02-14T11:24:15.600Z"
   },
   {
    "duration": 34,
    "start_time": "2022-02-14T11:24:16.601Z"
   },
   {
    "duration": 147,
    "start_time": "2022-02-14T11:24:16.636Z"
   },
   {
    "duration": 84,
    "start_time": "2022-02-14T11:24:16.784Z"
   },
   {
    "duration": 124,
    "start_time": "2022-02-14T11:24:16.870Z"
   },
   {
    "duration": 15,
    "start_time": "2022-02-14T11:24:16.996Z"
   },
   {
    "duration": 8,
    "start_time": "2022-02-14T11:24:17.012Z"
   },
   {
    "duration": 6,
    "start_time": "2022-02-14T11:24:17.023Z"
   },
   {
    "duration": 4,
    "start_time": "2022-02-14T11:24:17.031Z"
   },
   {
    "duration": 5,
    "start_time": "2022-02-14T11:24:17.037Z"
   },
   {
    "duration": 5,
    "start_time": "2022-02-14T11:24:17.043Z"
   },
   {
    "duration": 23,
    "start_time": "2022-02-14T11:24:17.050Z"
   },
   {
    "duration": 4,
    "start_time": "2022-02-14T11:24:17.076Z"
   },
   {
    "duration": 28,
    "start_time": "2022-02-14T11:24:17.081Z"
   },
   {
    "duration": 5,
    "start_time": "2022-02-14T11:24:17.110Z"
   },
   {
    "duration": 20,
    "start_time": "2022-02-14T11:24:17.117Z"
   },
   {
    "duration": 18,
    "start_time": "2022-02-14T11:24:17.139Z"
   },
   {
    "duration": 22,
    "start_time": "2022-02-14T11:24:17.158Z"
   },
   {
    "duration": 17,
    "start_time": "2022-02-14T11:24:17.182Z"
   },
   {
    "duration": 17,
    "start_time": "2022-02-14T11:24:17.201Z"
   },
   {
    "duration": 9,
    "start_time": "2022-02-14T11:24:17.219Z"
   },
   {
    "duration": 19,
    "start_time": "2022-02-14T11:24:17.230Z"
   },
   {
    "duration": 19,
    "start_time": "2022-02-14T11:24:17.253Z"
   },
   {
    "duration": 6,
    "start_time": "2022-02-14T11:24:17.274Z"
   },
   {
    "duration": 20,
    "start_time": "2022-02-14T11:24:17.281Z"
   },
   {
    "duration": 16,
    "start_time": "2022-02-14T11:24:17.303Z"
   },
   {
    "duration": 10,
    "start_time": "2022-02-14T11:24:17.321Z"
   },
   {
    "duration": 38,
    "start_time": "2022-02-14T11:24:17.333Z"
   },
   {
    "duration": 17,
    "start_time": "2022-02-14T11:24:17.373Z"
   },
   {
    "duration": 23,
    "start_time": "2022-02-14T11:24:17.392Z"
   },
   {
    "duration": 17,
    "start_time": "2022-02-14T11:24:17.417Z"
   },
   {
    "duration": 6,
    "start_time": "2022-02-14T11:24:17.436Z"
   },
   {
    "duration": 57,
    "start_time": "2022-02-14T11:24:17.444Z"
   },
   {
    "duration": 3,
    "start_time": "2022-02-14T11:24:17.503Z"
   },
   {
    "duration": 29,
    "start_time": "2022-02-14T11:24:17.508Z"
   },
   {
    "duration": 41,
    "start_time": "2022-02-14T11:24:17.538Z"
   },
   {
    "duration": 19,
    "start_time": "2022-02-14T11:24:17.581Z"
   },
   {
    "duration": 26,
    "start_time": "2022-02-14T11:24:17.601Z"
   },
   {
    "duration": 23,
    "start_time": "2022-02-14T11:24:17.628Z"
   },
   {
    "duration": 104,
    "start_time": "2022-02-14T11:24:17.653Z"
   },
   {
    "duration": 36,
    "start_time": "2022-02-14T11:24:17.758Z"
   },
   {
    "duration": 3,
    "start_time": "2022-02-14T11:24:17.796Z"
   },
   {
    "duration": 9,
    "start_time": "2022-02-14T11:24:17.801Z"
   },
   {
    "duration": 7,
    "start_time": "2022-02-14T11:24:17.812Z"
   },
   {
    "duration": 7,
    "start_time": "2022-02-14T11:24:17.821Z"
   },
   {
    "duration": 5,
    "start_time": "2022-02-14T11:24:17.829Z"
   },
   {
    "duration": 179,
    "start_time": "2022-02-14T11:24:17.836Z"
   },
   {
    "duration": 144,
    "start_time": "2022-02-14T11:24:18.017Z"
   },
   {
    "duration": 151,
    "start_time": "2022-02-14T11:24:18.163Z"
   },
   {
    "duration": 148,
    "start_time": "2022-02-14T11:24:18.316Z"
   },
   {
    "duration": 6,
    "start_time": "2022-02-14T11:24:18.471Z"
   },
   {
    "duration": 7,
    "start_time": "2022-02-14T11:24:18.478Z"
   },
   {
    "duration": 176,
    "start_time": "2022-02-14T11:24:18.487Z"
   },
   {
    "duration": 161,
    "start_time": "2022-02-14T11:24:18.664Z"
   },
   {
    "duration": 240,
    "start_time": "2022-02-14T11:24:18.826Z"
   },
   {
    "duration": 7,
    "start_time": "2022-02-14T11:24:19.071Z"
   },
   {
    "duration": 5,
    "start_time": "2022-02-14T11:24:19.080Z"
   },
   {
    "duration": 129,
    "start_time": "2022-02-14T11:24:19.086Z"
   },
   {
    "duration": 119,
    "start_time": "2022-02-14T11:24:19.217Z"
   },
   {
    "duration": 9,
    "start_time": "2022-02-14T11:24:19.338Z"
   },
   {
    "duration": 7,
    "start_time": "2022-02-14T11:24:19.349Z"
   },
   {
    "duration": 134,
    "start_time": "2022-02-14T11:24:19.357Z"
   },
   {
    "duration": 134,
    "start_time": "2022-02-14T11:24:19.492Z"
   },
   {
    "duration": 87,
    "start_time": "2022-02-14T11:57:56.353Z"
   },
   {
    "duration": 17,
    "start_time": "2022-02-14T11:58:06.420Z"
   },
   {
    "duration": 1113,
    "start_time": "2022-02-14T11:58:59.226Z"
   },
   {
    "duration": 88,
    "start_time": "2022-02-14T11:59:07.672Z"
   },
   {
    "duration": 80,
    "start_time": "2022-02-14T11:59:49.349Z"
   },
   {
    "duration": 5,
    "start_time": "2022-02-14T11:59:53.189Z"
   },
   {
    "duration": 13,
    "start_time": "2022-02-14T12:00:38.502Z"
   },
   {
    "duration": 12,
    "start_time": "2022-02-14T12:00:58.691Z"
   },
   {
    "duration": 13,
    "start_time": "2022-02-14T12:01:05.814Z"
   },
   {
    "duration": 31,
    "start_time": "2022-02-14T12:01:14.333Z"
   },
   {
    "duration": 41,
    "start_time": "2022-02-14T12:18:14.958Z"
   },
   {
    "duration": 23,
    "start_time": "2022-02-14T12:18:28.655Z"
   },
   {
    "duration": 7,
    "start_time": "2022-02-14T12:18:35.880Z"
   },
   {
    "duration": 18,
    "start_time": "2022-02-14T12:19:02.414Z"
   },
   {
    "duration": 93,
    "start_time": "2022-02-14T12:19:22.696Z"
   },
   {
    "duration": 84,
    "start_time": "2022-02-14T12:19:29.193Z"
   },
   {
    "duration": 4,
    "start_time": "2022-02-14T12:21:15.777Z"
   },
   {
    "duration": 30,
    "start_time": "2022-02-14T12:27:52.287Z"
   },
   {
    "duration": 5,
    "start_time": "2022-02-14T12:27:59.926Z"
   },
   {
    "duration": 21,
    "start_time": "2022-02-14T12:29:20.795Z"
   },
   {
    "duration": 6,
    "start_time": "2022-02-14T12:29:45.934Z"
   },
   {
    "duration": 19,
    "start_time": "2022-02-14T12:33:40.661Z"
   },
   {
    "duration": 12,
    "start_time": "2022-02-14T12:34:11.624Z"
   },
   {
    "duration": 10,
    "start_time": "2022-02-14T12:34:15.144Z"
   },
   {
    "duration": 11,
    "start_time": "2022-02-14T12:34:16.495Z"
   },
   {
    "duration": 119,
    "start_time": "2022-02-16T05:58:13.673Z"
   },
   {
    "duration": 1309,
    "start_time": "2022-02-16T05:58:22.398Z"
   },
   {
    "duration": 22,
    "start_time": "2022-02-16T05:58:23.710Z"
   },
   {
    "duration": 193,
    "start_time": "2022-02-16T05:58:23.734Z"
   },
   {
    "duration": 114,
    "start_time": "2022-02-16T05:58:23.929Z"
   },
   {
    "duration": 162,
    "start_time": "2022-02-16T05:58:24.046Z"
   },
   {
    "duration": 13,
    "start_time": "2022-02-16T05:58:24.210Z"
   },
   {
    "duration": 13,
    "start_time": "2022-02-16T05:58:24.225Z"
   },
   {
    "duration": 9,
    "start_time": "2022-02-16T05:58:24.250Z"
   },
   {
    "duration": 7,
    "start_time": "2022-02-16T05:58:24.262Z"
   },
   {
    "duration": 9,
    "start_time": "2022-02-16T05:58:24.271Z"
   },
   {
    "duration": 9,
    "start_time": "2022-02-16T05:58:24.282Z"
   },
   {
    "duration": 5,
    "start_time": "2022-02-16T05:58:24.293Z"
   },
   {
    "duration": 49,
    "start_time": "2022-02-16T05:58:24.301Z"
   },
   {
    "duration": 30,
    "start_time": "2022-02-16T05:58:24.352Z"
   },
   {
    "duration": 8,
    "start_time": "2022-02-16T05:58:24.384Z"
   },
   {
    "duration": 17,
    "start_time": "2022-02-16T05:58:24.395Z"
   },
   {
    "duration": 54,
    "start_time": "2022-02-16T05:58:24.414Z"
   },
   {
    "duration": 18,
    "start_time": "2022-02-16T05:58:24.471Z"
   },
   {
    "duration": 14,
    "start_time": "2022-02-16T05:58:24.492Z"
   },
   {
    "duration": 54,
    "start_time": "2022-02-16T05:58:24.509Z"
   },
   {
    "duration": 16,
    "start_time": "2022-02-16T05:58:24.566Z"
   },
   {
    "duration": 20,
    "start_time": "2022-02-16T05:58:24.584Z"
   },
   {
    "duration": 41,
    "start_time": "2022-02-16T05:58:24.610Z"
   },
   {
    "duration": 9,
    "start_time": "2022-02-16T05:58:24.654Z"
   },
   {
    "duration": 17,
    "start_time": "2022-02-16T05:58:24.665Z"
   },
   {
    "duration": 9,
    "start_time": "2022-02-16T05:58:24.685Z"
   },
   {
    "duration": 13,
    "start_time": "2022-02-16T05:58:24.697Z"
   },
   {
    "duration": 72,
    "start_time": "2022-02-16T05:58:24.713Z"
   },
   {
    "duration": 24,
    "start_time": "2022-02-16T05:58:24.788Z"
   },
   {
    "duration": 53,
    "start_time": "2022-02-16T05:58:24.815Z"
   },
   {
    "duration": 23,
    "start_time": "2022-02-16T05:58:24.871Z"
   },
   {
    "duration": 9,
    "start_time": "2022-02-16T05:58:24.897Z"
   },
   {
    "duration": 82,
    "start_time": "2022-02-16T05:58:24.908Z"
   },
   {
    "duration": 6,
    "start_time": "2022-02-16T05:58:24.993Z"
   },
   {
    "duration": 55,
    "start_time": "2022-02-16T05:58:25.002Z"
   },
   {
    "duration": 37,
    "start_time": "2022-02-16T05:58:25.060Z"
   },
   {
    "duration": 51,
    "start_time": "2022-02-16T05:58:25.099Z"
   },
   {
    "duration": 38,
    "start_time": "2022-02-16T05:58:25.153Z"
   },
   {
    "duration": 57,
    "start_time": "2022-02-16T05:58:25.194Z"
   },
   {
    "duration": 178,
    "start_time": "2022-02-16T05:58:25.253Z"
   },
   {
    "duration": 46,
    "start_time": "2022-02-16T05:58:25.433Z"
   },
   {
    "duration": 6,
    "start_time": "2022-02-16T05:58:25.481Z"
   },
   {
    "duration": 12,
    "start_time": "2022-02-16T05:58:25.489Z"
   },
   {
    "duration": 10,
    "start_time": "2022-02-16T05:58:25.503Z"
   },
   {
    "duration": 37,
    "start_time": "2022-02-16T05:58:25.516Z"
   },
   {
    "duration": 10,
    "start_time": "2022-02-16T05:58:25.555Z"
   },
   {
    "duration": 312,
    "start_time": "2022-02-16T05:58:25.567Z"
   },
   {
    "duration": 252,
    "start_time": "2022-02-16T05:58:25.882Z"
   },
   {
    "duration": 243,
    "start_time": "2022-02-16T05:58:26.136Z"
   },
   {
    "duration": 248,
    "start_time": "2022-02-16T05:58:26.381Z"
   },
   {
    "duration": 19,
    "start_time": "2022-02-16T05:58:26.633Z"
   },
   {
    "duration": 15,
    "start_time": "2022-02-16T05:58:26.655Z"
   },
   {
    "duration": 312,
    "start_time": "2022-02-16T05:58:26.673Z"
   },
   {
    "duration": 292,
    "start_time": "2022-02-16T05:58:26.988Z"
   },
   {
    "duration": 343,
    "start_time": "2022-02-16T05:58:27.282Z"
   },
   {
    "duration": 21,
    "start_time": "2022-02-16T05:58:27.628Z"
   },
   {
    "duration": 15,
    "start_time": "2022-02-16T05:58:27.651Z"
   },
   {
    "duration": 225,
    "start_time": "2022-02-16T05:58:27.668Z"
   },
   {
    "duration": 213,
    "start_time": "2022-02-16T05:58:27.895Z"
   },
   {
    "duration": 15,
    "start_time": "2022-02-16T05:58:28.111Z"
   },
   {
    "duration": 24,
    "start_time": "2022-02-16T05:58:28.128Z"
   },
   {
    "duration": 208,
    "start_time": "2022-02-16T05:58:28.155Z"
   },
   {
    "duration": 229,
    "start_time": "2022-02-16T05:58:28.365Z"
   },
   {
    "duration": 17,
    "start_time": "2022-02-16T06:08:12.484Z"
   },
   {
    "duration": 10,
    "start_time": "2022-02-16T06:09:32.698Z"
   },
   {
    "duration": 13,
    "start_time": "2022-02-16T06:10:07.539Z"
   },
   {
    "duration": 13,
    "start_time": "2022-02-16T06:10:23.809Z"
   },
   {
    "duration": 18,
    "start_time": "2022-02-16T06:10:47.311Z"
   },
   {
    "duration": 17,
    "start_time": "2022-02-16T06:10:57.361Z"
   },
   {
    "duration": 93,
    "start_time": "2022-02-16T06:11:23.822Z"
   },
   {
    "duration": 321,
    "start_time": "2022-02-16T06:15:33.566Z"
   },
   {
    "duration": 308,
    "start_time": "2022-02-16T06:22:21.097Z"
   },
   {
    "duration": 313,
    "start_time": "2022-02-16T06:22:27.704Z"
   },
   {
    "duration": 4,
    "start_time": "2022-02-16T06:34:31.172Z"
   },
   {
    "duration": 38,
    "start_time": "2022-02-16T06:34:31.179Z"
   },
   {
    "duration": 263,
    "start_time": "2022-02-16T06:34:31.220Z"
   },
   {
    "duration": 113,
    "start_time": "2022-02-16T06:34:31.487Z"
   },
   {
    "duration": 171,
    "start_time": "2022-02-16T06:34:31.603Z"
   },
   {
    "duration": 16,
    "start_time": "2022-02-16T06:34:31.777Z"
   },
   {
    "duration": 13,
    "start_time": "2022-02-16T06:34:31.796Z"
   },
   {
    "duration": 11,
    "start_time": "2022-02-16T06:34:31.812Z"
   },
   {
    "duration": 27,
    "start_time": "2022-02-16T06:34:31.827Z"
   },
   {
    "duration": 12,
    "start_time": "2022-02-16T06:34:31.858Z"
   },
   {
    "duration": 36,
    "start_time": "2022-02-16T06:34:31.872Z"
   },
   {
    "duration": 17,
    "start_time": "2022-02-16T06:34:31.910Z"
   },
   {
    "duration": 15,
    "start_time": "2022-02-16T06:34:31.929Z"
   },
   {
    "duration": 51,
    "start_time": "2022-02-16T06:34:31.947Z"
   },
   {
    "duration": 9,
    "start_time": "2022-02-16T06:34:32.002Z"
   },
   {
    "duration": 30,
    "start_time": "2022-02-16T06:34:32.014Z"
   },
   {
    "duration": 23,
    "start_time": "2022-02-16T06:34:32.049Z"
   },
   {
    "duration": 21,
    "start_time": "2022-02-16T06:34:32.076Z"
   },
   {
    "duration": 14,
    "start_time": "2022-02-16T06:34:32.100Z"
   },
   {
    "duration": 49,
    "start_time": "2022-02-16T06:34:32.117Z"
   },
   {
    "duration": 14,
    "start_time": "2022-02-16T06:34:32.169Z"
   },
   {
    "duration": 35,
    "start_time": "2022-02-16T06:34:32.186Z"
   },
   {
    "duration": 34,
    "start_time": "2022-02-16T06:34:32.224Z"
   },
   {
    "duration": 13,
    "start_time": "2022-02-16T06:34:32.261Z"
   },
   {
    "duration": 20,
    "start_time": "2022-02-16T06:34:32.277Z"
   },
   {
    "duration": 16,
    "start_time": "2022-02-16T06:34:32.300Z"
   },
   {
    "duration": 5,
    "start_time": "2022-02-16T06:34:32.352Z"
   },
   {
    "duration": 51,
    "start_time": "2022-02-16T06:34:32.362Z"
   },
   {
    "duration": 45,
    "start_time": "2022-02-16T06:34:32.416Z"
   },
   {
    "duration": 34,
    "start_time": "2022-02-16T06:34:32.463Z"
   },
   {
    "duration": 19,
    "start_time": "2022-02-16T06:34:32.499Z"
   },
   {
    "duration": 36,
    "start_time": "2022-02-16T06:34:32.521Z"
   },
   {
    "duration": 65,
    "start_time": "2022-02-16T06:34:32.560Z"
   },
   {
    "duration": 21,
    "start_time": "2022-02-16T06:34:32.628Z"
   },
   {
    "duration": 36,
    "start_time": "2022-02-16T06:34:32.653Z"
   },
   {
    "duration": 77,
    "start_time": "2022-02-16T06:34:32.692Z"
   },
   {
    "duration": 31,
    "start_time": "2022-02-16T06:34:32.772Z"
   },
   {
    "duration": 56,
    "start_time": "2022-02-16T06:34:32.805Z"
   },
   {
    "duration": 35,
    "start_time": "2022-02-16T06:34:32.864Z"
   },
   {
    "duration": 200,
    "start_time": "2022-02-16T06:34:32.901Z"
   },
   {
    "duration": 58,
    "start_time": "2022-02-16T06:34:33.105Z"
   },
   {
    "duration": 5,
    "start_time": "2022-02-16T06:34:33.166Z"
   },
   {
    "duration": 12,
    "start_time": "2022-02-16T06:34:33.174Z"
   },
   {
    "duration": 12,
    "start_time": "2022-02-16T06:34:33.188Z"
   },
   {
    "duration": 12,
    "start_time": "2022-02-16T06:34:33.203Z"
   },
   {
    "duration": 35,
    "start_time": "2022-02-16T06:34:33.217Z"
   },
   {
    "duration": 403,
    "start_time": "2022-02-16T06:34:33.254Z"
   },
   {
    "duration": 261,
    "start_time": "2022-02-16T06:34:33.660Z"
   },
   {
    "duration": 255,
    "start_time": "2022-02-16T06:34:33.924Z"
   },
   {
    "duration": 268,
    "start_time": "2022-02-16T06:34:34.181Z"
   },
   {
    "duration": 18,
    "start_time": "2022-02-16T06:34:34.452Z"
   },
   {
    "duration": 23,
    "start_time": "2022-02-16T06:34:34.473Z"
   },
   {
    "duration": 408,
    "start_time": "2022-02-16T06:34:34.498Z"
   },
   {
    "duration": 351,
    "start_time": "2022-02-16T06:34:34.909Z"
   },
   {
    "duration": 360,
    "start_time": "2022-02-16T06:34:35.264Z"
   },
   {
    "duration": 24,
    "start_time": "2022-02-16T06:34:35.626Z"
   },
   {
    "duration": 7,
    "start_time": "2022-02-16T06:34:35.652Z"
   },
   {
    "duration": 224,
    "start_time": "2022-02-16T06:34:35.662Z"
   },
   {
    "duration": 214,
    "start_time": "2022-02-16T06:34:35.889Z"
   },
   {
    "duration": 15,
    "start_time": "2022-02-16T06:34:36.106Z"
   },
   {
    "duration": 8,
    "start_time": "2022-02-16T06:34:36.124Z"
   },
   {
    "duration": 251,
    "start_time": "2022-02-16T06:34:36.149Z"
   },
   {
    "duration": 239,
    "start_time": "2022-02-16T06:34:36.402Z"
   },
   {
    "duration": 1473,
    "start_time": "2022-02-16T19:12:47.843Z"
   },
   {
    "duration": 43,
    "start_time": "2022-02-16T19:12:49.319Z"
   },
   {
    "duration": 217,
    "start_time": "2022-02-16T19:12:49.365Z"
   },
   {
    "duration": 143,
    "start_time": "2022-02-16T19:12:49.586Z"
   },
   {
    "duration": 209,
    "start_time": "2022-02-16T19:12:49.732Z"
   },
   {
    "duration": 19,
    "start_time": "2022-02-16T19:12:49.944Z"
   },
   {
    "duration": 14,
    "start_time": "2022-02-16T19:12:49.966Z"
   },
   {
    "duration": 16,
    "start_time": "2022-02-16T19:12:49.985Z"
   },
   {
    "duration": 8,
    "start_time": "2022-02-16T19:12:50.005Z"
   },
   {
    "duration": 7,
    "start_time": "2022-02-16T19:12:50.016Z"
   },
   {
    "duration": 10,
    "start_time": "2022-02-16T19:12:50.026Z"
   },
   {
    "duration": 7,
    "start_time": "2022-02-16T19:12:50.038Z"
   },
   {
    "duration": 7,
    "start_time": "2022-02-16T19:12:50.047Z"
   },
   {
    "duration": 34,
    "start_time": "2022-02-16T19:12:50.056Z"
   },
   {
    "duration": 8,
    "start_time": "2022-02-16T19:12:50.092Z"
   },
   {
    "duration": 22,
    "start_time": "2022-02-16T19:12:50.102Z"
   },
   {
    "duration": 21,
    "start_time": "2022-02-16T19:12:50.126Z"
   },
   {
    "duration": 21,
    "start_time": "2022-02-16T19:12:50.150Z"
   },
   {
    "duration": 12,
    "start_time": "2022-02-16T19:12:50.173Z"
   },
   {
    "duration": 35,
    "start_time": "2022-02-16T19:12:50.188Z"
   },
   {
    "duration": 16,
    "start_time": "2022-02-16T19:12:50.226Z"
   },
   {
    "duration": 29,
    "start_time": "2022-02-16T19:12:50.245Z"
   },
   {
    "duration": 14,
    "start_time": "2022-02-16T19:12:50.281Z"
   },
   {
    "duration": 13,
    "start_time": "2022-02-16T19:12:50.312Z"
   },
   {
    "duration": 19,
    "start_time": "2022-02-16T19:12:50.328Z"
   },
   {
    "duration": 12,
    "start_time": "2022-02-16T19:12:50.350Z"
   },
   {
    "duration": 7,
    "start_time": "2022-02-16T19:12:50.365Z"
   },
   {
    "duration": 79,
    "start_time": "2022-02-16T19:12:50.375Z"
   },
   {
    "duration": 27,
    "start_time": "2022-02-16T19:12:50.456Z"
   },
   {
    "duration": 43,
    "start_time": "2022-02-16T19:12:50.485Z"
   },
   {
    "duration": 40,
    "start_time": "2022-02-16T19:12:50.531Z"
   },
   {
    "duration": 10,
    "start_time": "2022-02-16T19:12:50.573Z"
   },
   {
    "duration": 75,
    "start_time": "2022-02-16T19:12:50.586Z"
   },
   {
    "duration": 6,
    "start_time": "2022-02-16T19:12:50.664Z"
   },
   {
    "duration": 62,
    "start_time": "2022-02-16T19:12:50.673Z"
   },
   {
    "duration": 38,
    "start_time": "2022-02-16T19:12:50.738Z"
   },
   {
    "duration": 33,
    "start_time": "2022-02-16T19:12:50.779Z"
   },
   {
    "duration": 40,
    "start_time": "2022-02-16T19:12:50.815Z"
   },
   {
    "duration": 37,
    "start_time": "2022-02-16T19:12:50.857Z"
   },
   {
    "duration": 335,
    "start_time": "2022-02-16T19:12:50.896Z"
   },
   {
    "duration": 103,
    "start_time": "2022-02-16T19:12:51.234Z"
   },
   {
    "duration": 8,
    "start_time": "2022-02-16T19:12:51.340Z"
   },
   {
    "duration": 66,
    "start_time": "2022-02-16T19:12:51.350Z"
   },
   {
    "duration": 14,
    "start_time": "2022-02-16T19:12:51.419Z"
   },
   {
    "duration": 12,
    "start_time": "2022-02-16T19:12:51.437Z"
   },
   {
    "duration": 63,
    "start_time": "2022-02-16T19:12:51.452Z"
   },
   {
    "duration": 493,
    "start_time": "2022-02-16T19:12:51.518Z"
   },
   {
    "duration": 445,
    "start_time": "2022-02-16T19:12:52.013Z"
   },
   {
    "duration": 280,
    "start_time": "2022-02-16T19:12:52.461Z"
   },
   {
    "duration": 271,
    "start_time": "2022-02-16T19:12:52.743Z"
   },
   {
    "duration": 20,
    "start_time": "2022-02-16T19:12:53.016Z"
   },
   {
    "duration": 20,
    "start_time": "2022-02-16T19:12:53.039Z"
   },
   {
    "duration": 490,
    "start_time": "2022-02-16T19:12:53.062Z"
   },
   {
    "duration": 558,
    "start_time": "2022-02-16T19:12:53.555Z"
   },
   {
    "duration": 497,
    "start_time": "2022-02-16T19:12:54.116Z"
   },
   {
    "duration": 11,
    "start_time": "2022-02-16T19:12:54.615Z"
   },
   {
    "duration": 7,
    "start_time": "2022-02-16T19:12:54.629Z"
   },
   {
    "duration": 296,
    "start_time": "2022-02-16T19:12:54.639Z"
   },
   {
    "duration": 261,
    "start_time": "2022-02-16T19:12:54.938Z"
   },
   {
    "duration": 23,
    "start_time": "2022-02-16T19:12:55.202Z"
   },
   {
    "duration": 13,
    "start_time": "2022-02-16T19:12:55.228Z"
   },
   {
    "duration": 258,
    "start_time": "2022-02-16T19:12:55.244Z"
   },
   {
    "duration": 319,
    "start_time": "2022-02-16T19:12:55.505Z"
   },
   {
    "duration": 5,
    "start_time": "2022-02-16T19:16:08.667Z"
   },
   {
    "duration": 702,
    "start_time": "2022-02-16T19:18:13.028Z"
   },
   {
    "duration": 395,
    "start_time": "2022-02-16T19:18:24.648Z"
   },
   {
    "duration": 389,
    "start_time": "2022-02-16T19:20:16.310Z"
   }
  ],
  "kernelspec": {
   "display_name": "Python 3",
   "language": "python",
   "name": "python3"
  },
  "language_info": {
   "codemirror_mode": {
    "name": "ipython",
    "version": 3
   },
   "file_extension": ".py",
   "mimetype": "text/x-python",
   "name": "python",
   "nbconvert_exporter": "python",
   "pygments_lexer": "ipython3",
   "version": "3.8.8"
  },
  "toc": {
   "base_numbering": 1,
   "nav_menu": {},
   "number_sections": true,
   "sideBar": true,
   "skip_h1_title": true,
   "title_cell": "Table of Contents",
   "title_sidebar": "Contents",
   "toc_cell": false,
   "toc_position": {},
   "toc_section_display": true,
   "toc_window_display": false
  }
 },
 "nbformat": 4,
 "nbformat_minor": 2
}
