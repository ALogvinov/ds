{
 "cells": [
  {
   "cell_type": "markdown",
   "metadata": {},
   "source": [
    "# Исследование технологического процесса очистки золота"
   ]
  },
  {
   "cell_type": "markdown",
   "metadata": {},
   "source": [
    "Спрогнозировать концентрацию золота при проведении процесса очистки золота\n"
   ]
  },
  {
   "cell_type": "code",
   "execution_count": 1,
   "metadata": {},
   "outputs": [],
   "source": [
    "import pandas as pd\n",
    "import numpy as np\n",
    "from sklearn.metrics import mean_absolute_error\n",
    "import matplotlib.pyplot as plt\n",
    "from matplotlib.patches import Rectangle\n",
    "from sklearn.ensemble import RandomForestRegressor\n",
    "from sklearn.model_selection import train_test_split\n",
    "from sklearn.preprocessing import StandardScaler\n",
    "from sklearn.linear_model import LinearRegression\n",
    "from sklearn.model_selection import GridSearchCV"
   ]
  },
  {
   "cell_type": "markdown",
   "metadata": {},
   "source": [
    "## Подготовка данных"
   ]
  },
  {
   "cell_type": "markdown",
   "metadata": {},
   "source": [
    "### Импорт данных"
   ]
  },
  {
   "cell_type": "markdown",
   "metadata": {},
   "source": [
    "Возможные значения для блока [этап]:\n",
    "* rougher — флотация\n",
    "* primary_cleaner — первичная очистка\n",
    "* secondary_cleaner — вторичная очистка\n",
    "* final — финальные характеристики"
   ]
  },
  {
   "cell_type": "markdown",
   "metadata": {},
   "source": [
    "Возможные значения для блока [тип_параметра]:\n",
    "* input — параметры сырья\n",
    "* output — параметры продукта\n",
    "* state — параметры, характеризующие текущее состояние этапа\n",
    "* calculation — расчётные характеристики"
   ]
  },
  {
   "cell_type": "markdown",
   "metadata": {},
   "source": [
    "Параметры этапов\n",
    "* air amount — объём воздуха\n",
    "* fluid levels — уровень жидкости\n",
    "* feed size — размер гранул сырья\n",
    "* feed rate — скорость подачи"
   ]
  },
  {
   "cell_type": "markdown",
   "metadata": {},
   "source": [
    "#### Обучающие данные"
   ]
  },
  {
   "cell_type": "code",
   "execution_count": 2,
   "metadata": {},
   "outputs": [
    {
     "name": "stdout",
     "output_type": "stream",
     "text": [
      "<class 'pandas.core.frame.DataFrame'>\n",
      "Index: 14149 entries, 2016-01-15 00:00:00 to 2018-08-18 10:59:59\n",
      "Data columns (total 86 columns):\n",
      " #   Column                                              Non-Null Count  Dtype  \n",
      "---  ------                                              --------------  -----  \n",
      " 0   final.output.concentrate_ag                         14148 non-null  float64\n",
      " 1   final.output.concentrate_pb                         14148 non-null  float64\n",
      " 2   final.output.concentrate_sol                        13938 non-null  float64\n",
      " 3   final.output.concentrate_au                         14149 non-null  float64\n",
      " 4   final.output.recovery                               14149 non-null  float64\n",
      " 5   final.output.tail_ag                                14149 non-null  float64\n",
      " 6   final.output.tail_pb                                14049 non-null  float64\n",
      " 7   final.output.tail_sol                               14144 non-null  float64\n",
      " 8   final.output.tail_au                                14149 non-null  float64\n",
      " 9   primary_cleaner.input.sulfate                       14129 non-null  float64\n",
      " 10  primary_cleaner.input.depressant                    14117 non-null  float64\n",
      " 11  primary_cleaner.input.feed_size                     14149 non-null  float64\n",
      " 12  primary_cleaner.input.xanthate                      14049 non-null  float64\n",
      " 13  primary_cleaner.output.concentrate_ag               14149 non-null  float64\n",
      " 14  primary_cleaner.output.concentrate_pb               14063 non-null  float64\n",
      " 15  primary_cleaner.output.concentrate_sol              13863 non-null  float64\n",
      " 16  primary_cleaner.output.concentrate_au               14149 non-null  float64\n",
      " 17  primary_cleaner.output.tail_ag                      14148 non-null  float64\n",
      " 18  primary_cleaner.output.tail_pb                      14134 non-null  float64\n",
      " 19  primary_cleaner.output.tail_sol                     14103 non-null  float64\n",
      " 20  primary_cleaner.output.tail_au                      14149 non-null  float64\n",
      " 21  primary_cleaner.state.floatbank8_a_air              14145 non-null  float64\n",
      " 22  primary_cleaner.state.floatbank8_a_level            14148 non-null  float64\n",
      " 23  primary_cleaner.state.floatbank8_b_air              14145 non-null  float64\n",
      " 24  primary_cleaner.state.floatbank8_b_level            14148 non-null  float64\n",
      " 25  primary_cleaner.state.floatbank8_c_air              14147 non-null  float64\n",
      " 26  primary_cleaner.state.floatbank8_c_level            14148 non-null  float64\n",
      " 27  primary_cleaner.state.floatbank8_d_air              14146 non-null  float64\n",
      " 28  primary_cleaner.state.floatbank8_d_level            14148 non-null  float64\n",
      " 29  rougher.calculation.sulfate_to_au_concentrate       14148 non-null  float64\n",
      " 30  rougher.calculation.floatbank10_sulfate_to_au_feed  14148 non-null  float64\n",
      " 31  rougher.calculation.floatbank11_sulfate_to_au_feed  14148 non-null  float64\n",
      " 32  rougher.calculation.au_pb_ratio                     14149 non-null  float64\n",
      " 33  rougher.input.feed_ag                               14149 non-null  float64\n",
      " 34  rougher.input.feed_pb                               14049 non-null  float64\n",
      " 35  rougher.input.feed_rate                             14141 non-null  float64\n",
      " 36  rougher.input.feed_size                             14005 non-null  float64\n",
      " 37  rougher.input.feed_sol                              14071 non-null  float64\n",
      " 38  rougher.input.feed_au                               14149 non-null  float64\n",
      " 39  rougher.input.floatbank10_sulfate                   14120 non-null  float64\n",
      " 40  rougher.input.floatbank10_xanthate                  14141 non-null  float64\n",
      " 41  rougher.input.floatbank11_sulfate                   14113 non-null  float64\n",
      " 42  rougher.input.floatbank11_xanthate                  13721 non-null  float64\n",
      " 43  rougher.output.concentrate_ag                       14149 non-null  float64\n",
      " 44  rougher.output.concentrate_pb                       14149 non-null  float64\n",
      " 45  rougher.output.concentrate_sol                      14127 non-null  float64\n",
      " 46  rougher.output.concentrate_au                       14149 non-null  float64\n",
      " 47  rougher.output.recovery                             14149 non-null  float64\n",
      " 48  rougher.output.tail_ag                              14148 non-null  float64\n",
      " 49  rougher.output.tail_pb                              14149 non-null  float64\n",
      " 50  rougher.output.tail_sol                             14149 non-null  float64\n",
      " 51  rougher.output.tail_au                              14149 non-null  float64\n",
      " 52  rougher.state.floatbank10_a_air                     14148 non-null  float64\n",
      " 53  rougher.state.floatbank10_a_level                   14148 non-null  float64\n",
      " 54  rougher.state.floatbank10_b_air                     14148 non-null  float64\n",
      " 55  rougher.state.floatbank10_b_level                   14148 non-null  float64\n",
      " 56  rougher.state.floatbank10_c_air                     14148 non-null  float64\n",
      " 57  rougher.state.floatbank10_c_level                   14148 non-null  float64\n",
      " 58  rougher.state.floatbank10_d_air                     14149 non-null  float64\n",
      " 59  rougher.state.floatbank10_d_level                   14149 non-null  float64\n",
      " 60  rougher.state.floatbank10_e_air                     13713 non-null  float64\n",
      " 61  rougher.state.floatbank10_e_level                   14149 non-null  float64\n",
      " 62  rougher.state.floatbank10_f_air                     14149 non-null  float64\n",
      " 63  rougher.state.floatbank10_f_level                   14149 non-null  float64\n",
      " 64  secondary_cleaner.output.tail_ag                    14147 non-null  float64\n",
      " 65  secondary_cleaner.output.tail_pb                    14139 non-null  float64\n",
      " 66  secondary_cleaner.output.tail_sol                   12544 non-null  float64\n",
      " 67  secondary_cleaner.output.tail_au                    14149 non-null  float64\n",
      " 68  secondary_cleaner.state.floatbank2_a_air            13932 non-null  float64\n",
      " 69  secondary_cleaner.state.floatbank2_a_level          14148 non-null  float64\n",
      " 70  secondary_cleaner.state.floatbank2_b_air            14128 non-null  float64\n",
      " 71  secondary_cleaner.state.floatbank2_b_level          14148 non-null  float64\n",
      " 72  secondary_cleaner.state.floatbank3_a_air            14145 non-null  float64\n",
      " 73  secondary_cleaner.state.floatbank3_a_level          14148 non-null  float64\n",
      " 74  secondary_cleaner.state.floatbank3_b_air            14148 non-null  float64\n",
      " 75  secondary_cleaner.state.floatbank3_b_level          14148 non-null  float64\n",
      " 76  secondary_cleaner.state.floatbank4_a_air            14143 non-null  float64\n",
      " 77  secondary_cleaner.state.floatbank4_a_level          14148 non-null  float64\n",
      " 78  secondary_cleaner.state.floatbank4_b_air            14148 non-null  float64\n",
      " 79  secondary_cleaner.state.floatbank4_b_level          14148 non-null  float64\n",
      " 80  secondary_cleaner.state.floatbank5_a_air            14148 non-null  float64\n",
      " 81  secondary_cleaner.state.floatbank5_a_level          14148 non-null  float64\n",
      " 82  secondary_cleaner.state.floatbank5_b_air            14148 non-null  float64\n",
      " 83  secondary_cleaner.state.floatbank5_b_level          14148 non-null  float64\n",
      " 84  secondary_cleaner.state.floatbank6_a_air            14147 non-null  float64\n",
      " 85  secondary_cleaner.state.floatbank6_a_level          14148 non-null  float64\n",
      "dtypes: float64(86)\n",
      "memory usage: 9.4+ MB\n"
     ]
    }
   ],
   "source": [
    "train_df = pd.read_csv('/datasets/gold_recovery_train_new.csv', index_col = 'date')\n",
    "train_df.info()"
   ]
  },
  {
   "cell_type": "markdown",
   "metadata": {},
   "source": [
    "#### Тестовые данные"
   ]
  },
  {
   "cell_type": "code",
   "execution_count": 3,
   "metadata": {},
   "outputs": [
    {
     "name": "stdout",
     "output_type": "stream",
     "text": [
      "<class 'pandas.core.frame.DataFrame'>\n",
      "Index: 5290 entries, 2016-09-01 00:59:59 to 2017-12-31 23:59:59\n",
      "Data columns (total 52 columns):\n",
      " #   Column                                      Non-Null Count  Dtype  \n",
      "---  ------                                      --------------  -----  \n",
      " 0   primary_cleaner.input.sulfate               5286 non-null   float64\n",
      " 1   primary_cleaner.input.depressant            5285 non-null   float64\n",
      " 2   primary_cleaner.input.feed_size             5290 non-null   float64\n",
      " 3   primary_cleaner.input.xanthate              5286 non-null   float64\n",
      " 4   primary_cleaner.state.floatbank8_a_air      5290 non-null   float64\n",
      " 5   primary_cleaner.state.floatbank8_a_level    5290 non-null   float64\n",
      " 6   primary_cleaner.state.floatbank8_b_air      5290 non-null   float64\n",
      " 7   primary_cleaner.state.floatbank8_b_level    5290 non-null   float64\n",
      " 8   primary_cleaner.state.floatbank8_c_air      5290 non-null   float64\n",
      " 9   primary_cleaner.state.floatbank8_c_level    5290 non-null   float64\n",
      " 10  primary_cleaner.state.floatbank8_d_air      5290 non-null   float64\n",
      " 11  primary_cleaner.state.floatbank8_d_level    5290 non-null   float64\n",
      " 12  rougher.input.feed_ag                       5290 non-null   float64\n",
      " 13  rougher.input.feed_pb                       5290 non-null   float64\n",
      " 14  rougher.input.feed_rate                     5287 non-null   float64\n",
      " 15  rougher.input.feed_size                     5289 non-null   float64\n",
      " 16  rougher.input.feed_sol                      5269 non-null   float64\n",
      " 17  rougher.input.feed_au                       5290 non-null   float64\n",
      " 18  rougher.input.floatbank10_sulfate           5285 non-null   float64\n",
      " 19  rougher.input.floatbank10_xanthate          5290 non-null   float64\n",
      " 20  rougher.input.floatbank11_sulfate           5282 non-null   float64\n",
      " 21  rougher.input.floatbank11_xanthate          5265 non-null   float64\n",
      " 22  rougher.state.floatbank10_a_air             5290 non-null   float64\n",
      " 23  rougher.state.floatbank10_a_level           5290 non-null   float64\n",
      " 24  rougher.state.floatbank10_b_air             5290 non-null   float64\n",
      " 25  rougher.state.floatbank10_b_level           5290 non-null   float64\n",
      " 26  rougher.state.floatbank10_c_air             5290 non-null   float64\n",
      " 27  rougher.state.floatbank10_c_level           5290 non-null   float64\n",
      " 28  rougher.state.floatbank10_d_air             5290 non-null   float64\n",
      " 29  rougher.state.floatbank10_d_level           5290 non-null   float64\n",
      " 30  rougher.state.floatbank10_e_air             5290 non-null   float64\n",
      " 31  rougher.state.floatbank10_e_level           5290 non-null   float64\n",
      " 32  rougher.state.floatbank10_f_air             5290 non-null   float64\n",
      " 33  rougher.state.floatbank10_f_level           5290 non-null   float64\n",
      " 34  secondary_cleaner.state.floatbank2_a_air    5287 non-null   float64\n",
      " 35  secondary_cleaner.state.floatbank2_a_level  5290 non-null   float64\n",
      " 36  secondary_cleaner.state.floatbank2_b_air    5288 non-null   float64\n",
      " 37  secondary_cleaner.state.floatbank2_b_level  5290 non-null   float64\n",
      " 38  secondary_cleaner.state.floatbank3_a_air    5281 non-null   float64\n",
      " 39  secondary_cleaner.state.floatbank3_a_level  5290 non-null   float64\n",
      " 40  secondary_cleaner.state.floatbank3_b_air    5290 non-null   float64\n",
      " 41  secondary_cleaner.state.floatbank3_b_level  5290 non-null   float64\n",
      " 42  secondary_cleaner.state.floatbank4_a_air    5290 non-null   float64\n",
      " 43  secondary_cleaner.state.floatbank4_a_level  5290 non-null   float64\n",
      " 44  secondary_cleaner.state.floatbank4_b_air    5290 non-null   float64\n",
      " 45  secondary_cleaner.state.floatbank4_b_level  5290 non-null   float64\n",
      " 46  secondary_cleaner.state.floatbank5_a_air    5290 non-null   float64\n",
      " 47  secondary_cleaner.state.floatbank5_a_level  5290 non-null   float64\n",
      " 48  secondary_cleaner.state.floatbank5_b_air    5290 non-null   float64\n",
      " 49  secondary_cleaner.state.floatbank5_b_level  5290 non-null   float64\n",
      " 50  secondary_cleaner.state.floatbank6_a_air    5290 non-null   float64\n",
      " 51  secondary_cleaner.state.floatbank6_a_level  5290 non-null   float64\n",
      "dtypes: float64(52)\n",
      "memory usage: 2.1+ MB\n"
     ]
    }
   ],
   "source": [
    "test_df = pd.read_csv('/datasets/gold_recovery_test_new.csv', index_col = 'date')\n",
    "test_df.info()"
   ]
  },
  {
   "cell_type": "markdown",
   "metadata": {},
   "source": [
    "#### Полный датасет"
   ]
  },
  {
   "cell_type": "code",
   "execution_count": 4,
   "metadata": {},
   "outputs": [
    {
     "name": "stdout",
     "output_type": "stream",
     "text": [
      "<class 'pandas.core.frame.DataFrame'>\n",
      "Index: 19439 entries, 2016-01-15 00:00:00 to 2018-08-18 10:59:59\n",
      "Data columns (total 86 columns):\n",
      " #   Column                                              Non-Null Count  Dtype  \n",
      "---  ------                                              --------------  -----  \n",
      " 0   final.output.concentrate_ag                         19438 non-null  float64\n",
      " 1   final.output.concentrate_pb                         19438 non-null  float64\n",
      " 2   final.output.concentrate_sol                        19228 non-null  float64\n",
      " 3   final.output.concentrate_au                         19439 non-null  float64\n",
      " 4   final.output.recovery                               19439 non-null  float64\n",
      " 5   final.output.tail_ag                                19438 non-null  float64\n",
      " 6   final.output.tail_pb                                19338 non-null  float64\n",
      " 7   final.output.tail_sol                               19433 non-null  float64\n",
      " 8   final.output.tail_au                                19439 non-null  float64\n",
      " 9   primary_cleaner.input.sulfate                       19415 non-null  float64\n",
      " 10  primary_cleaner.input.depressant                    19402 non-null  float64\n",
      " 11  primary_cleaner.input.feed_size                     19439 non-null  float64\n",
      " 12  primary_cleaner.input.xanthate                      19335 non-null  float64\n",
      " 13  primary_cleaner.output.concentrate_ag               19439 non-null  float64\n",
      " 14  primary_cleaner.output.concentrate_pb               19323 non-null  float64\n",
      " 15  primary_cleaner.output.concentrate_sol              19069 non-null  float64\n",
      " 16  primary_cleaner.output.concentrate_au               19439 non-null  float64\n",
      " 17  primary_cleaner.output.tail_ag                      19435 non-null  float64\n",
      " 18  primary_cleaner.output.tail_pb                      19418 non-null  float64\n",
      " 19  primary_cleaner.output.tail_sol                     19377 non-null  float64\n",
      " 20  primary_cleaner.output.tail_au                      19439 non-null  float64\n",
      " 21  primary_cleaner.state.floatbank8_a_air              19435 non-null  float64\n",
      " 22  primary_cleaner.state.floatbank8_a_level            19438 non-null  float64\n",
      " 23  primary_cleaner.state.floatbank8_b_air              19435 non-null  float64\n",
      " 24  primary_cleaner.state.floatbank8_b_level            19438 non-null  float64\n",
      " 25  primary_cleaner.state.floatbank8_c_air              19437 non-null  float64\n",
      " 26  primary_cleaner.state.floatbank8_c_level            19438 non-null  float64\n",
      " 27  primary_cleaner.state.floatbank8_d_air              19436 non-null  float64\n",
      " 28  primary_cleaner.state.floatbank8_d_level            19438 non-null  float64\n",
      " 29  rougher.calculation.sulfate_to_au_concentrate       19437 non-null  float64\n",
      " 30  rougher.calculation.floatbank10_sulfate_to_au_feed  19437 non-null  float64\n",
      " 31  rougher.calculation.floatbank11_sulfate_to_au_feed  19437 non-null  float64\n",
      " 32  rougher.calculation.au_pb_ratio                     19439 non-null  float64\n",
      " 33  rougher.input.feed_ag                               19439 non-null  float64\n",
      " 34  rougher.input.feed_pb                               19339 non-null  float64\n",
      " 35  rougher.input.feed_rate                             19428 non-null  float64\n",
      " 36  rougher.input.feed_size                             19294 non-null  float64\n",
      " 37  rougher.input.feed_sol                              19340 non-null  float64\n",
      " 38  rougher.input.feed_au                               19439 non-null  float64\n",
      " 39  rougher.input.floatbank10_sulfate                   19405 non-null  float64\n",
      " 40  rougher.input.floatbank10_xanthate                  19431 non-null  float64\n",
      " 41  rougher.input.floatbank11_sulfate                   19395 non-null  float64\n",
      " 42  rougher.input.floatbank11_xanthate                  18986 non-null  float64\n",
      " 43  rougher.output.concentrate_ag                       19439 non-null  float64\n",
      " 44  rougher.output.concentrate_pb                       19439 non-null  float64\n",
      " 45  rougher.output.concentrate_sol                      19416 non-null  float64\n",
      " 46  rougher.output.concentrate_au                       19439 non-null  float64\n",
      " 47  rougher.output.recovery                             19439 non-null  float64\n",
      " 48  rougher.output.tail_ag                              19438 non-null  float64\n",
      " 49  rougher.output.tail_pb                              19439 non-null  float64\n",
      " 50  rougher.output.tail_sol                             19439 non-null  float64\n",
      " 51  rougher.output.tail_au                              19439 non-null  float64\n",
      " 52  rougher.state.floatbank10_a_air                     19438 non-null  float64\n",
      " 53  rougher.state.floatbank10_a_level                   19438 non-null  float64\n",
      " 54  rougher.state.floatbank10_b_air                     19438 non-null  float64\n",
      " 55  rougher.state.floatbank10_b_level                   19438 non-null  float64\n",
      " 56  rougher.state.floatbank10_c_air                     19438 non-null  float64\n",
      " 57  rougher.state.floatbank10_c_level                   19438 non-null  float64\n",
      " 58  rougher.state.floatbank10_d_air                     19439 non-null  float64\n",
      " 59  rougher.state.floatbank10_d_level                   19439 non-null  float64\n",
      " 60  rougher.state.floatbank10_e_air                     19003 non-null  float64\n",
      " 61  rougher.state.floatbank10_e_level                   19439 non-null  float64\n",
      " 62  rougher.state.floatbank10_f_air                     19439 non-null  float64\n",
      " 63  rougher.state.floatbank10_f_level                   19439 non-null  float64\n",
      " 64  secondary_cleaner.output.tail_ag                    19437 non-null  float64\n",
      " 65  secondary_cleaner.output.tail_pb                    19427 non-null  float64\n",
      " 66  secondary_cleaner.output.tail_sol                   17691 non-null  float64\n",
      " 67  secondary_cleaner.output.tail_au                    19439 non-null  float64\n",
      " 68  secondary_cleaner.state.floatbank2_a_air            19219 non-null  float64\n",
      " 69  secondary_cleaner.state.floatbank2_a_level          19438 non-null  float64\n",
      " 70  secondary_cleaner.state.floatbank2_b_air            19416 non-null  float64\n",
      " 71  secondary_cleaner.state.floatbank2_b_level          19438 non-null  float64\n",
      " 72  secondary_cleaner.state.floatbank3_a_air            19426 non-null  float64\n",
      " 73  secondary_cleaner.state.floatbank3_a_level          19438 non-null  float64\n",
      " 74  secondary_cleaner.state.floatbank3_b_air            19438 non-null  float64\n",
      " 75  secondary_cleaner.state.floatbank3_b_level          19438 non-null  float64\n",
      " 76  secondary_cleaner.state.floatbank4_a_air            19433 non-null  float64\n",
      " 77  secondary_cleaner.state.floatbank4_a_level          19438 non-null  float64\n",
      " 78  secondary_cleaner.state.floatbank4_b_air            19438 non-null  float64\n",
      " 79  secondary_cleaner.state.floatbank4_b_level          19438 non-null  float64\n",
      " 80  secondary_cleaner.state.floatbank5_a_air            19438 non-null  float64\n",
      " 81  secondary_cleaner.state.floatbank5_a_level          19438 non-null  float64\n",
      " 82  secondary_cleaner.state.floatbank5_b_air            19438 non-null  float64\n",
      " 83  secondary_cleaner.state.floatbank5_b_level          19438 non-null  float64\n",
      " 84  secondary_cleaner.state.floatbank6_a_air            19437 non-null  float64\n",
      " 85  secondary_cleaner.state.floatbank6_a_level          19438 non-null  float64\n",
      "dtypes: float64(86)\n",
      "memory usage: 12.9+ MB\n"
     ]
    }
   ],
   "source": [
    "df = pd.read_csv('/datasets/gold_recovery_full_new.csv', index_col = 'date')\n",
    "df.info()"
   ]
  },
  {
   "cell_type": "markdown",
   "metadata": {},
   "source": [
    "### Проверка расчета эффективности обогащения\n",
    "\n",
    "Вычислите  на обучающей выборке для признака rougher.output.recovery"
   ]
  },
  {
   "cell_type": "markdown",
   "metadata": {},
   "source": [
    "#### Функция расчета\n",
    "\n",
    "$$\n",
    "Recovery = 100 * C*(F-T) / (F*(C-T))\n",
    "$$\n",
    "* C — доля золота в концентрате после флотации/очистки;\n",
    "* F — доля золота в сырье/концентрате до флотации/очистки;\n",
    "* T — доля золота в отвальных хвостах после флотации/очистки.\n",
    "\n",
    "Для этапа флотации:\n",
    "* C = rougher.output.concentrate_au\n",
    "* F = rougher.input.feed_au\n",
    "* T = rougher.output.tail_au"
   ]
  },
  {
   "cell_type": "code",
   "execution_count": 5,
   "metadata": {},
   "outputs": [],
   "source": [
    "def calc_recovery(data, state = 'rougher'):\n",
    "    c_field = state + '.output.concentrate_au'\n",
    "    f_field = state + '.input.feed_au'\n",
    "    t_field = state + '.output.tail_au'\n",
    "    \n",
    "    recovery = 100 * data[c_field] * (data[f_field] - data[t_field]) / (data[f_field] * (data[c_field] - data[t_field]))\n",
    "    return recovery"
   ]
  },
  {
   "cell_type": "markdown",
   "metadata": {},
   "source": [
    "#### Рассчитываем на обучающей выборке"
   ]
  },
  {
   "cell_type": "code",
   "execution_count": 6,
   "metadata": {},
   "outputs": [
    {
     "name": "stdout",
     "output_type": "stream",
     "text": [
      "MAE =  1.1498046842860452e-14\n"
     ]
    }
   ],
   "source": [
    "train_rougher_mae = mean_absolute_error(train_df['rougher.output.recovery'], calc_recovery(train_df, state = 'rougher'))\n",
    "print('MAE = ', train_rougher_mae)"
   ]
  },
  {
   "cell_type": "markdown",
   "metadata": {},
   "source": [
    "#### Вывод"
   ]
  },
  {
   "cell_type": "markdown",
   "metadata": {},
   "source": [
    "* Ошибка очень мала. Расчет Recovery во входящих данных выполнен корректно"
   ]
  },
  {
   "cell_type": "markdown",
   "metadata": {},
   "source": [
    "### Анализ признаков, не доступных в тестовой выборке"
   ]
  },
  {
   "cell_type": "code",
   "execution_count": 7,
   "metadata": {},
   "outputs": [
    {
     "name": "stdout",
     "output_type": "stream",
     "text": [
      "<class 'pandas.core.frame.DataFrame'>\n",
      "Index: 14149 entries, 2016-01-15 00:00:00 to 2018-08-18 10:59:59\n",
      "Data columns (total 34 columns):\n",
      " #   Column                                              Non-Null Count  Dtype  \n",
      "---  ------                                              --------------  -----  \n",
      " 0   final.output.concentrate_ag                         14148 non-null  float64\n",
      " 1   final.output.concentrate_au                         14149 non-null  float64\n",
      " 2   final.output.concentrate_pb                         14148 non-null  float64\n",
      " 3   final.output.concentrate_sol                        13938 non-null  float64\n",
      " 4   final.output.recovery                               14149 non-null  float64\n",
      " 5   final.output.tail_ag                                14149 non-null  float64\n",
      " 6   final.output.tail_au                                14149 non-null  float64\n",
      " 7   final.output.tail_pb                                14049 non-null  float64\n",
      " 8   final.output.tail_sol                               14144 non-null  float64\n",
      " 9   primary_cleaner.output.concentrate_ag               14149 non-null  float64\n",
      " 10  primary_cleaner.output.concentrate_au               14149 non-null  float64\n",
      " 11  primary_cleaner.output.concentrate_pb               14063 non-null  float64\n",
      " 12  primary_cleaner.output.concentrate_sol              13863 non-null  float64\n",
      " 13  primary_cleaner.output.tail_ag                      14148 non-null  float64\n",
      " 14  primary_cleaner.output.tail_au                      14149 non-null  float64\n",
      " 15  primary_cleaner.output.tail_pb                      14134 non-null  float64\n",
      " 16  primary_cleaner.output.tail_sol                     14103 non-null  float64\n",
      " 17  rougher.calculation.au_pb_ratio                     14149 non-null  float64\n",
      " 18  rougher.calculation.floatbank10_sulfate_to_au_feed  14148 non-null  float64\n",
      " 19  rougher.calculation.floatbank11_sulfate_to_au_feed  14148 non-null  float64\n",
      " 20  rougher.calculation.sulfate_to_au_concentrate       14148 non-null  float64\n",
      " 21  rougher.output.concentrate_ag                       14149 non-null  float64\n",
      " 22  rougher.output.concentrate_au                       14149 non-null  float64\n",
      " 23  rougher.output.concentrate_pb                       14149 non-null  float64\n",
      " 24  rougher.output.concentrate_sol                      14127 non-null  float64\n",
      " 25  rougher.output.recovery                             14149 non-null  float64\n",
      " 26  rougher.output.tail_ag                              14148 non-null  float64\n",
      " 27  rougher.output.tail_au                              14149 non-null  float64\n",
      " 28  rougher.output.tail_pb                              14149 non-null  float64\n",
      " 29  rougher.output.tail_sol                             14149 non-null  float64\n",
      " 30  secondary_cleaner.output.tail_ag                    14147 non-null  float64\n",
      " 31  secondary_cleaner.output.tail_au                    14149 non-null  float64\n",
      " 32  secondary_cleaner.output.tail_pb                    14139 non-null  float64\n",
      " 33  secondary_cleaner.output.tail_sol                   12544 non-null  float64\n",
      "dtypes: float64(34)\n",
      "memory usage: 4.3+ MB\n"
     ]
    }
   ],
   "source": [
    "# Анализ разницы признаках\n",
    "diff_columns = np.setdiff1d(train_df.columns, test_df.columns)\n",
    "train_df[diff_columns].info()"
   ]
  },
  {
   "cell_type": "markdown",
   "metadata": {},
   "source": [
    "Выводы:\n",
    "* Нет recovery на финальной стадии final.output.recovery и стадии флотации rougher.output.recovery\n",
    "* Нет информации по доли концентрата золота на финальном выходе в сырье final.output.concentrate_au и примесях final.output.tail_au\n",
    "* Нет информации по доли концентрата золота на выходе стадии первичной очистки сырья primary_cleaner.output.concentrate_au и хвоста primary_cleaner.output.tail_au\n",
    "* Нет информации по доли концентрата золота на выходе стадии флотации сырья rougher.output.concentrate_au  и хвоста rougher.output.tail_au\n",
    "* Нет информации по доли концентрата золота на выходе стадии флотации вторичной очистки хвоста secondary_cleaner.output.tail_au\n",
    "\n",
    "\n",
    "Данные можно взять из полного датасета\n",
    "\n",
    "\n"
   ]
  },
  {
   "cell_type": "markdown",
   "metadata": {},
   "source": [
    "### Предобработка данных"
   ]
  },
  {
   "cell_type": "markdown",
   "metadata": {},
   "source": [
    "#### Восстанавливаем тестовый датасет из полных данных"
   ]
  },
  {
   "cell_type": "code",
   "execution_count": 8,
   "metadata": {},
   "outputs": [
    {
     "data": {
      "text/plain": [
       "True"
      ]
     },
     "execution_count": 8,
     "metadata": {},
     "output_type": "execute_result"
    }
   ],
   "source": [
    "test_df[diff_columns] = df[diff_columns]\n",
    "set(test_df.columns) == set(train_df.columns)"
   ]
  },
  {
   "cell_type": "markdown",
   "metadata": {},
   "source": [
    "#### Обрабатываем пропуски"
   ]
  },
  {
   "cell_type": "code",
   "execution_count": 9,
   "metadata": {},
   "outputs": [
    {
     "name": "stdout",
     "output_type": "stream",
     "text": [
      "Количество пропусков в обучающем наборе до обработки: 4100\n",
      "Количество пропусков в тестовом наборе до обработки: 381\n",
      "Количество пропусков в обучающем наборе после обработки: 0\n",
      "Количество пропусков в тестовом наборе после обработки: 0\n"
     ]
    }
   ],
   "source": [
    "# Заполняем средними значениями своих показателей\n",
    "print('Количество пропусков в обучающем наборе до обработки:', sum(train_df.isna().sum()))\n",
    "print('Количество пропусков в тестовом наборе до обработки:', sum(test_df.isna().sum()))\n",
    "\n",
    "for column in train_df.columns:\n",
    "    train_df[column] = train_df[column].fillna(train_df[column].mean())\n",
    "    test_df[column] = test_df[column].fillna(test_df[column].mean())\n",
    "    \n",
    "print('Количество пропусков в обучающем наборе после обработки:', sum(train_df.isna().sum()))\n",
    "print('Количество пропусков в тестовом наборе после обработки:', sum(test_df.isna().sum()))"
   ]
  },
  {
   "cell_type": "markdown",
   "metadata": {},
   "source": [
    "#### Обрабатываем выбросы"
   ]
  },
  {
   "cell_type": "code",
   "execution_count": 10,
   "metadata": {},
   "outputs": [
    {
     "data": {
      "image/png": "[encoded data removed]",
      "text/plain": [
       "<Figure size 432x288 with 1 Axes>"
      ]
     },
     "metadata": {
      "needs_background": "light"
     },
     "output_type": "display_data"
    }
   ],
   "source": [
    "# Анализ значений целевого признака на разных стадиях\n",
    "plt.title('Диаграмма целевого признака этапа флотации')\n",
    "train_df['rougher.output.recovery'].hist();\n",
    "plt.show()"
   ]
  },
  {
   "cell_type": "code",
   "execution_count": 11,
   "metadata": {},
   "outputs": [
    {
     "data": {
      "image/png": "[encoded data removed]",
      "text/plain": [
       "<Figure size 432x288 with 1 Axes>"
      ]
     },
     "metadata": {
      "needs_background": "light"
     },
     "output_type": "display_data"
    }
   ],
   "source": [
    "# Анализ значений целевого признака на разных стадиях\n",
    "plt.title('Диаграмма целевого признака этапа чистовой обработки')\n",
    "train_df['final.output.recovery'].hist();\n",
    "plt.show()"
   ]
  },
  {
   "cell_type": "code",
   "execution_count": 12,
   "metadata": {},
   "outputs": [
    {
     "name": "stdout",
     "output_type": "stream",
     "text": [
      "Нулевых записей до удаления:  354\n",
      "Нулевых после после удаления:  0\n"
     ]
    }
   ],
   "source": [
    "# Удаление 0 значений\n",
    "print('Нулевых записей до удаления: ', len(train_df.query('`rougher.output.recovery` == 0 or `final.output.recovery` == 0')))\n",
    "\n",
    "train_df = train_df.query('`rougher.output.recovery` > 0 and `final.output.recovery` > 0')\n",
    "test_df = train_df.query('`rougher.output.recovery` > 0 and `final.output.recovery` > 0')\n",
    "\n",
    "print('Нулевых после после удаления: ', len(train_df.query('`rougher.output.recovery` == 0 or `final.output.recovery` == 0')))"
   ]
  },
  {
   "cell_type": "markdown",
   "metadata": {},
   "source": [
    "## Анализ данных"
   ]
  },
  {
   "cell_type": "markdown",
   "metadata": {},
   "source": [
    "### Константы"
   ]
  },
  {
   "cell_type": "code",
   "execution_count": 13,
   "metadata": {},
   "outputs": [],
   "source": [
    "# Этапы\n",
    "STAGES = ('rougher', 'primary_cleaner', 'final')\n",
    "STAGES_COLORS = ('yellow', 'green', 'red')\n",
    "\n",
    "# Металлы\n",
    "METALLS = ('ag', 'pb', 'sol', 'au')\n"
   ]
  },
  {
   "cell_type": "markdown",
   "metadata": {},
   "source": [
    "### Анализ концентрации металлов на различных этапах очистки"
   ]
  },
  {
   "cell_type": "markdown",
   "metadata": {},
   "source": [
    "#### Обучающая выборка"
   ]
  },
  {
   "cell_type": "code",
   "execution_count": 14,
   "metadata": {},
   "outputs": [
    {
     "data": {
      "image/png": "[encoded data removed]",
      "text/plain": [
       "<Figure size 432x288 with 1 Axes>"
      ]
     },
     "metadata": {
      "needs_background": "light"
     },
     "output_type": "display_data"
    },
    {
     "data": {
      "image/png": "[encoded data removed]",
      "text/plain": [
       "<Figure size 432x288 with 1 Axes>"
      ]
     },
     "metadata": {
      "needs_background": "light"
     },
     "output_type": "display_data"
    },
    {
     "data": {
      "image/png": "[encoded data removed]",
      "text/plain": [
       "<Figure size 432x288 with 1 Axes>"
      ]
     },
     "metadata": {
      "needs_background": "light"
     },
     "output_type": "display_data"
    },
    {
     "data": {
      "image/png": "[encoded data removed]",
      "text/plain": [
       "<Figure size 432x288 with 1 Axes>"
      ]
     },
     "metadata": {
      "needs_background": "light"
     },
     "output_type": "display_data"
    }
   ],
   "source": [
    "for met in METALLS:\n",
    "    for stg_idx, stage in enumerate(STAGES):\n",
    "        ax = train_df[f'{stage}.output.concentrate_{met}'].hist(alpha = 0.5, color=STAGES_COLORS[stg_idx])\n",
    "    plt.suptitle(f\"Диаграмма распределения концентрации (обучающая) {met}\")\n",
    "    handles = [Rectangle((0,0),1,1,color=c,ec=\"k\") for c in STAGES_COLORS]\n",
    "    plt.legend(handles, STAGES)\n",
    "    plt.show()\n"
   ]
  },
  {
   "cell_type": "markdown",
   "metadata": {},
   "source": [
    "#### Тестовая выборка"
   ]
  },
  {
   "cell_type": "code",
   "execution_count": 15,
   "metadata": {},
   "outputs": [
    {
     "data": {
      "image/png": "[encoded data removed]",
      "text/plain": [
       "<Figure size 432x288 with 1 Axes>"
      ]
     },
     "metadata": {
      "needs_background": "light"
     },
     "output_type": "display_data"
    },
    {
     "data": {
      "image/png": "[encoded data removed]",
      "text/plain": [
       "<Figure size 432x288 with 1 Axes>"
      ]
     },
     "metadata": {
      "needs_background": "light"
     },
     "output_type": "display_data"
    },
    {
     "data": {
      "image/png": "[encoded data removed]",
      "text/plain": [
       "<Figure size 432x288 with 1 Axes>"
      ]
     },
     "metadata": {
      "needs_background": "light"
     },
     "output_type": "display_data"
    },
    {
     "data": {
      "image/png": "[encoded data removed]",
      "text/plain": [
       "<Figure size 432x288 with 1 Axes>"
      ]
     },
     "metadata": {
      "needs_background": "light"
     },
     "output_type": "display_data"
    }
   ],
   "source": [
    "for met in METALLS:\n",
    "    for stg_idx, stage in enumerate(STAGES):\n",
    "        ax = test_df[f'{stage}.output.concentrate_{met}'].hist(alpha = 0.5, color=STAGES_COLORS[stg_idx])\n",
    "    plt.suptitle(f\"Диаграмма распределения концентрации (тестовая) {met}\")\n",
    "    handles = [Rectangle((0,0),1,1,color=c,ec=\"k\") for c in STAGES_COLORS]\n",
    "    plt.legend(handles, STAGES)\n",
    "    plt.show()\n"
   ]
  },
  {
   "cell_type": "markdown",
   "metadata": {},
   "source": [
    "#### Выводы"
   ]
  },
  {
   "cell_type": "markdown",
   "metadata": {},
   "source": [
    "* Концентрация серебра ag от начальной стадии обработки к финальной уменьшается\n",
    "* Концентрация свинца pb практически не изменяется по стадиям обработки\n",
    "* Концентрация солей sol существенно уменьшается на начальном этапе флотации. Далее не меняется\n",
    "* Концентрация золота увеличивается с каждой стадией\n",
    "* Распределения тестовой и обучающей выборки схожи"
   ]
  },
  {
   "cell_type": "markdown",
   "metadata": {},
   "source": [
    "### Распределение размеров гранул сырья на обучающей и тестовой выборках"
   ]
  },
  {
   "cell_type": "markdown",
   "metadata": {},
   "source": [
    "#### Гранулы входа этапа флотации"
   ]
  },
  {
   "cell_type": "code",
   "execution_count": 16,
   "metadata": {},
   "outputs": [
    {
     "data": {
      "image/png": "[encoded data removed]",
      "text/plain": [
       "<Figure size 432x288 with 1 Axes>"
      ]
     },
     "metadata": {
      "needs_background": "light"
     },
     "output_type": "display_data"
    }
   ],
   "source": [
    "train_df['rougher.input.feed_size'].hist(bins=100, range=(0, 150), density = True)\n",
    "test_df['rougher.input.feed_size'].hist(bins=50, range=(0, 150), density = True )\n",
    "plt.show()"
   ]
  },
  {
   "cell_type": "markdown",
   "metadata": {},
   "source": [
    "#### Гранулы входа этапа первичной очистки"
   ]
  },
  {
   "cell_type": "code",
   "execution_count": 17,
   "metadata": {},
   "outputs": [
    {
     "data": {
      "image/png": "[encoded data removed]",
      "text/plain": [
       "<Figure size 432x288 with 1 Axes>"
      ]
     },
     "metadata": {
      "needs_background": "light"
     },
     "output_type": "display_data"
    }
   ],
   "source": [
    "train_df['primary_cleaner.input.feed_size'].hist(bins=50, density = True)\n",
    "test_df['primary_cleaner.input.feed_size'].hist(bins=50, density = True)\n",
    "plt.show()"
   ]
  },
  {
   "cell_type": "markdown",
   "metadata": {},
   "source": [
    "#### Выводы"
   ]
  },
  {
   "cell_type": "markdown",
   "metadata": {},
   "source": [
    "Форма распределения тестовой и обучающей выборке похожи"
   ]
  },
  {
   "cell_type": "markdown",
   "metadata": {},
   "source": [
    "### Суммарная концентрация всех веществ на разных стадиях"
   ]
  },
  {
   "cell_type": "code",
   "execution_count": 18,
   "metadata": {},
   "outputs": [
    {
     "name": "stdout",
     "output_type": "stream",
     "text": [
      "Концентрация исходного сырья 776087.9479381556\n",
      "Концентрация сырья после стадии флотации (черновой) 946625.0932117405\n",
      "Концентрация сырья после стадии первичной очистки 830969.4879899656\n",
      "Концентрация сырья после стадии вторичной очистки (финальная) 948547.5607576349\n"
     ]
    }
   ],
   "source": [
    "# Концентрация исходного сырья\n",
    "base_feed = train_df['rougher.input.feed_pb'].sum() + train_df['rougher.input.feed_sol'].sum() + train_df['rougher.input.feed_au'].sum() + train_df['rougher.input.feed_ag'].sum()\n",
    "rougher_feed = train_df['rougher.output.concentrate_ag'].sum() + train_df['rougher.output.concentrate_sol'].sum() + train_df['rougher.output.concentrate_au'].sum()  + train_df['rougher.output.concentrate_pb'].sum()\n",
    "primary_cleaner_feed = train_df['primary_cleaner.output.concentrate_ag'].sum() + train_df['primary_cleaner.output.concentrate_sol'].sum() + train_df['primary_cleaner.output.concentrate_au'].sum()  + train_df['primary_cleaner.output.concentrate_pb'].sum()\n",
    "final_cleaner_feed = train_df['final.output.concentrate_ag'].sum() + train_df['final.output.concentrate_sol'].sum() + train_df['final.output.concentrate_au'].sum()  + train_df['final.output.concentrate_pb'].sum()\n",
    "\n",
    "print('Концентрация исходного сырья', base_feed)\n",
    "print('Концентрация сырья после стадии флотации (черновой)', rougher_feed)\n",
    "print('Концентрация сырья после стадии первичной очистки', primary_cleaner_feed)\n",
    "print('Концентрация сырья после стадии вторичной очистки (финальная)', final_cleaner_feed)\n",
    "\n"
   ]
  },
  {
   "cell_type": "code",
   "execution_count": 19,
   "metadata": {},
   "outputs": [
    {
     "data": {
      "image/png": "[encoded data removed]",
      "text/plain": [
       "<Figure size 432x288 with 1 Axes>"
      ]
     },
     "metadata": {
      "needs_background": "light"
     },
     "output_type": "display_data"
    }
   ],
   "source": [
    "# Диаграмма\n",
    "x =['Сырье','Флотация','Первичная','Финальное']\n",
    "y = [base_feed, rougher_feed, primary_cleaner_feed, final_cleaner_feed]\n",
    "\n",
    "plt.title('Диаграмма концентрации всех веществ на разных стадиях')\n",
    "plt.bar(x, y);"
   ]
  },
  {
   "cell_type": "markdown",
   "metadata": {},
   "source": [
    "* Суммарная концентрация веществ после стадии первичной обработки падает\n",
    "* Итоговая суммарная концентрация веществ приблизительно соответсвует концентрации на стадии флотации"
   ]
  },
  {
   "cell_type": "markdown",
   "metadata": {},
   "source": [
    "## Модель"
   ]
  },
  {
   "cell_type": "markdown",
   "metadata": {},
   "source": [
    "Задача обучения с учителем - регрессия. Прорабатываем модели случайного леса и линейной регрессии"
   ]
  },
  {
   "cell_type": "markdown",
   "metadata": {},
   "source": [
    "### Функция sMAPE"
   ]
  },
  {
   "cell_type": "code",
   "execution_count": 20,
   "metadata": {},
   "outputs": [],
   "source": [
    "def smape(target, predictions):\n",
    "    assert len(target) == len(predictions), 'Массивы должны совпадать по размеру'\n",
    "    \n",
    "    target = target\n",
    "    predictions = predictions\n",
    "    \n",
    "    score = 0\n",
    "    n = len(target)\n",
    "    for i in range(len(target)):\n",
    "        score += abs(target[i]-predictions[i]) / ((abs(target[i]) + abs(predictions[i])) / 2)\n",
    "    score = 100 * score / n\n",
    "    return score\n",
    "\n",
    "\n",
    "def smape_final(rougher_smape, final_smape):\n",
    "    return 0.25 * rougher_smape + 0.75*final_smape"
   ]
  },
  {
   "cell_type": "markdown",
   "metadata": {},
   "source": [
    "### Функция построения модели"
   ]
  },
  {
   "cell_type": "code",
   "execution_count": 21,
   "metadata": {},
   "outputs": [],
   "source": [
    "def create_model(model, features_train, target_train, features_valid, target_valid, features_test, target_test):\n",
    "    # Нормализация\n",
    "    scaler = StandardScaler()\n",
    "    features_train = scaler.fit_transform(features_train, target_train)\n",
    "    features_valid = scaler.transform(features_valid)\n",
    "    features_test = scaler.transform(features_test)\n",
    "    # Обучаем\n",
    "    model.fit(features_train, target_train)\n",
    "\n",
    "    # Предсказываем на валидационной выборке\n",
    "    predictions_valid = model.predict(features_valid)\n",
    "    \n",
    "    # Рассчитываем метрику для валидационной выборки\n",
    "    score_valid = smape(target_valid, predictions_valid)\n",
    "    \n",
    "    # Предсказываем на тестовой\n",
    "    predictions_test = model.predict(features_test)\n",
    "    # Рассчитываем метрику для тестовой выборки\n",
    "    score_test = smape(target_test, predictions_test)\n",
    "    \n",
    "    return model, score_valid, score_test\n",
    "    "
   ]
  },
  {
   "cell_type": "markdown",
   "metadata": {},
   "source": [
    "### Модель линейной регрессии"
   ]
  },
  {
   "cell_type": "markdown",
   "metadata": {},
   "source": [
    "#### Прогнозирование эффективности обогащения чернового концентрата"
   ]
  },
  {
   "cell_type": "code",
   "execution_count": 22,
   "metadata": {},
   "outputs": [],
   "source": [
    "# код ревьюера\n",
    "# задал random_state, так как падало с ошибкой\n",
    "random_state = 12345"
   ]
  },
  {
   "cell_type": "code",
   "execution_count": 23,
   "metadata": {},
   "outputs": [
    {
     "name": "stdout",
     "output_type": "stream",
     "text": [
      "Метрика sMAPE валидационной выборки чернового концентрата 1.7658706315209707 %\n",
      "Метрика sMAPE тестовой выборки чернового концентрата 1.7851689021719621 %\n"
     ]
    }
   ],
   "source": [
    "# Подготавливаем данные\n",
    "rougher_train_df = train_df[[c for c in train_df.columns if 'rougher.' in c]]\n",
    "rougher_test_df = test_df[[c for c in test_df.columns if 'rougher.' in c]]\n",
    "\n",
    "# Выделение признаков и целевого признака\n",
    "rougher_features_train = rougher_train_df.drop('rougher.output.recovery', axis=1)\n",
    "rougher_target_train = rougher_train_df['rougher.output.recovery']\n",
    "\n",
    "rougher_features_test = rougher_test_df.drop('rougher.output.recovery', axis=1)\n",
    "rougher_target_test = rougher_test_df['rougher.output.recovery']\n",
    "\n",
    "rougher_features_train, rougher_features_valid, rougher_target_train, rougher_target_valid = train_test_split(rougher_features_train, rougher_target_train, test_size=0.25, random_state=random_state)\n",
    "\n",
    "# Создаем модель\n",
    "model, rougher_score_valid, rougher_score_test = create_model(LinearRegression(), rougher_features_train, rougher_target_train, rougher_features_valid, rougher_target_valid, rougher_features_test, rougher_target_test)\n",
    "print('Метрика sMAPE валидационной выборки чернового концентрата', rougher_score_valid, '%')\n",
    "print('Метрика sMAPE тестовой выборки чернового концентрата', rougher_score_test, '%')"
   ]
  },
  {
   "cell_type": "markdown",
   "metadata": {},
   "source": [
    "#### Прогнозирование эффективности обогащения финального концентрата"
   ]
  },
  {
   "cell_type": "code",
   "execution_count": 24,
   "metadata": {},
   "outputs": [
    {
     "name": "stdout",
     "output_type": "stream",
     "text": [
      "Метрика sMAPE валидационной выборки финального этапа 7.188006056845583 %\n",
      "Метрика sMAPE тестовой выборки финального этапа 7.274268921819379 %\n"
     ]
    }
   ],
   "source": [
    "# Подготавливаем данные\n",
    "final_train_df = train_df[[c for c in train_df.columns if 'final.' in c]]\n",
    "final_test_df = test_df[[c for c in test_df.columns if 'final.' in c]]\n",
    "\n",
    "# Выделение признаков и целевого признака\n",
    "final_features_train = final_train_df.drop('final.output.recovery', axis=1)\n",
    "final_target_train = final_train_df['final.output.recovery']\n",
    "\n",
    "final_features_test = final_test_df.drop('final.output.recovery', axis=1)\n",
    "final_target_test = final_test_df['final.output.recovery']\n",
    "\n",
    "final_features_train, final_features_valid, final_target_train, final_target_valid = train_test_split(final_features_train, final_target_train, test_size=0.25, random_state=random_state)\n",
    "\n",
    "# Создаем модель\n",
    "model, final_score_valid, final_score_test = create_model(LinearRegression(), final_features_train, final_target_train, final_features_valid, final_target_valid, final_features_test, final_target_test)\n",
    "print('Метрика sMAPE валидационной выборки финального этапа', final_score_valid, '%')\n",
    "print('Метрика sMAPE тестовой выборки финального этапа', final_score_test, '%')"
   ]
  },
  {
   "cell_type": "markdown",
   "metadata": {},
   "source": [
    "#### Расчет итогового sMAPE"
   ]
  },
  {
   "cell_type": "code",
   "execution_count": 25,
   "metadata": {
    "scrolled": true
   },
   "outputs": [
    {
     "name": "stdout",
     "output_type": "stream",
     "text": [
      "Итоговое sMAPE валидационной выборки 5.83247220051443 %\n",
      "Итоговое sMAPE тестовой выборки 5.901993916907525 %\n"
     ]
    }
   ],
   "source": [
    "smape_valid = smape_final(rougher_score_valid, final_score_valid)\n",
    "print('Итоговое sMAPE валидационной выборки', smape_valid, '%')\n",
    "\n",
    "smape_test = smape_final(rougher_score_test, final_score_test)\n",
    "print('Итоговое sMAPE тестовой выборки', smape_test, '%')"
   ]
  },
  {
   "cell_type": "markdown",
   "metadata": {},
   "source": [
    "### Модель случайного леса"
   ]
  },
  {
   "cell_type": "code",
   "execution_count": 26,
   "metadata": {},
   "outputs": [],
   "source": [
    "random_state = 12345"
   ]
  },
  {
   "cell_type": "markdown",
   "metadata": {},
   "source": [
    "#### Прогнозирование эффективности обогащения чернового концентрата"
   ]
  },
  {
   "cell_type": "code",
   "execution_count": 27,
   "metadata": {},
   "outputs": [
    {
     "name": "stdout",
     "output_type": "stream",
     "text": [
      "Метрика sMAPE валидационной выборки чернового концентрата 0.5718488889632767 %\n",
      "Метрика sMAPE тестовой выборки чернового концентрата 0.32833136466131274 %\n"
     ]
    }
   ],
   "source": [
    "# Подготавливаем данные\n",
    "rougher_train_df = train_df[[c for c in train_df.columns if 'rougher.' in c]]\n",
    "rougher_test_df = test_df[[c for c in test_df.columns if 'rougher.' in c]]\n",
    "\n",
    "# Выделение признаков и целевого признака\n",
    "rougher_features_train = rougher_train_df.drop('rougher.output.recovery', axis=1)\n",
    "rougher_target_train = rougher_train_df['rougher.output.recovery']\n",
    "\n",
    "rougher_features_test = rougher_test_df.drop('rougher.output.recovery', axis=1)\n",
    "rougher_target_test = rougher_test_df['rougher.output.recovery']\n",
    "\n",
    "rougher_features_train, rougher_features_valid, rougher_target_train, rougher_target_valid = train_test_split(rougher_features_train, rougher_target_train, test_size=0.25, random_state=random_state)\n",
    "\n",
    "# Создаем модель\n",
    "model, rougher_score_valid, rougher_score_test = create_model(RandomForestRegressor(random_state=random_state), rougher_features_train, rougher_target_train, rougher_features_valid, rougher_target_valid, rougher_features_test, rougher_target_test)\n",
    "print('Метрика sMAPE валидационной выборки чернового концентрата', rougher_score_valid, '%')\n",
    "print('Метрика sMAPE тестовой выборки чернового концентрата', rougher_score_test, '%')"
   ]
  },
  {
   "cell_type": "markdown",
   "metadata": {},
   "source": [
    "#### Прогнозирование эффективности обогащения финального концентрата"
   ]
  },
  {
   "cell_type": "code",
   "execution_count": 28,
   "metadata": {},
   "outputs": [
    {
     "name": "stdout",
     "output_type": "stream",
     "text": [
      "Метрика sMAPE валидационной выборки финального этапа 4.6314997655729035 %\n",
      "Метрика sMAPE тестовой выборки финального этапа 2.5587926917694808 %\n"
     ]
    }
   ],
   "source": [
    "# Подготавливаем данные\n",
    "final_train_df = train_df[[c for c in train_df.columns if 'final.' in c]]\n",
    "final_test_df = test_df[[c for c in test_df.columns if 'final.' in c]]\n",
    "\n",
    "# Выделение признаков и целевого признака\n",
    "final_features_train = final_train_df.drop('final.output.recovery', axis=1)\n",
    "final_target_train = final_train_df['final.output.recovery']\n",
    "\n",
    "final_features_test = final_test_df.drop('final.output.recovery', axis=1)\n",
    "final_target_test = final_test_df['final.output.recovery']\n",
    "\n",
    "final_features_train, final_features_valid, final_target_train, final_target_valid = train_test_split(final_features_train, final_target_train, test_size=0.25, random_state=random_state)\n",
    "\n",
    "# Создаем модель\n",
    "model, final_score_valid, final_score_test = create_model(RandomForestRegressor(random_state=random_state), final_features_train, final_target_train, final_features_valid, final_target_valid, final_features_test, final_target_test)\n",
    "print('Метрика sMAPE валидационной выборки финального этапа', final_score_valid, '%')\n",
    "print('Метрика sMAPE тестовой выборки финального этапа', final_score_test, '%')"
   ]
  },
  {
   "cell_type": "markdown",
   "metadata": {},
   "source": [
    "#### Расчет итогового sMAPE"
   ]
  },
  {
   "cell_type": "code",
   "execution_count": 29,
   "metadata": {
    "scrolled": true
   },
   "outputs": [
    {
     "name": "stdout",
     "output_type": "stream",
     "text": [
      "Итоговое sMAPE валидационной выборки 3.6165870464204968 %\n",
      "Итоговое sMAPE тестовой выборки 2.0011773599924387 %\n"
     ]
    }
   ],
   "source": [
    "smape_valid = smape_final(rougher_score_valid, final_score_valid)\n",
    "print('Итоговое sMAPE валидационной выборки', smape_valid, '%')\n",
    "\n",
    "smape_test = smape_final(rougher_score_test, final_score_test)\n",
    "print('Итоговое sMAPE тестовой выборки', smape_test, '%')"
   ]
  },
  {
   "cell_type": "markdown",
   "metadata": {},
   "source": [
    "#### Поиск оптимальных гиперпараметров"
   ]
  },
  {
   "cell_type": "code",
   "execution_count": 30,
   "metadata": {
    "scrolled": true
   },
   "outputs": [],
   "source": [
    "# parametrs = { 'n_estimators': range (50, 150, 10),\n",
    "#               'max_depth': range (1,13, 2),\n",
    "#               'min_samples_leaf': range (1,8),\n",
    "#               'min_samples_split': range (2,10,2) }\n",
    "\n",
    "# clf = RandomForestRegressor(random_state=random_state)\n",
    "# grid = GridSearchCV(clf, parametrs, cv=5, verbose=10)\n",
    "# grid.fit(rougher_features_train, rougher_target_train)\n",
    "# grid.best_params_"
   ]
  },
  {
   "cell_type": "markdown",
   "metadata": {},
   "source": [
    "### Кросс-валидация"
   ]
  },
  {
   "cell_type": "markdown",
   "metadata": {},
   "source": [
    "Выбираем модель линейной регрессии, т.к. результаты со случайном лесом схожи на тестовой выборке, а сама модель проще и быстрее"
   ]
  },
  {
   "cell_type": "markdown",
   "metadata": {},
   "source": [
    "#### Этап чернового концентрата"
   ]
  },
  {
   "cell_type": "code",
   "execution_count": 31,
   "metadata": {},
   "outputs": [
    {
     "name": "stdout",
     "output_type": "stream",
     "text": [
      "Средняя оценка качества модели этапа чернового концентрата (флотации) : 1.5903537405863333 %\n"
     ]
    }
   ],
   "source": [
    "# Размер блока 5\n",
    "sample_size = int(len(rougher_features_train)/5)\n",
    "\n",
    "features = np.array(rougher_features_train)\n",
    "target = np.array(rougher_target_train.to_numpy())\n",
    "\n",
    "scores = []\n",
    "for i in range(0, len(features), sample_size):\n",
    "    rght_idx = len(features) if i+sample_size > len(features) else i+sample_size\n",
    "    valid_indexes = np.array(range(i,rght_idx))\n",
    "    all_indexes = np.array(range(0, len(features)))\n",
    "    train_indexes = np.where(np.isin(all_indexes, valid_indexes, invert=True))[0]\n",
    "   \n",
    "    features_train = features[train_indexes]\n",
    "    target_train =  target[train_indexes]\n",
    "    \n",
    "    features_valid = features[valid_indexes]\n",
    "    target_valid = target[valid_indexes]\n",
    "    \n",
    "    model = LinearRegression()\n",
    "    model = model.fit(features_train, target_train)\n",
    "    predictions_valid = model.predict(features_valid)\n",
    "    score = smape(target_valid, predictions_valid)\n",
    "    scores.append(score)\n",
    " \n",
    "rougher_mean_score = np.array(scores).mean()\n",
    "print('Средняя оценка качества модели этапа чернового концентрата (флотации) :', rougher_mean_score, '%')\n"
   ]
  },
  {
   "cell_type": "markdown",
   "metadata": {},
   "source": [
    "#### Этап финальной очистки концентрата"
   ]
  },
  {
   "cell_type": "code",
   "execution_count": 32,
   "metadata": {},
   "outputs": [
    {
     "name": "stdout",
     "output_type": "stream",
     "text": [
      "Средняя оценка качества модели этапа финального концентрата (флотации) : 7.166704431057286 %\n"
     ]
    }
   ],
   "source": [
    "# Размер блока 5\n",
    "sample_size = int(len(final_features_train)/5)\n",
    "\n",
    "features = np.array(final_features_train)\n",
    "target = np.array(final_target_train.to_numpy())\n",
    "\n",
    "scores = []\n",
    "for i in range(0, len(features), sample_size):\n",
    "    rght_idx = len(features) if i+sample_size > len(features) else i+sample_size\n",
    "    valid_indexes = np.array(range(i,rght_idx))\n",
    "    all_indexes = np.array(range(0, len(features)))\n",
    "    train_indexes = np.where(np.isin(all_indexes, valid_indexes, invert=True))[0]\n",
    "   \n",
    "    features_train = features[train_indexes]\n",
    "    target_train =  target[train_indexes]\n",
    "    \n",
    "    features_valid = features[valid_indexes]\n",
    "    target_valid = target[valid_indexes]\n",
    "    \n",
    "    model = LinearRegression()\n",
    "    model = model.fit(features_train, target_train)\n",
    "    predictions_valid = model.predict(features_valid)\n",
    "    score = smape(target_valid, predictions_valid)\n",
    "    scores.append(score)\n",
    " \n",
    "final_mean_score = np.array(scores).mean()\n",
    "print('Средняя оценка качества модели этапа финального концентрата (флотации) :', final_mean_score, '%')\n"
   ]
  },
  {
   "cell_type": "markdown",
   "metadata": {},
   "source": [
    "#### Итоговый sMAPE"
   ]
  },
  {
   "cell_type": "code",
   "execution_count": 33,
   "metadata": {},
   "outputs": [
    {
     "name": "stdout",
     "output_type": "stream",
     "text": [
      "Итоговый показатель качества модели после кросс-валидации на обучающей выборке 5.772616758439548 %\n"
     ]
    }
   ],
   "source": [
    "print('Итоговый показатель качества модели после кросс-валидации на обучающей выборке', smape_final(rougher_mean_score, final_mean_score), '%')"
   ]
  },
  {
   "cell_type": "markdown",
   "metadata": {},
   "source": [
    "## Общий вывод"
   ]
  },
  {
   "cell_type": "markdown",
   "metadata": {},
   "source": [
    "* Проработаны несколько моделей машинного обучения для применимости в этой задаче\n",
    "* Лучшие показатели sMAPE получила модель случайного леса\n",
    "* Ошибки sMAPE метрики модели случайного леса составляет порядка 5.7%"
   ]
  }
 ],
 "metadata": {
  "ExecuteTimeLog": [
   {
    "duration": 501,
    "start_time": "2022-04-05T03:21:37.182Z"
   },
   {
    "duration": 808,
    "start_time": "2022-04-05T03:23:34.021Z"
   },
   {
    "duration": 433,
    "start_time": "2022-04-05T03:24:05.821Z"
   },
   {
    "duration": 103,
    "start_time": "2022-04-05T03:24:07.509Z"
   },
   {
    "duration": 342,
    "start_time": "2022-04-05T03:24:08.477Z"
   },
   {
    "duration": 4,
    "start_time": "2022-04-05T03:29:39.881Z"
   },
   {
    "duration": 4,
    "start_time": "2022-04-05T03:31:40.829Z"
   },
   {
    "duration": 3,
    "start_time": "2022-04-05T03:32:16.557Z"
   },
   {
    "duration": 5,
    "start_time": "2022-04-05T03:50:21.712Z"
   },
   {
    "duration": 4,
    "start_time": "2022-04-05T03:51:23.619Z"
   },
   {
    "duration": 5,
    "start_time": "2022-04-05T03:51:29.095Z"
   },
   {
    "duration": 5,
    "start_time": "2022-04-05T03:51:36.339Z"
   },
   {
    "duration": 21,
    "start_time": "2022-04-05T03:51:45.312Z"
   },
   {
    "duration": 5,
    "start_time": "2022-04-05T03:51:55.247Z"
   },
   {
    "duration": 8,
    "start_time": "2022-04-05T03:51:56.495Z"
   },
   {
    "duration": 4,
    "start_time": "2022-04-05T03:52:00.096Z"
   },
   {
    "duration": 7,
    "start_time": "2022-04-05T03:52:01.535Z"
   },
   {
    "duration": 5,
    "start_time": "2022-04-05T03:53:16.151Z"
   },
   {
    "duration": 1485,
    "start_time": "2022-04-05T03:53:17.092Z"
   },
   {
    "duration": 5,
    "start_time": "2022-04-05T03:53:38.933Z"
   },
   {
    "duration": 9,
    "start_time": "2022-04-05T03:53:40.459Z"
   },
   {
    "duration": 9,
    "start_time": "2022-04-05T03:53:52.724Z"
   },
   {
    "duration": 7,
    "start_time": "2022-04-05T03:55:23.210Z"
   },
   {
    "duration": 924,
    "start_time": "2022-04-05T03:56:15.740Z"
   },
   {
    "duration": 8,
    "start_time": "2022-04-05T03:56:48.263Z"
   },
   {
    "duration": 10,
    "start_time": "2022-04-05T03:56:59.345Z"
   },
   {
    "duration": 9,
    "start_time": "2022-04-05T03:57:19.747Z"
   },
   {
    "duration": 10,
    "start_time": "2022-04-05T03:57:26.188Z"
   },
   {
    "duration": 8,
    "start_time": "2022-04-05T03:57:30.179Z"
   },
   {
    "duration": 3,
    "start_time": "2022-04-05T04:26:08.575Z"
   },
   {
    "duration": 7,
    "start_time": "2022-04-05T04:27:11.141Z"
   },
   {
    "duration": 4,
    "start_time": "2022-04-05T04:29:17.375Z"
   },
   {
    "duration": 7,
    "start_time": "2022-04-05T04:29:38.533Z"
   },
   {
    "duration": 7,
    "start_time": "2022-04-05T04:30:06.723Z"
   },
   {
    "duration": 7,
    "start_time": "2022-04-05T04:32:53.749Z"
   },
   {
    "duration": 7,
    "start_time": "2022-04-05T04:33:10.426Z"
   },
   {
    "duration": 3,
    "start_time": "2022-04-05T04:44:32.186Z"
   },
   {
    "duration": 7,
    "start_time": "2022-04-05T04:44:51.781Z"
   },
   {
    "duration": 27,
    "start_time": "2022-04-05T04:45:13.598Z"
   },
   {
    "duration": 20,
    "start_time": "2022-04-05T04:45:52.882Z"
   },
   {
    "duration": 4,
    "start_time": "2022-04-05T05:18:58.075Z"
   },
   {
    "duration": 5,
    "start_time": "2022-04-05T05:19:15.028Z"
   },
   {
    "duration": 6,
    "start_time": "2022-04-05T05:19:23.541Z"
   },
   {
    "duration": 56,
    "start_time": "2022-04-05T05:19:38.628Z"
   },
   {
    "duration": 315,
    "start_time": "2022-04-05T05:19:50.077Z"
   },
   {
    "duration": 90,
    "start_time": "2022-04-05T05:20:01.558Z"
   },
   {
    "duration": 512,
    "start_time": "2022-04-05T05:20:04.860Z"
   },
   {
    "duration": 5,
    "start_time": "2022-04-05T05:20:11.012Z"
   },
   {
    "duration": 11,
    "start_time": "2022-04-05T05:20:12.423Z"
   },
   {
    "duration": 25,
    "start_time": "2022-04-05T05:20:14.461Z"
   },
   {
    "duration": 7,
    "start_time": "2022-04-05T05:20:21.578Z"
   },
   {
    "duration": 7,
    "start_time": "2022-04-05T05:20:53.091Z"
   },
   {
    "duration": 9,
    "start_time": "2022-04-05T05:21:00.307Z"
   },
   {
    "duration": 6,
    "start_time": "2022-04-05T05:21:04.642Z"
   },
   {
    "duration": 16,
    "start_time": "2022-04-05T05:23:16.887Z"
   },
   {
    "duration": 8,
    "start_time": "2022-04-05T05:23:53.217Z"
   },
   {
    "duration": 4,
    "start_time": "2022-04-05T05:23:55.641Z"
   },
   {
    "duration": 330,
    "start_time": "2022-04-05T05:23:55.648Z"
   },
   {
    "duration": 101,
    "start_time": "2022-04-05T05:23:55.980Z"
   },
   {
    "duration": 434,
    "start_time": "2022-04-05T05:23:56.083Z"
   },
   {
    "duration": 6,
    "start_time": "2022-04-05T05:23:56.521Z"
   },
   {
    "duration": 38,
    "start_time": "2022-04-05T05:23:56.530Z"
   },
   {
    "duration": 24,
    "start_time": "2022-04-05T05:23:56.571Z"
   },
   {
    "duration": 118,
    "start_time": "2022-04-05T05:23:56.599Z"
   },
   {
    "duration": 9,
    "start_time": "2022-04-05T05:23:56.719Z"
   },
   {
    "duration": 8,
    "start_time": "2022-04-05T05:23:56.730Z"
   },
   {
    "duration": 82,
    "start_time": "2022-04-05T05:24:12.069Z"
   },
   {
    "duration": 58,
    "start_time": "2022-04-05T05:24:53.543Z"
   },
   {
    "duration": 43,
    "start_time": "2022-04-05T05:25:12.835Z"
   },
   {
    "duration": 4,
    "start_time": "2022-04-05T05:25:22.472Z"
   },
   {
    "duration": 317,
    "start_time": "2022-04-05T05:25:22.479Z"
   },
   {
    "duration": 99,
    "start_time": "2022-04-05T05:25:22.798Z"
   },
   {
    "duration": 411,
    "start_time": "2022-04-05T05:25:22.899Z"
   },
   {
    "duration": 4,
    "start_time": "2022-04-05T05:25:23.314Z"
   },
   {
    "duration": 16,
    "start_time": "2022-04-05T05:25:23.320Z"
   },
   {
    "duration": 45,
    "start_time": "2022-04-05T05:25:23.338Z"
   },
   {
    "duration": 93,
    "start_time": "2022-04-05T05:25:23.385Z"
   },
   {
    "duration": 6,
    "start_time": "2022-04-05T05:25:55.261Z"
   },
   {
    "duration": 5,
    "start_time": "2022-04-05T05:26:25.620Z"
   },
   {
    "duration": 15,
    "start_time": "2022-04-05T05:28:26.763Z"
   },
   {
    "duration": 12,
    "start_time": "2022-04-05T05:28:30.684Z"
   },
   {
    "duration": 14,
    "start_time": "2022-04-05T05:28:34.822Z"
   },
   {
    "duration": 7,
    "start_time": "2022-04-05T05:29:02.833Z"
   },
   {
    "duration": 54,
    "start_time": "2022-04-05T05:31:40.126Z"
   },
   {
    "duration": 22,
    "start_time": "2022-04-05T05:31:44.934Z"
   },
   {
    "duration": 8,
    "start_time": "2022-04-05T05:31:58.662Z"
   },
   {
    "duration": 97,
    "start_time": "2022-04-05T05:32:22.927Z"
   },
   {
    "duration": 122,
    "start_time": "2022-04-05T05:33:05.149Z"
   },
   {
    "duration": 99,
    "start_time": "2022-04-05T05:33:16.470Z"
   },
   {
    "duration": 93,
    "start_time": "2022-04-05T05:33:20.421Z"
   },
   {
    "duration": 106,
    "start_time": "2022-04-05T05:33:34.573Z"
   },
   {
    "duration": 4,
    "start_time": "2022-04-05T05:33:55.807Z"
   },
   {
    "duration": 308,
    "start_time": "2022-04-05T05:33:55.813Z"
   },
   {
    "duration": 94,
    "start_time": "2022-04-05T05:33:56.123Z"
   },
   {
    "duration": 396,
    "start_time": "2022-04-05T05:33:56.219Z"
   },
   {
    "duration": 5,
    "start_time": "2022-04-05T05:33:56.618Z"
   },
   {
    "duration": 11,
    "start_time": "2022-04-05T05:33:56.625Z"
   },
   {
    "duration": 19,
    "start_time": "2022-04-05T05:33:56.667Z"
   },
   {
    "duration": 84,
    "start_time": "2022-04-05T05:33:56.689Z"
   },
   {
    "duration": 149,
    "start_time": "2022-04-05T05:33:56.775Z"
   },
   {
    "duration": 16,
    "start_time": "2022-04-05T05:33:56.926Z"
   },
   {
    "duration": 124,
    "start_time": "2022-04-05T05:34:14.031Z"
   },
   {
    "duration": 5,
    "start_time": "2022-04-05T05:34:17.307Z"
   },
   {
    "duration": 297,
    "start_time": "2022-04-05T05:34:17.316Z"
   },
   {
    "duration": 96,
    "start_time": "2022-04-05T05:34:17.615Z"
   },
   {
    "duration": 407,
    "start_time": "2022-04-05T05:34:17.714Z"
   },
   {
    "duration": 5,
    "start_time": "2022-04-05T05:34:18.124Z"
   },
   {
    "duration": 14,
    "start_time": "2022-04-05T05:34:18.131Z"
   },
   {
    "duration": 20,
    "start_time": "2022-04-05T05:34:18.168Z"
   },
   {
    "duration": 93,
    "start_time": "2022-04-05T05:34:18.190Z"
   },
   {
    "duration": 137,
    "start_time": "2022-04-05T05:34:18.287Z"
   },
   {
    "duration": 4,
    "start_time": "2022-04-05T06:48:58.049Z"
   },
   {
    "duration": 4,
    "start_time": "2022-04-05T06:50:07.329Z"
   },
   {
    "duration": 3366,
    "start_time": "2022-04-05T06:55:20.813Z"
   },
   {
    "duration": 4,
    "start_time": "2022-04-05T06:56:23.158Z"
   },
   {
    "duration": 3559,
    "start_time": "2022-04-05T06:56:40.563Z"
   },
   {
    "duration": 5,
    "start_time": "2022-04-05T06:57:29.981Z"
   },
   {
    "duration": 2339,
    "start_time": "2022-04-05T06:57:31.838Z"
   },
   {
    "duration": 207,
    "start_time": "2022-04-05T06:57:55.285Z"
   },
   {
    "duration": 0,
    "start_time": "2022-04-05T06:58:54.238Z"
   },
   {
    "duration": 1824,
    "start_time": "2022-04-05T06:59:03.846Z"
   },
   {
    "duration": 323,
    "start_time": "2022-04-05T06:59:05.673Z"
   },
   {
    "duration": 110,
    "start_time": "2022-04-05T06:59:05.998Z"
   },
   {
    "duration": 419,
    "start_time": "2022-04-05T06:59:06.111Z"
   },
   {
    "duration": 5,
    "start_time": "2022-04-05T06:59:06.532Z"
   },
   {
    "duration": 29,
    "start_time": "2022-04-05T06:59:06.540Z"
   },
   {
    "duration": 19,
    "start_time": "2022-04-05T06:59:06.571Z"
   },
   {
    "duration": 96,
    "start_time": "2022-04-05T06:59:06.592Z"
   },
   {
    "duration": 134,
    "start_time": "2022-04-05T06:59:06.690Z"
   },
   {
    "duration": 4,
    "start_time": "2022-04-05T06:59:06.828Z"
   },
   {
    "duration": 371,
    "start_time": "2022-04-05T06:59:06.834Z"
   },
   {
    "duration": 1737,
    "start_time": "2022-04-05T06:59:30.082Z"
   },
   {
    "duration": 326,
    "start_time": "2022-04-05T06:59:31.822Z"
   },
   {
    "duration": 99,
    "start_time": "2022-04-05T06:59:32.151Z"
   },
   {
    "duration": 425,
    "start_time": "2022-04-05T06:59:32.252Z"
   },
   {
    "duration": 6,
    "start_time": "2022-04-05T06:59:32.680Z"
   },
   {
    "duration": 25,
    "start_time": "2022-04-05T06:59:32.688Z"
   },
   {
    "duration": 35,
    "start_time": "2022-04-05T06:59:32.715Z"
   },
   {
    "duration": 61,
    "start_time": "2022-04-05T06:59:32.767Z"
   },
   {
    "duration": 144,
    "start_time": "2022-04-05T06:59:32.831Z"
   },
   {
    "duration": 4,
    "start_time": "2022-04-05T06:59:32.977Z"
   },
   {
    "duration": 376,
    "start_time": "2022-04-05T06:59:32.983Z"
   },
   {
    "duration": 207,
    "start_time": "2022-04-05T07:00:17.828Z"
   },
   {
    "duration": 208,
    "start_time": "2022-04-05T07:00:22.829Z"
   },
   {
    "duration": 2562,
    "start_time": "2022-04-05T07:00:28.179Z"
   },
   {
    "duration": 402,
    "start_time": "2022-04-05T07:00:59.084Z"
   },
   {
    "duration": 502,
    "start_time": "2022-04-05T07:01:16.731Z"
   },
   {
    "duration": 944,
    "start_time": "2022-04-05T07:01:31.554Z"
   },
   {
    "duration": 955,
    "start_time": "2022-04-05T07:01:55.762Z"
   },
   {
    "duration": 1057,
    "start_time": "2022-04-05T07:02:29.422Z"
   },
   {
    "duration": 987,
    "start_time": "2022-04-05T07:03:03.489Z"
   },
   {
    "duration": 954,
    "start_time": "2022-04-05T07:03:54.352Z"
   },
   {
    "duration": 1255,
    "start_time": "2022-04-05T07:04:10.716Z"
   },
   {
    "duration": 1205,
    "start_time": "2022-04-05T07:04:29.666Z"
   },
   {
    "duration": 1335,
    "start_time": "2022-04-05T07:04:39.071Z"
   },
   {
    "duration": 1690,
    "start_time": "2022-04-05T07:06:04.292Z"
   },
   {
    "duration": 1474,
    "start_time": "2022-04-05T07:06:23.182Z"
   },
   {
    "duration": 5,
    "start_time": "2022-04-05T07:06:47.413Z"
   },
   {
    "duration": 4,
    "start_time": "2022-04-05T07:06:54.211Z"
   },
   {
    "duration": 1292,
    "start_time": "2022-04-05T07:06:58.284Z"
   },
   {
    "duration": 1368,
    "start_time": "2022-04-05T07:07:26.476Z"
   },
   {
    "duration": 4,
    "start_time": "2022-04-05T07:08:16.330Z"
   },
   {
    "duration": 1352,
    "start_time": "2022-04-05T07:08:24.763Z"
   },
   {
    "duration": 1669,
    "start_time": "2022-04-05T07:08:40.473Z"
   },
   {
    "duration": 4,
    "start_time": "2022-04-05T07:09:20.797Z"
   },
   {
    "duration": 1340,
    "start_time": "2022-04-05T07:09:28.774Z"
   },
   {
    "duration": 1357,
    "start_time": "2022-04-05T07:10:20.625Z"
   },
   {
    "duration": 200,
    "start_time": "2022-04-05T07:10:40.880Z"
   },
   {
    "duration": 1323,
    "start_time": "2022-04-05T07:10:50.257Z"
   },
   {
    "duration": 1441,
    "start_time": "2022-04-05T07:11:26.411Z"
   },
   {
    "duration": 5,
    "start_time": "2022-04-05T07:11:42.551Z"
   },
   {
    "duration": 1279,
    "start_time": "2022-04-05T07:11:44.773Z"
   },
   {
    "duration": 1182,
    "start_time": "2022-04-05T07:11:52.152Z"
   },
   {
    "duration": 1292,
    "start_time": "2022-04-05T07:12:33.387Z"
   },
   {
    "duration": 1228,
    "start_time": "2022-04-05T07:13:18.460Z"
   },
   {
    "duration": 1188,
    "start_time": "2022-04-05T07:13:38.517Z"
   },
   {
    "duration": 1353,
    "start_time": "2022-04-05T07:13:46.469Z"
   },
   {
    "duration": 4,
    "start_time": "2022-04-05T07:15:09.090Z"
   },
   {
    "duration": 3,
    "start_time": "2022-04-05T07:52:49.449Z"
   },
   {
    "duration": 4,
    "start_time": "2022-04-05T07:53:06.991Z"
   },
   {
    "duration": 4,
    "start_time": "2022-04-05T07:56:30.699Z"
   },
   {
    "duration": 3,
    "start_time": "2022-04-05T10:35:55.222Z"
   },
   {
    "duration": 191,
    "start_time": "2022-04-05T10:36:44.688Z"
   },
   {
    "duration": 209,
    "start_time": "2022-04-05T10:36:56.496Z"
   },
   {
    "duration": 226,
    "start_time": "2022-04-05T10:38:13.665Z"
   },
   {
    "duration": 203,
    "start_time": "2022-04-05T10:38:40.306Z"
   },
   {
    "duration": 358,
    "start_time": "2022-04-05T10:38:48.768Z"
   },
   {
    "duration": 228,
    "start_time": "2022-04-05T10:38:53.244Z"
   },
   {
    "duration": 253,
    "start_time": "2022-04-05T10:38:56.393Z"
   },
   {
    "duration": 464,
    "start_time": "2022-04-05T10:39:01.416Z"
   },
   {
    "duration": 408,
    "start_time": "2022-04-05T10:39:06.224Z"
   },
   {
    "duration": 363,
    "start_time": "2022-04-05T10:44:48.634Z"
   },
   {
    "duration": 348,
    "start_time": "2022-04-05T10:45:00.522Z"
   },
   {
    "duration": 336,
    "start_time": "2022-04-05T10:45:12.818Z"
   },
   {
    "duration": 466,
    "start_time": "2022-04-05T10:52:25.296Z"
   },
   {
    "duration": 353,
    "start_time": "2022-04-05T10:52:33.047Z"
   },
   {
    "duration": 350,
    "start_time": "2022-04-05T10:52:39.193Z"
   },
   {
    "duration": 1095,
    "start_time": "2022-04-05T10:52:56.020Z"
   },
   {
    "duration": 419,
    "start_time": "2022-04-05T10:53:03.958Z"
   },
   {
    "duration": 266,
    "start_time": "2022-04-05T10:53:47.989Z"
   },
   {
    "duration": 357,
    "start_time": "2022-04-05T10:53:50.066Z"
   },
   {
    "duration": 356,
    "start_time": "2022-04-05T10:53:57.311Z"
   },
   {
    "duration": 363,
    "start_time": "2022-04-05T10:54:05.639Z"
   },
   {
    "duration": 245,
    "start_time": "2022-04-05T10:54:18.709Z"
   },
   {
    "duration": 259,
    "start_time": "2022-04-05T10:54:26.911Z"
   },
   {
    "duration": 250,
    "start_time": "2022-04-05T10:54:36.774Z"
   },
   {
    "duration": 420,
    "start_time": "2022-04-05T10:54:41.757Z"
   },
   {
    "duration": 6,
    "start_time": "2022-04-05T13:36:40.913Z"
   },
   {
    "duration": 8,
    "start_time": "2022-04-05T13:36:44.608Z"
   },
   {
    "duration": 7,
    "start_time": "2022-04-05T13:37:17.350Z"
   },
   {
    "duration": 93,
    "start_time": "2022-04-05T13:40:24.293Z"
   },
   {
    "duration": 11,
    "start_time": "2022-04-05T13:40:33.571Z"
   },
   {
    "duration": 8,
    "start_time": "2022-04-05T13:40:50.423Z"
   },
   {
    "duration": 9,
    "start_time": "2022-04-05T13:40:57.901Z"
   },
   {
    "duration": 9,
    "start_time": "2022-04-05T13:41:21.030Z"
   },
   {
    "duration": 10,
    "start_time": "2022-04-05T13:41:53.587Z"
   },
   {
    "duration": 12,
    "start_time": "2022-04-05T13:42:16.850Z"
   },
   {
    "duration": 13,
    "start_time": "2022-04-05T13:43:37.863Z"
   },
   {
    "duration": 16,
    "start_time": "2022-04-05T13:44:13.418Z"
   },
   {
    "duration": 181,
    "start_time": "2022-04-05T13:46:22.557Z"
   },
   {
    "duration": 160,
    "start_time": "2022-04-05T13:46:48.396Z"
   },
   {
    "duration": 179,
    "start_time": "2022-04-05T13:47:00.271Z"
   },
   {
    "duration": 167,
    "start_time": "2022-04-05T13:47:27.703Z"
   },
   {
    "duration": 160,
    "start_time": "2022-04-05T13:51:37.013Z"
   },
   {
    "duration": 182,
    "start_time": "2022-04-05T13:51:56.288Z"
   },
   {
    "duration": 175,
    "start_time": "2022-04-05T13:51:59.076Z"
   },
   {
    "duration": 263,
    "start_time": "2022-04-05T13:52:02.729Z"
   },
   {
    "duration": 155,
    "start_time": "2022-04-05T13:52:09.436Z"
   },
   {
    "duration": 3,
    "start_time": "2022-04-05T13:55:44.436Z"
   },
   {
    "duration": 71,
    "start_time": "2022-04-05T13:59:21.877Z"
   },
   {
    "duration": 4,
    "start_time": "2022-04-05T14:00:11.125Z"
   },
   {
    "duration": 10,
    "start_time": "2022-04-05T14:06:22.791Z"
   },
   {
    "duration": 4,
    "start_time": "2022-04-05T14:06:27.937Z"
   },
   {
    "duration": 19,
    "start_time": "2022-04-05T14:07:02.289Z"
   },
   {
    "duration": 20,
    "start_time": "2022-04-05T14:07:07.117Z"
   },
   {
    "duration": 15,
    "start_time": "2022-04-05T14:07:16.639Z"
   },
   {
    "duration": 22,
    "start_time": "2022-04-05T14:07:19.430Z"
   },
   {
    "duration": 5,
    "start_time": "2022-04-05T14:07:30.445Z"
   },
   {
    "duration": 23,
    "start_time": "2022-04-05T14:07:35.708Z"
   },
   {
    "duration": 64,
    "start_time": "2022-04-05T14:07:51.985Z"
   },
   {
    "duration": 25,
    "start_time": "2022-04-05T14:08:18.433Z"
   },
   {
    "duration": 4,
    "start_time": "2022-04-05T14:11:02.145Z"
   },
   {
    "duration": 89064,
    "start_time": "2022-04-05T14:11:14.305Z"
   },
   {
    "duration": 4,
    "start_time": "2022-04-05T14:15:49.301Z"
   },
   {
    "duration": 86172,
    "start_time": "2022-04-05T14:15:52.577Z"
   },
   {
    "duration": 4,
    "start_time": "2022-04-05T14:17:35.107Z"
   },
   {
    "duration": 44140,
    "start_time": "2022-04-05T14:17:36.943Z"
   },
   {
    "duration": 5,
    "start_time": "2022-04-05T14:18:24.881Z"
   },
   {
    "duration": 85894,
    "start_time": "2022-04-05T14:18:26.140Z"
   },
   {
    "duration": 6,
    "start_time": "2022-04-05T14:20:32.078Z"
   },
   {
    "duration": 84541,
    "start_time": "2022-04-05T14:20:34.752Z"
   },
   {
    "duration": 88720,
    "start_time": "2022-04-05T14:22:09.843Z"
   },
   {
    "duration": 22,
    "start_time": "2022-04-05T14:27:09.967Z"
   },
   {
    "duration": 12,
    "start_time": "2022-04-05T14:28:29.359Z"
   },
   {
    "duration": 36,
    "start_time": "2022-04-05T14:28:34.054Z"
   },
   {
    "duration": 9,
    "start_time": "2022-04-05T14:29:04.866Z"
   },
   {
    "duration": 19,
    "start_time": "2022-04-05T14:30:13.085Z"
   },
   {
    "duration": 97,
    "start_time": "2022-04-05T14:31:24.298Z"
   },
   {
    "duration": 28,
    "start_time": "2022-04-05T14:31:35.889Z"
   },
   {
    "duration": 29739,
    "start_time": "2022-04-05T14:32:37.264Z"
   },
   {
    "duration": 6,
    "start_time": "2022-04-05T14:34:51.435Z"
   },
   {
    "duration": 23,
    "start_time": "2022-04-05T14:34:53.509Z"
   },
   {
    "duration": 29778,
    "start_time": "2022-04-05T14:34:54.861Z"
   },
   {
    "duration": 6,
    "start_time": "2022-04-05T14:36:30.033Z"
   },
   {
    "duration": 161,
    "start_time": "2022-04-05T14:36:38.831Z"
   },
   {
    "duration": 5,
    "start_time": "2022-04-05T14:37:13.079Z"
   },
   {
    "duration": 157,
    "start_time": "2022-04-05T14:37:21.040Z"
   },
   {
    "duration": 7,
    "start_time": "2022-04-05T14:38:04.678Z"
   },
   {
    "duration": 29452,
    "start_time": "2022-04-05T14:38:06.978Z"
   },
   {
    "duration": 187,
    "start_time": "2022-04-05T14:38:36.433Z"
   },
   {
    "duration": 23,
    "start_time": "2022-04-05T14:40:30.110Z"
   },
   {
    "duration": 7,
    "start_time": "2022-04-05T14:40:37.005Z"
   },
   {
    "duration": 7,
    "start_time": "2022-04-05T14:40:52.814Z"
   },
   {
    "duration": 6,
    "start_time": "2022-04-05T14:40:59.870Z"
   },
   {
    "duration": 5,
    "start_time": "2022-04-05T14:41:09.229Z"
   },
   {
    "duration": 8,
    "start_time": "2022-04-05T14:41:15.765Z"
   },
   {
    "duration": 6,
    "start_time": "2022-04-05T14:41:24.001Z"
   },
   {
    "duration": 6,
    "start_time": "2022-04-05T14:41:54.767Z"
   },
   {
    "duration": 5,
    "start_time": "2022-04-05T14:42:31.118Z"
   },
   {
    "duration": 32,
    "start_time": "2022-04-05T14:42:59.305Z"
   },
   {
    "duration": 15,
    "start_time": "2022-04-05T14:43:18.215Z"
   },
   {
    "duration": 18,
    "start_time": "2022-04-05T14:43:21.130Z"
   },
   {
    "duration": 23,
    "start_time": "2022-04-05T14:45:03.394Z"
   },
   {
    "duration": 31,
    "start_time": "2022-04-05T14:45:39.049Z"
   },
   {
    "duration": 30,
    "start_time": "2022-04-05T14:46:58.845Z"
   },
   {
    "duration": 18,
    "start_time": "2022-04-05T14:47:16.969Z"
   },
   {
    "duration": 15,
    "start_time": "2022-04-05T14:47:34.977Z"
   },
   {
    "duration": 23,
    "start_time": "2022-04-05T14:47:41.655Z"
   },
   {
    "duration": 22,
    "start_time": "2022-04-05T14:47:42.981Z"
   },
   {
    "duration": 29295,
    "start_time": "2022-04-05T14:47:49.415Z"
   },
   {
    "duration": 24,
    "start_time": "2022-04-05T14:49:11.950Z"
   },
   {
    "duration": 25,
    "start_time": "2022-04-05T14:49:13.467Z"
   },
   {
    "duration": 6,
    "start_time": "2022-04-05T14:49:17.844Z"
   },
   {
    "duration": 5,
    "start_time": "2022-04-05T14:49:23.198Z"
   },
   {
    "duration": 29655,
    "start_time": "2022-04-05T14:49:25.357Z"
   },
   {
    "duration": 29864,
    "start_time": "2022-04-05T14:50:25.638Z"
   },
   {
    "duration": 39,
    "start_time": "2022-04-05T14:51:08.683Z"
   },
   {
    "duration": 28,
    "start_time": "2022-04-05T14:51:28.243Z"
   },
   {
    "duration": 26,
    "start_time": "2022-04-05T14:51:30.925Z"
   },
   {
    "duration": 5,
    "start_time": "2022-04-05T14:51:36.552Z"
   },
   {
    "duration": 25,
    "start_time": "2022-04-05T14:51:37.962Z"
   },
   {
    "duration": 30154,
    "start_time": "2022-04-05T14:51:42.413Z"
   },
   {
    "duration": 9887,
    "start_time": "2022-04-05T14:55:05.820Z"
   },
   {
    "duration": 11020,
    "start_time": "2022-04-05T14:55:45.512Z"
   },
   {
    "duration": 8,
    "start_time": "2022-04-05T14:55:56.536Z"
   },
   {
    "duration": 34380,
    "start_time": "2022-04-05T14:55:57.808Z"
   },
   {
    "duration": 14952,
    "start_time": "2022-04-05T14:56:32.191Z"
   },
   {
    "duration": 109,
    "start_time": "2022-04-05T14:57:40.855Z"
   },
   {
    "duration": 7,
    "start_time": "2022-04-05T14:57:52.182Z"
   },
   {
    "duration": 31118,
    "start_time": "2022-04-05T14:57:54.766Z"
   },
   {
    "duration": 10876,
    "start_time": "2022-04-05T14:58:29.468Z"
   },
   {
    "duration": 5,
    "start_time": "2022-04-05T15:00:59.172Z"
   },
   {
    "duration": 3,
    "start_time": "2022-04-05T15:01:10.409Z"
   },
   {
    "duration": 5,
    "start_time": "2022-04-05T15:01:34.200Z"
   },
   {
    "duration": 96,
    "start_time": "2022-04-05T15:03:32.042Z"
   },
   {
    "duration": 5,
    "start_time": "2022-04-05T15:03:34.935Z"
   },
   {
    "duration": 48,
    "start_time": "2022-04-05T15:04:04.955Z"
   },
   {
    "duration": 3,
    "start_time": "2022-04-05T15:04:19.259Z"
   },
   {
    "duration": 49,
    "start_time": "2022-04-05T15:04:23.452Z"
   },
   {
    "duration": 534,
    "start_time": "2022-04-05T15:04:35.369Z"
   },
   {
    "duration": 40,
    "start_time": "2022-04-05T15:04:58.670Z"
   },
   {
    "duration": 478,
    "start_time": "2022-04-05T15:05:03.422Z"
   },
   {
    "duration": 9,
    "start_time": "2022-04-05T15:05:13.549Z"
   },
   {
    "duration": 458,
    "start_time": "2022-04-05T15:05:44.055Z"
   },
   {
    "duration": 451,
    "start_time": "2022-04-05T15:06:12.060Z"
   },
   {
    "duration": 8,
    "start_time": "2022-04-05T15:06:13.099Z"
   },
   {
    "duration": 13,
    "start_time": "2022-04-05T15:12:08.629Z"
   },
   {
    "duration": 5,
    "start_time": "2022-04-05T15:12:18.016Z"
   },
   {
    "duration": 45345,
    "start_time": "2022-04-05T15:12:24.285Z"
   },
   {
    "duration": 84157,
    "start_time": "2022-04-05T15:13:16.181Z"
   },
   {
    "duration": 54798,
    "start_time": "2022-04-05T15:14:58.913Z"
   },
   {
    "duration": 48293,
    "start_time": "2022-04-05T15:15:55.665Z"
   },
   {
    "duration": 29,
    "start_time": "2022-04-05T15:16:45.866Z"
   },
   {
    "duration": 409529,
    "start_time": "2022-04-05T15:16:57.274Z"
   },
   {
    "duration": 0,
    "start_time": "2022-04-05T15:23:46.806Z"
   },
   {
    "duration": 29470,
    "start_time": "2022-04-05T15:23:50.147Z"
   },
   {
    "duration": 10823,
    "start_time": "2022-04-05T15:25:13.650Z"
   },
   {
    "duration": 7,
    "start_time": "2022-04-05T15:25:24.476Z"
   },
   {
    "duration": 536,
    "start_time": "2022-04-05T15:25:51.267Z"
   },
   {
    "duration": 469,
    "start_time": "2022-04-05T15:26:07.132Z"
   },
   {
    "duration": 8,
    "start_time": "2022-04-05T15:26:11.838Z"
   },
   {
    "duration": 5,
    "start_time": "2022-04-05T15:27:51.099Z"
   },
   {
    "duration": 4,
    "start_time": "2022-04-05T15:29:03.220Z"
   },
   {
    "duration": 3,
    "start_time": "2022-04-05T15:32:34.067Z"
   },
   {
    "duration": 6,
    "start_time": "2022-04-05T15:33:18.629Z"
   },
   {
    "duration": 520,
    "start_time": "2022-04-05T15:33:19.752Z"
   },
   {
    "duration": 7,
    "start_time": "2022-04-05T15:33:23.364Z"
   },
   {
    "duration": 337,
    "start_time": "2022-04-05T15:33:23.375Z"
   },
   {
    "duration": 99,
    "start_time": "2022-04-05T15:33:23.714Z"
   },
   {
    "duration": 410,
    "start_time": "2022-04-05T15:33:23.816Z"
   },
   {
    "duration": 5,
    "start_time": "2022-04-05T15:33:24.229Z"
   },
   {
    "duration": 36,
    "start_time": "2022-04-05T15:33:24.237Z"
   },
   {
    "duration": 23,
    "start_time": "2022-04-05T15:33:24.275Z"
   },
   {
    "duration": 100,
    "start_time": "2022-04-05T15:33:24.301Z"
   },
   {
    "duration": 153,
    "start_time": "2022-04-05T15:33:24.404Z"
   },
   {
    "duration": 5,
    "start_time": "2022-04-05T15:33:24.567Z"
   },
   {
    "duration": 1524,
    "start_time": "2022-04-05T15:33:24.575Z"
   },
   {
    "duration": 1514,
    "start_time": "2022-04-05T15:33:26.103Z"
   },
   {
    "duration": 389,
    "start_time": "2022-04-05T15:33:27.620Z"
   },
   {
    "duration": 305,
    "start_time": "2022-04-05T15:33:28.011Z"
   },
   {
    "duration": 324,
    "start_time": "2022-04-05T15:33:28.319Z"
   },
   {
    "duration": 268,
    "start_time": "2022-04-05T15:33:28.645Z"
   },
   {
    "duration": 14,
    "start_time": "2022-04-05T15:33:28.915Z"
   },
   {
    "duration": 369,
    "start_time": "2022-04-05T15:33:28.932Z"
   },
   {
    "duration": 7,
    "start_time": "2022-04-05T15:33:29.303Z"
   },
   {
    "duration": 593,
    "start_time": "2022-04-05T15:33:29.312Z"
   },
   {
    "duration": 503,
    "start_time": "2022-04-05T15:33:29.909Z"
   },
   {
    "duration": 6,
    "start_time": "2022-04-05T15:33:30.415Z"
   },
   {
    "duration": 12,
    "start_time": "2022-04-05T15:33:30.423Z"
   },
   {
    "duration": 30624,
    "start_time": "2022-04-05T15:33:30.438Z"
   },
   {
    "duration": 10068,
    "start_time": "2022-04-05T15:34:01.068Z"
   },
   {
    "duration": 6,
    "start_time": "2022-04-05T15:34:11.138Z"
   },
   {
    "duration": 21,
    "start_time": "2022-04-05T15:34:11.146Z"
   },
   {
    "duration": 12,
    "start_time": "2022-04-05T15:34:11.172Z"
   },
   {
    "duration": 4,
    "start_time": "2022-04-05T15:34:42.385Z"
   },
   {
    "duration": 4,
    "start_time": "2022-04-05T15:34:49.860Z"
   },
   {
    "duration": 6,
    "start_time": "2022-04-05T15:43:05.745Z"
   },
   {
    "duration": 7,
    "start_time": "2022-04-05T15:43:30.894Z"
   },
   {
    "duration": 16,
    "start_time": "2022-04-05T15:46:22.097Z"
   },
   {
    "duration": 16,
    "start_time": "2022-04-05T15:46:33.119Z"
   },
   {
    "duration": 18,
    "start_time": "2022-04-05T15:46:46.621Z"
   },
   {
    "duration": 18,
    "start_time": "2022-04-05T15:47:20.849Z"
   },
   {
    "duration": 25,
    "start_time": "2022-04-05T15:47:37.356Z"
   },
   {
    "duration": 34,
    "start_time": "2022-04-05T15:47:47.298Z"
   },
   {
    "duration": 36,
    "start_time": "2022-04-05T15:48:16.999Z"
   },
   {
    "duration": 51,
    "start_time": "2022-04-05T15:48:35.991Z"
   },
   {
    "duration": 36,
    "start_time": "2022-04-05T15:48:58.570Z"
   },
   {
    "duration": 6,
    "start_time": "2022-04-05T15:49:30.101Z"
   },
   {
    "duration": 320,
    "start_time": "2022-04-05T15:49:30.110Z"
   },
   {
    "duration": 103,
    "start_time": "2022-04-05T15:49:30.432Z"
   },
   {
    "duration": 411,
    "start_time": "2022-04-05T15:49:30.537Z"
   },
   {
    "duration": 16,
    "start_time": "2022-04-05T15:49:30.953Z"
   },
   {
    "duration": 23,
    "start_time": "2022-04-05T15:49:30.973Z"
   },
   {
    "duration": 25,
    "start_time": "2022-04-05T15:49:30.999Z"
   },
   {
    "duration": 90,
    "start_time": "2022-04-05T15:49:31.026Z"
   },
   {
    "duration": 148,
    "start_time": "2022-04-05T15:49:31.119Z"
   },
   {
    "duration": 4,
    "start_time": "2022-04-05T15:49:31.269Z"
   },
   {
    "duration": 1224,
    "start_time": "2022-04-05T15:49:31.275Z"
   },
   {
    "duration": 1215,
    "start_time": "2022-04-05T15:49:32.502Z"
   },
   {
    "duration": 368,
    "start_time": "2022-04-05T15:49:33.719Z"
   },
   {
    "duration": 282,
    "start_time": "2022-04-05T15:49:34.091Z"
   },
   {
    "duration": 470,
    "start_time": "2022-04-05T15:49:34.376Z"
   },
   {
    "duration": 268,
    "start_time": "2022-04-05T15:49:34.849Z"
   },
   {
    "duration": 14,
    "start_time": "2022-04-05T15:49:35.120Z"
   },
   {
    "duration": 197,
    "start_time": "2022-04-05T15:49:35.138Z"
   },
   {
    "duration": 6,
    "start_time": "2022-04-05T15:49:35.339Z"
   },
   {
    "duration": 559,
    "start_time": "2022-04-05T15:49:35.347Z"
   },
   {
    "duration": 520,
    "start_time": "2022-04-05T15:49:35.909Z"
   },
   {
    "duration": 8,
    "start_time": "2022-04-05T15:49:36.432Z"
   },
   {
    "duration": 45,
    "start_time": "2022-04-05T15:49:36.442Z"
   },
   {
    "duration": 35524,
    "start_time": "2022-04-05T15:49:36.489Z"
   },
   {
    "duration": 10253,
    "start_time": "2022-04-05T15:50:12.015Z"
   },
   {
    "duration": 6,
    "start_time": "2022-04-05T15:50:22.270Z"
   },
   {
    "duration": 12,
    "start_time": "2022-04-05T15:50:22.278Z"
   },
   {
    "duration": 83,
    "start_time": "2022-04-05T15:50:22.292Z"
   },
   {
    "duration": 7,
    "start_time": "2022-04-05T15:50:47.078Z"
   },
   {
    "duration": 98,
    "start_time": "2022-04-05T15:54:06.971Z"
   },
   {
    "duration": 15,
    "start_time": "2022-04-05T15:54:25.842Z"
   },
   {
    "duration": 138,
    "start_time": "2022-04-05T15:54:34.664Z"
   },
   {
    "duration": 8,
    "start_time": "2022-04-05T15:54:36.582Z"
   },
   {
    "duration": 14,
    "start_time": "2022-04-05T15:57:09.766Z"
   },
   {
    "duration": 16,
    "start_time": "2022-04-05T15:57:15.702Z"
   },
   {
    "duration": 15,
    "start_time": "2022-04-05T15:57:25.882Z"
   },
   {
    "duration": 23,
    "start_time": "2022-04-05T15:57:43.560Z"
   },
   {
    "duration": 27,
    "start_time": "2022-04-05T15:57:54.336Z"
   },
   {
    "duration": 16,
    "start_time": "2022-04-05T15:58:04.976Z"
   },
   {
    "duration": 19,
    "start_time": "2022-04-05T15:58:12.430Z"
   },
   {
    "duration": 21,
    "start_time": "2022-04-05T15:58:35.816Z"
   },
   {
    "duration": 18,
    "start_time": "2022-04-05T15:59:01.443Z"
   },
   {
    "duration": 6,
    "start_time": "2022-04-05T15:59:15.591Z"
   },
   {
    "duration": 18,
    "start_time": "2022-04-05T15:59:19.743Z"
   },
   {
    "duration": 16,
    "start_time": "2022-04-05T16:00:03.485Z"
   },
   {
    "duration": 16,
    "start_time": "2022-04-05T16:00:18.002Z"
   },
   {
    "duration": 109,
    "start_time": "2022-04-05T16:00:23.459Z"
   },
   {
    "duration": 16,
    "start_time": "2022-04-05T16:00:26.383Z"
   },
   {
    "duration": 102,
    "start_time": "2022-04-05T16:01:12.368Z"
   },
   {
    "duration": 102,
    "start_time": "2022-04-05T16:01:18.628Z"
   },
   {
    "duration": 161,
    "start_time": "2022-04-05T16:01:24.292Z"
   },
   {
    "duration": 99,
    "start_time": "2022-04-05T16:01:33.840Z"
   },
   {
    "duration": 17,
    "start_time": "2022-04-05T16:01:41.936Z"
   },
   {
    "duration": 18,
    "start_time": "2022-04-05T16:01:51.836Z"
   },
   {
    "duration": 16,
    "start_time": "2022-04-05T16:01:59.737Z"
   },
   {
    "duration": 25,
    "start_time": "2022-04-05T16:03:08.312Z"
   },
   {
    "duration": 15,
    "start_time": "2022-04-05T16:03:39.020Z"
   },
   {
    "duration": 18,
    "start_time": "2022-04-05T16:03:44.502Z"
   },
   {
    "duration": 132,
    "start_time": "2022-04-05T16:05:05.791Z"
   },
   {
    "duration": 117,
    "start_time": "2022-04-05T16:05:27.231Z"
   },
   {
    "duration": 150,
    "start_time": "2022-04-05T16:06:09.580Z"
   },
   {
    "duration": 16,
    "start_time": "2022-04-05T16:06:20.484Z"
   },
   {
    "duration": 15,
    "start_time": "2022-04-05T16:06:51.800Z"
   },
   {
    "duration": 30,
    "start_time": "2022-04-05T16:07:08.709Z"
   },
   {
    "duration": 29,
    "start_time": "2022-04-05T16:07:29.207Z"
   },
   {
    "duration": 29,
    "start_time": "2022-04-05T16:08:13.075Z"
   },
   {
    "duration": 16,
    "start_time": "2022-04-05T16:08:18.812Z"
   },
   {
    "duration": 16,
    "start_time": "2022-04-05T16:09:04.572Z"
   },
   {
    "duration": 22,
    "start_time": "2022-04-05T16:10:18.186Z"
   },
   {
    "duration": 20,
    "start_time": "2022-04-05T16:10:41.250Z"
   },
   {
    "duration": 21,
    "start_time": "2022-04-05T16:11:06.584Z"
   },
   {
    "duration": 23,
    "start_time": "2022-04-05T16:11:15.841Z"
   },
   {
    "duration": 18,
    "start_time": "2022-04-05T16:11:28.737Z"
   },
   {
    "duration": 22,
    "start_time": "2022-04-05T16:12:03.023Z"
   },
   {
    "duration": 16,
    "start_time": "2022-04-05T16:12:13.017Z"
   },
   {
    "duration": 19,
    "start_time": "2022-04-05T16:12:18.706Z"
   },
   {
    "duration": 15,
    "start_time": "2022-04-05T16:12:46.450Z"
   },
   {
    "duration": 16,
    "start_time": "2022-04-05T16:12:52.863Z"
   },
   {
    "duration": 15,
    "start_time": "2022-04-05T16:12:54.526Z"
   },
   {
    "duration": 14,
    "start_time": "2022-04-05T16:12:56.902Z"
   },
   {
    "duration": 615,
    "start_time": "2022-04-05T16:13:13.753Z"
   },
   {
    "duration": 1130,
    "start_time": "2022-04-05T16:13:49.641Z"
   },
   {
    "duration": 899,
    "start_time": "2022-04-05T16:14:42.678Z"
   },
   {
    "duration": 37,
    "start_time": "2022-04-05T16:16:39.044Z"
   },
   {
    "duration": 36,
    "start_time": "2022-04-05T16:16:45.891Z"
   },
   {
    "duration": 877,
    "start_time": "2022-04-05T16:16:54.691Z"
   },
   {
    "duration": 35,
    "start_time": "2022-04-05T16:16:57.509Z"
   },
   {
    "duration": 38,
    "start_time": "2022-04-05T16:17:51.683Z"
   },
   {
    "duration": 35,
    "start_time": "2022-04-05T16:17:56.567Z"
   },
   {
    "duration": 34,
    "start_time": "2022-04-05T16:18:56.284Z"
   },
   {
    "duration": 801,
    "start_time": "2022-04-05T16:19:05.967Z"
   },
   {
    "duration": 5,
    "start_time": "2022-04-05T16:19:30.819Z"
   },
   {
    "duration": 127,
    "start_time": "2022-04-05T16:19:45.146Z"
   },
   {
    "duration": 5,
    "start_time": "2022-04-05T16:19:59.816Z"
   },
   {
    "duration": 5,
    "start_time": "2022-04-05T16:20:06.504Z"
   },
   {
    "duration": 304,
    "start_time": "2022-04-05T16:20:06.519Z"
   },
   {
    "duration": 93,
    "start_time": "2022-04-05T16:20:06.826Z"
   },
   {
    "duration": 393,
    "start_time": "2022-04-05T16:20:06.922Z"
   },
   {
    "duration": 5,
    "start_time": "2022-04-05T16:20:07.317Z"
   },
   {
    "duration": 16,
    "start_time": "2022-04-05T16:20:07.326Z"
   },
   {
    "duration": 29,
    "start_time": "2022-04-05T16:20:07.367Z"
   },
   {
    "duration": 91,
    "start_time": "2022-04-05T16:20:07.398Z"
   },
   {
    "duration": 146,
    "start_time": "2022-04-05T16:20:07.491Z"
   },
   {
    "duration": 5,
    "start_time": "2022-04-05T16:20:07.640Z"
   },
   {
    "duration": 1302,
    "start_time": "2022-04-05T16:20:07.647Z"
   },
   {
    "duration": 1190,
    "start_time": "2022-04-05T16:20:08.951Z"
   },
   {
    "duration": 535,
    "start_time": "2022-04-05T16:20:10.143Z"
   },
   {
    "duration": 293,
    "start_time": "2022-04-05T16:20:10.681Z"
   },
   {
    "duration": 273,
    "start_time": "2022-04-05T16:20:10.978Z"
   },
   {
    "duration": 268,
    "start_time": "2022-04-05T16:20:11.254Z"
   },
   {
    "duration": 14,
    "start_time": "2022-04-05T16:20:11.524Z"
   },
   {
    "duration": 190,
    "start_time": "2022-04-05T16:20:11.540Z"
   },
   {
    "duration": 7,
    "start_time": "2022-04-05T16:20:11.732Z"
   },
   {
    "duration": 568,
    "start_time": "2022-04-05T16:20:11.742Z"
   },
   {
    "duration": 492,
    "start_time": "2022-04-05T16:20:12.312Z"
   },
   {
    "duration": 7,
    "start_time": "2022-04-05T16:20:12.807Z"
   },
   {
    "duration": 12,
    "start_time": "2022-04-05T16:20:12.816Z"
   },
   {
    "duration": 29846,
    "start_time": "2022-04-05T16:20:12.830Z"
   },
   {
    "duration": 10193,
    "start_time": "2022-04-05T16:20:42.679Z"
   },
   {
    "duration": 6,
    "start_time": "2022-04-05T16:20:52.874Z"
   },
   {
    "duration": 15,
    "start_time": "2022-04-05T16:20:52.882Z"
   },
   {
    "duration": 1071,
    "start_time": "2022-04-05T16:20:52.899Z"
   },
   {
    "duration": 116,
    "start_time": "2022-04-05T16:20:53.972Z"
   },
   {
    "duration": 5,
    "start_time": "2022-04-05T16:20:54.091Z"
   },
   {
    "duration": 1454,
    "start_time": "2022-04-05T17:28:45.186Z"
   },
   {
    "duration": 250,
    "start_time": "2022-04-05T17:28:46.641Z"
   },
   {
    "duration": 74,
    "start_time": "2022-04-05T17:28:46.893Z"
   },
   {
    "duration": 320,
    "start_time": "2022-04-05T17:28:46.970Z"
   },
   {
    "duration": 4,
    "start_time": "2022-04-05T17:28:47.292Z"
   },
   {
    "duration": 17,
    "start_time": "2022-04-05T17:28:47.298Z"
   },
   {
    "duration": 14,
    "start_time": "2022-04-05T17:28:47.317Z"
   },
   {
    "duration": 41,
    "start_time": "2022-04-05T17:28:47.333Z"
   },
   {
    "duration": 105,
    "start_time": "2022-04-05T17:28:47.376Z"
   },
   {
    "duration": 3,
    "start_time": "2022-04-05T17:28:47.483Z"
   },
   {
    "duration": 820,
    "start_time": "2022-04-05T17:28:47.487Z"
   },
   {
    "duration": 828,
    "start_time": "2022-04-05T17:28:48.309Z"
   },
   {
    "duration": 223,
    "start_time": "2022-04-05T17:28:49.139Z"
   },
   {
    "duration": 173,
    "start_time": "2022-04-05T17:28:49.363Z"
   },
   {
    "duration": 173,
    "start_time": "2022-04-05T17:28:49.538Z"
   },
   {
    "duration": 159,
    "start_time": "2022-04-05T17:28:49.713Z"
   },
   {
    "duration": 9,
    "start_time": "2022-04-05T17:28:49.874Z"
   },
   {
    "duration": 124,
    "start_time": "2022-04-05T17:28:49.885Z"
   },
   {
    "duration": 5,
    "start_time": "2022-04-05T17:28:50.010Z"
   },
   {
    "duration": 134,
    "start_time": "2022-04-05T17:28:50.017Z"
   },
   {
    "duration": 0,
    "start_time": "2022-04-05T17:28:50.153Z"
   },
   {
    "duration": 0,
    "start_time": "2022-04-05T17:28:50.155Z"
   },
   {
    "duration": 0,
    "start_time": "2022-04-05T17:28:50.156Z"
   },
   {
    "duration": 0,
    "start_time": "2022-04-05T17:28:50.157Z"
   },
   {
    "duration": 0,
    "start_time": "2022-04-05T17:28:50.158Z"
   },
   {
    "duration": 0,
    "start_time": "2022-04-05T17:28:50.159Z"
   },
   {
    "duration": 0,
    "start_time": "2022-04-05T17:28:50.160Z"
   },
   {
    "duration": 0,
    "start_time": "2022-04-05T17:28:50.161Z"
   },
   {
    "duration": 0,
    "start_time": "2022-04-05T17:28:50.162Z"
   },
   {
    "duration": 0,
    "start_time": "2022-04-05T17:28:50.163Z"
   },
   {
    "duration": 4,
    "start_time": "2022-04-05T17:31:57.404Z"
   },
   {
    "duration": 3,
    "start_time": "2022-04-05T17:50:21.167Z"
   },
   {
    "duration": 452,
    "start_time": "2022-04-05T17:50:21.173Z"
   },
   {
    "duration": 402,
    "start_time": "2022-04-05T17:50:21.627Z"
   },
   {
    "duration": 4,
    "start_time": "2022-04-05T17:50:22.031Z"
   },
   {
    "duration": 6,
    "start_time": "2022-04-05T17:50:22.037Z"
   },
   {
    "duration": 24306,
    "start_time": "2022-04-05T17:50:22.045Z"
   },
   {
    "duration": 7951,
    "start_time": "2022-04-05T17:50:46.353Z"
   },
   {
    "duration": 4,
    "start_time": "2022-04-05T17:50:54.306Z"
   },
   {
    "duration": 6,
    "start_time": "2022-04-05T17:50:54.312Z"
   },
   {
    "duration": 12,
    "start_time": "2022-04-05T17:50:54.320Z"
   },
   {
    "duration": 0,
    "start_time": "2022-04-05T17:50:54.333Z"
   },
   {
    "duration": 0,
    "start_time": "2022-04-05T17:50:54.335Z"
   },
   {
    "duration": 62,
    "start_time": "2022-04-05T18:06:52.884Z"
   },
   {
    "duration": 1744,
    "start_time": "2022-04-06T06:46:16.838Z"
   },
   {
    "duration": 289,
    "start_time": "2022-04-06T06:46:18.584Z"
   },
   {
    "duration": 87,
    "start_time": "2022-04-06T06:46:18.875Z"
   },
   {
    "duration": 364,
    "start_time": "2022-04-06T06:46:18.964Z"
   },
   {
    "duration": 4,
    "start_time": "2022-04-06T06:46:19.330Z"
   },
   {
    "duration": 11,
    "start_time": "2022-04-06T06:46:19.335Z"
   },
   {
    "duration": 14,
    "start_time": "2022-04-06T06:46:19.347Z"
   },
   {
    "duration": 42,
    "start_time": "2022-04-06T06:46:19.363Z"
   },
   {
    "duration": 157,
    "start_time": "2022-04-06T06:46:19.407Z"
   },
   {
    "duration": 3,
    "start_time": "2022-04-06T06:46:19.565Z"
   },
   {
    "duration": 938,
    "start_time": "2022-04-06T06:46:19.570Z"
   },
   {
    "duration": 941,
    "start_time": "2022-04-06T06:46:20.509Z"
   },
   {
    "duration": 255,
    "start_time": "2022-04-06T06:46:21.452Z"
   },
   {
    "duration": 205,
    "start_time": "2022-04-06T06:46:21.710Z"
   },
   {
    "duration": 193,
    "start_time": "2022-04-06T06:46:21.917Z"
   },
   {
    "duration": 181,
    "start_time": "2022-04-06T06:46:22.112Z"
   },
   {
    "duration": 10,
    "start_time": "2022-04-06T06:46:22.294Z"
   },
   {
    "duration": 138,
    "start_time": "2022-04-06T06:46:22.306Z"
   },
   {
    "duration": 6,
    "start_time": "2022-04-06T06:46:22.445Z"
   },
   {
    "duration": 10,
    "start_time": "2022-04-06T06:46:22.452Z"
   },
   {
    "duration": 273,
    "start_time": "2022-04-06T06:46:22.464Z"
   },
   {
    "duration": 0,
    "start_time": "2022-04-06T06:46:22.739Z"
   },
   {
    "duration": 0,
    "start_time": "2022-04-06T06:46:22.740Z"
   },
   {
    "duration": 0,
    "start_time": "2022-04-06T06:46:22.741Z"
   },
   {
    "duration": 0,
    "start_time": "2022-04-06T06:46:22.743Z"
   },
   {
    "duration": 0,
    "start_time": "2022-04-06T06:46:22.744Z"
   },
   {
    "duration": 0,
    "start_time": "2022-04-06T06:46:22.745Z"
   },
   {
    "duration": 0,
    "start_time": "2022-04-06T06:46:22.746Z"
   },
   {
    "duration": 0,
    "start_time": "2022-04-06T06:46:22.747Z"
   },
   {
    "duration": 0,
    "start_time": "2022-04-06T06:46:22.749Z"
   },
   {
    "duration": 0,
    "start_time": "2022-04-06T06:46:22.749Z"
   },
   {
    "duration": 491,
    "start_time": "2022-04-06T06:46:53.657Z"
   },
   {
    "duration": 4,
    "start_time": "2022-04-06T06:47:20.892Z"
   },
   {
    "duration": 296,
    "start_time": "2022-04-06T06:47:20.898Z"
   },
   {
    "duration": 87,
    "start_time": "2022-04-06T06:47:21.196Z"
   },
   {
    "duration": 364,
    "start_time": "2022-04-06T06:47:21.286Z"
   },
   {
    "duration": 3,
    "start_time": "2022-04-06T06:47:21.652Z"
   },
   {
    "duration": 18,
    "start_time": "2022-04-06T06:47:21.657Z"
   },
   {
    "duration": 19,
    "start_time": "2022-04-06T06:47:21.676Z"
   },
   {
    "duration": 52,
    "start_time": "2022-04-06T06:47:21.697Z"
   },
   {
    "duration": 94,
    "start_time": "2022-04-06T06:47:21.751Z"
   },
   {
    "duration": 3,
    "start_time": "2022-04-06T06:47:21.847Z"
   },
   {
    "duration": 851,
    "start_time": "2022-04-06T06:47:21.852Z"
   },
   {
    "duration": 853,
    "start_time": "2022-04-06T06:47:22.705Z"
   },
   {
    "duration": 254,
    "start_time": "2022-04-06T06:47:23.560Z"
   },
   {
    "duration": 290,
    "start_time": "2022-04-06T06:47:23.815Z"
   },
   {
    "duration": 189,
    "start_time": "2022-04-06T06:47:24.107Z"
   },
   {
    "duration": 178,
    "start_time": "2022-04-06T06:47:24.297Z"
   },
   {
    "duration": 10,
    "start_time": "2022-04-06T06:47:24.477Z"
   },
   {
    "duration": 128,
    "start_time": "2022-04-06T06:47:24.488Z"
   },
   {
    "duration": 5,
    "start_time": "2022-04-06T06:47:24.618Z"
   },
   {
    "duration": 4,
    "start_time": "2022-04-06T06:47:24.631Z"
   },
   {
    "duration": 514,
    "start_time": "2022-04-06T06:47:24.637Z"
   },
   {
    "duration": 399,
    "start_time": "2022-04-06T06:47:25.153Z"
   },
   {
    "duration": 4,
    "start_time": "2022-04-06T06:47:25.554Z"
   },
   {
    "duration": 6,
    "start_time": "2022-04-06T06:47:25.561Z"
   },
   {
    "duration": 24742,
    "start_time": "2022-04-06T06:47:25.569Z"
   },
   {
    "duration": 8301,
    "start_time": "2022-04-06T06:47:50.313Z"
   },
   {
    "duration": 5,
    "start_time": "2022-04-06T06:47:58.616Z"
   },
   {
    "duration": 17,
    "start_time": "2022-04-06T06:47:58.623Z"
   },
   {
    "duration": 15,
    "start_time": "2022-04-06T06:47:58.642Z"
   },
   {
    "duration": 0,
    "start_time": "2022-04-06T06:47:58.659Z"
   },
   {
    "duration": 0,
    "start_time": "2022-04-06T06:47:58.660Z"
   },
   {
    "duration": 2,
    "start_time": "2022-04-06T06:50:45.525Z"
   },
   {
    "duration": 6,
    "start_time": "2022-04-06T06:52:41.972Z"
   },
   {
    "duration": 143,
    "start_time": "2022-04-06T06:52:49.637Z"
   },
   {
    "duration": 156,
    "start_time": "2022-04-06T06:53:01.645Z"
   },
   {
    "duration": 275,
    "start_time": "2022-04-06T06:53:19.024Z"
   },
   {
    "duration": 143,
    "start_time": "2022-04-06T06:53:54.846Z"
   },
   {
    "duration": 243,
    "start_time": "2022-04-06T06:54:08.328Z"
   },
   {
    "duration": 45,
    "start_time": "2022-04-06T06:55:15.212Z"
   },
   {
    "duration": 43,
    "start_time": "2022-04-06T06:55:29.941Z"
   },
   {
    "duration": 32,
    "start_time": "2022-04-06T06:56:37.846Z"
   },
   {
    "duration": 38,
    "start_time": "2022-04-06T06:57:49.035Z"
   },
   {
    "duration": 44,
    "start_time": "2022-04-06T06:58:02.411Z"
   },
   {
    "duration": 3,
    "start_time": "2022-04-06T06:58:04.463Z"
   },
   {
    "duration": 279,
    "start_time": "2022-04-06T06:58:04.468Z"
   },
   {
    "duration": 84,
    "start_time": "2022-04-06T06:58:04.749Z"
   },
   {
    "duration": 348,
    "start_time": "2022-04-06T06:58:04.836Z"
   },
   {
    "duration": 3,
    "start_time": "2022-04-06T06:58:05.186Z"
   },
   {
    "duration": 11,
    "start_time": "2022-04-06T06:58:05.191Z"
   },
   {
    "duration": 16,
    "start_time": "2022-04-06T06:58:05.203Z"
   },
   {
    "duration": 48,
    "start_time": "2022-04-06T06:58:05.221Z"
   },
   {
    "duration": 88,
    "start_time": "2022-04-06T06:58:05.270Z"
   },
   {
    "duration": 175,
    "start_time": "2022-04-06T06:58:05.359Z"
   },
   {
    "duration": 154,
    "start_time": "2022-04-06T06:58:05.536Z"
   },
   {
    "duration": 56,
    "start_time": "2022-04-06T06:58:05.692Z"
   },
   {
    "duration": 3,
    "start_time": "2022-04-06T06:58:05.750Z"
   },
   {
    "duration": 867,
    "start_time": "2022-04-06T06:58:05.756Z"
   },
   {
    "duration": 970,
    "start_time": "2022-04-06T06:58:06.625Z"
   },
   {
    "duration": 250,
    "start_time": "2022-04-06T06:58:07.597Z"
   },
   {
    "duration": 206,
    "start_time": "2022-04-06T06:58:07.848Z"
   },
   {
    "duration": 196,
    "start_time": "2022-04-06T06:58:08.056Z"
   },
   {
    "duration": 189,
    "start_time": "2022-04-06T06:58:08.253Z"
   },
   {
    "duration": 9,
    "start_time": "2022-04-06T06:58:08.444Z"
   },
   {
    "duration": 120,
    "start_time": "2022-04-06T06:58:08.455Z"
   },
   {
    "duration": 5,
    "start_time": "2022-04-06T06:58:08.577Z"
   },
   {
    "duration": 8,
    "start_time": "2022-04-06T06:58:08.583Z"
   },
   {
    "duration": 706,
    "start_time": "2022-04-06T06:58:08.593Z"
   },
   {
    "duration": 498,
    "start_time": "2022-04-06T06:58:09.301Z"
   },
   {
    "duration": 5,
    "start_time": "2022-04-06T06:58:09.800Z"
   },
   {
    "duration": 26,
    "start_time": "2022-04-06T06:58:09.806Z"
   },
   {
    "duration": 22783,
    "start_time": "2022-04-06T06:58:09.834Z"
   },
   {
    "duration": 7886,
    "start_time": "2022-04-06T06:58:32.619Z"
   },
   {
    "duration": 4,
    "start_time": "2022-04-06T06:58:40.507Z"
   },
   {
    "duration": 22,
    "start_time": "2022-04-06T06:58:40.513Z"
   },
   {
    "duration": 13,
    "start_time": "2022-04-06T06:58:40.537Z"
   },
   {
    "duration": 0,
    "start_time": "2022-04-06T06:58:40.552Z"
   },
   {
    "duration": 0,
    "start_time": "2022-04-06T06:58:40.553Z"
   },
   {
    "duration": 4,
    "start_time": "2022-04-06T07:01:45.585Z"
   },
   {
    "duration": 511,
    "start_time": "2022-04-06T07:01:47.966Z"
   },
   {
    "duration": 176,
    "start_time": "2022-04-06T07:02:48.983Z"
   },
   {
    "duration": 2,
    "start_time": "2022-04-06T07:04:24.476Z"
   },
   {
    "duration": 5,
    "start_time": "2022-04-06T07:11:50.009Z"
   },
   {
    "duration": 41,
    "start_time": "2022-04-06T07:13:04.444Z"
   },
   {
    "duration": 434,
    "start_time": "2022-04-06T07:13:26.835Z"
   },
   {
    "duration": 5,
    "start_time": "2022-04-06T07:13:42.116Z"
   },
   {
    "duration": 389,
    "start_time": "2022-04-06T07:14:55.990Z"
   },
   {
    "duration": 6,
    "start_time": "2022-04-06T07:15:25.003Z"
   },
   {
    "duration": 163,
    "start_time": "2022-04-06T07:15:45.848Z"
   },
   {
    "duration": 5,
    "start_time": "2022-04-06T07:16:55.945Z"
   },
   {
    "duration": 517,
    "start_time": "2022-04-06T07:17:03.254Z"
   },
   {
    "duration": 449,
    "start_time": "2022-04-06T07:17:08.625Z"
   },
   {
    "duration": 4,
    "start_time": "2022-04-06T07:17:11.645Z"
   },
   {
    "duration": 22501,
    "start_time": "2022-04-06T07:17:18.697Z"
   },
   {
    "duration": 8005,
    "start_time": "2022-04-06T07:18:07.000Z"
   },
   {
    "duration": 4,
    "start_time": "2022-04-06T07:18:30.685Z"
   },
   {
    "duration": 439146,
    "start_time": "2022-04-06T07:19:08.724Z"
   },
   {
    "duration": 0,
    "start_time": "2022-04-06T07:26:27.872Z"
   },
   {
    "duration": 0,
    "start_time": "2022-04-06T07:26:27.874Z"
   },
   {
    "duration": 0,
    "start_time": "2022-04-06T07:26:27.876Z"
   },
   {
    "duration": 0,
    "start_time": "2022-04-06T07:26:27.877Z"
   },
   {
    "duration": 5,
    "start_time": "2022-04-06T07:26:33.602Z"
   },
   {
    "duration": 290,
    "start_time": "2022-04-06T07:26:33.609Z"
   },
   {
    "duration": 87,
    "start_time": "2022-04-06T07:26:33.900Z"
   },
   {
    "duration": 367,
    "start_time": "2022-04-06T07:26:33.989Z"
   },
   {
    "duration": 4,
    "start_time": "2022-04-06T07:26:34.358Z"
   },
   {
    "duration": 15,
    "start_time": "2022-04-06T07:26:34.364Z"
   },
   {
    "duration": 18,
    "start_time": "2022-04-06T07:26:34.382Z"
   },
   {
    "duration": 51,
    "start_time": "2022-04-06T07:26:34.401Z"
   },
   {
    "duration": 88,
    "start_time": "2022-04-06T07:26:34.454Z"
   },
   {
    "duration": 211,
    "start_time": "2022-04-06T07:26:34.544Z"
   },
   {
    "duration": 198,
    "start_time": "2022-04-06T07:26:34.757Z"
   },
   {
    "duration": 50,
    "start_time": "2022-04-06T07:26:34.957Z"
   },
   {
    "duration": 3,
    "start_time": "2022-04-06T07:26:35.009Z"
   },
   {
    "duration": 981,
    "start_time": "2022-04-06T07:26:35.037Z"
   },
   {
    "duration": 994,
    "start_time": "2022-04-06T07:26:36.020Z"
   },
   {
    "duration": 283,
    "start_time": "2022-04-06T07:26:37.016Z"
   },
   {
    "duration": 221,
    "start_time": "2022-04-06T07:26:37.301Z"
   },
   {
    "duration": 199,
    "start_time": "2022-04-06T07:26:37.524Z"
   },
   {
    "duration": 189,
    "start_time": "2022-04-06T07:26:37.731Z"
   },
   {
    "duration": 15,
    "start_time": "2022-04-06T07:26:37.922Z"
   },
   {
    "duration": 132,
    "start_time": "2022-04-06T07:26:37.939Z"
   },
   {
    "duration": 4,
    "start_time": "2022-04-06T07:26:38.073Z"
   },
   {
    "duration": 10,
    "start_time": "2022-04-06T07:26:38.079Z"
   },
   {
    "duration": 7,
    "start_time": "2022-04-06T07:26:38.091Z"
   },
   {
    "duration": 478,
    "start_time": "2022-04-06T07:26:38.100Z"
   },
   {
    "duration": 396,
    "start_time": "2022-04-06T07:26:38.579Z"
   },
   {
    "duration": 4,
    "start_time": "2022-04-06T07:26:38.977Z"
   },
   {
    "duration": 7,
    "start_time": "2022-04-06T07:26:38.983Z"
   },
   {
    "duration": 24449,
    "start_time": "2022-04-06T07:26:38.992Z"
   },
   {
    "duration": 8281,
    "start_time": "2022-04-06T07:27:03.444Z"
   },
   {
    "duration": 7,
    "start_time": "2022-04-06T07:27:11.727Z"
   },
   {
    "duration": 5,
    "start_time": "2022-04-06T07:27:11.735Z"
   },
   {
    "duration": 1525,
    "start_time": "2022-04-06T07:27:11.742Z"
   },
   {
    "duration": 0,
    "start_time": "2022-04-06T07:27:13.270Z"
   },
   {
    "duration": 0,
    "start_time": "2022-04-06T07:27:13.271Z"
   },
   {
    "duration": 0,
    "start_time": "2022-04-06T07:27:13.272Z"
   },
   {
    "duration": 1471,
    "start_time": "2022-04-06T07:27:52.617Z"
   },
   {
    "duration": 1437,
    "start_time": "2022-04-06T07:28:21.574Z"
   },
   {
    "duration": 1373,
    "start_time": "2022-04-06T07:28:40.297Z"
   },
   {
    "duration": 1331,
    "start_time": "2022-04-06T07:29:09.922Z"
   },
   {
    "duration": 22,
    "start_time": "2022-04-06T07:29:22.506Z"
   },
   {
    "duration": 20,
    "start_time": "2022-04-06T07:29:59.263Z"
   },
   {
    "duration": 250,
    "start_time": "2022-04-06T07:31:34.256Z"
   },
   {
    "duration": 214,
    "start_time": "2022-04-06T07:31:50.635Z"
   },
   {
    "duration": 21,
    "start_time": "2022-04-06T07:31:56.367Z"
   },
   {
    "duration": 217,
    "start_time": "2022-04-06T07:32:14.248Z"
   },
   {
    "duration": 0,
    "start_time": "2022-04-06T07:32:32.843Z"
   },
   {
    "duration": 194,
    "start_time": "2022-04-06T07:32:39.394Z"
   },
   {
    "duration": 2754,
    "start_time": "2022-04-06T07:33:11.847Z"
   },
   {
    "duration": 196,
    "start_time": "2022-04-06T07:33:28.675Z"
   },
   {
    "duration": 248,
    "start_time": "2022-04-06T07:33:33.507Z"
   },
   {
    "duration": 253,
    "start_time": "2022-04-06T07:34:53.803Z"
   },
   {
    "duration": 22,
    "start_time": "2022-04-06T07:35:01.592Z"
   },
   {
    "duration": 6,
    "start_time": "2022-04-06T07:35:19.230Z"
   },
   {
    "duration": 21,
    "start_time": "2022-04-06T07:35:21.452Z"
   },
   {
    "duration": 12,
    "start_time": "2022-04-06T07:35:56.500Z"
   },
   {
    "duration": 692,
    "start_time": "2022-04-06T07:36:02.148Z"
   },
   {
    "duration": 625,
    "start_time": "2022-04-06T07:36:28.817Z"
   },
   {
    "duration": 599,
    "start_time": "2022-04-06T07:37:04.745Z"
   },
   {
    "duration": 582,
    "start_time": "2022-04-06T07:37:19.451Z"
   },
   {
    "duration": 641,
    "start_time": "2022-04-06T07:37:35.005Z"
   },
   {
    "duration": 642,
    "start_time": "2022-04-06T07:37:54.500Z"
   },
   {
    "duration": 515,
    "start_time": "2022-04-06T07:38:15.624Z"
   },
   {
    "duration": 182,
    "start_time": "2022-04-06T07:39:24.696Z"
   },
   {
    "duration": 998,
    "start_time": "2022-04-06T07:39:28.842Z"
   },
   {
    "duration": 1021,
    "start_time": "2022-04-06T07:39:39.414Z"
   },
   {
    "duration": 824,
    "start_time": "2022-04-06T07:39:42.810Z"
   },
   {
    "duration": 519,
    "start_time": "2022-04-06T07:40:48.913Z"
   },
   {
    "duration": 781,
    "start_time": "2022-04-06T07:40:55.852Z"
   },
   {
    "duration": 4,
    "start_time": "2022-04-06T07:41:05.222Z"
   },
   {
    "duration": 4,
    "start_time": "2022-04-06T07:45:26.659Z"
   },
   {
    "duration": 258,
    "start_time": "2022-04-06T07:45:26.667Z"
   },
   {
    "duration": 78,
    "start_time": "2022-04-06T07:45:26.931Z"
   },
   {
    "duration": 336,
    "start_time": "2022-04-06T07:45:27.010Z"
   },
   {
    "duration": 3,
    "start_time": "2022-04-06T07:45:27.348Z"
   },
   {
    "duration": 12,
    "start_time": "2022-04-06T07:45:27.353Z"
   },
   {
    "duration": 14,
    "start_time": "2022-04-06T07:45:27.366Z"
   },
   {
    "duration": 65,
    "start_time": "2022-04-06T07:45:27.382Z"
   },
   {
    "duration": 99,
    "start_time": "2022-04-06T07:45:27.449Z"
   },
   {
    "duration": 157,
    "start_time": "2022-04-06T07:45:27.549Z"
   },
   {
    "duration": 259,
    "start_time": "2022-04-06T07:45:27.709Z"
   },
   {
    "duration": 47,
    "start_time": "2022-04-06T07:45:27.969Z"
   },
   {
    "duration": 15,
    "start_time": "2022-04-06T07:45:28.018Z"
   },
   {
    "duration": 860,
    "start_time": "2022-04-06T07:45:28.035Z"
   },
   {
    "duration": 837,
    "start_time": "2022-04-06T07:45:28.897Z"
   },
   {
    "duration": 352,
    "start_time": "2022-04-06T07:45:29.735Z"
   },
   {
    "duration": 206,
    "start_time": "2022-04-06T07:45:30.089Z"
   },
   {
    "duration": 186,
    "start_time": "2022-04-06T07:45:30.296Z"
   },
   {
    "duration": 189,
    "start_time": "2022-04-06T07:45:30.483Z"
   },
   {
    "duration": 8,
    "start_time": "2022-04-06T07:45:30.674Z"
   },
   {
    "duration": 115,
    "start_time": "2022-04-06T07:45:30.684Z"
   },
   {
    "duration": 5,
    "start_time": "2022-04-06T07:45:30.800Z"
   },
   {
    "duration": 29,
    "start_time": "2022-04-06T07:45:30.807Z"
   },
   {
    "duration": 18,
    "start_time": "2022-04-06T07:45:30.838Z"
   },
   {
    "duration": 521,
    "start_time": "2022-04-06T07:45:30.858Z"
   },
   {
    "duration": 398,
    "start_time": "2022-04-06T07:45:31.380Z"
   },
   {
    "duration": 5,
    "start_time": "2022-04-06T07:45:31.779Z"
   },
   {
    "duration": 14,
    "start_time": "2022-04-06T07:45:31.786Z"
   },
   {
    "duration": 6174,
    "start_time": "2022-04-06T07:45:31.804Z"
   },
   {
    "duration": 0,
    "start_time": "2022-04-06T07:45:37.980Z"
   },
   {
    "duration": 0,
    "start_time": "2022-04-06T07:45:37.981Z"
   },
   {
    "duration": 0,
    "start_time": "2022-04-06T07:45:37.982Z"
   },
   {
    "duration": 0,
    "start_time": "2022-04-06T07:45:37.984Z"
   },
   {
    "duration": 0,
    "start_time": "2022-04-06T07:45:37.985Z"
   },
   {
    "duration": 0,
    "start_time": "2022-04-06T07:45:37.985Z"
   },
   {
    "duration": 1301,
    "start_time": "2022-04-06T07:45:56.438Z"
   },
   {
    "duration": 462,
    "start_time": "2022-04-06T07:46:15.772Z"
   },
   {
    "duration": 1022,
    "start_time": "2022-04-06T07:46:18.522Z"
   },
   {
    "duration": 223,
    "start_time": "2022-04-06T07:46:32.273Z"
   },
   {
    "duration": 1381,
    "start_time": "2022-04-06T07:46:40.752Z"
   },
   {
    "duration": 850,
    "start_time": "2022-04-06T07:47:05.583Z"
   },
   {
    "duration": 4,
    "start_time": "2022-04-06T07:47:10.888Z"
   },
   {
    "duration": 3,
    "start_time": "2022-04-06T07:47:15.401Z"
   },
   {
    "duration": 267,
    "start_time": "2022-04-06T07:47:15.415Z"
   },
   {
    "duration": 80,
    "start_time": "2022-04-06T07:47:15.684Z"
   },
   {
    "duration": 341,
    "start_time": "2022-04-06T07:47:15.765Z"
   },
   {
    "duration": 4,
    "start_time": "2022-04-06T07:47:16.107Z"
   },
   {
    "duration": 20,
    "start_time": "2022-04-06T07:47:16.113Z"
   },
   {
    "duration": 15,
    "start_time": "2022-04-06T07:47:16.135Z"
   },
   {
    "duration": 44,
    "start_time": "2022-04-06T07:47:16.152Z"
   },
   {
    "duration": 115,
    "start_time": "2022-04-06T07:47:16.198Z"
   },
   {
    "duration": 169,
    "start_time": "2022-04-06T07:47:16.314Z"
   },
   {
    "duration": 167,
    "start_time": "2022-04-06T07:47:16.485Z"
   },
   {
    "duration": 47,
    "start_time": "2022-04-06T07:47:16.654Z"
   },
   {
    "duration": 3,
    "start_time": "2022-04-06T07:47:16.703Z"
   },
   {
    "duration": 965,
    "start_time": "2022-04-06T07:47:16.707Z"
   },
   {
    "duration": 860,
    "start_time": "2022-04-06T07:47:17.675Z"
   },
   {
    "duration": 255,
    "start_time": "2022-04-06T07:47:18.537Z"
   },
   {
    "duration": 203,
    "start_time": "2022-04-06T07:47:18.794Z"
   },
   {
    "duration": 187,
    "start_time": "2022-04-06T07:47:18.999Z"
   },
   {
    "duration": 195,
    "start_time": "2022-04-06T07:47:19.188Z"
   },
   {
    "duration": 8,
    "start_time": "2022-04-06T07:47:19.385Z"
   },
   {
    "duration": 118,
    "start_time": "2022-04-06T07:47:19.395Z"
   },
   {
    "duration": 4,
    "start_time": "2022-04-06T07:47:19.515Z"
   },
   {
    "duration": 15,
    "start_time": "2022-04-06T07:47:19.521Z"
   },
   {
    "duration": 9,
    "start_time": "2022-04-06T07:47:19.538Z"
   },
   {
    "duration": 544,
    "start_time": "2022-04-06T07:47:19.548Z"
   },
   {
    "duration": 493,
    "start_time": "2022-04-06T07:47:20.095Z"
   },
   {
    "duration": 5,
    "start_time": "2022-04-06T07:47:20.590Z"
   },
   {
    "duration": 13,
    "start_time": "2022-04-06T07:47:20.597Z"
   },
   {
    "duration": 23200,
    "start_time": "2022-04-06T07:47:20.612Z"
   },
   {
    "duration": 8125,
    "start_time": "2022-04-06T07:47:43.814Z"
   },
   {
    "duration": 4,
    "start_time": "2022-04-06T07:47:51.941Z"
   },
   {
    "duration": 6,
    "start_time": "2022-04-06T07:47:51.947Z"
   },
   {
    "duration": 1388,
    "start_time": "2022-04-06T07:47:51.955Z"
   },
   {
    "duration": 788,
    "start_time": "2022-04-06T07:47:53.346Z"
   },
   {
    "duration": 5,
    "start_time": "2022-04-06T07:47:54.137Z"
   },
   {
    "duration": 85,
    "start_time": "2022-04-06T07:47:54.147Z"
   },
   {
    "duration": 3462792,
    "start_time": "2022-04-06T07:48:16.156Z"
   },
   {
    "duration": 3,
    "start_time": "2022-04-06T08:46:12.079Z"
   },
   {
    "duration": 248,
    "start_time": "2022-04-06T08:46:57.369Z"
   },
   {
    "duration": 172,
    "start_time": "2022-04-06T08:47:03.872Z"
   },
   {
    "duration": 198,
    "start_time": "2022-04-06T08:47:07.782Z"
   },
   {
    "duration": 190,
    "start_time": "2022-04-06T08:47:13.642Z"
   },
   {
    "duration": 200,
    "start_time": "2022-04-06T08:47:20.846Z"
   },
   {
    "duration": 351,
    "start_time": "2022-04-06T08:47:29.948Z"
   },
   {
    "duration": 321,
    "start_time": "2022-04-06T08:47:47.779Z"
   },
   {
    "duration": 393,
    "start_time": "2022-04-06T08:47:54.627Z"
   },
   {
    "duration": 255,
    "start_time": "2022-04-06T08:48:11.888Z"
   },
   {
    "duration": 262,
    "start_time": "2022-04-06T08:48:19.224Z"
   },
   {
    "duration": 370,
    "start_time": "2022-04-06T08:48:35.355Z"
   },
   {
    "duration": 187,
    "start_time": "2022-04-06T08:48:42.071Z"
   },
   {
    "duration": 306,
    "start_time": "2022-04-06T08:48:48.275Z"
   },
   {
    "duration": 185,
    "start_time": "2022-04-06T08:49:27.660Z"
   },
   {
    "duration": 4,
    "start_time": "2022-04-06T08:49:37.411Z"
   },
   {
    "duration": 265,
    "start_time": "2022-04-06T08:49:37.417Z"
   },
   {
    "duration": 78,
    "start_time": "2022-04-06T08:49:37.684Z"
   },
   {
    "duration": 345,
    "start_time": "2022-04-06T08:49:37.763Z"
   },
   {
    "duration": 3,
    "start_time": "2022-04-06T08:49:38.111Z"
   },
   {
    "duration": 11,
    "start_time": "2022-04-06T08:49:38.116Z"
   },
   {
    "duration": 15,
    "start_time": "2022-04-06T08:49:38.128Z"
   },
   {
    "duration": 42,
    "start_time": "2022-04-06T08:49:38.145Z"
   },
   {
    "duration": 90,
    "start_time": "2022-04-06T08:49:38.189Z"
   },
   {
    "duration": 176,
    "start_time": "2022-04-06T08:49:38.281Z"
   },
   {
    "duration": 157,
    "start_time": "2022-04-06T08:49:38.459Z"
   },
   {
    "duration": 51,
    "start_time": "2022-04-06T08:49:38.618Z"
   },
   {
    "duration": 3,
    "start_time": "2022-04-06T08:49:38.671Z"
   },
   {
    "duration": 950,
    "start_time": "2022-04-06T08:49:38.677Z"
   },
   {
    "duration": 854,
    "start_time": "2022-04-06T08:49:39.628Z"
   },
   {
    "duration": 323,
    "start_time": "2022-04-06T08:49:40.484Z"
   },
   {
    "duration": 255,
    "start_time": "2022-04-06T08:49:40.808Z"
   },
   {
    "duration": 10,
    "start_time": "2022-04-06T08:49:41.065Z"
   },
   {
    "duration": 234,
    "start_time": "2022-04-06T08:49:41.076Z"
   },
   {
    "duration": 5,
    "start_time": "2022-04-06T08:49:41.312Z"
   },
   {
    "duration": 14,
    "start_time": "2022-04-06T08:49:41.318Z"
   },
   {
    "duration": 7,
    "start_time": "2022-04-06T08:49:41.333Z"
   },
   {
    "duration": 534,
    "start_time": "2022-04-06T08:49:41.342Z"
   },
   {
    "duration": 392,
    "start_time": "2022-04-06T08:49:41.878Z"
   },
   {
    "duration": 4,
    "start_time": "2022-04-06T08:49:42.271Z"
   },
   {
    "duration": 6,
    "start_time": "2022-04-06T08:49:42.277Z"
   },
   {
    "duration": 22579,
    "start_time": "2022-04-06T08:49:42.285Z"
   },
   {
    "duration": 7864,
    "start_time": "2022-04-06T08:50:04.866Z"
   },
   {
    "duration": 4,
    "start_time": "2022-04-06T08:50:12.732Z"
   },
   {
    "duration": 8,
    "start_time": "2022-04-06T08:50:12.737Z"
   },
   {
    "duration": 787,
    "start_time": "2022-04-06T08:50:12.746Z"
   },
   {
    "duration": 597,
    "start_time": "2022-04-06T08:50:13.536Z"
   },
   {
    "duration": 5,
    "start_time": "2022-04-06T08:50:14.136Z"
   },
   {
    "duration": 2469,
    "start_time": "2022-04-06T19:42:56.591Z"
   },
   {
    "duration": 311,
    "start_time": "2022-04-06T19:42:59.063Z"
   },
   {
    "duration": 97,
    "start_time": "2022-04-06T19:42:59.376Z"
   },
   {
    "duration": 395,
    "start_time": "2022-04-06T19:42:59.475Z"
   },
   {
    "duration": 5,
    "start_time": "2022-04-06T19:42:59.873Z"
   },
   {
    "duration": 16,
    "start_time": "2022-04-06T19:42:59.880Z"
   },
   {
    "duration": 19,
    "start_time": "2022-04-06T19:42:59.899Z"
   },
   {
    "duration": 60,
    "start_time": "2022-04-06T19:42:59.944Z"
   },
   {
    "duration": 144,
    "start_time": "2022-04-06T19:43:00.006Z"
   },
   {
    "duration": 234,
    "start_time": "2022-04-06T19:43:00.152Z"
   },
   {
    "duration": 216,
    "start_time": "2022-04-06T19:43:00.388Z"
   },
   {
    "duration": 84,
    "start_time": "2022-04-06T19:43:00.607Z"
   },
   {
    "duration": 3,
    "start_time": "2022-04-06T19:43:00.693Z"
   },
   {
    "duration": 1302,
    "start_time": "2022-04-06T19:43:00.700Z"
   },
   {
    "duration": 1173,
    "start_time": "2022-04-06T19:43:02.005Z"
   },
   {
    "duration": 451,
    "start_time": "2022-04-06T19:43:03.180Z"
   },
   {
    "duration": 367,
    "start_time": "2022-04-06T19:43:03.633Z"
   },
   {
    "duration": 12,
    "start_time": "2022-04-06T19:43:04.003Z"
   },
   {
    "duration": 260,
    "start_time": "2022-04-06T19:43:04.016Z"
   },
   {
    "duration": 6,
    "start_time": "2022-04-06T19:43:04.278Z"
   },
   {
    "duration": 12,
    "start_time": "2022-04-06T19:43:04.286Z"
   },
   {
    "duration": 8,
    "start_time": "2022-04-06T19:43:04.300Z"
   },
   {
    "duration": 601,
    "start_time": "2022-04-06T19:43:04.310Z"
   },
   {
    "duration": 6,
    "start_time": "2022-04-06T19:43:37.996Z"
   },
   {
    "duration": 3,
    "start_time": "2022-04-06T19:43:40.465Z"
   },
   {
    "duration": 192,
    "start_time": "2022-04-06T19:43:43.527Z"
   },
   {
    "duration": 7,
    "start_time": "2022-04-06T19:44:16.459Z"
   },
   {
    "duration": 4,
    "start_time": "2022-04-06T19:44:20.195Z"
   },
   {
    "duration": 470,
    "start_time": "2022-04-06T19:44:20.949Z"
   },
   {
    "duration": 7,
    "start_time": "2022-04-06T19:44:37.568Z"
   },
   {
    "duration": 6,
    "start_time": "2022-04-06T19:44:41.318Z"
   },
   {
    "duration": 4,
    "start_time": "2022-04-06T19:44:43.237Z"
   },
   {
    "duration": 560,
    "start_time": "2022-04-06T19:44:43.699Z"
   },
   {
    "duration": 1933,
    "start_time": "2022-04-06T19:44:52.324Z"
   },
   {
    "duration": 317,
    "start_time": "2022-04-06T19:44:54.260Z"
   },
   {
    "duration": 98,
    "start_time": "2022-04-06T19:44:54.579Z"
   },
   {
    "duration": 403,
    "start_time": "2022-04-06T19:44:54.679Z"
   },
   {
    "duration": 5,
    "start_time": "2022-04-06T19:44:55.084Z"
   },
   {
    "duration": 21,
    "start_time": "2022-04-06T19:44:55.091Z"
   },
   {
    "duration": 35,
    "start_time": "2022-04-06T19:44:55.114Z"
   },
   {
    "duration": 60,
    "start_time": "2022-04-06T19:44:55.152Z"
   },
   {
    "duration": 142,
    "start_time": "2022-04-06T19:44:55.214Z"
   },
   {
    "duration": 240,
    "start_time": "2022-04-06T19:44:55.360Z"
   },
   {
    "duration": 216,
    "start_time": "2022-04-06T19:44:55.602Z"
   },
   {
    "duration": 84,
    "start_time": "2022-04-06T19:44:55.820Z"
   },
   {
    "duration": 4,
    "start_time": "2022-04-06T19:44:55.906Z"
   },
   {
    "duration": 1273,
    "start_time": "2022-04-06T19:44:55.912Z"
   },
   {
    "duration": 1357,
    "start_time": "2022-04-06T19:44:57.188Z"
   },
   {
    "duration": 508,
    "start_time": "2022-04-06T19:44:58.547Z"
   },
   {
    "duration": 359,
    "start_time": "2022-04-06T19:44:59.057Z"
   },
   {
    "duration": 25,
    "start_time": "2022-04-06T19:44:59.419Z"
   },
   {
    "duration": 258,
    "start_time": "2022-04-06T19:44:59.446Z"
   },
   {
    "duration": 5,
    "start_time": "2022-04-06T19:44:59.707Z"
   },
   {
    "duration": 16,
    "start_time": "2022-04-06T19:44:59.714Z"
   },
   {
    "duration": 12,
    "start_time": "2022-04-06T19:44:59.732Z"
   },
   {
    "duration": 567,
    "start_time": "2022-04-06T19:44:59.746Z"
   },
   {
    "duration": 496,
    "start_time": "2022-04-06T19:45:00.315Z"
   },
   {
    "duration": 7,
    "start_time": "2022-04-06T19:45:00.813Z"
   },
   {
    "duration": 23,
    "start_time": "2022-04-06T19:45:00.822Z"
   },
   {
    "duration": 27391,
    "start_time": "2022-04-06T19:45:00.847Z"
   },
   {
    "duration": 9434,
    "start_time": "2022-04-06T19:45:28.246Z"
   },
   {
    "duration": 6,
    "start_time": "2022-04-06T19:45:37.682Z"
   },
   {
    "duration": 5,
    "start_time": "2022-04-06T19:45:37.691Z"
   },
   {
    "duration": 1155,
    "start_time": "2022-04-06T19:45:37.698Z"
   },
   {
    "duration": 692,
    "start_time": "2022-04-06T19:45:38.855Z"
   },
   {
    "duration": 6,
    "start_time": "2022-04-06T19:45:39.642Z"
   }
  ],
  "kernelspec": {
   "display_name": "Python 3",
   "language": "python",
   "name": "python3"
  },
  "language_info": {
   "codemirror_mode": {
    "name": "ipython",
    "version": 3
   },
   "file_extension": ".py",
   "mimetype": "text/x-python",
   "name": "python",
   "nbconvert_exporter": "python",
   "pygments_lexer": "ipython3",
   "version": "3.8.8"
  },
  "toc": {
   "base_numbering": 1,
   "nav_menu": {},
   "number_sections": true,
   "sideBar": true,
   "skip_h1_title": true,
   "title_cell": "Содержание",
   "title_sidebar": "Contents",
   "toc_cell": true,
   "toc_position": {
    "height": "calc(100% - 180px)",
    "left": "10px",
    "top": "150px",
    "width": "331.445px"
   },
   "toc_section_display": true,
   "toc_window_display": true
  }
 },
 "nbformat": 4,
 "nbformat_minor": 2
}