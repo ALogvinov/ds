{
 "cells": [
  {
   "cell_type": "markdown",
   "metadata": {},
   "source": [
    "# Анализ истории продажи игр и выработка рекомендаций по разработке новых"
   ]
  },
  {
   "cell_type": "markdown",
   "metadata": {},
   "source": [
    "Интернет-магазин, который продаёт по всему миру компьютерные игры.  \n",
    "Из открытых источников доступны исторические данные о продажах игр, оценки пользователей и экспертов, жанры и платформы (например, Xbox или PlayStation). Нужно выявить определяющие успешность игры закономерности. Это позволит сделать ставку на потенциально популярный продукт и спланировать рекламные кампании.  "
   ]
  },
  {
   "cell_type": "code",
   "execution_count": 1,
   "metadata": {},
   "outputs": [],
   "source": [
    "import pandas as pd\n",
    "import matplotlib.pyplot as plt\n",
    "from scipy import stats as st\n",
    "import seaborn as sns"
   ]
  },
  {
   "cell_type": "markdown",
   "metadata": {},
   "source": [
    "## Загрузка данных и первичное изучение общей информации"
   ]
  },
  {
   "cell_type": "markdown",
   "metadata": {},
   "source": [
    "### Загружаем датафрейм"
   ]
  },
  {
   "cell_type": "code",
   "execution_count": 2,
   "metadata": {},
   "outputs": [
    {
     "data": {
      "text/html": [
       "<div>\n",
       "<style scoped>\n",
       "    .dataframe tbody tr th:only-of-type {\n",
       "        vertical-align: middle;\n",
       "    }\n",
       "\n",
       "    .dataframe tbody tr th {\n",
       "        vertical-align: top;\n",
       "    }\n",
       "\n",
       "    .dataframe thead th {\n",
       "        text-align: right;\n",
       "    }\n",
       "</style>\n",
       "<table border=\"1\" class=\"dataframe\">\n",
       "  <thead>\n",
       "    <tr style=\"text-align: right;\">\n",
       "      <th></th>\n",
       "      <th>Name</th>\n",
       "      <th>Platform</th>\n",
       "      <th>Year_of_Release</th>\n",
       "      <th>Genre</th>\n",
       "      <th>NA_sales</th>\n",
       "      <th>EU_sales</th>\n",
       "      <th>JP_sales</th>\n",
       "      <th>Other_sales</th>\n",
       "      <th>Critic_Score</th>\n",
       "      <th>User_Score</th>\n",
       "      <th>Rating</th>\n",
       "    </tr>\n",
       "  </thead>\n",
       "  <tbody>\n",
       "    <tr>\n",
       "      <td>0</td>\n",
       "      <td>Wii Sports</td>\n",
       "      <td>Wii</td>\n",
       "      <td>2006.0</td>\n",
       "      <td>Sports</td>\n",
       "      <td>41.36</td>\n",
       "      <td>28.96</td>\n",
       "      <td>3.77</td>\n",
       "      <td>8.45</td>\n",
       "      <td>76.0</td>\n",
       "      <td>8</td>\n",
       "      <td>E</td>\n",
       "    </tr>\n",
       "    <tr>\n",
       "      <td>1</td>\n",
       "      <td>Super Mario Bros.</td>\n",
       "      <td>NES</td>\n",
       "      <td>1985.0</td>\n",
       "      <td>Platform</td>\n",
       "      <td>29.08</td>\n",
       "      <td>3.58</td>\n",
       "      <td>6.81</td>\n",
       "      <td>0.77</td>\n",
       "      <td>NaN</td>\n",
       "      <td>NaN</td>\n",
       "      <td>NaN</td>\n",
       "    </tr>\n",
       "    <tr>\n",
       "      <td>2</td>\n",
       "      <td>Mario Kart Wii</td>\n",
       "      <td>Wii</td>\n",
       "      <td>2008.0</td>\n",
       "      <td>Racing</td>\n",
       "      <td>15.68</td>\n",
       "      <td>12.76</td>\n",
       "      <td>3.79</td>\n",
       "      <td>3.29</td>\n",
       "      <td>82.0</td>\n",
       "      <td>8.3</td>\n",
       "      <td>E</td>\n",
       "    </tr>\n",
       "    <tr>\n",
       "      <td>3</td>\n",
       "      <td>Wii Sports Resort</td>\n",
       "      <td>Wii</td>\n",
       "      <td>2009.0</td>\n",
       "      <td>Sports</td>\n",
       "      <td>15.61</td>\n",
       "      <td>10.93</td>\n",
       "      <td>3.28</td>\n",
       "      <td>2.95</td>\n",
       "      <td>80.0</td>\n",
       "      <td>8</td>\n",
       "      <td>E</td>\n",
       "    </tr>\n",
       "    <tr>\n",
       "      <td>4</td>\n",
       "      <td>Pokemon Red/Pokemon Blue</td>\n",
       "      <td>GB</td>\n",
       "      <td>1996.0</td>\n",
       "      <td>Role-Playing</td>\n",
       "      <td>11.27</td>\n",
       "      <td>8.89</td>\n",
       "      <td>10.22</td>\n",
       "      <td>1.00</td>\n",
       "      <td>NaN</td>\n",
       "      <td>NaN</td>\n",
       "      <td>NaN</td>\n",
       "    </tr>\n",
       "  </tbody>\n",
       "</table>\n",
       "</div>"
      ],
      "text/plain": [
       "                       Name Platform  Year_of_Release         Genre  NA_sales  \\\n",
       "0                Wii Sports      Wii           2006.0        Sports     41.36   \n",
       "1         Super Mario Bros.      NES           1985.0      Platform     29.08   \n",
       "2            Mario Kart Wii      Wii           2008.0        Racing     15.68   \n",
       "3         Wii Sports Resort      Wii           2009.0        Sports     15.61   \n",
       "4  Pokemon Red/Pokemon Blue       GB           1996.0  Role-Playing     11.27   \n",
       "\n",
       "   EU_sales  JP_sales  Other_sales  Critic_Score User_Score Rating  \n",
       "0     28.96      3.77         8.45          76.0          8      E  \n",
       "1      3.58      6.81         0.77           NaN        NaN    NaN  \n",
       "2     12.76      3.79         3.29          82.0        8.3      E  \n",
       "3     10.93      3.28         2.95          80.0          8      E  \n",
       "4      8.89     10.22         1.00           NaN        NaN    NaN  "
      ]
     },
     "execution_count": 2,
     "metadata": {},
     "output_type": "execute_result"
    }
   ],
   "source": [
    "df = pd.read_csv('/datasets/games.csv')\n",
    "df.head()"
   ]
  },
  {
   "cell_type": "markdown",
   "metadata": {},
   "source": [
    "### Просмотр общей информации"
   ]
  },
  {
   "cell_type": "code",
   "execution_count": 3,
   "metadata": {},
   "outputs": [
    {
     "name": "stdout",
     "output_type": "stream",
     "text": [
      "<class 'pandas.core.frame.DataFrame'>\n",
      "RangeIndex: 16715 entries, 0 to 16714\n",
      "Data columns (total 11 columns):\n",
      "Name               16713 non-null object\n",
      "Platform           16715 non-null object\n",
      "Year_of_Release    16446 non-null float64\n",
      "Genre              16713 non-null object\n",
      "NA_sales           16715 non-null float64\n",
      "EU_sales           16715 non-null float64\n",
      "JP_sales           16715 non-null float64\n",
      "Other_sales        16715 non-null float64\n",
      "Critic_Score       8137 non-null float64\n",
      "User_Score         10014 non-null object\n",
      "Rating             9949 non-null object\n",
      "dtypes: float64(6), object(5)\n",
      "memory usage: 1.4+ MB\n"
     ]
    }
   ],
   "source": [
    "df.info()"
   ]
  },
  {
   "cell_type": "markdown",
   "metadata": {},
   "source": [
    "#### Название игры"
   ]
  },
  {
   "cell_type": "code",
   "execution_count": 4,
   "metadata": {},
   "outputs": [
    {
     "name": "stdout",
     "output_type": "stream",
     "text": [
      "Всего пропусков:  2\n"
     ]
    }
   ],
   "source": [
    "# Просмотр пропусков\n",
    "print('Всего пропусков: ', len(df[df['Name'].isnull()]))"
   ]
  },
  {
   "cell_type": "markdown",
   "metadata": {},
   "source": [
    "*   Нужно привести название поля к правилу нейминга\n",
    "*   Удалить пустые значения"
   ]
  },
  {
   "cell_type": "markdown",
   "metadata": {},
   "source": [
    "#### Платформа"
   ]
  },
  {
   "cell_type": "code",
   "execution_count": 5,
   "metadata": {},
   "outputs": [
    {
     "data": {
      "text/plain": [
       "array(['Wii', 'NES', 'GB', 'DS', 'X360', 'PS3', 'PS2', 'SNES', 'GBA',\n",
       "       'PS4', '3DS', 'N64', 'PS', 'XB', 'PC', '2600', 'PSP', 'XOne',\n",
       "       'WiiU', 'GC', 'GEN', 'DC', 'PSV', 'SAT', 'SCD', 'WS', 'NG', 'TG16',\n",
       "       '3DO', 'GG', 'PCFX'], dtype=object)"
      ]
     },
     "execution_count": 5,
     "metadata": {},
     "output_type": "execute_result"
    }
   ],
   "source": [
    "df['Platform'].unique()"
   ]
  },
  {
   "cell_type": "markdown",
   "metadata": {},
   "source": [
    "* Нужно привести название поля к правилу нейминга"
   ]
  },
  {
   "cell_type": "markdown",
   "metadata": {},
   "source": [
    "#### Год выпуска"
   ]
  },
  {
   "cell_type": "code",
   "execution_count": 6,
   "metadata": {},
   "outputs": [
    {
     "data": {
      "text/plain": [
       "array([2006., 1985., 2008., 2009., 1996., 1989., 1984., 2005., 1999.,\n",
       "       2007., 2010., 2013., 2004., 1990., 1988., 2002., 2001., 2011.,\n",
       "       1998., 2015., 2012., 2014., 1992., 1997., 1993., 1994., 1982.,\n",
       "       2016., 2003., 1986., 2000.,   nan, 1995., 1991., 1981., 1987.,\n",
       "       1980., 1983.])"
      ]
     },
     "execution_count": 6,
     "metadata": {},
     "output_type": "execute_result"
    }
   ],
   "source": [
    "df['Year_of_Release'].unique()"
   ]
  },
  {
   "cell_type": "code",
   "execution_count": 7,
   "metadata": {},
   "outputs": [
    {
     "name": "stdout",
     "output_type": "stream",
     "text": [
      "Всего пропусков:  269\n"
     ]
    }
   ],
   "source": [
    "print('Всего пропусков: ', len(df[df['Year_of_Release'].isnull()]))"
   ]
  },
  {
   "cell_type": "markdown",
   "metadata": {},
   "source": [
    "* Нужно привести название поля к правилу нейминга\n",
    "* Разобраться с пустыми значениями\n",
    "* Привести к типу int"
   ]
  },
  {
   "cell_type": "markdown",
   "metadata": {},
   "source": [
    "#### Жанр игры"
   ]
  },
  {
   "cell_type": "code",
   "execution_count": 8,
   "metadata": {},
   "outputs": [
    {
     "data": {
      "text/plain": [
       "array(['Sports', 'Platform', 'Racing', 'Role-Playing', 'Puzzle', 'Misc',\n",
       "       'Shooter', 'Simulation', 'Action', 'Fighting', 'Adventure',\n",
       "       'Strategy', nan], dtype=object)"
      ]
     },
     "execution_count": 8,
     "metadata": {},
     "output_type": "execute_result"
    }
   ],
   "source": [
    "df['Genre'].unique()"
   ]
  },
  {
   "cell_type": "code",
   "execution_count": 9,
   "metadata": {},
   "outputs": [
    {
     "name": "stdout",
     "output_type": "stream",
     "text": [
      "Всего пропусков:  2\n"
     ]
    }
   ],
   "source": [
    "print('Всего пропусков: ', len(df[df['Genre'].isnull()]))"
   ]
  },
  {
   "cell_type": "markdown",
   "metadata": {},
   "source": [
    "* Нужно привести название поля к правилу нейминга\n",
    "* Разобраться с пустыми значениями"
   ]
  },
  {
   "cell_type": "markdown",
   "metadata": {},
   "source": [
    "#### Продажи в северной америке (млн копий)"
   ]
  },
  {
   "cell_type": "code",
   "execution_count": 10,
   "metadata": {},
   "outputs": [
    {
     "data": {
      "text/plain": [
       "count    16715.000000\n",
       "mean         0.263377\n",
       "std          0.813604\n",
       "min          0.000000\n",
       "25%          0.000000\n",
       "50%          0.080000\n",
       "75%          0.240000\n",
       "max         41.360000\n",
       "Name: NA_sales, dtype: float64"
      ]
     },
     "execution_count": 10,
     "metadata": {},
     "output_type": "execute_result"
    }
   ],
   "source": [
    "df['NA_sales'].describe()"
   ]
  },
  {
   "cell_type": "markdown",
   "metadata": {},
   "source": [
    "* Нужно привести название поля к правилу нейминга"
   ]
  },
  {
   "cell_type": "markdown",
   "metadata": {},
   "source": [
    "#### Продажи в Европе (млн копий)"
   ]
  },
  {
   "cell_type": "code",
   "execution_count": 11,
   "metadata": {},
   "outputs": [
    {
     "data": {
      "text/plain": [
       "count    16715.000000\n",
       "mean         0.145060\n",
       "std          0.503339\n",
       "min          0.000000\n",
       "25%          0.000000\n",
       "50%          0.020000\n",
       "75%          0.110000\n",
       "max         28.960000\n",
       "Name: EU_sales, dtype: float64"
      ]
     },
     "execution_count": 11,
     "metadata": {},
     "output_type": "execute_result"
    }
   ],
   "source": [
    "df['EU_sales'].describe()"
   ]
  },
  {
   "cell_type": "markdown",
   "metadata": {},
   "source": [
    "* Нужно привести название поля к правилу нейминга"
   ]
  },
  {
   "cell_type": "markdown",
   "metadata": {},
   "source": [
    "#### Продажи в Японии (млн копий)"
   ]
  },
  {
   "cell_type": "code",
   "execution_count": 12,
   "metadata": {},
   "outputs": [
    {
     "data": {
      "text/plain": [
       "count    16715.000000\n",
       "mean         0.077617\n",
       "std          0.308853\n",
       "min          0.000000\n",
       "25%          0.000000\n",
       "50%          0.000000\n",
       "75%          0.040000\n",
       "max         10.220000\n",
       "Name: JP_sales, dtype: float64"
      ]
     },
     "execution_count": 12,
     "metadata": {},
     "output_type": "execute_result"
    }
   ],
   "source": [
    "df['JP_sales'].describe()"
   ]
  },
  {
   "cell_type": "markdown",
   "metadata": {},
   "source": [
    "* Нужно привести название поля к правилу нейминга"
   ]
  },
  {
   "cell_type": "markdown",
   "metadata": {},
   "source": [
    "#### Продажи в др.странах"
   ]
  },
  {
   "cell_type": "code",
   "execution_count": 13,
   "metadata": {},
   "outputs": [
    {
     "data": {
      "text/plain": [
       "count    16715.000000\n",
       "mean         0.047342\n",
       "std          0.186731\n",
       "min          0.000000\n",
       "25%          0.000000\n",
       "50%          0.010000\n",
       "75%          0.030000\n",
       "max         10.570000\n",
       "Name: Other_sales, dtype: float64"
      ]
     },
     "execution_count": 13,
     "metadata": {},
     "output_type": "execute_result"
    }
   ],
   "source": [
    "df['Other_sales'].describe()"
   ]
  },
  {
   "cell_type": "markdown",
   "metadata": {},
   "source": [
    "* Нужно привести название поля к правилу нейминга"
   ]
  },
  {
   "cell_type": "markdown",
   "metadata": {},
   "source": [
    "#### Оценка критиков (максимум 100)"
   ]
  },
  {
   "cell_type": "code",
   "execution_count": 14,
   "metadata": {},
   "outputs": [
    {
     "data": {
      "text/plain": [
       "array([76., nan, 82., 80., 89., 58., 87., 91., 61., 97., 95., 77., 88.,\n",
       "       83., 94., 93., 85., 86., 98., 96., 90., 84., 73., 74., 78., 92.,\n",
       "       71., 72., 68., 62., 49., 67., 81., 66., 56., 79., 70., 59., 64.,\n",
       "       75., 60., 63., 69., 50., 25., 42., 44., 55., 48., 57., 29., 47.,\n",
       "       65., 54., 20., 53., 37., 38., 33., 52., 30., 32., 43., 45., 51.,\n",
       "       40., 46., 39., 34., 35., 41., 36., 28., 31., 27., 26., 19., 23.,\n",
       "       24., 21., 17., 22., 13.])"
      ]
     },
     "execution_count": 14,
     "metadata": {},
     "output_type": "execute_result"
    }
   ],
   "source": [
    "df['Critic_Score'].unique()"
   ]
  },
  {
   "cell_type": "code",
   "execution_count": 15,
   "metadata": {
    "scrolled": true
   },
   "outputs": [
    {
     "name": "stdout",
     "output_type": "stream",
     "text": [
      "Всего пропусков:  8578\n"
     ]
    }
   ],
   "source": [
    "print('Всего пропусков: ', len(df[df['Critic_Score'].isnull()]))"
   ]
  },
  {
   "cell_type": "markdown",
   "metadata": {},
   "source": [
    "* Нужно привести название поля к правилу нейминга\n",
    "* Разобраться с пропусками"
   ]
  },
  {
   "cell_type": "markdown",
   "metadata": {},
   "source": [
    "####  Оценка пользователей (максимум 10)"
   ]
  },
  {
   "cell_type": "code",
   "execution_count": 16,
   "metadata": {},
   "outputs": [
    {
     "data": {
      "text/plain": [
       "array(['8', nan, '8.3', '8.5', '6.6', '8.4', '8.6', '7.7', '6.3', '7.4',\n",
       "       '8.2', '9', '7.9', '8.1', '8.7', '7.1', '3.4', '5.3', '4.8', '3.2',\n",
       "       '8.9', '6.4', '7.8', '7.5', '2.6', '7.2', '9.2', '7', '7.3', '4.3',\n",
       "       '7.6', '5.7', '5', '9.1', '6.5', 'tbd', '8.8', '6.9', '9.4', '6.8',\n",
       "       '6.1', '6.7', '5.4', '4', '4.9', '4.5', '9.3', '6.2', '4.2', '6',\n",
       "       '3.7', '4.1', '5.8', '5.6', '5.5', '4.4', '4.6', '5.9', '3.9',\n",
       "       '3.1', '2.9', '5.2', '3.3', '4.7', '5.1', '3.5', '2.5', '1.9', '3',\n",
       "       '2.7', '2.2', '2', '9.5', '2.1', '3.6', '2.8', '1.8', '3.8', '0',\n",
       "       '1.6', '9.6', '2.4', '1.7', '1.1', '0.3', '1.5', '0.7', '1.2',\n",
       "       '2.3', '0.5', '1.3', '0.2', '0.6', '1.4', '0.9', '1', '9.7'],\n",
       "      dtype=object)"
      ]
     },
     "execution_count": 16,
     "metadata": {},
     "output_type": "execute_result"
    }
   ],
   "source": [
    "df['User_Score'].unique()"
   ]
  },
  {
   "cell_type": "code",
   "execution_count": 17,
   "metadata": {
    "scrolled": false
   },
   "outputs": [
    {
     "name": "stdout",
     "output_type": "stream",
     "text": [
      "Всего пропусков:  6701\n"
     ]
    }
   ],
   "source": [
    "print('Всего пропусков: ', len(df[df['User_Score'].isnull()]))"
   ]
  },
  {
   "cell_type": "code",
   "execution_count": 18,
   "metadata": {},
   "outputs": [
    {
     "data": {
      "text/html": [
       "<div>\n",
       "<style scoped>\n",
       "    .dataframe tbody tr th:only-of-type {\n",
       "        vertical-align: middle;\n",
       "    }\n",
       "\n",
       "    .dataframe tbody tr th {\n",
       "        vertical-align: top;\n",
       "    }\n",
       "\n",
       "    .dataframe thead th {\n",
       "        text-align: right;\n",
       "    }\n",
       "</style>\n",
       "<table border=\"1\" class=\"dataframe\">\n",
       "  <thead>\n",
       "    <tr style=\"text-align: right;\">\n",
       "      <th></th>\n",
       "      <th>Name</th>\n",
       "      <th>Platform</th>\n",
       "      <th>Year_of_Release</th>\n",
       "      <th>Genre</th>\n",
       "      <th>NA_sales</th>\n",
       "      <th>EU_sales</th>\n",
       "      <th>JP_sales</th>\n",
       "      <th>Other_sales</th>\n",
       "      <th>Critic_Score</th>\n",
       "      <th>User_Score</th>\n",
       "      <th>Rating</th>\n",
       "    </tr>\n",
       "  </thead>\n",
       "  <tbody>\n",
       "    <tr>\n",
       "      <td>119</td>\n",
       "      <td>Zumba Fitness</td>\n",
       "      <td>Wii</td>\n",
       "      <td>2010.0</td>\n",
       "      <td>Sports</td>\n",
       "      <td>3.45</td>\n",
       "      <td>2.59</td>\n",
       "      <td>0.0</td>\n",
       "      <td>0.66</td>\n",
       "      <td>NaN</td>\n",
       "      <td>tbd</td>\n",
       "      <td>E</td>\n",
       "    </tr>\n",
       "    <tr>\n",
       "      <td>301</td>\n",
       "      <td>Namco Museum: 50th Anniversary</td>\n",
       "      <td>PS2</td>\n",
       "      <td>2005.0</td>\n",
       "      <td>Misc</td>\n",
       "      <td>2.08</td>\n",
       "      <td>1.35</td>\n",
       "      <td>0.0</td>\n",
       "      <td>0.54</td>\n",
       "      <td>61.0</td>\n",
       "      <td>tbd</td>\n",
       "      <td>E10+</td>\n",
       "    </tr>\n",
       "    <tr>\n",
       "      <td>520</td>\n",
       "      <td>Zumba Fitness 2</td>\n",
       "      <td>Wii</td>\n",
       "      <td>2011.0</td>\n",
       "      <td>Sports</td>\n",
       "      <td>1.51</td>\n",
       "      <td>1.03</td>\n",
       "      <td>0.0</td>\n",
       "      <td>0.27</td>\n",
       "      <td>NaN</td>\n",
       "      <td>tbd</td>\n",
       "      <td>T</td>\n",
       "    </tr>\n",
       "    <tr>\n",
       "      <td>645</td>\n",
       "      <td>uDraw Studio</td>\n",
       "      <td>Wii</td>\n",
       "      <td>2010.0</td>\n",
       "      <td>Misc</td>\n",
       "      <td>1.65</td>\n",
       "      <td>0.57</td>\n",
       "      <td>0.0</td>\n",
       "      <td>0.20</td>\n",
       "      <td>71.0</td>\n",
       "      <td>tbd</td>\n",
       "      <td>E</td>\n",
       "    </tr>\n",
       "    <tr>\n",
       "      <td>657</td>\n",
       "      <td>Frogger's Adventures: Temple of the Frog</td>\n",
       "      <td>GBA</td>\n",
       "      <td>NaN</td>\n",
       "      <td>Adventure</td>\n",
       "      <td>2.15</td>\n",
       "      <td>0.18</td>\n",
       "      <td>0.0</td>\n",
       "      <td>0.07</td>\n",
       "      <td>73.0</td>\n",
       "      <td>tbd</td>\n",
       "      <td>E</td>\n",
       "    </tr>\n",
       "    <tr>\n",
       "      <td>...</td>\n",
       "      <td>...</td>\n",
       "      <td>...</td>\n",
       "      <td>...</td>\n",
       "      <td>...</td>\n",
       "      <td>...</td>\n",
       "      <td>...</td>\n",
       "      <td>...</td>\n",
       "      <td>...</td>\n",
       "      <td>...</td>\n",
       "      <td>...</td>\n",
       "      <td>...</td>\n",
       "    </tr>\n",
       "    <tr>\n",
       "      <td>16695</td>\n",
       "      <td>Planet Monsters</td>\n",
       "      <td>GBA</td>\n",
       "      <td>2001.0</td>\n",
       "      <td>Action</td>\n",
       "      <td>0.01</td>\n",
       "      <td>0.00</td>\n",
       "      <td>0.0</td>\n",
       "      <td>0.00</td>\n",
       "      <td>67.0</td>\n",
       "      <td>tbd</td>\n",
       "      <td>E</td>\n",
       "    </tr>\n",
       "    <tr>\n",
       "      <td>16697</td>\n",
       "      <td>Bust-A-Move 3000</td>\n",
       "      <td>GC</td>\n",
       "      <td>2003.0</td>\n",
       "      <td>Puzzle</td>\n",
       "      <td>0.01</td>\n",
       "      <td>0.00</td>\n",
       "      <td>0.0</td>\n",
       "      <td>0.00</td>\n",
       "      <td>53.0</td>\n",
       "      <td>tbd</td>\n",
       "      <td>E</td>\n",
       "    </tr>\n",
       "    <tr>\n",
       "      <td>16698</td>\n",
       "      <td>Mega Brain Boost</td>\n",
       "      <td>DS</td>\n",
       "      <td>2008.0</td>\n",
       "      <td>Puzzle</td>\n",
       "      <td>0.01</td>\n",
       "      <td>0.00</td>\n",
       "      <td>0.0</td>\n",
       "      <td>0.00</td>\n",
       "      <td>48.0</td>\n",
       "      <td>tbd</td>\n",
       "      <td>E</td>\n",
       "    </tr>\n",
       "    <tr>\n",
       "      <td>16704</td>\n",
       "      <td>Plushees</td>\n",
       "      <td>DS</td>\n",
       "      <td>2008.0</td>\n",
       "      <td>Simulation</td>\n",
       "      <td>0.01</td>\n",
       "      <td>0.00</td>\n",
       "      <td>0.0</td>\n",
       "      <td>0.00</td>\n",
       "      <td>NaN</td>\n",
       "      <td>tbd</td>\n",
       "      <td>E</td>\n",
       "    </tr>\n",
       "    <tr>\n",
       "      <td>16706</td>\n",
       "      <td>Men in Black II: Alien Escape</td>\n",
       "      <td>GC</td>\n",
       "      <td>2003.0</td>\n",
       "      <td>Shooter</td>\n",
       "      <td>0.01</td>\n",
       "      <td>0.00</td>\n",
       "      <td>0.0</td>\n",
       "      <td>0.00</td>\n",
       "      <td>NaN</td>\n",
       "      <td>tbd</td>\n",
       "      <td>T</td>\n",
       "    </tr>\n",
       "  </tbody>\n",
       "</table>\n",
       "<p>2424 rows × 11 columns</p>\n",
       "</div>"
      ],
      "text/plain": [
       "                                           Name Platform  Year_of_Release  \\\n",
       "119                               Zumba Fitness      Wii           2010.0   \n",
       "301              Namco Museum: 50th Anniversary      PS2           2005.0   \n",
       "520                             Zumba Fitness 2      Wii           2011.0   \n",
       "645                                uDraw Studio      Wii           2010.0   \n",
       "657    Frogger's Adventures: Temple of the Frog      GBA              NaN   \n",
       "...                                         ...      ...              ...   \n",
       "16695                           Planet Monsters      GBA           2001.0   \n",
       "16697                          Bust-A-Move 3000       GC           2003.0   \n",
       "16698                          Mega Brain Boost       DS           2008.0   \n",
       "16704                                  Plushees       DS           2008.0   \n",
       "16706             Men in Black II: Alien Escape       GC           2003.0   \n",
       "\n",
       "            Genre  NA_sales  EU_sales  JP_sales  Other_sales  Critic_Score  \\\n",
       "119        Sports      3.45      2.59       0.0         0.66           NaN   \n",
       "301          Misc      2.08      1.35       0.0         0.54          61.0   \n",
       "520        Sports      1.51      1.03       0.0         0.27           NaN   \n",
       "645          Misc      1.65      0.57       0.0         0.20          71.0   \n",
       "657     Adventure      2.15      0.18       0.0         0.07          73.0   \n",
       "...           ...       ...       ...       ...          ...           ...   \n",
       "16695      Action      0.01      0.00       0.0         0.00          67.0   \n",
       "16697      Puzzle      0.01      0.00       0.0         0.00          53.0   \n",
       "16698      Puzzle      0.01      0.00       0.0         0.00          48.0   \n",
       "16704  Simulation      0.01      0.00       0.0         0.00           NaN   \n",
       "16706     Shooter      0.01      0.00       0.0         0.00           NaN   \n",
       "\n",
       "      User_Score Rating  \n",
       "119          tbd      E  \n",
       "301          tbd   E10+  \n",
       "520          tbd      T  \n",
       "645          tbd      E  \n",
       "657          tbd      E  \n",
       "...          ...    ...  \n",
       "16695        tbd      E  \n",
       "16697        tbd      E  \n",
       "16698        tbd      E  \n",
       "16704        tbd      E  \n",
       "16706        tbd      T  \n",
       "\n",
       "[2424 rows x 11 columns]"
      ]
     },
     "execution_count": 18,
     "metadata": {},
     "output_type": "execute_result"
    }
   ],
   "source": [
    "# Анализ значения tbd (подлежит уточнению)\n",
    "df.query('User_Score == \"tbd\"')"
   ]
  },
  {
   "cell_type": "markdown",
   "metadata": {},
   "source": [
    "* Нужно привести название поля к правилу нейминга\n",
    "* Разобраться с пропусками\n",
    "* Разобраться с tbd (требует уточнение)"
   ]
  },
  {
   "cell_type": "markdown",
   "metadata": {},
   "source": [
    "#### Рейтинг от организации ESRB (возврастная категория)"
   ]
  },
  {
   "cell_type": "code",
   "execution_count": 19,
   "metadata": {},
   "outputs": [
    {
     "data": {
      "text/plain": [
       "array(['E', nan, 'M', 'T', 'E10+', 'K-A', 'AO', 'EC', 'RP'], dtype=object)"
      ]
     },
     "execution_count": 19,
     "metadata": {},
     "output_type": "execute_result"
    }
   ],
   "source": [
    "df['Rating'].unique()"
   ]
  },
  {
   "cell_type": "code",
   "execution_count": 20,
   "metadata": {},
   "outputs": [
    {
     "name": "stdout",
     "output_type": "stream",
     "text": [
      "Всего пропусков:  6766\n"
     ]
    }
   ],
   "source": [
    "print('Всего пропусков: ', len(df[df['Rating'].isnull()]))"
   ]
  },
  {
   "cell_type": "markdown",
   "metadata": {},
   "source": [
    "* Нужно привести название поля к правилу нейминга\n",
    "* Разобраться с пропусками"
   ]
  },
  {
   "cell_type": "markdown",
   "metadata": {},
   "source": [
    "## Подготовка данных\n",
    "\n"
   ]
  },
  {
   "cell_type": "markdown",
   "metadata": {},
   "source": [
    "### Приводим названия полей к правилу нейминга"
   ]
  },
  {
   "cell_type": "code",
   "execution_count": 21,
   "metadata": {},
   "outputs": [
    {
     "data": {
      "text/plain": [
       "Index(['name', 'platform', 'year_of_release', 'genre', 'na_sales', 'eu_sales',\n",
       "       'jp_sales', 'other_sales', 'critic_score', 'user_score', 'rating'],\n",
       "      dtype='object')"
      ]
     },
     "execution_count": 21,
     "metadata": {},
     "output_type": "execute_result"
    }
   ],
   "source": [
    "# Переименование всех колонок в нижний регистр\n",
    "df.rename(columns=dict([(col, col.lower()) for col in df.columns]), inplace=True)\n",
    "df.columns"
   ]
  },
  {
   "cell_type": "markdown",
   "metadata": {},
   "source": [
    "### Обрабатываем пропуски и значения"
   ]
  },
  {
   "cell_type": "code",
   "execution_count": 22,
   "metadata": {},
   "outputs": [
    {
     "name": "stdout",
     "output_type": "stream",
     "text": [
      "Всего пропусков:  0\n"
     ]
    }
   ],
   "source": [
    "# Удаляем пропуски названия игры (мало значений, не влияют на результат)\n",
    "df = df.dropna(subset=['name']).reset_index(drop=True)\n",
    "print('Всего пропусков: ', len(df[df['name'].isnull()]))"
   ]
  },
  {
   "cell_type": "code",
   "execution_count": 23,
   "metadata": {},
   "outputs": [
    {
     "name": "stdout",
     "output_type": "stream",
     "text": [
      "Всего пропусков:  0\n"
     ]
    }
   ],
   "source": [
    "# Удаляем пропуски года выпуска (мало значений, не влияют на результат)\n",
    "df = df.dropna(subset=['year_of_release']).reset_index(drop=True)\n",
    "print('Всего пропусков: ', len(df[df['year_of_release'].isnull()]))"
   ]
  },
  {
   "cell_type": "code",
   "execution_count": 24,
   "metadata": {},
   "outputs": [
    {
     "name": "stdout",
     "output_type": "stream",
     "text": [
      "Всего пропусков:  0\n"
     ]
    }
   ],
   "source": [
    "# Пустые значения жанра заполняем текстовым значением \"Unknown\"\n",
    "df['genre'] = df['genre'].fillna('Unknown')\n",
    "print('Всего пропусков: ', len(df[df['genre'].isnull()]))"
   ]
  },
  {
   "cell_type": "code",
   "execution_count": 25,
   "metadata": {},
   "outputs": [
    {
     "name": "stdout",
     "output_type": "stream",
     "text": [
      "Всего пропусков:  8461\n"
     ]
    }
   ],
   "source": [
    "# Оставляем пустые значеия для оценки критиков (большое количество, удалять нельзя, подменять - некорректно)\n",
    "print('Всего пропусков: ', len(df[df['critic_score'].isnull()]))"
   ]
  },
  {
   "cell_type": "code",
   "execution_count": 26,
   "metadata": {},
   "outputs": [
    {
     "data": {
      "text/plain": [
       "16444"
      ]
     },
     "execution_count": 26,
     "metadata": {},
     "output_type": "execute_result"
    }
   ],
   "source": [
    "len(df)"
   ]
  },
  {
   "cell_type": "code",
   "execution_count": 27,
   "metadata": {},
   "outputs": [
    {
     "name": "stdout",
     "output_type": "stream",
     "text": [
      "<class 'pandas.core.frame.DataFrame'>\n",
      "RangeIndex: 16444 entries, 0 to 16443\n",
      "Data columns (total 11 columns):\n",
      "name               16444 non-null object\n",
      "platform           16444 non-null object\n",
      "year_of_release    16444 non-null float64\n",
      "genre              16444 non-null object\n",
      "na_sales           16444 non-null float64\n",
      "eu_sales           16444 non-null float64\n",
      "jp_sales           16444 non-null float64\n",
      "other_sales        16444 non-null float64\n",
      "critic_score       7983 non-null float64\n",
      "user_score         9839 non-null object\n",
      "rating             9768 non-null object\n",
      "dtypes: float64(6), object(5)\n",
      "memory usage: 1.4+ MB\n"
     ]
    }
   ],
   "source": [
    "df.info()"
   ]
  },
  {
   "cell_type": "code",
   "execution_count": 28,
   "metadata": {},
   "outputs": [
    {
     "name": "stdout",
     "output_type": "stream",
     "text": [
      "Всего пропусков:  6605\n"
     ]
    }
   ],
   "source": [
    "# Пустые оценки пользователей оставляем пустыми\n",
    "print('Всего пропусков: ', len(df[df['user_score'].isnull()]))"
   ]
  },
  {
   "cell_type": "code",
   "execution_count": 29,
   "metadata": {},
   "outputs": [
    {
     "name": "stdout",
     "output_type": "stream",
     "text": [
      "Всего с tbd значениями:  0\n",
      "Всего пропусков:  8981\n"
     ]
    }
   ],
   "source": [
    "# Заменяем значения tbd (подлежит уточнению) на None (не определен)\n",
    "df.loc[df.user_score =='tbd', 'user_score'] = None\n",
    "print('Всего с tbd значениями: ', len(df[df.user_score == \"tbd\"]))\n",
    "print('Всего пропусков: ', len(df[df['user_score'].isnull()]))"
   ]
  },
  {
   "cell_type": "code",
   "execution_count": 30,
   "metadata": {
    "scrolled": true
   },
   "outputs": [
    {
     "name": "stdout",
     "output_type": "stream",
     "text": [
      "Всего пропусков:  6676\n"
     ]
    }
   ],
   "source": [
    "# Пустые оценки критиков заменяем на unkonwn\n",
    "df['rating'] = df['rating'].fillna('Unknown')\n",
    "print('Всего пропусков: ', len(df[df['rating'] == 'Unknown']))"
   ]
  },
  {
   "cell_type": "markdown",
   "metadata": {},
   "source": [
    "### Преобразуем данные в нужные типы"
   ]
  },
  {
   "cell_type": "code",
   "execution_count": 31,
   "metadata": {},
   "outputs": [],
   "source": [
    "# Приводим к типу int год релиза\n",
    "df['year_of_release'] = df['year_of_release'].astype('int')"
   ]
  },
  {
   "cell_type": "code",
   "execution_count": 32,
   "metadata": {},
   "outputs": [],
   "source": [
    "# Приводим пользовательские оценки к нужному типу\n",
    "df['user_score'] = df['user_score'].astype('float')"
   ]
  },
  {
   "cell_type": "markdown",
   "metadata": {},
   "source": [
    "### Расчеты\n"
   ]
  },
  {
   "cell_type": "code",
   "execution_count": 33,
   "metadata": {},
   "outputs": [
    {
     "data": {
      "text/plain": [
       "8814.369999999999"
      ]
     },
     "execution_count": 33,
     "metadata": {},
     "output_type": "execute_result"
    }
   ],
   "source": [
    "# Столбец суммарных продаж по всем регионам\n",
    "df['total_sales'] = df.na_sales + df.eu_sales + df.jp_sales + df.other_sales\n",
    "df['total_sales'].sum()"
   ]
  },
  {
   "cell_type": "markdown",
   "metadata": {},
   "source": [
    "## EDA"
   ]
  },
  {
   "cell_type": "markdown",
   "metadata": {},
   "source": [
    "### Суммарные продажи по регионам"
   ]
  },
  {
   "cell_type": "code",
   "execution_count": 34,
   "metadata": {
    "scrolled": true
   },
   "outputs": [
    {
     "data": {
      "image/png": "[encoded data removed]",
      "text/plain": [
       "<Figure size 432x288 with 1 Axes>"
      ]
     },
     "metadata": {
      "needs_background": "light"
     },
     "output_type": "display_data"
    }
   ],
   "source": [
    "reg_columns = ['na_sales', 'eu_sales', 'jp_sales']\n",
    "\n",
    "region_sales = pd.DataFrame([], columns = ['region', 'sales'])\n",
    "for col in reg_columns:\n",
    "    region_sales = region_sales.append({'region': col, 'sales': df[col].sum()}, ignore_index = True)\n",
    "region_sales.index = region_sales.region\n",
    "region_sales.drop(columns = ['region'], inplace = True)\n",
    "region_sales.plot.bar(title='Суммарные продажи по регионам');"
   ]
  },
  {
   "cell_type": "code",
   "execution_count": 35,
   "metadata": {},
   "outputs": [
    {
     "data": {
      "text/html": [
       "<div>\n",
       "<style scoped>\n",
       "    .dataframe tbody tr th:only-of-type {\n",
       "        vertical-align: middle;\n",
       "    }\n",
       "\n",
       "    .dataframe tbody tr th {\n",
       "        vertical-align: top;\n",
       "    }\n",
       "\n",
       "    .dataframe thead th {\n",
       "        text-align: right;\n",
       "    }\n",
       "</style>\n",
       "<table border=\"1\" class=\"dataframe\">\n",
       "  <thead>\n",
       "    <tr style=\"text-align: right;\">\n",
       "      <th></th>\n",
       "      <th>sales</th>\n",
       "    </tr>\n",
       "    <tr>\n",
       "      <th>region</th>\n",
       "      <th></th>\n",
       "    </tr>\n",
       "  </thead>\n",
       "  <tbody>\n",
       "    <tr>\n",
       "      <td>na_sales</td>\n",
       "      <td>4341.42</td>\n",
       "    </tr>\n",
       "    <tr>\n",
       "      <td>eu_sales</td>\n",
       "      <td>2399.68</td>\n",
       "    </tr>\n",
       "    <tr>\n",
       "      <td>jp_sales</td>\n",
       "      <td>1290.64</td>\n",
       "    </tr>\n",
       "  </tbody>\n",
       "</table>\n",
       "</div>"
      ],
      "text/plain": [
       "            sales\n",
       "region           \n",
       "na_sales  4341.42\n",
       "eu_sales  2399.68\n",
       "jp_sales  1290.64"
      ]
     },
     "execution_count": 35,
     "metadata": {},
     "output_type": "execute_result"
    }
   ],
   "source": [
    "region_sales"
   ]
  },
  {
   "cell_type": "markdown",
   "metadata": {},
   "source": [
    "* Подавляющее большинство продаж приходится на североамериканский регион\n",
    "* Меньше всего выручка от игр в Японии"
   ]
  },
  {
   "cell_type": "markdown",
   "metadata": {},
   "source": [
    "### Анализ выпуска игр по годам"
   ]
  },
  {
   "cell_type": "code",
   "execution_count": 36,
   "metadata": {
    "scrolled": true
   },
   "outputs": [
    {
     "data": {
      "image/png": "[encoded data removed]",
      "text/plain": [
       "<Figure size 432x288 with 1 Axes>"
      ]
     },
     "metadata": {
      "needs_background": "light"
     },
     "output_type": "display_data"
    }
   ],
   "source": [
    "df['year_of_release'].value_counts().to_frame().sort_index().plot.bar(title='Количество выпущенных игр по годам');"
   ]
  },
  {
   "cell_type": "markdown",
   "metadata": {},
   "source": [
    "* До 2000 года производилось очень мало игр и их можно не рассматривать\n",
    "* Пик выпуска количества игр приходится на 2008-2009 годы\n",
    "* Резкое падение количества производимых игр произошло после 2011 года\n"
   ]
  },
  {
   "cell_type": "markdown",
   "metadata": {},
   "source": [
    "### Анализ продаж по платформам"
   ]
  },
  {
   "cell_type": "code",
   "execution_count": 37,
   "metadata": {
    "scrolled": false
   },
   "outputs": [
    {
     "data": {
      "image/png": "[encoded data removed]",
      "text/plain": [
       "<Figure size 432x288 with 1 Axes>"
      ]
     },
     "metadata": {
      "needs_background": "light"
     },
     "output_type": "display_data"
    }
   ],
   "source": [
    "# Суммарные продажи по платформам\n",
    "platform_sales = df.groupby('platform')['total_sales'].sum().sort_values(ascending=True)\n",
    "platform_sales.plot.bar(title='Суммарные продажи по платформам');"
   ]
  },
  {
   "cell_type": "code",
   "execution_count": 38,
   "metadata": {},
   "outputs": [],
   "source": [
    "# Находим ТОП платформ по продажа\n",
    "n = 4\n",
    "top_platforms = platform_sales.to_frame().sort_values('total_sales', ascending=False).iloc[:n]\n",
    "top_df = df.query('platform in @top_platforms.index')"
   ]
  },
  {
   "cell_type": "code",
   "execution_count": 39,
   "metadata": {},
   "outputs": [
    {
     "data": {
      "image/png": "[encoded data removed]",
      "text/plain": [
       "<Figure size 432x288 with 1 Axes>"
      ]
     },
     "metadata": {
      "needs_background": "light"
     },
     "output_type": "display_data"
    },
    {
     "data": {
      "image/png": "[encoded data removed]",
      "text/plain": [
       "<Figure size 432x288 with 1 Axes>"
      ]
     },
     "metadata": {
      "needs_background": "light"
     },
     "output_type": "display_data"
    },
    {
     "data": {
      "image/png": "[encoded data removed]",
      "text/plain": [
       "<Figure size 432x288 with 1 Axes>"
      ]
     },
     "metadata": {
      "needs_background": "light"
     },
     "output_type": "display_data"
    },
    {
     "data": {
      "image/png": "[encoded data removed]",
      "text/plain": [
       "<Figure size 432x288 with 1 Axes>"
      ]
     },
     "metadata": {
      "needs_background": "light"
     },
     "output_type": "display_data"
    }
   ],
   "source": [
    "# Строим распределение по годам\n",
    "for platform in top_platforms.index:\n",
    "    title = f'Продажи {platform} по годам'\n",
    "    top_df.query('platform == @platform').groupby('year_of_release')['total_sales'].sum().plot.bar(title=title)\n",
    "    plt.show()"
   ]
  },
  {
   "cell_type": "markdown",
   "metadata": {},
   "source": [
    "* В среднем, срок жизни игровой топовой платформы составляет от 7 до 10 лет"
   ]
  },
  {
   "cell_type": "markdown",
   "metadata": {},
   "source": [
    "### Анализ актуального периода"
   ]
  },
  {
   "cell_type": "code",
   "execution_count": 40,
   "metadata": {},
   "outputs": [],
   "source": [
    "# Определяем актуальный период и данные по нему\n",
    "actual_period_end = df['year_of_release'].max()\n",
    "actual_period_start = actual_period_end - 4\n",
    "actual_df = df.query('@actual_period_end >= year_of_release >= @actual_period_start')"
   ]
  },
  {
   "cell_type": "code",
   "execution_count": 41,
   "metadata": {
    "scrolled": true
   },
   "outputs": [
    {
     "data": {
      "text/plain": [
       "<matplotlib.axes._subplots.AxesSubplot at 0x7f3ec21f3d10>"
      ]
     },
     "execution_count": 41,
     "metadata": {},
     "output_type": "execute_result"
    },
    {
     "data": {
      "image/png": "[encoded data removed]",
      "text/plain": [
       "<Figure size 432x288 with 1 Axes>"
      ]
     },
     "metadata": {
      "needs_background": "light"
     },
     "output_type": "display_data"
    }
   ],
   "source": [
    "# Анализ топовых платформ актуального периода\n",
    "actual_platform_sales = actual_df.groupby('platform')['total_sales'].sum().sort_values(ascending=True)\n",
    "actual_platform_sales.plot.bar()"
   ]
  },
  {
   "cell_type": "code",
   "execution_count": 42,
   "metadata": {
    "scrolled": false
   },
   "outputs": [
    {
     "name": "stderr",
     "output_type": "stream",
     "text": [
      "/opt/conda/lib/python3.7/site-packages/numpy/core/_asarray.py:83: VisibleDeprecationWarning: Creating an ndarray from ragged nested sequences (which is a list-or-tuple of lists-or-tuples-or ndarrays with different lengths or shapes) is deprecated. If you meant to do this, you must specify 'dtype=object' when creating the ndarray\n",
      "  return array(a, dtype, copy=False, order=order)\n"
     ]
    },
    {
     "data": {
      "text/plain": [
       "<matplotlib.axes._subplots.AxesSubplot at 0x7f3ec22d9f50>"
      ]
     },
     "execution_count": 42,
     "metadata": {},
     "output_type": "execute_result"
    },
    {
     "data": {
      "image/png": "[encoded data removed]",
      "text/plain": [
       "<Figure size 432x288 with 1 Axes>"
      ]
     },
     "metadata": {
      "needs_background": "light"
     },
     "output_type": "display_data"
    }
   ],
   "source": [
    "# Выделяем ТОПовыеп платформы актуального периода\n",
    "n = 4\n",
    "top_platforms = actual_platform_sales.to_frame().sort_values('total_sales', ascending=False).iloc[:n]\n",
    "top_df = actual_df.query('platform in @top_platforms.index')\n",
    "\n",
    "top_df.boxplot('total_sales', by='platform')"
   ]
  },
  {
   "cell_type": "markdown",
   "metadata": {},
   "source": [
    "* Лидерами продаж является платформа PS4 и X360\n",
    "* Разброс выручки по играм каждой платфомы более-менее одинаковый\n",
    "* Платформа PS3 имеет ряд игр, которые привосходят по продажам остальных."
   ]
  },
  {
   "cell_type": "markdown",
   "metadata": {},
   "source": [
    "### Анализ PS4\n",
    "Выбираем данную платформу, как лучшую на актуальный момент"
   ]
  },
  {
   "cell_type": "code",
   "execution_count": 43,
   "metadata": {},
   "outputs": [],
   "source": [
    "# Выделяем срез данных \n",
    "top_df = actual_df.query('platform == \"PS4\"')"
   ]
  },
  {
   "cell_type": "code",
   "execution_count": 44,
   "metadata": {},
   "outputs": [
    {
     "data": {
      "image/png": "[encoded data removed]",
      "text/plain": [
       "<Figure size 432x288 with 1 Axes>"
      ]
     },
     "metadata": {
      "needs_background": "light"
     },
     "output_type": "display_data"
    }
   ],
   "source": [
    "# Строим диаграммму рассяния оценок пользователей\n",
    "top_df.plot(x='user_score', y='total_sales', kind='scatter', alpha=0.3, title='Диаграмма рассеяния оценок пользователей');"
   ]
  },
  {
   "cell_type": "code",
   "execution_count": 45,
   "metadata": {},
   "outputs": [
    {
     "data": {
      "image/png": "[encoded data removed]",
      "text/plain": [
       "<Figure size 432x288 with 1 Axes>"
      ]
     },
     "metadata": {
      "needs_background": "light"
     },
     "output_type": "display_data"
    }
   ],
   "source": [
    "# Строим диаграммму рассяния оценок критиков\n",
    "top_df.plot(x='critic_score', y='total_sales', kind='scatter', alpha=0.3, title='Диаграмма рассеяния оценок критиков');"
   ]
  },
  {
   "cell_type": "code",
   "execution_count": 46,
   "metadata": {
    "scrolled": false
   },
   "outputs": [
    {
     "data": {
      "image/png": "[encoded data removed]",
      "text/plain": [
       "<Figure size 648x648 with 9 Axes>"
      ]
     },
     "metadata": {
      "needs_background": "light"
     },
     "output_type": "display_data"
    }
   ],
   "source": [
    "# Строим матрицу рассеяния\n",
    "pd.plotting.scatter_matrix(top_df[['user_score','critic_score', 'total_sales']], figsize=(9, 9));"
   ]
  },
  {
   "cell_type": "code",
   "execution_count": 47,
   "metadata": {},
   "outputs": [
    {
     "data": {
      "text/html": [
       "<div>\n",
       "<style scoped>\n",
       "    .dataframe tbody tr th:only-of-type {\n",
       "        vertical-align: middle;\n",
       "    }\n",
       "\n",
       "    .dataframe tbody tr th {\n",
       "        vertical-align: top;\n",
       "    }\n",
       "\n",
       "    .dataframe thead th {\n",
       "        text-align: right;\n",
       "    }\n",
       "</style>\n",
       "<table border=\"1\" class=\"dataframe\">\n",
       "  <thead>\n",
       "    <tr style=\"text-align: right;\">\n",
       "      <th></th>\n",
       "      <th>critic_score</th>\n",
       "      <th>user_score</th>\n",
       "      <th>total_sales</th>\n",
       "    </tr>\n",
       "  </thead>\n",
       "  <tbody>\n",
       "    <tr>\n",
       "      <td>critic_score</td>\n",
       "      <td>1.000000</td>\n",
       "      <td>0.557654</td>\n",
       "      <td>0.406568</td>\n",
       "    </tr>\n",
       "    <tr>\n",
       "      <td>user_score</td>\n",
       "      <td>0.557654</td>\n",
       "      <td>1.000000</td>\n",
       "      <td>-0.031957</td>\n",
       "    </tr>\n",
       "    <tr>\n",
       "      <td>total_sales</td>\n",
       "      <td>0.406568</td>\n",
       "      <td>-0.031957</td>\n",
       "      <td>1.000000</td>\n",
       "    </tr>\n",
       "  </tbody>\n",
       "</table>\n",
       "</div>"
      ],
      "text/plain": [
       "              critic_score  user_score  total_sales\n",
       "critic_score      1.000000    0.557654     0.406568\n",
       "user_score        0.557654    1.000000    -0.031957\n",
       "total_sales       0.406568   -0.031957     1.000000"
      ]
     },
     "execution_count": 47,
     "metadata": {},
     "output_type": "execute_result"
    }
   ],
   "source": [
    "# Рассчитываем корреляцию\n",
    "top_df[['critic_score', 'user_score', 'total_sales']].corr()"
   ]
  },
  {
   "cell_type": "markdown",
   "metadata": {},
   "source": [
    "* Есть небольшая обратная коррекляция между пользовательскими оценками и продажами, что немного странно\n",
    "* Есть определенная положительная коррекляция оценкок критиков и продаж. Чем лучше оценка, тем больше продажи\n",
    "* Корреляция между пользовательскими оценками и оценками критиков есть, но она не максимальная. Т.е. есть ситуации, когда оценки критиков и пользователей расходятся\n",
    "* Есть игры со средней или плохой оценкой пользователей, но с очень хорошими продажами\n",
    "* Оценка критиков более соотносится с уровнем продажа. Обычно, чем выше, тем больше уровень продаж"
   ]
  },
  {
   "cell_type": "markdown",
   "metadata": {},
   "source": [
    "### Анализ других платформ"
   ]
  },
  {
   "cell_type": "code",
   "execution_count": 48,
   "metadata": {},
   "outputs": [],
   "source": [
    "# Выделяем данные \n",
    "other_df = actual_df.query('platform != \"PS4\"')"
   ]
  },
  {
   "cell_type": "code",
   "execution_count": 49,
   "metadata": {
    "scrolled": true
   },
   "outputs": [
    {
     "data": {
      "text/html": [
       "<div>\n",
       "<style scoped>\n",
       "    .dataframe tbody tr th:only-of-type {\n",
       "        vertical-align: middle;\n",
       "    }\n",
       "\n",
       "    .dataframe tbody tr th {\n",
       "        vertical-align: top;\n",
       "    }\n",
       "\n",
       "    .dataframe thead th {\n",
       "        text-align: right;\n",
       "    }\n",
       "</style>\n",
       "<table border=\"1\" class=\"dataframe\">\n",
       "  <thead>\n",
       "    <tr style=\"text-align: right;\">\n",
       "      <th></th>\n",
       "      <th>critic_score</th>\n",
       "      <th>user_score</th>\n",
       "      <th>total_sales</th>\n",
       "    </tr>\n",
       "  </thead>\n",
       "  <tbody>\n",
       "    <tr>\n",
       "      <td>critic_score</td>\n",
       "      <td>1.000000</td>\n",
       "      <td>0.508452</td>\n",
       "      <td>0.284773</td>\n",
       "    </tr>\n",
       "    <tr>\n",
       "      <td>user_score</td>\n",
       "      <td>0.508452</td>\n",
       "      <td>1.000000</td>\n",
       "      <td>0.009513</td>\n",
       "    </tr>\n",
       "    <tr>\n",
       "      <td>total_sales</td>\n",
       "      <td>0.284773</td>\n",
       "      <td>0.009513</td>\n",
       "      <td>1.000000</td>\n",
       "    </tr>\n",
       "  </tbody>\n",
       "</table>\n",
       "</div>"
      ],
      "text/plain": [
       "              critic_score  user_score  total_sales\n",
       "critic_score      1.000000    0.508452     0.284773\n",
       "user_score        0.508452    1.000000     0.009513\n",
       "total_sales       0.284773    0.009513     1.000000"
      ]
     },
     "execution_count": 49,
     "metadata": {},
     "output_type": "execute_result"
    }
   ],
   "source": [
    "# Рассчитываем корреляцию\n",
    "other_df[['critic_score', 'user_score', 'total_sales']].corr()"
   ]
  },
  {
   "cell_type": "markdown",
   "metadata": {},
   "source": [
    "* Другие платформы имеют чуть меньшую коррекляцию зависимости оценки критиков и продаж\n",
    "* Коррекляции между оценками пользователей и продажи других платформ не выявлено"
   ]
  },
  {
   "cell_type": "markdown",
   "metadata": {},
   "source": [
    "### Анализ жанров игр"
   ]
  },
  {
   "cell_type": "code",
   "execution_count": 50,
   "metadata": {
    "scrolled": false
   },
   "outputs": [
    {
     "data": {
      "image/png": "[encoded data removed]",
      "text/plain": [
       "<Figure size 432x288 with 1 Axes>"
      ]
     },
     "metadata": {
      "needs_background": "light"
     },
     "output_type": "display_data"
    }
   ],
   "source": [
    "# Продажи игр по жанрам\n",
    "actual_df.groupby('genre')['total_sales'].sum().sort_values(ascending=True).plot.bar(title='Продажи игр по жанрам');"
   ]
  },
  {
   "cell_type": "code",
   "execution_count": 51,
   "metadata": {
    "scrolled": false
   },
   "outputs": [
    {
     "data": {
      "image/png": "[encoded data removed]",
      "text/plain": [
       "<Figure size 432x288 with 1 Axes>"
      ]
     },
     "metadata": {
      "needs_background": "light"
     },
     "output_type": "display_data"
    },
    {
     "data": {
      "image/png": "[encoded data removed]",
      "text/plain": [
       "<Figure size 432x288 with 1 Axes>"
      ]
     },
     "metadata": {
      "needs_background": "light"
     },
     "output_type": "display_data"
    },
    {
     "data": {
      "image/png": "[encoded data removed]",
      "text/plain": [
       "<Figure size 432x288 with 1 Axes>"
      ]
     },
     "metadata": {
      "needs_background": "light"
     },
     "output_type": "display_data"
    },
    {
     "data": {
      "image/png": "[encoded data removed]",
      "text/plain": [
       "<Figure size 432x288 with 1 Axes>"
      ]
     },
     "metadata": {
      "needs_background": "light"
     },
     "output_type": "display_data"
    },
    {
     "data": {
      "image/png": "[encoded data removed]",
      "text/plain": [
       "<Figure size 432x288 with 1 Axes>"
      ]
     },
     "metadata": {
      "needs_background": "light"
     },
     "output_type": "display_data"
    },
    {
     "data": {
      "image/png": "[encoded data removed]",
      "text/plain": [
       "<Figure size 432x288 with 1 Axes>"
      ]
     },
     "metadata": {
      "needs_background": "light"
     },
     "output_type": "display_data"
    },
    {
     "data": {
      "image/png": "[encoded data removed]",
      "text/plain": [
       "<Figure size 432x288 with 1 Axes>"
      ]
     },
     "metadata": {
      "needs_background": "light"
     },
     "output_type": "display_data"
    },
    {
     "data": {
      "image/png": "[encoded data removed]",
      "text/plain": [
       "<Figure size 432x288 with 1 Axes>"
      ]
     },
     "metadata": {
      "needs_background": "light"
     },
     "output_type": "display_data"
    },
    {
     "data": {
      "image/png": "[encoded data removed]",
      "text/plain": [
       "<Figure size 432x288 with 1 Axes>"
      ]
     },
     "metadata": {
      "needs_background": "light"
     },
     "output_type": "display_data"
    },
    {
     "data": {
      "image/png": "[encoded data removed]",
      "text/plain": [
       "<Figure size 432x288 with 1 Axes>"
      ]
     },
     "metadata": {
      "needs_background": "light"
     },
     "output_type": "display_data"
    },
    {
     "data": {
      "image/png": "[encoded data removed]",
      "text/plain": [
       "<Figure size 432x288 with 1 Axes>"
      ]
     },
     "metadata": {
      "needs_background": "light"
     },
     "output_type": "display_data"
    },
    {
     "data": {
      "image/png": "[encoded data removed]",
      "text/plain": [
       "<Figure size 432x288 with 1 Axes>"
      ]
     },
     "metadata": {
      "needs_background": "light"
     },
     "output_type": "display_data"
    }
   ],
   "source": [
    "# Динамика продаж по жанрам\n",
    "for genre in actual_df.genre.unique():\n",
    "    title = f'Продажи {genre} по годам'\n",
    "    actual_df.query('genre == @genre').groupby('year_of_release')['total_sales'].sum().plot.bar(title=title)\n",
    "    plt.show()"
   ]
  },
  {
   "cell_type": "markdown",
   "metadata": {},
   "source": [
    "* Самые прибыльные - игры-шутеры\n",
    "* На втором месте - спортивные игры и драки\n",
    "* Самые низкие продажи у пазлов\n",
    "* Также не велики продажи стратегий, симуляций, приключений, гонок\n",
    "* Большинство жанров теряют продажи за последние несколько лет. Более-мнее стабильные продажи у жанров adventure, sport, shooter"
   ]
  },
  {
   "cell_type": "markdown",
   "metadata": {},
   "source": [
    "## Портрет пользователя каждого региона"
   ]
  },
  {
   "cell_type": "markdown",
   "metadata": {},
   "source": [
    "###  Сравнительный анализ продаж платформ по регионам"
   ]
  },
  {
   "cell_type": "markdown",
   "metadata": {},
   "source": [
    "#### Подготавливаем данные"
   ]
  },
  {
   "cell_type": "code",
   "execution_count": 52,
   "metadata": {},
   "outputs": [
    {
     "data": {
      "text/html": [
       "<div>\n",
       "<style scoped>\n",
       "    .dataframe tbody tr th:only-of-type {\n",
       "        vertical-align: middle;\n",
       "    }\n",
       "\n",
       "    .dataframe tbody tr th {\n",
       "        vertical-align: top;\n",
       "    }\n",
       "\n",
       "    .dataframe thead th {\n",
       "        text-align: right;\n",
       "    }\n",
       "</style>\n",
       "<table border=\"1\" class=\"dataframe\">\n",
       "  <thead>\n",
       "    <tr style=\"text-align: right;\">\n",
       "      <th></th>\n",
       "      <th>region</th>\n",
       "      <th>platform</th>\n",
       "      <th>sales</th>\n",
       "    </tr>\n",
       "  </thead>\n",
       "  <tbody>\n",
       "    <tr>\n",
       "      <td>0</td>\n",
       "      <td>na</td>\n",
       "      <td>PS4</td>\n",
       "      <td>108.74</td>\n",
       "    </tr>\n",
       "    <tr>\n",
       "      <td>1</td>\n",
       "      <td>na</td>\n",
       "      <td>PS3</td>\n",
       "      <td>103.38</td>\n",
       "    </tr>\n",
       "    <tr>\n",
       "      <td>2</td>\n",
       "      <td>na</td>\n",
       "      <td>X360</td>\n",
       "      <td>140.05</td>\n",
       "    </tr>\n",
       "    <tr>\n",
       "      <td>3</td>\n",
       "      <td>na</td>\n",
       "      <td>3DS</td>\n",
       "      <td>55.31</td>\n",
       "    </tr>\n",
       "    <tr>\n",
       "      <td>4</td>\n",
       "      <td>na</td>\n",
       "      <td>XOne</td>\n",
       "      <td>93.12</td>\n",
       "    </tr>\n",
       "    <tr>\n",
       "      <td>5</td>\n",
       "      <td>eu</td>\n",
       "      <td>PS4</td>\n",
       "      <td>141.09</td>\n",
       "    </tr>\n",
       "  </tbody>\n",
       "</table>\n",
       "</div>"
      ],
      "text/plain": [
       "  region platform   sales\n",
       "0     na      PS4  108.74\n",
       "1     na      PS3  103.38\n",
       "2     na     X360  140.05\n",
       "3     na      3DS   55.31\n",
       "4     na     XOne   93.12\n",
       "5     eu      PS4  141.09"
      ]
     },
     "execution_count": 52,
     "metadata": {},
     "output_type": "execute_result"
    }
   ],
   "source": [
    "# Подготавливаем данные\n",
    "top_platform = actual_df.groupby('platform')['total_sales'].sum().sort_values(ascending=False)[:5].index\n",
    "top_platforms_sum_df =  actual_df.query('platform in @top_platform').groupby('platform').sum().reset_index()\n",
    "\n",
    "reg_columns = ['na_sales', 'eu_sales', 'jp_sales']\n",
    "reg_columns_title = ['na', 'eu', 'jp']\n",
    "\n",
    "region_platform_sales = pd.DataFrame([], columns = ['region', 'platform', 'sales'])\n",
    "for idx, col in enumerate(reg_columns):\n",
    "    for platform in top_platform:\n",
    "        region_platform_sales = region_platform_sales.append({'region': reg_columns_title[idx], \n",
    "                                                              'platform': platform, \n",
    "                                                              'sales': top_platforms_sum_df.query('platform == @platform')[col].sum()\n",
    "                                                              }, \n",
    "                                                             ignore_index = True)\n",
    "region_platform_sales.head(6)"
   ]
  },
  {
   "cell_type": "markdown",
   "metadata": {},
   "source": [
    "#### Сравнительный анализ продаж платформ по регионам"
   ]
  },
  {
   "cell_type": "code",
   "execution_count": 53,
   "metadata": {
    "scrolled": false
   },
   "outputs": [
    {
     "data": {
      "image/png": "[encoded data removed]",
      "text/plain": [
       "<Figure size 495.125x432 with 1 Axes>"
      ]
     },
     "metadata": {
      "needs_background": "light"
     },
     "output_type": "display_data"
    }
   ],
   "source": [
    "# Распределение по регионам\n",
    "g = sns.catplot(\n",
    "    data=region_platform_sales, kind=\"bar\",\n",
    "    x=\"region\", y=\"sales\", hue=\"platform\",\n",
    "    ci=\"sd\", palette=\"dark\", alpha=.6, height=6\n",
    ");\n",
    "g.set_axis_labels(\"Регионы\", \"Продажи\");"
   ]
  },
  {
   "cell_type": "markdown",
   "metadata": {},
   "source": [
    "###  Сравнительный анализ продаж жанров по регионам"
   ]
  },
  {
   "cell_type": "markdown",
   "metadata": {},
   "source": [
    "#### Подготавливаем данные"
   ]
  },
  {
   "cell_type": "code",
   "execution_count": 54,
   "metadata": {},
   "outputs": [
    {
     "data": {
      "text/html": [
       "<div>\n",
       "<style scoped>\n",
       "    .dataframe tbody tr th:only-of-type {\n",
       "        vertical-align: middle;\n",
       "    }\n",
       "\n",
       "    .dataframe tbody tr th {\n",
       "        vertical-align: top;\n",
       "    }\n",
       "\n",
       "    .dataframe thead th {\n",
       "        text-align: right;\n",
       "    }\n",
       "</style>\n",
       "<table border=\"1\" class=\"dataframe\">\n",
       "  <thead>\n",
       "    <tr style=\"text-align: right;\">\n",
       "      <th></th>\n",
       "      <th>region</th>\n",
       "      <th>genre</th>\n",
       "      <th>sales</th>\n",
       "    </tr>\n",
       "  </thead>\n",
       "  <tbody>\n",
       "    <tr>\n",
       "      <td>0</td>\n",
       "      <td>na</td>\n",
       "      <td>Action</td>\n",
       "      <td>177.84</td>\n",
       "    </tr>\n",
       "    <tr>\n",
       "      <td>1</td>\n",
       "      <td>na</td>\n",
       "      <td>Shooter</td>\n",
       "      <td>144.77</td>\n",
       "    </tr>\n",
       "    <tr>\n",
       "      <td>2</td>\n",
       "      <td>na</td>\n",
       "      <td>Role-Playing</td>\n",
       "      <td>64.00</td>\n",
       "    </tr>\n",
       "    <tr>\n",
       "      <td>3</td>\n",
       "      <td>na</td>\n",
       "      <td>Sports</td>\n",
       "      <td>81.53</td>\n",
       "    </tr>\n",
       "    <tr>\n",
       "      <td>4</td>\n",
       "      <td>na</td>\n",
       "      <td>Misc</td>\n",
       "      <td>38.19</td>\n",
       "    </tr>\n",
       "    <tr>\n",
       "      <td>5</td>\n",
       "      <td>eu</td>\n",
       "      <td>Action</td>\n",
       "      <td>159.34</td>\n",
       "    </tr>\n",
       "  </tbody>\n",
       "</table>\n",
       "</div>"
      ],
      "text/plain": [
       "  region         genre   sales\n",
       "0     na        Action  177.84\n",
       "1     na       Shooter  144.77\n",
       "2     na  Role-Playing   64.00\n",
       "3     na        Sports   81.53\n",
       "4     na          Misc   38.19\n",
       "5     eu        Action  159.34"
      ]
     },
     "execution_count": 54,
     "metadata": {},
     "output_type": "execute_result"
    }
   ],
   "source": [
    "# Подготавливаем данные\n",
    "top_genres = actual_df.groupby('genre')['total_sales'].sum().sort_values(ascending=False)[:5].index\n",
    "top_genres_sum_df =  actual_df.query('genre in @top_genres').groupby('genre').sum().reset_index()\n",
    "\n",
    "reg_columns = ['na_sales', 'eu_sales', 'jp_sales']\n",
    "reg_columns_title = ['na', 'eu', 'jp']\n",
    "\n",
    "region_genre_sales = pd.DataFrame([], columns = ['region', 'genre', 'sales'])\n",
    "for idx, col in enumerate(reg_columns):\n",
    "    for genre in top_genres:\n",
    "        region_genre_sales = region_genre_sales.append({'region': reg_columns_title[idx], \n",
    "                                                              'genre': genre, \n",
    "                                                              'sales': top_genres_sum_df.query('genre == @genre')[col].sum()\n",
    "                                                              }, \n",
    "                                                             ignore_index = True)\n",
    "region_genre_sales.head(6)"
   ]
  },
  {
   "cell_type": "markdown",
   "metadata": {},
   "source": [
    "#### Сравнительный анализ продаж жанров по регионам"
   ]
  },
  {
   "cell_type": "code",
   "execution_count": 55,
   "metadata": {
    "scrolled": false
   },
   "outputs": [
    {
     "data": {
      "image/png": "[encoded data removed]",
      "text/plain": [
       "<Figure size 530x432 with 1 Axes>"
      ]
     },
     "metadata": {
      "needs_background": "light"
     },
     "output_type": "display_data"
    }
   ],
   "source": [
    "# Распределение по регионам\n",
    "g = sns.catplot(\n",
    "    data=region_genre_sales, kind=\"bar\",\n",
    "    x=\"region\", y=\"sales\", hue=\"genre\",\n",
    "    ci=\"sd\", palette=\"dark\", alpha=.6, height=6\n",
    ");\n",
    "g.set_axis_labels(\"Регионы\", \"Продажи\");"
   ]
  },
  {
   "cell_type": "markdown",
   "metadata": {},
   "source": [
    "###  Сравнительный анализ продаж  по рейтингам и регионам"
   ]
  },
  {
   "cell_type": "markdown",
   "metadata": {},
   "source": [
    "#### Подготавливаем данные"
   ]
  },
  {
   "cell_type": "code",
   "execution_count": 56,
   "metadata": {},
   "outputs": [
    {
     "data": {
      "text/html": [
       "<div>\n",
       "<style scoped>\n",
       "    .dataframe tbody tr th:only-of-type {\n",
       "        vertical-align: middle;\n",
       "    }\n",
       "\n",
       "    .dataframe tbody tr th {\n",
       "        vertical-align: top;\n",
       "    }\n",
       "\n",
       "    .dataframe thead th {\n",
       "        text-align: right;\n",
       "    }\n",
       "</style>\n",
       "<table border=\"1\" class=\"dataframe\">\n",
       "  <thead>\n",
       "    <tr style=\"text-align: right;\">\n",
       "      <th></th>\n",
       "      <th>region</th>\n",
       "      <th>rating</th>\n",
       "      <th>sales</th>\n",
       "    </tr>\n",
       "  </thead>\n",
       "  <tbody>\n",
       "    <tr>\n",
       "      <td>0</td>\n",
       "      <td>na</td>\n",
       "      <td>M</td>\n",
       "      <td>231.57</td>\n",
       "    </tr>\n",
       "    <tr>\n",
       "      <td>1</td>\n",
       "      <td>na</td>\n",
       "      <td>Unknown</td>\n",
       "      <td>103.31</td>\n",
       "    </tr>\n",
       "    <tr>\n",
       "      <td>2</td>\n",
       "      <td>na</td>\n",
       "      <td>E</td>\n",
       "      <td>114.37</td>\n",
       "    </tr>\n",
       "    <tr>\n",
       "      <td>3</td>\n",
       "      <td>na</td>\n",
       "      <td>T</td>\n",
       "      <td>66.02</td>\n",
       "    </tr>\n",
       "    <tr>\n",
       "      <td>4</td>\n",
       "      <td>na</td>\n",
       "      <td>E10+</td>\n",
       "      <td>75.70</td>\n",
       "    </tr>\n",
       "    <tr>\n",
       "      <td>5</td>\n",
       "      <td>eu</td>\n",
       "      <td>M</td>\n",
       "      <td>193.96</td>\n",
       "    </tr>\n",
       "  </tbody>\n",
       "</table>\n",
       "</div>"
      ],
      "text/plain": [
       "  region   rating   sales\n",
       "0     na        M  231.57\n",
       "1     na  Unknown  103.31\n",
       "2     na        E  114.37\n",
       "3     na        T   66.02\n",
       "4     na     E10+   75.70\n",
       "5     eu        M  193.96"
      ]
     },
     "execution_count": 56,
     "metadata": {},
     "output_type": "execute_result"
    }
   ],
   "source": [
    "# Подготавливаем данные\n",
    "top_ratings = actual_df.groupby('rating')['total_sales'].sum().sort_values(ascending=False)[:5].index\n",
    "top_ratings_sum_df =  actual_df.query('rating in @top_ratings').groupby('rating').sum().reset_index()\n",
    "\n",
    "reg_columns = ['na_sales', 'eu_sales', 'jp_sales']\n",
    "reg_columns_title = ['na', 'eu', 'jp']\n",
    "\n",
    "region_rating_sales = pd.DataFrame([], columns = ['region', 'rating', 'sales'])\n",
    "for idx, col in enumerate(reg_columns):\n",
    "    for rating in top_ratings:\n",
    "        region_rating_sales = region_rating_sales.append({'region': reg_columns_title[idx], \n",
    "                                                              'rating': rating, \n",
    "                                                              'sales': top_ratings_sum_df.query('rating == @rating')[col].sum()\n",
    "                                                              }, \n",
    "                                                             ignore_index = True)\n",
    "region_rating_sales.head(6)"
   ]
  },
  {
   "cell_type": "markdown",
   "metadata": {},
   "source": [
    "#### Сравнительный анализ продаж по рейтингам по регионам"
   ]
  },
  {
   "cell_type": "code",
   "execution_count": 57,
   "metadata": {},
   "outputs": [
    {
     "data": {
      "image/png": "[encoded data removed]",
      "text/plain": [
       "<Figure size 514.375x432 with 1 Axes>"
      ]
     },
     "metadata": {
      "needs_background": "light"
     },
     "output_type": "display_data"
    }
   ],
   "source": [
    "# Распределение по регионам\n",
    "g = sns.catplot(\n",
    "    data=region_rating_sales, kind=\"bar\",\n",
    "    x=\"region\", y=\"sales\", hue=\"rating\",\n",
    "    ci=\"sd\", palette=\"dark\", alpha=.6, height=6\n",
    ");\n",
    "g.set_axis_labels(\"Регионы\", \"Продажи\");"
   ]
  },
  {
   "cell_type": "markdown",
   "metadata": {},
   "source": [
    "### NA регион"
   ]
  },
  {
   "cell_type": "code",
   "execution_count": 58,
   "metadata": {},
   "outputs": [],
   "source": [
    "region_df = actual_df.query('na_sales > 0')"
   ]
  },
  {
   "cell_type": "markdown",
   "metadata": {},
   "source": [
    "#### Самые популярные платформы (топ-5)\n"
   ]
  },
  {
   "cell_type": "code",
   "execution_count": 59,
   "metadata": {},
   "outputs": [
    {
     "data": {
      "image/png": "[encoded data removed]",
      "text/plain": [
       "<Figure size 432x288 with 1 Axes>"
      ]
     },
     "metadata": {},
     "output_type": "display_data"
    }
   ],
   "source": [
    "# Диаграмма количества произведенных игр по платформам\n",
    "region_df['platform'].value_counts().iloc[:5].plot.pie(title = 'Доля игр (%) ТОП платформ в NA', autopct='%.2f');"
   ]
  },
  {
   "cell_type": "code",
   "execution_count": 60,
   "metadata": {
    "scrolled": false
   },
   "outputs": [
    {
     "data": {
      "image/png": "[encoded data removed]",
      "text/plain": [
       "<Figure size 432x288 with 1 Axes>"
      ]
     },
     "metadata": {},
     "output_type": "display_data"
    }
   ],
   "source": [
    "# Продажи по платформам\n",
    "region_df.groupby('platform')['na_sales'].sum().sort_values(ascending=False).iloc[:5].plot.pie(title = 'Доли рынка (%) ТОП платформ в NA', \n",
    "                                                       autopct='%.2f');"
   ]
  },
  {
   "cell_type": "markdown",
   "metadata": {},
   "source": [
    "* Лидером рынка по продажам является X360\n",
    "* PS4 и PS3 занимают ранвые доли рынка\n",
    "* Больше всего игр производится под PS3 и PS4"
   ]
  },
  {
   "cell_type": "markdown",
   "metadata": {},
   "source": [
    "#### Самые популярные жанры (топ-5)"
   ]
  },
  {
   "cell_type": "code",
   "execution_count": 61,
   "metadata": {},
   "outputs": [
    {
     "data": {
      "image/png": "[encoded data removed]",
      "text/plain": [
       "<Figure size 432x288 with 1 Axes>"
      ]
     },
     "metadata": {},
     "output_type": "display_data"
    }
   ],
   "source": [
    "# Диаграмма количества произведенных игр по жанрам\n",
    "region_df['genre'].value_counts().iloc[:5].plot.pie(title = 'Количество выпущенных игр (%) самых популярных жанров в NA', \n",
    "                                                    autopct='%.2f');"
   ]
  },
  {
   "cell_type": "code",
   "execution_count": 62,
   "metadata": {},
   "outputs": [
    {
     "data": {
      "image/png": "[encoded data removed]",
      "text/plain": [
       "<Figure size 432x288 with 1 Axes>"
      ]
     },
     "metadata": {},
     "output_type": "display_data"
    }
   ],
   "source": [
    "# Продажи по жанрам\n",
    "region_df.groupby('genre')['na_sales'].sum().sort_values(ascending=False).iloc[:5].plot.pie(title = 'Доля рынка (%) самых популярных жанров в NA', \n",
    "                                                                                            autopct='%.2f');"
   ]
  },
  {
   "cell_type": "markdown",
   "metadata": {},
   "source": [
    "* Самыми популярными у производителей являются игры - action-ы\n",
    "* Далее по популярности у производителей идут шутеры и спортивные\n",
    "* С т.з. продаж самыми доходными являются шутеры, на втором месте - экшены, далее - шутеры."
   ]
  },
  {
   "cell_type": "markdown",
   "metadata": {},
   "source": [
    "#### Влияение рейтинга ESRB на продажи"
   ]
  },
  {
   "cell_type": "code",
   "execution_count": 63,
   "metadata": {},
   "outputs": [
    {
     "data": {
      "image/png": "[encoded data removed]",
      "text/plain": [
       "<Figure size 432x288 with 1 Axes>"
      ]
     },
     "metadata": {},
     "output_type": "display_data"
    }
   ],
   "source": [
    "region_df.groupby('rating')['total_sales'].sum().plot.pie(title='Доля продаж (%) по рейтингу ESRB в NA', autopct='%.2f');"
   ]
  },
  {
   "cell_type": "markdown",
   "metadata": {},
   "source": [
    "* Продажи игр для подростков составляют пятую часть от всех продаж региона\n",
    "* Порядка 40% продаж приходится на игры для взрослых"
   ]
  },
  {
   "cell_type": "markdown",
   "metadata": {},
   "source": [
    "### EU регион"
   ]
  },
  {
   "cell_type": "code",
   "execution_count": 64,
   "metadata": {},
   "outputs": [],
   "source": [
    "region_df = actual_df.query('eu_sales > 0')"
   ]
  },
  {
   "cell_type": "markdown",
   "metadata": {},
   "source": [
    "#### Самые популярные платформы (топ-5)\n"
   ]
  },
  {
   "cell_type": "code",
   "execution_count": 65,
   "metadata": {},
   "outputs": [
    {
     "data": {
      "image/png": "[encoded data removed]",
      "text/plain": [
       "<Figure size 432x288 with 1 Axes>"
      ]
     },
     "metadata": {},
     "output_type": "display_data"
    }
   ],
   "source": [
    "# Диаграмма количества произведенных игр по платформам\n",
    "region_df['platform'].value_counts().iloc[:5].plot.pie(title='Доля игр (%) ТОП платформ в EU', autopct='%.2f');"
   ]
  },
  {
   "cell_type": "code",
   "execution_count": 66,
   "metadata": {
    "scrolled": false
   },
   "outputs": [
    {
     "data": {
      "image/png": "[encoded data removed]",
      "text/plain": [
       "<Figure size 432x288 with 1 Axes>"
      ]
     },
     "metadata": {},
     "output_type": "display_data"
    }
   ],
   "source": [
    "# Продажи по платформам\n",
    "region_df.groupby('platform')['eu_sales'].sum().sort_values(ascending=False).iloc[:5].plot.pie(title='Доли рынка (%) ТОП платформ в EU', autopct='%.2f');"
   ]
  },
  {
   "cell_type": "markdown",
   "metadata": {},
   "source": [
    "* Лидером рынка по продажам является PS4 (34% рынка)\n",
    "* На втором месте по прожадам PS3 (25% рынка)\n",
    "* Количество выпускаемых игр под PS3,PS4,X360,PC схожи и составляют пордяка 20% от общего количества игр\n"
   ]
  },
  {
   "cell_type": "markdown",
   "metadata": {},
   "source": [
    "#### Самые популярные жанры (топ-5)"
   ]
  },
  {
   "cell_type": "code",
   "execution_count": 67,
   "metadata": {},
   "outputs": [
    {
     "data": {
      "image/png": "[encoded data removed]",
      "text/plain": [
       "<Figure size 432x288 with 1 Axes>"
      ]
     },
     "metadata": {},
     "output_type": "display_data"
    }
   ],
   "source": [
    "# Диаграмма количества произведенных игр по жанрам\n",
    "region_df['genre'].value_counts().iloc[:5].plot.pie(title='Количество выпущенных игр (%) самых популярных жанров в EU', autopct='%.2f');"
   ]
  },
  {
   "cell_type": "code",
   "execution_count": 68,
   "metadata": {},
   "outputs": [
    {
     "data": {
      "image/png": "[encoded data removed]",
      "text/plain": [
       "<Figure size 432x288 with 1 Axes>"
      ]
     },
     "metadata": {},
     "output_type": "display_data"
    }
   ],
   "source": [
    "# Продажи по жанрам\n",
    "region_df.groupby('genre')['eu_sales'].sum().sort_values(ascending=False).iloc[:5].plot.pie(title='Доля рынка (%) самых популярных жанров в EU', autopct='%.2f');"
   ]
  },
  {
   "cell_type": "markdown",
   "metadata": {},
   "source": [
    "* Самыми популярными у производителей являются игры - action-ы\n",
    "* Далее по популярности у производителей идут шутеры и спортивные\n",
    "* С т.з. продаж самыми также доходными являются экшены, на втором месте - шутеры, далее - спортивные игры"
   ]
  },
  {
   "cell_type": "markdown",
   "metadata": {},
   "source": [
    "#### Влияение рейтинга ESRB на продажи"
   ]
  },
  {
   "cell_type": "code",
   "execution_count": 69,
   "metadata": {},
   "outputs": [
    {
     "data": {
      "image/png": "[encoded data removed]",
      "text/plain": [
       "<Figure size 432x288 with 1 Axes>"
      ]
     },
     "metadata": {},
     "output_type": "display_data"
    }
   ],
   "source": [
    "region_df.groupby('rating')['eu_sales'].sum().plot.pie(title='Доля продаж (%) по рейтингу ESRB в NA', autopct='%.2f');"
   ]
  },
  {
   "cell_type": "markdown",
   "metadata": {},
   "source": [
    "* Продажи игр для подростков пятую часть от всех продаж региона\n",
    "* Порядка 40% продаж приходится на игры для взрослых"
   ]
  },
  {
   "cell_type": "markdown",
   "metadata": {},
   "source": [
    "### JP регион"
   ]
  },
  {
   "cell_type": "code",
   "execution_count": 70,
   "metadata": {},
   "outputs": [],
   "source": [
    "region_df = actual_df.query('jp_sales > 0')"
   ]
  },
  {
   "cell_type": "markdown",
   "metadata": {},
   "source": [
    "#### Самые популярные платформы (топ-5)\n"
   ]
  },
  {
   "cell_type": "code",
   "execution_count": 71,
   "metadata": {},
   "outputs": [
    {
     "data": {
      "image/png": "[encoded data removed]",
      "text/plain": [
       "<Figure size 432x288 with 1 Axes>"
      ]
     },
     "metadata": {},
     "output_type": "display_data"
    }
   ],
   "source": [
    "# Диаграмма количества произведенных игр по платформам\n",
    "region_df['platform'].value_counts().iloc[:5].plot.pie(title='Доля игр (%) ТОП платформ в JP', autopct='%.2f');"
   ]
  },
  {
   "cell_type": "code",
   "execution_count": 72,
   "metadata": {
    "scrolled": false
   },
   "outputs": [
    {
     "data": {
      "image/png": "[encoded data removed]",
      "text/plain": [
       "<Figure size 432x288 with 1 Axes>"
      ]
     },
     "metadata": {},
     "output_type": "display_data"
    }
   ],
   "source": [
    "# Продажи по платформам\n",
    "region_df.groupby('platform')['jp_sales'].sum().sort_values(ascending=False).iloc[:5].plot.pie(title='Доли рынка (%) ТОП платформ в JP', autopct='%.2f');"
   ]
  },
  {
   "cell_type": "markdown",
   "metadata": {},
   "source": [
    "* Доли PS3 и PSV равны и составляют 25% каждый\n",
    "* На втором месте по популярности 3DS\n",
    "* Большую долю рынка (более 60% продажи игр) занимает 3DS\n",
    "* На втором месте по продажам PS3\n",
    "* PS4 в Японии имеет слабые позиции"
   ]
  },
  {
   "cell_type": "markdown",
   "metadata": {},
   "source": [
    "#### Самые популярные жанры (топ-5)"
   ]
  },
  {
   "cell_type": "code",
   "execution_count": 73,
   "metadata": {},
   "outputs": [
    {
     "data": {
      "image/png": "[encoded data removed]",
      "text/plain": [
       "<Figure size 432x288 with 1 Axes>"
      ]
     },
     "metadata": {},
     "output_type": "display_data"
    }
   ],
   "source": [
    "# Диаграмма количества произведенных игр по жанрам\n",
    "region_df['genre'].value_counts().iloc[:5].plot.pie(title='Количество выпущенных игр (%) самых популярных жанров в JP', autopct='%.2f');"
   ]
  },
  {
   "cell_type": "code",
   "execution_count": 74,
   "metadata": {},
   "outputs": [
    {
     "data": {
      "image/png": "[encoded data removed]",
      "text/plain": [
       "<Figure size 432x288 with 1 Axes>"
      ]
     },
     "metadata": {},
     "output_type": "display_data"
    }
   ],
   "source": [
    "# Продажи по жанрам\n",
    "region_df.groupby('genre')['jp_sales'].sum().sort_values(ascending=False).iloc[:5].plot.pie(title='Доля рынка (%) самых популярных жанров в JP', autopct='%.2f');"
   ]
  },
  {
   "cell_type": "markdown",
   "metadata": {},
   "source": [
    "* Самыми популярными у производителей являются игры - action-ы\n",
    "* Далее по популярности у производителей идут ролевые игры и приключения\n",
    "* С т.з. продаж самыми доходными являются ролевые игры, на втором месте - экшены"
   ]
  },
  {
   "cell_type": "markdown",
   "metadata": {},
   "source": [
    "#### Влияение рейтинга ESRB на продажи"
   ]
  },
  {
   "cell_type": "code",
   "execution_count": 75,
   "metadata": {
    "scrolled": true
   },
   "outputs": [
    {
     "data": {
      "image/png": "[encoded data removed]",
      "text/plain": [
       "<Figure size 432x288 with 1 Axes>"
      ]
     },
     "metadata": {},
     "output_type": "display_data"
    }
   ],
   "source": [
    "region_df.groupby('rating')['jp_sales'].sum().plot.pie(title='Доля продаж (%) по рейтингу ESRB в JP', autopct='%.2f');"
   ]
  },
  {
   "cell_type": "markdown",
   "metadata": {},
   "source": [
    "* По более половины игр в Японии нет рейтинга ESRB\n",
    "* Самые выгодные - для подростков"
   ]
  },
  {
   "cell_type": "markdown",
   "metadata": {},
   "source": [
    "## Проверка гипотез"
   ]
  },
  {
   "cell_type": "markdown",
   "metadata": {},
   "source": [
    "### Средние пользовательские рейтинги платформ Xbox One и PC одинаковые;"
   ]
  },
  {
   "cell_type": "markdown",
   "metadata": {},
   "source": [
    "* Нулевая гипотеза - средние пользовательские рейтинги платформ XBoxOne и PC одинаковые\n",
    "* Альтернативная гипотеза - средние пользовательские рейтинги отличаются (больше или меньше)"
   ]
  },
  {
   "cell_type": "code",
   "execution_count": 76,
   "metadata": {},
   "outputs": [],
   "source": [
    "# Выделяем данные\n",
    "xone_df = list(actual_df.query('platform == \"XOne\" and user_score.notnull()')['user_score'])\n",
    "pc_df = list(actual_df.query('platform == \"PC\" and user_score.notnull()')['user_score'])"
   ]
  },
  {
   "cell_type": "code",
   "execution_count": 77,
   "metadata": {},
   "outputs": [
    {
     "name": "stdout",
     "output_type": "stream",
     "text": [
      "p-значение:  0.5535080500643661\n",
      "Не получилось отвергнуть нулевую гипотезу\n"
     ]
    }
   ],
   "source": [
    "alpha = .05 # критический уровень статистической значимости\n",
    "# если p-value окажется меньше него - отвегнем гипотезу\n",
    " \n",
    "results = st.ttest_ind(\n",
    "    xone_df, \n",
    "    pc_df)\n",
    " \n",
    "print('p-значение: ', results.pvalue)\n",
    " \n",
    "if results.pvalue < alpha:\n",
    "    print(\"Отвергаем нулевую гипотезу\")\n",
    "else:\n",
    "    print(\"Не получилось отвергнуть нулевую гипотезу\")"
   ]
  },
  {
   "cell_type": "markdown",
   "metadata": {},
   "source": [
    "* Средние пользовательские рейтинги платформ Xbox One и PC действительно одинаковые"
   ]
  },
  {
   "cell_type": "markdown",
   "metadata": {},
   "source": [
    "### Средние пользовательские рейтинги жанров Action (англ. «действие», экшен-игры) и Sports (англ. «спортивные соревнования») разные."
   ]
  },
  {
   "cell_type": "markdown",
   "metadata": {},
   "source": [
    "* Нулевая гипотеза - средние пользовательские рейтинги одинаковые\n",
    "* Альтернативная - средние пользовательские рейтинги жанров разные"
   ]
  },
  {
   "cell_type": "code",
   "execution_count": 78,
   "metadata": {},
   "outputs": [],
   "source": [
    "# Выделяем данные\n",
    "action_df = list(actual_df.query('genre == \"Action\" and user_score.notnull()')['user_score'])\n",
    "sports_df = list(actual_df.query('genre == \"Sports\" and user_score.notnull()')['user_score'])"
   ]
  },
  {
   "cell_type": "code",
   "execution_count": 79,
   "metadata": {},
   "outputs": [
    {
     "name": "stdout",
     "output_type": "stream",
     "text": [
      "p-значение:  3.7163089460934874e-26\n",
      "Отвергаем нулевую гипотезу\n"
     ]
    }
   ],
   "source": [
    "alpha = .05 # критический уровень статистической значимости\n",
    "# если p-value окажется меньше него - отвегнем гипотезу\n",
    " \n",
    "results = st.ttest_ind(\n",
    "    action_df, \n",
    "    sports_df)\n",
    " \n",
    "print('p-значение: ', results.pvalue)\n",
    " \n",
    "if results.pvalue < alpha:\n",
    "    print(\"Отвергаем нулевую гипотезу\")\n",
    "else:\n",
    "    print(\"Не получилось отвергнуть нулевую гипотезу\")"
   ]
  },
  {
   "cell_type": "markdown",
   "metadata": {},
   "source": [
    "* Средние пользовательские рейтинги жанров Action (англ. «действие», экшен-игры) и Sports (англ. «спортивные соревнования») действительно разные."
   ]
  },
  {
   "cell_type": "markdown",
   "metadata": {},
   "source": [
    "## Общий вывод"
   ]
  },
  {
   "cell_type": "markdown",
   "metadata": {},
   "source": [
    "* Самой прибыльной игровой платформой в Америке X360, чуть отстает от нее PS4\n",
    "* В Европе лидером являетяс PS4\n",
    "* PS3, несмотря на более ранний выпук, имеют хорошие продажи. \n",
    "* Самыми продаваемым жанром в Европе и Америке являются экшены. В Японии - другая ситуация, там топ продаж занимают ролевые игры\n",
    "* В Европе и Амекрике более любят спортивные игры, чем в других регионах (на третьем месте по продажам)\n",
    "* В Японии сильно распространены и пользуются популярности нетиповые платформы для Европы и Америки (3DS и PSV)\n",
    "* Наиболее популярная целевая аудитория - взрослые и подростки. Причем, в Европе и Америке в основном больше взрослых игроков, а в Японии - наоборот, подростков. \n",
    "* В общем, можно рекомендовать разрабатывать под PS4 под следующие жанры:\n",
    "    * Экшены\n",
    "    * Шутеры\n",
    "    * Спортивные игры\n",
    "* Срок жизни платформы не превышает 10 лет. Поэтому важно смотреть на выпуск новых платформ в рынок\n",
    "\n"
   ]
  }
 ],
 "metadata": {
  "ExecuteTimeLog": [
   {
    "duration": 5,
    "start_time": "2022-02-18T11:27:10.508Z"
   },
   {
    "duration": 764,
    "start_time": "2022-02-18T11:27:48.963Z"
   },
   {
    "duration": 3,
    "start_time": "2022-02-18T11:28:01.604Z"
   },
   {
    "duration": 3,
    "start_time": "2022-02-18T11:28:25.417Z"
   },
   {
    "duration": 63,
    "start_time": "2022-02-18T11:28:39.512Z"
   },
   {
    "duration": 73,
    "start_time": "2022-02-18T11:28:46.936Z"
   },
   {
    "duration": 14,
    "start_time": "2022-02-18T11:29:12.506Z"
   },
   {
    "duration": 8,
    "start_time": "2022-02-18T11:29:34.760Z"
   },
   {
    "duration": 8,
    "start_time": "2022-02-18T11:30:06.455Z"
   },
   {
    "duration": 6,
    "start_time": "2022-02-18T11:30:26.809Z"
   },
   {
    "duration": 6,
    "start_time": "2022-02-18T11:30:35.319Z"
   },
   {
    "duration": 182,
    "start_time": "2022-02-18T11:30:45.407Z"
   },
   {
    "duration": 7,
    "start_time": "2022-02-18T11:31:16.056Z"
   },
   {
    "duration": 9,
    "start_time": "2022-02-18T11:31:23.079Z"
   },
   {
    "duration": 133,
    "start_time": "2022-02-18T11:31:29.414Z"
   },
   {
    "duration": 14,
    "start_time": "2022-02-18T11:31:51.326Z"
   },
   {
    "duration": 152,
    "start_time": "2022-02-18T11:32:01.662Z"
   },
   {
    "duration": 11,
    "start_time": "2022-02-18T11:32:38.735Z"
   },
   {
    "duration": 11,
    "start_time": "2022-02-18T11:33:06.168Z"
   },
   {
    "duration": 11,
    "start_time": "2022-02-18T11:33:42.671Z"
   },
   {
    "duration": 7,
    "start_time": "2022-02-18T11:34:11.197Z"
   },
   {
    "duration": 8,
    "start_time": "2022-02-18T11:34:17.788Z"
   },
   {
    "duration": 7,
    "start_time": "2022-02-18T11:34:48.781Z"
   },
   {
    "duration": 8,
    "start_time": "2022-02-18T11:34:54.949Z"
   },
   {
    "duration": 7,
    "start_time": "2022-02-18T11:35:34.618Z"
   },
   {
    "duration": 9,
    "start_time": "2022-02-18T11:35:41.434Z"
   },
   {
    "duration": 9,
    "start_time": "2022-02-18T11:36:19.460Z"
   },
   {
    "duration": 22,
    "start_time": "2022-02-18T11:36:38.344Z"
   },
   {
    "duration": 7,
    "start_time": "2022-02-18T11:36:56.546Z"
   },
   {
    "duration": 575,
    "start_time": "2022-02-18T12:02:45.379Z"
   },
   {
    "duration": 12,
    "start_time": "2022-02-18T12:03:36.984Z"
   },
   {
    "duration": 11,
    "start_time": "2022-02-18T12:04:10.626Z"
   },
   {
    "duration": 16,
    "start_time": "2022-02-18T12:04:20.960Z"
   },
   {
    "duration": 26,
    "start_time": "2022-02-18T12:07:04.639Z"
   },
   {
    "duration": 6,
    "start_time": "2022-02-18T12:08:30.887Z"
   },
   {
    "duration": 17,
    "start_time": "2022-02-18T12:08:37.212Z"
   },
   {
    "duration": 16,
    "start_time": "2022-02-18T12:09:05.126Z"
   },
   {
    "duration": 3,
    "start_time": "2022-02-18T12:09:09.042Z"
   },
   {
    "duration": 65,
    "start_time": "2022-02-18T12:09:09.047Z"
   },
   {
    "duration": 13,
    "start_time": "2022-02-18T12:09:09.115Z"
   },
   {
    "duration": 6,
    "start_time": "2022-02-18T12:09:09.131Z"
   },
   {
    "duration": 7,
    "start_time": "2022-02-18T12:09:09.139Z"
   },
   {
    "duration": 6,
    "start_time": "2022-02-18T12:09:09.148Z"
   },
   {
    "duration": 5,
    "start_time": "2022-02-18T12:09:09.157Z"
   },
   {
    "duration": 7,
    "start_time": "2022-02-18T12:09:09.212Z"
   },
   {
    "duration": 6,
    "start_time": "2022-02-18T12:09:09.222Z"
   },
   {
    "duration": 12,
    "start_time": "2022-02-18T12:09:09.230Z"
   },
   {
    "duration": 9,
    "start_time": "2022-02-18T12:09:09.244Z"
   },
   {
    "duration": 56,
    "start_time": "2022-02-18T12:09:09.256Z"
   },
   {
    "duration": 11,
    "start_time": "2022-02-18T12:09:09.314Z"
   },
   {
    "duration": 7,
    "start_time": "2022-02-18T12:09:09.327Z"
   },
   {
    "duration": 13,
    "start_time": "2022-02-18T12:09:09.336Z"
   },
   {
    "duration": 6,
    "start_time": "2022-02-18T12:09:09.351Z"
   },
   {
    "duration": 50,
    "start_time": "2022-02-18T12:09:09.360Z"
   },
   {
    "duration": 7,
    "start_time": "2022-02-18T12:09:09.413Z"
   },
   {
    "duration": 8,
    "start_time": "2022-02-18T12:09:09.422Z"
   },
   {
    "duration": 8,
    "start_time": "2022-02-18T12:09:09.432Z"
   },
   {
    "duration": 21,
    "start_time": "2022-02-18T12:09:09.442Z"
   },
   {
    "duration": 63,
    "start_time": "2022-02-18T12:09:09.465Z"
   },
   {
    "duration": 15,
    "start_time": "2022-02-18T12:09:09.531Z"
   },
   {
    "duration": 4,
    "start_time": "2022-02-18T12:09:09.549Z"
   },
   {
    "duration": 19,
    "start_time": "2022-02-18T12:10:32.125Z"
   },
   {
    "duration": 18,
    "start_time": "2022-02-18T12:10:34.525Z"
   },
   {
    "duration": 13,
    "start_time": "2022-02-18T12:10:51.412Z"
   },
   {
    "duration": 13,
    "start_time": "2022-02-18T12:10:57.324Z"
   },
   {
    "duration": 8,
    "start_time": "2022-02-18T12:11:01.564Z"
   },
   {
    "duration": 12,
    "start_time": "2022-02-18T12:11:33.689Z"
   },
   {
    "duration": 12,
    "start_time": "2022-02-18T12:12:12.239Z"
   },
   {
    "duration": 14,
    "start_time": "2022-02-18T12:12:51.488Z"
   },
   {
    "duration": 13,
    "start_time": "2022-02-18T12:13:01.129Z"
   },
   {
    "duration": 121,
    "start_time": "2022-02-18T12:14:22.837Z"
   },
   {
    "duration": 443,
    "start_time": "2022-02-18T12:14:32.784Z"
   },
   {
    "duration": 4,
    "start_time": "2022-02-18T12:14:36.509Z"
   },
   {
    "duration": 87,
    "start_time": "2022-02-18T12:14:36.516Z"
   },
   {
    "duration": 13,
    "start_time": "2022-02-18T12:14:36.608Z"
   },
   {
    "duration": 8,
    "start_time": "2022-02-18T12:14:36.624Z"
   },
   {
    "duration": 28,
    "start_time": "2022-02-18T12:14:36.635Z"
   },
   {
    "duration": 24,
    "start_time": "2022-02-18T12:14:36.665Z"
   },
   {
    "duration": 27,
    "start_time": "2022-02-18T12:14:36.691Z"
   },
   {
    "duration": 12,
    "start_time": "2022-02-18T12:14:36.721Z"
   },
   {
    "duration": 14,
    "start_time": "2022-02-18T12:14:36.736Z"
   },
   {
    "duration": 21,
    "start_time": "2022-02-18T12:14:36.753Z"
   },
   {
    "duration": 11,
    "start_time": "2022-02-18T12:14:36.776Z"
   },
   {
    "duration": 25,
    "start_time": "2022-02-18T12:14:36.790Z"
   },
   {
    "duration": 9,
    "start_time": "2022-02-18T12:14:36.818Z"
   },
   {
    "duration": 6,
    "start_time": "2022-02-18T12:14:36.829Z"
   },
   {
    "duration": 12,
    "start_time": "2022-02-18T12:14:36.838Z"
   },
   {
    "duration": 10,
    "start_time": "2022-02-18T12:14:36.852Z"
   },
   {
    "duration": 49,
    "start_time": "2022-02-18T12:14:36.865Z"
   },
   {
    "duration": 35,
    "start_time": "2022-02-18T12:14:36.917Z"
   },
   {
    "duration": 9,
    "start_time": "2022-02-18T12:14:36.955Z"
   },
   {
    "duration": 44,
    "start_time": "2022-02-18T12:14:36.966Z"
   },
   {
    "duration": 8,
    "start_time": "2022-02-18T12:14:37.013Z"
   },
   {
    "duration": 18,
    "start_time": "2022-02-18T12:14:37.024Z"
   },
   {
    "duration": 12,
    "start_time": "2022-02-18T12:14:37.044Z"
   },
   {
    "duration": 8,
    "start_time": "2022-02-18T12:14:37.059Z"
   },
   {
    "duration": 13,
    "start_time": "2022-02-18T12:14:37.110Z"
   },
   {
    "duration": 13,
    "start_time": "2022-02-18T12:14:37.126Z"
   },
   {
    "duration": 17,
    "start_time": "2022-02-18T12:14:37.143Z"
   },
   {
    "duration": 47,
    "start_time": "2022-02-18T12:14:37.163Z"
   },
   {
    "duration": 13,
    "start_time": "2022-02-18T12:17:50.404Z"
   },
   {
    "duration": 30,
    "start_time": "2022-02-18T12:19:09.268Z"
   },
   {
    "duration": 132,
    "start_time": "2022-02-18T12:22:05.211Z"
   },
   {
    "duration": 47152,
    "start_time": "2022-02-18T12:23:44.053Z"
   },
   {
    "duration": 11,
    "start_time": "2022-02-18T12:24:54.102Z"
   },
   {
    "duration": 4,
    "start_time": "2022-02-18T12:24:56.420Z"
   },
   {
    "duration": 80,
    "start_time": "2022-02-18T12:24:56.427Z"
   },
   {
    "duration": 13,
    "start_time": "2022-02-18T12:24:56.510Z"
   },
   {
    "duration": 7,
    "start_time": "2022-02-18T12:24:56.526Z"
   },
   {
    "duration": 9,
    "start_time": "2022-02-18T12:24:56.535Z"
   },
   {
    "duration": 6,
    "start_time": "2022-02-18T12:24:56.547Z"
   },
   {
    "duration": 6,
    "start_time": "2022-02-18T12:24:56.556Z"
   },
   {
    "duration": 47,
    "start_time": "2022-02-18T12:24:56.565Z"
   },
   {
    "duration": 7,
    "start_time": "2022-02-18T12:24:56.616Z"
   },
   {
    "duration": 14,
    "start_time": "2022-02-18T12:24:56.627Z"
   },
   {
    "duration": 11,
    "start_time": "2022-02-18T12:24:56.643Z"
   },
   {
    "duration": 59,
    "start_time": "2022-02-18T12:24:56.656Z"
   },
   {
    "duration": 10,
    "start_time": "2022-02-18T12:24:56.718Z"
   },
   {
    "duration": 8,
    "start_time": "2022-02-18T12:24:56.730Z"
   },
   {
    "duration": 7,
    "start_time": "2022-02-18T12:24:56.741Z"
   },
   {
    "duration": 9,
    "start_time": "2022-02-18T12:24:56.751Z"
   },
   {
    "duration": 52,
    "start_time": "2022-02-18T12:24:56.763Z"
   },
   {
    "duration": 35,
    "start_time": "2022-02-18T12:24:56.818Z"
   },
   {
    "duration": 6,
    "start_time": "2022-02-18T12:24:56.856Z"
   },
   {
    "duration": 18,
    "start_time": "2022-02-18T12:24:56.864Z"
   },
   {
    "duration": 33,
    "start_time": "2022-02-18T12:24:56.884Z"
   },
   {
    "duration": 24,
    "start_time": "2022-02-18T12:24:56.920Z"
   },
   {
    "duration": 13,
    "start_time": "2022-02-18T12:24:56.947Z"
   },
   {
    "duration": 23,
    "start_time": "2022-02-18T12:24:56.963Z"
   },
   {
    "duration": 34,
    "start_time": "2022-02-18T12:24:56.988Z"
   },
   {
    "duration": 38,
    "start_time": "2022-02-18T12:24:57.024Z"
   },
   {
    "duration": 50259,
    "start_time": "2022-02-18T12:24:57.067Z"
   },
   {
    "duration": 11,
    "start_time": "2022-02-18T12:25:47.328Z"
   },
   {
    "duration": 7,
    "start_time": "2022-02-18T12:25:47.341Z"
   },
   {
    "duration": 14,
    "start_time": "2022-02-18T12:26:04.064Z"
   },
   {
    "duration": 15,
    "start_time": "2022-02-18T12:26:27.436Z"
   },
   {
    "duration": 7,
    "start_time": "2022-02-18T12:27:38.715Z"
   },
   {
    "duration": 13,
    "start_time": "2022-02-18T12:31:16.253Z"
   },
   {
    "duration": 5,
    "start_time": "2022-02-18T12:31:18.888Z"
   },
   {
    "duration": 77,
    "start_time": "2022-02-18T12:31:18.895Z"
   },
   {
    "duration": 13,
    "start_time": "2022-02-18T12:31:18.975Z"
   },
   {
    "duration": 6,
    "start_time": "2022-02-18T12:31:18.991Z"
   },
   {
    "duration": 7,
    "start_time": "2022-02-18T12:31:18.999Z"
   },
   {
    "duration": 6,
    "start_time": "2022-02-18T12:31:19.008Z"
   },
   {
    "duration": 7,
    "start_time": "2022-02-18T12:31:19.016Z"
   },
   {
    "duration": 13,
    "start_time": "2022-02-18T12:31:19.025Z"
   },
   {
    "duration": 6,
    "start_time": "2022-02-18T12:31:19.042Z"
   },
   {
    "duration": 11,
    "start_time": "2022-02-18T12:31:19.051Z"
   },
   {
    "duration": 10,
    "start_time": "2022-02-18T12:31:19.064Z"
   },
   {
    "duration": 10,
    "start_time": "2022-02-18T12:31:19.077Z"
   },
   {
    "duration": 10,
    "start_time": "2022-02-18T12:31:19.089Z"
   },
   {
    "duration": 13,
    "start_time": "2022-02-18T12:31:19.101Z"
   },
   {
    "duration": 8,
    "start_time": "2022-02-18T12:31:19.116Z"
   },
   {
    "duration": 7,
    "start_time": "2022-02-18T12:31:19.127Z"
   },
   {
    "duration": 7,
    "start_time": "2022-02-18T12:31:19.136Z"
   },
   {
    "duration": 35,
    "start_time": "2022-02-18T12:31:19.145Z"
   },
   {
    "duration": 6,
    "start_time": "2022-02-18T12:31:19.182Z"
   },
   {
    "duration": 20,
    "start_time": "2022-02-18T12:31:19.191Z"
   },
   {
    "duration": 9,
    "start_time": "2022-02-18T12:31:19.214Z"
   },
   {
    "duration": 17,
    "start_time": "2022-02-18T12:31:19.225Z"
   },
   {
    "duration": 12,
    "start_time": "2022-02-18T12:31:19.244Z"
   },
   {
    "duration": 7,
    "start_time": "2022-02-18T12:31:19.258Z"
   },
   {
    "duration": 768,
    "start_time": "2022-02-18T12:32:00.334Z"
   },
   {
    "duration": 78,
    "start_time": "2022-02-18T12:32:01.104Z"
   },
   {
    "duration": 26,
    "start_time": "2022-02-18T12:32:01.185Z"
   },
   {
    "duration": 8,
    "start_time": "2022-02-18T12:32:01.215Z"
   },
   {
    "duration": 12,
    "start_time": "2022-02-18T12:32:01.225Z"
   },
   {
    "duration": 6,
    "start_time": "2022-02-18T12:32:01.240Z"
   },
   {
    "duration": 7,
    "start_time": "2022-02-18T12:32:01.248Z"
   },
   {
    "duration": 12,
    "start_time": "2022-02-18T12:32:01.259Z"
   },
   {
    "duration": 7,
    "start_time": "2022-02-18T12:32:01.313Z"
   },
   {
    "duration": 17,
    "start_time": "2022-02-18T12:32:01.322Z"
   },
   {
    "duration": 10,
    "start_time": "2022-02-18T12:32:01.341Z"
   },
   {
    "duration": 13,
    "start_time": "2022-02-18T12:32:01.354Z"
   },
   {
    "duration": 52,
    "start_time": "2022-02-18T12:32:01.369Z"
   },
   {
    "duration": 23,
    "start_time": "2022-02-18T12:32:01.423Z"
   },
   {
    "duration": 7,
    "start_time": "2022-02-18T12:32:01.448Z"
   },
   {
    "duration": 13,
    "start_time": "2022-02-18T12:32:01.458Z"
   },
   {
    "duration": 37,
    "start_time": "2022-02-18T12:32:01.474Z"
   },
   {
    "duration": 40,
    "start_time": "2022-02-18T12:32:01.513Z"
   },
   {
    "duration": 7,
    "start_time": "2022-02-18T12:32:01.555Z"
   },
   {
    "duration": 17,
    "start_time": "2022-02-18T12:32:01.564Z"
   },
   {
    "duration": 33,
    "start_time": "2022-02-18T12:32:01.584Z"
   },
   {
    "duration": 21,
    "start_time": "2022-02-18T12:32:01.620Z"
   },
   {
    "duration": 15,
    "start_time": "2022-02-18T12:32:01.646Z"
   },
   {
    "duration": 14,
    "start_time": "2022-02-18T12:32:01.663Z"
   },
   {
    "duration": 149,
    "start_time": "2022-02-18T12:32:01.712Z"
   },
   {
    "duration": -543,
    "start_time": "2022-02-18T12:32:02.407Z"
   },
   {
    "duration": -545,
    "start_time": "2022-02-18T12:32:02.411Z"
   },
   {
    "duration": -552,
    "start_time": "2022-02-18T12:32:02.419Z"
   },
   {
    "duration": -555,
    "start_time": "2022-02-18T12:32:02.424Z"
   },
   {
    "duration": 1067,
    "start_time": "2022-02-18T12:32:07.380Z"
   },
   {
    "duration": 966,
    "start_time": "2022-02-18T12:32:26.179Z"
   },
   {
    "duration": 1146,
    "start_time": "2022-02-18T12:33:11.620Z"
   },
   {
    "duration": 707,
    "start_time": "2022-02-18T12:37:36.050Z"
   },
   {
    "duration": 75,
    "start_time": "2022-02-18T12:37:36.760Z"
   },
   {
    "duration": 13,
    "start_time": "2022-02-18T12:37:36.839Z"
   },
   {
    "duration": 6,
    "start_time": "2022-02-18T12:37:36.855Z"
   },
   {
    "duration": 15,
    "start_time": "2022-02-18T12:37:36.864Z"
   },
   {
    "duration": 32,
    "start_time": "2022-02-18T12:37:36.882Z"
   },
   {
    "duration": 8,
    "start_time": "2022-02-18T12:37:36.916Z"
   },
   {
    "duration": 7,
    "start_time": "2022-02-18T12:37:36.927Z"
   },
   {
    "duration": 8,
    "start_time": "2022-02-18T12:37:36.939Z"
   },
   {
    "duration": 11,
    "start_time": "2022-02-18T12:37:36.950Z"
   },
   {
    "duration": 14,
    "start_time": "2022-02-18T12:37:37.012Z"
   },
   {
    "duration": 13,
    "start_time": "2022-02-18T12:37:37.028Z"
   },
   {
    "duration": 13,
    "start_time": "2022-02-18T12:37:37.044Z"
   },
   {
    "duration": 53,
    "start_time": "2022-02-18T12:37:37.059Z"
   },
   {
    "duration": 7,
    "start_time": "2022-02-18T12:37:37.115Z"
   },
   {
    "duration": 7,
    "start_time": "2022-02-18T12:37:37.124Z"
   },
   {
    "duration": 11,
    "start_time": "2022-02-18T12:37:37.133Z"
   },
   {
    "duration": 68,
    "start_time": "2022-02-18T12:37:37.147Z"
   },
   {
    "duration": 6,
    "start_time": "2022-02-18T12:37:37.218Z"
   },
   {
    "duration": 8,
    "start_time": "2022-02-18T12:37:37.226Z"
   },
   {
    "duration": 8,
    "start_time": "2022-02-18T12:37:37.237Z"
   },
   {
    "duration": 18,
    "start_time": "2022-02-18T12:37:37.247Z"
   },
   {
    "duration": 14,
    "start_time": "2022-02-18T12:37:37.311Z"
   },
   {
    "duration": 8,
    "start_time": "2022-02-18T12:37:37.327Z"
   },
   {
    "duration": 12797,
    "start_time": "2022-02-18T12:37:37.338Z"
   },
   {
    "duration": -638,
    "start_time": "2022-02-18T12:37:50.776Z"
   },
   {
    "duration": -639,
    "start_time": "2022-02-18T12:37:50.780Z"
   },
   {
    "duration": -643,
    "start_time": "2022-02-18T12:37:50.786Z"
   },
   {
    "duration": -645,
    "start_time": "2022-02-18T12:37:50.790Z"
   },
   {
    "duration": -1265,
    "start_time": "2022-02-18T12:38:23.696Z"
   },
   {
    "duration": 12014,
    "start_time": "2022-02-18T12:38:27.909Z"
   },
   {
    "duration": 13002,
    "start_time": "2022-02-18T12:38:56.221Z"
   },
   {
    "duration": 12004,
    "start_time": "2022-02-18T12:39:27.603Z"
   },
   {
    "duration": 147,
    "start_time": "2022-02-18T12:41:03.650Z"
   },
   {
    "duration": 895,
    "start_time": "2022-02-18T12:41:13.981Z"
   },
   {
    "duration": 947,
    "start_time": "2022-02-18T12:41:43.574Z"
   },
   {
    "duration": 29,
    "start_time": "2022-02-18T12:41:54.824Z"
   },
   {
    "duration": 31,
    "start_time": "2022-02-18T12:42:02.630Z"
   },
   {
    "duration": 128,
    "start_time": "2022-02-18T12:42:10.038Z"
   },
   {
    "duration": 125,
    "start_time": "2022-02-18T12:42:15.775Z"
   },
   {
    "duration": 37,
    "start_time": "2022-02-18T12:42:25.981Z"
   },
   {
    "duration": 29,
    "start_time": "2022-02-18T12:42:38.806Z"
   },
   {
    "duration": -591,
    "start_time": "2022-02-18T12:43:47.585Z"
   },
   {
    "duration": 53,
    "start_time": "2022-02-18T12:43:47.688Z"
   },
   {
    "duration": 8511,
    "start_time": "2022-02-18T12:43:58.583Z"
   },
   {
    "duration": 38690,
    "start_time": "2022-02-18T12:44:09.234Z"
   },
   {
    "duration": 3,
    "start_time": "2022-02-18T12:46:38.874Z"
   },
   {
    "duration": 76,
    "start_time": "2022-02-18T12:46:38.880Z"
   },
   {
    "duration": 14,
    "start_time": "2022-02-18T12:46:38.958Z"
   },
   {
    "duration": 8,
    "start_time": "2022-02-18T12:46:38.974Z"
   },
   {
    "duration": 5,
    "start_time": "2022-02-18T12:46:38.984Z"
   },
   {
    "duration": 20,
    "start_time": "2022-02-18T12:46:38.992Z"
   },
   {
    "duration": 6,
    "start_time": "2022-02-18T12:46:39.014Z"
   },
   {
    "duration": 10,
    "start_time": "2022-02-18T12:46:39.022Z"
   },
   {
    "duration": 7,
    "start_time": "2022-02-18T12:46:39.036Z"
   },
   {
    "duration": 16,
    "start_time": "2022-02-18T12:46:39.046Z"
   },
   {
    "duration": 10,
    "start_time": "2022-02-18T12:46:39.064Z"
   },
   {
    "duration": 10,
    "start_time": "2022-02-18T12:46:39.076Z"
   },
   {
    "duration": 10,
    "start_time": "2022-02-18T12:46:39.088Z"
   },
   {
    "duration": 15,
    "start_time": "2022-02-18T12:46:39.099Z"
   },
   {
    "duration": 7,
    "start_time": "2022-02-18T12:46:39.116Z"
   },
   {
    "duration": 6,
    "start_time": "2022-02-18T12:46:39.125Z"
   },
   {
    "duration": 7,
    "start_time": "2022-02-18T12:46:39.133Z"
   },
   {
    "duration": 32,
    "start_time": "2022-02-18T12:46:39.142Z"
   },
   {
    "duration": 7,
    "start_time": "2022-02-18T12:46:39.176Z"
   },
   {
    "duration": 26,
    "start_time": "2022-02-18T12:46:39.185Z"
   },
   {
    "duration": 9,
    "start_time": "2022-02-18T12:46:39.213Z"
   },
   {
    "duration": 32,
    "start_time": "2022-02-18T12:46:39.224Z"
   },
   {
    "duration": 14,
    "start_time": "2022-02-18T12:46:39.258Z"
   },
   {
    "duration": 10,
    "start_time": "2022-02-18T12:46:39.274Z"
   },
   {
    "duration": 39620,
    "start_time": "2022-02-18T12:46:39.286Z"
   },
   {
    "duration": 14,
    "start_time": "2022-02-18T12:47:18.911Z"
   },
   {
    "duration": 135284,
    "start_time": "2022-02-18T12:47:18.931Z"
   },
   {
    "duration": 12,
    "start_time": "2022-02-18T12:49:34.219Z"
   },
   {
    "duration": 4,
    "start_time": "2022-02-18T12:49:34.234Z"
   },
   {
    "duration": 438,
    "start_time": "2022-02-18T12:49:38.772Z"
   },
   {
    "duration": 364,
    "start_time": "2022-02-18T12:50:22.652Z"
   },
   {
    "duration": 369,
    "start_time": "2022-02-18T12:50:29.220Z"
   },
   {
    "duration": 381,
    "start_time": "2022-02-18T12:50:52.252Z"
   },
   {
    "duration": 8,
    "start_time": "2022-02-18T12:51:11.287Z"
   },
   {
    "duration": 14,
    "start_time": "2022-02-18T12:54:36.086Z"
   },
   {
    "duration": 3,
    "start_time": "2022-02-18T12:54:42.724Z"
   },
   {
    "duration": 74,
    "start_time": "2022-02-18T12:54:42.730Z"
   },
   {
    "duration": 14,
    "start_time": "2022-02-18T12:54:42.807Z"
   },
   {
    "duration": 6,
    "start_time": "2022-02-18T12:54:42.824Z"
   },
   {
    "duration": 6,
    "start_time": "2022-02-18T12:54:42.833Z"
   },
   {
    "duration": 8,
    "start_time": "2022-02-18T12:54:42.841Z"
   },
   {
    "duration": 6,
    "start_time": "2022-02-18T12:54:42.851Z"
   },
   {
    "duration": 53,
    "start_time": "2022-02-18T12:54:42.860Z"
   },
   {
    "duration": 7,
    "start_time": "2022-02-18T12:54:42.918Z"
   },
   {
    "duration": 11,
    "start_time": "2022-02-18T12:54:42.928Z"
   },
   {
    "duration": 15,
    "start_time": "2022-02-18T12:54:42.942Z"
   },
   {
    "duration": 56,
    "start_time": "2022-02-18T12:54:42.959Z"
   },
   {
    "duration": 11,
    "start_time": "2022-02-18T12:54:43.018Z"
   },
   {
    "duration": 7,
    "start_time": "2022-02-18T12:54:43.031Z"
   },
   {
    "duration": 9,
    "start_time": "2022-02-18T12:54:43.041Z"
   },
   {
    "duration": 57,
    "start_time": "2022-02-18T12:54:43.053Z"
   },
   {
    "duration": 10,
    "start_time": "2022-02-18T12:54:43.113Z"
   },
   {
    "duration": 32,
    "start_time": "2022-02-18T12:54:43.126Z"
   },
   {
    "duration": 8,
    "start_time": "2022-02-18T12:54:43.161Z"
   },
   {
    "duration": 11,
    "start_time": "2022-02-18T12:54:43.211Z"
   },
   {
    "duration": 10,
    "start_time": "2022-02-18T12:54:43.224Z"
   },
   {
    "duration": 19,
    "start_time": "2022-02-18T12:54:43.236Z"
   },
   {
    "duration": 53,
    "start_time": "2022-02-18T12:54:43.258Z"
   },
   {
    "duration": 10,
    "start_time": "2022-02-18T12:54:43.314Z"
   },
   {
    "duration": 39589,
    "start_time": "2022-02-18T12:54:43.327Z"
   },
   {
    "duration": 13,
    "start_time": "2022-02-18T12:55:22.918Z"
   },
   {
    "duration": -663,
    "start_time": "2022-02-18T12:56:11.610Z"
   },
   {
    "duration": -666,
    "start_time": "2022-02-18T12:56:11.614Z"
   },
   {
    "duration": -669,
    "start_time": "2022-02-18T12:56:11.618Z"
   },
   {
    "duration": -611,
    "start_time": "2022-02-18T12:56:11.622Z"
   },
   {
    "duration": -681,
    "start_time": "2022-02-18T12:56:11.693Z"
   },
   {
    "duration": -683,
    "start_time": "2022-02-18T12:56:11.697Z"
   },
   {
    "duration": -686,
    "start_time": "2022-02-18T12:56:11.701Z"
   },
   {
    "duration": -690,
    "start_time": "2022-02-18T12:56:11.707Z"
   },
   {
    "duration": -697,
    "start_time": "2022-02-18T12:56:11.715Z"
   },
   {
    "duration": -701,
    "start_time": "2022-02-18T12:56:11.720Z"
   },
   {
    "duration": -708,
    "start_time": "2022-02-18T12:56:11.729Z"
   },
   {
    "duration": -711,
    "start_time": "2022-02-18T12:56:11.733Z"
   },
   {
    "duration": -713,
    "start_time": "2022-02-18T12:56:11.737Z"
   },
   {
    "duration": -720,
    "start_time": "2022-02-18T12:56:11.745Z"
   },
   {
    "duration": -726,
    "start_time": "2022-02-18T12:56:11.753Z"
   },
   {
    "duration": -733,
    "start_time": "2022-02-18T12:56:11.762Z"
   },
   {
    "duration": -736,
    "start_time": "2022-02-18T12:56:11.766Z"
   },
   {
    "duration": -738,
    "start_time": "2022-02-18T12:56:11.770Z"
   },
   {
    "duration": -744,
    "start_time": "2022-02-18T12:56:11.778Z"
   },
   {
    "duration": -747,
    "start_time": "2022-02-18T12:56:11.782Z"
   },
   {
    "duration": -749,
    "start_time": "2022-02-18T12:56:11.786Z"
   },
   {
    "duration": -754,
    "start_time": "2022-02-18T12:56:11.793Z"
   },
   {
    "duration": -757,
    "start_time": "2022-02-18T12:56:11.797Z"
   },
   {
    "duration": -772,
    "start_time": "2022-02-18T12:56:11.813Z"
   },
   {
    "duration": -774,
    "start_time": "2022-02-18T12:56:11.817Z"
   },
   {
    "duration": -778,
    "start_time": "2022-02-18T12:56:11.822Z"
   },
   {
    "duration": -780,
    "start_time": "2022-02-18T12:56:11.826Z"
   },
   {
    "duration": -720,
    "start_time": "2022-02-18T12:56:11.831Z"
   },
   {
    "duration": -723,
    "start_time": "2022-02-18T12:56:11.835Z"
   },
   {
    "duration": 3,
    "start_time": "2022-02-18T12:56:14.389Z"
   },
   {
    "duration": 63,
    "start_time": "2022-02-18T12:56:14.395Z"
   },
   {
    "duration": 14,
    "start_time": "2022-02-18T12:56:14.461Z"
   },
   {
    "duration": 7,
    "start_time": "2022-02-18T12:56:14.478Z"
   },
   {
    "duration": 6,
    "start_time": "2022-02-18T12:56:14.513Z"
   },
   {
    "duration": 9,
    "start_time": "2022-02-18T12:56:14.522Z"
   },
   {
    "duration": 7,
    "start_time": "2022-02-18T12:56:14.533Z"
   },
   {
    "duration": 6,
    "start_time": "2022-02-18T12:56:14.543Z"
   },
   {
    "duration": 7,
    "start_time": "2022-02-18T12:56:14.553Z"
   },
   {
    "duration": 11,
    "start_time": "2022-02-18T12:56:14.612Z"
   },
   {
    "duration": 11,
    "start_time": "2022-02-18T12:56:14.626Z"
   },
   {
    "duration": 12,
    "start_time": "2022-02-18T12:56:14.639Z"
   },
   {
    "duration": 61,
    "start_time": "2022-02-18T12:56:14.654Z"
   },
   {
    "duration": 6,
    "start_time": "2022-02-18T12:56:14.717Z"
   },
   {
    "duration": 9,
    "start_time": "2022-02-18T12:56:14.726Z"
   },
   {
    "duration": 7,
    "start_time": "2022-02-18T12:56:14.737Z"
   },
   {
    "duration": 7,
    "start_time": "2022-02-18T12:56:14.747Z"
   },
   {
    "duration": 80,
    "start_time": "2022-02-18T12:56:14.757Z"
   },
   {
    "duration": 6,
    "start_time": "2022-02-18T12:56:14.839Z"
   },
   {
    "duration": 8,
    "start_time": "2022-02-18T12:56:14.848Z"
   },
   {
    "duration": 8,
    "start_time": "2022-02-18T12:56:14.858Z"
   },
   {
    "duration": 53,
    "start_time": "2022-02-18T12:56:14.869Z"
   },
   {
    "duration": 14,
    "start_time": "2022-02-18T12:56:14.924Z"
   },
   {
    "duration": 8,
    "start_time": "2022-02-18T12:56:14.941Z"
   },
   {
    "duration": 39642,
    "start_time": "2022-02-18T12:56:14.951Z"
   },
   {
    "duration": 23,
    "start_time": "2022-02-18T12:56:54.595Z"
   },
   {
    "duration": 133024,
    "start_time": "2022-02-18T12:56:54.624Z"
   },
   {
    "duration": 12,
    "start_time": "2022-02-18T12:59:07.651Z"
   },
   {
    "duration": 4,
    "start_time": "2022-02-18T12:59:07.666Z"
   },
   {
    "duration": 344,
    "start_time": "2022-02-20T06:24:24.501Z"
   },
   {
    "duration": 762,
    "start_time": "2022-02-20T06:24:29.978Z"
   },
   {
    "duration": 73,
    "start_time": "2022-02-20T06:24:30.743Z"
   },
   {
    "duration": 15,
    "start_time": "2022-02-20T06:24:30.819Z"
   },
   {
    "duration": 10,
    "start_time": "2022-02-20T06:24:30.850Z"
   },
   {
    "duration": 16,
    "start_time": "2022-02-20T06:24:30.863Z"
   },
   {
    "duration": 13,
    "start_time": "2022-02-20T06:24:30.882Z"
   },
   {
    "duration": 9,
    "start_time": "2022-02-20T06:24:30.898Z"
   },
   {
    "duration": 17,
    "start_time": "2022-02-20T06:24:30.910Z"
   },
   {
    "duration": 7,
    "start_time": "2022-02-20T06:24:30.951Z"
   },
   {
    "duration": 18,
    "start_time": "2022-02-20T06:24:30.962Z"
   },
   {
    "duration": 12,
    "start_time": "2022-02-20T06:24:30.983Z"
   },
   {
    "duration": 21,
    "start_time": "2022-02-20T06:24:30.997Z"
   },
   {
    "duration": 36,
    "start_time": "2022-02-20T06:24:31.021Z"
   },
   {
    "duration": 17,
    "start_time": "2022-02-20T06:24:31.059Z"
   },
   {
    "duration": 49,
    "start_time": "2022-02-20T06:24:31.078Z"
   },
   {
    "duration": 17,
    "start_time": "2022-02-20T06:24:31.129Z"
   },
   {
    "duration": 18,
    "start_time": "2022-02-20T06:24:31.149Z"
   },
   {
    "duration": 55,
    "start_time": "2022-02-20T06:24:31.170Z"
   },
   {
    "duration": 6,
    "start_time": "2022-02-20T06:24:31.228Z"
   },
   {
    "duration": 19,
    "start_time": "2022-02-20T06:24:31.237Z"
   },
   {
    "duration": 19,
    "start_time": "2022-02-20T06:24:31.258Z"
   },
   {
    "duration": 24,
    "start_time": "2022-02-20T06:24:31.280Z"
   },
   {
    "duration": 22,
    "start_time": "2022-02-20T06:24:31.307Z"
   },
   {
    "duration": 9,
    "start_time": "2022-02-20T06:24:31.348Z"
   },
   {
    "duration": 27,
    "start_time": "2022-02-20T06:24:31.360Z"
   },
   {
    "duration": 34,
    "start_time": "2022-02-20T06:24:31.390Z"
   },
   {
    "duration": -998,
    "start_time": "2022-02-20T06:26:13.150Z"
   },
   {
    "duration": -1010,
    "start_time": "2022-02-20T06:26:13.164Z"
   },
   {
    "duration": -1016,
    "start_time": "2022-02-20T06:26:13.172Z"
   },
   {
    "duration": -1023,
    "start_time": "2022-02-20T06:26:13.180Z"
   },
   {
    "duration": -1030,
    "start_time": "2022-02-20T06:26:13.189Z"
   },
   {
    "duration": -1036,
    "start_time": "2022-02-20T06:26:13.196Z"
   },
   {
    "duration": -1038,
    "start_time": "2022-02-20T06:26:13.200Z"
   },
   {
    "duration": -1042,
    "start_time": "2022-02-20T06:26:13.205Z"
   },
   {
    "duration": -1044,
    "start_time": "2022-02-20T06:26:13.209Z"
   },
   {
    "duration": -1047,
    "start_time": "2022-02-20T06:26:13.214Z"
   },
   {
    "duration": -1050,
    "start_time": "2022-02-20T06:26:13.218Z"
   },
   {
    "duration": -1053,
    "start_time": "2022-02-20T06:26:13.223Z"
   },
   {
    "duration": -1056,
    "start_time": "2022-02-20T06:26:13.227Z"
   },
   {
    "duration": -1061,
    "start_time": "2022-02-20T06:26:13.233Z"
   },
   {
    "duration": -1064,
    "start_time": "2022-02-20T06:26:13.238Z"
   },
   {
    "duration": -1066,
    "start_time": "2022-02-20T06:26:13.241Z"
   },
   {
    "duration": -1068,
    "start_time": "2022-02-20T06:26:13.245Z"
   },
   {
    "duration": -1070,
    "start_time": "2022-02-20T06:26:13.249Z"
   },
   {
    "duration": -1072,
    "start_time": "2022-02-20T06:26:13.253Z"
   },
   {
    "duration": -1074,
    "start_time": "2022-02-20T06:26:13.257Z"
   },
   {
    "duration": -1079,
    "start_time": "2022-02-20T06:26:13.263Z"
   },
   {
    "duration": -1082,
    "start_time": "2022-02-20T06:26:13.267Z"
   },
   {
    "duration": -1086,
    "start_time": "2022-02-20T06:26:13.272Z"
   },
   {
    "duration": -1027,
    "start_time": "2022-02-20T06:26:13.276Z"
   },
   {
    "duration": -1029,
    "start_time": "2022-02-20T06:26:13.279Z"
   },
   {
    "duration": -1031,
    "start_time": "2022-02-20T06:26:13.283Z"
   },
   {
    "duration": -1036,
    "start_time": "2022-02-20T06:26:13.289Z"
   },
   {
    "duration": -1039,
    "start_time": "2022-02-20T06:26:13.293Z"
   },
   {
    "duration": -1041,
    "start_time": "2022-02-20T06:26:13.297Z"
   },
   {
    "duration": 3,
    "start_time": "2022-02-20T06:26:14.652Z"
   },
   {
    "duration": 73,
    "start_time": "2022-02-20T06:26:14.658Z"
   },
   {
    "duration": 26,
    "start_time": "2022-02-20T06:26:14.734Z"
   },
   {
    "duration": 9,
    "start_time": "2022-02-20T06:26:14.763Z"
   },
   {
    "duration": 7,
    "start_time": "2022-02-20T06:26:14.776Z"
   },
   {
    "duration": 13,
    "start_time": "2022-02-20T06:26:14.785Z"
   },
   {
    "duration": 9,
    "start_time": "2022-02-20T06:26:14.801Z"
   },
   {
    "duration": 40,
    "start_time": "2022-02-20T06:26:14.813Z"
   },
   {
    "duration": 11,
    "start_time": "2022-02-20T06:26:14.857Z"
   },
   {
    "duration": 18,
    "start_time": "2022-02-20T06:26:14.871Z"
   },
   {
    "duration": 13,
    "start_time": "2022-02-20T06:26:14.892Z"
   },
   {
    "duration": 46,
    "start_time": "2022-02-20T06:26:14.908Z"
   },
   {
    "duration": 13,
    "start_time": "2022-02-20T06:26:14.957Z"
   },
   {
    "duration": 6,
    "start_time": "2022-02-20T06:26:14.973Z"
   },
   {
    "duration": 11,
    "start_time": "2022-02-20T06:26:14.982Z"
   },
   {
    "duration": 54,
    "start_time": "2022-02-20T06:26:14.996Z"
   },
   {
    "duration": 10,
    "start_time": "2022-02-20T06:26:15.053Z"
   },
   {
    "duration": 48,
    "start_time": "2022-02-20T06:26:15.065Z"
   },
   {
    "duration": 6,
    "start_time": "2022-02-20T06:26:15.116Z"
   },
   {
    "duration": 36,
    "start_time": "2022-02-20T06:26:15.124Z"
   },
   {
    "duration": 10,
    "start_time": "2022-02-20T06:26:15.164Z"
   },
   {
    "duration": 19,
    "start_time": "2022-02-20T06:26:15.176Z"
   },
   {
    "duration": 12,
    "start_time": "2022-02-20T06:26:15.197Z"
   },
   {
    "duration": 41,
    "start_time": "2022-02-20T06:26:15.212Z"
   },
   {
    "duration": 14,
    "start_time": "2022-02-20T06:26:15.256Z"
   },
   {
    "duration": 17,
    "start_time": "2022-02-20T06:26:15.273Z"
   },
   {
    "duration": 598,
    "start_time": "2022-02-20T06:26:15.295Z"
   },
   {
    "duration": -904,
    "start_time": "2022-02-20T06:26:16.800Z"
   },
   {
    "duration": -912,
    "start_time": "2022-02-20T06:26:16.810Z"
   },
   {
    "duration": 26,
    "start_time": "2022-02-20T06:29:20.989Z"
   },
   {
    "duration": 16,
    "start_time": "2022-02-20T06:29:27.338Z"
   },
   {
    "duration": 7,
    "start_time": "2022-02-20T06:29:56.828Z"
   },
   {
    "duration": 4,
    "start_time": "2022-02-20T06:30:00.821Z"
   },
   {
    "duration": 73,
    "start_time": "2022-02-20T06:30:00.828Z"
   },
   {
    "duration": 15,
    "start_time": "2022-02-20T06:30:00.905Z"
   },
   {
    "duration": 25,
    "start_time": "2022-02-20T06:30:00.923Z"
   },
   {
    "duration": 7,
    "start_time": "2022-02-20T06:30:00.950Z"
   },
   {
    "duration": 17,
    "start_time": "2022-02-20T06:30:00.959Z"
   },
   {
    "duration": 10,
    "start_time": "2022-02-20T06:30:00.979Z"
   },
   {
    "duration": 14,
    "start_time": "2022-02-20T06:30:00.992Z"
   },
   {
    "duration": 13,
    "start_time": "2022-02-20T06:30:01.010Z"
   },
   {
    "duration": 11,
    "start_time": "2022-02-20T06:30:01.048Z"
   },
   {
    "duration": 32,
    "start_time": "2022-02-20T06:30:01.062Z"
   },
   {
    "duration": 11,
    "start_time": "2022-02-20T06:30:01.097Z"
   },
   {
    "duration": 16,
    "start_time": "2022-02-20T06:30:01.111Z"
   },
   {
    "duration": 23,
    "start_time": "2022-02-20T06:30:01.129Z"
   },
   {
    "duration": 16,
    "start_time": "2022-02-20T06:30:01.155Z"
   },
   {
    "duration": 26,
    "start_time": "2022-02-20T06:30:01.173Z"
   },
   {
    "duration": 10,
    "start_time": "2022-02-20T06:30:01.202Z"
   },
   {
    "duration": 51,
    "start_time": "2022-02-20T06:30:01.215Z"
   },
   {
    "duration": 6,
    "start_time": "2022-02-20T06:30:01.269Z"
   },
   {
    "duration": 24,
    "start_time": "2022-02-20T06:30:01.278Z"
   },
   {
    "duration": 16,
    "start_time": "2022-02-20T06:30:01.305Z"
   },
   {
    "duration": 35,
    "start_time": "2022-02-20T06:30:01.324Z"
   },
   {
    "duration": 43,
    "start_time": "2022-02-20T06:30:01.362Z"
   },
   {
    "duration": 10,
    "start_time": "2022-02-20T06:30:01.408Z"
   },
   {
    "duration": 16,
    "start_time": "2022-02-20T06:30:01.421Z"
   },
   {
    "duration": 18,
    "start_time": "2022-02-20T06:30:01.440Z"
   },
   {
    "duration": 23,
    "start_time": "2022-02-20T06:30:01.464Z"
   },
   {
    "duration": 6,
    "start_time": "2022-02-20T06:30:01.489Z"
   },
   {
    "duration": 9,
    "start_time": "2022-02-20T06:30:01.498Z"
   },
   {
    "duration": 17,
    "start_time": "2022-02-20T06:30:10.309Z"
   },
   {
    "duration": 7,
    "start_time": "2022-02-20T06:30:37.416Z"
   },
   {
    "duration": 5,
    "start_time": "2022-02-20T06:30:39.563Z"
   },
   {
    "duration": 74,
    "start_time": "2022-02-20T06:30:39.571Z"
   },
   {
    "duration": 15,
    "start_time": "2022-02-20T06:30:39.648Z"
   },
   {
    "duration": 11,
    "start_time": "2022-02-20T06:30:39.665Z"
   },
   {
    "duration": 11,
    "start_time": "2022-02-20T06:30:39.678Z"
   },
   {
    "duration": 13,
    "start_time": "2022-02-20T06:30:39.692Z"
   },
   {
    "duration": 46,
    "start_time": "2022-02-20T06:30:39.707Z"
   },
   {
    "duration": 15,
    "start_time": "2022-02-20T06:30:39.755Z"
   },
   {
    "duration": 13,
    "start_time": "2022-02-20T06:30:39.774Z"
   },
   {
    "duration": 16,
    "start_time": "2022-02-20T06:30:39.790Z"
   },
   {
    "duration": 49,
    "start_time": "2022-02-20T06:30:39.809Z"
   },
   {
    "duration": 13,
    "start_time": "2022-02-20T06:30:39.861Z"
   },
   {
    "duration": 11,
    "start_time": "2022-02-20T06:30:39.877Z"
   },
   {
    "duration": 8,
    "start_time": "2022-02-20T06:30:39.890Z"
   },
   {
    "duration": 51,
    "start_time": "2022-02-20T06:30:39.900Z"
   },
   {
    "duration": 8,
    "start_time": "2022-02-20T06:30:39.953Z"
   },
   {
    "duration": 17,
    "start_time": "2022-02-20T06:30:39.964Z"
   },
   {
    "duration": 65,
    "start_time": "2022-02-20T06:30:39.984Z"
   },
   {
    "duration": 17,
    "start_time": "2022-02-20T06:30:40.052Z"
   },
   {
    "duration": 10,
    "start_time": "2022-02-20T06:30:40.072Z"
   },
   {
    "duration": 9,
    "start_time": "2022-02-20T06:30:40.086Z"
   },
   {
    "duration": 52,
    "start_time": "2022-02-20T06:30:40.098Z"
   },
   {
    "duration": 16,
    "start_time": "2022-02-20T06:30:40.152Z"
   },
   {
    "duration": 11,
    "start_time": "2022-02-20T06:30:40.171Z"
   },
   {
    "duration": 17,
    "start_time": "2022-02-20T06:30:40.184Z"
   },
   {
    "duration": 48,
    "start_time": "2022-02-20T06:30:40.204Z"
   },
   {
    "duration": 29,
    "start_time": "2022-02-20T06:30:40.258Z"
   },
   {
    "duration": 8,
    "start_time": "2022-02-20T06:30:40.290Z"
   },
   {
    "duration": 12,
    "start_time": "2022-02-20T06:30:40.300Z"
   },
   {
    "duration": 168,
    "start_time": "2022-02-20T06:30:54.333Z"
   },
   {
    "duration": 146,
    "start_time": "2022-02-20T06:30:59.383Z"
   },
   {
    "duration": -967,
    "start_time": "2022-02-20T06:31:30.229Z"
   },
   {
    "duration": -978,
    "start_time": "2022-02-20T06:31:30.242Z"
   },
   {
    "duration": -983,
    "start_time": "2022-02-20T06:31:30.250Z"
   },
   {
    "duration": -986,
    "start_time": "2022-02-20T06:31:30.255Z"
   },
   {
    "duration": -993,
    "start_time": "2022-02-20T06:31:30.264Z"
   },
   {
    "duration": -996,
    "start_time": "2022-02-20T06:31:30.269Z"
   },
   {
    "duration": -998,
    "start_time": "2022-02-20T06:31:30.274Z"
   },
   {
    "duration": -1002,
    "start_time": "2022-02-20T06:31:30.280Z"
   },
   {
    "duration": -1003,
    "start_time": "2022-02-20T06:31:30.283Z"
   },
   {
    "duration": -1005,
    "start_time": "2022-02-20T06:31:30.287Z"
   },
   {
    "duration": -1006,
    "start_time": "2022-02-20T06:31:30.290Z"
   },
   {
    "duration": -970,
    "start_time": "2022-02-20T06:31:30.317Z"
   },
   {
    "duration": -971,
    "start_time": "2022-02-20T06:31:30.321Z"
   },
   {
    "duration": -974,
    "start_time": "2022-02-20T06:31:30.326Z"
   },
   {
    "duration": -976,
    "start_time": "2022-02-20T06:31:30.330Z"
   },
   {
    "duration": -977,
    "start_time": "2022-02-20T06:31:30.334Z"
   },
   {
    "duration": -979,
    "start_time": "2022-02-20T06:31:30.338Z"
   },
   {
    "duration": -981,
    "start_time": "2022-02-20T06:31:30.342Z"
   },
   {
    "duration": -983,
    "start_time": "2022-02-20T06:31:30.346Z"
   },
   {
    "duration": -993,
    "start_time": "2022-02-20T06:31:30.358Z"
   },
   {
    "duration": -994,
    "start_time": "2022-02-20T06:31:30.362Z"
   },
   {
    "duration": -996,
    "start_time": "2022-02-20T06:31:30.366Z"
   },
   {
    "duration": -998,
    "start_time": "2022-02-20T06:31:30.370Z"
   },
   {
    "duration": -1002,
    "start_time": "2022-02-20T06:31:30.376Z"
   },
   {
    "duration": -1005,
    "start_time": "2022-02-20T06:31:30.381Z"
   },
   {
    "duration": -1009,
    "start_time": "2022-02-20T06:31:30.387Z"
   },
   {
    "duration": -1011,
    "start_time": "2022-02-20T06:31:30.391Z"
   },
   {
    "duration": -1013,
    "start_time": "2022-02-20T06:31:30.395Z"
   },
   {
    "duration": -1016,
    "start_time": "2022-02-20T06:31:30.401Z"
   },
   {
    "duration": 5,
    "start_time": "2022-02-20T06:31:34.898Z"
   },
   {
    "duration": 4,
    "start_time": "2022-02-20T06:31:38.476Z"
   },
   {
    "duration": 67,
    "start_time": "2022-02-20T06:31:38.483Z"
   },
   {
    "duration": 16,
    "start_time": "2022-02-20T06:31:38.553Z"
   },
   {
    "duration": 23,
    "start_time": "2022-02-20T06:31:38.572Z"
   },
   {
    "duration": 8,
    "start_time": "2022-02-20T06:31:38.598Z"
   },
   {
    "duration": 17,
    "start_time": "2022-02-20T06:31:38.609Z"
   },
   {
    "duration": 24,
    "start_time": "2022-02-20T06:31:38.628Z"
   },
   {
    "duration": 7,
    "start_time": "2022-02-20T06:31:38.655Z"
   },
   {
    "duration": 7,
    "start_time": "2022-02-20T06:31:38.666Z"
   },
   {
    "duration": 21,
    "start_time": "2022-02-20T06:31:38.677Z"
   },
   {
    "duration": 52,
    "start_time": "2022-02-20T06:31:38.701Z"
   },
   {
    "duration": 12,
    "start_time": "2022-02-20T06:31:38.755Z"
   },
   {
    "duration": 11,
    "start_time": "2022-02-20T06:31:38.769Z"
   },
   {
    "duration": 12,
    "start_time": "2022-02-20T06:31:38.783Z"
   },
   {
    "duration": 12,
    "start_time": "2022-02-20T06:31:38.798Z"
   },
   {
    "duration": 40,
    "start_time": "2022-02-20T06:31:38.813Z"
   },
   {
    "duration": 18,
    "start_time": "2022-02-20T06:31:38.856Z"
   },
   {
    "duration": 39,
    "start_time": "2022-02-20T06:31:38.877Z"
   },
   {
    "duration": 29,
    "start_time": "2022-02-20T06:31:38.919Z"
   },
   {
    "duration": 8,
    "start_time": "2022-02-20T06:31:38.952Z"
   },
   {
    "duration": 12,
    "start_time": "2022-02-20T06:31:38.963Z"
   },
   {
    "duration": 20,
    "start_time": "2022-02-20T06:31:38.977Z"
   },
   {
    "duration": 55,
    "start_time": "2022-02-20T06:31:39.000Z"
   },
   {
    "duration": 9,
    "start_time": "2022-02-20T06:31:39.058Z"
   },
   {
    "duration": 17,
    "start_time": "2022-02-20T06:31:39.070Z"
   },
   {
    "duration": 13,
    "start_time": "2022-02-20T06:31:39.089Z"
   },
   {
    "duration": 65,
    "start_time": "2022-02-20T06:31:39.110Z"
   },
   {
    "duration": 6,
    "start_time": "2022-02-20T06:31:39.178Z"
   },
   {
    "duration": 9,
    "start_time": "2022-02-20T06:31:39.186Z"
   },
   {
    "duration": 21,
    "start_time": "2022-02-20T06:32:26.921Z"
   },
   {
    "duration": 3,
    "start_time": "2022-02-20T06:32:45.999Z"
   },
   {
    "duration": 53,
    "start_time": "2022-02-20T06:32:46.014Z"
   },
   {
    "duration": 14,
    "start_time": "2022-02-20T06:32:46.070Z"
   },
   {
    "duration": 6,
    "start_time": "2022-02-20T06:32:46.087Z"
   },
   {
    "duration": 8,
    "start_time": "2022-02-20T06:32:46.096Z"
   },
   {
    "duration": 45,
    "start_time": "2022-02-20T06:32:46.107Z"
   },
   {
    "duration": 7,
    "start_time": "2022-02-20T06:32:46.155Z"
   },
   {
    "duration": 13,
    "start_time": "2022-02-20T06:32:46.165Z"
   },
   {
    "duration": 8,
    "start_time": "2022-02-20T06:32:46.181Z"
   },
   {
    "duration": 13,
    "start_time": "2022-02-20T06:32:46.195Z"
   },
   {
    "duration": 11,
    "start_time": "2022-02-20T06:32:46.250Z"
   },
   {
    "duration": 13,
    "start_time": "2022-02-20T06:32:46.264Z"
   },
   {
    "duration": 10,
    "start_time": "2022-02-20T06:32:46.280Z"
   },
   {
    "duration": 7,
    "start_time": "2022-02-20T06:32:46.292Z"
   },
   {
    "duration": 50,
    "start_time": "2022-02-20T06:32:46.302Z"
   },
   {
    "duration": 7,
    "start_time": "2022-02-20T06:32:46.354Z"
   },
   {
    "duration": 16,
    "start_time": "2022-02-20T06:32:46.364Z"
   },
   {
    "duration": 37,
    "start_time": "2022-02-20T06:32:46.383Z"
   },
   {
    "duration": 31,
    "start_time": "2022-02-20T06:32:46.423Z"
   },
   {
    "duration": 11,
    "start_time": "2022-02-20T06:32:46.456Z"
   },
   {
    "duration": 8,
    "start_time": "2022-02-20T06:32:46.472Z"
   },
   {
    "duration": 19,
    "start_time": "2022-02-20T06:32:46.482Z"
   },
   {
    "duration": 51,
    "start_time": "2022-02-20T06:32:46.504Z"
   },
   {
    "duration": 9,
    "start_time": "2022-02-20T06:32:46.557Z"
   },
   {
    "duration": 14,
    "start_time": "2022-02-20T06:32:46.568Z"
   },
   {
    "duration": 15,
    "start_time": "2022-02-20T06:32:46.585Z"
   },
   {
    "duration": 59,
    "start_time": "2022-02-20T06:32:46.602Z"
   },
   {
    "duration": 15,
    "start_time": "2022-02-20T06:32:46.666Z"
   },
   {
    "duration": 4,
    "start_time": "2022-02-20T06:32:46.684Z"
   },
   {
    "duration": 3,
    "start_time": "2022-02-20T06:33:43.787Z"
   },
   {
    "duration": 3,
    "start_time": "2022-02-20T06:34:25.393Z"
   },
   {
    "duration": 396,
    "start_time": "2022-02-20T06:37:30.357Z"
   },
   {
    "duration": 7613,
    "start_time": "2022-02-20T06:40:11.281Z"
   },
   {
    "duration": 288,
    "start_time": "2022-02-20T06:40:49.124Z"
   },
   {
    "duration": 25,
    "start_time": "2022-02-20T06:41:05.913Z"
   },
   {
    "duration": 305,
    "start_time": "2022-02-20T06:41:51.630Z"
   },
   {
    "duration": 26,
    "start_time": "2022-02-20T06:41:59.833Z"
   },
   {
    "duration": 26,
    "start_time": "2022-02-20T06:42:05.899Z"
   },
   {
    "duration": 370,
    "start_time": "2022-02-20T06:42:18.561Z"
   },
   {
    "duration": 29,
    "start_time": "2022-02-20T06:42:27.515Z"
   },
   {
    "duration": 288,
    "start_time": "2022-02-20T06:42:53.331Z"
   },
   {
    "duration": 28,
    "start_time": "2022-02-20T06:43:28.985Z"
   },
   {
    "duration": 30,
    "start_time": "2022-02-20T06:43:34.324Z"
   },
   {
    "duration": 373,
    "start_time": "2022-02-20T07:33:14.136Z"
   },
   {
    "duration": 606,
    "start_time": "2022-02-20T07:33:20.010Z"
   },
   {
    "duration": 396,
    "start_time": "2022-02-20T07:33:25.767Z"
   },
   {
    "duration": 7,
    "start_time": "2022-02-20T07:34:27.294Z"
   },
   {
    "duration": 6,
    "start_time": "2022-02-20T07:34:37.164Z"
   },
   {
    "duration": 10,
    "start_time": "2022-02-20T07:34:40.989Z"
   },
   {
    "duration": 9,
    "start_time": "2022-02-20T07:34:48.993Z"
   },
   {
    "duration": 9,
    "start_time": "2022-02-20T07:35:12.173Z"
   },
   {
    "duration": 274,
    "start_time": "2022-02-20T07:35:15.189Z"
   },
   {
    "duration": 3,
    "start_time": "2022-02-20T07:35:46.412Z"
   },
   {
    "duration": 3,
    "start_time": "2022-02-20T07:36:29.034Z"
   },
   {
    "duration": 263,
    "start_time": "2022-02-20T07:36:58.659Z"
   },
   {
    "duration": 9,
    "start_time": "2022-02-20T07:37:34.848Z"
   },
   {
    "duration": 372,
    "start_time": "2022-02-20T07:37:43.017Z"
   },
   {
    "duration": 293,
    "start_time": "2022-02-20T07:37:46.230Z"
   },
   {
    "duration": 318,
    "start_time": "2022-02-20T07:38:00.001Z"
   },
   {
    "duration": 318,
    "start_time": "2022-02-20T07:38:04.428Z"
   },
   {
    "duration": 439,
    "start_time": "2022-02-20T07:38:09.146Z"
   },
   {
    "duration": 330,
    "start_time": "2022-02-20T07:38:22.320Z"
   },
   {
    "duration": 436,
    "start_time": "2022-02-20T07:38:30.147Z"
   },
   {
    "duration": 313,
    "start_time": "2022-02-20T07:39:12.721Z"
   },
   {
    "duration": 462,
    "start_time": "2022-02-20T07:39:27.792Z"
   },
   {
    "duration": 3,
    "start_time": "2022-02-20T07:42:24.588Z"
   },
   {
    "duration": 8,
    "start_time": "2022-02-20T07:43:37.763Z"
   },
   {
    "duration": 11,
    "start_time": "2022-02-20T07:43:51.062Z"
   },
   {
    "duration": 361,
    "start_time": "2022-02-20T07:44:03.596Z"
   },
   {
    "duration": 325,
    "start_time": "2022-02-20T07:44:17.444Z"
   },
   {
    "duration": 424,
    "start_time": "2022-02-20T07:45:45.234Z"
   },
   {
    "duration": 398,
    "start_time": "2022-02-20T07:46:06.129Z"
   },
   {
    "duration": 291,
    "start_time": "2022-02-20T07:46:14.718Z"
   },
   {
    "duration": 328,
    "start_time": "2022-02-20T07:46:28.793Z"
   },
   {
    "duration": 6,
    "start_time": "2022-02-20T07:46:32.008Z"
   },
   {
    "duration": 6,
    "start_time": "2022-02-20T07:46:51.576Z"
   },
   {
    "duration": 12,
    "start_time": "2022-02-20T07:47:02.029Z"
   },
   {
    "duration": 8,
    "start_time": "2022-02-20T07:47:47.627Z"
   },
   {
    "duration": 353,
    "start_time": "2022-02-20T07:48:49.835Z"
   },
   {
    "duration": 19,
    "start_time": "2022-02-20T07:48:56.721Z"
   },
   {
    "duration": -1482,
    "start_time": "2022-02-20T07:49:35.945Z"
   },
   {
    "duration": 731,
    "start_time": "2022-02-20T07:49:42.004Z"
   },
   {
    "duration": 66,
    "start_time": "2022-02-20T07:49:42.738Z"
   },
   {
    "duration": 13,
    "start_time": "2022-02-20T07:49:42.808Z"
   },
   {
    "duration": 28,
    "start_time": "2022-02-20T07:49:42.824Z"
   },
   {
    "duration": 8,
    "start_time": "2022-02-20T07:49:42.855Z"
   },
   {
    "duration": 8,
    "start_time": "2022-02-20T07:49:42.866Z"
   },
   {
    "duration": 7,
    "start_time": "2022-02-20T07:49:42.877Z"
   },
   {
    "duration": 64,
    "start_time": "2022-02-20T07:49:42.886Z"
   },
   {
    "duration": 7,
    "start_time": "2022-02-20T07:49:42.953Z"
   },
   {
    "duration": 17,
    "start_time": "2022-02-20T07:49:42.964Z"
   },
   {
    "duration": 11,
    "start_time": "2022-02-20T07:49:42.983Z"
   },
   {
    "duration": 10,
    "start_time": "2022-02-20T07:49:42.997Z"
   },
   {
    "duration": 47,
    "start_time": "2022-02-20T07:49:43.009Z"
   },
   {
    "duration": 9,
    "start_time": "2022-02-20T07:49:43.060Z"
   },
   {
    "duration": 9,
    "start_time": "2022-02-20T07:49:43.072Z"
   },
   {
    "duration": 8,
    "start_time": "2022-02-20T07:49:43.083Z"
   },
   {
    "duration": 54,
    "start_time": "2022-02-20T07:49:43.094Z"
   },
   {
    "duration": 39,
    "start_time": "2022-02-20T07:49:43.151Z"
   },
   {
    "duration": 6,
    "start_time": "2022-02-20T07:49:43.192Z"
   },
   {
    "duration": 10,
    "start_time": "2022-02-20T07:49:43.200Z"
   },
   {
    "duration": 42,
    "start_time": "2022-02-20T07:49:43.213Z"
   },
   {
    "duration": 20,
    "start_time": "2022-02-20T07:49:43.257Z"
   },
   {
    "duration": 13,
    "start_time": "2022-02-20T07:49:43.280Z"
   },
   {
    "duration": 8,
    "start_time": "2022-02-20T07:49:43.295Z"
   },
   {
    "duration": 45,
    "start_time": "2022-02-20T07:49:43.306Z"
   },
   {
    "duration": 13,
    "start_time": "2022-02-20T07:49:43.354Z"
   },
   {
    "duration": 25,
    "start_time": "2022-02-20T07:49:43.372Z"
   },
   {
    "duration": 54,
    "start_time": "2022-02-20T07:49:43.400Z"
   },
   {
    "duration": 5,
    "start_time": "2022-02-20T07:49:43.456Z"
   },
   {
    "duration": 13,
    "start_time": "2022-02-20T07:49:43.464Z"
   },
   {
    "duration": 407,
    "start_time": "2022-02-20T07:49:43.479Z"
   },
   {
    "duration": 449,
    "start_time": "2022-02-20T07:49:43.889Z"
   },
   {
    "duration": 344,
    "start_time": "2022-02-20T07:49:44.340Z"
   },
   {
    "duration": 1715,
    "start_time": "2022-02-20T07:49:44.686Z"
   },
   {
    "duration": 397,
    "start_time": "2022-02-20T07:50:05.614Z"
   },
   {
    "duration": 631,
    "start_time": "2022-02-20T07:52:38.506Z"
   },
   {
    "duration": 464,
    "start_time": "2022-02-20T07:53:05.938Z"
   },
   {
    "duration": 278,
    "start_time": "2022-02-20T07:53:33.216Z"
   },
   {
    "duration": 3,
    "start_time": "2022-02-20T07:53:45.475Z"
   },
   {
    "duration": 238,
    "start_time": "2022-02-20T07:53:52.792Z"
   },
   {
    "duration": 6,
    "start_time": "2022-02-20T07:54:31.601Z"
   },
   {
    "duration": 597,
    "start_time": "2022-02-20T07:55:06.875Z"
   },
   {
    "duration": 355962,
    "start_time": "2022-02-20T07:55:55.125Z"
   },
   {
    "duration": 4,
    "start_time": "2022-02-20T08:01:51.091Z"
   },
   {
    "duration": 294,
    "start_time": "2022-02-20T08:01:51.120Z"
   },
   {
    "duration": -1003,
    "start_time": "2022-02-20T08:01:52.420Z"
   },
   {
    "duration": 1607,
    "start_time": "2022-02-20T08:02:03.548Z"
   },
   {
    "duration": 5,
    "start_time": "2022-02-20T08:02:05.159Z"
   },
   {
    "duration": 109,
    "start_time": "2022-02-20T08:02:05.174Z"
   },
   {
    "duration": 18,
    "start_time": "2022-02-20T08:02:05.286Z"
   },
   {
    "duration": 8,
    "start_time": "2022-02-20T08:02:05.307Z"
   },
   {
    "duration": 38,
    "start_time": "2022-02-20T08:02:05.318Z"
   },
   {
    "duration": 10,
    "start_time": "2022-02-20T08:02:05.359Z"
   },
   {
    "duration": 12,
    "start_time": "2022-02-20T08:02:05.374Z"
   },
   {
    "duration": 9,
    "start_time": "2022-02-20T08:02:05.390Z"
   },
   {
    "duration": 10,
    "start_time": "2022-02-20T08:02:05.401Z"
   },
   {
    "duration": 44,
    "start_time": "2022-02-20T08:02:05.414Z"
   },
   {
    "duration": 11,
    "start_time": "2022-02-20T08:02:05.461Z"
   },
   {
    "duration": 18,
    "start_time": "2022-02-20T08:02:05.475Z"
   },
   {
    "duration": 11,
    "start_time": "2022-02-20T08:02:05.495Z"
   },
   {
    "duration": 45,
    "start_time": "2022-02-20T08:02:05.509Z"
   },
   {
    "duration": 10,
    "start_time": "2022-02-20T08:02:05.557Z"
   },
   {
    "duration": 8,
    "start_time": "2022-02-20T08:02:05.570Z"
   },
   {
    "duration": 9,
    "start_time": "2022-02-20T08:02:05.581Z"
   },
   {
    "duration": 80,
    "start_time": "2022-02-20T08:02:05.592Z"
   },
   {
    "duration": 8,
    "start_time": "2022-02-20T08:02:05.675Z"
   },
   {
    "duration": 17,
    "start_time": "2022-02-20T08:02:05.686Z"
   },
   {
    "duration": 10,
    "start_time": "2022-02-20T08:02:05.706Z"
   },
   {
    "duration": 24,
    "start_time": "2022-02-20T08:02:05.748Z"
   },
   {
    "duration": 19,
    "start_time": "2022-02-20T08:02:05.775Z"
   },
   {
    "duration": 13,
    "start_time": "2022-02-20T08:02:05.797Z"
   },
   {
    "duration": 40,
    "start_time": "2022-02-20T08:02:05.815Z"
   },
   {
    "duration": 26,
    "start_time": "2022-02-20T08:02:05.859Z"
   },
   {
    "duration": 28,
    "start_time": "2022-02-20T08:02:05.887Z"
   },
   {
    "duration": 19,
    "start_time": "2022-02-20T08:02:05.949Z"
   },
   {
    "duration": 6,
    "start_time": "2022-02-20T08:02:05.971Z"
   },
   {
    "duration": 10,
    "start_time": "2022-02-20T08:02:05.980Z"
   },
   {
    "duration": 331,
    "start_time": "2022-02-20T08:02:05.993Z"
   },
   {
    "duration": 511,
    "start_time": "2022-02-20T08:02:06.326Z"
   },
   {
    "duration": 352,
    "start_time": "2022-02-20T08:02:06.848Z"
   },
   {
    "duration": 12,
    "start_time": "2022-02-20T08:02:07.203Z"
   },
   {
    "duration": 483,
    "start_time": "2022-02-20T08:02:07.218Z"
   },
   {
    "duration": 676196,
    "start_time": "2022-02-20T08:02:14.067Z"
   },
   {
    "duration": 742,
    "start_time": "2022-02-20T08:13:43.944Z"
   },
   {
    "duration": 748,
    "start_time": "2022-02-20T08:13:44.689Z"
   },
   {
    "duration": 70,
    "start_time": "2022-02-20T08:13:45.440Z"
   },
   {
    "duration": 14,
    "start_time": "2022-02-20T08:13:45.513Z"
   },
   {
    "duration": 21,
    "start_time": "2022-02-20T08:13:45.529Z"
   },
   {
    "duration": 7,
    "start_time": "2022-02-20T08:13:45.552Z"
   },
   {
    "duration": 11,
    "start_time": "2022-02-20T08:13:45.561Z"
   },
   {
    "duration": 7,
    "start_time": "2022-02-20T08:13:45.575Z"
   },
   {
    "duration": 8,
    "start_time": "2022-02-20T08:13:45.585Z"
   },
   {
    "duration": 56,
    "start_time": "2022-02-20T08:13:45.595Z"
   },
   {
    "duration": 30,
    "start_time": "2022-02-20T08:13:45.653Z"
   },
   {
    "duration": 10,
    "start_time": "2022-02-20T08:13:45.686Z"
   },
   {
    "duration": 12,
    "start_time": "2022-02-20T08:13:45.699Z"
   },
   {
    "duration": 37,
    "start_time": "2022-02-20T08:13:45.715Z"
   },
   {
    "duration": 8,
    "start_time": "2022-02-20T08:13:45.755Z"
   },
   {
    "duration": 9,
    "start_time": "2022-02-20T08:13:45.766Z"
   },
   {
    "duration": 7,
    "start_time": "2022-02-20T08:13:45.778Z"
   },
   {
    "duration": 7,
    "start_time": "2022-02-20T08:13:45.787Z"
   },
   {
    "duration": 80,
    "start_time": "2022-02-20T08:13:45.796Z"
   },
   {
    "duration": 6,
    "start_time": "2022-02-20T08:13:45.878Z"
   },
   {
    "duration": 10,
    "start_time": "2022-02-20T08:13:45.886Z"
   },
   {
    "duration": 15,
    "start_time": "2022-02-20T08:13:45.898Z"
   },
   {
    "duration": 46,
    "start_time": "2022-02-20T08:13:45.918Z"
   },
   {
    "duration": 14,
    "start_time": "2022-02-20T08:13:45.967Z"
   },
   {
    "duration": 8,
    "start_time": "2022-02-20T08:13:45.983Z"
   },
   {
    "duration": 9,
    "start_time": "2022-02-20T08:13:45.993Z"
   },
   {
    "duration": 54,
    "start_time": "2022-02-20T08:13:46.004Z"
   },
   {
    "duration": 35,
    "start_time": "2022-02-20T08:13:46.060Z"
   },
   {
    "duration": 14,
    "start_time": "2022-02-20T08:13:46.097Z"
   },
   {
    "duration": 7,
    "start_time": "2022-02-20T08:13:46.114Z"
   },
   {
    "duration": 32,
    "start_time": "2022-02-20T08:13:46.123Z"
   },
   {
    "duration": 295,
    "start_time": "2022-02-20T08:13:46.157Z"
   },
   {
    "duration": 445,
    "start_time": "2022-02-20T08:13:46.454Z"
   },
   {
    "duration": 350,
    "start_time": "2022-02-20T08:13:46.901Z"
   },
   {
    "duration": 11,
    "start_time": "2022-02-20T08:13:47.254Z"
   },
   {
    "duration": 437,
    "start_time": "2022-02-20T08:13:47.267Z"
   },
   {
    "duration": 214,
    "start_time": "2022-02-20T08:13:54.839Z"
   },
   {
    "duration": 758,
    "start_time": "2022-02-20T08:14:17.381Z"
   },
   {
    "duration": 788,
    "start_time": "2022-02-20T08:16:13.353Z"
   },
   {
    "duration": 70,
    "start_time": "2022-02-20T08:16:14.144Z"
   },
   {
    "duration": 37,
    "start_time": "2022-02-20T08:16:14.220Z"
   },
   {
    "duration": 12,
    "start_time": "2022-02-20T08:16:14.259Z"
   },
   {
    "duration": 9,
    "start_time": "2022-02-20T08:16:14.273Z"
   },
   {
    "duration": 6,
    "start_time": "2022-02-20T08:16:14.285Z"
   },
   {
    "duration": 18,
    "start_time": "2022-02-20T08:16:14.295Z"
   },
   {
    "duration": 36,
    "start_time": "2022-02-20T08:16:14.317Z"
   },
   {
    "duration": 10,
    "start_time": "2022-02-20T08:16:14.355Z"
   },
   {
    "duration": 15,
    "start_time": "2022-02-20T08:16:14.367Z"
   },
   {
    "duration": 12,
    "start_time": "2022-02-20T08:16:14.386Z"
   },
   {
    "duration": 56,
    "start_time": "2022-02-20T08:16:14.401Z"
   },
   {
    "duration": 13,
    "start_time": "2022-02-20T08:16:14.461Z"
   },
   {
    "duration": 13,
    "start_time": "2022-02-20T08:16:14.476Z"
   },
   {
    "duration": 20,
    "start_time": "2022-02-20T08:16:14.492Z"
   },
   {
    "duration": 36,
    "start_time": "2022-02-20T08:16:14.514Z"
   },
   {
    "duration": 8,
    "start_time": "2022-02-20T08:16:14.552Z"
   },
   {
    "duration": 47,
    "start_time": "2022-02-20T08:16:14.563Z"
   },
   {
    "duration": 6,
    "start_time": "2022-02-20T08:16:14.613Z"
   },
   {
    "duration": 29,
    "start_time": "2022-02-20T08:16:14.621Z"
   },
   {
    "duration": 10,
    "start_time": "2022-02-20T08:16:14.653Z"
   },
   {
    "duration": 17,
    "start_time": "2022-02-20T08:16:14.668Z"
   },
   {
    "duration": 13,
    "start_time": "2022-02-20T08:16:14.687Z"
   },
   {
    "duration": 50,
    "start_time": "2022-02-20T08:16:14.702Z"
   },
   {
    "duration": 10,
    "start_time": "2022-02-20T08:16:14.754Z"
   },
   {
    "duration": 15,
    "start_time": "2022-02-20T08:16:14.766Z"
   },
   {
    "duration": 28,
    "start_time": "2022-02-20T08:16:14.783Z"
   },
   {
    "duration": 49,
    "start_time": "2022-02-20T08:16:14.814Z"
   },
   {
    "duration": 5,
    "start_time": "2022-02-20T08:16:14.866Z"
   },
   {
    "duration": 9,
    "start_time": "2022-02-20T08:16:14.873Z"
   },
   {
    "duration": 416,
    "start_time": "2022-02-20T08:16:14.884Z"
   },
   {
    "duration": 438,
    "start_time": "2022-02-20T08:16:15.303Z"
   },
   {
    "duration": 341,
    "start_time": "2022-02-20T08:16:15.748Z"
   },
   {
    "duration": 12,
    "start_time": "2022-02-20T08:16:16.092Z"
   },
   {
    "duration": 395,
    "start_time": "2022-02-20T08:16:16.107Z"
   },
   {
    "duration": 13,
    "start_time": "2022-02-20T08:16:26.255Z"
   },
   {
    "duration": 578,
    "start_time": "2022-02-20T08:16:37.574Z"
   },
   {
    "duration": 255,
    "start_time": "2022-02-20T08:16:46.758Z"
   },
   {
    "duration": 12,
    "start_time": "2022-02-20T08:16:59.211Z"
   },
   {
    "duration": 318,
    "start_time": "2022-02-20T08:17:47.677Z"
   },
   {
    "duration": 273,
    "start_time": "2022-02-20T08:18:10.357Z"
   },
   {
    "duration": 292,
    "start_time": "2022-02-20T08:18:26.372Z"
   },
   {
    "duration": 271,
    "start_time": "2022-02-20T08:18:36.779Z"
   },
   {
    "duration": -1038,
    "start_time": "2022-02-20T08:19:54.427Z"
   },
   {
    "duration": 7183,
    "start_time": "2022-02-20T08:20:05.315Z"
   },
   {
    "duration": 109,
    "start_time": "2022-02-20T08:20:34.333Z"
   },
   {
    "duration": 97,
    "start_time": "2022-02-20T08:20:37.595Z"
   },
   {
    "duration": 316,
    "start_time": "2022-02-20T08:20:43.451Z"
   },
   {
    "duration": 314,
    "start_time": "2022-02-20T08:20:57.580Z"
   },
   {
    "duration": 9,
    "start_time": "2022-02-20T08:21:02.290Z"
   },
   {
    "duration": 17,
    "start_time": "2022-02-20T08:21:15.705Z"
   },
   {
    "duration": 400,
    "start_time": "2022-02-20T08:21:19.972Z"
   },
   {
    "duration": 590,
    "start_time": "2022-02-20T08:21:28.375Z"
   },
   {
    "duration": 335,
    "start_time": "2022-02-20T08:21:42.286Z"
   },
   {
    "duration": 4,
    "start_time": "2022-02-20T08:21:57.989Z"
   },
   {
    "duration": 988,
    "start_time": "2022-02-20T08:22:03.408Z"
   },
   {
    "duration": 905,
    "start_time": "2022-02-20T08:22:23.143Z"
   },
   {
    "duration": 11,
    "start_time": "2022-02-20T08:22:42.445Z"
   },
   {
    "duration": 1539,
    "start_time": "2022-02-20T08:22:44.126Z"
   },
   {
    "duration": 12,
    "start_time": "2022-02-20T08:23:04.842Z"
   },
   {
    "duration": 1399,
    "start_time": "2022-02-20T08:23:06.211Z"
   },
   {
    "duration": 331,
    "start_time": "2022-02-20T08:28:06.474Z"
   },
   {
    "duration": 7,
    "start_time": "2022-02-20T08:28:08.412Z"
   },
   {
    "duration": 11,
    "start_time": "2022-02-20T08:28:43.376Z"
   },
   {
    "duration": 13,
    "start_time": "2022-02-20T08:28:49.049Z"
   },
   {
    "duration": 300,
    "start_time": "2022-02-20T08:28:52.850Z"
   },
   {
    "duration": 15,
    "start_time": "2022-02-20T08:28:56.694Z"
   },
   {
    "duration": 13,
    "start_time": "2022-02-20T08:29:06.708Z"
   },
   {
    "duration": 8,
    "start_time": "2022-02-20T08:29:13.885Z"
   },
   {
    "duration": 8,
    "start_time": "2022-02-20T08:30:06.281Z"
   },
   {
    "duration": 109,
    "start_time": "2022-02-20T08:31:00.456Z"
   },
   {
    "duration": 281,
    "start_time": "2022-02-20T08:31:02.946Z"
   },
   {
    "duration": 292,
    "start_time": "2022-02-20T08:31:28.302Z"
   },
   {
    "duration": 325,
    "start_time": "2022-02-20T08:34:18.432Z"
   },
   {
    "duration": 233,
    "start_time": "2022-02-20T08:34:28.051Z"
   },
   {
    "duration": 291,
    "start_time": "2022-02-20T08:35:42.659Z"
   },
   {
    "duration": 315,
    "start_time": "2022-02-20T08:35:53.065Z"
   },
   {
    "duration": 424,
    "start_time": "2022-02-20T08:36:01.214Z"
   },
   {
    "duration": 223,
    "start_time": "2022-02-20T08:36:30.081Z"
   },
   {
    "duration": 218,
    "start_time": "2022-02-20T08:36:41.386Z"
   },
   {
    "duration": 420,
    "start_time": "2022-02-20T08:37:01.616Z"
   },
   {
    "duration": 385,
    "start_time": "2022-02-20T08:37:13.681Z"
   },
   {
    "duration": 287,
    "start_time": "2022-02-20T08:37:18.428Z"
   },
   {
    "duration": 201,
    "start_time": "2022-02-20T08:37:21.683Z"
   },
   {
    "duration": 10,
    "start_time": "2022-02-20T08:38:38.037Z"
   },
   {
    "duration": 321,
    "start_time": "2022-02-20T08:38:44.400Z"
   },
   {
    "duration": 282,
    "start_time": "2022-02-20T08:38:52.749Z"
   },
   {
    "duration": 227,
    "start_time": "2022-02-20T08:39:23.805Z"
   },
   {
    "duration": 236,
    "start_time": "2022-02-20T08:39:46.444Z"
   },
   {
    "duration": 309,
    "start_time": "2022-02-20T08:40:40.996Z"
   },
   {
    "duration": 230,
    "start_time": "2022-02-20T08:40:44.447Z"
   },
   {
    "duration": 479,
    "start_time": "2022-02-20T08:41:46.802Z"
   },
   {
    "duration": 273,
    "start_time": "2022-02-20T08:42:54.978Z"
   },
   {
    "duration": 9,
    "start_time": "2022-02-20T08:43:34.480Z"
   },
   {
    "duration": 347,
    "start_time": "2022-02-20T08:43:42.632Z"
   },
   {
    "duration": 349,
    "start_time": "2022-02-20T08:44:08.208Z"
   },
   {
    "duration": 588,
    "start_time": "2022-02-20T08:49:18.940Z"
   },
   {
    "duration": 337,
    "start_time": "2022-02-20T08:49:30.836Z"
   },
   {
    "duration": 339,
    "start_time": "2022-02-20T08:53:08.837Z"
   },
   {
    "duration": 445,
    "start_time": "2022-02-20T08:53:11.710Z"
   },
   {
    "duration": 6149,
    "start_time": "2022-02-20T08:58:15.425Z"
   },
   {
    "duration": 335,
    "start_time": "2022-02-20T08:59:32.606Z"
   },
   {
    "duration": 852,
    "start_time": "2022-02-20T08:59:39.622Z"
   },
   {
    "duration": 369,
    "start_time": "2022-02-20T09:04:23.093Z"
   },
   {
    "duration": 3,
    "start_time": "2022-02-20T09:04:26.440Z"
   },
   {
    "duration": 72,
    "start_time": "2022-02-20T09:04:26.446Z"
   },
   {
    "duration": 44,
    "start_time": "2022-02-20T09:04:26.522Z"
   },
   {
    "duration": 47,
    "start_time": "2022-02-20T09:04:26.570Z"
   },
   {
    "duration": 39,
    "start_time": "2022-02-20T09:04:26.620Z"
   },
   {
    "duration": 19,
    "start_time": "2022-02-20T09:04:26.662Z"
   },
   {
    "duration": 25,
    "start_time": "2022-02-20T09:04:26.684Z"
   },
   {
    "duration": 50,
    "start_time": "2022-02-20T09:04:26.713Z"
   },
   {
    "duration": 41,
    "start_time": "2022-02-20T09:04:26.766Z"
   },
   {
    "duration": 19,
    "start_time": "2022-02-20T09:04:26.810Z"
   },
   {
    "duration": 55,
    "start_time": "2022-02-20T09:04:26.831Z"
   },
   {
    "duration": 32,
    "start_time": "2022-02-20T09:04:26.889Z"
   },
   {
    "duration": 42,
    "start_time": "2022-02-20T09:04:26.923Z"
   },
   {
    "duration": 44,
    "start_time": "2022-02-20T09:04:26.968Z"
   },
   {
    "duration": 12,
    "start_time": "2022-02-20T09:04:27.015Z"
   },
   {
    "duration": 27,
    "start_time": "2022-02-20T09:04:27.029Z"
   },
   {
    "duration": 53,
    "start_time": "2022-02-20T09:04:27.059Z"
   },
   {
    "duration": 57,
    "start_time": "2022-02-20T09:04:27.115Z"
   },
   {
    "duration": 8,
    "start_time": "2022-02-20T09:04:27.175Z"
   },
   {
    "duration": 40,
    "start_time": "2022-02-20T09:04:27.186Z"
   },
   {
    "duration": 38,
    "start_time": "2022-02-20T09:04:27.229Z"
   },
   {
    "duration": 30,
    "start_time": "2022-02-20T09:04:27.270Z"
   },
   {
    "duration": 30,
    "start_time": "2022-02-20T09:04:27.306Z"
   },
   {
    "duration": 19,
    "start_time": "2022-02-20T09:04:27.339Z"
   },
   {
    "duration": 32,
    "start_time": "2022-02-20T09:04:27.361Z"
   },
   {
    "duration": 44,
    "start_time": "2022-02-20T09:04:27.396Z"
   },
   {
    "duration": 55,
    "start_time": "2022-02-20T09:04:27.443Z"
   },
   {
    "duration": 25,
    "start_time": "2022-02-20T09:04:27.502Z"
   },
   {
    "duration": 344,
    "start_time": "2022-02-20T09:04:27.530Z"
   },
   {
    "duration": -1501,
    "start_time": "2022-02-20T09:04:29.379Z"
   },
   {
    "duration": -1504,
    "start_time": "2022-02-20T09:04:29.384Z"
   },
   {
    "duration": -1506,
    "start_time": "2022-02-20T09:04:29.389Z"
   },
   {
    "duration": -1510,
    "start_time": "2022-02-20T09:04:29.395Z"
   },
   {
    "duration": -1512,
    "start_time": "2022-02-20T09:04:29.399Z"
   },
   {
    "duration": -1515,
    "start_time": "2022-02-20T09:04:29.404Z"
   },
   {
    "duration": -1518,
    "start_time": "2022-02-20T09:04:29.409Z"
   },
   {
    "duration": -1521,
    "start_time": "2022-02-20T09:04:29.414Z"
   },
   {
    "duration": -1523,
    "start_time": "2022-02-20T09:04:29.418Z"
   },
   {
    "duration": -1526,
    "start_time": "2022-02-20T09:04:29.423Z"
   },
   {
    "duration": -1528,
    "start_time": "2022-02-20T09:04:29.427Z"
   },
   {
    "duration": 7,
    "start_time": "2022-02-20T09:05:40.871Z"
   },
   {
    "duration": 8,
    "start_time": "2022-02-20T09:06:01.642Z"
   },
   {
    "duration": 386,
    "start_time": "2022-02-20T09:06:30.428Z"
   },
   {
    "duration": 5,
    "start_time": "2022-02-20T09:06:34.106Z"
   },
   {
    "duration": 23,
    "start_time": "2022-02-20T09:07:14.408Z"
   },
   {
    "duration": 8,
    "start_time": "2022-02-20T09:07:25.725Z"
   },
   {
    "duration": 16,
    "start_time": "2022-02-20T09:08:04.070Z"
   },
   {
    "duration": 4,
    "start_time": "2022-02-20T09:08:07.132Z"
   },
   {
    "duration": 60,
    "start_time": "2022-02-20T09:08:07.139Z"
   },
   {
    "duration": 13,
    "start_time": "2022-02-20T09:08:07.202Z"
   },
   {
    "duration": 34,
    "start_time": "2022-02-20T09:08:07.218Z"
   },
   {
    "duration": 7,
    "start_time": "2022-02-20T09:08:07.254Z"
   },
   {
    "duration": 9,
    "start_time": "2022-02-20T09:08:07.264Z"
   },
   {
    "duration": 13,
    "start_time": "2022-02-20T09:08:07.275Z"
   },
   {
    "duration": 60,
    "start_time": "2022-02-20T09:08:07.290Z"
   },
   {
    "duration": 7,
    "start_time": "2022-02-20T09:08:07.354Z"
   },
   {
    "duration": 13,
    "start_time": "2022-02-20T09:08:07.365Z"
   },
   {
    "duration": 67,
    "start_time": "2022-02-20T09:08:07.381Z"
   },
   {
    "duration": 12,
    "start_time": "2022-02-20T09:08:07.451Z"
   },
   {
    "duration": 17,
    "start_time": "2022-02-20T09:08:07.467Z"
   },
   {
    "duration": 14,
    "start_time": "2022-02-20T09:08:07.487Z"
   },
   {
    "duration": 54,
    "start_time": "2022-02-20T09:08:07.503Z"
   },
   {
    "duration": 14,
    "start_time": "2022-02-20T09:08:07.560Z"
   },
   {
    "duration": 25,
    "start_time": "2022-02-20T09:08:07.577Z"
   },
   {
    "duration": 67,
    "start_time": "2022-02-20T09:08:07.605Z"
   },
   {
    "duration": 7,
    "start_time": "2022-02-20T09:08:07.675Z"
   },
   {
    "duration": 13,
    "start_time": "2022-02-20T09:08:07.684Z"
   },
   {
    "duration": 13,
    "start_time": "2022-02-20T09:08:07.699Z"
   },
   {
    "duration": 54,
    "start_time": "2022-02-20T09:08:07.715Z"
   },
   {
    "duration": 16,
    "start_time": "2022-02-20T09:08:07.772Z"
   },
   {
    "duration": 30,
    "start_time": "2022-02-20T09:08:07.790Z"
   },
   {
    "duration": 26,
    "start_time": "2022-02-20T09:08:07.823Z"
   },
   {
    "duration": 19,
    "start_time": "2022-02-20T09:08:07.851Z"
   },
   {
    "duration": 13,
    "start_time": "2022-02-20T09:08:07.875Z"
   },
   {
    "duration": 17,
    "start_time": "2022-02-20T09:08:07.890Z"
   },
   {
    "duration": 16,
    "start_time": "2022-02-20T09:08:07.948Z"
   },
   {
    "duration": 11,
    "start_time": "2022-02-20T09:08:07.966Z"
   },
   {
    "duration": 23,
    "start_time": "2022-02-20T09:08:07.979Z"
   },
   {
    "duration": 44,
    "start_time": "2022-02-20T09:08:08.004Z"
   },
   {
    "duration": 262,
    "start_time": "2022-02-20T09:08:08.051Z"
   },
   {
    "duration": 441,
    "start_time": "2022-02-20T09:08:08.316Z"
   },
   {
    "duration": 362,
    "start_time": "2022-02-20T09:08:08.760Z"
   },
   {
    "duration": 24,
    "start_time": "2022-02-20T09:08:09.124Z"
   },
   {
    "duration": 1216,
    "start_time": "2022-02-20T09:08:09.151Z"
   },
   {
    "duration": 10,
    "start_time": "2022-02-20T09:08:10.370Z"
   },
   {
    "duration": 309,
    "start_time": "2022-02-20T09:08:10.382Z"
   },
   {
    "duration": 372,
    "start_time": "2022-02-20T09:08:10.694Z"
   },
   {
    "duration": 9,
    "start_time": "2022-02-20T09:08:11.069Z"
   },
   {
    "duration": 1724,
    "start_time": "2022-02-20T09:08:11.081Z"
   },
   {
    "duration": 1336,
    "start_time": "2022-02-20T09:10:28.030Z"
   },
   {
    "duration": 18,
    "start_time": "2022-02-20T09:11:13.466Z"
   },
   {
    "duration": 13,
    "start_time": "2022-02-20T09:11:39.337Z"
   },
   {
    "duration": 1457,
    "start_time": "2022-02-20T09:15:43.423Z"
   },
   {
    "duration": 7764,
    "start_time": "2022-02-20T09:16:51.727Z"
   },
   {
    "duration": 453,
    "start_time": "2022-02-20T09:17:09.930Z"
   },
   {
    "duration": 414,
    "start_time": "2022-02-20T09:17:15.052Z"
   },
   {
    "duration": 420,
    "start_time": "2022-02-20T09:17:40.933Z"
   },
   {
    "duration": 7,
    "start_time": "2022-02-20T09:23:07.100Z"
   },
   {
    "duration": 13,
    "start_time": "2022-02-20T09:23:24.252Z"
   },
   {
    "duration": 4,
    "start_time": "2022-02-20T09:30:13.803Z"
   },
   {
    "duration": 26,
    "start_time": "2022-02-20T09:30:59.382Z"
   },
   {
    "duration": 10,
    "start_time": "2022-02-20T09:31:10.319Z"
   },
   {
    "duration": 288,
    "start_time": "2022-02-20T09:31:19.686Z"
   },
   {
    "duration": 319,
    "start_time": "2022-02-20T09:31:55.613Z"
   },
   {
    "duration": 268,
    "start_time": "2022-02-20T09:32:11.881Z"
   },
   {
    "duration": 336,
    "start_time": "2022-02-20T09:32:20.907Z"
   },
   {
    "duration": 541,
    "start_time": "2022-02-20T09:32:50.165Z"
   },
   {
    "duration": 4,
    "start_time": "2022-02-20T10:10:59.849Z"
   },
   {
    "duration": 302,
    "start_time": "2022-02-20T10:16:57.937Z"
   },
   {
    "duration": 278,
    "start_time": "2022-02-20T10:17:24.995Z"
   },
   {
    "duration": 275,
    "start_time": "2022-02-20T10:18:31.790Z"
   },
   {
    "duration": 48,
    "start_time": "2022-02-20T10:22:03.913Z"
   },
   {
    "duration": 323,
    "start_time": "2022-02-20T10:22:35.427Z"
   },
   {
    "duration": 36,
    "start_time": "2022-02-20T10:22:39.069Z"
   },
   {
    "duration": 39,
    "start_time": "2022-02-20T10:22:49.998Z"
   },
   {
    "duration": 13,
    "start_time": "2022-02-20T10:23:42.100Z"
   },
   {
    "duration": 12,
    "start_time": "2022-02-20T10:23:53.084Z"
   },
   {
    "duration": 15,
    "start_time": "2022-02-20T10:23:58.948Z"
   },
   {
    "duration": 16,
    "start_time": "2022-02-20T10:24:18.827Z"
   },
   {
    "duration": 15,
    "start_time": "2022-02-20T10:24:30.651Z"
   },
   {
    "duration": 19,
    "start_time": "2022-02-20T10:24:39.970Z"
   },
   {
    "duration": 142,
    "start_time": "2022-02-20T10:24:53.346Z"
   },
   {
    "duration": 192,
    "start_time": "2022-02-20T10:28:29.119Z"
   },
   {
    "duration": 144,
    "start_time": "2022-02-20T10:29:01.863Z"
   },
   {
    "duration": 383,
    "start_time": "2022-02-20T10:29:13.550Z"
   },
   {
    "duration": 446,
    "start_time": "2022-02-20T10:29:24.926Z"
   },
   {
    "duration": 15891,
    "start_time": "2022-02-20T10:29:31.158Z"
   },
   {
    "duration": 135,
    "start_time": "2022-02-20T10:30:06.356Z"
   },
   {
    "duration": 128,
    "start_time": "2022-02-20T10:31:17.203Z"
   },
   {
    "duration": 308,
    "start_time": "2022-02-20T10:34:18.211Z"
   },
   {
    "duration": 13,
    "start_time": "2022-02-20T10:34:23.155Z"
   },
   {
    "duration": 146,
    "start_time": "2022-02-20T10:34:36.217Z"
   },
   {
    "duration": 130,
    "start_time": "2022-02-20T10:34:40.136Z"
   },
   {
    "duration": 137,
    "start_time": "2022-02-20T10:38:29.843Z"
   },
   {
    "duration": 159,
    "start_time": "2022-02-20T10:38:31.921Z"
   },
   {
    "duration": 797,
    "start_time": "2022-02-20T10:39:26.203Z"
   },
   {
    "duration": 702,
    "start_time": "2022-02-20T10:39:27.440Z"
   },
   {
    "duration": 7,
    "start_time": "2022-02-20T10:39:31.729Z"
   },
   {
    "duration": 151,
    "start_time": "2022-02-20T10:39:33.249Z"
   },
   {
    "duration": 151,
    "start_time": "2022-02-20T10:39:37.338Z"
   },
   {
    "duration": 198,
    "start_time": "2022-02-20T10:39:41.164Z"
   },
   {
    "duration": 135,
    "start_time": "2022-02-20T10:39:46.572Z"
   },
   {
    "duration": 145,
    "start_time": "2022-02-20T10:41:19.232Z"
   },
   {
    "duration": 9,
    "start_time": "2022-02-20T10:45:26.940Z"
   },
   {
    "duration": 140,
    "start_time": "2022-02-20T10:45:29.035Z"
   },
   {
    "duration": 172,
    "start_time": "2022-02-20T10:45:31.342Z"
   },
   {
    "duration": 189,
    "start_time": "2022-02-20T10:45:33.735Z"
   },
   {
    "duration": 177,
    "start_time": "2022-02-20T10:45:36.284Z"
   },
   {
    "duration": 147,
    "start_time": "2022-02-20T10:45:39.883Z"
   },
   {
    "duration": 7,
    "start_time": "2022-02-20T10:48:09.065Z"
   },
   {
    "duration": 118,
    "start_time": "2022-02-20T10:48:11.577Z"
   },
   {
    "duration": 134,
    "start_time": "2022-02-20T10:48:13.737Z"
   },
   {
    "duration": 128,
    "start_time": "2022-02-20T10:51:00.454Z"
   },
   {
    "duration": 136,
    "start_time": "2022-02-20T10:51:10.150Z"
   },
   {
    "duration": 9,
    "start_time": "2022-02-20T10:51:59.406Z"
   },
   {
    "duration": 132,
    "start_time": "2022-02-20T10:52:01.156Z"
   },
   {
    "duration": 184,
    "start_time": "2022-02-20T10:52:03.645Z"
   },
   {
    "duration": 131,
    "start_time": "2022-02-20T10:52:06.999Z"
   },
   {
    "duration": 127,
    "start_time": "2022-02-20T10:52:09.364Z"
   },
   {
    "duration": 112,
    "start_time": "2022-02-20T10:52:11.483Z"
   },
   {
    "duration": 481,
    "start_time": "2022-02-20T11:08:11.902Z"
   },
   {
    "duration": 14,
    "start_time": "2022-02-20T11:09:53.408Z"
   },
   {
    "duration": 22,
    "start_time": "2022-02-20T11:10:03.187Z"
   },
   {
    "duration": 14,
    "start_time": "2022-02-20T11:10:13.422Z"
   },
   {
    "duration": 14,
    "start_time": "2022-02-20T11:10:32.940Z"
   },
   {
    "duration": 11,
    "start_time": "2022-02-20T11:10:35.148Z"
   },
   {
    "duration": 8,
    "start_time": "2022-02-20T11:10:41.156Z"
   },
   {
    "duration": 14,
    "start_time": "2022-02-20T11:10:48.404Z"
   },
   {
    "duration": 12,
    "start_time": "2022-02-20T11:10:52.052Z"
   },
   {
    "duration": 10,
    "start_time": "2022-02-20T11:10:58.798Z"
   },
   {
    "duration": 10,
    "start_time": "2022-02-20T11:11:04.348Z"
   },
   {
    "duration": 14,
    "start_time": "2022-02-20T11:11:08.340Z"
   },
   {
    "duration": 22,
    "start_time": "2022-02-20T11:11:47.057Z"
   },
   {
    "duration": 8,
    "start_time": "2022-02-20T11:11:48.788Z"
   },
   {
    "duration": 16,
    "start_time": "2022-02-20T11:16:18.222Z"
   },
   {
    "duration": 7,
    "start_time": "2022-02-20T11:16:23.174Z"
   },
   {
    "duration": 4,
    "start_time": "2022-02-20T11:17:39.324Z"
   },
   {
    "duration": 4,
    "start_time": "2022-02-20T11:17:42.638Z"
   },
   {
    "duration": 69,
    "start_time": "2022-02-20T11:17:42.645Z"
   },
   {
    "duration": 16,
    "start_time": "2022-02-20T11:17:42.717Z"
   },
   {
    "duration": 15,
    "start_time": "2022-02-20T11:17:42.737Z"
   },
   {
    "duration": 9,
    "start_time": "2022-02-20T11:17:42.755Z"
   },
   {
    "duration": 14,
    "start_time": "2022-02-20T11:17:42.767Z"
   },
   {
    "duration": 6,
    "start_time": "2022-02-20T11:17:42.784Z"
   },
   {
    "duration": 16,
    "start_time": "2022-02-20T11:17:42.793Z"
   },
   {
    "duration": 9,
    "start_time": "2022-02-20T11:17:42.849Z"
   },
   {
    "duration": 15,
    "start_time": "2022-02-20T11:17:42.861Z"
   },
   {
    "duration": 11,
    "start_time": "2022-02-20T11:17:42.879Z"
   },
   {
    "duration": 11,
    "start_time": "2022-02-20T11:17:42.893Z"
   },
   {
    "duration": 54,
    "start_time": "2022-02-20T11:17:42.906Z"
   },
   {
    "duration": 7,
    "start_time": "2022-02-20T11:17:42.963Z"
   },
   {
    "duration": 13,
    "start_time": "2022-02-20T11:17:42.973Z"
   },
   {
    "duration": 27,
    "start_time": "2022-02-20T11:17:42.988Z"
   },
   {
    "duration": 33,
    "start_time": "2022-02-20T11:17:43.018Z"
   },
   {
    "duration": 33,
    "start_time": "2022-02-20T11:17:43.054Z"
   },
   {
    "duration": 7,
    "start_time": "2022-02-20T11:17:43.089Z"
   },
   {
    "duration": 11,
    "start_time": "2022-02-20T11:17:43.099Z"
   },
   {
    "duration": 8,
    "start_time": "2022-02-20T11:17:43.149Z"
   },
   {
    "duration": 30,
    "start_time": "2022-02-20T11:17:43.159Z"
   },
   {
    "duration": 12,
    "start_time": "2022-02-20T11:17:43.192Z"
   },
   {
    "duration": 9,
    "start_time": "2022-02-20T11:17:43.208Z"
   },
   {
    "duration": 37,
    "start_time": "2022-02-20T11:17:43.220Z"
   },
   {
    "duration": 18,
    "start_time": "2022-02-20T11:17:43.260Z"
   },
   {
    "duration": 15,
    "start_time": "2022-02-20T11:17:43.284Z"
   },
   {
    "duration": 59,
    "start_time": "2022-02-20T11:17:43.303Z"
   },
   {
    "duration": 4,
    "start_time": "2022-02-20T11:17:43.366Z"
   },
   {
    "duration": 10,
    "start_time": "2022-02-20T11:17:43.373Z"
   },
   {
    "duration": 9,
    "start_time": "2022-02-20T11:17:43.386Z"
   },
   {
    "duration": 324,
    "start_time": "2022-02-20T11:17:43.397Z"
   },
   {
    "duration": 481,
    "start_time": "2022-02-20T11:17:43.724Z"
   },
   {
    "duration": 377,
    "start_time": "2022-02-20T11:17:44.207Z"
   },
   {
    "duration": 11,
    "start_time": "2022-02-20T11:17:44.587Z"
   },
   {
    "duration": 1487,
    "start_time": "2022-02-20T11:17:44.600Z"
   },
   {
    "duration": 8,
    "start_time": "2022-02-20T11:17:46.090Z"
   },
   {
    "duration": 294,
    "start_time": "2022-02-20T11:17:46.101Z"
   },
   {
    "duration": 388,
    "start_time": "2022-02-20T11:17:46.397Z"
   },
   {
    "duration": 7,
    "start_time": "2022-02-20T11:17:46.788Z"
   },
   {
    "duration": 468,
    "start_time": "2022-02-20T11:17:46.797Z"
   },
   {
    "duration": 427,
    "start_time": "2022-02-20T11:17:47.268Z"
   },
   {
    "duration": 1596,
    "start_time": "2022-02-20T11:17:47.697Z"
   },
   {
    "duration": 13,
    "start_time": "2022-02-20T11:17:49.296Z"
   },
   {
    "duration": 19,
    "start_time": "2022-02-20T11:17:49.311Z"
   },
   {
    "duration": 26,
    "start_time": "2022-02-20T11:17:49.333Z"
   },
   {
    "duration": 356,
    "start_time": "2022-02-20T11:17:49.362Z"
   },
   {
    "duration": 8,
    "start_time": "2022-02-20T11:17:49.722Z"
   },
   {
    "duration": 130,
    "start_time": "2022-02-20T11:17:49.749Z"
   },
   {
    "duration": 153,
    "start_time": "2022-02-20T11:17:49.882Z"
   },
   {
    "duration": 163,
    "start_time": "2022-02-20T11:17:50.038Z"
   },
   {
    "duration": 164,
    "start_time": "2022-02-20T11:17:50.205Z"
   },
   {
    "duration": 142,
    "start_time": "2022-02-20T11:17:50.372Z"
   },
   {
    "duration": 8,
    "start_time": "2022-02-20T11:17:50.517Z"
   },
   {
    "duration": 158,
    "start_time": "2022-02-20T11:17:50.528Z"
   },
   {
    "duration": 145,
    "start_time": "2022-02-20T11:17:50.689Z"
   },
   {
    "duration": 167,
    "start_time": "2022-02-20T11:17:50.837Z"
   },
   {
    "duration": 157,
    "start_time": "2022-02-20T11:17:51.007Z"
   },
   {
    "duration": 150,
    "start_time": "2022-02-20T11:17:51.168Z"
   },
   {
    "duration": 7,
    "start_time": "2022-02-20T11:17:51.320Z"
   },
   {
    "duration": 141,
    "start_time": "2022-02-20T11:17:51.329Z"
   },
   {
    "duration": 146,
    "start_time": "2022-02-20T11:17:51.473Z"
   },
   {
    "duration": 142,
    "start_time": "2022-02-20T11:17:51.622Z"
   },
   {
    "duration": 146,
    "start_time": "2022-02-20T11:17:51.767Z"
   },
   {
    "duration": 135,
    "start_time": "2022-02-20T11:17:51.916Z"
   },
   {
    "duration": 17,
    "start_time": "2022-02-20T11:17:52.054Z"
   },
   {
    "duration": 12,
    "start_time": "2022-02-20T11:17:52.073Z"
   },
   {
    "duration": 20,
    "start_time": "2022-02-20T11:17:52.088Z"
   },
   {
    "duration": 45,
    "start_time": "2022-02-20T11:17:52.111Z"
   },
   {
    "duration": 4,
    "start_time": "2022-02-20T11:20:41.762Z"
   },
   {
    "duration": 116,
    "start_time": "2022-02-20T11:20:41.770Z"
   },
   {
    "duration": 14,
    "start_time": "2022-02-20T11:20:41.889Z"
   },
   {
    "duration": 40,
    "start_time": "2022-02-20T11:20:41.906Z"
   },
   {
    "duration": 43,
    "start_time": "2022-02-20T11:20:41.949Z"
   },
   {
    "duration": 33,
    "start_time": "2022-02-20T11:20:41.995Z"
   },
   {
    "duration": 47,
    "start_time": "2022-02-20T11:20:42.030Z"
   },
   {
    "duration": 44,
    "start_time": "2022-02-20T11:20:42.080Z"
   },
   {
    "duration": 41,
    "start_time": "2022-02-20T11:20:42.128Z"
   },
   {
    "duration": 50,
    "start_time": "2022-02-20T11:20:42.174Z"
   },
   {
    "duration": 51,
    "start_time": "2022-02-20T11:20:42.227Z"
   },
   {
    "duration": 61,
    "start_time": "2022-02-20T11:20:42.281Z"
   },
   {
    "duration": 32,
    "start_time": "2022-02-20T11:20:42.345Z"
   },
   {
    "duration": 22,
    "start_time": "2022-02-20T11:20:42.380Z"
   },
   {
    "duration": 41,
    "start_time": "2022-02-20T11:20:42.404Z"
   },
   {
    "duration": 34,
    "start_time": "2022-02-20T11:20:42.447Z"
   },
   {
    "duration": 39,
    "start_time": "2022-02-20T11:20:42.484Z"
   },
   {
    "duration": 78,
    "start_time": "2022-02-20T11:20:42.526Z"
   },
   {
    "duration": 44,
    "start_time": "2022-02-20T11:20:42.608Z"
   },
   {
    "duration": 48,
    "start_time": "2022-02-20T11:20:42.655Z"
   },
   {
    "duration": 69,
    "start_time": "2022-02-20T11:20:42.706Z"
   },
   {
    "duration": 65,
    "start_time": "2022-02-20T11:20:42.778Z"
   },
   {
    "duration": 37,
    "start_time": "2022-02-20T11:20:42.846Z"
   },
   {
    "duration": 40,
    "start_time": "2022-02-20T11:20:42.886Z"
   },
   {
    "duration": 44,
    "start_time": "2022-02-20T11:20:42.928Z"
   },
   {
    "duration": 72,
    "start_time": "2022-02-20T11:20:42.975Z"
   },
   {
    "duration": 45,
    "start_time": "2022-02-20T11:20:43.054Z"
   },
   {
    "duration": 41,
    "start_time": "2022-02-20T11:20:43.104Z"
   },
   {
    "duration": 27,
    "start_time": "2022-02-20T11:20:43.148Z"
   },
   {
    "duration": 62,
    "start_time": "2022-02-20T11:20:43.178Z"
   },
   {
    "duration": 37,
    "start_time": "2022-02-20T11:20:43.243Z"
   },
   {
    "duration": 322,
    "start_time": "2022-02-20T11:20:43.283Z"
   },
   {
    "duration": 488,
    "start_time": "2022-02-20T11:20:43.608Z"
   },
   {
    "duration": 365,
    "start_time": "2022-02-20T11:20:44.098Z"
   },
   {
    "duration": 10,
    "start_time": "2022-02-20T11:20:44.466Z"
   },
   {
    "duration": 1239,
    "start_time": "2022-02-20T11:20:44.478Z"
   },
   {
    "duration": 8,
    "start_time": "2022-02-20T11:20:45.720Z"
   },
   {
    "duration": 280,
    "start_time": "2022-02-20T11:20:45.731Z"
   },
   {
    "duration": 364,
    "start_time": "2022-02-20T11:20:46.014Z"
   },
   {
    "duration": 8,
    "start_time": "2022-02-20T11:20:46.381Z"
   },
   {
    "duration": 773,
    "start_time": "2022-02-20T11:20:46.392Z"
   },
   {
    "duration": 433,
    "start_time": "2022-02-20T11:20:47.169Z"
   },
   {
    "duration": 1540,
    "start_time": "2022-02-20T11:20:47.604Z"
   },
   {
    "duration": 15,
    "start_time": "2022-02-20T11:20:49.149Z"
   },
   {
    "duration": 29,
    "start_time": "2022-02-20T11:20:49.166Z"
   },
   {
    "duration": 25,
    "start_time": "2022-02-20T11:20:49.198Z"
   },
   {
    "duration": 532,
    "start_time": "2022-02-20T11:20:49.227Z"
   },
   {
    "duration": 8,
    "start_time": "2022-02-20T11:20:49.762Z"
   },
   {
    "duration": 156,
    "start_time": "2022-02-20T11:20:49.773Z"
   },
   {
    "duration": 152,
    "start_time": "2022-02-20T11:20:49.933Z"
   },
   {
    "duration": 150,
    "start_time": "2022-02-20T11:20:50.088Z"
   },
   {
    "duration": 204,
    "start_time": "2022-02-20T11:20:50.248Z"
   },
   {
    "duration": 144,
    "start_time": "2022-02-20T11:20:50.455Z"
   },
   {
    "duration": 8,
    "start_time": "2022-02-20T11:20:50.602Z"
   },
   {
    "duration": 153,
    "start_time": "2022-02-20T11:20:50.612Z"
   },
   {
    "duration": 149,
    "start_time": "2022-02-20T11:20:50.768Z"
   },
   {
    "duration": 162,
    "start_time": "2022-02-20T11:20:50.920Z"
   },
   {
    "duration": 152,
    "start_time": "2022-02-20T11:20:51.085Z"
   },
   {
    "duration": 144,
    "start_time": "2022-02-20T11:20:51.240Z"
   },
   {
    "duration": 8,
    "start_time": "2022-02-20T11:20:51.387Z"
   },
   {
    "duration": 150,
    "start_time": "2022-02-20T11:20:51.398Z"
   },
   {
    "duration": 149,
    "start_time": "2022-02-20T11:20:51.551Z"
   },
   {
    "duration": 166,
    "start_time": "2022-02-20T11:20:51.702Z"
   },
   {
    "duration": 148,
    "start_time": "2022-02-20T11:20:51.871Z"
   },
   {
    "duration": 151,
    "start_time": "2022-02-20T11:20:52.023Z"
   },
   {
    "duration": 16,
    "start_time": "2022-02-20T11:20:52.177Z"
   },
   {
    "duration": 28,
    "start_time": "2022-02-20T11:20:52.197Z"
   },
   {
    "duration": 29,
    "start_time": "2022-02-20T11:20:52.230Z"
   },
   {
    "duration": 33,
    "start_time": "2022-02-20T11:20:52.262Z"
   },
   {
    "duration": 155,
    "start_time": "2022-02-20T11:20:52.299Z"
   },
   {
    "duration": 3,
    "start_time": "2022-02-20T11:36:34.336Z"
   },
   {
    "duration": 78,
    "start_time": "2022-02-20T11:36:34.342Z"
   },
   {
    "duration": 15,
    "start_time": "2022-02-20T11:36:34.423Z"
   },
   {
    "duration": 12,
    "start_time": "2022-02-20T11:36:34.440Z"
   },
   {
    "duration": 13,
    "start_time": "2022-02-20T11:36:34.455Z"
   },
   {
    "duration": 8,
    "start_time": "2022-02-20T11:36:34.470Z"
   },
   {
    "duration": 6,
    "start_time": "2022-02-20T11:36:34.481Z"
   },
   {
    "duration": 61,
    "start_time": "2022-02-20T11:36:34.489Z"
   },
   {
    "duration": 10,
    "start_time": "2022-02-20T11:36:34.554Z"
   },
   {
    "duration": 13,
    "start_time": "2022-02-20T11:36:34.567Z"
   },
   {
    "duration": 17,
    "start_time": "2022-02-20T11:36:34.582Z"
   },
   {
    "duration": 48,
    "start_time": "2022-02-20T11:36:34.602Z"
   },
   {
    "duration": 13,
    "start_time": "2022-02-20T11:36:34.653Z"
   },
   {
    "duration": 7,
    "start_time": "2022-02-20T11:36:34.669Z"
   },
   {
    "duration": 11,
    "start_time": "2022-02-20T11:36:34.679Z"
   },
   {
    "duration": 10,
    "start_time": "2022-02-20T11:36:34.692Z"
   },
   {
    "duration": 49,
    "start_time": "2022-02-20T11:36:34.705Z"
   },
   {
    "duration": 33,
    "start_time": "2022-02-20T11:36:34.757Z"
   },
   {
    "duration": 7,
    "start_time": "2022-02-20T11:36:34.792Z"
   },
   {
    "duration": 48,
    "start_time": "2022-02-20T11:36:34.801Z"
   },
   {
    "duration": 11,
    "start_time": "2022-02-20T11:36:34.852Z"
   },
   {
    "duration": 28,
    "start_time": "2022-02-20T11:36:34.866Z"
   },
   {
    "duration": 15,
    "start_time": "2022-02-20T11:36:34.897Z"
   },
   {
    "duration": 38,
    "start_time": "2022-02-20T11:36:34.914Z"
   },
   {
    "duration": 9,
    "start_time": "2022-02-20T11:36:34.955Z"
   },
   {
    "duration": 16,
    "start_time": "2022-02-20T11:36:34.967Z"
   },
   {
    "duration": 14,
    "start_time": "2022-02-20T11:36:34.990Z"
   },
   {
    "duration": 59,
    "start_time": "2022-02-20T11:36:35.007Z"
   },
   {
    "duration": 8,
    "start_time": "2022-02-20T11:36:35.069Z"
   },
   {
    "duration": 10,
    "start_time": "2022-02-20T11:36:35.079Z"
   },
   {
    "duration": 14,
    "start_time": "2022-02-20T11:36:35.091Z"
   },
   {
    "duration": 308,
    "start_time": "2022-02-20T11:36:35.107Z"
   },
   {
    "duration": 463,
    "start_time": "2022-02-20T11:36:35.418Z"
   },
   {
    "duration": 352,
    "start_time": "2022-02-20T11:36:35.884Z"
   },
   {
    "duration": 16,
    "start_time": "2022-02-20T11:36:36.239Z"
   },
   {
    "duration": 1343,
    "start_time": "2022-02-20T11:36:36.258Z"
   },
   {
    "duration": 7,
    "start_time": "2022-02-20T11:36:37.604Z"
   },
   {
    "duration": 303,
    "start_time": "2022-02-20T11:36:37.614Z"
   },
   {
    "duration": 382,
    "start_time": "2022-02-20T11:36:37.920Z"
   },
   {
    "duration": 7,
    "start_time": "2022-02-20T11:36:38.304Z"
   },
   {
    "duration": 471,
    "start_time": "2022-02-20T11:36:38.313Z"
   },
   {
    "duration": 417,
    "start_time": "2022-02-20T11:36:38.787Z"
   },
   {
    "duration": 1717,
    "start_time": "2022-02-20T11:36:39.207Z"
   },
   {
    "duration": 25,
    "start_time": "2022-02-20T11:36:40.927Z"
   },
   {
    "duration": 9,
    "start_time": "2022-02-20T11:36:40.955Z"
   },
   {
    "duration": 17,
    "start_time": "2022-02-20T11:36:40.966Z"
   },
   {
    "duration": 347,
    "start_time": "2022-02-20T11:36:40.986Z"
   },
   {
    "duration": 15,
    "start_time": "2022-02-20T11:36:41.336Z"
   },
   {
    "duration": 134,
    "start_time": "2022-02-20T11:36:41.354Z"
   },
   {
    "duration": 147,
    "start_time": "2022-02-20T11:36:41.490Z"
   },
   {
    "duration": 146,
    "start_time": "2022-02-20T11:36:41.640Z"
   },
   {
    "duration": 145,
    "start_time": "2022-02-20T11:36:41.789Z"
   },
   {
    "duration": 137,
    "start_time": "2022-02-20T11:36:41.937Z"
   },
   {
    "duration": 8,
    "start_time": "2022-02-20T11:36:42.076Z"
   },
   {
    "duration": 147,
    "start_time": "2022-02-20T11:36:42.086Z"
   },
   {
    "duration": 483,
    "start_time": "2022-02-20T11:36:42.235Z"
   },
   {
    "duration": 143,
    "start_time": "2022-02-20T11:36:42.721Z"
   },
   {
    "duration": 146,
    "start_time": "2022-02-20T11:36:42.867Z"
   },
   {
    "duration": 133,
    "start_time": "2022-02-20T11:36:43.015Z"
   },
   {
    "duration": 7,
    "start_time": "2022-02-20T11:36:43.151Z"
   },
   {
    "duration": 144,
    "start_time": "2022-02-20T11:36:43.162Z"
   },
   {
    "duration": 143,
    "start_time": "2022-02-20T11:36:43.308Z"
   },
   {
    "duration": 135,
    "start_time": "2022-02-20T11:36:43.454Z"
   },
   {
    "duration": 147,
    "start_time": "2022-02-20T11:36:43.592Z"
   },
   {
    "duration": 137,
    "start_time": "2022-02-20T11:36:43.749Z"
   },
   {
    "duration": 16,
    "start_time": "2022-02-20T11:36:43.890Z"
   },
   {
    "duration": 39,
    "start_time": "2022-02-20T11:36:43.909Z"
   },
   {
    "duration": 20,
    "start_time": "2022-02-20T11:36:43.951Z"
   },
   {
    "duration": 9,
    "start_time": "2022-02-20T11:36:43.973Z"
   },
   {
    "duration": 1058,
    "start_time": "2022-03-01T18:04:14.921Z"
   },
   {
    "duration": 59,
    "start_time": "2022-03-01T18:04:15.982Z"
   },
   {
    "duration": 10,
    "start_time": "2022-03-01T18:04:16.046Z"
   },
   {
    "duration": 10,
    "start_time": "2022-03-01T18:04:16.058Z"
   },
   {
    "duration": 8,
    "start_time": "2022-03-01T18:04:16.070Z"
   },
   {
    "duration": 10,
    "start_time": "2022-03-01T18:04:16.080Z"
   },
   {
    "duration": 7,
    "start_time": "2022-03-01T18:04:16.092Z"
   },
   {
    "duration": 8,
    "start_time": "2022-03-01T18:04:16.101Z"
   },
   {
    "duration": 8,
    "start_time": "2022-03-01T18:04:16.111Z"
   },
   {
    "duration": 11,
    "start_time": "2022-03-01T18:04:16.121Z"
   },
   {
    "duration": 9,
    "start_time": "2022-03-01T18:04:16.134Z"
   },
   {
    "duration": 7,
    "start_time": "2022-03-01T18:04:16.145Z"
   },
   {
    "duration": 8,
    "start_time": "2022-03-01T18:04:16.177Z"
   },
   {
    "duration": 4,
    "start_time": "2022-03-01T18:04:16.187Z"
   },
   {
    "duration": 7,
    "start_time": "2022-03-01T18:04:16.193Z"
   },
   {
    "duration": 5,
    "start_time": "2022-03-01T18:04:16.202Z"
   },
   {
    "duration": 9,
    "start_time": "2022-03-01T18:04:16.208Z"
   },
   {
    "duration": 24,
    "start_time": "2022-03-01T18:04:16.219Z"
   },
   {
    "duration": 35,
    "start_time": "2022-03-01T18:04:16.244Z"
   },
   {
    "duration": 11,
    "start_time": "2022-03-01T18:04:16.281Z"
   },
   {
    "duration": 9,
    "start_time": "2022-03-01T18:04:16.294Z"
   },
   {
    "duration": 13,
    "start_time": "2022-03-01T18:04:16.304Z"
   },
   {
    "duration": 9,
    "start_time": "2022-03-01T18:04:16.318Z"
   },
   {
    "duration": 7,
    "start_time": "2022-03-01T18:04:16.328Z"
   },
   {
    "duration": 38,
    "start_time": "2022-03-01T18:04:16.339Z"
   },
   {
    "duration": 10,
    "start_time": "2022-03-01T18:04:16.379Z"
   },
   {
    "duration": 12,
    "start_time": "2022-03-01T18:04:16.390Z"
   },
   {
    "duration": 13,
    "start_time": "2022-03-01T18:04:16.404Z"
   },
   {
    "duration": 4,
    "start_time": "2022-03-01T18:04:16.418Z"
   },
   {
    "duration": 9,
    "start_time": "2022-03-01T18:04:16.423Z"
   },
   {
    "duration": 11,
    "start_time": "2022-03-01T18:04:16.433Z"
   },
   {
    "duration": 226,
    "start_time": "2022-03-01T18:04:16.446Z"
   },
   {
    "duration": 303,
    "start_time": "2022-03-01T18:04:16.676Z"
   },
   {
    "duration": 234,
    "start_time": "2022-03-01T18:04:16.980Z"
   },
   {
    "duration": 7,
    "start_time": "2022-03-01T18:04:17.216Z"
   },
   {
    "duration": 827,
    "start_time": "2022-03-01T18:04:17.225Z"
   },
   {
    "duration": 5,
    "start_time": "2022-03-01T18:04:18.053Z"
   },
   {
    "duration": 187,
    "start_time": "2022-03-01T18:04:18.060Z"
   },
   {
    "duration": 232,
    "start_time": "2022-03-01T18:04:18.249Z"
   },
   {
    "duration": 5,
    "start_time": "2022-03-01T18:04:18.483Z"
   },
   {
    "duration": 392,
    "start_time": "2022-03-01T18:04:18.489Z"
   },
   {
    "duration": 311,
    "start_time": "2022-03-01T18:04:18.882Z"
   },
   {
    "duration": 964,
    "start_time": "2022-03-01T18:04:19.195Z"
   },
   {
    "duration": 17,
    "start_time": "2022-03-01T18:04:20.161Z"
   },
   {
    "duration": 7,
    "start_time": "2022-03-01T18:04:20.179Z"
   },
   {
    "duration": 12,
    "start_time": "2022-03-01T18:04:20.188Z"
   },
   {
    "duration": 238,
    "start_time": "2022-03-01T18:04:20.202Z"
   },
   {
    "duration": 5,
    "start_time": "2022-03-01T18:04:20.442Z"
   },
   {
    "duration": 91,
    "start_time": "2022-03-01T18:04:20.448Z"
   },
   {
    "duration": 91,
    "start_time": "2022-03-01T18:04:20.541Z"
   },
   {
    "duration": 96,
    "start_time": "2022-03-01T18:04:20.634Z"
   },
   {
    "duration": 96,
    "start_time": "2022-03-01T18:04:20.731Z"
   },
   {
    "duration": 167,
    "start_time": "2022-03-01T18:04:20.828Z"
   },
   {
    "duration": 5,
    "start_time": "2022-03-01T18:04:20.997Z"
   },
   {
    "duration": 101,
    "start_time": "2022-03-01T18:04:21.004Z"
   },
   {
    "duration": 98,
    "start_time": "2022-03-01T18:04:21.107Z"
   },
   {
    "duration": 100,
    "start_time": "2022-03-01T18:04:21.207Z"
   },
   {
    "duration": 98,
    "start_time": "2022-03-01T18:04:21.309Z"
   },
   {
    "duration": 95,
    "start_time": "2022-03-01T18:04:21.409Z"
   },
   {
    "duration": 5,
    "start_time": "2022-03-01T18:04:21.506Z"
   },
   {
    "duration": 96,
    "start_time": "2022-03-01T18:04:21.512Z"
   },
   {
    "duration": 105,
    "start_time": "2022-03-01T18:04:21.609Z"
   },
   {
    "duration": 95,
    "start_time": "2022-03-01T18:04:21.716Z"
   },
   {
    "duration": 92,
    "start_time": "2022-03-01T18:04:21.812Z"
   },
   {
    "duration": 88,
    "start_time": "2022-03-01T18:04:21.906Z"
   },
   {
    "duration": 11,
    "start_time": "2022-03-01T18:04:21.995Z"
   },
   {
    "duration": 7,
    "start_time": "2022-03-01T18:04:22.007Z"
   },
   {
    "duration": 12,
    "start_time": "2022-03-01T18:04:22.015Z"
   },
   {
    "duration": 10,
    "start_time": "2022-03-01T18:04:22.029Z"
   },
   {
    "duration": 83,
    "start_time": "2022-03-01T18:06:28.904Z"
   },
   {
    "duration": 2,
    "start_time": "2022-03-01T18:10:20.956Z"
   },
   {
    "duration": 69,
    "start_time": "2022-03-01T18:10:20.960Z"
   },
   {
    "duration": 11,
    "start_time": "2022-03-01T18:10:21.031Z"
   },
   {
    "duration": 12,
    "start_time": "2022-03-01T18:10:21.044Z"
   },
   {
    "duration": 13,
    "start_time": "2022-03-01T18:10:21.058Z"
   },
   {
    "duration": 11,
    "start_time": "2022-03-01T18:10:21.078Z"
   },
   {
    "duration": 11,
    "start_time": "2022-03-01T18:10:21.091Z"
   },
   {
    "duration": 6,
    "start_time": "2022-03-01T18:10:21.104Z"
   },
   {
    "duration": 7,
    "start_time": "2022-03-01T18:10:21.112Z"
   },
   {
    "duration": 22,
    "start_time": "2022-03-01T18:10:21.121Z"
   },
   {
    "duration": 14,
    "start_time": "2022-03-01T18:10:21.145Z"
   },
   {
    "duration": 18,
    "start_time": "2022-03-01T18:10:21.161Z"
   },
   {
    "duration": 18,
    "start_time": "2022-03-01T18:10:21.181Z"
   },
   {
    "duration": 5,
    "start_time": "2022-03-01T18:10:21.201Z"
   },
   {
    "duration": 9,
    "start_time": "2022-03-01T18:10:21.208Z"
   },
   {
    "duration": 8,
    "start_time": "2022-03-01T18:10:21.218Z"
   },
   {
    "duration": 7,
    "start_time": "2022-03-01T18:10:21.228Z"
   },
   {
    "duration": 42,
    "start_time": "2022-03-01T18:10:21.236Z"
   },
   {
    "duration": 4,
    "start_time": "2022-03-01T18:10:21.280Z"
   },
   {
    "duration": 8,
    "start_time": "2022-03-01T18:10:21.286Z"
   },
   {
    "duration": 7,
    "start_time": "2022-03-01T18:10:21.296Z"
   },
   {
    "duration": 14,
    "start_time": "2022-03-01T18:10:21.305Z"
   },
   {
    "duration": 10,
    "start_time": "2022-03-01T18:10:21.320Z"
   },
   {
    "duration": 46,
    "start_time": "2022-03-01T18:10:21.332Z"
   },
   {
    "duration": 3,
    "start_time": "2022-03-01T18:10:31.171Z"
   },
   {
    "duration": 3,
    "start_time": "2022-03-01T18:10:35.401Z"
   },
   {
    "duration": 50,
    "start_time": "2022-03-01T18:10:35.406Z"
   },
   {
    "duration": 9,
    "start_time": "2022-03-01T18:10:35.458Z"
   },
   {
    "duration": 5,
    "start_time": "2022-03-01T18:10:35.469Z"
   },
   {
    "duration": 11,
    "start_time": "2022-03-01T18:10:35.475Z"
   },
   {
    "duration": 12,
    "start_time": "2022-03-01T18:10:35.488Z"
   },
   {
    "duration": 17,
    "start_time": "2022-03-01T18:10:35.501Z"
   },
   {
    "duration": 13,
    "start_time": "2022-03-01T18:10:35.520Z"
   },
   {
    "duration": 9,
    "start_time": "2022-03-01T18:10:35.535Z"
   },
   {
    "duration": 16,
    "start_time": "2022-03-01T18:10:35.546Z"
   },
   {
    "duration": 11,
    "start_time": "2022-03-01T18:10:35.565Z"
   },
   {
    "duration": 9,
    "start_time": "2022-03-01T18:10:35.578Z"
   },
   {
    "duration": 12,
    "start_time": "2022-03-01T18:10:35.589Z"
   },
   {
    "duration": 6,
    "start_time": "2022-03-01T18:10:35.603Z"
   },
   {
    "duration": 10,
    "start_time": "2022-03-01T18:10:35.610Z"
   },
   {
    "duration": 5,
    "start_time": "2022-03-01T18:10:35.622Z"
   },
   {
    "duration": 7,
    "start_time": "2022-03-01T18:10:35.629Z"
   },
   {
    "duration": 53,
    "start_time": "2022-03-01T18:10:35.638Z"
   },
   {
    "duration": 5,
    "start_time": "2022-03-01T18:10:35.692Z"
   },
   {
    "duration": 12,
    "start_time": "2022-03-01T18:10:35.698Z"
   },
   {
    "duration": 18,
    "start_time": "2022-03-01T18:10:35.712Z"
   },
   {
    "duration": 17,
    "start_time": "2022-03-01T18:10:35.731Z"
   },
   {
    "duration": 10,
    "start_time": "2022-03-01T18:10:35.749Z"
   },
   {
    "duration": 18,
    "start_time": "2022-03-01T18:10:35.760Z"
   },
   {
    "duration": 5,
    "start_time": "2022-03-01T18:10:38.705Z"
   },
   {
    "duration": 4,
    "start_time": "2022-03-01T18:10:39.984Z"
   },
   {
    "duration": 10,
    "start_time": "2022-03-01T18:11:05.797Z"
   },
   {
    "duration": 3,
    "start_time": "2022-03-01T18:11:20.433Z"
   },
   {
    "duration": 57,
    "start_time": "2022-03-01T18:11:21.252Z"
   },
   {
    "duration": 10,
    "start_time": "2022-03-01T18:11:22.717Z"
   },
   {
    "duration": 70,
    "start_time": "2022-03-05T16:07:19.667Z"
   },
   {
    "duration": 251,
    "start_time": "2022-03-05T16:10:33.748Z"
   },
   {
    "duration": 1066,
    "start_time": "2022-03-05T16:10:38.421Z"
   },
   {
    "duration": 43,
    "start_time": "2022-03-05T16:10:39.489Z"
   },
   {
    "duration": 10,
    "start_time": "2022-03-05T16:10:39.534Z"
   },
   {
    "duration": 19,
    "start_time": "2022-03-05T16:10:39.546Z"
   },
   {
    "duration": 10,
    "start_time": "2022-03-05T16:10:39.566Z"
   },
   {
    "duration": 9,
    "start_time": "2022-03-05T16:10:39.578Z"
   },
   {
    "duration": 9,
    "start_time": "2022-03-05T16:10:39.588Z"
   },
   {
    "duration": 6,
    "start_time": "2022-03-05T16:10:39.599Z"
   },
   {
    "duration": 5,
    "start_time": "2022-03-05T16:10:39.607Z"
   },
   {
    "duration": 10,
    "start_time": "2022-03-05T16:10:39.614Z"
   },
   {
    "duration": 8,
    "start_time": "2022-03-05T16:10:39.625Z"
   },
   {
    "duration": 31,
    "start_time": "2022-03-05T16:10:39.634Z"
   },
   {
    "duration": 9,
    "start_time": "2022-03-05T16:10:39.667Z"
   },
   {
    "duration": 4,
    "start_time": "2022-03-05T16:10:39.678Z"
   },
   {
    "duration": 6,
    "start_time": "2022-03-05T16:10:39.684Z"
   },
   {
    "duration": 7,
    "start_time": "2022-03-05T16:10:39.692Z"
   },
   {
    "duration": 10,
    "start_time": "2022-03-05T16:10:39.700Z"
   },
   {
    "duration": 52,
    "start_time": "2022-03-05T16:10:39.712Z"
   },
   {
    "duration": 5,
    "start_time": "2022-03-05T16:10:39.765Z"
   },
   {
    "duration": 10,
    "start_time": "2022-03-05T16:10:39.772Z"
   },
   {
    "duration": 6,
    "start_time": "2022-03-05T16:10:39.784Z"
   },
   {
    "duration": 13,
    "start_time": "2022-03-05T16:10:39.791Z"
   },
   {
    "duration": 8,
    "start_time": "2022-03-05T16:10:39.806Z"
   },
   {
    "duration": 8,
    "start_time": "2022-03-05T16:10:39.816Z"
   },
   {
    "duration": 40,
    "start_time": "2022-03-05T16:10:39.826Z"
   },
   {
    "duration": 4,
    "start_time": "2022-03-05T16:10:39.868Z"
   },
   {
    "duration": 11,
    "start_time": "2022-03-05T16:10:39.876Z"
   },
   {
    "duration": 8,
    "start_time": "2022-03-05T16:10:39.889Z"
   },
   {
    "duration": 10,
    "start_time": "2022-03-05T16:10:39.899Z"
   },
   {
    "duration": 13,
    "start_time": "2022-03-05T16:10:39.911Z"
   },
   {
    "duration": 40,
    "start_time": "2022-03-05T16:10:39.925Z"
   },
   {
    "duration": 256,
    "start_time": "2022-03-05T16:10:39.966Z"
   },
   {
    "duration": -1111,
    "start_time": "2022-03-05T16:10:41.336Z"
   },
   {
    "duration": -1124,
    "start_time": "2022-03-05T16:10:41.350Z"
   },
   {
    "duration": -1135,
    "start_time": "2022-03-05T16:10:41.363Z"
   },
   {
    "duration": -1142,
    "start_time": "2022-03-05T16:10:41.371Z"
   },
   {
    "duration": -1154,
    "start_time": "2022-03-05T16:10:41.384Z"
   },
   {
    "duration": -1166,
    "start_time": "2022-03-05T16:10:41.398Z"
   },
   {
    "duration": -1173,
    "start_time": "2022-03-05T16:10:41.406Z"
   },
   {
    "duration": -1186,
    "start_time": "2022-03-05T16:10:41.420Z"
   },
   {
    "duration": -1197,
    "start_time": "2022-03-05T16:10:41.432Z"
   },
   {
    "duration": -1228,
    "start_time": "2022-03-05T16:10:41.464Z"
   },
   {
    "duration": -1236,
    "start_time": "2022-03-05T16:10:41.473Z"
   },
   {
    "duration": -1242,
    "start_time": "2022-03-05T16:10:41.480Z"
   },
   {
    "duration": -1250,
    "start_time": "2022-03-05T16:10:41.489Z"
   },
   {
    "duration": -1257,
    "start_time": "2022-03-05T16:10:41.497Z"
   },
   {
    "duration": -1263,
    "start_time": "2022-03-05T16:10:41.505Z"
   },
   {
    "duration": -1268,
    "start_time": "2022-03-05T16:10:41.511Z"
   },
   {
    "duration": -1273,
    "start_time": "2022-03-05T16:10:41.517Z"
   },
   {
    "duration": -1280,
    "start_time": "2022-03-05T16:10:41.525Z"
   },
   {
    "duration": -1293,
    "start_time": "2022-03-05T16:10:41.539Z"
   },
   {
    "duration": -1352,
    "start_time": "2022-03-05T16:10:41.599Z"
   },
   {
    "duration": -1359,
    "start_time": "2022-03-05T16:10:41.607Z"
   },
   {
    "duration": -1370,
    "start_time": "2022-03-05T16:10:41.619Z"
   },
   {
    "duration": -1383,
    "start_time": "2022-03-05T16:10:41.633Z"
   },
   {
    "duration": -1390,
    "start_time": "2022-03-05T16:10:41.641Z"
   },
   {
    "duration": -1403,
    "start_time": "2022-03-05T16:10:41.655Z"
   },
   {
    "duration": -1416,
    "start_time": "2022-03-05T16:10:41.669Z"
   },
   {
    "duration": -1430,
    "start_time": "2022-03-05T16:10:41.683Z"
   },
   {
    "duration": -1441,
    "start_time": "2022-03-05T16:10:41.696Z"
   },
   {
    "duration": -1450,
    "start_time": "2022-03-05T16:10:41.705Z"
   },
   {
    "duration": -1456,
    "start_time": "2022-03-05T16:10:41.712Z"
   },
   {
    "duration": -1462,
    "start_time": "2022-03-05T16:10:41.719Z"
   },
   {
    "duration": -1464,
    "start_time": "2022-03-05T16:10:41.726Z"
   },
   {
    "duration": -1469,
    "start_time": "2022-03-05T16:10:41.732Z"
   },
   {
    "duration": -1476,
    "start_time": "2022-03-05T16:10:41.740Z"
   },
   {
    "duration": -1482,
    "start_time": "2022-03-05T16:10:41.746Z"
   },
   {
    "duration": -1488,
    "start_time": "2022-03-05T16:10:41.753Z"
   },
   {
    "duration": -1493,
    "start_time": "2022-03-05T16:10:41.759Z"
   },
   {
    "duration": -1501,
    "start_time": "2022-03-05T16:10:41.768Z"
   },
   {
    "duration": -1506,
    "start_time": "2022-03-05T16:10:41.774Z"
   },
   {
    "duration": 7,
    "start_time": "2022-03-05T16:11:11.865Z"
   },
   {
    "duration": 65,
    "start_time": "2022-03-05T16:11:40.714Z"
   },
   {
    "duration": 10,
    "start_time": "2022-03-05T16:13:18.724Z"
   },
   {
    "duration": 4,
    "start_time": "2022-03-05T16:13:21.225Z"
   },
   {
    "duration": 40,
    "start_time": "2022-03-05T16:13:21.230Z"
   },
   {
    "duration": 9,
    "start_time": "2022-03-05T16:13:21.272Z"
   },
   {
    "duration": 4,
    "start_time": "2022-03-05T16:13:21.284Z"
   },
   {
    "duration": 7,
    "start_time": "2022-03-05T16:13:21.290Z"
   },
   {
    "duration": 6,
    "start_time": "2022-03-05T16:13:21.299Z"
   },
   {
    "duration": 5,
    "start_time": "2022-03-05T16:13:21.307Z"
   },
   {
    "duration": 6,
    "start_time": "2022-03-05T16:13:21.313Z"
   },
   {
    "duration": 44,
    "start_time": "2022-03-05T16:13:21.322Z"
   },
   {
    "duration": 10,
    "start_time": "2022-03-05T16:13:21.368Z"
   },
   {
    "duration": 7,
    "start_time": "2022-03-05T16:13:21.380Z"
   },
   {
    "duration": 8,
    "start_time": "2022-03-05T16:13:21.388Z"
   },
   {
    "duration": 9,
    "start_time": "2022-03-05T16:13:21.397Z"
   },
   {
    "duration": 6,
    "start_time": "2022-03-05T16:13:21.408Z"
   },
   {
    "duration": 9,
    "start_time": "2022-03-05T16:13:21.416Z"
   },
   {
    "duration": 40,
    "start_time": "2022-03-05T16:13:21.426Z"
   },
   {
    "duration": 10,
    "start_time": "2022-03-05T16:13:21.468Z"
   },
   {
    "duration": 24,
    "start_time": "2022-03-05T16:13:21.480Z"
   },
   {
    "duration": 6,
    "start_time": "2022-03-05T16:13:21.506Z"
   },
   {
    "duration": 14,
    "start_time": "2022-03-05T16:13:21.513Z"
   },
   {
    "duration": 10,
    "start_time": "2022-03-05T16:13:21.529Z"
   },
   {
    "duration": 29,
    "start_time": "2022-03-05T16:13:21.541Z"
   },
   {
    "duration": 11,
    "start_time": "2022-03-05T16:13:21.571Z"
   },
   {
    "duration": 6,
    "start_time": "2022-03-05T16:13:21.583Z"
   },
   {
    "duration": 7,
    "start_time": "2022-03-05T16:13:21.591Z"
   },
   {
    "duration": 5,
    "start_time": "2022-03-05T16:13:21.600Z"
   },
   {
    "duration": 10,
    "start_time": "2022-03-05T16:13:21.609Z"
   },
   {
    "duration": 9,
    "start_time": "2022-03-05T16:13:21.621Z"
   },
   {
    "duration": 43,
    "start_time": "2022-03-05T16:13:21.631Z"
   },
   {
    "duration": 7,
    "start_time": "2022-03-05T16:13:21.676Z"
   },
   {
    "duration": 5,
    "start_time": "2022-03-05T16:13:21.684Z"
   },
   {
    "duration": 226,
    "start_time": "2022-03-05T16:13:21.691Z"
   },
   {
    "duration": -1041,
    "start_time": "2022-03-05T16:13:22.960Z"
   },
   {
    "duration": -1049,
    "start_time": "2022-03-05T16:13:22.969Z"
   },
   {
    "duration": -1056,
    "start_time": "2022-03-05T16:13:22.977Z"
   },
   {
    "duration": -1063,
    "start_time": "2022-03-05T16:13:22.985Z"
   },
   {
    "duration": -1069,
    "start_time": "2022-03-05T16:13:22.992Z"
   },
   {
    "duration": -1077,
    "start_time": "2022-03-05T16:13:23.001Z"
   },
   {
    "duration": -1083,
    "start_time": "2022-03-05T16:13:23.008Z"
   },
   {
    "duration": -1089,
    "start_time": "2022-03-05T16:13:23.015Z"
   },
   {
    "duration": -1101,
    "start_time": "2022-03-05T16:13:23.028Z"
   },
   {
    "duration": -1108,
    "start_time": "2022-03-05T16:13:23.036Z"
   },
   {
    "duration": -1113,
    "start_time": "2022-03-05T16:13:23.042Z"
   },
   {
    "duration": -1131,
    "start_time": "2022-03-05T16:13:23.061Z"
   },
   {
    "duration": -1139,
    "start_time": "2022-03-05T16:13:23.070Z"
   },
   {
    "duration": -1150,
    "start_time": "2022-03-05T16:13:23.082Z"
   },
   {
    "duration": -1163,
    "start_time": "2022-03-05T16:13:23.096Z"
   },
   {
    "duration": -1171,
    "start_time": "2022-03-05T16:13:23.105Z"
   },
   {
    "duration": -1181,
    "start_time": "2022-03-05T16:13:23.116Z"
   },
   {
    "duration": -1219,
    "start_time": "2022-03-05T16:13:23.155Z"
   },
   {
    "duration": -1229,
    "start_time": "2022-03-05T16:13:23.166Z"
   },
   {
    "duration": -1241,
    "start_time": "2022-03-05T16:13:23.179Z"
   },
   {
    "duration": -1249,
    "start_time": "2022-03-05T16:13:23.188Z"
   },
   {
    "duration": -1260,
    "start_time": "2022-03-05T16:13:23.200Z"
   },
   {
    "duration": -1267,
    "start_time": "2022-03-05T16:13:23.208Z"
   },
   {
    "duration": -1272,
    "start_time": "2022-03-05T16:13:23.214Z"
   },
   {
    "duration": -1279,
    "start_time": "2022-03-05T16:13:23.222Z"
   },
   {
    "duration": -1285,
    "start_time": "2022-03-05T16:13:23.229Z"
   },
   {
    "duration": -1293,
    "start_time": "2022-03-05T16:13:23.238Z"
   },
   {
    "duration": -1299,
    "start_time": "2022-03-05T16:13:23.245Z"
   },
   {
    "duration": -1308,
    "start_time": "2022-03-05T16:13:23.254Z"
   },
   {
    "duration": -1314,
    "start_time": "2022-03-05T16:13:23.261Z"
   },
   {
    "duration": -1320,
    "start_time": "2022-03-05T16:13:23.268Z"
   },
   {
    "duration": -1326,
    "start_time": "2022-03-05T16:13:23.275Z"
   },
   {
    "duration": -1332,
    "start_time": "2022-03-05T16:13:23.282Z"
   },
   {
    "duration": -1339,
    "start_time": "2022-03-05T16:13:23.290Z"
   },
   {
    "duration": -1344,
    "start_time": "2022-03-05T16:13:23.296Z"
   },
   {
    "duration": -1358,
    "start_time": "2022-03-05T16:13:23.311Z"
   },
   {
    "duration": -1366,
    "start_time": "2022-03-05T16:13:23.320Z"
   },
   {
    "duration": -1373,
    "start_time": "2022-03-05T16:13:23.328Z"
   },
   {
    "duration": -1381,
    "start_time": "2022-03-05T16:13:23.336Z"
   },
   {
    "duration": 10,
    "start_time": "2022-03-05T16:15:40.809Z"
   },
   {
    "duration": 223,
    "start_time": "2022-03-05T16:16:10.519Z"
   },
   {
    "duration": 5,
    "start_time": "2022-03-05T16:16:26.197Z"
   },
   {
    "duration": 8,
    "start_time": "2022-03-05T16:16:34.543Z"
   },
   {
    "duration": 215,
    "start_time": "2022-03-05T16:17:25.819Z"
   },
   {
    "duration": 2,
    "start_time": "2022-03-05T16:17:31.973Z"
   },
   {
    "duration": 44,
    "start_time": "2022-03-05T16:17:31.977Z"
   },
   {
    "duration": 10,
    "start_time": "2022-03-05T16:17:32.023Z"
   },
   {
    "duration": 14,
    "start_time": "2022-03-05T16:17:32.035Z"
   },
   {
    "duration": 21,
    "start_time": "2022-03-05T16:17:32.050Z"
   },
   {
    "duration": 8,
    "start_time": "2022-03-05T16:17:32.073Z"
   },
   {
    "duration": 13,
    "start_time": "2022-03-05T16:17:32.083Z"
   },
   {
    "duration": 8,
    "start_time": "2022-03-05T16:17:32.099Z"
   },
   {
    "duration": 21,
    "start_time": "2022-03-05T16:17:32.109Z"
   },
   {
    "duration": 31,
    "start_time": "2022-03-05T16:17:32.132Z"
   },
   {
    "duration": 8,
    "start_time": "2022-03-05T16:17:32.165Z"
   },
   {
    "duration": 7,
    "start_time": "2022-03-05T16:17:32.174Z"
   },
   {
    "duration": 9,
    "start_time": "2022-03-05T16:17:32.183Z"
   },
   {
    "duration": 6,
    "start_time": "2022-03-05T16:17:32.193Z"
   },
   {
    "duration": 6,
    "start_time": "2022-03-05T16:17:32.201Z"
   },
   {
    "duration": 6,
    "start_time": "2022-03-05T16:17:32.209Z"
   },
   {
    "duration": 51,
    "start_time": "2022-03-05T16:17:32.217Z"
   },
   {
    "duration": 21,
    "start_time": "2022-03-05T16:17:32.270Z"
   },
   {
    "duration": 4,
    "start_time": "2022-03-05T16:17:32.292Z"
   },
   {
    "duration": 17,
    "start_time": "2022-03-05T16:17:32.298Z"
   },
   {
    "duration": 9,
    "start_time": "2022-03-05T16:17:32.316Z"
   },
   {
    "duration": 13,
    "start_time": "2022-03-05T16:17:32.326Z"
   },
   {
    "duration": 9,
    "start_time": "2022-03-05T16:17:32.363Z"
   },
   {
    "duration": 5,
    "start_time": "2022-03-05T16:17:32.375Z"
   },
   {
    "duration": 12,
    "start_time": "2022-03-05T16:17:32.381Z"
   },
   {
    "duration": 5,
    "start_time": "2022-03-05T16:17:32.395Z"
   },
   {
    "duration": 14,
    "start_time": "2022-03-05T16:17:32.401Z"
   },
   {
    "duration": 7,
    "start_time": "2022-03-05T16:17:32.417Z"
   },
   {
    "duration": 38,
    "start_time": "2022-03-05T16:17:32.425Z"
   },
   {
    "duration": 7,
    "start_time": "2022-03-05T16:17:32.465Z"
   },
   {
    "duration": 8,
    "start_time": "2022-03-05T16:17:32.473Z"
   },
   {
    "duration": 13,
    "start_time": "2022-03-05T16:17:32.482Z"
   },
   {
    "duration": 11,
    "start_time": "2022-03-05T16:17:32.496Z"
   },
   {
    "duration": 161,
    "start_time": "2022-03-05T16:17:32.509Z"
   },
   {
    "duration": 5,
    "start_time": "2022-03-05T16:17:32.672Z"
   },
   {
    "duration": 321,
    "start_time": "2022-03-05T16:17:32.679Z"
   },
   {
    "duration": 263,
    "start_time": "2022-03-05T16:17:33.002Z"
   },
   {
    "duration": 7,
    "start_time": "2022-03-05T16:17:33.267Z"
   },
   {
    "duration": 689,
    "start_time": "2022-03-05T16:17:33.276Z"
   },
   {
    "duration": 5,
    "start_time": "2022-03-05T16:17:33.967Z"
   },
   {
    "duration": 165,
    "start_time": "2022-03-05T16:17:33.973Z"
   },
   {
    "duration": 273,
    "start_time": "2022-03-05T16:17:34.140Z"
   },
   {
    "duration": 6,
    "start_time": "2022-03-05T16:17:34.415Z"
   },
   {
    "duration": 223,
    "start_time": "2022-03-05T16:17:34.423Z"
   },
   {
    "duration": -468,
    "start_time": "2022-03-05T16:17:35.116Z"
   },
   {
    "duration": -475,
    "start_time": "2022-03-05T16:17:35.124Z"
   },
   {
    "duration": -482,
    "start_time": "2022-03-05T16:17:35.132Z"
   },
   {
    "duration": -490,
    "start_time": "2022-03-05T16:17:35.141Z"
   },
   {
    "duration": -499,
    "start_time": "2022-03-05T16:17:35.150Z"
   },
   {
    "duration": -506,
    "start_time": "2022-03-05T16:17:35.158Z"
   },
   {
    "duration": -516,
    "start_time": "2022-03-05T16:17:35.169Z"
   },
   {
    "duration": -522,
    "start_time": "2022-03-05T16:17:35.176Z"
   },
   {
    "duration": -529,
    "start_time": "2022-03-05T16:17:35.184Z"
   },
   {
    "duration": -538,
    "start_time": "2022-03-05T16:17:35.194Z"
   },
   {
    "duration": -545,
    "start_time": "2022-03-05T16:17:35.202Z"
   },
   {
    "duration": -555,
    "start_time": "2022-03-05T16:17:35.213Z"
   },
   {
    "duration": -562,
    "start_time": "2022-03-05T16:17:35.221Z"
   },
   {
    "duration": -567,
    "start_time": "2022-03-05T16:17:35.227Z"
   },
   {
    "duration": -573,
    "start_time": "2022-03-05T16:17:35.234Z"
   },
   {
    "duration": -583,
    "start_time": "2022-03-05T16:17:35.245Z"
   },
   {
    "duration": -590,
    "start_time": "2022-03-05T16:17:35.253Z"
   },
   {
    "duration": -596,
    "start_time": "2022-03-05T16:17:35.260Z"
   },
   {
    "duration": -602,
    "start_time": "2022-03-05T16:17:35.267Z"
   },
   {
    "duration": -608,
    "start_time": "2022-03-05T16:17:35.274Z"
   },
   {
    "duration": -614,
    "start_time": "2022-03-05T16:17:35.281Z"
   },
   {
    "duration": -621,
    "start_time": "2022-03-05T16:17:35.290Z"
   },
   {
    "duration": -626,
    "start_time": "2022-03-05T16:17:35.296Z"
   },
   {
    "duration": -634,
    "start_time": "2022-03-05T16:17:35.305Z"
   },
   {
    "duration": -643,
    "start_time": "2022-03-05T16:17:35.315Z"
   },
   {
    "duration": -650,
    "start_time": "2022-03-05T16:17:35.323Z"
   },
   {
    "duration": -657,
    "start_time": "2022-03-05T16:17:35.331Z"
   },
   {
    "duration": -666,
    "start_time": "2022-03-05T16:17:35.341Z"
   },
   {
    "duration": 5,
    "start_time": "2022-03-05T16:19:04.501Z"
   },
   {
    "duration": 28,
    "start_time": "2022-03-05T16:19:10.009Z"
   },
   {
    "duration": 212,
    "start_time": "2022-03-05T16:19:30.673Z"
   },
   {
    "duration": 5107,
    "start_time": "2022-03-05T16:19:35.388Z"
   },
   {
    "duration": 26,
    "start_time": "2022-03-05T16:19:45.302Z"
   },
   {
    "duration": 18,
    "start_time": "2022-03-05T16:19:51.431Z"
   },
   {
    "duration": 5124,
    "start_time": "2022-03-05T16:20:52.277Z"
   },
   {
    "duration": 240,
    "start_time": "2022-03-05T16:21:56.118Z"
   },
   {
    "duration": 77,
    "start_time": "2022-03-05T16:23:02.167Z"
   },
   {
    "duration": 11,
    "start_time": "2022-03-05T16:24:16.904Z"
   },
   {
    "duration": 7085,
    "start_time": "2022-03-05T16:24:20.296Z"
   },
   {
    "duration": 33,
    "start_time": "2022-03-05T16:25:09.485Z"
   },
   {
    "duration": 23,
    "start_time": "2022-03-05T16:25:16.373Z"
   },
   {
    "duration": 5175,
    "start_time": "2022-03-05T16:25:19.834Z"
   },
   {
    "duration": 218,
    "start_time": "2022-03-05T16:25:43.638Z"
   },
   {
    "duration": 237,
    "start_time": "2022-03-05T16:26:02.640Z"
   },
   {
    "duration": 77,
    "start_time": "2022-03-05T16:26:37.381Z"
   },
   {
    "duration": 323,
    "start_time": "2022-03-05T16:27:14.241Z"
   },
   {
    "duration": 264,
    "start_time": "2022-03-05T16:27:37.615Z"
   },
   {
    "duration": 326,
    "start_time": "2022-03-05T16:28:40.153Z"
   },
   {
    "duration": 300,
    "start_time": "2022-03-05T16:28:47.763Z"
   },
   {
    "duration": 367,
    "start_time": "2022-03-05T16:29:03.561Z"
   },
   {
    "duration": 445,
    "start_time": "2022-03-05T16:29:51.586Z"
   },
   {
    "duration": 3,
    "start_time": "2022-03-05T16:30:05.076Z"
   },
   {
    "duration": 62,
    "start_time": "2022-03-05T16:30:05.082Z"
   },
   {
    "duration": 20,
    "start_time": "2022-03-05T16:30:05.146Z"
   },
   {
    "duration": 7,
    "start_time": "2022-03-05T16:30:05.168Z"
   },
   {
    "duration": 33,
    "start_time": "2022-03-05T16:30:05.177Z"
   },
   {
    "duration": 7,
    "start_time": "2022-03-05T16:30:05.212Z"
   },
   {
    "duration": 6,
    "start_time": "2022-03-05T16:30:05.222Z"
   },
   {
    "duration": 7,
    "start_time": "2022-03-05T16:30:05.231Z"
   },
   {
    "duration": 27,
    "start_time": "2022-03-05T16:30:05.240Z"
   },
   {
    "duration": 21,
    "start_time": "2022-03-05T16:30:05.270Z"
   },
   {
    "duration": 8,
    "start_time": "2022-03-05T16:30:05.293Z"
   },
   {
    "duration": 8,
    "start_time": "2022-03-05T16:30:05.303Z"
   },
   {
    "duration": 9,
    "start_time": "2022-03-05T16:30:05.313Z"
   },
   {
    "duration": 40,
    "start_time": "2022-03-05T16:30:05.324Z"
   },
   {
    "duration": 7,
    "start_time": "2022-03-05T16:30:05.366Z"
   },
   {
    "duration": 31,
    "start_time": "2022-03-05T16:30:05.375Z"
   },
   {
    "duration": 12,
    "start_time": "2022-03-05T16:30:05.408Z"
   },
   {
    "duration": 25,
    "start_time": "2022-03-05T16:30:05.423Z"
   },
   {
    "duration": 16,
    "start_time": "2022-03-05T16:30:05.450Z"
   },
   {
    "duration": 25,
    "start_time": "2022-03-05T16:30:05.469Z"
   },
   {
    "duration": 7,
    "start_time": "2022-03-05T16:30:05.496Z"
   },
   {
    "duration": 17,
    "start_time": "2022-03-05T16:30:05.505Z"
   },
   {
    "duration": 10,
    "start_time": "2022-03-05T16:30:05.527Z"
   },
   {
    "duration": 35,
    "start_time": "2022-03-05T16:30:05.539Z"
   },
   {
    "duration": 10,
    "start_time": "2022-03-05T16:30:05.576Z"
   },
   {
    "duration": 9,
    "start_time": "2022-03-05T16:30:05.588Z"
   },
   {
    "duration": 12,
    "start_time": "2022-03-05T16:30:05.600Z"
   },
   {
    "duration": 11,
    "start_time": "2022-03-05T16:30:05.614Z"
   },
   {
    "duration": 46,
    "start_time": "2022-03-05T16:30:05.627Z"
   },
   {
    "duration": 17,
    "start_time": "2022-03-05T16:30:05.676Z"
   },
   {
    "duration": 13,
    "start_time": "2022-03-05T16:30:05.695Z"
   },
   {
    "duration": 20,
    "start_time": "2022-03-05T16:30:05.709Z"
   },
   {
    "duration": 10,
    "start_time": "2022-03-05T16:30:05.730Z"
   },
   {
    "duration": 253,
    "start_time": "2022-03-05T16:30:05.742Z"
   },
   {
    "duration": 6,
    "start_time": "2022-03-05T16:30:05.997Z"
   },
   {
    "duration": 478,
    "start_time": "2022-03-05T16:30:06.005Z"
   },
   {
    "duration": 306,
    "start_time": "2022-03-05T16:30:06.486Z"
   },
   {
    "duration": 8,
    "start_time": "2022-03-05T16:30:06.794Z"
   },
   {
    "duration": 812,
    "start_time": "2022-03-05T16:30:06.803Z"
   },
   {
    "duration": 6,
    "start_time": "2022-03-05T16:30:07.617Z"
   },
   {
    "duration": 257,
    "start_time": "2022-03-05T16:30:07.625Z"
   },
   {
    "duration": 313,
    "start_time": "2022-03-05T16:30:07.884Z"
   },
   {
    "duration": 5,
    "start_time": "2022-03-05T16:30:08.199Z"
   },
   {
    "duration": 240,
    "start_time": "2022-03-05T16:30:08.206Z"
   },
   {
    "duration": -415,
    "start_time": "2022-03-05T16:30:08.863Z"
   },
   {
    "duration": -427,
    "start_time": "2022-03-05T16:30:08.875Z"
   },
   {
    "duration": -433,
    "start_time": "2022-03-05T16:30:08.882Z"
   },
   {
    "duration": -439,
    "start_time": "2022-03-05T16:30:08.889Z"
   },
   {
    "duration": -447,
    "start_time": "2022-03-05T16:30:08.899Z"
   },
   {
    "duration": -454,
    "start_time": "2022-03-05T16:30:08.907Z"
   },
   {
    "duration": -460,
    "start_time": "2022-03-05T16:30:08.913Z"
   },
   {
    "duration": -467,
    "start_time": "2022-03-05T16:30:08.921Z"
   },
   {
    "duration": -472,
    "start_time": "2022-03-05T16:30:08.927Z"
   },
   {
    "duration": -478,
    "start_time": "2022-03-05T16:30:08.934Z"
   },
   {
    "duration": -485,
    "start_time": "2022-03-05T16:30:08.942Z"
   },
   {
    "duration": -492,
    "start_time": "2022-03-05T16:30:08.950Z"
   },
   {
    "duration": -498,
    "start_time": "2022-03-05T16:30:08.956Z"
   },
   {
    "duration": -506,
    "start_time": "2022-03-05T16:30:08.965Z"
   },
   {
    "duration": -512,
    "start_time": "2022-03-05T16:30:08.971Z"
   },
   {
    "duration": -522,
    "start_time": "2022-03-05T16:30:08.982Z"
   },
   {
    "duration": -528,
    "start_time": "2022-03-05T16:30:08.989Z"
   },
   {
    "duration": -536,
    "start_time": "2022-03-05T16:30:08.997Z"
   },
   {
    "duration": -542,
    "start_time": "2022-03-05T16:30:09.004Z"
   },
   {
    "duration": -550,
    "start_time": "2022-03-05T16:30:09.012Z"
   },
   {
    "duration": -557,
    "start_time": "2022-03-05T16:30:09.020Z"
   },
   {
    "duration": -557,
    "start_time": "2022-03-05T16:30:09.026Z"
   },
   {
    "duration": -565,
    "start_time": "2022-03-05T16:30:09.036Z"
   },
   {
    "duration": -571,
    "start_time": "2022-03-05T16:30:09.043Z"
   },
   {
    "duration": -578,
    "start_time": "2022-03-05T16:30:09.051Z"
   },
   {
    "duration": -586,
    "start_time": "2022-03-05T16:30:09.060Z"
   },
   {
    "duration": -591,
    "start_time": "2022-03-05T16:30:09.067Z"
   },
   {
    "duration": -596,
    "start_time": "2022-03-05T16:30:09.073Z"
   },
   {
    "duration": 262,
    "start_time": "2022-03-05T16:31:35.809Z"
   },
   {
    "duration": 13,
    "start_time": "2022-03-05T16:31:42.876Z"
   },
   {
    "duration": 3,
    "start_time": "2022-03-05T16:31:47.116Z"
   },
   {
    "duration": 64,
    "start_time": "2022-03-05T16:31:47.120Z"
   },
   {
    "duration": 15,
    "start_time": "2022-03-05T16:31:47.187Z"
   },
   {
    "duration": 8,
    "start_time": "2022-03-05T16:31:47.205Z"
   },
   {
    "duration": 27,
    "start_time": "2022-03-05T16:31:47.215Z"
   },
   {
    "duration": 29,
    "start_time": "2022-03-05T16:31:47.244Z"
   },
   {
    "duration": 21,
    "start_time": "2022-03-05T16:31:47.275Z"
   },
   {
    "duration": 20,
    "start_time": "2022-03-05T16:31:47.298Z"
   },
   {
    "duration": 13,
    "start_time": "2022-03-05T16:31:47.321Z"
   },
   {
    "duration": 24,
    "start_time": "2022-03-05T16:31:47.336Z"
   },
   {
    "duration": 12,
    "start_time": "2022-03-05T16:31:47.362Z"
   },
   {
    "duration": 25,
    "start_time": "2022-03-05T16:31:47.379Z"
   },
   {
    "duration": 28,
    "start_time": "2022-03-05T16:31:47.406Z"
   },
   {
    "duration": 20,
    "start_time": "2022-03-05T16:31:47.436Z"
   },
   {
    "duration": 35,
    "start_time": "2022-03-05T16:31:47.458Z"
   },
   {
    "duration": 11,
    "start_time": "2022-03-05T16:31:47.495Z"
   },
   {
    "duration": 20,
    "start_time": "2022-03-05T16:31:47.508Z"
   },
   {
    "duration": 41,
    "start_time": "2022-03-05T16:31:47.531Z"
   },
   {
    "duration": 11,
    "start_time": "2022-03-05T16:31:47.575Z"
   },
   {
    "duration": 25,
    "start_time": "2022-03-05T16:31:47.588Z"
   },
   {
    "duration": 15,
    "start_time": "2022-03-05T16:31:47.615Z"
   },
   {
    "duration": 37,
    "start_time": "2022-03-05T16:31:47.632Z"
   },
   {
    "duration": 20,
    "start_time": "2022-03-05T16:31:47.671Z"
   },
   {
    "duration": 32,
    "start_time": "2022-03-05T16:31:47.693Z"
   },
   {
    "duration": 34,
    "start_time": "2022-03-05T16:31:47.727Z"
   },
   {
    "duration": 27,
    "start_time": "2022-03-05T16:31:47.764Z"
   },
   {
    "duration": 25,
    "start_time": "2022-03-05T16:31:47.797Z"
   },
   {
    "duration": 21,
    "start_time": "2022-03-05T16:31:47.826Z"
   },
   {
    "duration": 31,
    "start_time": "2022-03-05T16:31:47.849Z"
   },
   {
    "duration": 19,
    "start_time": "2022-03-05T16:31:47.882Z"
   },
   {
    "duration": 20,
    "start_time": "2022-03-05T16:31:47.902Z"
   },
   {
    "duration": 32,
    "start_time": "2022-03-05T16:31:47.924Z"
   },
   {
    "duration": 21,
    "start_time": "2022-03-05T16:31:47.958Z"
   },
   {
    "duration": 186,
    "start_time": "2022-03-05T16:31:47.981Z"
   },
   {
    "duration": 8,
    "start_time": "2022-03-05T16:31:48.171Z"
   },
   {
    "duration": 362,
    "start_time": "2022-03-05T16:31:48.181Z"
   },
   {
    "duration": 391,
    "start_time": "2022-03-05T16:31:48.545Z"
   },
   {
    "duration": 8,
    "start_time": "2022-03-05T16:31:48.938Z"
   },
   {
    "duration": 1127,
    "start_time": "2022-03-05T16:31:48.948Z"
   },
   {
    "duration": 10,
    "start_time": "2022-03-05T16:31:50.078Z"
   },
   {
    "duration": 198,
    "start_time": "2022-03-05T16:31:50.090Z"
   },
   {
    "duration": 219,
    "start_time": "2022-03-05T16:31:50.289Z"
   },
   {
    "duration": 5,
    "start_time": "2022-03-05T16:31:50.510Z"
   },
   {
    "duration": 260,
    "start_time": "2022-03-05T16:31:50.517Z"
   },
   {
    "duration": -446,
    "start_time": "2022-03-05T16:31:51.225Z"
   },
   {
    "duration": -455,
    "start_time": "2022-03-05T16:31:51.235Z"
   },
   {
    "duration": -461,
    "start_time": "2022-03-05T16:31:51.243Z"
   },
   {
    "duration": -466,
    "start_time": "2022-03-05T16:31:51.249Z"
   },
   {
    "duration": -474,
    "start_time": "2022-03-05T16:31:51.258Z"
   },
   {
    "duration": -479,
    "start_time": "2022-03-05T16:31:51.263Z"
   },
   {
    "duration": -484,
    "start_time": "2022-03-05T16:31:51.269Z"
   },
   {
    "duration": -488,
    "start_time": "2022-03-05T16:31:51.274Z"
   },
   {
    "duration": -493,
    "start_time": "2022-03-05T16:31:51.280Z"
   },
   {
    "duration": -499,
    "start_time": "2022-03-05T16:31:51.287Z"
   },
   {
    "duration": -504,
    "start_time": "2022-03-05T16:31:51.292Z"
   },
   {
    "duration": -513,
    "start_time": "2022-03-05T16:31:51.302Z"
   },
   {
    "duration": -518,
    "start_time": "2022-03-05T16:31:51.308Z"
   },
   {
    "duration": -524,
    "start_time": "2022-03-05T16:31:51.315Z"
   },
   {
    "duration": -531,
    "start_time": "2022-03-05T16:31:51.323Z"
   },
   {
    "duration": -542,
    "start_time": "2022-03-05T16:31:51.335Z"
   },
   {
    "duration": -548,
    "start_time": "2022-03-05T16:31:51.341Z"
   },
   {
    "duration": -559,
    "start_time": "2022-03-05T16:31:51.353Z"
   },
   {
    "duration": -565,
    "start_time": "2022-03-05T16:31:51.360Z"
   },
   {
    "duration": -575,
    "start_time": "2022-03-05T16:31:51.371Z"
   },
   {
    "duration": -581,
    "start_time": "2022-03-05T16:31:51.378Z"
   },
   {
    "duration": -590,
    "start_time": "2022-03-05T16:31:51.388Z"
   },
   {
    "duration": -597,
    "start_time": "2022-03-05T16:31:51.396Z"
   },
   {
    "duration": -607,
    "start_time": "2022-03-05T16:31:51.407Z"
   },
   {
    "duration": -616,
    "start_time": "2022-03-05T16:31:51.418Z"
   },
   {
    "duration": -623,
    "start_time": "2022-03-05T16:31:51.428Z"
   },
   {
    "duration": -628,
    "start_time": "2022-03-05T16:31:51.434Z"
   },
   {
    "duration": -634,
    "start_time": "2022-03-05T16:31:51.441Z"
   },
   {
    "duration": 6,
    "start_time": "2022-03-05T16:32:07.308Z"
   },
   {
    "duration": 7,
    "start_time": "2022-03-05T16:32:15.374Z"
   },
   {
    "duration": 80,
    "start_time": "2022-03-05T16:33:54.775Z"
   },
   {
    "duration": 81,
    "start_time": "2022-03-05T16:33:57.473Z"
   },
   {
    "duration": 244,
    "start_time": "2022-03-05T16:34:01.158Z"
   },
   {
    "duration": 19,
    "start_time": "2022-03-05T16:34:24.612Z"
   },
   {
    "duration": 243,
    "start_time": "2022-03-05T16:34:38.868Z"
   },
   {
    "duration": 17,
    "start_time": "2022-03-05T16:34:42.363Z"
   },
   {
    "duration": 6,
    "start_time": "2022-03-05T16:36:17.177Z"
   },
   {
    "duration": 227,
    "start_time": "2022-03-05T16:36:51.023Z"
   },
   {
    "duration": 3,
    "start_time": "2022-03-05T16:36:53.588Z"
   },
   {
    "duration": 66,
    "start_time": "2022-03-05T16:36:53.592Z"
   },
   {
    "duration": 13,
    "start_time": "2022-03-05T16:36:53.660Z"
   },
   {
    "duration": 17,
    "start_time": "2022-03-05T16:36:53.676Z"
   },
   {
    "duration": 7,
    "start_time": "2022-03-05T16:36:53.695Z"
   },
   {
    "duration": 10,
    "start_time": "2022-03-05T16:36:53.703Z"
   },
   {
    "duration": 9,
    "start_time": "2022-03-05T16:36:53.714Z"
   },
   {
    "duration": 11,
    "start_time": "2022-03-05T16:36:53.725Z"
   },
   {
    "duration": 9,
    "start_time": "2022-03-05T16:36:53.740Z"
   },
   {
    "duration": 11,
    "start_time": "2022-03-05T16:36:53.765Z"
   },
   {
    "duration": 14,
    "start_time": "2022-03-05T16:36:53.778Z"
   },
   {
    "duration": 8,
    "start_time": "2022-03-05T16:36:53.793Z"
   },
   {
    "duration": 9,
    "start_time": "2022-03-05T16:36:53.802Z"
   },
   {
    "duration": 6,
    "start_time": "2022-03-05T16:36:53.812Z"
   },
   {
    "duration": 7,
    "start_time": "2022-03-05T16:36:53.820Z"
   },
   {
    "duration": 39,
    "start_time": "2022-03-05T16:36:53.829Z"
   },
   {
    "duration": 21,
    "start_time": "2022-03-05T16:36:53.870Z"
   },
   {
    "duration": 22,
    "start_time": "2022-03-05T16:36:53.893Z"
   },
   {
    "duration": 5,
    "start_time": "2022-03-05T16:36:53.917Z"
   },
   {
    "duration": 9,
    "start_time": "2022-03-05T16:36:53.923Z"
   },
   {
    "duration": 9,
    "start_time": "2022-03-05T16:36:53.933Z"
   },
   {
    "duration": 38,
    "start_time": "2022-03-05T16:36:53.943Z"
   },
   {
    "duration": 16,
    "start_time": "2022-03-05T16:36:53.984Z"
   },
   {
    "duration": 45,
    "start_time": "2022-03-05T16:36:54.002Z"
   },
   {
    "duration": 12,
    "start_time": "2022-03-05T16:36:54.049Z"
   },
   {
    "duration": 12,
    "start_time": "2022-03-05T16:36:54.063Z"
   },
   {
    "duration": 16,
    "start_time": "2022-03-05T16:36:54.080Z"
   },
   {
    "duration": 5,
    "start_time": "2022-03-05T16:36:54.099Z"
   },
   {
    "duration": 11,
    "start_time": "2022-03-05T16:36:54.106Z"
   },
   {
    "duration": 10,
    "start_time": "2022-03-05T16:36:54.119Z"
   },
   {
    "duration": 5,
    "start_time": "2022-03-05T16:36:54.131Z"
   },
   {
    "duration": 25,
    "start_time": "2022-03-05T16:36:54.138Z"
   },
   {
    "duration": 8,
    "start_time": "2022-03-05T16:36:54.175Z"
   },
   {
    "duration": 249,
    "start_time": "2022-03-05T16:36:54.186Z"
   },
   {
    "duration": 7,
    "start_time": "2022-03-05T16:36:54.436Z"
   },
   {
    "duration": 369,
    "start_time": "2022-03-05T16:36:54.444Z"
   },
   {
    "duration": 304,
    "start_time": "2022-03-05T16:36:54.815Z"
   },
   {
    "duration": 8,
    "start_time": "2022-03-05T16:36:55.121Z"
   },
   {
    "duration": 860,
    "start_time": "2022-03-05T16:36:55.131Z"
   },
   {
    "duration": 7,
    "start_time": "2022-03-05T16:36:55.992Z"
   },
   {
    "duration": 194,
    "start_time": "2022-03-05T16:36:56.001Z"
   },
   {
    "duration": 210,
    "start_time": "2022-03-05T16:36:56.197Z"
   },
   {
    "duration": 5,
    "start_time": "2022-03-05T16:36:56.409Z"
   },
   {
    "duration": 300,
    "start_time": "2022-03-05T16:36:56.416Z"
   },
   {
    "duration": 378,
    "start_time": "2022-03-05T16:36:56.718Z"
   },
   {
    "duration": 1408,
    "start_time": "2022-03-05T16:36:57.098Z"
   },
   {
    "duration": 12,
    "start_time": "2022-03-05T16:36:58.508Z"
   },
   {
    "duration": 11,
    "start_time": "2022-03-05T16:36:58.522Z"
   },
   {
    "duration": 22,
    "start_time": "2022-03-05T16:36:58.535Z"
   },
   {
    "duration": 206,
    "start_time": "2022-03-05T16:36:58.558Z"
   },
   {
    "duration": 6,
    "start_time": "2022-03-05T16:36:58.767Z"
   },
   {
    "duration": 94,
    "start_time": "2022-03-05T16:36:58.775Z"
   },
   {
    "duration": 78,
    "start_time": "2022-03-05T16:36:58.871Z"
   },
   {
    "duration": 80,
    "start_time": "2022-03-05T16:36:58.967Z"
   },
   {
    "duration": 91,
    "start_time": "2022-03-05T16:36:59.049Z"
   },
   {
    "duration": 94,
    "start_time": "2022-03-05T16:36:59.143Z"
   },
   {
    "duration": 6,
    "start_time": "2022-03-05T16:36:59.239Z"
   },
   {
    "duration": 78,
    "start_time": "2022-03-05T16:36:59.263Z"
   },
   {
    "duration": 91,
    "start_time": "2022-03-05T16:36:59.342Z"
   },
   {
    "duration": 95,
    "start_time": "2022-03-05T16:36:59.435Z"
   },
   {
    "duration": 98,
    "start_time": "2022-03-05T16:36:59.533Z"
   },
   {
    "duration": 93,
    "start_time": "2022-03-05T16:36:59.633Z"
   },
   {
    "duration": 6,
    "start_time": "2022-03-05T16:36:59.728Z"
   },
   {
    "duration": 93,
    "start_time": "2022-03-05T16:36:59.735Z"
   },
   {
    "duration": 96,
    "start_time": "2022-03-05T16:36:59.830Z"
   },
   {
    "duration": 93,
    "start_time": "2022-03-05T16:36:59.927Z"
   },
   {
    "duration": 98,
    "start_time": "2022-03-05T16:37:00.021Z"
   },
   {
    "duration": 100,
    "start_time": "2022-03-05T16:37:00.121Z"
   },
   {
    "duration": 10,
    "start_time": "2022-03-05T16:37:00.223Z"
   },
   {
    "duration": 14,
    "start_time": "2022-03-05T16:37:00.235Z"
   },
   {
    "duration": 28,
    "start_time": "2022-03-05T16:37:00.251Z"
   },
   {
    "duration": 21,
    "start_time": "2022-03-05T16:37:00.282Z"
   },
   {
    "duration": 327,
    "start_time": "2022-03-05T16:37:27.475Z"
   },
   {
    "duration": 309,
    "start_time": "2022-03-05T16:37:38.001Z"
   },
   {
    "duration": 344,
    "start_time": "2022-03-05T16:37:55.846Z"
   },
   {
    "duration": 461,
    "start_time": "2022-03-05T16:38:01.127Z"
   },
   {
    "duration": 304,
    "start_time": "2022-03-05T16:38:16.480Z"
   },
   {
    "duration": 71,
    "start_time": "2022-03-05T16:38:43.726Z"
   },
   {
    "duration": 79,
    "start_time": "2022-03-05T16:39:07.328Z"
   },
   {
    "duration": 853,
    "start_time": "2022-03-05T16:39:14.180Z"
   },
   {
    "duration": 10,
    "start_time": "2022-03-05T16:39:24.476Z"
   },
   {
    "duration": 196,
    "start_time": "2022-03-05T16:41:13.332Z"
   },
   {
    "duration": 1992,
    "start_time": "2022-03-05T16:42:56.447Z"
   },
   {
    "duration": 3,
    "start_time": "2022-03-05T16:43:13.519Z"
   },
   {
    "duration": 65,
    "start_time": "2022-03-05T16:43:13.523Z"
   },
   {
    "duration": 10,
    "start_time": "2022-03-05T16:43:13.590Z"
   },
   {
    "duration": 8,
    "start_time": "2022-03-05T16:43:13.602Z"
   },
   {
    "duration": 17,
    "start_time": "2022-03-05T16:43:13.612Z"
   },
   {
    "duration": 19,
    "start_time": "2022-03-05T16:43:13.631Z"
   },
   {
    "duration": 14,
    "start_time": "2022-03-05T16:43:13.652Z"
   },
   {
    "duration": 22,
    "start_time": "2022-03-05T16:43:13.668Z"
   },
   {
    "duration": 9,
    "start_time": "2022-03-05T16:43:13.692Z"
   },
   {
    "duration": 28,
    "start_time": "2022-03-05T16:43:13.704Z"
   },
   {
    "duration": 8,
    "start_time": "2022-03-05T16:43:13.734Z"
   },
   {
    "duration": 7,
    "start_time": "2022-03-05T16:43:13.744Z"
   },
   {
    "duration": 12,
    "start_time": "2022-03-05T16:43:13.752Z"
   },
   {
    "duration": 6,
    "start_time": "2022-03-05T16:43:13.766Z"
   },
   {
    "duration": 14,
    "start_time": "2022-03-05T16:43:13.774Z"
   },
   {
    "duration": 11,
    "start_time": "2022-03-05T16:43:13.790Z"
   },
   {
    "duration": 9,
    "start_time": "2022-03-05T16:43:13.803Z"
   },
   {
    "duration": 55,
    "start_time": "2022-03-05T16:43:13.814Z"
   },
   {
    "duration": 6,
    "start_time": "2022-03-05T16:43:13.872Z"
   },
   {
    "duration": 12,
    "start_time": "2022-03-05T16:43:13.880Z"
   },
   {
    "duration": 7,
    "start_time": "2022-03-05T16:43:13.894Z"
   },
   {
    "duration": 11,
    "start_time": "2022-03-05T16:43:13.903Z"
   },
   {
    "duration": 9,
    "start_time": "2022-03-05T16:43:13.915Z"
   },
   {
    "duration": 44,
    "start_time": "2022-03-05T16:43:13.925Z"
   },
   {
    "duration": 13,
    "start_time": "2022-03-05T16:43:13.971Z"
   },
   {
    "duration": 6,
    "start_time": "2022-03-05T16:43:13.986Z"
   },
   {
    "duration": 12,
    "start_time": "2022-03-05T16:43:13.996Z"
   },
   {
    "duration": 7,
    "start_time": "2022-03-05T16:43:14.010Z"
   },
   {
    "duration": 17,
    "start_time": "2022-03-05T16:43:14.019Z"
   },
   {
    "duration": 34,
    "start_time": "2022-03-05T16:43:14.038Z"
   },
   {
    "duration": 12,
    "start_time": "2022-03-05T16:43:14.074Z"
   },
   {
    "duration": 9,
    "start_time": "2022-03-05T16:43:14.088Z"
   },
   {
    "duration": 12,
    "start_time": "2022-03-05T16:43:14.099Z"
   },
   {
    "duration": 196,
    "start_time": "2022-03-05T16:43:14.112Z"
   },
   {
    "duration": 6,
    "start_time": "2022-03-05T16:43:14.310Z"
   },
   {
    "duration": 358,
    "start_time": "2022-03-05T16:43:14.318Z"
   },
   {
    "duration": 401,
    "start_time": "2022-03-05T16:43:14.679Z"
   },
   {
    "duration": 9,
    "start_time": "2022-03-05T16:43:15.082Z"
   },
   {
    "duration": 774,
    "start_time": "2022-03-05T16:43:15.092Z"
   },
   {
    "duration": 9,
    "start_time": "2022-03-05T16:43:15.869Z"
   },
   {
    "duration": 199,
    "start_time": "2022-03-05T16:43:15.880Z"
   },
   {
    "duration": 217,
    "start_time": "2022-03-05T16:43:16.081Z"
   },
   {
    "duration": 6,
    "start_time": "2022-03-05T16:43:16.299Z"
   },
   {
    "duration": 308,
    "start_time": "2022-03-05T16:43:16.306Z"
   },
   {
    "duration": 314,
    "start_time": "2022-03-05T16:43:16.615Z"
   },
   {
    "duration": 1083,
    "start_time": "2022-03-05T16:43:16.930Z"
   },
   {
    "duration": 10,
    "start_time": "2022-03-05T16:43:18.015Z"
   },
   {
    "duration": 5,
    "start_time": "2022-03-05T16:43:18.027Z"
   },
   {
    "duration": 10,
    "start_time": "2022-03-05T16:43:18.034Z"
   },
   {
    "duration": 215,
    "start_time": "2022-03-05T16:43:18.045Z"
   },
   {
    "duration": 1880,
    "start_time": "2022-03-05T16:43:18.261Z"
   },
   {
    "duration": 5,
    "start_time": "2022-03-05T16:43:20.143Z"
   },
   {
    "duration": 84,
    "start_time": "2022-03-05T16:43:20.150Z"
   },
   {
    "duration": 101,
    "start_time": "2022-03-05T16:43:20.236Z"
   },
   {
    "duration": 96,
    "start_time": "2022-03-05T16:43:20.339Z"
   },
   {
    "duration": 97,
    "start_time": "2022-03-05T16:43:20.437Z"
   },
   {
    "duration": 259,
    "start_time": "2022-03-05T16:43:20.535Z"
   },
   {
    "duration": 5,
    "start_time": "2022-03-05T16:43:20.795Z"
   },
   {
    "duration": 94,
    "start_time": "2022-03-05T16:43:20.801Z"
   },
   {
    "duration": 92,
    "start_time": "2022-03-05T16:43:20.896Z"
   },
   {
    "duration": 104,
    "start_time": "2022-03-05T16:43:20.989Z"
   },
   {
    "duration": 93,
    "start_time": "2022-03-05T16:43:21.095Z"
   },
   {
    "duration": 91,
    "start_time": "2022-03-05T16:43:21.189Z"
   },
   {
    "duration": 6,
    "start_time": "2022-03-05T16:43:21.281Z"
   },
   {
    "duration": 94,
    "start_time": "2022-03-05T16:43:21.288Z"
   },
   {
    "duration": 92,
    "start_time": "2022-03-05T16:43:21.384Z"
   },
   {
    "duration": 94,
    "start_time": "2022-03-05T16:43:21.479Z"
   },
   {
    "duration": 72,
    "start_time": "2022-03-05T16:43:21.576Z"
   },
   {
    "duration": 86,
    "start_time": "2022-03-05T16:43:21.649Z"
   },
   {
    "duration": 27,
    "start_time": "2022-03-05T16:43:21.736Z"
   },
   {
    "duration": 6,
    "start_time": "2022-03-05T16:43:21.765Z"
   },
   {
    "duration": 18,
    "start_time": "2022-03-05T16:43:21.773Z"
   },
   {
    "duration": 5,
    "start_time": "2022-03-05T16:43:21.793Z"
   },
   {
    "duration": 1832,
    "start_time": "2022-03-05T16:43:33.128Z"
   },
   {
    "duration": 2019,
    "start_time": "2022-03-05T16:43:39.810Z"
   },
   {
    "duration": 78,
    "start_time": "2022-03-05T16:44:20.995Z"
   },
   {
    "duration": 7,
    "start_time": "2022-03-05T16:45:17.743Z"
   },
   {
    "duration": 7,
    "start_time": "2022-03-05T16:45:19.867Z"
   },
   {
    "duration": 47,
    "start_time": "2022-03-05T16:45:19.877Z"
   },
   {
    "duration": 9,
    "start_time": "2022-03-05T16:45:19.926Z"
   },
   {
    "duration": 8,
    "start_time": "2022-03-05T16:45:19.937Z"
   },
   {
    "duration": 9,
    "start_time": "2022-03-05T16:45:19.963Z"
   },
   {
    "duration": 8,
    "start_time": "2022-03-05T16:45:19.975Z"
   },
   {
    "duration": 7,
    "start_time": "2022-03-05T16:45:19.985Z"
   },
   {
    "duration": 6,
    "start_time": "2022-03-05T16:45:19.993Z"
   },
   {
    "duration": 5,
    "start_time": "2022-03-05T16:45:20.003Z"
   },
   {
    "duration": 54,
    "start_time": "2022-03-05T16:45:20.011Z"
   },
   {
    "duration": 12,
    "start_time": "2022-03-05T16:45:20.068Z"
   },
   {
    "duration": 23,
    "start_time": "2022-03-05T16:45:20.082Z"
   },
   {
    "duration": 10,
    "start_time": "2022-03-05T16:45:20.107Z"
   },
   {
    "duration": 6,
    "start_time": "2022-03-05T16:45:20.120Z"
   },
   {
    "duration": 39,
    "start_time": "2022-03-05T16:45:20.128Z"
   },
   {
    "duration": 6,
    "start_time": "2022-03-05T16:45:20.169Z"
   },
   {
    "duration": 23,
    "start_time": "2022-03-05T16:45:20.177Z"
   },
   {
    "duration": 23,
    "start_time": "2022-03-05T16:45:20.202Z"
   },
   {
    "duration": 4,
    "start_time": "2022-03-05T16:45:20.227Z"
   },
   {
    "duration": 14,
    "start_time": "2022-03-05T16:45:20.233Z"
   },
   {
    "duration": 21,
    "start_time": "2022-03-05T16:45:20.249Z"
   },
   {
    "duration": 27,
    "start_time": "2022-03-05T16:45:20.273Z"
   },
   {
    "duration": 10,
    "start_time": "2022-03-05T16:45:20.301Z"
   },
   {
    "duration": 8,
    "start_time": "2022-03-05T16:45:20.313Z"
   },
   {
    "duration": 7,
    "start_time": "2022-03-05T16:45:20.322Z"
   },
   {
    "duration": 32,
    "start_time": "2022-03-05T16:45:20.331Z"
   },
   {
    "duration": 15,
    "start_time": "2022-03-05T16:45:20.369Z"
   },
   {
    "duration": 5,
    "start_time": "2022-03-05T16:45:20.387Z"
   },
   {
    "duration": 13,
    "start_time": "2022-03-05T16:45:20.394Z"
   },
   {
    "duration": 8,
    "start_time": "2022-03-05T16:45:20.408Z"
   },
   {
    "duration": 5,
    "start_time": "2022-03-05T16:45:20.418Z"
   },
   {
    "duration": 6,
    "start_time": "2022-03-05T16:45:20.424Z"
   },
   {
    "duration": 38,
    "start_time": "2022-03-05T16:45:20.431Z"
   },
   {
    "duration": 254,
    "start_time": "2022-03-05T16:45:20.472Z"
   },
   {
    "duration": 6,
    "start_time": "2022-03-05T16:45:20.728Z"
   },
   {
    "duration": 360,
    "start_time": "2022-03-05T16:45:20.735Z"
   },
   {
    "duration": 305,
    "start_time": "2022-03-05T16:45:21.097Z"
   },
   {
    "duration": 7,
    "start_time": "2022-03-05T16:45:21.404Z"
   },
   {
    "duration": 1068,
    "start_time": "2022-03-05T16:45:21.412Z"
   },
   {
    "duration": 9,
    "start_time": "2022-03-05T16:45:22.482Z"
   },
   {
    "duration": 273,
    "start_time": "2022-03-05T16:45:22.493Z"
   },
   {
    "duration": 410,
    "start_time": "2022-03-05T16:45:22.768Z"
   },
   {
    "duration": 5,
    "start_time": "2022-03-05T16:45:23.181Z"
   },
   {
    "duration": 321,
    "start_time": "2022-03-05T16:45:23.187Z"
   },
   {
    "duration": 317,
    "start_time": "2022-03-05T16:45:23.510Z"
   },
   {
    "duration": 1005,
    "start_time": "2022-03-05T16:45:23.829Z"
   },
   {
    "duration": 9,
    "start_time": "2022-03-05T16:45:24.835Z"
   },
   {
    "duration": 20,
    "start_time": "2022-03-05T16:45:24.845Z"
   },
   {
    "duration": 12,
    "start_time": "2022-03-05T16:45:24.867Z"
   },
   {
    "duration": 286,
    "start_time": "2022-03-05T16:45:24.881Z"
   },
   {
    "duration": 2380,
    "start_time": "2022-03-05T16:45:25.170Z"
   },
   {
    "duration": 13,
    "start_time": "2022-03-05T16:45:27.551Z"
   },
   {
    "duration": 259,
    "start_time": "2022-03-05T16:45:27.566Z"
   },
   {
    "duration": 87,
    "start_time": "2022-03-05T16:45:27.827Z"
   },
   {
    "duration": 88,
    "start_time": "2022-03-05T16:45:27.915Z"
   },
   {
    "duration": 95,
    "start_time": "2022-03-05T16:45:28.005Z"
   },
   {
    "duration": 90,
    "start_time": "2022-03-05T16:45:28.102Z"
   },
   {
    "duration": 5,
    "start_time": "2022-03-05T16:45:28.194Z"
   },
   {
    "duration": 96,
    "start_time": "2022-03-05T16:45:28.201Z"
   },
   {
    "duration": 89,
    "start_time": "2022-03-05T16:45:28.299Z"
   },
   {
    "duration": 91,
    "start_time": "2022-03-05T16:45:28.390Z"
   },
   {
    "duration": 88,
    "start_time": "2022-03-05T16:45:28.483Z"
   },
   {
    "duration": 71,
    "start_time": "2022-03-05T16:45:28.575Z"
   },
   {
    "duration": 8,
    "start_time": "2022-03-05T16:45:28.662Z"
   },
   {
    "duration": 79,
    "start_time": "2022-03-05T16:45:28.672Z"
   },
   {
    "duration": 81,
    "start_time": "2022-03-05T16:45:28.763Z"
   },
   {
    "duration": 90,
    "start_time": "2022-03-05T16:45:28.846Z"
   },
   {
    "duration": 97,
    "start_time": "2022-03-05T16:45:28.937Z"
   },
   {
    "duration": 96,
    "start_time": "2022-03-05T16:45:29.036Z"
   },
   {
    "duration": 11,
    "start_time": "2022-03-05T16:45:29.134Z"
   },
   {
    "duration": 36,
    "start_time": "2022-03-05T16:45:29.146Z"
   },
   {
    "duration": 13,
    "start_time": "2022-03-05T16:45:29.184Z"
   },
   {
    "duration": 4,
    "start_time": "2022-03-05T16:45:29.198Z"
   },
   {
    "duration": 92,
    "start_time": "2022-03-05T16:48:25.519Z"
   },
   {
    "duration": 83,
    "start_time": "2022-03-05T16:48:29.156Z"
   },
   {
    "duration": 90,
    "start_time": "2022-03-05T16:48:53.023Z"
   },
   {
    "duration": 76,
    "start_time": "2022-03-05T16:49:25.197Z"
   },
   {
    "duration": 107,
    "start_time": "2022-03-05T16:49:29.078Z"
   },
   {
    "duration": 82,
    "start_time": "2022-03-05T16:49:48.631Z"
   },
   {
    "duration": 89,
    "start_time": "2022-03-05T16:50:17.361Z"
   },
   {
    "duration": 87,
    "start_time": "2022-03-05T16:50:45.425Z"
   },
   {
    "duration": 79,
    "start_time": "2022-03-05T16:50:52.717Z"
   },
   {
    "duration": 85,
    "start_time": "2022-03-05T16:51:40.050Z"
   },
   {
    "duration": 89,
    "start_time": "2022-03-05T16:52:04.751Z"
   },
   {
    "duration": 81,
    "start_time": "2022-03-05T16:52:47.792Z"
   },
   {
    "duration": 88,
    "start_time": "2022-03-05T16:52:58.758Z"
   },
   {
    "duration": 126,
    "start_time": "2022-03-05T16:53:03.657Z"
   },
   {
    "duration": 122,
    "start_time": "2022-03-05T16:53:12.831Z"
   },
   {
    "duration": 90,
    "start_time": "2022-03-05T16:53:16.589Z"
   },
   {
    "duration": 246,
    "start_time": "2022-03-05T16:53:45.512Z"
   },
   {
    "duration": 79,
    "start_time": "2022-03-05T16:54:27.698Z"
   },
   {
    "duration": 75,
    "start_time": "2022-03-05T16:54:37.977Z"
   },
   {
    "duration": 80,
    "start_time": "2022-03-05T16:54:57.072Z"
   },
   {
    "duration": 89,
    "start_time": "2022-03-05T16:56:31.901Z"
   },
   {
    "duration": 75,
    "start_time": "2022-03-05T16:56:45.577Z"
   },
   {
    "duration": 90,
    "start_time": "2022-03-05T16:57:03.330Z"
   },
   {
    "duration": 88,
    "start_time": "2022-03-05T16:57:18.428Z"
   },
   {
    "duration": 85,
    "start_time": "2022-03-05T16:57:38.253Z"
   },
   {
    "duration": 79,
    "start_time": "2022-03-05T16:57:41.109Z"
   },
   {
    "duration": 86,
    "start_time": "2022-03-05T16:57:52.986Z"
   },
   {
    "duration": 83,
    "start_time": "2022-03-05T16:58:04.653Z"
   },
   {
    "duration": 82,
    "start_time": "2022-03-05T16:58:07.727Z"
   },
   {
    "duration": 86,
    "start_time": "2022-03-05T16:58:19.113Z"
   },
   {
    "duration": 108,
    "start_time": "2022-03-05T16:58:29.072Z"
   },
   {
    "duration": 112,
    "start_time": "2022-03-05T16:58:32.779Z"
   },
   {
    "duration": 77,
    "start_time": "2022-03-05T16:58:42.380Z"
   },
   {
    "duration": 78,
    "start_time": "2022-03-05T16:58:51.396Z"
   },
   {
    "duration": 95,
    "start_time": "2022-03-05T16:59:55.191Z"
   },
   {
    "duration": 436,
    "start_time": "2022-03-05T17:00:10.723Z"
   },
   {
    "duration": 99,
    "start_time": "2022-03-05T17:00:14.264Z"
   },
   {
    "duration": 84,
    "start_time": "2022-03-05T17:00:22.577Z"
   },
   {
    "duration": 91,
    "start_time": "2022-03-05T17:00:55.461Z"
   },
   {
    "duration": 91,
    "start_time": "2022-03-05T17:01:27.908Z"
   },
   {
    "duration": 88,
    "start_time": "2022-03-05T17:01:36.597Z"
   },
   {
    "duration": 87,
    "start_time": "2022-03-05T17:02:07.533Z"
   },
   {
    "duration": 98,
    "start_time": "2022-03-05T17:02:19.108Z"
   },
   {
    "duration": 94,
    "start_time": "2022-03-05T17:02:44.915Z"
   },
   {
    "duration": 89,
    "start_time": "2022-03-05T17:02:50.818Z"
   },
   {
    "duration": 90,
    "start_time": "2022-03-05T17:02:54.918Z"
   },
   {
    "duration": 84,
    "start_time": "2022-03-05T17:03:04.271Z"
   },
   {
    "duration": 93,
    "start_time": "2022-03-05T17:03:17.590Z"
   },
   {
    "duration": 99,
    "start_time": "2022-03-05T17:04:11.736Z"
   },
   {
    "duration": 110,
    "start_time": "2022-03-05T17:05:02.198Z"
   },
   {
    "duration": 307,
    "start_time": "2022-03-05T17:05:11.709Z"
   },
   {
    "duration": 98,
    "start_time": "2022-03-05T17:05:41.039Z"
   },
   {
    "duration": 72,
    "start_time": "2022-03-05T17:06:06.371Z"
   },
   {
    "duration": 93,
    "start_time": "2022-03-05T17:06:09.367Z"
   },
   {
    "duration": 93,
    "start_time": "2022-03-05T17:06:45.811Z"
   },
   {
    "duration": 96,
    "start_time": "2022-03-05T17:07:00.550Z"
   },
   {
    "duration": 78,
    "start_time": "2022-03-05T17:07:13.524Z"
   },
   {
    "duration": 97,
    "start_time": "2022-03-05T17:07:19.037Z"
   },
   {
    "duration": 96,
    "start_time": "2022-03-05T17:07:38.031Z"
   },
   {
    "duration": 94,
    "start_time": "2022-03-05T17:07:56.652Z"
   },
   {
    "duration": 126,
    "start_time": "2022-03-05T17:08:18.254Z"
   },
   {
    "duration": 90,
    "start_time": "2022-03-05T17:08:34.734Z"
   },
   {
    "duration": 103,
    "start_time": "2022-03-05T17:08:47.502Z"
   },
   {
    "duration": 100,
    "start_time": "2022-03-05T17:09:09.987Z"
   },
   {
    "duration": 96,
    "start_time": "2022-03-05T17:09:25.709Z"
   },
   {
    "duration": 2,
    "start_time": "2022-03-05T17:10:21.785Z"
   },
   {
    "duration": 209,
    "start_time": "2022-03-05T17:15:59.180Z"
   },
   {
    "duration": 212,
    "start_time": "2022-03-05T17:16:07.236Z"
   },
   {
    "duration": 226,
    "start_time": "2022-03-05T17:17:02.651Z"
   },
   {
    "duration": 177,
    "start_time": "2022-03-05T17:18:41.530Z"
   },
   {
    "duration": 6,
    "start_time": "2022-03-05T17:21:51.574Z"
   },
   {
    "duration": 7,
    "start_time": "2022-03-05T17:21:54.455Z"
   },
   {
    "duration": 323,
    "start_time": "2022-03-05T17:22:47.295Z"
   },
   {
    "duration": 1130,
    "start_time": "2022-03-05T17:22:53.667Z"
   },
   {
    "duration": 3,
    "start_time": "2022-03-05T17:23:12.701Z"
   },
   {
    "duration": 1263,
    "start_time": "2022-03-05T17:23:37.383Z"
   },
   {
    "duration": 76,
    "start_time": "2022-03-05T17:23:56.748Z"
   },
   {
    "duration": 248,
    "start_time": "2022-03-05T17:24:01.467Z"
   },
   {
    "duration": 852,
    "start_time": "2022-03-05T17:24:18.142Z"
   },
   {
    "duration": 913,
    "start_time": "2022-03-05T17:24:28.539Z"
   },
   {
    "duration": 29,
    "start_time": "2022-03-05T17:24:32.653Z"
   },
   {
    "duration": 17,
    "start_time": "2022-03-05T17:24:38.672Z"
   },
   {
    "duration": 813,
    "start_time": "2022-03-05T17:25:57.272Z"
   },
   {
    "duration": 237,
    "start_time": "2022-03-05T17:27:27.542Z"
   },
   {
    "duration": 249,
    "start_time": "2022-03-05T17:27:31.256Z"
   },
   {
    "duration": 13,
    "start_time": "2022-03-05T17:27:39.267Z"
   },
   {
    "duration": 510,
    "start_time": "2022-03-05T17:27:44.796Z"
   },
   {
    "duration": 13,
    "start_time": "2022-03-05T17:28:03.876Z"
   },
   {
    "duration": 19,
    "start_time": "2022-03-05T17:28:07.886Z"
   },
   {
    "duration": 18,
    "start_time": "2022-03-05T17:28:14.108Z"
   },
   {
    "duration": 219,
    "start_time": "2022-03-05T17:28:37.950Z"
   },
   {
    "duration": 18,
    "start_time": "2022-03-05T17:28:41.614Z"
   },
   {
    "duration": 244,
    "start_time": "2022-03-05T17:29:03.701Z"
   },
   {
    "duration": 218,
    "start_time": "2022-03-05T17:29:14.180Z"
   },
   {
    "duration": 286,
    "start_time": "2022-03-05T17:29:48.269Z"
   },
   {
    "duration": 1101,
    "start_time": "2022-03-05T17:30:40.182Z"
   },
   {
    "duration": 224,
    "start_time": "2022-03-05T17:31:36.664Z"
   },
   {
    "duration": 223,
    "start_time": "2022-03-05T17:31:52.888Z"
   },
   {
    "duration": 19,
    "start_time": "2022-03-05T17:31:54.363Z"
   },
   {
    "duration": 628,
    "start_time": "2022-03-05T17:32:08.455Z"
   },
   {
    "duration": 289,
    "start_time": "2022-03-05T17:35:02.718Z"
   },
   {
    "duration": 338,
    "start_time": "2022-03-05T17:35:08.221Z"
   },
   {
    "duration": 356,
    "start_time": "2022-03-05T17:35:18.895Z"
   },
   {
    "duration": 95,
    "start_time": "2022-03-05T17:35:35.184Z"
   },
   {
    "duration": 95,
    "start_time": "2022-03-05T17:35:42.248Z"
   },
   {
    "duration": 78,
    "start_time": "2022-03-05T17:35:46.055Z"
   },
   {
    "duration": 74,
    "start_time": "2022-03-05T17:35:54.176Z"
   },
   {
    "duration": 91,
    "start_time": "2022-03-05T17:36:41.643Z"
   },
   {
    "duration": 301,
    "start_time": "2022-03-05T17:36:54.387Z"
   },
   {
    "duration": 295,
    "start_time": "2022-03-05T17:37:18.137Z"
   },
   {
    "duration": 280,
    "start_time": "2022-03-05T17:37:22.678Z"
   },
   {
    "duration": 84,
    "start_time": "2022-03-05T17:37:36.678Z"
   },
   {
    "duration": 85,
    "start_time": "2022-03-05T17:37:45.549Z"
   },
   {
    "duration": 84,
    "start_time": "2022-03-05T17:37:50.736Z"
   },
   {
    "duration": 709,
    "start_time": "2022-03-05T17:38:33.782Z"
   },
   {
    "duration": 50,
    "start_time": "2022-03-05T17:39:34.505Z"
   },
   {
    "duration": 599,
    "start_time": "2022-03-05T17:39:44.940Z"
   },
   {
    "duration": 359,
    "start_time": "2022-03-05T17:40:00.079Z"
   },
   {
    "duration": 395,
    "start_time": "2022-03-05T17:40:26.704Z"
   },
   {
    "duration": 399,
    "start_time": "2022-03-05T17:40:37.549Z"
   },
   {
    "duration": 406,
    "start_time": "2022-03-05T17:40:43.549Z"
   },
   {
    "duration": 56,
    "start_time": "2022-03-05T17:40:52.149Z"
   },
   {
    "duration": 57,
    "start_time": "2022-03-05T17:40:54.655Z"
   },
   {
    "duration": 121,
    "start_time": "2022-03-05T17:41:24.209Z"
   },
   {
    "duration": 88,
    "start_time": "2022-03-05T17:41:28.178Z"
   },
   {
    "duration": 511,
    "start_time": "2022-03-05T17:41:29.675Z"
   },
   {
    "duration": 680,
    "start_time": "2022-03-05T17:41:52.494Z"
   },
   {
    "duration": 664,
    "start_time": "2022-03-05T17:41:56.122Z"
   },
   {
    "duration": 441,
    "start_time": "2022-03-05T17:42:10.715Z"
   },
   {
    "duration": 513,
    "start_time": "2022-03-05T17:42:14.102Z"
   },
   {
    "duration": 519,
    "start_time": "2022-03-05T17:42:33.444Z"
   },
   {
    "duration": 497,
    "start_time": "2022-03-05T17:43:41.084Z"
   },
   {
    "duration": 512,
    "start_time": "2022-03-05T17:43:47.531Z"
   },
   {
    "duration": 520,
    "start_time": "2022-03-05T17:43:54.414Z"
   },
   {
    "duration": 735,
    "start_time": "2022-03-05T17:44:01.825Z"
   },
   {
    "duration": 549,
    "start_time": "2022-03-05T17:44:12.118Z"
   },
   {
    "duration": 709,
    "start_time": "2022-03-05T17:45:06.047Z"
   },
   {
    "duration": 536,
    "start_time": "2022-03-05T17:45:12.132Z"
   },
   {
    "duration": 524,
    "start_time": "2022-03-05T17:45:16.315Z"
   },
   {
    "duration": 495,
    "start_time": "2022-03-05T17:45:21.147Z"
   },
   {
    "duration": 92,
    "start_time": "2022-03-05T17:45:56.899Z"
   },
   {
    "duration": 101,
    "start_time": "2022-03-05T17:46:05.433Z"
   },
   {
    "duration": 523,
    "start_time": "2022-03-05T17:46:08.410Z"
   },
   {
    "duration": 101,
    "start_time": "2022-03-05T17:49:16.791Z"
   },
   {
    "duration": 300,
    "start_time": "2022-03-05T17:49:53.178Z"
   },
   {
    "duration": 37,
    "start_time": "2022-03-05T17:50:05.515Z"
   },
   {
    "duration": 58,
    "start_time": "2022-03-05T17:50:07.995Z"
   },
   {
    "duration": 28,
    "start_time": "2022-03-05T17:50:46.100Z"
   },
   {
    "duration": 227,
    "start_time": "2022-03-05T17:51:09.616Z"
   },
   {
    "duration": 20,
    "start_time": "2022-03-05T17:51:26.010Z"
   },
   {
    "duration": 17,
    "start_time": "2022-03-05T17:51:44.042Z"
   },
   {
    "duration": 92,
    "start_time": "2022-03-05T17:52:05.720Z"
   },
   {
    "duration": 91,
    "start_time": "2022-03-05T17:52:10.776Z"
   },
   {
    "duration": 8,
    "start_time": "2022-03-05T17:52:22.818Z"
   },
   {
    "duration": 95,
    "start_time": "2022-03-05T17:53:00.225Z"
   },
   {
    "duration": 224,
    "start_time": "2022-03-05T17:53:56.046Z"
   },
   {
    "duration": 224,
    "start_time": "2022-03-05T17:54:03.491Z"
   },
   {
    "duration": 131,
    "start_time": "2022-03-05T17:54:08.652Z"
   },
   {
    "duration": 519,
    "start_time": "2022-03-05T17:54:34.128Z"
   },
   {
    "duration": 627,
    "start_time": "2022-03-05T17:54:39.923Z"
   },
   {
    "duration": 474,
    "start_time": "2022-03-05T17:54:42.967Z"
   },
   {
    "duration": 484,
    "start_time": "2022-03-05T17:55:00.199Z"
   },
   {
    "duration": 8,
    "start_time": "2022-03-05T17:55:25.140Z"
   },
   {
    "duration": 12,
    "start_time": "2022-03-05T17:56:37.841Z"
   },
   {
    "duration": 92,
    "start_time": "2022-03-05T17:56:48.061Z"
   },
   {
    "duration": 83,
    "start_time": "2022-03-05T17:56:53.410Z"
   },
   {
    "duration": 541,
    "start_time": "2022-03-05T17:56:55.728Z"
   },
   {
    "duration": 444,
    "start_time": "2022-03-06T04:51:47.508Z"
   },
   {
    "duration": 317,
    "start_time": "2022-03-06T04:52:58.845Z"
   },
   {
    "duration": 1502,
    "start_time": "2022-03-06T04:53:04.796Z"
   },
   {
    "duration": 78,
    "start_time": "2022-03-06T04:53:06.300Z"
   },
   {
    "duration": 14,
    "start_time": "2022-03-06T04:53:06.381Z"
   },
   {
    "duration": 6,
    "start_time": "2022-03-06T04:53:06.399Z"
   },
   {
    "duration": 29,
    "start_time": "2022-03-06T04:53:06.408Z"
   },
   {
    "duration": 6,
    "start_time": "2022-03-06T04:53:06.440Z"
   },
   {
    "duration": 7,
    "start_time": "2022-03-06T04:53:06.448Z"
   },
   {
    "duration": 6,
    "start_time": "2022-03-06T04:53:06.459Z"
   },
   {
    "duration": 7,
    "start_time": "2022-03-06T04:53:06.468Z"
   },
   {
    "duration": 63,
    "start_time": "2022-03-06T04:53:06.477Z"
   },
   {
    "duration": 11,
    "start_time": "2022-03-06T04:53:06.543Z"
   },
   {
    "duration": 10,
    "start_time": "2022-03-06T04:53:06.556Z"
   },
   {
    "duration": 10,
    "start_time": "2022-03-06T04:53:06.569Z"
   },
   {
    "duration": 6,
    "start_time": "2022-03-06T04:53:06.581Z"
   },
   {
    "duration": 48,
    "start_time": "2022-03-06T04:53:06.589Z"
   },
   {
    "duration": 7,
    "start_time": "2022-03-06T04:53:06.640Z"
   },
   {
    "duration": 9,
    "start_time": "2022-03-06T04:53:06.649Z"
   },
   {
    "duration": 34,
    "start_time": "2022-03-06T04:53:06.660Z"
   },
   {
    "duration": 39,
    "start_time": "2022-03-06T04:53:06.696Z"
   },
   {
    "duration": 8,
    "start_time": "2022-03-06T04:53:06.738Z"
   },
   {
    "duration": 8,
    "start_time": "2022-03-06T04:53:06.749Z"
   },
   {
    "duration": 19,
    "start_time": "2022-03-06T04:53:06.759Z"
   },
   {
    "duration": 58,
    "start_time": "2022-03-06T04:53:06.784Z"
   },
   {
    "duration": 9,
    "start_time": "2022-03-06T04:53:06.845Z"
   },
   {
    "duration": 11,
    "start_time": "2022-03-06T04:53:06.856Z"
   },
   {
    "duration": 5,
    "start_time": "2022-03-06T04:53:06.869Z"
   },
   {
    "duration": 15,
    "start_time": "2022-03-06T04:53:06.876Z"
   },
   {
    "duration": 43,
    "start_time": "2022-03-06T04:53:06.894Z"
   },
   {
    "duration": 15,
    "start_time": "2022-03-06T04:53:06.940Z"
   },
   {
    "duration": 11,
    "start_time": "2022-03-06T04:53:06.958Z"
   },
   {
    "duration": 7,
    "start_time": "2022-03-06T04:53:06.972Z"
   },
   {
    "duration": 54,
    "start_time": "2022-03-06T04:53:06.981Z"
   },
   {
    "duration": 10,
    "start_time": "2022-03-06T04:53:07.038Z"
   },
   {
    "duration": 291,
    "start_time": "2022-03-06T04:53:07.051Z"
   },
   {
    "duration": 9,
    "start_time": "2022-03-06T04:53:07.345Z"
   },
   {
    "duration": 550,
    "start_time": "2022-03-06T04:53:07.357Z"
   },
   {
    "duration": 494,
    "start_time": "2022-03-06T04:53:07.910Z"
   },
   {
    "duration": 24,
    "start_time": "2022-03-06T04:53:08.408Z"
   },
   {
    "duration": 1240,
    "start_time": "2022-03-06T04:53:08.435Z"
   },
   {
    "duration": 10,
    "start_time": "2022-03-06T04:53:09.677Z"
   },
   {
    "duration": 286,
    "start_time": "2022-03-06T04:53:09.689Z"
   },
   {
    "duration": 333,
    "start_time": "2022-03-06T04:53:09.978Z"
   },
   {
    "duration": 6,
    "start_time": "2022-03-06T04:53:10.314Z"
   },
   {
    "duration": 405,
    "start_time": "2022-03-06T04:53:10.323Z"
   },
   {
    "duration": 418,
    "start_time": "2022-03-06T04:53:10.730Z"
   },
   {
    "duration": 1346,
    "start_time": "2022-03-06T04:53:11.150Z"
   },
   {
    "duration": 33,
    "start_time": "2022-03-06T04:53:12.499Z"
   },
   {
    "duration": 7,
    "start_time": "2022-03-06T04:53:12.535Z"
   },
   {
    "duration": 15,
    "start_time": "2022-03-06T04:53:12.545Z"
   },
   {
    "duration": 320,
    "start_time": "2022-03-06T04:53:12.563Z"
   },
   {
    "duration": 2881,
    "start_time": "2022-03-06T04:53:12.886Z"
   },
   {
    "duration": 149,
    "start_time": "2022-03-06T04:53:15.770Z"
   },
   {
    "duration": 794,
    "start_time": "2022-03-06T04:53:15.921Z"
   },
   {
    "duration": 159,
    "start_time": "2022-03-06T04:53:16.717Z"
   },
   {
    "duration": 712,
    "start_time": "2022-03-06T04:53:16.878Z"
   },
   {
    "duration": 8,
    "start_time": "2022-03-06T04:53:17.592Z"
   },
   {
    "duration": 152,
    "start_time": "2022-03-06T04:53:17.602Z"
   },
   {
    "duration": 142,
    "start_time": "2022-03-06T04:53:17.756Z"
   },
   {
    "duration": 166,
    "start_time": "2022-03-06T04:53:17.900Z"
   },
   {
    "duration": 150,
    "start_time": "2022-03-06T04:53:18.069Z"
   },
   {
    "duration": 149,
    "start_time": "2022-03-06T04:53:18.221Z"
   },
   {
    "duration": 7,
    "start_time": "2022-03-06T04:53:18.373Z"
   },
   {
    "duration": 150,
    "start_time": "2022-03-06T04:53:18.382Z"
   },
   {
    "duration": 137,
    "start_time": "2022-03-06T04:53:18.535Z"
   },
   {
    "duration": 164,
    "start_time": "2022-03-06T04:53:18.674Z"
   },
   {
    "duration": 159,
    "start_time": "2022-03-06T04:53:18.840Z"
   },
   {
    "duration": 141,
    "start_time": "2022-03-06T04:53:19.002Z"
   },
   {
    "duration": 7,
    "start_time": "2022-03-06T04:53:19.150Z"
   },
   {
    "duration": 151,
    "start_time": "2022-03-06T04:53:19.160Z"
   },
   {
    "duration": 232,
    "start_time": "2022-03-06T04:53:19.313Z"
   },
   {
    "duration": 164,
    "start_time": "2022-03-06T04:53:19.548Z"
   },
   {
    "duration": 163,
    "start_time": "2022-03-06T04:53:19.714Z"
   },
   {
    "duration": 144,
    "start_time": "2022-03-06T04:53:19.879Z"
   },
   {
    "duration": 16,
    "start_time": "2022-03-06T04:53:20.033Z"
   },
   {
    "duration": 9,
    "start_time": "2022-03-06T04:53:20.052Z"
   },
   {
    "duration": 18,
    "start_time": "2022-03-06T04:53:20.063Z"
   },
   {
    "duration": 6,
    "start_time": "2022-03-06T04:53:20.084Z"
   },
   {
    "duration": 526,
    "start_time": "2022-03-06T04:53:50.612Z"
   },
   {
    "duration": 128,
    "start_time": "2022-03-06T04:54:10.574Z"
   },
   {
    "duration": 131,
    "start_time": "2022-03-06T04:55:56.498Z"
   },
   {
    "duration": 131,
    "start_time": "2022-03-06T04:56:00.305Z"
   },
   {
    "duration": 693,
    "start_time": "2022-03-06T04:56:41.903Z"
   },
   {
    "duration": 392,
    "start_time": "2022-03-06T05:05:27.575Z"
   },
   {
    "duration": 352,
    "start_time": "2022-03-06T05:06:33.633Z"
   },
   {
    "duration": 143,
    "start_time": "2022-03-06T05:06:41.706Z"
   },
   {
    "duration": 692,
    "start_time": "2022-03-06T05:07:17.955Z"
   },
   {
    "duration": 115,
    "start_time": "2022-03-06T05:08:07.644Z"
   },
   {
    "duration": 4,
    "start_time": "2022-03-06T05:10:49.931Z"
   },
   {
    "duration": 63,
    "start_time": "2022-03-06T05:10:49.938Z"
   },
   {
    "duration": 30,
    "start_time": "2022-03-06T05:10:50.004Z"
   },
   {
    "duration": 8,
    "start_time": "2022-03-06T05:10:50.037Z"
   },
   {
    "duration": 7,
    "start_time": "2022-03-06T05:10:50.047Z"
   },
   {
    "duration": 7,
    "start_time": "2022-03-06T05:10:50.056Z"
   },
   {
    "duration": 8,
    "start_time": "2022-03-06T05:10:50.065Z"
   },
   {
    "duration": 59,
    "start_time": "2022-03-06T05:10:50.075Z"
   },
   {
    "duration": 9,
    "start_time": "2022-03-06T05:10:50.138Z"
   },
   {
    "duration": 12,
    "start_time": "2022-03-06T05:10:50.150Z"
   },
   {
    "duration": 12,
    "start_time": "2022-03-06T05:10:50.164Z"
   },
   {
    "duration": 12,
    "start_time": "2022-03-06T05:10:50.232Z"
   },
   {
    "duration": 15,
    "start_time": "2022-03-06T05:10:50.246Z"
   },
   {
    "duration": 6,
    "start_time": "2022-03-06T05:10:50.264Z"
   },
   {
    "duration": 7,
    "start_time": "2022-03-06T05:10:50.273Z"
   },
   {
    "duration": 6,
    "start_time": "2022-03-06T05:10:50.282Z"
   },
   {
    "duration": 50,
    "start_time": "2022-03-06T05:10:50.290Z"
   },
   {
    "duration": 33,
    "start_time": "2022-03-06T05:10:50.343Z"
   },
   {
    "duration": 7,
    "start_time": "2022-03-06T05:10:50.379Z"
   },
   {
    "duration": 47,
    "start_time": "2022-03-06T05:10:50.388Z"
   },
   {
    "duration": 8,
    "start_time": "2022-03-06T05:10:50.438Z"
   },
   {
    "duration": 18,
    "start_time": "2022-03-06T05:10:50.449Z"
   },
   {
    "duration": 13,
    "start_time": "2022-03-06T05:10:50.469Z"
   },
   {
    "duration": 54,
    "start_time": "2022-03-06T05:10:50.485Z"
   },
   {
    "duration": 8,
    "start_time": "2022-03-06T05:10:50.542Z"
   },
   {
    "duration": 5,
    "start_time": "2022-03-06T05:10:50.553Z"
   },
   {
    "duration": 13,
    "start_time": "2022-03-06T05:10:50.566Z"
   },
   {
    "duration": 54,
    "start_time": "2022-03-06T05:10:50.583Z"
   },
   {
    "duration": 17,
    "start_time": "2022-03-06T05:10:50.640Z"
   },
   {
    "duration": 12,
    "start_time": "2022-03-06T05:10:50.659Z"
   },
   {
    "duration": 7,
    "start_time": "2022-03-06T05:10:50.673Z"
   },
   {
    "duration": 8,
    "start_time": "2022-03-06T05:10:50.682Z"
   },
   {
    "duration": 10,
    "start_time": "2022-03-06T05:10:50.733Z"
   },
   {
    "duration": 272,
    "start_time": "2022-03-06T05:10:50.746Z"
   },
   {
    "duration": 14,
    "start_time": "2022-03-06T05:10:51.020Z"
   },
   {
    "duration": 551,
    "start_time": "2022-03-06T05:10:51.037Z"
   },
   {
    "duration": 449,
    "start_time": "2022-03-06T05:10:51.592Z"
   },
   {
    "duration": 13,
    "start_time": "2022-03-06T05:10:52.044Z"
   },
   {
    "duration": 1286,
    "start_time": "2022-03-06T05:10:52.060Z"
   },
   {
    "duration": 10,
    "start_time": "2022-03-06T05:10:53.348Z"
   },
   {
    "duration": 297,
    "start_time": "2022-03-06T05:10:53.360Z"
   },
   {
    "duration": 324,
    "start_time": "2022-03-06T05:10:53.659Z"
   },
   {
    "duration": 7,
    "start_time": "2022-03-06T05:10:53.985Z"
   },
   {
    "duration": 461,
    "start_time": "2022-03-06T05:10:53.994Z"
   },
   {
    "duration": 411,
    "start_time": "2022-03-06T05:10:54.457Z"
   },
   {
    "duration": 1548,
    "start_time": "2022-03-06T05:10:54.871Z"
   },
   {
    "duration": 22,
    "start_time": "2022-03-06T05:10:56.422Z"
   },
   {
    "duration": 11,
    "start_time": "2022-03-06T05:10:56.447Z"
   },
   {
    "duration": 17,
    "start_time": "2022-03-06T05:10:56.460Z"
   },
   {
    "duration": 319,
    "start_time": "2022-03-06T05:10:56.480Z"
   },
   {
    "duration": 2945,
    "start_time": "2022-03-06T05:10:56.802Z"
   },
   {
    "duration": 122,
    "start_time": "2022-03-06T05:10:59.750Z"
   },
   {
    "duration": 686,
    "start_time": "2022-03-06T05:10:59.874Z"
   },
   {
    "duration": 243,
    "start_time": "2022-03-06T05:11:00.562Z"
   },
   {
    "duration": 665,
    "start_time": "2022-03-06T05:11:00.807Z"
   },
   {
    "duration": 127,
    "start_time": "2022-03-06T05:11:01.474Z"
   },
   {
    "duration": 641,
    "start_time": "2022-03-06T05:11:01.604Z"
   },
   {
    "duration": 7,
    "start_time": "2022-03-06T05:11:02.247Z"
   },
   {
    "duration": 151,
    "start_time": "2022-03-06T05:11:02.257Z"
   },
   {
    "duration": 147,
    "start_time": "2022-03-06T05:11:02.410Z"
   },
   {
    "duration": 165,
    "start_time": "2022-03-06T05:11:02.559Z"
   },
   {
    "duration": 149,
    "start_time": "2022-03-06T05:11:02.726Z"
   },
   {
    "duration": 158,
    "start_time": "2022-03-06T05:11:02.878Z"
   },
   {
    "duration": 8,
    "start_time": "2022-03-06T05:11:03.039Z"
   },
   {
    "duration": 152,
    "start_time": "2022-03-06T05:11:03.049Z"
   },
   {
    "duration": 152,
    "start_time": "2022-03-06T05:11:03.203Z"
   },
   {
    "duration": 158,
    "start_time": "2022-03-06T05:11:03.357Z"
   },
   {
    "duration": 160,
    "start_time": "2022-03-06T05:11:03.517Z"
   },
   {
    "duration": 148,
    "start_time": "2022-03-06T05:11:03.679Z"
   },
   {
    "duration": 7,
    "start_time": "2022-03-06T05:11:03.833Z"
   },
   {
    "duration": 143,
    "start_time": "2022-03-06T05:11:03.843Z"
   },
   {
    "duration": 246,
    "start_time": "2022-03-06T05:11:03.988Z"
   },
   {
    "duration": 170,
    "start_time": "2022-03-06T05:11:04.237Z"
   },
   {
    "duration": 155,
    "start_time": "2022-03-06T05:11:04.409Z"
   },
   {
    "duration": 145,
    "start_time": "2022-03-06T05:11:04.566Z"
   },
   {
    "duration": 20,
    "start_time": "2022-03-06T05:11:04.713Z"
   },
   {
    "duration": 10,
    "start_time": "2022-03-06T05:11:04.735Z"
   },
   {
    "duration": 14,
    "start_time": "2022-03-06T05:11:04.748Z"
   },
   {
    "duration": 6,
    "start_time": "2022-03-06T05:11:04.764Z"
   },
   {
    "duration": 106,
    "start_time": "2022-03-06T05:13:12.249Z"
   },
   {
    "duration": 333,
    "start_time": "2022-03-06T05:14:02.941Z"
   },
   {
    "duration": 309,
    "start_time": "2022-03-06T05:14:13.994Z"
   },
   {
    "duration": 1198,
    "start_time": "2022-03-06T07:37:25.986Z"
   },
   {
    "duration": 52,
    "start_time": "2022-03-06T07:37:27.186Z"
   },
   {
    "duration": 11,
    "start_time": "2022-03-06T07:37:27.240Z"
   },
   {
    "duration": 7,
    "start_time": "2022-03-06T07:37:27.253Z"
   },
   {
    "duration": 9,
    "start_time": "2022-03-06T07:37:27.262Z"
   },
   {
    "duration": 7,
    "start_time": "2022-03-06T07:37:27.273Z"
   },
   {
    "duration": 24,
    "start_time": "2022-03-06T07:37:27.282Z"
   },
   {
    "duration": 14,
    "start_time": "2022-03-06T07:37:27.309Z"
   },
   {
    "duration": 9,
    "start_time": "2022-03-06T07:37:27.325Z"
   },
   {
    "duration": 14,
    "start_time": "2022-03-06T07:37:27.335Z"
   },
   {
    "duration": 8,
    "start_time": "2022-03-06T07:37:27.351Z"
   },
   {
    "duration": 13,
    "start_time": "2022-03-06T07:37:27.361Z"
   },
   {
    "duration": 9,
    "start_time": "2022-03-06T07:37:27.401Z"
   },
   {
    "duration": 5,
    "start_time": "2022-03-06T07:37:27.412Z"
   },
   {
    "duration": 12,
    "start_time": "2022-03-06T07:37:27.419Z"
   },
   {
    "duration": 8,
    "start_time": "2022-03-06T07:37:27.433Z"
   },
   {
    "duration": 11,
    "start_time": "2022-03-06T07:37:27.443Z"
   },
   {
    "duration": 53,
    "start_time": "2022-03-06T07:37:27.456Z"
   },
   {
    "duration": 6,
    "start_time": "2022-03-06T07:37:27.510Z"
   },
   {
    "duration": 20,
    "start_time": "2022-03-06T07:37:27.517Z"
   },
   {
    "duration": 14,
    "start_time": "2022-03-06T07:37:27.539Z"
   },
   {
    "duration": 20,
    "start_time": "2022-03-06T07:37:27.555Z"
   },
   {
    "duration": 25,
    "start_time": "2022-03-06T07:37:27.580Z"
   },
   {
    "duration": 7,
    "start_time": "2022-03-06T07:37:27.609Z"
   },
   {
    "duration": 12,
    "start_time": "2022-03-06T07:37:27.618Z"
   },
   {
    "duration": 10,
    "start_time": "2022-03-06T07:37:27.632Z"
   },
   {
    "duration": 20,
    "start_time": "2022-03-06T07:37:27.643Z"
   },
   {
    "duration": 8,
    "start_time": "2022-03-06T07:37:27.665Z"
   },
   {
    "duration": 33,
    "start_time": "2022-03-06T07:37:27.675Z"
   },
   {
    "duration": 10,
    "start_time": "2022-03-06T07:37:27.710Z"
   },
   {
    "duration": 13,
    "start_time": "2022-03-06T07:37:27.722Z"
   },
   {
    "duration": 11,
    "start_time": "2022-03-06T07:37:27.737Z"
   },
   {
    "duration": 15,
    "start_time": "2022-03-06T07:37:27.750Z"
   },
   {
    "duration": 188,
    "start_time": "2022-03-06T07:37:27.766Z"
   },
   {
    "duration": 6,
    "start_time": "2022-03-06T07:37:27.956Z"
   },
   {
    "duration": 355,
    "start_time": "2022-03-06T07:37:27.964Z"
   },
   {
    "duration": 313,
    "start_time": "2022-03-06T07:37:28.321Z"
   },
   {
    "duration": 8,
    "start_time": "2022-03-06T07:37:28.636Z"
   },
   {
    "duration": 936,
    "start_time": "2022-03-06T07:37:28.646Z"
   },
   {
    "duration": 17,
    "start_time": "2022-03-06T07:37:29.584Z"
   },
   {
    "duration": 187,
    "start_time": "2022-03-06T07:37:29.603Z"
   },
   {
    "duration": 211,
    "start_time": "2022-03-06T07:37:29.792Z"
   },
   {
    "duration": 6,
    "start_time": "2022-03-06T07:37:30.005Z"
   },
   {
    "duration": 330,
    "start_time": "2022-03-06T07:37:30.013Z"
   },
   {
    "duration": 302,
    "start_time": "2022-03-06T07:37:30.345Z"
   },
   {
    "duration": 1036,
    "start_time": "2022-03-06T07:37:30.649Z"
   },
   {
    "duration": 16,
    "start_time": "2022-03-06T07:37:31.687Z"
   },
   {
    "duration": 35,
    "start_time": "2022-03-06T07:37:31.705Z"
   },
   {
    "duration": 31,
    "start_time": "2022-03-06T07:37:31.742Z"
   },
   {
    "duration": 194,
    "start_time": "2022-03-06T07:37:31.775Z"
   },
   {
    "duration": 1970,
    "start_time": "2022-03-06T07:37:31.971Z"
   },
   {
    "duration": 78,
    "start_time": "2022-03-06T07:37:33.943Z"
   },
   {
    "duration": 484,
    "start_time": "2022-03-06T07:37:34.023Z"
   },
   {
    "duration": 159,
    "start_time": "2022-03-06T07:37:34.509Z"
   },
   {
    "duration": 501,
    "start_time": "2022-03-06T07:37:34.670Z"
   },
   {
    "duration": 84,
    "start_time": "2022-03-06T07:37:35.173Z"
   },
   {
    "duration": 481,
    "start_time": "2022-03-06T07:37:35.259Z"
   },
   {
    "duration": 6,
    "start_time": "2022-03-06T07:37:35.742Z"
   },
   {
    "duration": 106,
    "start_time": "2022-03-06T07:37:35.750Z"
   },
   {
    "duration": 97,
    "start_time": "2022-03-06T07:37:35.858Z"
   },
   {
    "duration": 116,
    "start_time": "2022-03-06T07:37:35.957Z"
   },
   {
    "duration": 107,
    "start_time": "2022-03-06T07:37:36.075Z"
   },
   {
    "duration": 104,
    "start_time": "2022-03-06T07:37:36.184Z"
   },
   {
    "duration": 15,
    "start_time": "2022-03-06T07:37:36.290Z"
   },
   {
    "duration": 103,
    "start_time": "2022-03-06T07:37:36.306Z"
   },
   {
    "duration": 104,
    "start_time": "2022-03-06T07:37:36.411Z"
   },
   {
    "duration": 115,
    "start_time": "2022-03-06T07:37:36.516Z"
   },
   {
    "duration": 117,
    "start_time": "2022-03-06T07:37:36.637Z"
   },
   {
    "duration": 100,
    "start_time": "2022-03-06T07:37:36.757Z"
   },
   {
    "duration": 5,
    "start_time": "2022-03-06T07:37:36.859Z"
   },
   {
    "duration": 193,
    "start_time": "2022-03-06T07:37:36.866Z"
   },
   {
    "duration": 104,
    "start_time": "2022-03-06T07:37:37.061Z"
   },
   {
    "duration": 110,
    "start_time": "2022-03-06T07:37:37.168Z"
   },
   {
    "duration": 120,
    "start_time": "2022-03-06T07:37:37.281Z"
   },
   {
    "duration": 105,
    "start_time": "2022-03-06T07:37:37.403Z"
   },
   {
    "duration": 14,
    "start_time": "2022-03-06T07:37:37.511Z"
   },
   {
    "duration": 11,
    "start_time": "2022-03-06T07:37:37.526Z"
   },
   {
    "duration": 17,
    "start_time": "2022-03-06T07:37:37.539Z"
   },
   {
    "duration": 12,
    "start_time": "2022-03-06T07:37:37.558Z"
   },
   {
    "duration": 67,
    "start_time": "2022-03-06T07:39:02.501Z"
   }
  ],
  "kernelspec": {
   "display_name": "Python 3",
   "language": "python",
   "name": "python3"
  },
  "language_info": {
   "codemirror_mode": {
    "name": "ipython",
    "version": 3
   },
   "file_extension": ".py",
   "mimetype": "text/x-python",
   "name": "python",
   "nbconvert_exporter": "python",
   "pygments_lexer": "ipython3",
   "version": "3.8.8"
  },
  "toc": {
   "base_numbering": 1,
   "nav_menu": {},
   "number_sections": true,
   "sideBar": true,
   "skip_h1_title": true,
   "title_cell": "Table of Contents",
   "title_sidebar": "Contents",
   "toc_cell": false,
   "toc_position": {},
   "toc_section_display": true,
   "toc_window_display": false
  }
 },
 "nbformat": 4,
 "nbformat_minor": 2
}
