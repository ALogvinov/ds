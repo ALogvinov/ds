{
 "cells": [
  {
   "cell_type": "markdown",
   "metadata": {},
   "source": [
    "# Исследование надёжности заёмщиков\n",
    "\n",
    "Заказчик — кредитный отдел банка. Нужно разобраться, влияет ли семейное положение и количество детей клиента на факт погашения кредита в срок. Входные данные от банка — статистика о платёжеспособности клиентов.\n",
    "\n",
    "Результаты исследования будут учтены при построении модели **кредитного скоринга** — специальной системы, которая оценивает способность потенциального заёмщика вернуть кредит банку."
   ]
  },
  {
   "cell_type": "code",
   "execution_count": 105,
   "metadata": {},
   "outputs": [],
   "source": [
    "import pandas as pd"
   ]
  },
  {
   "cell_type": "markdown",
   "metadata": {},
   "source": [
    "## Шаг 1. Импорт данных и первичный анализ\n",
    "\n",
    "Загружаем имеющиеся данные. Нужно провести общий анализ состава полей датасета и значений в каждой колонке, в т.ч на предмет анломаний и пропусков.\n",
    "\n",
    "По итогу составляем общий список замечаний к исправлению (предобработке)"
   ]
  },
  {
   "cell_type": "code",
   "execution_count": 106,
   "metadata": {},
   "outputs": [],
   "source": [
    "# Загружаем датасет\n",
    "data = pd.read_csv('/datasets/data.csv')"
   ]
  },
  {
   "cell_type": "code",
   "execution_count": 107,
   "metadata": {
    "scrolled": true
   },
   "outputs": [
    {
     "name": "stdout",
     "output_type": "stream",
     "text": [
      "<class 'pandas.core.frame.DataFrame'>\n",
      "RangeIndex: 21525 entries, 0 to 21524\n",
      "Data columns (total 12 columns):\n",
      "children            21525 non-null int64\n",
      "days_employed       19351 non-null float64\n",
      "dob_years           21525 non-null int64\n",
      "education           21525 non-null object\n",
      "education_id        21525 non-null int64\n",
      "family_status       21525 non-null object\n",
      "family_status_id    21525 non-null int64\n",
      "gender              21525 non-null object\n",
      "income_type         21525 non-null object\n",
      "debt                21525 non-null int64\n",
      "total_income        19351 non-null float64\n",
      "purpose             21525 non-null object\n",
      "dtypes: float64(2), int64(5), object(5)\n",
      "memory usage: 2.0+ MB\n"
     ]
    }
   ],
   "source": [
    "# Изучаем общую инфу\n",
    "data.info()"
   ]
  },
  {
   "cell_type": "markdown",
   "metadata": {},
   "source": [
    "Описание полей\n",
    "- children — количество детей в семье\n",
    "- days_employed — общий трудовой стаж в днях\n",
    "- dob_years — возраст клиента в годах\n",
    "- education — уровень образования клиента\n",
    "- education_id — идентификатор уровня образования\n",
    "- family_status — семейное положение\n",
    "- family_status_id — идентификатор семейного положения\n",
    "- gender — пол клиента\n",
    "- income_type — тип занятости\n",
    "- debt — имел ли задолженность по возврату кредитов\n",
    "- total_income — ежемесячный доход\n",
    "- purpose — цель получения кредита"
   ]
  },
  {
   "cell_type": "code",
   "execution_count": 108,
   "metadata": {
    "scrolled": true
   },
   "outputs": [
    {
     "data": {
      "text/html": [
       "<div>\n",
       "<style scoped>\n",
       "    .dataframe tbody tr th:only-of-type {\n",
       "        vertical-align: middle;\n",
       "    }\n",
       "\n",
       "    .dataframe tbody tr th {\n",
       "        vertical-align: top;\n",
       "    }\n",
       "\n",
       "    .dataframe thead th {\n",
       "        text-align: right;\n",
       "    }\n",
       "</style>\n",
       "<table border=\"1\" class=\"dataframe\">\n",
       "  <thead>\n",
       "    <tr style=\"text-align: right;\">\n",
       "      <th></th>\n",
       "      <th>children</th>\n",
       "      <th>days_employed</th>\n",
       "      <th>dob_years</th>\n",
       "      <th>education</th>\n",
       "      <th>education_id</th>\n",
       "      <th>family_status</th>\n",
       "      <th>family_status_id</th>\n",
       "      <th>gender</th>\n",
       "      <th>income_type</th>\n",
       "      <th>debt</th>\n",
       "      <th>total_income</th>\n",
       "      <th>purpose</th>\n",
       "    </tr>\n",
       "  </thead>\n",
       "  <tbody>\n",
       "    <tr>\n",
       "      <td>0</td>\n",
       "      <td>1</td>\n",
       "      <td>-8437.673028</td>\n",
       "      <td>42</td>\n",
       "      <td>высшее</td>\n",
       "      <td>0</td>\n",
       "      <td>женат / замужем</td>\n",
       "      <td>0</td>\n",
       "      <td>F</td>\n",
       "      <td>сотрудник</td>\n",
       "      <td>0</td>\n",
       "      <td>253875.639453</td>\n",
       "      <td>покупка жилья</td>\n",
       "    </tr>\n",
       "    <tr>\n",
       "      <td>1</td>\n",
       "      <td>1</td>\n",
       "      <td>-4024.803754</td>\n",
       "      <td>36</td>\n",
       "      <td>среднее</td>\n",
       "      <td>1</td>\n",
       "      <td>женат / замужем</td>\n",
       "      <td>0</td>\n",
       "      <td>F</td>\n",
       "      <td>сотрудник</td>\n",
       "      <td>0</td>\n",
       "      <td>112080.014102</td>\n",
       "      <td>приобретение автомобиля</td>\n",
       "    </tr>\n",
       "    <tr>\n",
       "      <td>2</td>\n",
       "      <td>0</td>\n",
       "      <td>-5623.422610</td>\n",
       "      <td>33</td>\n",
       "      <td>Среднее</td>\n",
       "      <td>1</td>\n",
       "      <td>женат / замужем</td>\n",
       "      <td>0</td>\n",
       "      <td>M</td>\n",
       "      <td>сотрудник</td>\n",
       "      <td>0</td>\n",
       "      <td>145885.952297</td>\n",
       "      <td>покупка жилья</td>\n",
       "    </tr>\n",
       "  </tbody>\n",
       "</table>\n",
       "</div>"
      ],
      "text/plain": [
       "   children  days_employed  dob_years education  education_id  \\\n",
       "0         1   -8437.673028         42    высшее             0   \n",
       "1         1   -4024.803754         36   среднее             1   \n",
       "2         0   -5623.422610         33   Среднее             1   \n",
       "\n",
       "     family_status  family_status_id gender income_type  debt   total_income  \\\n",
       "0  женат / замужем                 0      F   сотрудник     0  253875.639453   \n",
       "1  женат / замужем                 0      F   сотрудник     0  112080.014102   \n",
       "2  женат / замужем                 0      M   сотрудник     0  145885.952297   \n",
       "\n",
       "                   purpose  \n",
       "0            покупка жилья  \n",
       "1  приобретение автомобиля  \n",
       "2            покупка жилья  "
      ]
     },
     "execution_count": 108,
     "metadata": {},
     "output_type": "execute_result"
    }
   ],
   "source": [
    "# Смотрим примеры значений\n",
    "data.head(3)"
   ]
  },
  {
   "cell_type": "code",
   "execution_count": 109,
   "metadata": {},
   "outputs": [
    {
     "data": {
      "text/plain": [
       "array([ 1,  0,  3,  2, -1,  4, 20,  5])"
      ]
     },
     "execution_count": 109,
     "metadata": {},
     "output_type": "execute_result"
    }
   ],
   "source": [
    "# Количество детей в семье - список значений\n",
    "data['children'].unique()"
   ]
  },
  {
   "cell_type": "code",
   "execution_count": 110,
   "metadata": {},
   "outputs": [
    {
     "data": {
      "text/plain": [
       "count     19351.000000\n",
       "mean      63046.497661\n",
       "std      140827.311974\n",
       "min      -18388.949901\n",
       "25%       -2747.423625\n",
       "50%       -1203.369529\n",
       "75%        -291.095954\n",
       "max      401755.400475\n",
       "Name: days_employed, dtype: float64"
      ]
     },
     "execution_count": 110,
     "metadata": {},
     "output_type": "execute_result"
    }
   ],
   "source": [
    "# общий трудовой стаж в днях (общая информация)\n",
    "data['days_employed'].describe()"
   ]
  },
  {
   "cell_type": "code",
   "execution_count": 111,
   "metadata": {},
   "outputs": [
    {
     "data": {
      "text/plain": [
       "2174"
      ]
     },
     "execution_count": 111,
     "metadata": {},
     "output_type": "execute_result"
    }
   ],
   "source": [
    "# Количество записей с незаполенным трудовым стажем\n",
    "len(data[data['days_employed'].isna()])"
   ]
  },
  {
   "cell_type": "code",
   "execution_count": 112,
   "metadata": {},
   "outputs": [
    {
     "data": {
      "text/plain": [
       "count    21525.000000\n",
       "mean        43.293380\n",
       "std         12.574584\n",
       "min          0.000000\n",
       "25%         33.000000\n",
       "50%         42.000000\n",
       "75%         53.000000\n",
       "max         75.000000\n",
       "Name: dob_years, dtype: float64"
      ]
     },
     "execution_count": 112,
     "metadata": {},
     "output_type": "execute_result"
    }
   ],
   "source": [
    "# Возраст клиента в годах (общая информация)\n",
    "data['dob_years'].describe()"
   ]
  },
  {
   "cell_type": "code",
   "execution_count": 113,
   "metadata": {},
   "outputs": [
    {
     "data": {
      "text/plain": [
       "101"
      ]
     },
     "execution_count": 113,
     "metadata": {},
     "output_type": "execute_result"
    }
   ],
   "source": [
    "# Количество записей с 0 возрастом\n",
    "len(data[data['dob_years'] == 0])"
   ]
  },
  {
   "cell_type": "code",
   "execution_count": 114,
   "metadata": {},
   "outputs": [
    {
     "data": {
      "text/plain": [
       "<matplotlib.axes._subplots.AxesSubplot at 0x7faa0c5b6cd0>"
      ]
     },
     "execution_count": 114,
     "metadata": {},
     "output_type": "execute_result"
    },
    {
     "data": {
      "image/png": "[encoded data removed]",
      "text/plain": [
       "<Figure size 432x288 with 1 Axes>"
      ]
     },
     "metadata": {
      "needs_background": "light"
     },
     "output_type": "display_data"
    }
   ],
   "source": [
    "# уровень образования\n",
    "data['education'].value_counts().plot.bar()"
   ]
  },
  {
   "cell_type": "code",
   "execution_count": 115,
   "metadata": {},
   "outputs": [
    {
     "data": {
      "text/plain": [
       "array([0, 1, 2, 3, 4])"
      ]
     },
     "execution_count": 115,
     "metadata": {},
     "output_type": "execute_result"
    }
   ],
   "source": [
    "# идентифкатор уровня образования \n",
    "data['education_id'].unique()"
   ]
  },
  {
   "cell_type": "code",
   "execution_count": 116,
   "metadata": {
    "scrolled": true
   },
   "outputs": [
    {
     "data": {
      "text/plain": [
       "<matplotlib.axes._subplots.AxesSubplot at 0x7fa9ba2a66d0>"
      ]
     },
     "execution_count": 116,
     "metadata": {},
     "output_type": "execute_result"
    },
    {
     "data": {
      "image/png": "[encoded data removed]",
      "text/plain": [
       "<Figure size 432x288 with 1 Axes>"
      ]
     },
     "metadata": {
      "needs_background": "light"
     },
     "output_type": "display_data"
    }
   ],
   "source": [
    "# Семейное положение\n",
    "data['family_status'].value_counts().plot.bar()"
   ]
  },
  {
   "cell_type": "code",
   "execution_count": 117,
   "metadata": {},
   "outputs": [
    {
     "data": {
      "text/plain": [
       "array([0, 1, 2, 3, 4])"
      ]
     },
     "execution_count": 117,
     "metadata": {},
     "output_type": "execute_result"
    }
   ],
   "source": [
    "# идентифкатор семейного статуса\n",
    "data['family_status_id'].unique()"
   ]
  },
  {
   "cell_type": "code",
   "execution_count": 118,
   "metadata": {},
   "outputs": [
    {
     "name": "stdout",
     "output_type": "stream",
     "text": [
      "Количество женщин заемщиков существенно превосходит количество мужчин\n"
     ]
    },
    {
     "data": {
      "image/png": "[encoded data removed]",
      "text/plain": [
       "<Figure size 432x288 with 1 Axes>"
      ]
     },
     "metadata": {
      "needs_background": "light"
     },
     "output_type": "display_data"
    }
   ],
   "source": [
    "# Пол\n",
    "data['gender'].value_counts().plot.bar()\n",
    "\n",
    "print('Количество женщин заемщиков существенно превосходит количество мужчин')"
   ]
  },
  {
   "cell_type": "code",
   "execution_count": 119,
   "metadata": {
    "scrolled": true
   },
   "outputs": [
    {
     "data": {
      "text/plain": [
       "<matplotlib.axes._subplots.AxesSubplot at 0x7faa0c564390>"
      ]
     },
     "execution_count": 119,
     "metadata": {},
     "output_type": "execute_result"
    },
    {
     "data": {
      "image/png": "[encoded data removed]",
      "text/plain": [
       "<Figure size 432x288 with 1 Axes>"
      ]
     },
     "metadata": {
      "needs_background": "light"
     },
     "output_type": "display_data"
    }
   ],
   "source": [
    "# Тип занятости\n",
    "data['income_type'].value_counts().plot.bar()"
   ]
  },
  {
   "cell_type": "code",
   "execution_count": 120,
   "metadata": {},
   "outputs": [
    {
     "data": {
      "text/plain": [
       "<matplotlib.axes._subplots.AxesSubplot at 0x7faa0c4d4d90>"
      ]
     },
     "execution_count": 120,
     "metadata": {},
     "output_type": "execute_result"
    },
    {
     "data": {
      "image/png": "[encoded data removed]",
      "text/plain": [
       "<Figure size 432x288 with 1 Axes>"
      ]
     },
     "metadata": {
      "needs_background": "light"
     },
     "output_type": "display_data"
    }
   ],
   "source": [
    "# Имел ли задолженность\n",
    "data['debt'].value_counts().plot.bar()"
   ]
  },
  {
   "cell_type": "code",
   "execution_count": 121,
   "metadata": {},
   "outputs": [
    {
     "data": {
      "text/plain": [
       "count    1.935100e+04\n",
       "mean     1.674223e+05\n",
       "std      1.029716e+05\n",
       "min      2.066726e+04\n",
       "25%      1.030532e+05\n",
       "50%      1.450179e+05\n",
       "75%      2.034351e+05\n",
       "max      2.265604e+06\n",
       "Name: total_income, dtype: float64"
      ]
     },
     "execution_count": 121,
     "metadata": {},
     "output_type": "execute_result"
    }
   ],
   "source": [
    "# Ежемесячный доход\n",
    "data['total_income'].describe()"
   ]
  },
  {
   "cell_type": "code",
   "execution_count": 122,
   "metadata": {},
   "outputs": [
    {
     "data": {
      "text/plain": [
       "2174"
      ]
     },
     "execution_count": 122,
     "metadata": {},
     "output_type": "execute_result"
    }
   ],
   "source": [
    "# Количество не заполненных записей ежемесячного дохода\n",
    "len(data[data['total_income'].isna()])"
   ]
  },
  {
   "cell_type": "code",
   "execution_count": 123,
   "metadata": {},
   "outputs": [
    {
     "data": {
      "text/plain": [
       "array(['покупка жилья', 'приобретение автомобиля',\n",
       "       'дополнительное образование', 'сыграть свадьбу',\n",
       "       'операции с жильем', 'образование', 'на проведение свадьбы',\n",
       "       'покупка жилья для семьи', 'покупка недвижимости',\n",
       "       'покупка коммерческой недвижимости', 'покупка жилой недвижимости',\n",
       "       'строительство собственной недвижимости', 'недвижимость',\n",
       "       'строительство недвижимости', 'на покупку подержанного автомобиля',\n",
       "       'на покупку своего автомобиля',\n",
       "       'операции с коммерческой недвижимостью',\n",
       "       'строительство жилой недвижимости', 'жилье',\n",
       "       'операции со своей недвижимостью', 'автомобили',\n",
       "       'заняться образованием', 'сделка с подержанным автомобилем',\n",
       "       'получение образования', 'автомобиль', 'свадьба',\n",
       "       'получение дополнительного образования', 'покупка своего жилья',\n",
       "       'операции с недвижимостью', 'получение высшего образования',\n",
       "       'свой автомобиль', 'сделка с автомобилем',\n",
       "       'профильное образование', 'высшее образование',\n",
       "       'покупка жилья для сдачи', 'на покупку автомобиля', 'ремонт жилью',\n",
       "       'заняться высшим образованием'], dtype=object)"
      ]
     },
     "execution_count": 123,
     "metadata": {},
     "output_type": "execute_result"
    }
   ],
   "source": [
    "# Цель получения кредита\n",
    "data['purpose'].unique()"
   ]
  },
  {
   "cell_type": "markdown",
   "metadata": {},
   "source": [
    "**Вывод**"
   ]
  },
  {
   "cell_type": "markdown",
   "metadata": {},
   "source": [
    "В данных 12 полей. \n",
    "\n",
    "1. Есть пропуски в общем трудовом стаже в днях (days_employed - 2174 записей), ежемесячном доходе (total_income - 2174 записей). \n",
    "2. Почему-то, общий трудовой стаж в днях представлен типом float, хотя, по логике, должен быть целочислельный\n",
    "3. Трудовой стаж отрицательный! Машину времени, вроде, пока еще не придумали. Может это количество дней до начала трудовой деятельности? :-) Скорее всего просто проблема порядка вычитания (что из чего вычиталось). \n",
    "4. Максимальный трудовой стаж - 1115 лет! Да он помнит еще Владимира Мономаха и Ивана Грозного :-) Скорее всего единицы измерения не дни, а более мелкие - например, часы\n",
    "5. Количество детей в семье - есть отрицательное значение. Такого быть не может. Также смущают выбросы в 20 детей. При этом, нет ни одного значения 6,7 и т.д. детей\n",
    "6. 101 запись имеет 0 возраст работника.\n",
    "7. В уровне образования (названии) есть неявные дубли. Можно вынести в отдельную таблицу и оставить только id (нормализовать)\n",
    "8. Семейный статус можно вынести в отдельную таблицу и оставить только id (нормализовать)\n",
    "9. Пол человека содержит непонятное значение XNA\n",
    "10. 2174 записи не имеют информации об ежемесячном доходе"
   ]
  },
  {
   "cell_type": "markdown",
   "metadata": {},
   "source": [
    "## Шаг 2. Предобработка данных\n",
    "\n",
    "Проводим обработку полученных данных с целью создания \"чистого\" источника информации.\n",
    "\n",
    "- Проверяем количество пропусков в данных\n",
    "- Если пропуски существенный, придумываем, чем их будем заполнять\n",
    "- Если пропуски не существенны, удаляем их\n",
    "- Проводим обработку некорректных данных\n",
    "- Приводим к нужным типам\n",
    "- Проводим явных удаление дублей"
   ]
  },
  {
   "cell_type": "markdown",
   "metadata": {},
   "source": [
    "### Обработка пропусков"
   ]
  },
  {
   "cell_type": "markdown",
   "metadata": {},
   "source": [
    "#### Трудовой стаж\n",
    "\n",
    "Определяем долю пропусков. \n",
    "Если пропуски существенны, заменяем значения на медиану. \n",
    "Избавляемся от отрицательных значений."
   ]
  },
  {
   "cell_type": "code",
   "execution_count": 124,
   "metadata": {},
   "outputs": [
    {
     "name": "stdout",
     "output_type": "stream",
     "text": [
      "Доля пропусков дней трудового стажа 10.099883855981417%\n"
     ]
    }
   ],
   "source": [
    "#  Определяем долю пропусков\n",
    "days_employed_isna_percent = (len(data[data['days_employed'].isna()]) / len(data)) * 100\n",
    "print(f'Доля пропусков дней трудового стажа {days_employed_isna_percent}%')"
   ]
  },
  {
   "cell_type": "code",
   "execution_count": 125,
   "metadata": {},
   "outputs": [],
   "source": [
    "# Заменяем отрицательные значения на положительные\n",
    "data['days_employed'] = data['days_employed'].apply('abs')"
   ]
  },
  {
   "cell_type": "code",
   "execution_count": 126,
   "metadata": {},
   "outputs": [],
   "source": [
    "# Доля пропуски существенная, поэтому заменяем пропуски трудового стажа на медианное значение\n",
    "data['days_employed'].fillna(data['days_employed'].median(), inplace=True)"
   ]
  },
  {
   "cell_type": "code",
   "execution_count": 127,
   "metadata": {
    "scrolled": true
   },
   "outputs": [
    {
     "name": "stdout",
     "output_type": "stream",
     "text": [
      "<class 'pandas.core.frame.DataFrame'>\n",
      "RangeIndex: 21525 entries, 0 to 21524\n",
      "Data columns (total 12 columns):\n",
      "children            21525 non-null int64\n",
      "days_employed       21525 non-null float64\n",
      "dob_years           21525 non-null int64\n",
      "education           21525 non-null object\n",
      "education_id        21525 non-null int64\n",
      "family_status       21525 non-null object\n",
      "family_status_id    21525 non-null int64\n",
      "gender              21525 non-null object\n",
      "income_type         21525 non-null object\n",
      "debt                21525 non-null int64\n",
      "total_income        19351 non-null float64\n",
      "purpose             21525 non-null object\n",
      "dtypes: float64(2), int64(5), object(5)\n",
      "memory usage: 2.0+ MB\n"
     ]
    }
   ],
   "source": [
    "# Проверяем, что пропусков не осталось\n",
    "data.info()"
   ]
  },
  {
   "cell_type": "code",
   "execution_count": 128,
   "metadata": {},
   "outputs": [
    {
     "data": {
      "text/html": [
       "<div>\n",
       "<style scoped>\n",
       "    .dataframe tbody tr th:only-of-type {\n",
       "        vertical-align: middle;\n",
       "    }\n",
       "\n",
       "    .dataframe tbody tr th {\n",
       "        vertical-align: top;\n",
       "    }\n",
       "\n",
       "    .dataframe thead th {\n",
       "        text-align: right;\n",
       "    }\n",
       "</style>\n",
       "<table border=\"1\" class=\"dataframe\">\n",
       "  <thead>\n",
       "    <tr style=\"text-align: right;\">\n",
       "      <th></th>\n",
       "      <th>children</th>\n",
       "      <th>days_employed</th>\n",
       "      <th>dob_years</th>\n",
       "      <th>education</th>\n",
       "      <th>education_id</th>\n",
       "      <th>family_status</th>\n",
       "      <th>family_status_id</th>\n",
       "      <th>gender</th>\n",
       "      <th>income_type</th>\n",
       "      <th>debt</th>\n",
       "      <th>total_income</th>\n",
       "      <th>purpose</th>\n",
       "    </tr>\n",
       "  </thead>\n",
       "  <tbody>\n",
       "    <tr>\n",
       "      <td>6954</td>\n",
       "      <td>0</td>\n",
       "      <td>401755.400475</td>\n",
       "      <td>56</td>\n",
       "      <td>среднее</td>\n",
       "      <td>1</td>\n",
       "      <td>вдовец / вдова</td>\n",
       "      <td>2</td>\n",
       "      <td>F</td>\n",
       "      <td>пенсионер</td>\n",
       "      <td>0</td>\n",
       "      <td>176278.441171</td>\n",
       "      <td>ремонт жилью</td>\n",
       "    </tr>\n",
       "    <tr>\n",
       "      <td>10006</td>\n",
       "      <td>0</td>\n",
       "      <td>401715.811749</td>\n",
       "      <td>69</td>\n",
       "      <td>высшее</td>\n",
       "      <td>0</td>\n",
       "      <td>Не женат / не замужем</td>\n",
       "      <td>4</td>\n",
       "      <td>F</td>\n",
       "      <td>пенсионер</td>\n",
       "      <td>0</td>\n",
       "      <td>57390.256908</td>\n",
       "      <td>получение образования</td>\n",
       "    </tr>\n",
       "    <tr>\n",
       "      <td>7664</td>\n",
       "      <td>1</td>\n",
       "      <td>401675.093434</td>\n",
       "      <td>61</td>\n",
       "      <td>среднее</td>\n",
       "      <td>1</td>\n",
       "      <td>женат / замужем</td>\n",
       "      <td>0</td>\n",
       "      <td>F</td>\n",
       "      <td>пенсионер</td>\n",
       "      <td>0</td>\n",
       "      <td>126214.519212</td>\n",
       "      <td>операции с жильем</td>\n",
       "    </tr>\n",
       "    <tr>\n",
       "      <td>2156</td>\n",
       "      <td>0</td>\n",
       "      <td>401674.466633</td>\n",
       "      <td>60</td>\n",
       "      <td>среднее</td>\n",
       "      <td>1</td>\n",
       "      <td>женат / замужем</td>\n",
       "      <td>0</td>\n",
       "      <td>M</td>\n",
       "      <td>пенсионер</td>\n",
       "      <td>0</td>\n",
       "      <td>325395.724541</td>\n",
       "      <td>автомобили</td>\n",
       "    </tr>\n",
       "    <tr>\n",
       "      <td>7794</td>\n",
       "      <td>0</td>\n",
       "      <td>401663.850046</td>\n",
       "      <td>61</td>\n",
       "      <td>среднее</td>\n",
       "      <td>1</td>\n",
       "      <td>гражданский брак</td>\n",
       "      <td>1</td>\n",
       "      <td>F</td>\n",
       "      <td>пенсионер</td>\n",
       "      <td>0</td>\n",
       "      <td>48286.441362</td>\n",
       "      <td>свадьба</td>\n",
       "    </tr>\n",
       "  </tbody>\n",
       "</table>\n",
       "</div>"
      ],
      "text/plain": [
       "       children  days_employed  dob_years education  education_id  \\\n",
       "6954          0  401755.400475         56   среднее             1   \n",
       "10006         0  401715.811749         69    высшее             0   \n",
       "7664          1  401675.093434         61   среднее             1   \n",
       "2156          0  401674.466633         60   среднее             1   \n",
       "7794          0  401663.850046         61   среднее             1   \n",
       "\n",
       "               family_status  family_status_id gender income_type  debt  \\\n",
       "6954          вдовец / вдова                 2      F   пенсионер     0   \n",
       "10006  Не женат / не замужем                 4      F   пенсионер     0   \n",
       "7664         женат / замужем                 0      F   пенсионер     0   \n",
       "2156         женат / замужем                 0      M   пенсионер     0   \n",
       "7794        гражданский брак                 1      F   пенсионер     0   \n",
       "\n",
       "        total_income                purpose  \n",
       "6954   176278.441171           ремонт жилью  \n",
       "10006   57390.256908  получение образования  \n",
       "7664   126214.519212      операции с жильем  \n",
       "2156   325395.724541             автомобили  \n",
       "7794    48286.441362                свадьба  "
      ]
     },
     "execution_count": 128,
     "metadata": {},
     "output_type": "execute_result"
    }
   ],
   "source": [
    "# Оцениваем трудовой стаж от максмальных значений\n",
    "data.sort_values('days_employed', ascending = False).head(5)"
   ]
  },
  {
   "cell_type": "code",
   "execution_count": 129,
   "metadata": {},
   "outputs": [],
   "source": [
    "# Проверяем предположение, что трудовой стаж хранится в часах, т.к. очень большие значения. Насчитываем отдельную колонку года\n",
    "data['years_employed'] = data['days_employed'] / 365"
   ]
  },
  {
   "cell_type": "code",
   "execution_count": 130,
   "metadata": {
    "scrolled": true
   },
   "outputs": [
    {
     "name": "stdout",
     "output_type": "stream",
     "text": [
      "Количество записей трудового стажа более 80 лет 3445\n"
     ]
    }
   ],
   "source": [
    "# Исходя из продолжительности жизни, трудовой стаж не может составлять более 80 лет\n",
    "print('Количество записей трудового стажа более 80 лет', len(data[data['years_employed'] > 80]))"
   ]
  },
  {
   "cell_type": "code",
   "execution_count": 131,
   "metadata": {},
   "outputs": [],
   "source": [
    "# Все остальные записи, где трудовой стаж более 80 лет, переводим из часов в дни (делим на 24)\n",
    "data['days_employed'] = data.apply(lambda row: row['days_employed'] / 24 if row['years_employed'] > 80 else row['days_employed'], axis=1)\n",
    "\n",
    "# Пересчитываем года для консисентности\n",
    "data['years_employed'] = data['days_employed'] / 365"
   ]
  },
  {
   "cell_type": "code",
   "execution_count": 132,
   "metadata": {
    "scrolled": true
   },
   "outputs": [
    {
     "data": {
      "text/plain": [
       "count    21525.000000\n",
       "mean      4394.454537\n",
       "std       5131.551830\n",
       "min         24.141633\n",
       "25%       1025.608174\n",
       "50%       2194.220567\n",
       "75%       4779.587738\n",
       "max      18388.949901\n",
       "Name: days_employed, dtype: float64"
      ]
     },
     "execution_count": 132,
     "metadata": {},
     "output_type": "execute_result"
    }
   ],
   "source": [
    "# Проверяем\n",
    "data['days_employed'].describe()"
   ]
  },
  {
   "cell_type": "markdown",
   "metadata": {},
   "source": [
    "#### Ежемесячный доход\n",
    "\n",
    "- Проверяем долю пропусков. \n",
    "- Заполняем пропуски медианой по типу занятости"
   ]
  },
  {
   "cell_type": "code",
   "execution_count": 137,
   "metadata": {},
   "outputs": [
    {
     "name": "stdout",
     "output_type": "stream",
     "text": [
      "Доля пропусков ежемесячного дохода 10.099883855981417%\n"
     ]
    }
   ],
   "source": [
    "#  Определяем долю пропусков\n",
    "total_income_isna_percent = (len(data[data['total_income'].isna()]) / len(data)) * 100\n",
    "print(f'Доля пропусков ежемесячного дохода {total_income_isna_percent}%')"
   ]
  },
  {
   "cell_type": "code",
   "execution_count": 140,
   "metadata": {},
   "outputs": [],
   "source": [
    "# Заполняем медианой по типу занятости\n",
    "for income_type in data['income_type'].unique():\n",
    "    income_type_total_median = data[data['income_type'] == income_type]['total_income'].median()\n",
    "    data.loc[(data['total_income'].isna()) & (data['income_type'] == income_type), 'total_income'] =  income_type_total_median"
   ]
  },
  {
   "cell_type": "code",
   "execution_count": 144,
   "metadata": {},
   "outputs": [
    {
     "name": "stdout",
     "output_type": "stream",
     "text": [
      "<class 'pandas.core.frame.DataFrame'>\n",
      "RangeIndex: 21525 entries, 0 to 21524\n",
      "Data columns (total 13 columns):\n",
      "children            21525 non-null int64\n",
      "days_employed       21525 non-null float64\n",
      "dob_years           21525 non-null int64\n",
      "education           21525 non-null object\n",
      "education_id        21525 non-null int64\n",
      "family_status       21525 non-null object\n",
      "family_status_id    21525 non-null int64\n",
      "gender              21525 non-null object\n",
      "income_type         21525 non-null object\n",
      "debt                21525 non-null int64\n",
      "total_income        21525 non-null float64\n",
      "purpose             21525 non-null object\n",
      "years_employed      21525 non-null float64\n",
      "dtypes: float64(3), int64(5), object(5)\n",
      "memory usage: 2.1+ MB\n"
     ]
    }
   ],
   "source": [
    "# Проверяем отсутсвие пропуска\n",
    "data.info()"
   ]
  },
  {
   "cell_type": "code",
   "execution_count": 35,
   "metadata": {},
   "outputs": [
    {
     "name": "stdout",
     "output_type": "stream",
     "text": [
      "<class 'pandas.core.frame.DataFrame'>\n",
      "RangeIndex: 21525 entries, 0 to 21524\n",
      "Data columns (total 13 columns):\n",
      "children            21525 non-null int64\n",
      "days_employed       21525 non-null float64\n",
      "dob_years           21525 non-null int64\n",
      "education           21525 non-null object\n",
      "education_id        21525 non-null int64\n",
      "family_status       21525 non-null object\n",
      "family_status_id    21525 non-null int64\n",
      "gender              21525 non-null object\n",
      "income_type         21525 non-null object\n",
      "debt                21525 non-null int64\n",
      "total_income        21525 non-null float64\n",
      "purpose             21525 non-null object\n",
      "years_employed      21525 non-null float64\n",
      "dtypes: float64(3), int64(5), object(5)\n",
      "memory usage: 2.1+ MB\n"
     ]
    }
   ],
   "source": [
    "# Проверяем, что пропусков не осталось\n",
    "data.info()"
   ]
  },
  {
   "cell_type": "markdown",
   "metadata": {},
   "source": [
    "#### Количество детей в семье"
   ]
  },
  {
   "cell_type": "code",
   "execution_count": 36,
   "metadata": {},
   "outputs": [
    {
     "data": {
      "text/plain": [
       "array([ 1,  0,  3,  2, -1,  4, 20,  5])"
      ]
     },
     "execution_count": 36,
     "metadata": {},
     "output_type": "execute_result"
    }
   ],
   "source": [
    "# Значения\n",
    "data['children'].unique()"
   ]
  },
  {
   "cell_type": "code",
   "execution_count": 37,
   "metadata": {},
   "outputs": [
    {
     "name": "stdout",
     "output_type": "stream",
     "text": [
      "Количество записей с отрицательным количеством детей 47 , что составляет  0.2183507549361208 %\n"
     ]
    }
   ],
   "source": [
    "print('Количество записей с отрицательным количеством детей', len(data[data['children'] < 0]), ', что составляет ', len(data[data['children'] < 0])/ len(data) * 100, '%')"
   ]
  },
  {
   "cell_type": "code",
   "execution_count": 38,
   "metadata": {},
   "outputs": [
    {
     "name": "stdout",
     "output_type": "stream",
     "text": [
      "Количество записей с 20 детьми 76 , что составляет  0.3530778164924506 %\n"
     ]
    }
   ],
   "source": [
    "# Просматриваем информацию о родителях с 20 детьми\n",
    "print('Количество записей с 20 детьми', len(data[data['children'] == 20]), ', что составляет ', len(data[data['children'] == 20])/ len(data) * 100, '%')"
   ]
  },
  {
   "cell_type": "code",
   "execution_count": 149,
   "metadata": {},
   "outputs": [],
   "source": [
    "# Для отрицательных значений берем модуль\n",
    "data['children'] = data['children'].apply('abs')"
   ]
  },
  {
   "cell_type": "code",
   "execution_count": 150,
   "metadata": {},
   "outputs": [],
   "source": [
    "# Для значений больше 20, сдвигаем знак (делаем 2 и т.д)\n",
    "data['children'] = data['children'].apply(lambda c: c // 10 if c >=20 else c)"
   ]
  },
  {
   "cell_type": "code",
   "execution_count": 153,
   "metadata": {},
   "outputs": [
    {
     "data": {
      "text/plain": [
       "array([1, 0, 3, 2, 4, 5])"
      ]
     },
     "execution_count": 153,
     "metadata": {},
     "output_type": "execute_result"
    }
   ],
   "source": [
    "# Проверяем\n",
    "data['children'].unique()"
   ]
  },
  {
   "cell_type": "code",
   "execution_count": 40,
   "metadata": {
    "scrolled": true
   },
   "outputs": [
    {
     "data": {
      "text/plain": [
       "count    21402.000000\n",
       "mean         0.473180\n",
       "std          0.751837\n",
       "min          0.000000\n",
       "25%          0.000000\n",
       "50%          0.000000\n",
       "75%          1.000000\n",
       "max          5.000000\n",
       "Name: children, dtype: float64"
      ]
     },
     "execution_count": 40,
     "metadata": {},
     "output_type": "execute_result"
    }
   ],
   "source": [
    "data['children'].describe()"
   ]
  },
  {
   "cell_type": "markdown",
   "metadata": {},
   "source": [
    "#### Возраст работника"
   ]
  },
  {
   "cell_type": "code",
   "execution_count": 41,
   "metadata": {},
   "outputs": [
    {
     "name": "stdout",
     "output_type": "stream",
     "text": [
      "Количество записей с 0 возрастом работника 100 , что составляет  0.4672460517708626 %\n"
     ]
    }
   ],
   "source": [
    "print('Количество записей с 0 возрастом работника', len(data[data['dob_years'] == 0]), ', что составляет ', len(data[data['dob_years'] == 0])/ len(data) * 100, '%')"
   ]
  },
  {
   "cell_type": "code",
   "execution_count": 42,
   "metadata": {},
   "outputs": [],
   "source": [
    "# Т.к. таких записей не много, можем удалить их\n",
    "data = data[data['dob_years'] > 0]"
   ]
  },
  {
   "cell_type": "code",
   "execution_count": 43,
   "metadata": {},
   "outputs": [
    {
     "data": {
      "text/plain": [
       "count    21302.000000\n",
       "mean        43.503474\n",
       "std         12.252843\n",
       "min         19.000000\n",
       "25%         33.000000\n",
       "50%         43.000000\n",
       "75%         53.000000\n",
       "max         75.000000\n",
       "Name: dob_years, dtype: float64"
      ]
     },
     "execution_count": 43,
     "metadata": {},
     "output_type": "execute_result"
    }
   ],
   "source": [
    "data['dob_years'].describe()"
   ]
  },
  {
   "cell_type": "markdown",
   "metadata": {},
   "source": [
    "#### Пол человека"
   ]
  },
  {
   "cell_type": "code",
   "execution_count": 44,
   "metadata": {},
   "outputs": [
    {
     "data": {
      "text/html": [
       "<div>\n",
       "<style scoped>\n",
       "    .dataframe tbody tr th:only-of-type {\n",
       "        vertical-align: middle;\n",
       "    }\n",
       "\n",
       "    .dataframe tbody tr th {\n",
       "        vertical-align: top;\n",
       "    }\n",
       "\n",
       "    .dataframe thead th {\n",
       "        text-align: right;\n",
       "    }\n",
       "</style>\n",
       "<table border=\"1\" class=\"dataframe\">\n",
       "  <thead>\n",
       "    <tr style=\"text-align: right;\">\n",
       "      <th></th>\n",
       "      <th>children</th>\n",
       "      <th>days_employed</th>\n",
       "      <th>dob_years</th>\n",
       "      <th>education</th>\n",
       "      <th>education_id</th>\n",
       "      <th>family_status</th>\n",
       "      <th>family_status_id</th>\n",
       "      <th>gender</th>\n",
       "      <th>income_type</th>\n",
       "      <th>debt</th>\n",
       "      <th>total_income</th>\n",
       "      <th>purpose</th>\n",
       "      <th>years_employed</th>\n",
       "    </tr>\n",
       "  </thead>\n",
       "  <tbody>\n",
       "    <tr>\n",
       "      <td>10701</td>\n",
       "      <td>0</td>\n",
       "      <td>2358.600502</td>\n",
       "      <td>24</td>\n",
       "      <td>неоконченное высшее</td>\n",
       "      <td>2</td>\n",
       "      <td>гражданский брак</td>\n",
       "      <td>1</td>\n",
       "      <td>XNA</td>\n",
       "      <td>компаньон</td>\n",
       "      <td>0</td>\n",
       "      <td>203905.157261</td>\n",
       "      <td>покупка недвижимости</td>\n",
       "      <td>6.461919</td>\n",
       "    </tr>\n",
       "  </tbody>\n",
       "</table>\n",
       "</div>"
      ],
      "text/plain": [
       "       children  days_employed  dob_years            education  education_id  \\\n",
       "10701         0    2358.600502         24  неоконченное высшее             2   \n",
       "\n",
       "          family_status  family_status_id gender income_type  debt  \\\n",
       "10701  гражданский брак                 1    XNA   компаньон     0   \n",
       "\n",
       "        total_income               purpose  years_employed  \n",
       "10701  203905.157261  покупка недвижимости        6.461919  "
      ]
     },
     "execution_count": 44,
     "metadata": {},
     "output_type": "execute_result"
    }
   ],
   "source": [
    "# Проверяем нпонятно значение\n",
    "data[data['gender'] == 'XNA']"
   ]
  },
  {
   "cell_type": "code",
   "execution_count": 45,
   "metadata": {},
   "outputs": [],
   "source": [
    "# Удаляем его\n",
    "data = data[data['gender'] != 'XNA']"
   ]
  },
  {
   "cell_type": "code",
   "execution_count": 46,
   "metadata": {
    "scrolled": true
   },
   "outputs": [
    {
     "data": {
      "text/plain": [
       "<matplotlib.axes._subplots.AxesSubplot at 0x7fa9ba34ae50>"
      ]
     },
     "execution_count": 46,
     "metadata": {},
     "output_type": "execute_result"
    },
    {
     "data": {
      "image/png": "[encoded data removed]",
      "text/plain": [
       "<Figure size 432x288 with 1 Axes>"
      ]
     },
     "metadata": {
      "needs_background": "light"
     },
     "output_type": "display_data"
    }
   ],
   "source": [
    "data['gender'].value_counts().plot.bar()"
   ]
  },
  {
   "cell_type": "markdown",
   "metadata": {},
   "source": [
    "#### Уровень образования "
   ]
  },
  {
   "cell_type": "code",
   "execution_count": 47,
   "metadata": {},
   "outputs": [],
   "source": [
    "# Убираем расхождения регистра надписи уровнея образования. Все приводим к нижнему регистру\n",
    "data['education'] = data['education'].apply(lambda e: e.lower())"
   ]
  },
  {
   "cell_type": "code",
   "execution_count": 48,
   "metadata": {
    "scrolled": false
   },
   "outputs": [
    {
     "data": {
      "text/plain": [
       "<matplotlib.axes._subplots.AxesSubplot at 0x7fa9ba2fc510>"
      ]
     },
     "execution_count": 48,
     "metadata": {},
     "output_type": "execute_result"
    },
    {
     "data": {
      "image/png": "[encoded data removed]",
      "text/plain": [
       "<Figure size 432x288 with 1 Axes>"
      ]
     },
     "metadata": {
      "needs_background": "light"
     },
     "output_type": "display_data"
    }
   ],
   "source": [
    "data['education'].value_counts().plot.bar()"
   ]
  },
  {
   "cell_type": "markdown",
   "metadata": {},
   "source": [
    "**Вывод**"
   ]
  },
  {
   "cell_type": "markdown",
   "metadata": {},
   "source": [
    "1. Заменили пустые значения трудового стажа на медианные значения\n",
    "2. Привели трудовой стаж к единой единице измерения - дням\n",
    "3. Пропуски в ежемесячных доходнах заполнили медианными значениями\n",
    "4. Удалили записи с отрицательными значением количества детей в семье и количеством детей, равным 20\n",
    "5. Удалили записи с нулевым возрастом работника\n",
    "6. Удалили запись с непонятным значением пола\n",
    "7. Привели к единому регистру написание уровня образования"
   ]
  },
  {
   "cell_type": "markdown",
   "metadata": {},
   "source": [
    "### Замена типа данных"
   ]
  },
  {
   "cell_type": "code",
   "execution_count": 49,
   "metadata": {},
   "outputs": [
    {
     "name": "stdout",
     "output_type": "stream",
     "text": [
      "<class 'pandas.core.frame.DataFrame'>\n",
      "Int64Index: 21301 entries, 0 to 21524\n",
      "Data columns (total 13 columns):\n",
      "children            21301 non-null int64\n",
      "days_employed       21301 non-null float64\n",
      "dob_years           21301 non-null int64\n",
      "education           21301 non-null object\n",
      "education_id        21301 non-null int64\n",
      "family_status       21301 non-null object\n",
      "family_status_id    21301 non-null int64\n",
      "gender              21301 non-null object\n",
      "income_type         21301 non-null object\n",
      "debt                21301 non-null int64\n",
      "total_income        21301 non-null float64\n",
      "purpose             21301 non-null object\n",
      "years_employed      21301 non-null float64\n",
      "dtypes: float64(3), int64(5), object(5)\n",
      "memory usage: 2.3+ MB\n"
     ]
    }
   ],
   "source": [
    "# Выводим актуальную информацию о типах\n",
    "data.info()"
   ]
  },
  {
   "cell_type": "code",
   "execution_count": 50,
   "metadata": {},
   "outputs": [],
   "source": [
    "# Приводим к целочисельному типу количество дней трудового стажа, общий доход, количество лет трудового стажа (расчетное поле)\n",
    "data['days_employed'] = data['days_employed'].astype('int')\n",
    "data['total_income'] = data['total_income'].astype('int')\n",
    "data['years_employed'] = data['years_employed'].astype('int')"
   ]
  },
  {
   "cell_type": "markdown",
   "metadata": {},
   "source": [
    "**Вывод**"
   ]
  },
  {
   "cell_type": "markdown",
   "metadata": {},
   "source": [
    "Для удобства работы часть полей (количество дней трудового стажа, общий доход, количество лет трудового стажа (расчетное поле)) привели к целому типу данных"
   ]
  },
  {
   "cell_type": "markdown",
   "metadata": {},
   "source": [
    "### Обработка дубликатов\n",
    "\n",
    "Возможными причинами появления дубликатов может быть ошибки ручного ввода или импорта информации."
   ]
  },
  {
   "cell_type": "code",
   "execution_count": 51,
   "metadata": {},
   "outputs": [
    {
     "name": "stdout",
     "output_type": "stream",
     "text": [
      "Всего 71 записей явных дублей \n"
     ]
    }
   ],
   "source": [
    "# Проверяем наличие дубликатов\n",
    "print(f'Всего {len(data[data.duplicated()])} записей явных дублей ')"
   ]
  },
  {
   "cell_type": "code",
   "execution_count": 52,
   "metadata": {},
   "outputs": [],
   "source": [
    "# Удаляем дубли\n",
    "data = data.drop_duplicates().reset_index(drop=True)"
   ]
  },
  {
   "cell_type": "code",
   "execution_count": 53,
   "metadata": {},
   "outputs": [
    {
     "name": "stdout",
     "output_type": "stream",
     "text": [
      "По итогу удаления дублей в датасете 21230 записей\n"
     ]
    }
   ],
   "source": [
    "print(f'По итогу удаления дублей в датасете {len(data)} записей')"
   ]
  },
  {
   "cell_type": "markdown",
   "metadata": {},
   "source": [
    "**Вывод**"
   ]
  },
  {
   "cell_type": "markdown",
   "metadata": {},
   "source": [
    "Удалили явные дубли в датасете"
   ]
  },
  {
   "cell_type": "markdown",
   "metadata": {},
   "source": [
    "### Лемматизация"
   ]
  },
  {
   "cell_type": "code",
   "execution_count": 54,
   "metadata": {},
   "outputs": [
    {
     "data": {
      "text/plain": [
       "0                 покупка   жилье \n",
       "1       приобретение   автомобиль \n",
       "2                 покупка   жилье \n",
       "3    дополнительный   образование \n",
       "4               сыграть   свадьба \n",
       "Name: purpose_lemmas, dtype: object"
      ]
     },
     "execution_count": 54,
     "metadata": {},
     "output_type": "execute_result"
    }
   ],
   "source": [
    "# проводим лемматизацию цели получения кредита\n",
    "from pymystem3 import Mystem\n",
    "m = Mystem() \n",
    "\n",
    "# Используем специальную библиотеку, коотрая выделяет леммы (словарные формы).\n",
    "# Результат лемматизации является массивом. Для удобства склиеваем значения снова в строку\n",
    "data['purpose_lemmas'] = data['purpose'].apply(lambda text: ' '.join(m.lemmatize(text)).replace('\\n', ''))\n",
    "data['purpose_lemmas'].head()"
   ]
  },
  {
   "cell_type": "code",
   "execution_count": 55,
   "metadata": {},
   "outputs": [
    {
     "data": {
      "text/plain": [
       "автомобиль                                     961\n",
       "свадьба                                        785\n",
       "на   проведение   свадьба                      759\n",
       "сыграть   свадьба                              755\n",
       "операция   с   недвижимость                    669\n",
       "покупка   коммерческий   недвижимость          655\n",
       "покупка   жилье   для   сдача                  647\n",
       "операция   с   коммерческий   недвижимость     643\n",
       "операция   с   жилье                           641\n",
       "покупка   жилье   для   семья                  636\n",
       "жилье                                          635\n",
       "покупка   жилье                                634\n",
       "недвижимость                                   627\n",
       "строительство   собственный   недвижимость     626\n",
       "операция   со   свой   недвижимость            623\n",
       "строительство   недвижимость                   619\n",
       "покупка   свой   жилье                         618\n",
       "строительство   жилой   недвижимость           617\n",
       "покупка   недвижимость                         612\n",
       "ремонт   жилье                                 602\n",
       "покупка   жилой   недвижимость                 599\n",
       "на   покупка   свой   автомобиль               501\n",
       "заниматься   высокий   образование             493\n",
       "сделка   с   подержанный   автомобиль          479\n",
       "на   покупка   подержать   автомобиль          471\n",
       "свой   автомобиль                              470\n",
       "на   покупка   автомобиль                      465\n",
       "приобретение   автомобиль                      457\n",
       "сделка   с   автомобиль                        454\n",
       "дополнительный   образование                   453\n",
       "высокий   образование                          443\n",
       "получение   дополнительный   образование       442\n",
       "образование                                    439\n",
       "получение   образование                        439\n",
       "профильный   образование                       431\n",
       "получение   высокий   образование              423\n",
       "заниматься   образование                       407\n",
       "Name: purpose_lemmas, dtype: int64"
      ]
     },
     "execution_count": 55,
     "metadata": {},
     "output_type": "execute_result"
    }
   ],
   "source": [
    "# Распределение по целям получения кредита\n",
    "data['purpose_lemmas'].value_counts()"
   ]
  },
  {
   "cell_type": "markdown",
   "metadata": {},
   "source": [
    "**Вывод**"
   ]
  },
  {
   "cell_type": "markdown",
   "metadata": {},
   "source": [
    "Выделили леммы цели получения кредита. Результат сохранили в отдельную колонку purpose_lemmas"
   ]
  },
  {
   "cell_type": "markdown",
   "metadata": {},
   "source": [
    "### Категоризация данных"
   ]
  },
  {
   "cell_type": "markdown",
   "metadata": {},
   "source": [
    "#### Возвраст работника\n",
    "Возрастные периоды взрослого человека можно выделить на основе биологического возраста: https://ru.wikipedia.org/wiki/%D0%92%D0%BE%D0%B7%D1%80%D0%B0%D1%81%D1%82%D0%BD%D0%B0%D1%8F_%D0%BF%D0%B5%D1%80%D0%B8%D0%BE%D0%B4%D0%B8%D0%B7%D0%B0%D1%86%D0%B8%D1%8F\n",
    "\n",
    "- Юношеский период\n",
    "    - юноши: 17 — 21 год\n",
    "    - девушки: 16 — 20 лет\n",
    "- Зрелый возраст (1 период)\n",
    "    - мужчины: 21—35 лет\n",
    "    - женщины: 20—35 лет\n",
    "- Зрелый возраст (2 период)\n",
    "    - мужчины: 35—60 лет\n",
    "    - женщины: 35—55 лет\n",
    "- Пожилой возраст: 55/60—75 лет\n",
    "- Старческий возраст: 75—90 лет\n",
    "- Долгожители — 90 лет и более"
   ]
  },
  {
   "cell_type": "code",
   "execution_count": 56,
   "metadata": {},
   "outputs": [],
   "source": [
    "# Функция преобразования возраста в годах в возрастную категорию с учетом пола\n",
    "def get_dob_years_category(years, gender):\n",
    "    # Мужчины\n",
    "    if gender == 'M':\n",
    "        if 17 <= years < 21:\n",
    "            return 'Юношиский период'\n",
    "        elif 21 <= years < 35:\n",
    "            return 'Зрелый возраст (1 период)'\n",
    "        elif 35 <= years < 60:\n",
    "            return 'Зрелый возраст (2 период)'\n",
    "        elif 60 <= years < 75:\n",
    "            return 'Пожилой возраст'\n",
    "        elif 75 <= years < 90:\n",
    "            return 'Старческий возраст'\n",
    "        elif years >= 90:\n",
    "            return 'Долгожители'\n",
    "    elif gender == 'F':\n",
    "        if 16 <= years < 20:\n",
    "            return 'Юношиский период'\n",
    "        elif 20 <= years < 35:\n",
    "            return 'Зрелый возраст (1 период)'\n",
    "        elif 35 <= years < 55:\n",
    "            return 'Зрелый возраст (2 период)'\n",
    "        elif 55 <= years < 75:\n",
    "            return 'Пожилой возраст'\n",
    "        elif 75 <= years < 90:\n",
    "            return 'Старческий возраст'\n",
    "        elif years >= 90:\n",
    "            return 'Долгожители'"
   ]
  },
  {
   "cell_type": "code",
   "execution_count": 57,
   "metadata": {},
   "outputs": [
    {
     "data": {
      "text/plain": [
       "<matplotlib.axes._subplots.AxesSubplot at 0x7fa9c2ec9350>"
      ]
     },
     "execution_count": 57,
     "metadata": {},
     "output_type": "execute_result"
    },
    {
     "data": {
      "image/png": "[encoded data removed]",
      "text/plain": [
       "<Figure size 432x288 with 1 Axes>"
      ]
     },
     "metadata": {},
     "output_type": "display_data"
    }
   ],
   "source": [
    "# Рассчитываем возврастную категорию\n",
    "data['dob_years_category'] = data.apply(lambda row: get_dob_years_category(row['dob_years'], row['gender']), axis = 1)\n",
    "data['dob_years_category'].value_counts().plot.pie()"
   ]
  },
  {
   "cell_type": "markdown",
   "metadata": {},
   "source": [
    "#### Общий трудовой стаж\n",
    "Можно придумать несколько категорий трудового стажа:\n",
    "- без стажа работы\n",
    "- до 5 лет\n",
    "- 5 - 10 лет\n",
    "- 10 - 20 лет\n",
    "- более 20 лет\n"
   ]
  },
  {
   "cell_type": "code",
   "execution_count": 58,
   "metadata": {},
   "outputs": [],
   "source": [
    "# Функция преобразования трудового стажа в годах категорию \n",
    "def get_employed_years_category(years):\n",
    "    if years == 0:\n",
    "        return 'Без стажа работы'\n",
    "    elif 0 < years < 5:\n",
    "        return 'до 5 лет'\n",
    "    elif 5 <= years < 10:\n",
    "        return 'до 10 лет'\n",
    "    elif 10 <= years < 20:\n",
    "        return 'до 20 лет'\n",
    "    elif years >= 20:\n",
    "        return 'более 20 лет'\n"
   ]
  },
  {
   "cell_type": "code",
   "execution_count": 59,
   "metadata": {
    "scrolled": true
   },
   "outputs": [
    {
     "data": {
      "text/plain": [
       "<matplotlib.axes._subplots.AxesSubplot at 0x7faa0c9eb1d0>"
      ]
     },
     "execution_count": 59,
     "metadata": {},
     "output_type": "execute_result"
    },
    {
     "data": {
      "image/png": "[encoded data removed]",
      "text/plain": [
       "<Figure size 432x288 with 1 Axes>"
      ]
     },
     "metadata": {},
     "output_type": "display_data"
    }
   ],
   "source": [
    "# Рассчитываем категорию трудового стажа\n",
    "data['dob_years_employed_category'] = data.apply(lambda row: get_employed_years_category(row['years_employed']), axis = 1)\n",
    "data['dob_years_employed_category'].value_counts().plot.pie()"
   ]
  },
  {
   "cell_type": "markdown",
   "metadata": {},
   "source": [
    "#### Категории уровня дохода\n",
    "- нет дохода\n",
    "    - 0 тыс\n",
    "- низкий\n",
    "    - до 30 тыс\n",
    "- средний\n",
    "    - от 30 тыс до 60 тыс\n",
    "- выше среднего\n",
    "    - от 60 до 100 тыс\n",
    "- высокий\n",
    "    - от 100 тыс"
   ]
  },
  {
   "cell_type": "code",
   "execution_count": 60,
   "metadata": {},
   "outputs": [],
   "source": [
    "# Функция преобразования трудового стажа в годах категорию \n",
    "def get_total_income_category(income):\n",
    "    if income == 0:\n",
    "        return 'нет дохода'\n",
    "    elif 0 < income < 30000:\n",
    "        return 'низкий'\n",
    "    elif 30000 <= income < 60000:\n",
    "        return 'средний'\n",
    "    elif 60000 <= income < 100000:\n",
    "        return 'выше среднего'\n",
    "    elif income >= 100000:\n",
    "        return 'высокий'"
   ]
  },
  {
   "cell_type": "code",
   "execution_count": 61,
   "metadata": {},
   "outputs": [
    {
     "data": {
      "text/plain": [
       "<matplotlib.axes._subplots.AxesSubplot at 0x7faa0c9ad990>"
      ]
     },
     "execution_count": 61,
     "metadata": {},
     "output_type": "execute_result"
    },
    {
     "data": {
      "image/png": "[encoded data removed]",
      "text/plain": [
       "<Figure size 432x288 with 1 Axes>"
      ]
     },
     "metadata": {},
     "output_type": "display_data"
    }
   ],
   "source": [
    "# Рассчитываем категорию трудового стажа\n",
    "data['total_income_category'] = data.apply(lambda row: get_total_income_category(row['total_income']), axis = 1)\n",
    "data['total_income_category'].value_counts().plot.pie()"
   ]
  },
  {
   "cell_type": "markdown",
   "metadata": {},
   "source": [
    "#### Цели кредита\n",
    "\n",
    "На основании лем, можно попытаться выделить болие общие категории целей кредита:\n",
    "- автомобиль\n",
    "- образование\n",
    "- жилье/недвижимость\n",
    "- свадьба\n",
    "- ремонт"
   ]
  },
  {
   "cell_type": "code",
   "execution_count": 62,
   "metadata": {},
   "outputs": [],
   "source": [
    "# Функция выделение категории цели кредита\n",
    "def get_purpose_category(purpose):\n",
    "    if 'ремонт' in purpose:\n",
    "        return 'ремонт'\n",
    "    elif 'автомобиль' in purpose:\n",
    "        return 'автомобиль'\n",
    "    elif 'образование' in purpose:\n",
    "        return 'образование'\n",
    "    elif 'жилье' in purpose:\n",
    "        return 'недвижимость'\n",
    "    elif 'недвижимость' in purpose:\n",
    "        return 'недвижимость'\n",
    "    elif 'свадьба' in purpose:\n",
    "        return 'свадьба'\n",
    "\n",
    "    else:\n",
    "        return 'другое'"
   ]
  },
  {
   "cell_type": "code",
   "execution_count": 63,
   "metadata": {},
   "outputs": [
    {
     "data": {
      "text/plain": [
       "<matplotlib.axes._subplots.AxesSubplot at 0x7faa0c900bd0>"
      ]
     },
     "execution_count": 63,
     "metadata": {},
     "output_type": "execute_result"
    },
    {
     "data": {
      "image/png": "[encoded data removed]",
      "text/plain": [
       "<Figure size 432x288 with 1 Axes>"
      ]
     },
     "metadata": {},
     "output_type": "display_data"
    }
   ],
   "source": [
    "# Рассчитываем категорию цели кредита\n",
    "data['purpose_category'] = data.apply(lambda row: get_purpose_category(row['purpose_lemmas']), axis = 1)\n",
    "data['purpose_category'].value_counts().plot.pie()"
   ]
  },
  {
   "cell_type": "markdown",
   "metadata": {},
   "source": [
    "**Вывод**"
   ]
  },
  {
   "cell_type": "markdown",
   "metadata": {},
   "source": [
    "Ввели три категориальных значения для:\n",
    "- возраста ребенка\n",
    "- общего трудового стажа\n",
    "- общего дохода"
   ]
  },
  {
   "cell_type": "markdown",
   "metadata": {},
   "source": [
    "## Шаг 3. Поиск ответов на вопросы"
   ]
  },
  {
   "cell_type": "markdown",
   "metadata": {},
   "source": [
    "- Есть ли зависимость между наличием детей и возвратом кредита в срок?"
   ]
  },
  {
   "cell_type": "code",
   "execution_count": 64,
   "metadata": {},
   "outputs": [
    {
     "data": {
      "text/html": [
       "<div>\n",
       "<style scoped>\n",
       "    .dataframe tbody tr th:only-of-type {\n",
       "        vertical-align: middle;\n",
       "    }\n",
       "\n",
       "    .dataframe tbody tr th {\n",
       "        vertical-align: top;\n",
       "    }\n",
       "\n",
       "    .dataframe thead th {\n",
       "        text-align: right;\n",
       "    }\n",
       "</style>\n",
       "<table border=\"1\" class=\"dataframe\">\n",
       "  <thead>\n",
       "    <tr style=\"text-align: right;\">\n",
       "      <th>debt</th>\n",
       "      <th>no_debt</th>\n",
       "      <th>debt</th>\n",
       "      <th>debt_percent</th>\n",
       "    </tr>\n",
       "    <tr>\n",
       "      <th>children</th>\n",
       "      <th></th>\n",
       "      <th></th>\n",
       "      <th></th>\n",
       "    </tr>\n",
       "  </thead>\n",
       "  <tbody>\n",
       "    <tr>\n",
       "      <td>0</td>\n",
       "      <td>12963.0</td>\n",
       "      <td>1058.0</td>\n",
       "      <td>0.075458</td>\n",
       "    </tr>\n",
       "    <tr>\n",
       "      <td>1</td>\n",
       "      <td>4351.0</td>\n",
       "      <td>441.0</td>\n",
       "      <td>0.092028</td>\n",
       "    </tr>\n",
       "    <tr>\n",
       "      <td>2</td>\n",
       "      <td>1845.0</td>\n",
       "      <td>194.0</td>\n",
       "      <td>0.095145</td>\n",
       "    </tr>\n",
       "    <tr>\n",
       "      <td>3</td>\n",
       "      <td>301.0</td>\n",
       "      <td>27.0</td>\n",
       "      <td>0.082317</td>\n",
       "    </tr>\n",
       "    <tr>\n",
       "      <td>4</td>\n",
       "      <td>37.0</td>\n",
       "      <td>4.0</td>\n",
       "      <td>0.097561</td>\n",
       "    </tr>\n",
       "    <tr>\n",
       "      <td>5</td>\n",
       "      <td>9.0</td>\n",
       "      <td>NaN</td>\n",
       "      <td>NaN</td>\n",
       "    </tr>\n",
       "  </tbody>\n",
       "</table>\n",
       "</div>"
      ],
      "text/plain": [
       "debt      no_debt    debt  debt_percent\n",
       "children                               \n",
       "0         12963.0  1058.0      0.075458\n",
       "1          4351.0   441.0      0.092028\n",
       "2          1845.0   194.0      0.095145\n",
       "3           301.0    27.0      0.082317\n",
       "4            37.0     4.0      0.097561\n",
       "5             9.0     NaN           NaN"
      ]
     },
     "execution_count": 64,
     "metadata": {},
     "output_type": "execute_result"
    }
   ],
   "source": [
    "# Строим сводную таблицу\n",
    "data_children_debt = data.pivot_table(index = 'children', columns='debt', values='total_income', aggfunc='count')\n",
    "data_children_debt.rename(columns={0: 'no_debt', 1 : 'debt'}, inplace=True)\n",
    "data_children_debt['debt_percent'] = data_children_debt['debt'] / (data_children_debt['no_debt'] + data_children_debt['debt'])\n",
    "data_children_debt"
   ]
  },
  {
   "cell_type": "markdown",
   "metadata": {},
   "source": [
    "**Вывод**"
   ]
  },
  {
   "cell_type": "markdown",
   "metadata": {},
   "source": [
    "Есть небольшой рост % должников, начиная с 1-го ребенка, но он не существенный.\n",
    "В целом, зависимости между количеством детей и возвратом кредита не выявлено. "
   ]
  },
  {
   "cell_type": "markdown",
   "metadata": {},
   "source": [
    "- Есть ли зависимость между семейным положением и возвратом кредита в срок?"
   ]
  },
  {
   "cell_type": "code",
   "execution_count": 65,
   "metadata": {},
   "outputs": [
    {
     "data": {
      "text/html": [
       "<div>\n",
       "<style scoped>\n",
       "    .dataframe tbody tr th:only-of-type {\n",
       "        vertical-align: middle;\n",
       "    }\n",
       "\n",
       "    .dataframe tbody tr th {\n",
       "        vertical-align: top;\n",
       "    }\n",
       "\n",
       "    .dataframe thead th {\n",
       "        text-align: right;\n",
       "    }\n",
       "</style>\n",
       "<table border=\"1\" class=\"dataframe\">\n",
       "  <thead>\n",
       "    <tr style=\"text-align: right;\">\n",
       "      <th>debt</th>\n",
       "      <th>no_debt</th>\n",
       "      <th>debt</th>\n",
       "      <th>debt_percent</th>\n",
       "    </tr>\n",
       "    <tr>\n",
       "      <th>family_status</th>\n",
       "      <th></th>\n",
       "      <th></th>\n",
       "      <th></th>\n",
       "    </tr>\n",
       "  </thead>\n",
       "  <tbody>\n",
       "    <tr>\n",
       "      <td>Не женат / не замужем</td>\n",
       "      <td>2508</td>\n",
       "      <td>272</td>\n",
       "      <td>0.097842</td>\n",
       "    </tr>\n",
       "    <tr>\n",
       "      <td>в разводе</td>\n",
       "      <td>1095</td>\n",
       "      <td>84</td>\n",
       "      <td>0.071247</td>\n",
       "    </tr>\n",
       "    <tr>\n",
       "      <td>вдовец / вдова</td>\n",
       "      <td>884</td>\n",
       "      <td>62</td>\n",
       "      <td>0.065539</td>\n",
       "    </tr>\n",
       "    <tr>\n",
       "      <td>гражданский брак</td>\n",
       "      <td>3729</td>\n",
       "      <td>383</td>\n",
       "      <td>0.093142</td>\n",
       "    </tr>\n",
       "    <tr>\n",
       "      <td>женат / замужем</td>\n",
       "      <td>11290</td>\n",
       "      <td>923</td>\n",
       "      <td>0.075575</td>\n",
       "    </tr>\n",
       "  </tbody>\n",
       "</table>\n",
       "</div>"
      ],
      "text/plain": [
       "debt                   no_debt  debt  debt_percent\n",
       "family_status                                     \n",
       "Не женат / не замужем     2508   272      0.097842\n",
       "в разводе                 1095    84      0.071247\n",
       "вдовец / вдова             884    62      0.065539\n",
       "гражданский брак          3729   383      0.093142\n",
       "женат / замужем          11290   923      0.075575"
      ]
     },
     "execution_count": 65,
     "metadata": {},
     "output_type": "execute_result"
    }
   ],
   "source": [
    "# Строим сводную таблицу\n",
    "data_children_debt = data.pivot_table(index = 'family_status', columns='debt', values='total_income', aggfunc='count')\n",
    "data_children_debt.rename(columns={0: 'no_debt', 1 : 'debt'}, inplace=True)\n",
    "data_children_debt['debt_percent'] = data_children_debt['debt'] / (data_children_debt['no_debt'] + data_children_debt['debt'])\n",
    "data_children_debt"
   ]
  },
  {
   "cell_type": "markdown",
   "metadata": {},
   "source": [
    "**Вывод**"
   ]
  },
  {
   "cell_type": "markdown",
   "metadata": {},
   "source": [
    "Холостые заемщики, а также заемщики, находящиеся в гражданском браке, имеют больший % задолженности, нежели женатые. \n",
    "\n",
    "Наименший % задолженности - вдовцы/вдовы"
   ]
  },
  {
   "cell_type": "markdown",
   "metadata": {},
   "source": [
    "- Есть ли зависимость между уровнем дохода и возвратом кредита в срок?"
   ]
  },
  {
   "cell_type": "code",
   "execution_count": 66,
   "metadata": {},
   "outputs": [
    {
     "data": {
      "text/html": [
       "<div>\n",
       "<style scoped>\n",
       "    .dataframe tbody tr th:only-of-type {\n",
       "        vertical-align: middle;\n",
       "    }\n",
       "\n",
       "    .dataframe tbody tr th {\n",
       "        vertical-align: top;\n",
       "    }\n",
       "\n",
       "    .dataframe thead th {\n",
       "        text-align: right;\n",
       "    }\n",
       "</style>\n",
       "<table border=\"1\" class=\"dataframe\">\n",
       "  <thead>\n",
       "    <tr style=\"text-align: right;\">\n",
       "      <th>debt</th>\n",
       "      <th>no_debt</th>\n",
       "      <th>debt</th>\n",
       "      <th>debt_percent</th>\n",
       "    </tr>\n",
       "    <tr>\n",
       "      <th>total_income_category</th>\n",
       "      <th></th>\n",
       "      <th></th>\n",
       "      <th></th>\n",
       "    </tr>\n",
       "  </thead>\n",
       "  <tbody>\n",
       "    <tr>\n",
       "      <td>высокий</td>\n",
       "      <td>15438</td>\n",
       "      <td>1371</td>\n",
       "      <td>0.081563</td>\n",
       "    </tr>\n",
       "    <tr>\n",
       "      <td>выше среднего</td>\n",
       "      <td>3320</td>\n",
       "      <td>304</td>\n",
       "      <td>0.083885</td>\n",
       "    </tr>\n",
       "    <tr>\n",
       "      <td>низкий</td>\n",
       "      <td>20</td>\n",
       "      <td>2</td>\n",
       "      <td>0.090909</td>\n",
       "    </tr>\n",
       "    <tr>\n",
       "      <td>средний</td>\n",
       "      <td>728</td>\n",
       "      <td>47</td>\n",
       "      <td>0.060645</td>\n",
       "    </tr>\n",
       "  </tbody>\n",
       "</table>\n",
       "</div>"
      ],
      "text/plain": [
       "debt                   no_debt  debt  debt_percent\n",
       "total_income_category                             \n",
       "высокий                  15438  1371      0.081563\n",
       "выше среднего             3320   304      0.083885\n",
       "низкий                      20     2      0.090909\n",
       "средний                    728    47      0.060645"
      ]
     },
     "execution_count": 66,
     "metadata": {},
     "output_type": "execute_result"
    }
   ],
   "source": [
    "data_children_debt = data.pivot_table(index = 'total_income_category', columns='debt', values='family_status', aggfunc='count')\n",
    "data_children_debt.rename(columns={0: 'no_debt', 1 : 'debt'}, inplace=True)\n",
    "data_children_debt['debt_percent'] = data_children_debt['debt'] / (data_children_debt['no_debt'] + data_children_debt['debt'])\n",
    "data_children_debt"
   ]
  },
  {
   "cell_type": "markdown",
   "metadata": {},
   "source": [
    "**Вывод**"
   ]
  },
  {
   "cell_type": "markdown",
   "metadata": {},
   "source": [
    "Наименьший процент задолженности у людей со средним уровнем доходов (30-60 тыс руб.) \n",
    "\n",
    "В остальных категориях отличия не существенные. Зависимости не выявлено"
   ]
  },
  {
   "cell_type": "markdown",
   "metadata": {},
   "source": [
    "- Как разные цели кредита влияют на его возврат в срок?"
   ]
  },
  {
   "cell_type": "code",
   "execution_count": 67,
   "metadata": {},
   "outputs": [
    {
     "data": {
      "text/html": [
       "<div>\n",
       "<style scoped>\n",
       "    .dataframe tbody tr th:only-of-type {\n",
       "        vertical-align: middle;\n",
       "    }\n",
       "\n",
       "    .dataframe tbody tr th {\n",
       "        vertical-align: top;\n",
       "    }\n",
       "\n",
       "    .dataframe thead th {\n",
       "        text-align: right;\n",
       "    }\n",
       "</style>\n",
       "<table border=\"1\" class=\"dataframe\">\n",
       "  <thead>\n",
       "    <tr style=\"text-align: right;\">\n",
       "      <th>debt</th>\n",
       "      <th>no_debt</th>\n",
       "      <th>debt</th>\n",
       "      <th>debt_percent</th>\n",
       "    </tr>\n",
       "    <tr>\n",
       "      <th>purpose_category</th>\n",
       "      <th></th>\n",
       "      <th></th>\n",
       "      <th></th>\n",
       "    </tr>\n",
       "  </thead>\n",
       "  <tbody>\n",
       "    <tr>\n",
       "      <td>автомобиль</td>\n",
       "      <td>3861</td>\n",
       "      <td>397</td>\n",
       "      <td>0.093236</td>\n",
       "    </tr>\n",
       "    <tr>\n",
       "      <td>недвижимость</td>\n",
       "      <td>9359</td>\n",
       "      <td>742</td>\n",
       "      <td>0.073458</td>\n",
       "    </tr>\n",
       "    <tr>\n",
       "      <td>образование</td>\n",
       "      <td>3601</td>\n",
       "      <td>369</td>\n",
       "      <td>0.092947</td>\n",
       "    </tr>\n",
       "    <tr>\n",
       "      <td>ремонт</td>\n",
       "      <td>567</td>\n",
       "      <td>35</td>\n",
       "      <td>0.058140</td>\n",
       "    </tr>\n",
       "    <tr>\n",
       "      <td>свадьба</td>\n",
       "      <td>2118</td>\n",
       "      <td>181</td>\n",
       "      <td>0.078730</td>\n",
       "    </tr>\n",
       "  </tbody>\n",
       "</table>\n",
       "</div>"
      ],
      "text/plain": [
       "debt              no_debt  debt  debt_percent\n",
       "purpose_category                             \n",
       "автомобиль           3861   397      0.093236\n",
       "недвижимость         9359   742      0.073458\n",
       "образование          3601   369      0.092947\n",
       "ремонт                567    35      0.058140\n",
       "свадьба              2118   181      0.078730"
      ]
     },
     "execution_count": 67,
     "metadata": {},
     "output_type": "execute_result"
    }
   ],
   "source": [
    "data_children_debt = data.pivot_table(index = 'purpose_category', columns='debt', values='family_status', aggfunc='count')\n",
    "data_children_debt.rename(columns={0: 'no_debt', 1 : 'debt'}, inplace=True)\n",
    "data_children_debt['debt_percent'] = data_children_debt['debt'] / (data_children_debt['no_debt'] + data_children_debt['debt'])\n",
    "data_children_debt"
   ]
  },
  {
   "cell_type": "markdown",
   "metadata": {},
   "source": [
    "**Вывод**"
   ]
  },
  {
   "cell_type": "markdown",
   "metadata": {},
   "source": [
    "Цели кредита практически не влияют на возможную задолженность платежей. Зависимости не выявлено"
   ]
  },
  {
   "cell_type": "markdown",
   "metadata": {},
   "source": [
    "## Шаг 4. Общий вывод"
   ]
  },
  {
   "cell_type": "markdown",
   "metadata": {},
   "source": [
    "Провели преодобработку данных (заполнили пропуски, удалил дубли, разобрались с некорректными значениями в данных)\n",
    "Провели общий анализ данных, в т.ч. графически.\n",
    "\n",
    "Проанализировано влияние нескольких факторов на возникновении задолженности платежа кредита:\n",
    "- количество детей\n",
    "- семейное положение\n",
    "- уровень дохода\n",
    "- цели кредита\n",
    "\n",
    "Наиболее влияение оказывает семейное положение заемщика. Семьи-заемщики и вдовцы имееют наилучшие результаты.\n",
    "\n",
    "Также можно отметить, что заемщики со средним уровнем дохода (30-60 тыс) имеют наилучшие срока платежей по кредиту"
   ]
  }
 ],
 "metadata": {
  "ExecuteTimeLog": [
   {
    "duration": 802,
    "start_time": "2021-12-25T04:25:49.683Z"
   },
   {
    "duration": 15,
    "start_time": "2021-12-25T04:26:17.989Z"
   },
   {
    "duration": 30,
    "start_time": "2021-12-25T04:26:36.082Z"
   },
   {
    "duration": 16,
    "start_time": "2021-12-25T04:26:44.556Z"
   },
   {
    "duration": 390,
    "start_time": "2021-12-25T04:32:22.492Z"
   },
   {
    "duration": 271,
    "start_time": "2021-12-25T04:32:44.658Z"
   },
   {
    "duration": 279,
    "start_time": "2021-12-25T04:33:30.044Z"
   },
   {
    "duration": 6,
    "start_time": "2021-12-25T04:33:45.609Z"
   },
   {
    "duration": 333,
    "start_time": "2021-12-25T04:33:58.393Z"
   },
   {
    "duration": 6,
    "start_time": "2021-12-25T04:34:10.625Z"
   },
   {
    "duration": 6,
    "start_time": "2021-12-25T04:34:39.664Z"
   },
   {
    "duration": 7,
    "start_time": "2021-12-25T04:34:49.800Z"
   },
   {
    "duration": 7,
    "start_time": "2021-12-25T04:35:00.137Z"
   },
   {
    "duration": 377,
    "start_time": "2021-12-25T04:35:16.297Z"
   },
   {
    "duration": 92,
    "start_time": "2021-12-25T04:35:19.642Z"
   },
   {
    "duration": 270,
    "start_time": "2021-12-25T04:35:22.456Z"
   },
   {
    "duration": 7,
    "start_time": "2021-12-25T04:35:31.808Z"
   },
   {
    "duration": 12,
    "start_time": "2021-12-25T04:35:36.573Z"
   },
   {
    "duration": 11,
    "start_time": "2021-12-25T04:44:26.208Z"
   },
   {
    "duration": 10,
    "start_time": "2021-12-25T04:44:50.252Z"
   },
   {
    "duration": 661,
    "start_time": "2021-12-25T04:45:10.775Z"
   },
   {
    "duration": 248,
    "start_time": "2021-12-25T04:45:15.195Z"
   },
   {
    "duration": 678,
    "start_time": "2021-12-25T04:45:41.101Z"
   },
   {
    "duration": 866,
    "start_time": "2021-12-25T04:45:51.396Z"
   },
   {
    "duration": 291,
    "start_time": "2021-12-25T04:46:05.797Z"
   },
   {
    "duration": 304,
    "start_time": "2021-12-25T04:46:09.460Z"
   },
   {
    "duration": 12,
    "start_time": "2021-12-25T04:46:26.042Z"
   },
   {
    "duration": 11,
    "start_time": "2021-12-25T04:46:32.586Z"
   },
   {
    "duration": 11,
    "start_time": "2021-12-25T04:47:08.801Z"
   },
   {
    "duration": 101,
    "start_time": "2021-12-25T04:47:19.875Z"
   },
   {
    "duration": 8,
    "start_time": "2021-12-25T04:47:22.873Z"
   },
   {
    "duration": 526,
    "start_time": "2021-12-25T04:49:28.430Z"
   },
   {
    "duration": 349,
    "start_time": "2021-12-25T04:49:37.110Z"
   },
   {
    "duration": 8,
    "start_time": "2021-12-25T04:50:41.948Z"
   },
   {
    "duration": 8,
    "start_time": "2021-12-25T04:50:45.356Z"
   },
   {
    "duration": 16,
    "start_time": "2021-12-25T04:50:56.245Z"
   },
   {
    "duration": 300,
    "start_time": "2021-12-25T04:51:40.835Z"
   },
   {
    "duration": 46,
    "start_time": "2021-12-25T04:51:44.675Z"
   },
   {
    "duration": 10,
    "start_time": "2021-12-25T04:51:53.996Z"
   },
   {
    "duration": 10,
    "start_time": "2021-12-25T04:52:17.413Z"
   },
   {
    "duration": 10,
    "start_time": "2021-12-25T04:52:32.737Z"
   },
   {
    "duration": 8,
    "start_time": "2021-12-25T04:52:50.604Z"
   },
   {
    "duration": 7,
    "start_time": "2021-12-25T04:53:40.969Z"
   },
   {
    "duration": 398,
    "start_time": "2021-12-25T04:55:12.691Z"
   },
   {
    "duration": 6,
    "start_time": "2021-12-25T04:56:44.750Z"
   },
   {
    "duration": 7,
    "start_time": "2021-12-25T04:57:01.804Z"
   },
   {
    "duration": 273,
    "start_time": "2021-12-25T04:57:29.204Z"
   },
   {
    "duration": 218,
    "start_time": "2021-12-25T04:57:34.109Z"
   },
   {
    "duration": 394,
    "start_time": "2021-12-25T04:58:54.190Z"
   },
   {
    "duration": 211,
    "start_time": "2021-12-25T04:59:56.963Z"
   },
   {
    "duration": 13,
    "start_time": "2021-12-25T05:00:32.753Z"
   },
   {
    "duration": 725,
    "start_time": "2021-12-25T05:01:13.457Z"
   },
   {
    "duration": 9,
    "start_time": "2021-12-25T05:01:28.009Z"
   },
   {
    "duration": 6,
    "start_time": "2021-12-25T05:02:51.360Z"
   },
   {
    "duration": 7,
    "start_time": "2021-12-25T05:02:58.600Z"
   },
   {
    "duration": 287,
    "start_time": "2021-12-26T09:17:34.265Z"
   },
   {
    "duration": 256,
    "start_time": "2021-12-26T09:17:44.009Z"
   },
   {
    "duration": 257,
    "start_time": "2021-12-26T09:17:52.473Z"
   },
   {
    "duration": 661,
    "start_time": "2021-12-26T09:17:55.261Z"
   },
   {
    "duration": 13,
    "start_time": "2021-12-26T09:17:55.924Z"
   },
   {
    "duration": 21,
    "start_time": "2021-12-26T09:17:55.940Z"
   },
   {
    "duration": 3,
    "start_time": "2021-12-26T09:17:55.964Z"
   },
   {
    "duration": 19,
    "start_time": "2021-12-26T09:17:55.969Z"
   },
   {
    "duration": 5,
    "start_time": "2021-12-26T09:17:55.990Z"
   },
   {
    "duration": 9,
    "start_time": "2021-12-26T09:17:55.996Z"
   },
   {
    "duration": 5,
    "start_time": "2021-12-26T09:17:56.007Z"
   },
   {
    "duration": 306,
    "start_time": "2021-12-26T09:17:56.014Z"
   },
   {
    "duration": 4,
    "start_time": "2021-12-26T09:17:56.322Z"
   },
   {
    "duration": 168,
    "start_time": "2021-12-26T09:17:56.328Z"
   },
   {
    "duration": 4,
    "start_time": "2021-12-26T09:17:56.498Z"
   },
   {
    "duration": 143,
    "start_time": "2021-12-26T09:17:56.503Z"
   },
   {
    "duration": 223,
    "start_time": "2021-12-26T09:17:56.648Z"
   },
   {
    "duration": 144,
    "start_time": "2021-12-26T09:17:56.873Z"
   },
   {
    "duration": 9,
    "start_time": "2021-12-26T09:17:57.019Z"
   },
   {
    "duration": 5,
    "start_time": "2021-12-26T09:17:57.029Z"
   },
   {
    "duration": 26,
    "start_time": "2021-12-26T09:17:57.035Z"
   },
   {
    "duration": 281,
    "start_time": "2021-12-26T09:17:57.063Z"
   },
   {
    "duration": 5,
    "start_time": "2021-12-26T09:18:12.680Z"
   },
   {
    "duration": 6,
    "start_time": "2021-12-26T09:18:17.424Z"
   },
   {
    "duration": 6,
    "start_time": "2021-12-26T09:18:50.744Z"
   },
   {
    "duration": 6,
    "start_time": "2021-12-26T09:19:02.222Z"
   },
   {
    "duration": 8,
    "start_time": "2021-12-26T09:19:50.560Z"
   },
   {
    "duration": 9,
    "start_time": "2021-12-26T09:22:08.030Z"
   },
   {
    "duration": 12,
    "start_time": "2021-12-26T09:23:01.802Z"
   },
   {
    "duration": 8,
    "start_time": "2021-12-26T09:23:18.400Z"
   },
   {
    "duration": 50,
    "start_time": "2021-12-26T09:23:49.413Z"
   },
   {
    "duration": 12,
    "start_time": "2021-12-26T09:23:49.465Z"
   },
   {
    "duration": 12,
    "start_time": "2021-12-26T09:23:49.480Z"
   },
   {
    "duration": 10,
    "start_time": "2021-12-26T09:23:49.494Z"
   },
   {
    "duration": 11,
    "start_time": "2021-12-26T09:23:49.505Z"
   },
   {
    "duration": 5,
    "start_time": "2021-12-26T09:23:49.518Z"
   },
   {
    "duration": 39,
    "start_time": "2021-12-26T09:23:49.525Z"
   },
   {
    "duration": 5,
    "start_time": "2021-12-26T09:23:49.566Z"
   },
   {
    "duration": 230,
    "start_time": "2021-12-26T09:23:49.573Z"
   },
   {
    "duration": 5,
    "start_time": "2021-12-26T09:23:49.805Z"
   },
   {
    "duration": 218,
    "start_time": "2021-12-26T09:23:49.812Z"
   },
   {
    "duration": 4,
    "start_time": "2021-12-26T09:23:50.032Z"
   },
   {
    "duration": 153,
    "start_time": "2021-12-26T09:23:50.037Z"
   },
   {
    "duration": 174,
    "start_time": "2021-12-26T09:23:50.191Z"
   },
   {
    "duration": 148,
    "start_time": "2021-12-26T09:23:50.367Z"
   },
   {
    "duration": 9,
    "start_time": "2021-12-26T09:23:50.517Z"
   },
   {
    "duration": 5,
    "start_time": "2021-12-26T09:23:50.528Z"
   },
   {
    "duration": 27,
    "start_time": "2021-12-26T09:23:50.535Z"
   },
   {
    "duration": 6,
    "start_time": "2021-12-26T09:23:50.563Z"
   },
   {
    "duration": 5,
    "start_time": "2021-12-26T09:23:50.571Z"
   },
   {
    "duration": 10,
    "start_time": "2021-12-26T09:23:50.578Z"
   },
   {
    "duration": 260,
    "start_time": "2021-12-26T09:24:03.155Z"
   },
   {
    "duration": 5,
    "start_time": "2021-12-26T09:24:14.574Z"
   },
   {
    "duration": 9,
    "start_time": "2021-12-26T09:24:18.783Z"
   },
   {
    "duration": 12,
    "start_time": "2021-12-26T09:24:29.426Z"
   },
   {
    "duration": 278,
    "start_time": "2021-12-26T09:24:45.769Z"
   },
   {
    "duration": 272,
    "start_time": "2021-12-26T09:24:52.426Z"
   },
   {
    "duration": 10,
    "start_time": "2021-12-26T09:25:02.137Z"
   },
   {
    "duration": 2,
    "start_time": "2021-12-26T09:25:30.050Z"
   },
   {
    "duration": 4,
    "start_time": "2021-12-26T09:29:59.984Z"
   },
   {
    "duration": 6,
    "start_time": "2021-12-26T09:30:20.666Z"
   },
   {
    "duration": 6,
    "start_time": "2021-12-26T09:30:55.264Z"
   },
   {
    "duration": 6,
    "start_time": "2021-12-26T09:31:02.399Z"
   },
   {
    "duration": 51,
    "start_time": "2021-12-26T09:31:05.453Z"
   },
   {
    "duration": 11,
    "start_time": "2021-12-26T09:31:05.505Z"
   },
   {
    "duration": 10,
    "start_time": "2021-12-26T09:31:05.518Z"
   },
   {
    "duration": 35,
    "start_time": "2021-12-26T09:31:05.530Z"
   },
   {
    "duration": 10,
    "start_time": "2021-12-26T09:31:05.567Z"
   },
   {
    "duration": 6,
    "start_time": "2021-12-26T09:31:05.579Z"
   },
   {
    "duration": 8,
    "start_time": "2021-12-26T09:31:05.587Z"
   },
   {
    "duration": 6,
    "start_time": "2021-12-26T09:31:05.597Z"
   },
   {
    "duration": 266,
    "start_time": "2021-12-26T09:31:05.607Z"
   },
   {
    "duration": 5,
    "start_time": "2021-12-26T09:31:05.876Z"
   },
   {
    "duration": 183,
    "start_time": "2021-12-26T09:31:05.883Z"
   },
   {
    "duration": 6,
    "start_time": "2021-12-26T09:31:06.068Z"
   },
   {
    "duration": 155,
    "start_time": "2021-12-26T09:31:06.075Z"
   },
   {
    "duration": 178,
    "start_time": "2021-12-26T09:31:06.231Z"
   },
   {
    "duration": 140,
    "start_time": "2021-12-26T09:31:06.411Z"
   },
   {
    "duration": 13,
    "start_time": "2021-12-26T09:31:06.553Z"
   },
   {
    "duration": 6,
    "start_time": "2021-12-26T09:31:06.568Z"
   },
   {
    "duration": 15,
    "start_time": "2021-12-26T09:31:06.576Z"
   },
   {
    "duration": 8,
    "start_time": "2021-12-26T09:31:06.593Z"
   },
   {
    "duration": 4,
    "start_time": "2021-12-26T09:31:06.603Z"
   },
   {
    "duration": 10,
    "start_time": "2021-12-26T09:31:06.609Z"
   },
   {
    "duration": 50,
    "start_time": "2021-12-26T09:31:06.621Z"
   },
   {
    "duration": 6,
    "start_time": "2021-12-26T09:31:06.673Z"
   },
   {
    "duration": 6,
    "start_time": "2021-12-26T09:31:39.726Z"
   },
   {
    "duration": 5,
    "start_time": "2021-12-26T09:32:08.276Z"
   },
   {
    "duration": 10,
    "start_time": "2021-12-26T09:32:19.942Z"
   },
   {
    "duration": 5,
    "start_time": "2021-12-26T09:33:19.275Z"
   },
   {
    "duration": 26,
    "start_time": "2021-12-26T09:34:30.640Z"
   },
   {
    "duration": 27,
    "start_time": "2021-12-26T09:34:37.412Z"
   },
   {
    "duration": 19,
    "start_time": "2021-12-26T09:35:09.314Z"
   },
   {
    "duration": 17,
    "start_time": "2021-12-26T09:36:14.656Z"
   },
   {
    "duration": 24,
    "start_time": "2021-12-26T09:37:34.462Z"
   },
   {
    "duration": 10,
    "start_time": "2021-12-26T09:38:14.191Z"
   },
   {
    "duration": 6474,
    "start_time": "2021-12-26T09:38:44.340Z"
   },
   {
    "duration": 5,
    "start_time": "2021-12-26T09:38:54.282Z"
   },
   {
    "duration": -99,
    "start_time": "2021-12-26T09:39:12.127Z"
   },
   {
    "duration": -144,
    "start_time": "2021-12-26T09:39:48.081Z"
   },
   {
    "duration": 4,
    "start_time": "2021-12-26T09:39:52.529Z"
   },
   {
    "duration": 5,
    "start_time": "2021-12-26T09:39:55.563Z"
   },
   {
    "duration": 24,
    "start_time": "2021-12-26T09:40:13.402Z"
   },
   {
    "duration": 124,
    "start_time": "2021-12-26T09:40:59.425Z"
   },
   {
    "duration": 6,
    "start_time": "2021-12-26T09:41:02.953Z"
   },
   {
    "duration": 6,
    "start_time": "2021-12-26T09:41:12.411Z"
   },
   {
    "duration": 6,
    "start_time": "2021-12-26T09:41:15.808Z"
   },
   {
    "duration": 6,
    "start_time": "2021-12-26T09:41:21.880Z"
   },
   {
    "duration": 6,
    "start_time": "2021-12-26T09:41:38.290Z"
   },
   {
    "duration": 3891,
    "start_time": "2021-12-26T09:46:00.101Z"
   },
   {
    "duration": 57,
    "start_time": "2021-12-26T09:46:41.583Z"
   },
   {
    "duration": 13,
    "start_time": "2021-12-26T09:46:41.642Z"
   },
   {
    "duration": 13,
    "start_time": "2021-12-26T09:46:41.657Z"
   },
   {
    "duration": 7,
    "start_time": "2021-12-26T09:46:41.673Z"
   },
   {
    "duration": 12,
    "start_time": "2021-12-26T09:46:41.682Z"
   },
   {
    "duration": 7,
    "start_time": "2021-12-26T09:46:41.696Z"
   },
   {
    "duration": 12,
    "start_time": "2021-12-26T09:46:41.705Z"
   },
   {
    "duration": 42,
    "start_time": "2021-12-26T09:46:41.719Z"
   },
   {
    "duration": 239,
    "start_time": "2021-12-26T09:46:41.763Z"
   },
   {
    "duration": 4,
    "start_time": "2021-12-26T09:46:42.004Z"
   },
   {
    "duration": 179,
    "start_time": "2021-12-26T09:46:42.010Z"
   },
   {
    "duration": 5,
    "start_time": "2021-12-26T09:46:42.190Z"
   },
   {
    "duration": 155,
    "start_time": "2021-12-26T09:46:42.196Z"
   },
   {
    "duration": 179,
    "start_time": "2021-12-26T09:46:42.353Z"
   },
   {
    "duration": 148,
    "start_time": "2021-12-26T09:46:42.533Z"
   },
   {
    "duration": 9,
    "start_time": "2021-12-26T09:46:42.683Z"
   },
   {
    "duration": 6,
    "start_time": "2021-12-26T09:46:42.694Z"
   },
   {
    "duration": 7,
    "start_time": "2021-12-26T09:46:42.702Z"
   },
   {
    "duration": 5,
    "start_time": "2021-12-26T09:46:42.711Z"
   },
   {
    "duration": 4,
    "start_time": "2021-12-26T09:46:42.717Z"
   },
   {
    "duration": 41,
    "start_time": "2021-12-26T09:46:42.722Z"
   },
   {
    "duration": 27,
    "start_time": "2021-12-26T09:46:42.765Z"
   },
   {
    "duration": 17,
    "start_time": "2021-12-26T09:46:42.794Z"
   },
   {
    "duration": 3,
    "start_time": "2021-12-26T09:46:42.813Z"
   },
   {
    "duration": 12,
    "start_time": "2021-12-26T09:46:42.818Z"
   },
   {
    "duration": 4068,
    "start_time": "2021-12-26T09:46:42.831Z"
   },
   {
    "duration": -190,
    "start_time": "2021-12-26T09:46:47.091Z"
   },
   {
    "duration": -200,
    "start_time": "2021-12-26T09:46:47.102Z"
   },
   {
    "duration": -203,
    "start_time": "2021-12-26T09:46:47.106Z"
   },
   {
    "duration": 384,
    "start_time": "2021-12-26T09:48:15.754Z"
   },
   {
    "duration": 11,
    "start_time": "2021-12-26T09:48:25.784Z"
   },
   {
    "duration": 9,
    "start_time": "2021-12-26T09:48:54.048Z"
   },
   {
    "duration": 5,
    "start_time": "2021-12-26T09:54:16.374Z"
   },
   {
    "duration": 23,
    "start_time": "2021-12-26T09:54:26.321Z"
   },
   {
    "duration": 6,
    "start_time": "2021-12-26T09:54:47.460Z"
   },
   {
    "duration": 90,
    "start_time": "2021-12-26T09:55:07.456Z"
   },
   {
    "duration": 6,
    "start_time": "2021-12-26T09:55:10.056Z"
   },
   {
    "duration": 7,
    "start_time": "2021-12-26T09:56:11.318Z"
   },
   {
    "duration": 6,
    "start_time": "2021-12-26T09:56:19.162Z"
   },
   {
    "duration": 6,
    "start_time": "2021-12-26T09:56:50.329Z"
   },
   {
    "duration": 5,
    "start_time": "2021-12-26T09:57:40.981Z"
   },
   {
    "duration": 5,
    "start_time": "2021-12-26T09:57:43.788Z"
   },
   {
    "duration": 4,
    "start_time": "2021-12-26T09:57:59.767Z"
   },
   {
    "duration": 22,
    "start_time": "2021-12-26T09:58:34.220Z"
   },
   {
    "duration": 6,
    "start_time": "2021-12-26T09:59:20.858Z"
   },
   {
    "duration": 8,
    "start_time": "2021-12-26T10:00:05.692Z"
   },
   {
    "duration": 9,
    "start_time": "2021-12-26T10:00:12.275Z"
   },
   {
    "duration": 55,
    "start_time": "2021-12-26T10:00:46.039Z"
   },
   {
    "duration": 10,
    "start_time": "2021-12-26T10:00:46.096Z"
   },
   {
    "duration": 17,
    "start_time": "2021-12-26T10:00:46.108Z"
   },
   {
    "duration": 5,
    "start_time": "2021-12-26T10:00:46.127Z"
   },
   {
    "duration": 9,
    "start_time": "2021-12-26T10:00:46.161Z"
   },
   {
    "duration": 4,
    "start_time": "2021-12-26T10:00:46.172Z"
   },
   {
    "duration": 7,
    "start_time": "2021-12-26T10:00:46.178Z"
   },
   {
    "duration": 5,
    "start_time": "2021-12-26T10:00:46.187Z"
   },
   {
    "duration": 263,
    "start_time": "2021-12-26T10:00:46.194Z"
   },
   {
    "duration": 4,
    "start_time": "2021-12-26T10:00:46.461Z"
   },
   {
    "duration": 189,
    "start_time": "2021-12-26T10:00:46.467Z"
   },
   {
    "duration": 5,
    "start_time": "2021-12-26T10:00:46.661Z"
   },
   {
    "duration": 201,
    "start_time": "2021-12-26T10:00:46.668Z"
   },
   {
    "duration": 202,
    "start_time": "2021-12-26T10:00:46.872Z"
   },
   {
    "duration": 148,
    "start_time": "2021-12-26T10:00:47.076Z"
   },
   {
    "duration": 8,
    "start_time": "2021-12-26T10:00:47.226Z"
   },
   {
    "duration": 5,
    "start_time": "2021-12-26T10:00:47.236Z"
   },
   {
    "duration": 6,
    "start_time": "2021-12-26T10:00:47.261Z"
   },
   {
    "duration": 6,
    "start_time": "2021-12-26T10:00:47.269Z"
   },
   {
    "duration": 7,
    "start_time": "2021-12-26T10:00:47.277Z"
   },
   {
    "duration": 5,
    "start_time": "2021-12-26T10:00:47.286Z"
   },
   {
    "duration": 14,
    "start_time": "2021-12-26T10:00:47.292Z"
   },
   {
    "duration": 58,
    "start_time": "2021-12-26T10:00:47.307Z"
   },
   {
    "duration": 4,
    "start_time": "2021-12-26T10:00:47.367Z"
   },
   {
    "duration": 8,
    "start_time": "2021-12-26T10:00:47.372Z"
   },
   {
    "duration": 379,
    "start_time": "2021-12-26T10:00:47.382Z"
   },
   {
    "duration": 8,
    "start_time": "2021-12-26T10:00:47.764Z"
   },
   {
    "duration": 5,
    "start_time": "2021-12-26T10:00:47.774Z"
   },
   {
    "duration": 5,
    "start_time": "2021-12-26T10:00:47.781Z"
   },
   {
    "duration": 12,
    "start_time": "2021-12-26T10:00:47.787Z"
   },
   {
    "duration": 4,
    "start_time": "2021-12-26T10:00:47.801Z"
   },
   {
    "duration": 8,
    "start_time": "2021-12-26T10:00:47.806Z"
   },
   {
    "duration": 49,
    "start_time": "2021-12-26T10:00:47.816Z"
   },
   {
    "duration": 8,
    "start_time": "2021-12-26T10:00:47.867Z"
   },
   {
    "duration": 8,
    "start_time": "2021-12-26T10:00:47.876Z"
   },
   {
    "duration": 6,
    "start_time": "2021-12-26T10:01:31.674Z"
   },
   {
    "duration": 6,
    "start_time": "2021-12-26T10:01:45.101Z"
   },
   {
    "duration": 51,
    "start_time": "2021-12-26T10:01:47.225Z"
   },
   {
    "duration": 10,
    "start_time": "2021-12-26T10:01:47.278Z"
   },
   {
    "duration": 16,
    "start_time": "2021-12-26T10:01:47.290Z"
   },
   {
    "duration": 23,
    "start_time": "2021-12-26T10:01:47.308Z"
   },
   {
    "duration": 9,
    "start_time": "2021-12-26T10:01:47.333Z"
   },
   {
    "duration": 20,
    "start_time": "2021-12-26T10:01:47.344Z"
   },
   {
    "duration": 24,
    "start_time": "2021-12-26T10:01:47.366Z"
   },
   {
    "duration": 12,
    "start_time": "2021-12-26T10:01:47.392Z"
   },
   {
    "duration": 223,
    "start_time": "2021-12-26T10:01:47.407Z"
   },
   {
    "duration": 4,
    "start_time": "2021-12-26T10:01:47.632Z"
   },
   {
    "duration": 162,
    "start_time": "2021-12-26T10:01:47.638Z"
   },
   {
    "duration": 4,
    "start_time": "2021-12-26T10:01:47.801Z"
   },
   {
    "duration": 145,
    "start_time": "2021-12-26T10:01:47.807Z"
   },
   {
    "duration": 178,
    "start_time": "2021-12-26T10:01:47.954Z"
   },
   {
    "duration": 136,
    "start_time": "2021-12-26T10:01:48.133Z"
   },
   {
    "duration": 8,
    "start_time": "2021-12-26T10:01:48.270Z"
   },
   {
    "duration": 5,
    "start_time": "2021-12-26T10:01:48.280Z"
   },
   {
    "duration": 5,
    "start_time": "2021-12-26T10:01:48.287Z"
   },
   {
    "duration": 5,
    "start_time": "2021-12-26T10:01:48.294Z"
   },
   {
    "duration": 4,
    "start_time": "2021-12-26T10:01:48.301Z"
   },
   {
    "duration": 53,
    "start_time": "2021-12-26T10:01:48.308Z"
   },
   {
    "duration": 14,
    "start_time": "2021-12-26T10:01:48.363Z"
   },
   {
    "duration": 19,
    "start_time": "2021-12-26T10:01:48.379Z"
   },
   {
    "duration": 5,
    "start_time": "2021-12-26T10:01:48.400Z"
   },
   {
    "duration": 10,
    "start_time": "2021-12-26T10:01:48.407Z"
   },
   {
    "duration": 433,
    "start_time": "2021-12-26T10:01:48.419Z"
   },
   {
    "duration": 10,
    "start_time": "2021-12-26T10:01:48.856Z"
   },
   {
    "duration": 5,
    "start_time": "2021-12-26T10:01:48.868Z"
   },
   {
    "duration": 10,
    "start_time": "2021-12-26T10:01:48.875Z"
   },
   {
    "duration": 10,
    "start_time": "2021-12-26T10:01:48.886Z"
   },
   {
    "duration": 4,
    "start_time": "2021-12-26T10:01:48.898Z"
   },
   {
    "duration": 8,
    "start_time": "2021-12-26T10:01:48.903Z"
   },
   {
    "duration": 51,
    "start_time": "2021-12-26T10:01:48.913Z"
   },
   {
    "duration": 9,
    "start_time": "2021-12-26T10:01:48.966Z"
   },
   {
    "duration": 10,
    "start_time": "2021-12-26T10:01:48.977Z"
   },
   {
    "duration": 9,
    "start_time": "2021-12-26T10:02:16.609Z"
   },
   {
    "duration": 2,
    "start_time": "2021-12-26T10:03:29.009Z"
   },
   {
    "duration": 5,
    "start_time": "2021-12-26T10:03:49.918Z"
   },
   {
    "duration": 15,
    "start_time": "2021-12-26T10:04:05.399Z"
   },
   {
    "duration": 14,
    "start_time": "2021-12-26T10:04:07.415Z"
   },
   {
    "duration": 359,
    "start_time": "2021-12-26T10:05:03.172Z"
   },
   {
    "duration": 8,
    "start_time": "2021-12-26T10:05:07.119Z"
   },
   {
    "duration": 7,
    "start_time": "2021-12-26T10:05:51.461Z"
   },
   {
    "duration": 85,
    "start_time": "2021-12-26T10:06:13.270Z"
   },
   {
    "duration": 5,
    "start_time": "2021-12-26T10:06:17.823Z"
   },
   {
    "duration": 8,
    "start_time": "2021-12-26T10:06:34.325Z"
   },
   {
    "duration": 2,
    "start_time": "2021-12-26T10:07:28.498Z"
   },
   {
    "duration": 7,
    "start_time": "2021-12-26T10:08:07.154Z"
   },
   {
    "duration": 9,
    "start_time": "2021-12-26T10:08:12.905Z"
   },
   {
    "duration": 262,
    "start_time": "2021-12-26T10:08:26.145Z"
   },
   {
    "duration": 6,
    "start_time": "2021-12-26T10:08:29.642Z"
   },
   {
    "duration": 13,
    "start_time": "2021-12-26T10:08:43.266Z"
   },
   {
    "duration": 17,
    "start_time": "2021-12-26T10:08:56.709Z"
   },
   {
    "duration": 7,
    "start_time": "2021-12-26T10:09:15.961Z"
   },
   {
    "duration": 128,
    "start_time": "2021-12-26T10:09:47.625Z"
   },
   {
    "duration": 3,
    "start_time": "2021-12-26T10:10:21.965Z"
   },
   {
    "duration": 143,
    "start_time": "2021-12-26T10:10:45.312Z"
   },
   {
    "duration": 3,
    "start_time": "2021-12-26T10:13:23.588Z"
   },
   {
    "duration": 265,
    "start_time": "2021-12-26T10:14:04.242Z"
   },
   {
    "duration": 1224,
    "start_time": "2021-12-26T10:14:19.710Z"
   },
   {
    "duration": 352,
    "start_time": "2021-12-26T10:14:49.601Z"
   },
   {
    "duration": 11,
    "start_time": "2021-12-26T10:15:12.468Z"
   },
   {
    "duration": 159,
    "start_time": "2021-12-26T10:15:33.625Z"
   },
   {
    "duration": 3,
    "start_time": "2021-12-26T10:17:03.624Z"
   },
   {
    "duration": 6,
    "start_time": "2021-12-26T10:17:22.071Z"
   },
   {
    "duration": 11,
    "start_time": "2021-12-26T10:21:52.985Z"
   },
   {
    "duration": 2,
    "start_time": "2021-12-26T10:23:08.586Z"
   },
   {
    "duration": 6,
    "start_time": "2021-12-26T10:23:29.322Z"
   },
   {
    "duration": 5,
    "start_time": "2021-12-26T10:24:03.192Z"
   },
   {
    "duration": 296,
    "start_time": "2021-12-26T10:24:52.654Z"
   },
   {
    "duration": 20,
    "start_time": "2021-12-26T10:24:56.807Z"
   },
   {
    "duration": 35,
    "start_time": "2021-12-26T10:25:01.693Z"
   },
   {
    "duration": 16,
    "start_time": "2021-12-26T10:26:43.739Z"
   },
   {
    "duration": 16,
    "start_time": "2021-12-26T10:26:55.533Z"
   },
   {
    "duration": 15,
    "start_time": "2021-12-26T10:27:04.421Z"
   },
   {
    "duration": 16,
    "start_time": "2021-12-26T10:27:10.972Z"
   },
   {
    "duration": 19,
    "start_time": "2021-12-26T10:28:50.362Z"
   },
   {
    "duration": 11,
    "start_time": "2021-12-26T10:29:19.016Z"
   },
   {
    "duration": 4,
    "start_time": "2021-12-26T10:30:08.889Z"
   },
   {
    "duration": 7,
    "start_time": "2021-12-26T10:32:14.049Z"
   },
   {
    "duration": 7594,
    "start_time": "2021-12-26T10:33:35.934Z"
   },
   {
    "duration": 4027,
    "start_time": "2021-12-26T10:33:52.381Z"
   },
   {
    "duration": 4140,
    "start_time": "2021-12-26T10:35:42.939Z"
   },
   {
    "duration": 4255,
    "start_time": "2021-12-26T10:38:07.384Z"
   },
   {
    "duration": 3849,
    "start_time": "2021-12-26T10:38:21.041Z"
   },
   {
    "duration": 82,
    "start_time": "2021-12-26T10:38:40.560Z"
   },
   {
    "duration": 84,
    "start_time": "2021-12-26T10:38:43.687Z"
   },
   {
    "duration": 92,
    "start_time": "2021-12-26T10:38:48.195Z"
   },
   {
    "duration": 4213,
    "start_time": "2021-12-26T10:38:50.551Z"
   },
   {
    "duration": 3963,
    "start_time": "2021-12-26T10:39:38.352Z"
   },
   {
    "duration": 470,
    "start_time": "2021-12-26T10:40:47.117Z"
   },
   {
    "duration": 272,
    "start_time": "2021-12-26T10:40:58.317Z"
   },
   {
    "duration": 11,
    "start_time": "2021-12-26T10:41:02.167Z"
   },
   {
    "duration": 8,
    "start_time": "2021-12-26T10:41:41.094Z"
   },
   {
    "duration": 9,
    "start_time": "2021-12-26T10:41:47.738Z"
   },
   {
    "duration": 3469,
    "start_time": "2021-12-26T10:53:08.039Z"
   },
   {
    "duration": 5,
    "start_time": "2021-12-26T10:54:46.919Z"
   },
   {
    "duration": 10,
    "start_time": "2021-12-26T10:54:52.693Z"
   },
   {
    "duration": 363,
    "start_time": "2021-12-26T10:54:58.332Z"
   },
   {
    "duration": 54,
    "start_time": "2021-12-26T10:55:06.881Z"
   },
   {
    "duration": 12,
    "start_time": "2021-12-26T10:55:06.937Z"
   },
   {
    "duration": 16,
    "start_time": "2021-12-26T10:55:06.952Z"
   },
   {
    "duration": 6,
    "start_time": "2021-12-26T10:55:06.970Z"
   },
   {
    "duration": 12,
    "start_time": "2021-12-26T10:55:06.978Z"
   },
   {
    "duration": 7,
    "start_time": "2021-12-26T10:55:06.992Z"
   },
   {
    "duration": 11,
    "start_time": "2021-12-26T10:55:07.001Z"
   },
   {
    "duration": 51,
    "start_time": "2021-12-26T10:55:07.014Z"
   },
   {
    "duration": 258,
    "start_time": "2021-12-26T10:55:07.069Z"
   },
   {
    "duration": 5,
    "start_time": "2021-12-26T10:55:07.329Z"
   },
   {
    "duration": 180,
    "start_time": "2021-12-26T10:55:07.335Z"
   },
   {
    "duration": 4,
    "start_time": "2021-12-26T10:55:07.517Z"
   },
   {
    "duration": 158,
    "start_time": "2021-12-26T10:55:07.522Z"
   },
   {
    "duration": 191,
    "start_time": "2021-12-26T10:55:07.681Z"
   },
   {
    "duration": 151,
    "start_time": "2021-12-26T10:55:07.874Z"
   },
   {
    "duration": 9,
    "start_time": "2021-12-26T10:55:08.026Z"
   },
   {
    "duration": 26,
    "start_time": "2021-12-26T10:55:08.036Z"
   },
   {
    "duration": 5,
    "start_time": "2021-12-26T10:55:08.064Z"
   },
   {
    "duration": 5,
    "start_time": "2021-12-26T10:55:08.071Z"
   },
   {
    "duration": 3,
    "start_time": "2021-12-26T10:55:08.078Z"
   },
   {
    "duration": 6,
    "start_time": "2021-12-26T10:55:08.083Z"
   },
   {
    "duration": 10,
    "start_time": "2021-12-26T10:55:08.091Z"
   },
   {
    "duration": 61,
    "start_time": "2021-12-26T10:55:08.102Z"
   },
   {
    "duration": 3,
    "start_time": "2021-12-26T10:55:08.165Z"
   },
   {
    "duration": 7,
    "start_time": "2021-12-26T10:55:08.170Z"
   },
   {
    "duration": 367,
    "start_time": "2021-12-26T10:55:08.179Z"
   },
   {
    "duration": 12,
    "start_time": "2021-12-26T10:55:08.550Z"
   },
   {
    "duration": 8,
    "start_time": "2021-12-26T10:55:08.564Z"
   },
   {
    "duration": 6,
    "start_time": "2021-12-26T10:55:08.574Z"
   },
   {
    "duration": 18,
    "start_time": "2021-12-26T10:55:08.582Z"
   },
   {
    "duration": 7,
    "start_time": "2021-12-26T10:55:08.602Z"
   },
   {
    "duration": 10,
    "start_time": "2021-12-26T10:55:08.610Z"
   },
   {
    "duration": 42,
    "start_time": "2021-12-26T10:55:08.622Z"
   },
   {
    "duration": 11,
    "start_time": "2021-12-26T10:55:08.666Z"
   },
   {
    "duration": 9,
    "start_time": "2021-12-26T10:55:08.679Z"
   },
   {
    "duration": 7,
    "start_time": "2021-12-26T10:55:08.689Z"
   },
   {
    "duration": 7,
    "start_time": "2021-12-26T10:55:08.698Z"
   },
   {
    "duration": 9,
    "start_time": "2021-12-26T10:55:08.706Z"
   },
   {
    "duration": 53,
    "start_time": "2021-12-26T10:55:08.717Z"
   },
   {
    "duration": 16,
    "start_time": "2021-12-26T10:55:08.772Z"
   },
   {
    "duration": 143,
    "start_time": "2021-12-26T10:55:08.790Z"
   },
   {
    "duration": 10,
    "start_time": "2021-12-26T10:55:08.935Z"
   },
   {
    "duration": 176,
    "start_time": "2021-12-26T10:55:08.946Z"
   },
   {
    "duration": 11,
    "start_time": "2021-12-26T10:55:09.124Z"
   },
   {
    "duration": 7051,
    "start_time": "2021-12-26T10:55:09.136Z"
   },
   {
    "duration": -285,
    "start_time": "2021-12-26T10:55:16.474Z"
   },
   {
    "duration": -289,
    "start_time": "2021-12-26T10:55:16.480Z"
   },
   {
    "duration": -294,
    "start_time": "2021-12-26T10:55:16.486Z"
   },
   {
    "duration": -301,
    "start_time": "2021-12-26T10:55:16.494Z"
   },
   {
    "duration": -306,
    "start_time": "2021-12-26T10:55:16.500Z"
   },
   {
    "duration": -310,
    "start_time": "2021-12-26T10:55:16.505Z"
   },
   {
    "duration": 7,
    "start_time": "2021-12-26T10:55:16.373Z"
   },
   {
    "duration": 49,
    "start_time": "2021-12-26T10:55:23.692Z"
   },
   {
    "duration": 11,
    "start_time": "2021-12-26T10:55:23.743Z"
   },
   {
    "duration": 11,
    "start_time": "2021-12-26T10:55:23.757Z"
   },
   {
    "duration": 8,
    "start_time": "2021-12-26T10:55:23.770Z"
   },
   {
    "duration": 17,
    "start_time": "2021-12-26T10:55:23.780Z"
   },
   {
    "duration": 6,
    "start_time": "2021-12-26T10:55:23.799Z"
   },
   {
    "duration": 10,
    "start_time": "2021-12-26T10:55:23.807Z"
   },
   {
    "duration": 6,
    "start_time": "2021-12-26T10:55:23.819Z"
   },
   {
    "duration": 234,
    "start_time": "2021-12-26T10:55:23.862Z"
   },
   {
    "duration": 4,
    "start_time": "2021-12-26T10:55:24.099Z"
   },
   {
    "duration": 177,
    "start_time": "2021-12-26T10:55:24.105Z"
   },
   {
    "duration": 4,
    "start_time": "2021-12-26T10:55:24.284Z"
   },
   {
    "duration": 153,
    "start_time": "2021-12-26T10:55:24.290Z"
   },
   {
    "duration": 184,
    "start_time": "2021-12-26T10:55:24.445Z"
   },
   {
    "duration": 153,
    "start_time": "2021-12-26T10:55:24.631Z"
   },
   {
    "duration": 9,
    "start_time": "2021-12-26T10:55:24.785Z"
   },
   {
    "duration": 8,
    "start_time": "2021-12-26T10:55:24.796Z"
   },
   {
    "duration": 13,
    "start_time": "2021-12-26T10:55:24.805Z"
   },
   {
    "duration": 9,
    "start_time": "2021-12-26T10:55:24.820Z"
   },
   {
    "duration": 30,
    "start_time": "2021-12-26T10:55:24.831Z"
   },
   {
    "duration": 15,
    "start_time": "2021-12-26T10:55:24.863Z"
   },
   {
    "duration": 19,
    "start_time": "2021-12-26T10:55:24.880Z"
   },
   {
    "duration": 27,
    "start_time": "2021-12-26T10:55:24.901Z"
   },
   {
    "duration": 4,
    "start_time": "2021-12-26T10:55:24.930Z"
   },
   {
    "duration": 24,
    "start_time": "2021-12-26T10:55:24.936Z"
   },
   {
    "duration": 366,
    "start_time": "2021-12-26T10:55:24.962Z"
   },
   {
    "duration": 10,
    "start_time": "2021-12-26T10:55:25.333Z"
   },
   {
    "duration": 7,
    "start_time": "2021-12-26T10:55:25.360Z"
   },
   {
    "duration": 7,
    "start_time": "2021-12-26T10:55:25.369Z"
   },
   {
    "duration": 12,
    "start_time": "2021-12-26T10:55:25.378Z"
   },
   {
    "duration": 5,
    "start_time": "2021-12-26T10:55:25.392Z"
   },
   {
    "duration": 10,
    "start_time": "2021-12-26T10:55:25.399Z"
   },
   {
    "duration": 50,
    "start_time": "2021-12-26T10:55:25.411Z"
   },
   {
    "duration": 10,
    "start_time": "2021-12-26T10:55:25.463Z"
   },
   {
    "duration": 10,
    "start_time": "2021-12-26T10:55:25.476Z"
   },
   {
    "duration": 7,
    "start_time": "2021-12-26T10:55:25.488Z"
   },
   {
    "duration": 6,
    "start_time": "2021-12-26T10:55:25.497Z"
   },
   {
    "duration": 58,
    "start_time": "2021-12-26T10:55:25.505Z"
   },
   {
    "duration": 15,
    "start_time": "2021-12-26T10:55:25.565Z"
   },
   {
    "duration": 31,
    "start_time": "2021-12-26T10:55:25.582Z"
   },
   {
    "duration": 148,
    "start_time": "2021-12-26T10:55:25.615Z"
   },
   {
    "duration": 12,
    "start_time": "2021-12-26T10:55:25.765Z"
   },
   {
    "duration": 1274,
    "start_time": "2021-12-26T10:55:25.779Z"
   },
   {
    "duration": 16,
    "start_time": "2021-12-26T10:55:27.056Z"
   },
   {
    "duration": 8,
    "start_time": "2021-12-26T10:55:27.074Z"
   },
   {
    "duration": 24,
    "start_time": "2021-12-26T10:55:27.084Z"
   },
   {
    "duration": 51,
    "start_time": "2021-12-26T10:55:27.110Z"
   },
   {
    "duration": 4,
    "start_time": "2021-12-26T10:55:27.163Z"
   },
   {
    "duration": 3614,
    "start_time": "2021-12-26T10:55:27.169Z"
   },
   {
    "duration": 11,
    "start_time": "2021-12-26T10:55:30.786Z"
   },
   {
    "duration": 7,
    "start_time": "2021-12-26T10:55:30.799Z"
   },
   {
    "duration": 3,
    "start_time": "2021-12-26T10:56:07.777Z"
   },
   {
    "duration": 4,
    "start_time": "2021-12-26T11:06:32.163Z"
   },
   {
    "duration": 5,
    "start_time": "2021-12-26T11:07:37.503Z"
   },
   {
    "duration": 395,
    "start_time": "2021-12-26T11:09:29.638Z"
   },
   {
    "duration": 515,
    "start_time": "2021-12-26T11:09:48.767Z"
   },
   {
    "duration": 464,
    "start_time": "2021-12-26T11:09:57.885Z"
   },
   {
    "duration": 4,
    "start_time": "2021-12-26T14:55:06.110Z"
   },
   {
    "duration": 326,
    "start_time": "2021-12-26T14:55:14.931Z"
   },
   {
    "duration": 5,
    "start_time": "2021-12-26T14:59:14.120Z"
   },
   {
    "duration": 270,
    "start_time": "2021-12-26T15:00:47.374Z"
   },
   {
    "duration": 842,
    "start_time": "2021-12-26T15:00:51.801Z"
   },
   {
    "duration": 17,
    "start_time": "2021-12-26T15:00:52.646Z"
   },
   {
    "duration": 27,
    "start_time": "2021-12-26T15:00:52.669Z"
   },
   {
    "duration": 8,
    "start_time": "2021-12-26T15:00:52.699Z"
   },
   {
    "duration": 13,
    "start_time": "2021-12-26T15:00:52.709Z"
   },
   {
    "duration": 45,
    "start_time": "2021-12-26T15:00:52.725Z"
   },
   {
    "duration": 14,
    "start_time": "2021-12-26T15:00:52.773Z"
   },
   {
    "duration": 6,
    "start_time": "2021-12-26T15:00:52.790Z"
   },
   {
    "duration": 525,
    "start_time": "2021-12-26T15:00:52.800Z"
   },
   {
    "duration": 8,
    "start_time": "2021-12-26T15:00:53.329Z"
   },
   {
    "duration": 314,
    "start_time": "2021-12-26T15:00:53.340Z"
   },
   {
    "duration": 20,
    "start_time": "2021-12-26T15:00:53.658Z"
   },
   {
    "duration": 275,
    "start_time": "2021-12-26T15:00:53.681Z"
   },
   {
    "duration": 346,
    "start_time": "2021-12-26T15:00:53.958Z"
   },
   {
    "duration": 238,
    "start_time": "2021-12-26T15:00:54.306Z"
   },
   {
    "duration": 22,
    "start_time": "2021-12-26T15:00:54.547Z"
   },
   {
    "duration": 7,
    "start_time": "2021-12-26T15:00:54.571Z"
   },
   {
    "duration": 9,
    "start_time": "2021-12-26T15:00:54.581Z"
   },
   {
    "duration": 8,
    "start_time": "2021-12-26T15:00:54.592Z"
   },
   {
    "duration": 5,
    "start_time": "2021-12-26T15:00:54.602Z"
   },
   {
    "duration": 11,
    "start_time": "2021-12-26T15:00:54.609Z"
   },
   {
    "duration": 62,
    "start_time": "2021-12-26T15:00:54.621Z"
   },
   {
    "duration": 29,
    "start_time": "2021-12-26T15:00:54.685Z"
   },
   {
    "duration": 9,
    "start_time": "2021-12-26T15:00:54.717Z"
   },
   {
    "duration": 41,
    "start_time": "2021-12-26T15:00:54.729Z"
   },
   {
    "duration": 649,
    "start_time": "2021-12-26T15:00:54.772Z"
   },
   {
    "duration": 10,
    "start_time": "2021-12-26T15:00:55.427Z"
   },
   {
    "duration": 27,
    "start_time": "2021-12-26T15:00:55.441Z"
   },
   {
    "duration": 8,
    "start_time": "2021-12-26T15:00:55.471Z"
   },
   {
    "duration": 15,
    "start_time": "2021-12-26T15:00:55.482Z"
   },
   {
    "duration": 5,
    "start_time": "2021-12-26T15:00:55.500Z"
   },
   {
    "duration": 10,
    "start_time": "2021-12-26T15:00:55.508Z"
   },
   {
    "duration": 51,
    "start_time": "2021-12-26T15:00:55.520Z"
   },
   {
    "duration": 14,
    "start_time": "2021-12-26T15:00:55.573Z"
   },
   {
    "duration": 10,
    "start_time": "2021-12-26T15:00:55.589Z"
   },
   {
    "duration": 8,
    "start_time": "2021-12-26T15:00:55.602Z"
   },
   {
    "duration": 54,
    "start_time": "2021-12-26T15:00:55.613Z"
   },
   {
    "duration": 13,
    "start_time": "2021-12-26T15:00:55.670Z"
   },
   {
    "duration": 22,
    "start_time": "2021-12-26T15:00:55.686Z"
   },
   {
    "duration": 14,
    "start_time": "2021-12-26T15:00:55.710Z"
   },
   {
    "duration": 263,
    "start_time": "2021-12-26T15:00:55.726Z"
   },
   {
    "duration": 16,
    "start_time": "2021-12-26T15:00:55.992Z"
   },
   {
    "duration": 295,
    "start_time": "2021-12-26T15:00:56.010Z"
   },
   {
    "duration": 14,
    "start_time": "2021-12-26T15:00:56.307Z"
   },
   {
    "duration": 7,
    "start_time": "2021-12-26T15:00:56.324Z"
   },
   {
    "duration": 56,
    "start_time": "2021-12-26T15:00:56.333Z"
   },
   {
    "duration": 29,
    "start_time": "2021-12-26T15:00:56.392Z"
   },
   {
    "duration": 4,
    "start_time": "2021-12-26T15:00:56.423Z"
   },
   {
    "duration": 4713,
    "start_time": "2021-12-26T15:00:56.429Z"
   },
   {
    "duration": 24,
    "start_time": "2021-12-26T15:01:01.145Z"
   },
   {
    "duration": 13,
    "start_time": "2021-12-26T15:01:01.171Z"
   },
   {
    "duration": 859,
    "start_time": "2021-12-26T15:01:01.186Z"
   },
   {
    "duration": 5,
    "start_time": "2021-12-26T15:01:02.048Z"
   },
   {
    "duration": 586,
    "start_time": "2021-12-26T15:01:02.055Z"
   },
   {
    "duration": 83,
    "start_time": "2021-12-26T15:02:52.819Z"
   },
   {
    "duration": 5,
    "start_time": "2021-12-26T15:05:14.211Z"
   },
   {
    "duration": 5,
    "start_time": "2021-12-26T15:05:48.890Z"
   },
   {
    "duration": 562,
    "start_time": "2021-12-26T15:05:49.939Z"
   },
   {
    "duration": 2744,
    "start_time": "2021-12-26T15:11:10.374Z"
   },
   {
    "duration": 425,
    "start_time": "2021-12-26T15:11:42.906Z"
   },
   {
    "duration": 2149,
    "start_time": "2021-12-26T15:12:02.714Z"
   },
   {
    "duration": 2220,
    "start_time": "2021-12-26T15:12:28.569Z"
   },
   {
    "duration": 659,
    "start_time": "2021-12-26T15:13:04.317Z"
   },
   {
    "duration": 348,
    "start_time": "2021-12-26T15:13:25.095Z"
   },
   {
    "duration": 271,
    "start_time": "2021-12-26T15:13:39.373Z"
   },
   {
    "duration": 273,
    "start_time": "2021-12-26T15:13:45.553Z"
   },
   {
    "duration": 935,
    "start_time": "2021-12-26T15:14:53.782Z"
   },
   {
    "duration": -987,
    "start_time": "2021-12-26T15:15:14.688Z"
   },
   {
    "duration": 280,
    "start_time": "2021-12-26T15:15:35.041Z"
   },
   {
    "duration": 316,
    "start_time": "2021-12-26T15:15:57.814Z"
   },
   {
    "duration": 300,
    "start_time": "2021-12-26T15:16:22.556Z"
   },
   {
    "duration": 1584,
    "start_time": "2021-12-26T15:18:23.221Z"
   },
   {
    "duration": 338,
    "start_time": "2021-12-26T15:19:40.086Z"
   },
   {
    "duration": 42,
    "start_time": "2021-12-26T15:19:48.050Z"
   },
   {
    "duration": 11,
    "start_time": "2021-12-26T15:20:03.313Z"
   },
   {
    "duration": 606,
    "start_time": "2021-12-26T15:22:13.592Z"
   },
   {
    "duration": 237,
    "start_time": "2021-12-26T15:22:36.324Z"
   },
   {
    "duration": 43,
    "start_time": "2021-12-26T15:22:40.022Z"
   },
   {
    "duration": 28,
    "start_time": "2021-12-26T15:25:40.259Z"
   },
   {
    "duration": 25,
    "start_time": "2021-12-26T15:25:45.881Z"
   },
   {
    "duration": 5,
    "start_time": "2021-12-26T15:26:55.403Z"
   },
   {
    "duration": 98,
    "start_time": "2021-12-26T15:27:34.441Z"
   },
   {
    "duration": 28,
    "start_time": "2021-12-26T15:27:46.971Z"
   },
   {
    "duration": 94,
    "start_time": "2021-12-26T15:27:56.052Z"
   },
   {
    "duration": 32,
    "start_time": "2021-12-26T15:28:02.056Z"
   },
   {
    "duration": 27,
    "start_time": "2021-12-26T15:28:40.208Z"
   },
   {
    "duration": 24,
    "start_time": "2021-12-26T15:28:44.829Z"
   },
   {
    "duration": 23,
    "start_time": "2021-12-26T15:28:57.476Z"
   },
   {
    "duration": 32,
    "start_time": "2021-12-26T15:29:05.243Z"
   },
   {
    "duration": 28,
    "start_time": "2021-12-26T15:29:11.041Z"
   },
   {
    "duration": 22,
    "start_time": "2021-12-26T15:30:45.875Z"
   },
   {
    "duration": 34,
    "start_time": "2021-12-26T15:30:50.113Z"
   },
   {
    "duration": 31,
    "start_time": "2021-12-26T15:31:25.673Z"
   },
   {
    "duration": 33,
    "start_time": "2021-12-26T15:33:29.076Z"
   },
   {
    "duration": 325,
    "start_time": "2021-12-26T15:36:30.018Z"
   },
   {
    "duration": 54,
    "start_time": "2021-12-26T15:36:38.544Z"
   },
   {
    "duration": 33,
    "start_time": "2021-12-26T15:36:46.797Z"
   },
   {
    "duration": 3,
    "start_time": "2021-12-26T15:39:02.491Z"
   },
   {
    "duration": 12,
    "start_time": "2021-12-26T15:40:00.507Z"
   },
   {
    "duration": 13,
    "start_time": "2021-12-26T15:40:06.684Z"
   },
   {
    "duration": 5,
    "start_time": "2021-12-26T15:45:05.782Z"
   },
   {
    "duration": 7967,
    "start_time": "2021-12-26T15:45:45.237Z"
   },
   {
    "duration": 556,
    "start_time": "2021-12-26T15:46:08.076Z"
   },
   {
    "duration": 38,
    "start_time": "2021-12-26T15:46:32.086Z"
   },
   {
    "duration": 33,
    "start_time": "2021-12-26T15:46:35.460Z"
   },
   {
    "duration": 7,
    "start_time": "2021-12-26T15:47:57.805Z"
   },
   {
    "duration": 838,
    "start_time": "2021-12-26T15:47:59.277Z"
   },
   {
    "duration": 32,
    "start_time": "2021-12-26T15:48:05.414Z"
   },
   {
    "duration": 107,
    "start_time": "2021-12-26T15:55:17.763Z"
   },
   {
    "duration": 17,
    "start_time": "2021-12-26T15:55:17.874Z"
   },
   {
    "duration": 22,
    "start_time": "2021-12-26T15:55:17.895Z"
   },
   {
    "duration": 49,
    "start_time": "2021-12-26T15:55:17.920Z"
   },
   {
    "duration": 17,
    "start_time": "2021-12-26T15:55:17.973Z"
   },
   {
    "duration": 10,
    "start_time": "2021-12-26T15:55:17.993Z"
   },
   {
    "duration": 12,
    "start_time": "2021-12-26T15:55:18.006Z"
   },
   {
    "duration": 8,
    "start_time": "2021-12-26T15:55:18.067Z"
   },
   {
    "duration": 397,
    "start_time": "2021-12-26T15:55:18.078Z"
   },
   {
    "duration": 8,
    "start_time": "2021-12-26T15:55:18.478Z"
   },
   {
    "duration": 357,
    "start_time": "2021-12-26T15:55:18.490Z"
   },
   {
    "duration": 20,
    "start_time": "2021-12-26T15:55:18.849Z"
   },
   {
    "duration": 321,
    "start_time": "2021-12-26T15:55:18.871Z"
   },
   {
    "duration": 389,
    "start_time": "2021-12-26T15:55:19.195Z"
   },
   {
    "duration": 245,
    "start_time": "2021-12-26T15:55:19.587Z"
   },
   {
    "duration": 32,
    "start_time": "2021-12-26T15:55:19.835Z"
   },
   {
    "duration": 10,
    "start_time": "2021-12-26T15:55:19.870Z"
   },
   {
    "duration": 10,
    "start_time": "2021-12-26T15:55:19.882Z"
   },
   {
    "duration": 7,
    "start_time": "2021-12-26T15:55:19.895Z"
   },
   {
    "duration": 4,
    "start_time": "2021-12-26T15:55:19.904Z"
   },
   {
    "duration": 56,
    "start_time": "2021-12-26T15:55:19.911Z"
   },
   {
    "duration": 39,
    "start_time": "2021-12-26T15:55:19.970Z"
   },
   {
    "duration": 29,
    "start_time": "2021-12-26T15:55:20.020Z"
   },
   {
    "duration": 6,
    "start_time": "2021-12-26T15:55:20.069Z"
   },
   {
    "duration": 20,
    "start_time": "2021-12-26T15:55:20.079Z"
   },
   {
    "duration": 680,
    "start_time": "2021-12-26T15:55:20.101Z"
   },
   {
    "duration": 17,
    "start_time": "2021-12-26T15:55:20.785Z"
   },
   {
    "duration": 9,
    "start_time": "2021-12-26T15:55:20.805Z"
   },
   {
    "duration": 9,
    "start_time": "2021-12-26T15:55:20.817Z"
   },
   {
    "duration": 55,
    "start_time": "2021-12-26T15:55:20.829Z"
   },
   {
    "duration": 6,
    "start_time": "2021-12-26T15:55:20.888Z"
   },
   {
    "duration": 10,
    "start_time": "2021-12-26T15:55:20.897Z"
   },
   {
    "duration": 12,
    "start_time": "2021-12-26T15:55:20.911Z"
   },
   {
    "duration": 12,
    "start_time": "2021-12-26T15:55:20.968Z"
   },
   {
    "duration": 14,
    "start_time": "2021-12-26T15:55:20.984Z"
   },
   {
    "duration": 13,
    "start_time": "2021-12-26T15:55:21.002Z"
   },
   {
    "duration": 53,
    "start_time": "2021-12-26T15:55:21.018Z"
   },
   {
    "duration": 17,
    "start_time": "2021-12-26T15:55:21.074Z"
   },
   {
    "duration": 20,
    "start_time": "2021-12-26T15:55:21.094Z"
   },
   {
    "duration": 54,
    "start_time": "2021-12-26T15:55:21.117Z"
   },
   {
    "duration": 272,
    "start_time": "2021-12-26T15:55:21.174Z"
   },
   {
    "duration": 30,
    "start_time": "2021-12-26T15:55:21.449Z"
   },
   {
    "duration": 300,
    "start_time": "2021-12-26T15:55:21.482Z"
   },
   {
    "duration": 23,
    "start_time": "2021-12-26T15:55:21.785Z"
   },
   {
    "duration": 7,
    "start_time": "2021-12-26T15:55:21.811Z"
   },
   {
    "duration": 61,
    "start_time": "2021-12-26T15:55:21.821Z"
   },
   {
    "duration": 27,
    "start_time": "2021-12-26T15:55:21.884Z"
   },
   {
    "duration": 5,
    "start_time": "2021-12-26T15:55:21.913Z"
   },
   {
    "duration": 5559,
    "start_time": "2021-12-26T15:55:21.920Z"
   },
   {
    "duration": 14,
    "start_time": "2021-12-26T15:55:27.482Z"
   },
   {
    "duration": 8,
    "start_time": "2021-12-26T15:55:27.499Z"
   },
   {
    "duration": 890,
    "start_time": "2021-12-26T15:55:27.509Z"
   },
   {
    "duration": 4,
    "start_time": "2021-12-26T15:55:28.402Z"
   },
   {
    "duration": 578,
    "start_time": "2021-12-26T15:55:28.409Z"
   },
   {
    "duration": 6,
    "start_time": "2021-12-26T15:55:28.989Z"
   },
   {
    "duration": 594,
    "start_time": "2021-12-26T15:55:28.997Z"
   },
   {
    "duration": 6,
    "start_time": "2021-12-26T15:55:29.593Z"
   },
   {
    "duration": 704,
    "start_time": "2021-12-26T15:55:29.601Z"
   },
   {
    "duration": 37,
    "start_time": "2021-12-26T15:55:30.307Z"
   },
   {
    "duration": 45,
    "start_time": "2021-12-26T15:55:30.347Z"
   },
   {
    "duration": 32,
    "start_time": "2021-12-26T15:55:30.395Z"
   },
   {
    "duration": 71,
    "start_time": "2021-12-26T15:55:30.429Z"
   },
   {
    "duration": 827,
    "start_time": "2021-12-27T10:04:43.045Z"
   },
   {
    "duration": 14,
    "start_time": "2021-12-27T10:04:43.875Z"
   },
   {
    "duration": 49,
    "start_time": "2021-12-27T10:04:43.895Z"
   },
   {
    "duration": 6,
    "start_time": "2021-12-27T10:04:43.946Z"
   },
   {
    "duration": 25,
    "start_time": "2021-12-27T10:04:43.954Z"
   },
   {
    "duration": 18,
    "start_time": "2021-12-27T10:04:43.982Z"
   },
   {
    "duration": 27,
    "start_time": "2021-12-27T10:04:44.004Z"
   },
   {
    "duration": 10,
    "start_time": "2021-12-27T10:04:44.034Z"
   },
   {
    "duration": 465,
    "start_time": "2021-12-27T10:04:44.047Z"
   },
   {
    "duration": 12,
    "start_time": "2021-12-27T10:04:44.514Z"
   },
   {
    "duration": 266,
    "start_time": "2021-12-27T10:04:44.529Z"
   },
   {
    "duration": 6,
    "start_time": "2021-12-27T10:04:44.798Z"
   },
   {
    "duration": 239,
    "start_time": "2021-12-27T10:04:44.807Z"
   },
   {
    "duration": 332,
    "start_time": "2021-12-27T10:04:45.049Z"
   },
   {
    "duration": 233,
    "start_time": "2021-12-27T10:04:45.383Z"
   },
   {
    "duration": 13,
    "start_time": "2021-12-27T10:04:45.619Z"
   },
   {
    "duration": 6,
    "start_time": "2021-12-27T10:04:45.635Z"
   },
   {
    "duration": 7,
    "start_time": "2021-12-27T10:04:45.644Z"
   },
   {
    "duration": 6,
    "start_time": "2021-12-27T10:04:45.654Z"
   },
   {
    "duration": 4,
    "start_time": "2021-12-27T10:04:45.663Z"
   },
   {
    "duration": 62,
    "start_time": "2021-12-27T10:04:45.669Z"
   },
   {
    "duration": 14,
    "start_time": "2021-12-27T10:04:45.737Z"
   },
   {
    "duration": 24,
    "start_time": "2021-12-27T10:04:45.755Z"
   },
   {
    "duration": 10,
    "start_time": "2021-12-27T10:04:45.781Z"
   },
   {
    "duration": 36,
    "start_time": "2021-12-27T10:04:45.793Z"
   },
   {
    "duration": 637,
    "start_time": "2021-12-27T10:04:45.832Z"
   },
   {
    "duration": 14,
    "start_time": "2021-12-27T10:04:46.472Z"
   },
   {
    "duration": 35,
    "start_time": "2021-12-27T10:04:46.489Z"
   },
   {
    "duration": 7,
    "start_time": "2021-12-27T10:04:46.527Z"
   },
   {
    "duration": 25,
    "start_time": "2021-12-27T10:04:46.536Z"
   },
   {
    "duration": 6,
    "start_time": "2021-12-27T10:04:46.563Z"
   },
   {
    "duration": 8,
    "start_time": "2021-12-27T10:04:46.572Z"
   },
   {
    "duration": 44,
    "start_time": "2021-12-27T10:04:46.582Z"
   },
   {
    "duration": 17,
    "start_time": "2021-12-27T10:04:46.629Z"
   },
   {
    "duration": 11,
    "start_time": "2021-12-27T10:04:46.648Z"
   },
   {
    "duration": 10,
    "start_time": "2021-12-27T10:04:46.661Z"
   },
   {
    "duration": 19,
    "start_time": "2021-12-27T10:04:46.673Z"
   },
   {
    "duration": 37,
    "start_time": "2021-12-27T10:04:46.694Z"
   },
   {
    "duration": 20,
    "start_time": "2021-12-27T10:04:46.734Z"
   },
   {
    "duration": 12,
    "start_time": "2021-12-27T10:04:46.758Z"
   },
   {
    "duration": 266,
    "start_time": "2021-12-27T10:04:46.773Z"
   },
   {
    "duration": 16,
    "start_time": "2021-12-27T10:04:47.043Z"
   },
   {
    "duration": 272,
    "start_time": "2021-12-27T10:04:47.061Z"
   },
   {
    "duration": 14,
    "start_time": "2021-12-27T10:04:47.336Z"
   },
   {
    "duration": 13,
    "start_time": "2021-12-27T10:04:47.353Z"
   },
   {
    "duration": 25,
    "start_time": "2021-12-27T10:04:47.368Z"
   },
   {
    "duration": 25,
    "start_time": "2021-12-27T10:04:47.424Z"
   },
   {
    "duration": 4,
    "start_time": "2021-12-27T10:04:47.451Z"
   },
   {
    "duration": 4917,
    "start_time": "2021-12-27T10:04:47.458Z"
   },
   {
    "duration": 12,
    "start_time": "2021-12-27T10:04:52.377Z"
   },
   {
    "duration": 31,
    "start_time": "2021-12-27T10:04:52.393Z"
   },
   {
    "duration": 745,
    "start_time": "2021-12-27T10:04:52.427Z"
   },
   {
    "duration": 5,
    "start_time": "2021-12-27T10:04:53.175Z"
   },
   {
    "duration": 542,
    "start_time": "2021-12-27T10:04:53.182Z"
   },
   {
    "duration": 5,
    "start_time": "2021-12-27T10:04:53.727Z"
   },
   {
    "duration": 536,
    "start_time": "2021-12-27T10:04:53.734Z"
   },
   {
    "duration": 5,
    "start_time": "2021-12-27T10:04:54.273Z"
   },
   {
    "duration": 549,
    "start_time": "2021-12-27T10:04:54.280Z"
   },
   {
    "duration": 36,
    "start_time": "2021-12-27T10:04:54.832Z"
   },
   {
    "duration": 55,
    "start_time": "2021-12-27T10:04:54.871Z"
   },
   {
    "duration": 30,
    "start_time": "2021-12-27T10:04:54.929Z"
   },
   {
    "duration": 31,
    "start_time": "2021-12-27T10:04:54.961Z"
   },
   {
    "duration": 804,
    "start_time": "2021-12-28T17:27:13.990Z"
   },
   {
    "duration": 76,
    "start_time": "2021-12-28T17:27:18.256Z"
   },
   {
    "duration": 118,
    "start_time": "2021-12-28T17:28:16.407Z"
   },
   {
    "duration": 97,
    "start_time": "2021-12-28T17:31:21.220Z"
   },
   {
    "duration": 3,
    "start_time": "2021-12-28T17:38:32.876Z"
   },
   {
    "duration": 78,
    "start_time": "2021-12-28T17:38:32.891Z"
   },
   {
    "duration": 21,
    "start_time": "2021-12-28T17:38:32.972Z"
   },
   {
    "duration": 79,
    "start_time": "2021-12-28T17:38:32.998Z"
   },
   {
    "duration": 8,
    "start_time": "2021-12-28T17:38:33.080Z"
   },
   {
    "duration": 17,
    "start_time": "2021-12-28T17:38:33.091Z"
   },
   {
    "duration": 62,
    "start_time": "2021-12-28T17:38:33.112Z"
   },
   {
    "duration": 15,
    "start_time": "2021-12-28T17:38:33.177Z"
   },
   {
    "duration": 9,
    "start_time": "2021-12-28T17:38:33.196Z"
   },
   {
    "duration": 533,
    "start_time": "2021-12-28T17:38:33.211Z"
   },
   {
    "duration": 14,
    "start_time": "2021-12-28T17:38:33.749Z"
   },
   {
    "duration": 285,
    "start_time": "2021-12-28T17:38:33.771Z"
   },
   {
    "duration": 7,
    "start_time": "2021-12-28T17:38:34.066Z"
   },
   {
    "duration": 373,
    "start_time": "2021-12-28T17:38:34.077Z"
   },
   {
    "duration": 447,
    "start_time": "2021-12-28T17:38:34.453Z"
   },
   {
    "duration": 257,
    "start_time": "2021-12-28T17:38:34.902Z"
   },
   {
    "duration": 18,
    "start_time": "2021-12-28T17:38:35.162Z"
   },
   {
    "duration": 8,
    "start_time": "2021-12-28T17:38:35.182Z"
   },
   {
    "duration": 10,
    "start_time": "2021-12-28T17:38:35.192Z"
   },
   {
    "duration": 60,
    "start_time": "2021-12-28T17:38:35.205Z"
   },
   {
    "duration": 13,
    "start_time": "2021-12-28T17:38:35.267Z"
   },
   {
    "duration": 12,
    "start_time": "2021-12-28T17:38:35.284Z"
   },
   {
    "duration": 16,
    "start_time": "2021-12-28T17:38:35.298Z"
   },
   {
    "duration": 66,
    "start_time": "2021-12-28T17:38:35.317Z"
   },
   {
    "duration": 12,
    "start_time": "2021-12-28T17:38:35.385Z"
   },
   {
    "duration": 9,
    "start_time": "2021-12-28T17:38:35.400Z"
   },
   {
    "duration": 687,
    "start_time": "2021-12-28T17:38:35.411Z"
   },
   {
    "duration": 12,
    "start_time": "2021-12-28T17:38:36.104Z"
   },
   {
    "duration": 7,
    "start_time": "2021-12-28T17:38:36.119Z"
   },
   {
    "duration": 7,
    "start_time": "2021-12-28T17:38:36.129Z"
   },
   {
    "duration": 17,
    "start_time": "2021-12-28T17:38:36.171Z"
   },
   {
    "duration": 5,
    "start_time": "2021-12-28T17:38:36.191Z"
   },
   {
    "duration": 10,
    "start_time": "2021-12-28T17:38:36.198Z"
   },
   {
    "duration": 54,
    "start_time": "2021-12-28T17:38:36.211Z"
   },
   {
    "duration": 22,
    "start_time": "2021-12-28T17:38:36.268Z"
   },
   {
    "duration": 12,
    "start_time": "2021-12-28T17:38:36.295Z"
   },
   {
    "duration": 10,
    "start_time": "2021-12-28T17:38:36.310Z"
   },
   {
    "duration": 56,
    "start_time": "2021-12-28T17:38:36.323Z"
   },
   {
    "duration": 15,
    "start_time": "2021-12-28T17:38:36.382Z"
   },
   {
    "duration": 29,
    "start_time": "2021-12-28T17:38:36.400Z"
   },
   {
    "duration": 49,
    "start_time": "2021-12-28T17:38:36.433Z"
   },
   {
    "duration": 327,
    "start_time": "2021-12-28T17:38:36.485Z"
   },
   {
    "duration": 15,
    "start_time": "2021-12-28T17:38:36.815Z"
   },
   {
    "duration": 299,
    "start_time": "2021-12-28T17:38:36.833Z"
   },
   {
    "duration": 16,
    "start_time": "2021-12-28T17:38:37.135Z"
   },
   {
    "duration": 11,
    "start_time": "2021-12-28T17:38:37.164Z"
   },
   {
    "duration": 44,
    "start_time": "2021-12-28T17:38:37.179Z"
   },
   {
    "duration": 74,
    "start_time": "2021-12-28T17:38:37.226Z"
   },
   {
    "duration": 5,
    "start_time": "2021-12-28T17:38:37.303Z"
   },
   {
    "duration": 6390,
    "start_time": "2021-12-28T17:38:37.311Z"
   },
   {
    "duration": 13,
    "start_time": "2021-12-28T17:38:43.703Z"
   },
   {
    "duration": 8,
    "start_time": "2021-12-28T17:38:43.718Z"
   },
   {
    "duration": 877,
    "start_time": "2021-12-28T17:38:43.728Z"
   },
   {
    "duration": 5,
    "start_time": "2021-12-28T17:38:44.663Z"
   },
   {
    "duration": 942,
    "start_time": "2021-12-28T17:38:44.670Z"
   },
   {
    "duration": 5,
    "start_time": "2021-12-28T17:38:45.615Z"
   },
   {
    "duration": 570,
    "start_time": "2021-12-28T17:38:45.623Z"
   },
   {
    "duration": 5,
    "start_time": "2021-12-28T17:38:46.195Z"
   },
   {
    "duration": 603,
    "start_time": "2021-12-28T17:38:46.203Z"
   },
   {
    "duration": 37,
    "start_time": "2021-12-28T17:38:46.809Z"
   },
   {
    "duration": 48,
    "start_time": "2021-12-28T17:38:46.848Z"
   },
   {
    "duration": 32,
    "start_time": "2021-12-28T17:38:46.898Z"
   },
   {
    "duration": 65,
    "start_time": "2021-12-28T17:38:46.933Z"
   },
   {
    "duration": 15,
    "start_time": "2021-12-28T17:38:55.564Z"
   },
   {
    "duration": 103,
    "start_time": "2021-12-28T17:40:17.281Z"
   },
   {
    "duration": 265,
    "start_time": "2021-12-28T17:40:23.358Z"
   },
   {
    "duration": 100,
    "start_time": "2021-12-28T17:40:33.112Z"
   },
   {
    "duration": 11,
    "start_time": "2021-12-28T17:40:37.871Z"
   },
   {
    "duration": 4,
    "start_time": "2021-12-28T17:40:55.151Z"
   },
   {
    "duration": 74,
    "start_time": "2021-12-28T17:40:56.178Z"
   },
   {
    "duration": 15,
    "start_time": "2021-12-28T17:40:56.629Z"
   },
   {
    "duration": 21,
    "start_time": "2021-12-28T17:40:57.160Z"
   },
   {
    "duration": 6,
    "start_time": "2021-12-28T17:40:57.376Z"
   },
   {
    "duration": 13,
    "start_time": "2021-12-28T17:40:57.587Z"
   },
   {
    "duration": 8,
    "start_time": "2021-12-28T17:40:57.784Z"
   },
   {
    "duration": 12,
    "start_time": "2021-12-28T17:40:58.176Z"
   },
   {
    "duration": 8,
    "start_time": "2021-12-28T17:40:58.369Z"
   },
   {
    "duration": 559,
    "start_time": "2021-12-28T17:40:58.569Z"
   },
   {
    "duration": 8,
    "start_time": "2021-12-28T17:40:59.131Z"
   },
   {
    "duration": 308,
    "start_time": "2021-12-28T17:40:59.142Z"
   },
   {
    "duration": 13,
    "start_time": "2021-12-28T17:40:59.463Z"
   },
   {
    "duration": 399,
    "start_time": "2021-12-28T17:40:59.481Z"
   },
   {
    "duration": 441,
    "start_time": "2021-12-28T17:40:59.884Z"
   },
   {
    "duration": 248,
    "start_time": "2021-12-28T17:41:00.328Z"
   },
   {
    "duration": 13,
    "start_time": "2021-12-28T17:41:00.581Z"
   },
   {
    "duration": 10,
    "start_time": "2021-12-28T17:41:00.597Z"
   },
   {
    "duration": 9,
    "start_time": "2021-12-28T17:41:00.818Z"
   },
   {
    "duration": 8,
    "start_time": "2021-12-28T17:41:06.358Z"
   },
   {
    "duration": 5,
    "start_time": "2021-12-28T17:41:09.349Z"
   },
   {
    "duration": 6,
    "start_time": "2021-12-28T17:41:09.920Z"
   },
   {
    "duration": 18,
    "start_time": "2021-12-28T17:41:16.509Z"
   },
   {
    "duration": 27,
    "start_time": "2021-12-28T17:41:18.784Z"
   },
   {
    "duration": 5,
    "start_time": "2021-12-28T17:41:20.391Z"
   },
   {
    "duration": 8,
    "start_time": "2021-12-28T17:41:24.138Z"
   },
   {
    "duration": 644,
    "start_time": "2021-12-28T17:41:24.688Z"
   },
   {
    "duration": 13,
    "start_time": "2021-12-28T17:41:25.393Z"
   },
   {
    "duration": 8,
    "start_time": "2021-12-28T17:41:30.641Z"
   },
   {
    "duration": 41,
    "start_time": "2021-12-28T17:41:33.739Z"
   },
   {
    "duration": -842,
    "start_time": "2021-12-28T17:44:46.931Z"
   },
   {
    "duration": 402,
    "start_time": "2021-12-28T17:44:48.290Z"
   },
   {
    "duration": 5,
    "start_time": "2021-12-28T17:45:11.521Z"
   },
   {
    "duration": 71,
    "start_time": "2021-12-28T17:45:12.287Z"
   },
   {
    "duration": 16,
    "start_time": "2021-12-28T17:45:12.491Z"
   },
   {
    "duration": 18,
    "start_time": "2021-12-28T17:45:12.890Z"
   },
   {
    "duration": 6,
    "start_time": "2021-12-28T17:45:13.090Z"
   },
   {
    "duration": 13,
    "start_time": "2021-12-28T17:45:13.296Z"
   },
   {
    "duration": 8,
    "start_time": "2021-12-28T17:45:13.499Z"
   },
   {
    "duration": 12,
    "start_time": "2021-12-28T17:45:13.712Z"
   },
   {
    "duration": 7,
    "start_time": "2021-12-28T17:45:13.881Z"
   },
   {
    "duration": 373,
    "start_time": "2021-12-28T17:45:14.071Z"
   },
   {
    "duration": 25,
    "start_time": "2021-12-28T17:45:14.448Z"
   },
   {
    "duration": 304,
    "start_time": "2021-12-28T17:45:14.494Z"
   },
   {
    "duration": 5,
    "start_time": "2021-12-28T17:45:14.801Z"
   },
   {
    "duration": 227,
    "start_time": "2021-12-28T17:45:14.880Z"
   },
   {
    "duration": 293,
    "start_time": "2021-12-28T17:45:15.285Z"
   },
   {
    "duration": 251,
    "start_time": "2021-12-28T17:45:15.581Z"
   },
   {
    "duration": 34,
    "start_time": "2021-12-28T17:45:15.835Z"
   },
   {
    "duration": 8,
    "start_time": "2021-12-28T17:45:15.911Z"
   },
   {
    "duration": 8,
    "start_time": "2021-12-28T17:45:16.112Z"
   },
   {
    "duration": 10,
    "start_time": "2021-12-28T17:45:19.315Z"
   },
   {
    "duration": 6,
    "start_time": "2021-12-28T17:45:19.587Z"
   },
   {
    "duration": 8,
    "start_time": "2021-12-28T17:45:19.803Z"
   },
   {
    "duration": 21,
    "start_time": "2021-12-28T17:45:20.995Z"
   },
   {
    "duration": 41,
    "start_time": "2021-12-28T17:45:21.374Z"
   },
   {
    "duration": 7,
    "start_time": "2021-12-28T17:45:22.014Z"
   },
   {
    "duration": 9,
    "start_time": "2021-12-28T17:45:23.326Z"
   },
   {
    "duration": 667,
    "start_time": "2021-12-28T17:45:24.748Z"
   },
   {
    "duration": 12,
    "start_time": "2021-12-28T17:45:25.417Z"
   },
   {
    "duration": 9,
    "start_time": "2021-12-28T17:45:31.740Z"
   },
   {
    "duration": 385,
    "start_time": "2021-12-28T17:45:32.954Z"
   },
   {
    "duration": 62089,
    "start_time": "2021-12-28T17:46:03.758Z"
   },
   {
    "duration": 459,
    "start_time": "2021-12-28T17:47:11.762Z"
   },
   {
    "duration": 9,
    "start_time": "2021-12-28T17:47:17.256Z"
   },
   {
    "duration": 482,
    "start_time": "2021-12-28T17:47:18.722Z"
   },
   {
    "duration": 81,
    "start_time": "2021-12-28T17:47:40.426Z"
   },
   {
    "duration": 72,
    "start_time": "2021-12-28T17:47:52.054Z"
   },
   {
    "duration": 105,
    "start_time": "2021-12-28T17:48:07.854Z"
   },
   {
    "duration": 13,
    "start_time": "2021-12-28T17:48:17.496Z"
   },
   {
    "duration": 16,
    "start_time": "2021-12-28T17:48:27.498Z"
   },
   {
    "duration": 14,
    "start_time": "2021-12-28T17:48:40.736Z"
   },
   {
    "duration": 101,
    "start_time": "2021-12-28T17:49:50.846Z"
   },
   {
    "duration": 13,
    "start_time": "2021-12-28T17:51:12.654Z"
   },
   {
    "duration": 9,
    "start_time": "2021-12-28T17:51:46.706Z"
   },
   {
    "duration": 355,
    "start_time": "2021-12-28T17:53:09.177Z"
   },
   {
    "duration": 6,
    "start_time": "2021-12-28T17:53:14.745Z"
   },
   {
    "duration": 15,
    "start_time": "2021-12-28T17:54:31.491Z"
   },
   {
    "duration": 7,
    "start_time": "2021-12-28T17:54:40.507Z"
   },
   {
    "duration": 6,
    "start_time": "2021-12-28T17:54:43.321Z"
   },
   {
    "duration": 6,
    "start_time": "2021-12-28T17:54:50.050Z"
   },
   {
    "duration": 95,
    "start_time": "2021-12-28T17:55:12.507Z"
   },
   {
    "duration": 640,
    "start_time": "2021-12-28T17:57:00.821Z"
   }
  ],
  "kernelspec": {
   "display_name": "Python 3",
   "language": "python",
   "name": "python3"
  },
  "language_info": {
   "codemirror_mode": {
    "name": "ipython",
    "version": 3
   },
   "file_extension": ".py",
   "mimetype": "text/x-python",
   "name": "python",
   "nbconvert_exporter": "python",
   "pygments_lexer": "ipython3",
   "version": "3.8.8"
  },
  "toc": {
   "base_numbering": 1,
   "nav_menu": {},
   "number_sections": false,
   "sideBar": true,
   "skip_h1_title": false,
   "title_cell": "Table of Contents",
   "title_sidebar": "Contents",
   "toc_cell": false,
   "toc_position": {
    "height": "calc(100% - 180px)",
    "left": "10px",
    "top": "150px",
    "width": "366.391px"
   },
   "toc_section_display": true,
   "toc_window_display": true
  }
 },
 "nbformat": 4,
 "nbformat_minor": 2
}